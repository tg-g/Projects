{
 "cells": [
  {
   "cell_type": "markdown",
   "id": "d3e0cf3c",
   "metadata": {},
   "source": [
    "#  Прогнозирование заказов такси"
   ]
  },
  {
   "cell_type": "markdown",
   "id": "e4abbd84",
   "metadata": {},
   "source": [
    "Компания «Чётенькое такси» собрала исторические данные о заказах такси в аэропортах. Чтобы привлекать больше водителей в период пиковой нагрузки, нужно спрогнозировать количество заказов такси на следующий час.  \n",
    "Значение метрики *RMSE* на тестовой выборке должно быть не больше 48.        \n",
    "\n",
    "Данные лежат в файле `taxi.csv`. Количество заказов находится в столбце `num_orders`."
   ]
  },
  {
   "cell_type": "markdown",
   "id": "29aba150",
   "metadata": {},
   "source": [
    "## Подготовка"
   ]
  },
  {
   "cell_type": "code",
   "execution_count": 1,
   "id": "0c8266c0",
   "metadata": {},
   "outputs": [
    {
     "name": "stdout",
     "output_type": "stream",
     "text": [
      "Requirement already satisfied: scikit-learn==1.4 in c:\\users\\smirn\\anaconda3\\lib\\site-packages (1.4.0)\n",
      "Requirement already satisfied: scipy>=1.6.0 in c:\\users\\smirn\\anaconda3\\lib\\site-packages (from scikit-learn==1.4) (1.9.1)\n",
      "Requirement already satisfied: joblib>=1.2.0 in c:\\users\\smirn\\anaconda3\\lib\\site-packages (from scikit-learn==1.4) (1.3.2)\n",
      "Requirement already satisfied: threadpoolctl>=2.0.0 in c:\\users\\smirn\\anaconda3\\lib\\site-packages (from scikit-learn==1.4) (2.2.0)\n",
      "Requirement already satisfied: numpy<2.0,>=1.19.5 in c:\\users\\smirn\\anaconda3\\lib\\site-packages (from scikit-learn==1.4) (1.21.5)\n"
     ]
    }
   ],
   "source": [
    "!pip install scikit-learn==1.4"
   ]
  },
  {
   "cell_type": "code",
   "execution_count": 2,
   "id": "c3a7e7db",
   "metadata": {
    "scrolled": true
   },
   "outputs": [],
   "source": [
    "import pandas as pd\n",
    "from statsmodels.tsa.seasonal import seasonal_decompose\n",
    "import matplotlib.pyplot as plt\n",
    "from sklearn.model_selection import train_test_split, GridSearchCV, TimeSeriesSplit\n",
    "from sklearn.linear_model import LinearRegression\n",
    "from sklearn.tree import DecisionTreeRegressor\n",
    "from sklearn.ensemble import RandomForestRegressor\n",
    "from sklearn.metrics import root_mean_squared_error\n",
    "from sklearn.preprocessing import StandardScaler\n",
    "import lightgbm as lgb\n",
    "from lightgbm import LGBMRegressor"
   ]
  },
  {
   "cell_type": "code",
   "execution_count": 3,
   "id": "3ed230df",
   "metadata": {
    "scrolled": true
   },
   "outputs": [
    {
     "data": {
      "text/plain": [
       "True"
      ]
     },
     "execution_count": 3,
     "metadata": {},
     "output_type": "execute_result"
    }
   ],
   "source": [
    "# data = pd.read_csv(\"/datasets/taxi.csv\", parse_dates=['datetime'])\n",
    "data = pd.read_csv(\"C://Users//smirn//Downloads//Практикум//датасеты//taxi.csv\", parse_dates=['datetime'])\n",
    "data = data.set_index('datetime')\n",
    "data.index.is_monotonic"
   ]
  },
  {
   "cell_type": "code",
   "execution_count": 4,
   "id": "12a29646",
   "metadata": {},
   "outputs": [
    {
     "data": {
      "text/html": [
       "<div>\n",
       "<style scoped>\n",
       "    .dataframe tbody tr th:only-of-type {\n",
       "        vertical-align: middle;\n",
       "    }\n",
       "\n",
       "    .dataframe tbody tr th {\n",
       "        vertical-align: top;\n",
       "    }\n",
       "\n",
       "    .dataframe thead th {\n",
       "        text-align: right;\n",
       "    }\n",
       "</style>\n",
       "<table border=\"1\" class=\"dataframe\">\n",
       "  <thead>\n",
       "    <tr style=\"text-align: right;\">\n",
       "      <th></th>\n",
       "      <th>num_orders</th>\n",
       "    </tr>\n",
       "    <tr>\n",
       "      <th>datetime</th>\n",
       "      <th></th>\n",
       "    </tr>\n",
       "  </thead>\n",
       "  <tbody>\n",
       "    <tr>\n",
       "      <th>2018-03-01 00:00:00</th>\n",
       "      <td>9</td>\n",
       "    </tr>\n",
       "    <tr>\n",
       "      <th>2018-03-01 00:10:00</th>\n",
       "      <td>14</td>\n",
       "    </tr>\n",
       "    <tr>\n",
       "      <th>2018-03-01 00:20:00</th>\n",
       "      <td>28</td>\n",
       "    </tr>\n",
       "    <tr>\n",
       "      <th>2018-03-01 00:30:00</th>\n",
       "      <td>20</td>\n",
       "    </tr>\n",
       "    <tr>\n",
       "      <th>2018-03-01 00:40:00</th>\n",
       "      <td>32</td>\n",
       "    </tr>\n",
       "    <tr>\n",
       "      <th>2018-03-01 00:50:00</th>\n",
       "      <td>21</td>\n",
       "    </tr>\n",
       "    <tr>\n",
       "      <th>2018-03-01 01:00:00</th>\n",
       "      <td>7</td>\n",
       "    </tr>\n",
       "    <tr>\n",
       "      <th>2018-03-01 01:10:00</th>\n",
       "      <td>5</td>\n",
       "    </tr>\n",
       "    <tr>\n",
       "      <th>2018-03-01 01:20:00</th>\n",
       "      <td>17</td>\n",
       "    </tr>\n",
       "    <tr>\n",
       "      <th>2018-03-01 01:30:00</th>\n",
       "      <td>12</td>\n",
       "    </tr>\n",
       "  </tbody>\n",
       "</table>\n",
       "</div>"
      ],
      "text/plain": [
       "                     num_orders\n",
       "datetime                       \n",
       "2018-03-01 00:00:00           9\n",
       "2018-03-01 00:10:00          14\n",
       "2018-03-01 00:20:00          28\n",
       "2018-03-01 00:30:00          20\n",
       "2018-03-01 00:40:00          32\n",
       "2018-03-01 00:50:00          21\n",
       "2018-03-01 01:00:00           7\n",
       "2018-03-01 01:10:00           5\n",
       "2018-03-01 01:20:00          17\n",
       "2018-03-01 01:30:00          12"
      ]
     },
     "execution_count": 4,
     "metadata": {},
     "output_type": "execute_result"
    }
   ],
   "source": [
    "data.head(10)"
   ]
  },
  {
   "cell_type": "markdown",
   "id": "87fa1303",
   "metadata": {},
   "source": [
    "Сделал `datatime` новым индексом."
   ]
  },
  {
   "cell_type": "markdown",
   "id": "7ede132b",
   "metadata": {},
   "source": [
    "## Анализ"
   ]
  },
  {
   "cell_type": "code",
   "execution_count": 5,
   "id": "5570b14b",
   "metadata": {},
   "outputs": [
    {
     "name": "stdout",
     "output_type": "stream",
     "text": [
      "<class 'pandas.core.frame.DataFrame'>\n",
      "DatetimeIndex: 26496 entries, 2018-03-01 00:00:00 to 2018-08-31 23:50:00\n",
      "Data columns (total 1 columns):\n",
      " #   Column      Non-Null Count  Dtype\n",
      "---  ------      --------------  -----\n",
      " 0   num_orders  26496 non-null  int64\n",
      "dtypes: int64(1)\n",
      "memory usage: 414.0 KB\n"
     ]
    }
   ],
   "source": [
    "data.info()"
   ]
  },
  {
   "cell_type": "code",
   "execution_count": 6,
   "id": "29618175",
   "metadata": {},
   "outputs": [
    {
     "data": {
      "text/html": [
       "<div>\n",
       "<style scoped>\n",
       "    .dataframe tbody tr th:only-of-type {\n",
       "        vertical-align: middle;\n",
       "    }\n",
       "\n",
       "    .dataframe tbody tr th {\n",
       "        vertical-align: top;\n",
       "    }\n",
       "\n",
       "    .dataframe thead th {\n",
       "        text-align: right;\n",
       "    }\n",
       "</style>\n",
       "<table border=\"1\" class=\"dataframe\">\n",
       "  <thead>\n",
       "    <tr style=\"text-align: right;\">\n",
       "      <th></th>\n",
       "      <th>num_orders</th>\n",
       "    </tr>\n",
       "  </thead>\n",
       "  <tbody>\n",
       "    <tr>\n",
       "      <th>count</th>\n",
       "      <td>26496.000000</td>\n",
       "    </tr>\n",
       "    <tr>\n",
       "      <th>mean</th>\n",
       "      <td>14.070463</td>\n",
       "    </tr>\n",
       "    <tr>\n",
       "      <th>std</th>\n",
       "      <td>9.211330</td>\n",
       "    </tr>\n",
       "    <tr>\n",
       "      <th>min</th>\n",
       "      <td>0.000000</td>\n",
       "    </tr>\n",
       "    <tr>\n",
       "      <th>25%</th>\n",
       "      <td>8.000000</td>\n",
       "    </tr>\n",
       "    <tr>\n",
       "      <th>50%</th>\n",
       "      <td>13.000000</td>\n",
       "    </tr>\n",
       "    <tr>\n",
       "      <th>75%</th>\n",
       "      <td>19.000000</td>\n",
       "    </tr>\n",
       "    <tr>\n",
       "      <th>max</th>\n",
       "      <td>119.000000</td>\n",
       "    </tr>\n",
       "  </tbody>\n",
       "</table>\n",
       "</div>"
      ],
      "text/plain": [
       "         num_orders\n",
       "count  26496.000000\n",
       "mean      14.070463\n",
       "std        9.211330\n",
       "min        0.000000\n",
       "25%        8.000000\n",
       "50%       13.000000\n",
       "75%       19.000000\n",
       "max      119.000000"
      ]
     },
     "execution_count": 6,
     "metadata": {},
     "output_type": "execute_result"
    }
   ],
   "source": [
    "data.describe()"
   ]
  },
  {
   "cell_type": "code",
   "execution_count": 7,
   "id": "8c13dd00",
   "metadata": {},
   "outputs": [
    {
     "data": {
      "text/plain": [
       "num_orders    0\n",
       "dtype: int64"
      ]
     },
     "execution_count": 7,
     "metadata": {},
     "output_type": "execute_result"
    }
   ],
   "source": [
    "data.isna().sum()"
   ]
  },
  {
   "cell_type": "code",
   "execution_count": 8,
   "id": "5d74474c",
   "metadata": {},
   "outputs": [
    {
     "data": {
      "image/png": "[encoded data removed]",
      "text/plain": [
       "<Figure size 640x480 with 1 Axes>"
      ]
     },
     "metadata": {},
     "output_type": "display_data"
    }
   ],
   "source": [
    "data.hist(bins=60);"
   ]
  },
  {
   "cell_type": "code",
   "execution_count": 9,
   "id": "5bb3568d",
   "metadata": {},
   "outputs": [],
   "source": [
    "data = data.resample('1H').sum()"
   ]
  },
  {
   "cell_type": "markdown",
   "id": "5d96caab",
   "metadata": {},
   "source": [
    "Сделал ресэмплирование, взял новый интервал в один час."
   ]
  },
  {
   "cell_type": "code",
   "execution_count": 10,
   "id": "e090f82f",
   "metadata": {
    "scrolled": true
   },
   "outputs": [
    {
     "data": {
      "image/png": "[encoded data removed]",
      "text/plain": [
       "<Figure size 640x480 with 1 Axes>"
      ]
     },
     "metadata": {},
     "output_type": "display_data"
    }
   ],
   "source": [
    "data.plot();"
   ]
  },
  {
   "cell_type": "markdown",
   "id": "b48830e1",
   "metadata": {},
   "source": [
    "Построил график временного ряда."
   ]
  },
  {
   "cell_type": "markdown",
   "id": "029f7c02",
   "metadata": {},
   "source": [
    "Выделил сезонность, тренд и остаток:"
   ]
  },
  {
   "cell_type": "code",
   "execution_count": 11,
   "id": "8692c2d2",
   "metadata": {},
   "outputs": [
    {
     "data": {
      "image/png": "[encoded data removed]",
      "text/plain": [
       "<Figure size 600x800 with 3 Axes>"
      ]
     },
     "metadata": {},
     "output_type": "display_data"
    }
   ],
   "source": [
    "decomposed = seasonal_decompose(data)\n",
    "plt.figure(figsize=(6,8))\n",
    "plt.subplot(311)\n",
    "decomposed.trend.plot(ax=plt.gca())\n",
    "plt.title('Trend')\n",
    "plt.subplot(312)\n",
    "decomposed.seasonal.plot(ax=plt.gca())\n",
    "plt.title('Seasonality')\n",
    "plt.subplot(313)\n",
    "decomposed.resid.plot(ax=plt.gca())\n",
    "plt.title('Residuals')\n",
    "plt.tight_layout()"
   ]
  },
  {
   "cell_type": "markdown",
   "id": "44da0874",
   "metadata": {},
   "source": [
    "Видно восходящий тренд у временного ряда. Следовательно, можно сделать вывод, что ряд нестационарный."
   ]
  },
  {
   "cell_type": "code",
   "execution_count": 12,
   "id": "d2f951ee",
   "metadata": {},
   "outputs": [
    {
     "data": {
      "image/png": "[encoded data removed]",
      "text/plain": [
       "<Figure size 640x480 with 1 Axes>"
      ]
     },
     "metadata": {},
     "output_type": "display_data"
    }
   ],
   "source": [
    "seasonality = decomposed.seasonal\n",
    "seasonality['2018-03-01':'2018-03-15'].plot();"
   ]
  },
  {
   "cell_type": "markdown",
   "id": "c95df318",
   "metadata": {},
   "source": [
    "Период сезонности - один день."
   ]
  },
  {
   "cell_type": "code",
   "execution_count": 13,
   "id": "be5e3333",
   "metadata": {},
   "outputs": [],
   "source": [
    "data['rolling_mean'] = data.rolling(100).mean()"
   ]
  },
  {
   "cell_type": "code",
   "execution_count": 14,
   "id": "d040f235",
   "metadata": {},
   "outputs": [
    {
     "data": {
      "image/png": "[encoded data removed]",
      "text/plain": [
       "<Figure size 640x480 with 1 Axes>"
      ]
     },
     "metadata": {},
     "output_type": "display_data"
    }
   ],
   "source": [
    "data.plot();"
   ]
  },
  {
   "cell_type": "code",
   "execution_count": 15,
   "id": "36b790cf",
   "metadata": {},
   "outputs": [],
   "source": [
    "data['std'] = data['num_orders'].rolling(100).std()"
   ]
  },
  {
   "cell_type": "code",
   "execution_count": 16,
   "id": "85c73d81",
   "metadata": {
    "scrolled": false
   },
   "outputs": [
    {
     "data": {
      "image/png": "[encoded data removed]",
      "text/plain": [
       "<Figure size 640x480 with 1 Axes>"
      ]
     },
     "metadata": {},
     "output_type": "display_data"
    }
   ],
   "source": [
    "data.plot();"
   ]
  },
  {
   "cell_type": "markdown",
   "id": "14b8295a",
   "metadata": {},
   "source": [
    "По графику видно, что дисперсия в конце растёт. Следовательно, ещё один аргумент в пользу нестационарности ряда."
   ]
  },
  {
   "cell_type": "code",
   "execution_count": 17,
   "id": "e50e1ee7",
   "metadata": {},
   "outputs": [
    {
     "data": {
      "image/png": "[encoded data removed]",
      "text/plain": [
       "<Figure size 640x480 with 1 Axes>"
      ]
     },
     "metadata": {},
     "output_type": "display_data"
    }
   ],
   "source": [
    "df = data.copy()\n",
    "df['num_orders'] = df['num_orders'] - df['num_orders'].shift()\n",
    "df['rolling_mean'] = df['num_orders'].rolling(100).mean()\n",
    "df['std'] = df['num_orders'].rolling(100).std()\n",
    "df.plot();"
   ]
  },
  {
   "cell_type": "markdown",
   "id": "95e5d373",
   "metadata": {},
   "source": [
    "При дифференцировании убивается тренд. Поэтому на графике скользящее среднее примерно ноль."
   ]
  },
  {
   "cell_type": "markdown",
   "id": "9683275a",
   "metadata": {},
   "source": [
    "## Обучение"
   ]
  },
  {
   "cell_type": "code",
   "execution_count": 18,
   "id": "10332ff0",
   "metadata": {},
   "outputs": [],
   "source": [
    "def make_features(data, max_lag, rolling_mean_size):\n",
    "    data_new = data.copy()    \n",
    "    data_new['month'] = data.index.month\n",
    "    data_new['day'] = data.index.day\n",
    "    data_new['hour'] = data.index.hour\n",
    "    \n",
    "    for lag in range(1, max_lag + 1):\n",
    "        data_new['lag_' + str(lag)] = data['num_orders'].shift(lag)\n",
    "    \n",
    "    data_new['rolling_mean'] = data_new['num_orders'].shift(1).rolling(rolling_mean_size).mean()\n",
    "    \n",
    "    return data_new"
   ]
  },
  {
   "cell_type": "code",
   "execution_count": 19,
   "id": "b8570bb5",
   "metadata": {},
   "outputs": [],
   "source": [
    "data_new = make_features(data, 24, 24)"
   ]
  },
  {
   "cell_type": "markdown",
   "id": "32001005",
   "metadata": {},
   "source": [
    "Добавил признаки в таблицу."
   ]
  },
  {
   "cell_type": "code",
   "execution_count": 20,
   "id": "2b295a0d",
   "metadata": {},
   "outputs": [],
   "source": [
    "data_new = data_new.drop('std', axis=1)"
   ]
  },
  {
   "cell_type": "code",
   "execution_count": 21,
   "id": "e1c509ec",
   "metadata": {},
   "outputs": [
    {
     "data": {
      "text/html": [
       "<div>\n",
       "<style scoped>\n",
       "    .dataframe tbody tr th:only-of-type {\n",
       "        vertical-align: middle;\n",
       "    }\n",
       "\n",
       "    .dataframe tbody tr th {\n",
       "        vertical-align: top;\n",
       "    }\n",
       "\n",
       "    .dataframe thead th {\n",
       "        text-align: right;\n",
       "    }\n",
       "</style>\n",
       "<table border=\"1\" class=\"dataframe\">\n",
       "  <thead>\n",
       "    <tr style=\"text-align: right;\">\n",
       "      <th></th>\n",
       "      <th>num_orders</th>\n",
       "      <th>rolling_mean</th>\n",
       "      <th>month</th>\n",
       "      <th>day</th>\n",
       "      <th>hour</th>\n",
       "      <th>lag_1</th>\n",
       "      <th>lag_2</th>\n",
       "      <th>lag_3</th>\n",
       "      <th>lag_4</th>\n",
       "      <th>lag_5</th>\n",
       "      <th>...</th>\n",
       "      <th>lag_15</th>\n",
       "      <th>lag_16</th>\n",
       "      <th>lag_17</th>\n",
       "      <th>lag_18</th>\n",
       "      <th>lag_19</th>\n",
       "      <th>lag_20</th>\n",
       "      <th>lag_21</th>\n",
       "      <th>lag_22</th>\n",
       "      <th>lag_23</th>\n",
       "      <th>lag_24</th>\n",
       "    </tr>\n",
       "    <tr>\n",
       "      <th>datetime</th>\n",
       "      <th></th>\n",
       "      <th></th>\n",
       "      <th></th>\n",
       "      <th></th>\n",
       "      <th></th>\n",
       "      <th></th>\n",
       "      <th></th>\n",
       "      <th></th>\n",
       "      <th></th>\n",
       "      <th></th>\n",
       "      <th></th>\n",
       "      <th></th>\n",
       "      <th></th>\n",
       "      <th></th>\n",
       "      <th></th>\n",
       "      <th></th>\n",
       "      <th></th>\n",
       "      <th></th>\n",
       "      <th></th>\n",
       "      <th></th>\n",
       "      <th></th>\n",
       "    </tr>\n",
       "  </thead>\n",
       "  <tbody>\n",
       "    <tr>\n",
       "      <th>2018-03-01 00:00:00</th>\n",
       "      <td>124</td>\n",
       "      <td>NaN</td>\n",
       "      <td>3</td>\n",
       "      <td>1</td>\n",
       "      <td>0</td>\n",
       "      <td>NaN</td>\n",
       "      <td>NaN</td>\n",
       "      <td>NaN</td>\n",
       "      <td>NaN</td>\n",
       "      <td>NaN</td>\n",
       "      <td>...</td>\n",
       "      <td>NaN</td>\n",
       "      <td>NaN</td>\n",
       "      <td>NaN</td>\n",
       "      <td>NaN</td>\n",
       "      <td>NaN</td>\n",
       "      <td>NaN</td>\n",
       "      <td>NaN</td>\n",
       "      <td>NaN</td>\n",
       "      <td>NaN</td>\n",
       "      <td>NaN</td>\n",
       "    </tr>\n",
       "    <tr>\n",
       "      <th>2018-03-01 01:00:00</th>\n",
       "      <td>85</td>\n",
       "      <td>NaN</td>\n",
       "      <td>3</td>\n",
       "      <td>1</td>\n",
       "      <td>1</td>\n",
       "      <td>124.0</td>\n",
       "      <td>NaN</td>\n",
       "      <td>NaN</td>\n",
       "      <td>NaN</td>\n",
       "      <td>NaN</td>\n",
       "      <td>...</td>\n",
       "      <td>NaN</td>\n",
       "      <td>NaN</td>\n",
       "      <td>NaN</td>\n",
       "      <td>NaN</td>\n",
       "      <td>NaN</td>\n",
       "      <td>NaN</td>\n",
       "      <td>NaN</td>\n",
       "      <td>NaN</td>\n",
       "      <td>NaN</td>\n",
       "      <td>NaN</td>\n",
       "    </tr>\n",
       "    <tr>\n",
       "      <th>2018-03-01 02:00:00</th>\n",
       "      <td>71</td>\n",
       "      <td>NaN</td>\n",
       "      <td>3</td>\n",
       "      <td>1</td>\n",
       "      <td>2</td>\n",
       "      <td>85.0</td>\n",
       "      <td>124.0</td>\n",
       "      <td>NaN</td>\n",
       "      <td>NaN</td>\n",
       "      <td>NaN</td>\n",
       "      <td>...</td>\n",
       "      <td>NaN</td>\n",
       "      <td>NaN</td>\n",
       "      <td>NaN</td>\n",
       "      <td>NaN</td>\n",
       "      <td>NaN</td>\n",
       "      <td>NaN</td>\n",
       "      <td>NaN</td>\n",
       "      <td>NaN</td>\n",
       "      <td>NaN</td>\n",
       "      <td>NaN</td>\n",
       "    </tr>\n",
       "    <tr>\n",
       "      <th>2018-03-01 03:00:00</th>\n",
       "      <td>66</td>\n",
       "      <td>NaN</td>\n",
       "      <td>3</td>\n",
       "      <td>1</td>\n",
       "      <td>3</td>\n",
       "      <td>71.0</td>\n",
       "      <td>85.0</td>\n",
       "      <td>124.0</td>\n",
       "      <td>NaN</td>\n",
       "      <td>NaN</td>\n",
       "      <td>...</td>\n",
       "      <td>NaN</td>\n",
       "      <td>NaN</td>\n",
       "      <td>NaN</td>\n",
       "      <td>NaN</td>\n",
       "      <td>NaN</td>\n",
       "      <td>NaN</td>\n",
       "      <td>NaN</td>\n",
       "      <td>NaN</td>\n",
       "      <td>NaN</td>\n",
       "      <td>NaN</td>\n",
       "    </tr>\n",
       "    <tr>\n",
       "      <th>2018-03-01 04:00:00</th>\n",
       "      <td>43</td>\n",
       "      <td>NaN</td>\n",
       "      <td>3</td>\n",
       "      <td>1</td>\n",
       "      <td>4</td>\n",
       "      <td>66.0</td>\n",
       "      <td>71.0</td>\n",
       "      <td>85.0</td>\n",
       "      <td>124.0</td>\n",
       "      <td>NaN</td>\n",
       "      <td>...</td>\n",
       "      <td>NaN</td>\n",
       "      <td>NaN</td>\n",
       "      <td>NaN</td>\n",
       "      <td>NaN</td>\n",
       "      <td>NaN</td>\n",
       "      <td>NaN</td>\n",
       "      <td>NaN</td>\n",
       "      <td>NaN</td>\n",
       "      <td>NaN</td>\n",
       "      <td>NaN</td>\n",
       "    </tr>\n",
       "    <tr>\n",
       "      <th>2018-03-01 05:00:00</th>\n",
       "      <td>6</td>\n",
       "      <td>NaN</td>\n",
       "      <td>3</td>\n",
       "      <td>1</td>\n",
       "      <td>5</td>\n",
       "      <td>43.0</td>\n",
       "      <td>66.0</td>\n",
       "      <td>71.0</td>\n",
       "      <td>85.0</td>\n",
       "      <td>124.0</td>\n",
       "      <td>...</td>\n",
       "      <td>NaN</td>\n",
       "      <td>NaN</td>\n",
       "      <td>NaN</td>\n",
       "      <td>NaN</td>\n",
       "      <td>NaN</td>\n",
       "      <td>NaN</td>\n",
       "      <td>NaN</td>\n",
       "      <td>NaN</td>\n",
       "      <td>NaN</td>\n",
       "      <td>NaN</td>\n",
       "    </tr>\n",
       "    <tr>\n",
       "      <th>2018-03-01 06:00:00</th>\n",
       "      <td>12</td>\n",
       "      <td>NaN</td>\n",
       "      <td>3</td>\n",
       "      <td>1</td>\n",
       "      <td>6</td>\n",
       "      <td>6.0</td>\n",
       "      <td>43.0</td>\n",
       "      <td>66.0</td>\n",
       "      <td>71.0</td>\n",
       "      <td>85.0</td>\n",
       "      <td>...</td>\n",
       "      <td>NaN</td>\n",
       "      <td>NaN</td>\n",
       "      <td>NaN</td>\n",
       "      <td>NaN</td>\n",
       "      <td>NaN</td>\n",
       "      <td>NaN</td>\n",
       "      <td>NaN</td>\n",
       "      <td>NaN</td>\n",
       "      <td>NaN</td>\n",
       "      <td>NaN</td>\n",
       "    </tr>\n",
       "    <tr>\n",
       "      <th>2018-03-01 07:00:00</th>\n",
       "      <td>15</td>\n",
       "      <td>NaN</td>\n",
       "      <td>3</td>\n",
       "      <td>1</td>\n",
       "      <td>7</td>\n",
       "      <td>12.0</td>\n",
       "      <td>6.0</td>\n",
       "      <td>43.0</td>\n",
       "      <td>66.0</td>\n",
       "      <td>71.0</td>\n",
       "      <td>...</td>\n",
       "      <td>NaN</td>\n",
       "      <td>NaN</td>\n",
       "      <td>NaN</td>\n",
       "      <td>NaN</td>\n",
       "      <td>NaN</td>\n",
       "      <td>NaN</td>\n",
       "      <td>NaN</td>\n",
       "      <td>NaN</td>\n",
       "      <td>NaN</td>\n",
       "      <td>NaN</td>\n",
       "    </tr>\n",
       "    <tr>\n",
       "      <th>2018-03-01 08:00:00</th>\n",
       "      <td>34</td>\n",
       "      <td>NaN</td>\n",
       "      <td>3</td>\n",
       "      <td>1</td>\n",
       "      <td>8</td>\n",
       "      <td>15.0</td>\n",
       "      <td>12.0</td>\n",
       "      <td>6.0</td>\n",
       "      <td>43.0</td>\n",
       "      <td>66.0</td>\n",
       "      <td>...</td>\n",
       "      <td>NaN</td>\n",
       "      <td>NaN</td>\n",
       "      <td>NaN</td>\n",
       "      <td>NaN</td>\n",
       "      <td>NaN</td>\n",
       "      <td>NaN</td>\n",
       "      <td>NaN</td>\n",
       "      <td>NaN</td>\n",
       "      <td>NaN</td>\n",
       "      <td>NaN</td>\n",
       "    </tr>\n",
       "    <tr>\n",
       "      <th>2018-03-01 09:00:00</th>\n",
       "      <td>69</td>\n",
       "      <td>NaN</td>\n",
       "      <td>3</td>\n",
       "      <td>1</td>\n",
       "      <td>9</td>\n",
       "      <td>34.0</td>\n",
       "      <td>15.0</td>\n",
       "      <td>12.0</td>\n",
       "      <td>6.0</td>\n",
       "      <td>43.0</td>\n",
       "      <td>...</td>\n",
       "      <td>NaN</td>\n",
       "      <td>NaN</td>\n",
       "      <td>NaN</td>\n",
       "      <td>NaN</td>\n",
       "      <td>NaN</td>\n",
       "      <td>NaN</td>\n",
       "      <td>NaN</td>\n",
       "      <td>NaN</td>\n",
       "      <td>NaN</td>\n",
       "      <td>NaN</td>\n",
       "    </tr>\n",
       "    <tr>\n",
       "      <th>2018-03-01 10:00:00</th>\n",
       "      <td>64</td>\n",
       "      <td>NaN</td>\n",
       "      <td>3</td>\n",
       "      <td>1</td>\n",
       "      <td>10</td>\n",
       "      <td>69.0</td>\n",
       "      <td>34.0</td>\n",
       "      <td>15.0</td>\n",
       "      <td>12.0</td>\n",
       "      <td>6.0</td>\n",
       "      <td>...</td>\n",
       "      <td>NaN</td>\n",
       "      <td>NaN</td>\n",
       "      <td>NaN</td>\n",
       "      <td>NaN</td>\n",
       "      <td>NaN</td>\n",
       "      <td>NaN</td>\n",
       "      <td>NaN</td>\n",
       "      <td>NaN</td>\n",
       "      <td>NaN</td>\n",
       "      <td>NaN</td>\n",
       "    </tr>\n",
       "    <tr>\n",
       "      <th>2018-03-01 11:00:00</th>\n",
       "      <td>96</td>\n",
       "      <td>NaN</td>\n",
       "      <td>3</td>\n",
       "      <td>1</td>\n",
       "      <td>11</td>\n",
       "      <td>64.0</td>\n",
       "      <td>69.0</td>\n",
       "      <td>34.0</td>\n",
       "      <td>15.0</td>\n",
       "      <td>12.0</td>\n",
       "      <td>...</td>\n",
       "      <td>NaN</td>\n",
       "      <td>NaN</td>\n",
       "      <td>NaN</td>\n",
       "      <td>NaN</td>\n",
       "      <td>NaN</td>\n",
       "      <td>NaN</td>\n",
       "      <td>NaN</td>\n",
       "      <td>NaN</td>\n",
       "      <td>NaN</td>\n",
       "      <td>NaN</td>\n",
       "    </tr>\n",
       "    <tr>\n",
       "      <th>2018-03-01 12:00:00</th>\n",
       "      <td>30</td>\n",
       "      <td>NaN</td>\n",
       "      <td>3</td>\n",
       "      <td>1</td>\n",
       "      <td>12</td>\n",
       "      <td>96.0</td>\n",
       "      <td>64.0</td>\n",
       "      <td>69.0</td>\n",
       "      <td>34.0</td>\n",
       "      <td>15.0</td>\n",
       "      <td>...</td>\n",
       "      <td>NaN</td>\n",
       "      <td>NaN</td>\n",
       "      <td>NaN</td>\n",
       "      <td>NaN</td>\n",
       "      <td>NaN</td>\n",
       "      <td>NaN</td>\n",
       "      <td>NaN</td>\n",
       "      <td>NaN</td>\n",
       "      <td>NaN</td>\n",
       "      <td>NaN</td>\n",
       "    </tr>\n",
       "    <tr>\n",
       "      <th>2018-03-01 13:00:00</th>\n",
       "      <td>32</td>\n",
       "      <td>NaN</td>\n",
       "      <td>3</td>\n",
       "      <td>1</td>\n",
       "      <td>13</td>\n",
       "      <td>30.0</td>\n",
       "      <td>96.0</td>\n",
       "      <td>64.0</td>\n",
       "      <td>69.0</td>\n",
       "      <td>34.0</td>\n",
       "      <td>...</td>\n",
       "      <td>NaN</td>\n",
       "      <td>NaN</td>\n",
       "      <td>NaN</td>\n",
       "      <td>NaN</td>\n",
       "      <td>NaN</td>\n",
       "      <td>NaN</td>\n",
       "      <td>NaN</td>\n",
       "      <td>NaN</td>\n",
       "      <td>NaN</td>\n",
       "      <td>NaN</td>\n",
       "    </tr>\n",
       "    <tr>\n",
       "      <th>2018-03-01 14:00:00</th>\n",
       "      <td>48</td>\n",
       "      <td>NaN</td>\n",
       "      <td>3</td>\n",
       "      <td>1</td>\n",
       "      <td>14</td>\n",
       "      <td>32.0</td>\n",
       "      <td>30.0</td>\n",
       "      <td>96.0</td>\n",
       "      <td>64.0</td>\n",
       "      <td>69.0</td>\n",
       "      <td>...</td>\n",
       "      <td>NaN</td>\n",
       "      <td>NaN</td>\n",
       "      <td>NaN</td>\n",
       "      <td>NaN</td>\n",
       "      <td>NaN</td>\n",
       "      <td>NaN</td>\n",
       "      <td>NaN</td>\n",
       "      <td>NaN</td>\n",
       "      <td>NaN</td>\n",
       "      <td>NaN</td>\n",
       "    </tr>\n",
       "    <tr>\n",
       "      <th>2018-03-01 15:00:00</th>\n",
       "      <td>66</td>\n",
       "      <td>NaN</td>\n",
       "      <td>3</td>\n",
       "      <td>1</td>\n",
       "      <td>15</td>\n",
       "      <td>48.0</td>\n",
       "      <td>32.0</td>\n",
       "      <td>30.0</td>\n",
       "      <td>96.0</td>\n",
       "      <td>64.0</td>\n",
       "      <td>...</td>\n",
       "      <td>124.0</td>\n",
       "      <td>NaN</td>\n",
       "      <td>NaN</td>\n",
       "      <td>NaN</td>\n",
       "      <td>NaN</td>\n",
       "      <td>NaN</td>\n",
       "      <td>NaN</td>\n",
       "      <td>NaN</td>\n",
       "      <td>NaN</td>\n",
       "      <td>NaN</td>\n",
       "    </tr>\n",
       "    <tr>\n",
       "      <th>2018-03-01 16:00:00</th>\n",
       "      <td>43</td>\n",
       "      <td>NaN</td>\n",
       "      <td>3</td>\n",
       "      <td>1</td>\n",
       "      <td>16</td>\n",
       "      <td>66.0</td>\n",
       "      <td>48.0</td>\n",
       "      <td>32.0</td>\n",
       "      <td>30.0</td>\n",
       "      <td>96.0</td>\n",
       "      <td>...</td>\n",
       "      <td>85.0</td>\n",
       "      <td>124.0</td>\n",
       "      <td>NaN</td>\n",
       "      <td>NaN</td>\n",
       "      <td>NaN</td>\n",
       "      <td>NaN</td>\n",
       "      <td>NaN</td>\n",
       "      <td>NaN</td>\n",
       "      <td>NaN</td>\n",
       "      <td>NaN</td>\n",
       "    </tr>\n",
       "    <tr>\n",
       "      <th>2018-03-01 17:00:00</th>\n",
       "      <td>44</td>\n",
       "      <td>NaN</td>\n",
       "      <td>3</td>\n",
       "      <td>1</td>\n",
       "      <td>17</td>\n",
       "      <td>43.0</td>\n",
       "      <td>66.0</td>\n",
       "      <td>48.0</td>\n",
       "      <td>32.0</td>\n",
       "      <td>30.0</td>\n",
       "      <td>...</td>\n",
       "      <td>71.0</td>\n",
       "      <td>85.0</td>\n",
       "      <td>124.0</td>\n",
       "      <td>NaN</td>\n",
       "      <td>NaN</td>\n",
       "      <td>NaN</td>\n",
       "      <td>NaN</td>\n",
       "      <td>NaN</td>\n",
       "      <td>NaN</td>\n",
       "      <td>NaN</td>\n",
       "    </tr>\n",
       "    <tr>\n",
       "      <th>2018-03-01 18:00:00</th>\n",
       "      <td>73</td>\n",
       "      <td>NaN</td>\n",
       "      <td>3</td>\n",
       "      <td>1</td>\n",
       "      <td>18</td>\n",
       "      <td>44.0</td>\n",
       "      <td>43.0</td>\n",
       "      <td>66.0</td>\n",
       "      <td>48.0</td>\n",
       "      <td>32.0</td>\n",
       "      <td>...</td>\n",
       "      <td>66.0</td>\n",
       "      <td>71.0</td>\n",
       "      <td>85.0</td>\n",
       "      <td>124.0</td>\n",
       "      <td>NaN</td>\n",
       "      <td>NaN</td>\n",
       "      <td>NaN</td>\n",
       "      <td>NaN</td>\n",
       "      <td>NaN</td>\n",
       "      <td>NaN</td>\n",
       "    </tr>\n",
       "    <tr>\n",
       "      <th>2018-03-01 19:00:00</th>\n",
       "      <td>45</td>\n",
       "      <td>NaN</td>\n",
       "      <td>3</td>\n",
       "      <td>1</td>\n",
       "      <td>19</td>\n",
       "      <td>73.0</td>\n",
       "      <td>44.0</td>\n",
       "      <td>43.0</td>\n",
       "      <td>66.0</td>\n",
       "      <td>48.0</td>\n",
       "      <td>...</td>\n",
       "      <td>43.0</td>\n",
       "      <td>66.0</td>\n",
       "      <td>71.0</td>\n",
       "      <td>85.0</td>\n",
       "      <td>124.0</td>\n",
       "      <td>NaN</td>\n",
       "      <td>NaN</td>\n",
       "      <td>NaN</td>\n",
       "      <td>NaN</td>\n",
       "      <td>NaN</td>\n",
       "    </tr>\n",
       "    <tr>\n",
       "      <th>2018-03-01 20:00:00</th>\n",
       "      <td>61</td>\n",
       "      <td>NaN</td>\n",
       "      <td>3</td>\n",
       "      <td>1</td>\n",
       "      <td>20</td>\n",
       "      <td>45.0</td>\n",
       "      <td>73.0</td>\n",
       "      <td>44.0</td>\n",
       "      <td>43.0</td>\n",
       "      <td>66.0</td>\n",
       "      <td>...</td>\n",
       "      <td>6.0</td>\n",
       "      <td>43.0</td>\n",
       "      <td>66.0</td>\n",
       "      <td>71.0</td>\n",
       "      <td>85.0</td>\n",
       "      <td>124.0</td>\n",
       "      <td>NaN</td>\n",
       "      <td>NaN</td>\n",
       "      <td>NaN</td>\n",
       "      <td>NaN</td>\n",
       "    </tr>\n",
       "    <tr>\n",
       "      <th>2018-03-01 21:00:00</th>\n",
       "      <td>66</td>\n",
       "      <td>NaN</td>\n",
       "      <td>3</td>\n",
       "      <td>1</td>\n",
       "      <td>21</td>\n",
       "      <td>61.0</td>\n",
       "      <td>45.0</td>\n",
       "      <td>73.0</td>\n",
       "      <td>44.0</td>\n",
       "      <td>43.0</td>\n",
       "      <td>...</td>\n",
       "      <td>12.0</td>\n",
       "      <td>6.0</td>\n",
       "      <td>43.0</td>\n",
       "      <td>66.0</td>\n",
       "      <td>71.0</td>\n",
       "      <td>85.0</td>\n",
       "      <td>124.0</td>\n",
       "      <td>NaN</td>\n",
       "      <td>NaN</td>\n",
       "      <td>NaN</td>\n",
       "    </tr>\n",
       "    <tr>\n",
       "      <th>2018-03-01 22:00:00</th>\n",
       "      <td>113</td>\n",
       "      <td>NaN</td>\n",
       "      <td>3</td>\n",
       "      <td>1</td>\n",
       "      <td>22</td>\n",
       "      <td>66.0</td>\n",
       "      <td>61.0</td>\n",
       "      <td>45.0</td>\n",
       "      <td>73.0</td>\n",
       "      <td>44.0</td>\n",
       "      <td>...</td>\n",
       "      <td>15.0</td>\n",
       "      <td>12.0</td>\n",
       "      <td>6.0</td>\n",
       "      <td>43.0</td>\n",
       "      <td>66.0</td>\n",
       "      <td>71.0</td>\n",
       "      <td>85.0</td>\n",
       "      <td>124.0</td>\n",
       "      <td>NaN</td>\n",
       "      <td>NaN</td>\n",
       "    </tr>\n",
       "    <tr>\n",
       "      <th>2018-03-01 23:00:00</th>\n",
       "      <td>58</td>\n",
       "      <td>NaN</td>\n",
       "      <td>3</td>\n",
       "      <td>1</td>\n",
       "      <td>23</td>\n",
       "      <td>113.0</td>\n",
       "      <td>66.0</td>\n",
       "      <td>61.0</td>\n",
       "      <td>45.0</td>\n",
       "      <td>73.0</td>\n",
       "      <td>...</td>\n",
       "      <td>34.0</td>\n",
       "      <td>15.0</td>\n",
       "      <td>12.0</td>\n",
       "      <td>6.0</td>\n",
       "      <td>43.0</td>\n",
       "      <td>66.0</td>\n",
       "      <td>71.0</td>\n",
       "      <td>85.0</td>\n",
       "      <td>124.0</td>\n",
       "      <td>NaN</td>\n",
       "    </tr>\n",
       "    <tr>\n",
       "      <th>2018-03-02 00:00:00</th>\n",
       "      <td>90</td>\n",
       "      <td>56.833333</td>\n",
       "      <td>3</td>\n",
       "      <td>2</td>\n",
       "      <td>0</td>\n",
       "      <td>58.0</td>\n",
       "      <td>113.0</td>\n",
       "      <td>66.0</td>\n",
       "      <td>61.0</td>\n",
       "      <td>45.0</td>\n",
       "      <td>...</td>\n",
       "      <td>69.0</td>\n",
       "      <td>34.0</td>\n",
       "      <td>15.0</td>\n",
       "      <td>12.0</td>\n",
       "      <td>6.0</td>\n",
       "      <td>43.0</td>\n",
       "      <td>66.0</td>\n",
       "      <td>71.0</td>\n",
       "      <td>85.0</td>\n",
       "      <td>124.0</td>\n",
       "    </tr>\n",
       "  </tbody>\n",
       "</table>\n",
       "<p>25 rows × 29 columns</p>\n",
       "</div>"
      ],
      "text/plain": [
       "                     num_orders  rolling_mean  month  day  hour  lag_1  lag_2  \\\n",
       "datetime                                                                        \n",
       "2018-03-01 00:00:00         124           NaN      3    1     0    NaN    NaN   \n",
       "2018-03-01 01:00:00          85           NaN      3    1     1  124.0    NaN   \n",
       "2018-03-01 02:00:00          71           NaN      3    1     2   85.0  124.0   \n",
       "2018-03-01 03:00:00          66           NaN      3    1     3   71.0   85.0   \n",
       "2018-03-01 04:00:00          43           NaN      3    1     4   66.0   71.0   \n",
       "2018-03-01 05:00:00           6           NaN      3    1     5   43.0   66.0   \n",
       "2018-03-01 06:00:00          12           NaN      3    1     6    6.0   43.0   \n",
       "2018-03-01 07:00:00          15           NaN      3    1     7   12.0    6.0   \n",
       "2018-03-01 08:00:00          34           NaN      3    1     8   15.0   12.0   \n",
       "2018-03-01 09:00:00          69           NaN      3    1     9   34.0   15.0   \n",
       "2018-03-01 10:00:00          64           NaN      3    1    10   69.0   34.0   \n",
       "2018-03-01 11:00:00          96           NaN      3    1    11   64.0   69.0   \n",
       "2018-03-01 12:00:00          30           NaN      3    1    12   96.0   64.0   \n",
       "2018-03-01 13:00:00          32           NaN      3    1    13   30.0   96.0   \n",
       "2018-03-01 14:00:00          48           NaN      3    1    14   32.0   30.0   \n",
       "2018-03-01 15:00:00          66           NaN      3    1    15   48.0   32.0   \n",
       "2018-03-01 16:00:00          43           NaN      3    1    16   66.0   48.0   \n",
       "2018-03-01 17:00:00          44           NaN      3    1    17   43.0   66.0   \n",
       "2018-03-01 18:00:00          73           NaN      3    1    18   44.0   43.0   \n",
       "2018-03-01 19:00:00          45           NaN      3    1    19   73.0   44.0   \n",
       "2018-03-01 20:00:00          61           NaN      3    1    20   45.0   73.0   \n",
       "2018-03-01 21:00:00          66           NaN      3    1    21   61.0   45.0   \n",
       "2018-03-01 22:00:00         113           NaN      3    1    22   66.0   61.0   \n",
       "2018-03-01 23:00:00          58           NaN      3    1    23  113.0   66.0   \n",
       "2018-03-02 00:00:00          90     56.833333      3    2     0   58.0  113.0   \n",
       "\n",
       "                     lag_3  lag_4  lag_5  ...  lag_15  lag_16  lag_17  lag_18  \\\n",
       "datetime                                  ...                                   \n",
       "2018-03-01 00:00:00    NaN    NaN    NaN  ...     NaN     NaN     NaN     NaN   \n",
       "2018-03-01 01:00:00    NaN    NaN    NaN  ...     NaN     NaN     NaN     NaN   \n",
       "2018-03-01 02:00:00    NaN    NaN    NaN  ...     NaN     NaN     NaN     NaN   \n",
       "2018-03-01 03:00:00  124.0    NaN    NaN  ...     NaN     NaN     NaN     NaN   \n",
       "2018-03-01 04:00:00   85.0  124.0    NaN  ...     NaN     NaN     NaN     NaN   \n",
       "2018-03-01 05:00:00   71.0   85.0  124.0  ...     NaN     NaN     NaN     NaN   \n",
       "2018-03-01 06:00:00   66.0   71.0   85.0  ...     NaN     NaN     NaN     NaN   \n",
       "2018-03-01 07:00:00   43.0   66.0   71.0  ...     NaN     NaN     NaN     NaN   \n",
       "2018-03-01 08:00:00    6.0   43.0   66.0  ...     NaN     NaN     NaN     NaN   \n",
       "2018-03-01 09:00:00   12.0    6.0   43.0  ...     NaN     NaN     NaN     NaN   \n",
       "2018-03-01 10:00:00   15.0   12.0    6.0  ...     NaN     NaN     NaN     NaN   \n",
       "2018-03-01 11:00:00   34.0   15.0   12.0  ...     NaN     NaN     NaN     NaN   \n",
       "2018-03-01 12:00:00   69.0   34.0   15.0  ...     NaN     NaN     NaN     NaN   \n",
       "2018-03-01 13:00:00   64.0   69.0   34.0  ...     NaN     NaN     NaN     NaN   \n",
       "2018-03-01 14:00:00   96.0   64.0   69.0  ...     NaN     NaN     NaN     NaN   \n",
       "2018-03-01 15:00:00   30.0   96.0   64.0  ...   124.0     NaN     NaN     NaN   \n",
       "2018-03-01 16:00:00   32.0   30.0   96.0  ...    85.0   124.0     NaN     NaN   \n",
       "2018-03-01 17:00:00   48.0   32.0   30.0  ...    71.0    85.0   124.0     NaN   \n",
       "2018-03-01 18:00:00   66.0   48.0   32.0  ...    66.0    71.0    85.0   124.0   \n",
       "2018-03-01 19:00:00   43.0   66.0   48.0  ...    43.0    66.0    71.0    85.0   \n",
       "2018-03-01 20:00:00   44.0   43.0   66.0  ...     6.0    43.0    66.0    71.0   \n",
       "2018-03-01 21:00:00   73.0   44.0   43.0  ...    12.0     6.0    43.0    66.0   \n",
       "2018-03-01 22:00:00   45.0   73.0   44.0  ...    15.0    12.0     6.0    43.0   \n",
       "2018-03-01 23:00:00   61.0   45.0   73.0  ...    34.0    15.0    12.0     6.0   \n",
       "2018-03-02 00:00:00   66.0   61.0   45.0  ...    69.0    34.0    15.0    12.0   \n",
       "\n",
       "                     lag_19  lag_20  lag_21  lag_22  lag_23  lag_24  \n",
       "datetime                                                             \n",
       "2018-03-01 00:00:00     NaN     NaN     NaN     NaN     NaN     NaN  \n",
       "2018-03-01 01:00:00     NaN     NaN     NaN     NaN     NaN     NaN  \n",
       "2018-03-01 02:00:00     NaN     NaN     NaN     NaN     NaN     NaN  \n",
       "2018-03-01 03:00:00     NaN     NaN     NaN     NaN     NaN     NaN  \n",
       "2018-03-01 04:00:00     NaN     NaN     NaN     NaN     NaN     NaN  \n",
       "2018-03-01 05:00:00     NaN     NaN     NaN     NaN     NaN     NaN  \n",
       "2018-03-01 06:00:00     NaN     NaN     NaN     NaN     NaN     NaN  \n",
       "2018-03-01 07:00:00     NaN     NaN     NaN     NaN     NaN     NaN  \n",
       "2018-03-01 08:00:00     NaN     NaN     NaN     NaN     NaN     NaN  \n",
       "2018-03-01 09:00:00     NaN     NaN     NaN     NaN     NaN     NaN  \n",
       "2018-03-01 10:00:00     NaN     NaN     NaN     NaN     NaN     NaN  \n",
       "2018-03-01 11:00:00     NaN     NaN     NaN     NaN     NaN     NaN  \n",
       "2018-03-01 12:00:00     NaN     NaN     NaN     NaN     NaN     NaN  \n",
       "2018-03-01 13:00:00     NaN     NaN     NaN     NaN     NaN     NaN  \n",
       "2018-03-01 14:00:00     NaN     NaN     NaN     NaN     NaN     NaN  \n",
       "2018-03-01 15:00:00     NaN     NaN     NaN     NaN     NaN     NaN  \n",
       "2018-03-01 16:00:00     NaN     NaN     NaN     NaN     NaN     NaN  \n",
       "2018-03-01 17:00:00     NaN     NaN     NaN     NaN     NaN     NaN  \n",
       "2018-03-01 18:00:00     NaN     NaN     NaN     NaN     NaN     NaN  \n",
       "2018-03-01 19:00:00   124.0     NaN     NaN     NaN     NaN     NaN  \n",
       "2018-03-01 20:00:00    85.0   124.0     NaN     NaN     NaN     NaN  \n",
       "2018-03-01 21:00:00    71.0    85.0   124.0     NaN     NaN     NaN  \n",
       "2018-03-01 22:00:00    66.0    71.0    85.0   124.0     NaN     NaN  \n",
       "2018-03-01 23:00:00    43.0    66.0    71.0    85.0   124.0     NaN  \n",
       "2018-03-02 00:00:00     6.0    43.0    66.0    71.0    85.0   124.0  \n",
       "\n",
       "[25 rows x 29 columns]"
      ]
     },
     "execution_count": 21,
     "metadata": {},
     "output_type": "execute_result"
    }
   ],
   "source": [
    "data_new.head(25)"
   ]
  },
  {
   "cell_type": "code",
   "execution_count": 22,
   "id": "bf46bec2",
   "metadata": {},
   "outputs": [
    {
     "name": "stdout",
     "output_type": "stream",
     "text": [
      "(3950, 28)\n",
      "(3950,)\n",
      "(442, 28)\n",
      "(442,)\n"
     ]
    }
   ],
   "source": [
    "RANDOM_STATE=42\n",
    "\n",
    "train, test = train_test_split(data_new, shuffle=False, test_size=0.1, random_state=RANDOM_STATE)\n",
    "\n",
    "train = train.dropna()\n",
    "\n",
    "X_train = train.drop('num_orders', axis=1)\n",
    "y_train = train['num_orders']\n",
    "\n",
    "X_test = test.drop('num_orders', axis=1)\n",
    "y_test = test['num_orders']\n",
    "\n",
    "print(X_train.shape)\n",
    "print(y_train.shape)\n",
    "print(X_test.shape)\n",
    "print(y_test.shape)"
   ]
  },
  {
   "cell_type": "markdown",
   "id": "39a4034a",
   "metadata": {},
   "source": [
    "Разделил данные на `train` и `test`. После на признаки и целевой признак."
   ]
  },
  {
   "cell_type": "markdown",
   "id": "057ad055",
   "metadata": {},
   "source": [
    "### Линейная регрессия"
   ]
  },
  {
   "cell_type": "code",
   "execution_count": 23,
   "id": "021a9f3c",
   "metadata": {},
   "outputs": [
    {
     "name": "stdout",
     "output_type": "stream",
     "text": [
      "RMSE обучающей выборки: 25.706933654818965\n"
     ]
    }
   ],
   "source": [
    "lr = LinearRegression()\n",
    "lr.fit(X_train, y_train)\n",
    "print('RMSE обучающей выборки:', root_mean_squared_error(y_train, lr.predict(X_train)))"
   ]
  },
  {
   "cell_type": "markdown",
   "id": "7df1d812",
   "metadata": {},
   "source": [
    "### Линейная регрессия с StandardScaler"
   ]
  },
  {
   "cell_type": "code",
   "execution_count": 24,
   "id": "841eacf2",
   "metadata": {},
   "outputs": [
    {
     "name": "stdout",
     "output_type": "stream",
     "text": [
      "RMSE обучающей выборки: 25.706933654818965\n"
     ]
    }
   ],
   "source": [
    "X_train_df = X_train.copy()\n",
    "y_train_df = y_train.copy()\n",
    "\n",
    "scaler = StandardScaler()\n",
    "\n",
    "X_train_df_scaled = scaler.fit_transform(X_train_df)\n",
    "\n",
    "lr_ss = LinearRegression().fit(X_train_df_scaled, y_train_df)\n",
    "\n",
    "print('RMSE обучающей выборки:', root_mean_squared_error(y_train_df, lr_ss.predict(X_train_df_scaled)))"
   ]
  },
  {
   "cell_type": "markdown",
   "id": "95a880a6",
   "metadata": {},
   "source": [
    "### Решающее дерево"
   ]
  },
  {
   "cell_type": "code",
   "execution_count": 25,
   "id": "c169ef56",
   "metadata": {},
   "outputs": [
    {
     "name": "stdout",
     "output_type": "stream",
     "text": [
      "Гиперпараметры {'max_depth': 5, 'min_samples_leaf': 4, 'min_samples_split': 2}\n",
      "RMSE -29.44638198493187\n"
     ]
    }
   ],
   "source": [
    "tree = DecisionTreeRegressor(random_state=RANDOM_STATE)\n",
    "\n",
    "parameters = {'min_samples_split': range(2,6),\n",
    "              'max_depth': range(2,8),\n",
    "              'min_samples_leaf': range(1,5)}\n",
    "\n",
    "tscv = TimeSeriesSplit(n_splits=5)\n",
    "\n",
    "gs = GridSearchCV(tree,\n",
    "                  parameters,\n",
    "                  n_jobs=-1,\n",
    "                  cv=tscv,\n",
    "                  scoring='neg_root_mean_squared_error')\n",
    "\n",
    "gs.fit(X_train, y_train)\n",
    "\n",
    "print('Гиперпараметры', gs.best_params_)\n",
    "print('RMSE', gs.best_score_)"
   ]
  },
  {
   "cell_type": "code",
   "execution_count": 26,
   "id": "fbf64237",
   "metadata": {},
   "outputs": [
    {
     "name": "stdout",
     "output_type": "stream",
     "text": [
      "RMSE обучающей выборки: 24.981555308254777\n"
     ]
    }
   ],
   "source": [
    "final_tree = DecisionTreeRegressor(min_samples_split=gs.best_params_['min_samples_split'],\n",
    "                                   max_depth=gs.best_params_['max_depth'],\n",
    "                                   min_samples_leaf=gs.best_params_['min_samples_leaf'],\n",
    "                                   random_state=RANDOM_STATE)\n",
    "final_tree.fit(X_train, y_train)\n",
    "\n",
    "print('RMSE обучающей выборки:', root_mean_squared_error(y_train, final_tree.predict(X_train)))"
   ]
  },
  {
   "cell_type": "markdown",
   "id": "9f61ae88",
   "metadata": {},
   "source": [
    "### Случайный лес"
   ]
  },
  {
   "cell_type": "code",
   "execution_count": 27,
   "id": "24397bb6",
   "metadata": {},
   "outputs": [
    {
     "name": "stdout",
     "output_type": "stream",
     "text": [
      "Гиперпараметры {'max_depth': 7, 'min_samples_leaf': 3, 'min_samples_split': 2, 'n_estimators': 76}\n",
      "RMSE -26.135509070275635\n",
      "Wall time: 2min 2s\n"
     ]
    }
   ],
   "source": [
    "%%time\n",
    "forest_model = RandomForestRegressor(random_state=RANDOM_STATE)\n",
    "\n",
    "parameters = {'n_estimators': range(1,101,25),\n",
    "              'min_samples_split': range(2,6),\n",
    "              'max_depth': range(2,8),\n",
    "              'min_samples_leaf': range(1,5)}\n",
    "\n",
    "gs = GridSearchCV(forest_model,\n",
    "                  parameters,\n",
    "                  n_jobs=-1,\n",
    "                  cv=tscv,\n",
    "                  scoring='neg_root_mean_squared_error')\n",
    "\n",
    "gs.fit(X_train, y_train)\n",
    "\n",
    "print('Гиперпараметры', gs.best_params_)\n",
    "print('RMSE', gs.best_score_)"
   ]
  },
  {
   "cell_type": "code",
   "execution_count": 28,
   "id": "1d68aeb7",
   "metadata": {},
   "outputs": [
    {
     "name": "stdout",
     "output_type": "stream",
     "text": [
      "RMSE обучающей выборки: 19.779164827443736\n"
     ]
    }
   ],
   "source": [
    "final_forest_model = RandomForestRegressor(min_samples_split=gs.best_params_['min_samples_split'],\n",
    "                                           max_depth=gs.best_params_['max_depth'],\n",
    "                                           min_samples_leaf=gs.best_params_['min_samples_leaf'],\n",
    "                                           n_estimators=gs.best_params_['n_estimators'],\n",
    "                                           random_state=RANDOM_STATE)\n",
    "final_forest_model.fit(X_train, y_train)\n",
    "\n",
    "print('RMSE обучающей выборки:', root_mean_squared_error(y_train, final_forest_model.predict(X_train)))"
   ]
  },
  {
   "cell_type": "markdown",
   "id": "008a13bc",
   "metadata": {},
   "source": [
    "Лучше всего себя показал случайный лес."
   ]
  },
  {
   "cell_type": "markdown",
   "id": "28057a0e",
   "metadata": {},
   "source": [
    "## Тестирование"
   ]
  },
  {
   "cell_type": "code",
   "execution_count": 29,
   "id": "642335a7",
   "metadata": {},
   "outputs": [
    {
     "name": "stdout",
     "output_type": "stream",
     "text": [
      "RMSE тестовой выборки: 45.316687129268516\n"
     ]
    }
   ],
   "source": [
    "print('RMSE тестовой выборки:', root_mean_squared_error(y_test, final_forest_model.predict(X_test)))"
   ]
  },
  {
   "cell_type": "markdown",
   "id": "b62fb1c5",
   "metadata": {},
   "source": [
    "На тесте получили с помощью `RandomForestRegressor` RMSE меньше 48."
   ]
  },
  {
   "cell_type": "code",
   "execution_count": 30,
   "id": "c7c1c3d0",
   "metadata": {},
   "outputs": [
    {
     "data": {
      "text/html": [
       "<div>\n",
       "<style scoped>\n",
       "    .dataframe tbody tr th:only-of-type {\n",
       "        vertical-align: middle;\n",
       "    }\n",
       "\n",
       "    .dataframe tbody tr th {\n",
       "        vertical-align: top;\n",
       "    }\n",
       "\n",
       "    .dataframe thead th {\n",
       "        text-align: right;\n",
       "    }\n",
       "</style>\n",
       "<table border=\"1\" class=\"dataframe\">\n",
       "  <thead>\n",
       "    <tr style=\"text-align: right;\">\n",
       "      <th></th>\n",
       "      <th>y_test</th>\n",
       "      <th>predict</th>\n",
       "    </tr>\n",
       "    <tr>\n",
       "      <th>datetime</th>\n",
       "      <th></th>\n",
       "      <th></th>\n",
       "    </tr>\n",
       "  </thead>\n",
       "  <tbody>\n",
       "    <tr>\n",
       "      <th>2018-08-13 14:00:00</th>\n",
       "      <td>102</td>\n",
       "      <td>108.650855</td>\n",
       "    </tr>\n",
       "    <tr>\n",
       "      <th>2018-08-13 15:00:00</th>\n",
       "      <td>175</td>\n",
       "      <td>123.141275</td>\n",
       "    </tr>\n",
       "    <tr>\n",
       "      <th>2018-08-13 16:00:00</th>\n",
       "      <td>144</td>\n",
       "      <td>138.186507</td>\n",
       "    </tr>\n",
       "    <tr>\n",
       "      <th>2018-08-13 17:00:00</th>\n",
       "      <td>152</td>\n",
       "      <td>123.493663</td>\n",
       "    </tr>\n",
       "    <tr>\n",
       "      <th>2018-08-13 18:00:00</th>\n",
       "      <td>104</td>\n",
       "      <td>105.568618</td>\n",
       "    </tr>\n",
       "    <tr>\n",
       "      <th>...</th>\n",
       "      <td>...</td>\n",
       "      <td>...</td>\n",
       "    </tr>\n",
       "    <tr>\n",
       "      <th>2018-08-31 19:00:00</th>\n",
       "      <td>136</td>\n",
       "      <td>127.755628</td>\n",
       "    </tr>\n",
       "    <tr>\n",
       "      <th>2018-08-31 20:00:00</th>\n",
       "      <td>154</td>\n",
       "      <td>147.772762</td>\n",
       "    </tr>\n",
       "    <tr>\n",
       "      <th>2018-08-31 21:00:00</th>\n",
       "      <td>159</td>\n",
       "      <td>138.296445</td>\n",
       "    </tr>\n",
       "    <tr>\n",
       "      <th>2018-08-31 22:00:00</th>\n",
       "      <td>223</td>\n",
       "      <td>136.799454</td>\n",
       "    </tr>\n",
       "    <tr>\n",
       "      <th>2018-08-31 23:00:00</th>\n",
       "      <td>205</td>\n",
       "      <td>154.721434</td>\n",
       "    </tr>\n",
       "  </tbody>\n",
       "</table>\n",
       "<p>442 rows × 2 columns</p>\n",
       "</div>"
      ],
      "text/plain": [
       "                     y_test     predict\n",
       "datetime                               \n",
       "2018-08-13 14:00:00     102  108.650855\n",
       "2018-08-13 15:00:00     175  123.141275\n",
       "2018-08-13 16:00:00     144  138.186507\n",
       "2018-08-13 17:00:00     152  123.493663\n",
       "2018-08-13 18:00:00     104  105.568618\n",
       "...                     ...         ...\n",
       "2018-08-31 19:00:00     136  127.755628\n",
       "2018-08-31 20:00:00     154  147.772762\n",
       "2018-08-31 21:00:00     159  138.296445\n",
       "2018-08-31 22:00:00     223  136.799454\n",
       "2018-08-31 23:00:00     205  154.721434\n",
       "\n",
       "[442 rows x 2 columns]"
      ]
     },
     "execution_count": 30,
     "metadata": {},
     "output_type": "execute_result"
    }
   ],
   "source": [
    "df = pd.DataFrame(index=y_test.index)\n",
    "df['y_test'] = y_test.values\n",
    "df['predict'] = final_forest_model.predict(X_test)\n",
    "df"
   ]
  },
  {
   "cell_type": "code",
   "execution_count": 31,
   "id": "1718975c",
   "metadata": {},
   "outputs": [
    {
     "data": {
      "image/png": "[encoded data removed]",
      "text/plain": [
       "<Figure size 640x480 with 1 Axes>"
      ]
     },
     "metadata": {},
     "output_type": "display_data"
    }
   ],
   "source": [
    "df.plot();"
   ]
  },
  {
   "cell_type": "markdown",
   "id": "dfc5eb23",
   "metadata": {},
   "source": [
    "По графику видим, что данные несколько отличаются, но достаточно похожи"
   ]
  },
  {
   "cell_type": "markdown",
   "id": "99157568",
   "metadata": {},
   "source": [
    "## Вывод"
   ]
  },
  {
   "cell_type": "markdown",
   "id": "44978a52",
   "metadata": {},
   "source": [
    "Имея исторические данные о заказах такси в аэропортах, необходимо спрогнозировать количество заказов такси на следующий час. \n",
    "\n",
    "Провели ресемплирование данных с горизонтом прогнозирования в один час.     \n",
    "\n",
    "Изучив графики, заметили восходящий тренд и растущую дисперсию. Из чего сделали вывод о нестационарности временного ряда.    \n",
    "\n",
    "Добавили новые признаки в таблицу: час, день, месяц, лаги и скользящее среднее.     \n",
    "\n",
    "На тренировочных данных обучили разные модели с перебором гиперпараметров. В результате выбрали `RandomForestRegressor` и получили на тестовых данных RMSE 45.316687.    "
   ]
  }
 ],
 "metadata": {
  "ExecuteTimeLog": [
   {
    "duration": 2526,
    "start_time": "2024-02-12T05:30:18.031Z"
   },
   {
    "duration": 0,
    "start_time": "2024-02-12T05:30:20.559Z"
   },
   {
    "duration": 0,
    "start_time": "2024-02-12T05:30:20.560Z"
   },
   {
    "duration": 0,
    "start_time": "2024-02-12T05:30:20.561Z"
   },
   {
    "duration": 1,
    "start_time": "2024-02-12T05:30:20.562Z"
   },
   {
    "duration": 0,
    "start_time": "2024-02-12T05:30:20.563Z"
   },
   {
    "duration": 0,
    "start_time": "2024-02-12T05:30:20.564Z"
   },
   {
    "duration": 0,
    "start_time": "2024-02-12T05:30:20.565Z"
   },
   {
    "duration": 0,
    "start_time": "2024-02-12T05:30:20.566Z"
   },
   {
    "duration": 0,
    "start_time": "2024-02-12T05:30:20.567Z"
   },
   {
    "duration": 0,
    "start_time": "2024-02-12T05:30:20.569Z"
   },
   {
    "duration": 0,
    "start_time": "2024-02-12T05:30:20.634Z"
   },
   {
    "duration": 0,
    "start_time": "2024-02-12T05:30:20.635Z"
   },
   {
    "duration": 0,
    "start_time": "2024-02-12T05:30:20.636Z"
   },
   {
    "duration": 0,
    "start_time": "2024-02-12T05:30:20.637Z"
   },
   {
    "duration": 0,
    "start_time": "2024-02-12T05:30:20.638Z"
   },
   {
    "duration": 0,
    "start_time": "2024-02-12T05:30:20.639Z"
   },
   {
    "duration": 0,
    "start_time": "2024-02-12T05:30:20.640Z"
   },
   {
    "duration": 0,
    "start_time": "2024-02-12T05:30:20.641Z"
   },
   {
    "duration": 0,
    "start_time": "2024-02-12T05:30:20.642Z"
   },
   {
    "duration": 0,
    "start_time": "2024-02-12T05:30:20.643Z"
   },
   {
    "duration": 0,
    "start_time": "2024-02-12T05:30:20.644Z"
   },
   {
    "duration": 0,
    "start_time": "2024-02-12T05:30:20.645Z"
   },
   {
    "duration": 0,
    "start_time": "2024-02-12T05:30:20.646Z"
   },
   {
    "duration": 0,
    "start_time": "2024-02-12T05:30:20.647Z"
   },
   {
    "duration": 0,
    "start_time": "2024-02-12T05:30:20.647Z"
   },
   {
    "duration": 0,
    "start_time": "2024-02-12T05:30:20.648Z"
   },
   {
    "duration": 0,
    "start_time": "2024-02-12T05:30:20.649Z"
   },
   {
    "duration": 1716,
    "start_time": "2024-02-12T13:03:31.393Z"
   },
   {
    "duration": 6174,
    "start_time": "2024-02-12T13:06:55.185Z"
   },
   {
    "duration": 16,
    "start_time": "2024-02-12T13:07:17.608Z"
   },
   {
    "duration": 35679,
    "start_time": "2024-02-12T13:08:05.800Z"
   },
   {
    "duration": 13184,
    "start_time": "2024-02-12T13:09:36.781Z"
   },
   {
    "duration": 1266,
    "start_time": "2024-02-12T13:09:49.967Z"
   },
   {
    "duration": 75,
    "start_time": "2024-02-12T13:10:14.782Z"
   },
   {
    "duration": 1229,
    "start_time": "2024-02-12T13:11:14.567Z"
   },
   {
    "duration": 181691,
    "start_time": "2024-02-12T13:12:34.979Z"
   },
   {
    "duration": 16,
    "start_time": "2024-02-12T13:15:36.672Z"
   },
   {
    "duration": 10,
    "start_time": "2024-02-12T13:18:24.186Z"
   },
   {
    "duration": 1507,
    "start_time": "2024-02-12T13:18:37.106Z"
   },
   {
    "duration": 240,
    "start_time": "2024-02-12T13:19:29.955Z"
   },
   {
    "duration": 187,
    "start_time": "2024-02-12T13:19:41.260Z"
   },
   {
    "duration": 46708,
    "start_time": "2024-02-12T13:19:50.438Z"
   },
   {
    "duration": 1047,
    "start_time": "2024-02-12T13:20:37.148Z"
   },
   {
    "duration": 895,
    "start_time": "2024-02-12T13:20:38.197Z"
   },
   {
    "duration": 0,
    "start_time": "2024-02-12T13:20:39.096Z"
   },
   {
    "duration": 0,
    "start_time": "2024-02-12T13:20:39.098Z"
   },
   {
    "duration": 0,
    "start_time": "2024-02-12T13:20:39.099Z"
   },
   {
    "duration": 0,
    "start_time": "2024-02-12T13:20:39.100Z"
   },
   {
    "duration": 0,
    "start_time": "2024-02-12T13:20:39.102Z"
   },
   {
    "duration": 0,
    "start_time": "2024-02-12T13:20:39.103Z"
   },
   {
    "duration": 0,
    "start_time": "2024-02-12T13:20:39.104Z"
   },
   {
    "duration": 0,
    "start_time": "2024-02-12T13:20:39.106Z"
   },
   {
    "duration": 0,
    "start_time": "2024-02-12T13:20:39.121Z"
   },
   {
    "duration": 0,
    "start_time": "2024-02-12T13:20:39.122Z"
   },
   {
    "duration": 0,
    "start_time": "2024-02-12T13:20:39.123Z"
   },
   {
    "duration": 0,
    "start_time": "2024-02-12T13:20:39.124Z"
   },
   {
    "duration": 0,
    "start_time": "2024-02-12T13:20:39.125Z"
   },
   {
    "duration": 0,
    "start_time": "2024-02-12T13:20:39.126Z"
   },
   {
    "duration": 0,
    "start_time": "2024-02-12T13:20:39.127Z"
   },
   {
    "duration": 0,
    "start_time": "2024-02-12T13:20:39.129Z"
   },
   {
    "duration": 0,
    "start_time": "2024-02-12T13:20:39.131Z"
   },
   {
    "duration": 0,
    "start_time": "2024-02-12T13:20:39.133Z"
   },
   {
    "duration": 0,
    "start_time": "2024-02-12T13:20:39.135Z"
   },
   {
    "duration": 0,
    "start_time": "2024-02-12T13:20:39.136Z"
   },
   {
    "duration": 0,
    "start_time": "2024-02-12T13:20:39.138Z"
   },
   {
    "duration": 0,
    "start_time": "2024-02-12T13:20:39.140Z"
   },
   {
    "duration": 0,
    "start_time": "2024-02-12T13:20:39.141Z"
   },
   {
    "duration": 0,
    "start_time": "2024-02-12T13:20:39.143Z"
   },
   {
    "duration": 0,
    "start_time": "2024-02-12T13:20:39.144Z"
   },
   {
    "duration": 0,
    "start_time": "2024-02-12T13:20:39.145Z"
   },
   {
    "duration": 41164,
    "start_time": "2024-02-12T13:22:28.098Z"
   },
   {
    "duration": 1052,
    "start_time": "2024-02-12T13:23:37.625Z"
   },
   {
    "duration": 632,
    "start_time": "2024-02-12T13:25:11.742Z"
   },
   {
    "duration": 5,
    "start_time": "2024-02-12T13:27:03.835Z"
   },
   {
    "duration": 642,
    "start_time": "2024-02-12T13:27:13.967Z"
   },
   {
    "duration": 92,
    "start_time": "2024-02-12T13:27:38.852Z"
   },
   {
    "duration": 875,
    "start_time": "2024-02-12T13:27:43.986Z"
   },
   {
    "duration": 3362,
    "start_time": "2024-02-12T13:28:36.623Z"
   },
   {
    "duration": 1077,
    "start_time": "2024-02-12T13:28:54.407Z"
   },
   {
    "duration": 1186,
    "start_time": "2024-02-12T13:28:59.219Z"
   },
   {
    "duration": 132,
    "start_time": "2024-02-12T13:29:47.687Z"
   },
   {
    "duration": 12,
    "start_time": "2024-02-12T13:29:54.812Z"
   },
   {
    "duration": 11,
    "start_time": "2024-02-12T13:29:56.658Z"
   },
   {
    "duration": 13,
    "start_time": "2024-02-12T13:29:56.991Z"
   },
   {
    "duration": 7,
    "start_time": "2024-02-12T13:29:57.397Z"
   },
   {
    "duration": 76,
    "start_time": "2024-02-12T13:29:57.778Z"
   },
   {
    "duration": 8,
    "start_time": "2024-02-12T13:29:58.099Z"
   },
   {
    "duration": 600,
    "start_time": "2024-02-12T13:30:29.496Z"
   },
   {
    "duration": 3547,
    "start_time": "2024-02-12T13:31:18.146Z"
   },
   {
    "duration": 2804,
    "start_time": "2024-02-12T13:31:31.356Z"
   },
   {
    "duration": 2778,
    "start_time": "2024-02-12T13:31:34.164Z"
   },
   {
    "duration": 1105,
    "start_time": "2024-02-12T13:31:36.944Z"
   },
   {
    "duration": 54,
    "start_time": "2024-02-12T13:31:38.051Z"
   },
   {
    "duration": 9,
    "start_time": "2024-02-12T13:31:38.107Z"
   },
   {
    "duration": 21,
    "start_time": "2024-02-12T13:31:38.117Z"
   },
   {
    "duration": 12,
    "start_time": "2024-02-12T13:31:38.140Z"
   },
   {
    "duration": 6,
    "start_time": "2024-02-12T13:31:38.154Z"
   },
   {
    "duration": 428,
    "start_time": "2024-02-12T13:31:38.162Z"
   },
   {
    "duration": 9,
    "start_time": "2024-02-12T13:31:38.594Z"
   },
   {
    "duration": 273,
    "start_time": "2024-02-12T13:31:38.604Z"
   },
   {
    "duration": 2893,
    "start_time": "2024-02-12T13:31:40.450Z"
   },
   {
    "duration": 2804,
    "start_time": "2024-02-12T13:31:43.347Z"
   },
   {
    "duration": 1152,
    "start_time": "2024-02-12T13:31:46.153Z"
   },
   {
    "duration": 55,
    "start_time": "2024-02-12T13:31:47.307Z"
   },
   {
    "duration": 9,
    "start_time": "2024-02-12T13:31:47.365Z"
   },
   {
    "duration": 12,
    "start_time": "2024-02-12T13:31:47.376Z"
   },
   {
    "duration": 13,
    "start_time": "2024-02-12T13:31:47.390Z"
   },
   {
    "duration": 17,
    "start_time": "2024-02-12T13:31:47.405Z"
   },
   {
    "duration": 457,
    "start_time": "2024-02-12T13:31:47.424Z"
   },
   {
    "duration": 10,
    "start_time": "2024-02-12T13:31:47.884Z"
   },
   {
    "duration": 276,
    "start_time": "2024-02-12T13:31:47.895Z"
   },
   {
    "duration": 307,
    "start_time": "2024-02-12T13:31:48.173Z"
   },
   {
    "duration": 0,
    "start_time": "2024-02-12T13:31:48.482Z"
   },
   {
    "duration": 0,
    "start_time": "2024-02-12T13:31:48.484Z"
   },
   {
    "duration": 0,
    "start_time": "2024-02-12T13:31:48.485Z"
   },
   {
    "duration": 0,
    "start_time": "2024-02-12T13:31:48.486Z"
   },
   {
    "duration": 0,
    "start_time": "2024-02-12T13:31:48.487Z"
   },
   {
    "duration": 0,
    "start_time": "2024-02-12T13:31:48.489Z"
   },
   {
    "duration": 0,
    "start_time": "2024-02-12T13:31:48.490Z"
   },
   {
    "duration": 0,
    "start_time": "2024-02-12T13:31:48.491Z"
   },
   {
    "duration": 0,
    "start_time": "2024-02-12T13:31:48.493Z"
   },
   {
    "duration": 0,
    "start_time": "2024-02-12T13:31:48.494Z"
   },
   {
    "duration": 0,
    "start_time": "2024-02-12T13:31:48.520Z"
   },
   {
    "duration": 0,
    "start_time": "2024-02-12T13:31:48.521Z"
   },
   {
    "duration": 0,
    "start_time": "2024-02-12T13:31:48.523Z"
   },
   {
    "duration": 0,
    "start_time": "2024-02-12T13:31:48.524Z"
   },
   {
    "duration": 0,
    "start_time": "2024-02-12T13:31:48.525Z"
   },
   {
    "duration": 0,
    "start_time": "2024-02-12T13:31:48.526Z"
   },
   {
    "duration": 0,
    "start_time": "2024-02-12T13:31:48.527Z"
   },
   {
    "duration": 0,
    "start_time": "2024-02-12T13:31:48.528Z"
   },
   {
    "duration": 2926,
    "start_time": "2024-02-12T13:32:56.116Z"
   },
   {
    "duration": 2951,
    "start_time": "2024-02-12T13:32:59.045Z"
   },
   {
    "duration": 1169,
    "start_time": "2024-02-12T13:33:01.999Z"
   },
   {
    "duration": 66,
    "start_time": "2024-02-12T13:33:03.170Z"
   },
   {
    "duration": 10,
    "start_time": "2024-02-12T13:33:03.239Z"
   },
   {
    "duration": 39,
    "start_time": "2024-02-12T13:33:03.251Z"
   },
   {
    "duration": 44,
    "start_time": "2024-02-12T13:33:03.293Z"
   },
   {
    "duration": 68,
    "start_time": "2024-02-12T13:33:03.341Z"
   },
   {
    "duration": 551,
    "start_time": "2024-02-12T13:33:03.412Z"
   },
   {
    "duration": 8,
    "start_time": "2024-02-12T13:33:03.967Z"
   },
   {
    "duration": 271,
    "start_time": "2024-02-12T13:33:03.977Z"
   },
   {
    "duration": 330,
    "start_time": "2024-02-12T13:33:04.250Z"
   },
   {
    "duration": 0,
    "start_time": "2024-02-12T13:33:04.583Z"
   },
   {
    "duration": 0,
    "start_time": "2024-02-12T13:33:04.584Z"
   },
   {
    "duration": 0,
    "start_time": "2024-02-12T13:33:04.586Z"
   },
   {
    "duration": 0,
    "start_time": "2024-02-12T13:33:04.587Z"
   },
   {
    "duration": 0,
    "start_time": "2024-02-12T13:33:04.589Z"
   },
   {
    "duration": 0,
    "start_time": "2024-02-12T13:33:04.590Z"
   },
   {
    "duration": 0,
    "start_time": "2024-02-12T13:33:04.591Z"
   },
   {
    "duration": 0,
    "start_time": "2024-02-12T13:33:04.593Z"
   },
   {
    "duration": 0,
    "start_time": "2024-02-12T13:33:04.594Z"
   },
   {
    "duration": 0,
    "start_time": "2024-02-12T13:33:04.621Z"
   },
   {
    "duration": 0,
    "start_time": "2024-02-12T13:33:04.623Z"
   },
   {
    "duration": 0,
    "start_time": "2024-02-12T13:33:04.624Z"
   },
   {
    "duration": 0,
    "start_time": "2024-02-12T13:33:04.626Z"
   },
   {
    "duration": 0,
    "start_time": "2024-02-12T13:33:04.628Z"
   },
   {
    "duration": 0,
    "start_time": "2024-02-12T13:33:04.630Z"
   },
   {
    "duration": 1,
    "start_time": "2024-02-12T13:33:04.631Z"
   },
   {
    "duration": 0,
    "start_time": "2024-02-12T13:33:04.633Z"
   },
   {
    "duration": 0,
    "start_time": "2024-02-12T13:33:04.635Z"
   },
   {
    "duration": 1341,
    "start_time": "2024-02-12T13:34:21.072Z"
   },
   {
    "duration": 53,
    "start_time": "2024-02-12T13:34:22.416Z"
   },
   {
    "duration": 9,
    "start_time": "2024-02-12T13:34:22.471Z"
   },
   {
    "duration": 14,
    "start_time": "2024-02-12T13:34:22.482Z"
   },
   {
    "duration": 12,
    "start_time": "2024-02-12T13:34:22.498Z"
   },
   {
    "duration": 4,
    "start_time": "2024-02-12T13:34:22.512Z"
   },
   {
    "duration": 244,
    "start_time": "2024-02-12T13:34:22.522Z"
   },
   {
    "duration": 9,
    "start_time": "2024-02-12T13:34:22.768Z"
   },
   {
    "duration": 273,
    "start_time": "2024-02-12T13:34:22.779Z"
   },
   {
    "duration": 680,
    "start_time": "2024-02-12T13:34:23.056Z"
   },
   {
    "duration": 214,
    "start_time": "2024-02-12T13:34:23.738Z"
   },
   {
    "duration": 6,
    "start_time": "2024-02-12T13:34:23.955Z"
   },
   {
    "duration": 393,
    "start_time": "2024-02-12T13:34:23.964Z"
   },
   {
    "duration": 5,
    "start_time": "2024-02-12T13:34:24.359Z"
   },
   {
    "duration": 307,
    "start_time": "2024-02-12T13:34:24.366Z"
   },
   {
    "duration": 320,
    "start_time": "2024-02-12T13:34:24.675Z"
   },
   {
    "duration": 4,
    "start_time": "2024-02-12T13:34:24.997Z"
   },
   {
    "duration": 30,
    "start_time": "2024-02-12T13:34:25.003Z"
   },
   {
    "duration": 5,
    "start_time": "2024-02-12T13:34:25.037Z"
   },
   {
    "duration": 17,
    "start_time": "2024-02-12T13:34:25.044Z"
   },
   {
    "duration": 13,
    "start_time": "2024-02-12T13:34:25.063Z"
   },
   {
    "duration": 52,
    "start_time": "2024-02-12T13:34:25.078Z"
   },
   {
    "duration": 102,
    "start_time": "2024-02-12T13:34:25.132Z"
   },
   {
    "duration": 9907,
    "start_time": "2024-02-12T13:34:25.237Z"
   },
   {
    "duration": 25,
    "start_time": "2024-02-12T13:34:35.146Z"
   },
   {
    "duration": 1204696,
    "start_time": "2024-02-12T13:34:35.173Z"
   },
   {
    "duration": 1382,
    "start_time": "2024-02-12T13:54:39.871Z"
   },
   {
    "duration": 14,
    "start_time": "2024-02-12T13:54:41.257Z"
   },
   {
    "duration": 3071,
    "start_time": "2024-02-13T07:31:17.372Z"
   },
   {
    "duration": 0,
    "start_time": "2024-02-13T07:31:20.445Z"
   },
   {
    "duration": 0,
    "start_time": "2024-02-13T07:31:20.447Z"
   },
   {
    "duration": 0,
    "start_time": "2024-02-13T07:31:20.448Z"
   },
   {
    "duration": 0,
    "start_time": "2024-02-13T07:31:20.449Z"
   },
   {
    "duration": 0,
    "start_time": "2024-02-13T07:31:20.450Z"
   },
   {
    "duration": 0,
    "start_time": "2024-02-13T07:31:20.451Z"
   },
   {
    "duration": 0,
    "start_time": "2024-02-13T07:31:20.453Z"
   },
   {
    "duration": 0,
    "start_time": "2024-02-13T07:31:20.455Z"
   },
   {
    "duration": 0,
    "start_time": "2024-02-13T07:31:20.456Z"
   },
   {
    "duration": 0,
    "start_time": "2024-02-13T07:31:20.457Z"
   },
   {
    "duration": 0,
    "start_time": "2024-02-13T07:31:20.459Z"
   },
   {
    "duration": 0,
    "start_time": "2024-02-13T07:31:20.460Z"
   },
   {
    "duration": 0,
    "start_time": "2024-02-13T07:31:20.462Z"
   },
   {
    "duration": 0,
    "start_time": "2024-02-13T07:31:20.463Z"
   },
   {
    "duration": 0,
    "start_time": "2024-02-13T07:31:20.465Z"
   },
   {
    "duration": 0,
    "start_time": "2024-02-13T07:31:20.466Z"
   },
   {
    "duration": 0,
    "start_time": "2024-02-13T07:31:20.534Z"
   },
   {
    "duration": 0,
    "start_time": "2024-02-13T07:31:20.535Z"
   },
   {
    "duration": 0,
    "start_time": "2024-02-13T07:31:20.537Z"
   },
   {
    "duration": 1,
    "start_time": "2024-02-13T07:31:20.538Z"
   },
   {
    "duration": 0,
    "start_time": "2024-02-13T07:31:20.540Z"
   },
   {
    "duration": 0,
    "start_time": "2024-02-13T07:31:20.542Z"
   },
   {
    "duration": 0,
    "start_time": "2024-02-13T07:31:20.544Z"
   },
   {
    "duration": 0,
    "start_time": "2024-02-13T07:31:20.545Z"
   },
   {
    "duration": 0,
    "start_time": "2024-02-13T07:31:20.548Z"
   },
   {
    "duration": 0,
    "start_time": "2024-02-13T07:31:20.550Z"
   },
   {
    "duration": 0,
    "start_time": "2024-02-13T07:31:20.551Z"
   },
   {
    "duration": 2282,
    "start_time": "2024-02-13T12:03:15.171Z"
   },
   {
    "duration": 2786,
    "start_time": "2024-02-13T12:03:35.146Z"
   },
   {
    "duration": 15,
    "start_time": "2024-02-13T12:03:38.905Z"
   },
   {
    "duration": 6011,
    "start_time": "2024-02-13T12:07:49.464Z"
   },
   {
    "duration": 14,
    "start_time": "2024-02-13T12:08:01.405Z"
   },
   {
    "duration": 1328,
    "start_time": "2024-02-13T12:12:51.978Z"
   },
   {
    "duration": 2470,
    "start_time": "2024-02-13T12:13:02.037Z"
   },
   {
    "duration": 1300,
    "start_time": "2024-02-13T12:13:04.510Z"
   },
   {
    "duration": 119,
    "start_time": "2024-02-13T12:13:05.811Z"
   },
   {
    "duration": 8,
    "start_time": "2024-02-13T12:13:05.932Z"
   },
   {
    "duration": 44,
    "start_time": "2024-02-13T12:13:05.941Z"
   },
   {
    "duration": 20,
    "start_time": "2024-02-13T12:13:05.986Z"
   },
   {
    "duration": 6,
    "start_time": "2024-02-13T12:13:06.007Z"
   },
   {
    "duration": 216,
    "start_time": "2024-02-13T12:13:06.014Z"
   },
   {
    "duration": 8,
    "start_time": "2024-02-13T12:13:06.232Z"
   },
   {
    "duration": 299,
    "start_time": "2024-02-13T12:13:06.242Z"
   },
   {
    "duration": 773,
    "start_time": "2024-02-13T12:13:06.542Z"
   },
   {
    "duration": 181,
    "start_time": "2024-02-13T12:13:07.317Z"
   },
   {
    "duration": 5,
    "start_time": "2024-02-13T12:13:07.499Z"
   },
   {
    "duration": 247,
    "start_time": "2024-02-13T12:13:07.506Z"
   },
   {
    "duration": 5,
    "start_time": "2024-02-13T12:13:07.754Z"
   },
   {
    "duration": 302,
    "start_time": "2024-02-13T12:13:07.760Z"
   },
   {
    "duration": 293,
    "start_time": "2024-02-13T12:13:08.063Z"
   },
   {
    "duration": 4,
    "start_time": "2024-02-13T12:13:08.359Z"
   },
   {
    "duration": 13,
    "start_time": "2024-02-13T12:13:08.365Z"
   },
   {
    "duration": 4,
    "start_time": "2024-02-13T12:13:08.379Z"
   },
   {
    "duration": 20,
    "start_time": "2024-02-13T12:13:08.384Z"
   },
   {
    "duration": 109,
    "start_time": "2024-02-13T12:13:08.405Z"
   },
   {
    "duration": 105,
    "start_time": "2024-02-13T12:13:08.515Z"
   },
   {
    "duration": 108,
    "start_time": "2024-02-13T12:13:08.621Z"
   },
   {
    "duration": 9203,
    "start_time": "2024-02-13T12:13:08.731Z"
   },
   {
    "duration": 26,
    "start_time": "2024-02-13T12:13:17.936Z"
   },
   {
    "duration": 1167524,
    "start_time": "2024-02-13T12:13:17.964Z"
   },
   {
    "duration": 1284,
    "start_time": "2024-02-13T12:32:45.491Z"
   },
   {
    "duration": 13,
    "start_time": "2024-02-13T12:32:46.777Z"
   },
   {
    "duration": 2396,
    "start_time": "2024-02-13T13:11:41.366Z"
   },
   {
    "duration": 1250,
    "start_time": "2024-02-13T13:11:43.765Z"
   },
   {
    "duration": 51,
    "start_time": "2024-02-13T13:11:50.238Z"
   },
   {
    "duration": 9,
    "start_time": "2024-02-13T13:11:50.290Z"
   },
   {
    "duration": 10,
    "start_time": "2024-02-13T13:11:50.805Z"
   },
   {
    "duration": 11,
    "start_time": "2024-02-13T13:11:51.051Z"
   },
   {
    "duration": 6,
    "start_time": "2024-02-13T13:11:51.275Z"
   },
   {
    "duration": 194,
    "start_time": "2024-02-13T13:11:51.555Z"
   },
   {
    "duration": 9,
    "start_time": "2024-02-13T13:11:51.771Z"
   },
   {
    "duration": 209,
    "start_time": "2024-02-13T13:11:52.243Z"
   },
   {
    "duration": 777,
    "start_time": "2024-02-13T13:11:53.016Z"
   },
   {
    "duration": 176,
    "start_time": "2024-02-13T13:11:53.795Z"
   },
   {
    "duration": 5,
    "start_time": "2024-02-13T13:11:53.995Z"
   },
   {
    "duration": 225,
    "start_time": "2024-02-13T13:11:54.295Z"
   },
   {
    "duration": 4,
    "start_time": "2024-02-13T13:11:54.533Z"
   },
   {
    "duration": 246,
    "start_time": "2024-02-13T13:11:54.783Z"
   },
   {
    "duration": 300,
    "start_time": "2024-02-13T13:11:55.263Z"
   },
   {
    "duration": 4,
    "start_time": "2024-02-13T13:11:56.320Z"
   },
   {
    "duration": 10,
    "start_time": "2024-02-13T13:11:56.804Z"
   },
   {
    "duration": 4,
    "start_time": "2024-02-13T13:11:57.567Z"
   },
   {
    "duration": 15,
    "start_time": "2024-02-13T13:11:57.985Z"
   },
   {
    "duration": 10,
    "start_time": "2024-02-13T13:11:58.376Z"
   },
   {
    "duration": 18,
    "start_time": "2024-02-13T13:11:59.683Z"
   },
   {
    "duration": 108,
    "start_time": "2024-02-13T13:12:00.816Z"
   },
   {
    "duration": 8912,
    "start_time": "2024-02-13T13:12:01.927Z"
   },
   {
    "duration": 24,
    "start_time": "2024-02-13T13:12:13.908Z"
   }
  ],
  "kernelspec": {
   "display_name": "Python 3 (ipykernel)",
   "language": "python",
   "name": "python3"
  },
  "language_info": {
   "codemirror_mode": {
    "name": "ipython",
    "version": 3
   },
   "file_extension": ".py",
   "mimetype": "text/x-python",
   "name": "python",
   "nbconvert_exporter": "python",
   "pygments_lexer": "ipython3",
   "version": "3.9.13"
  },
  "toc": {
   "base_numbering": 1,
   "nav_menu": {},
   "number_sections": true,
   "sideBar": true,
   "skip_h1_title": true,
   "title_cell": "Table of Contents",
   "title_sidebar": "Contents",
   "toc_cell": false,
   "toc_position": {
    "height": "calc(100% - 180px)",
    "left": "10px",
    "top": "150px",
    "width": "221px"
   },
   "toc_section_display": true,
   "toc_window_display": true
  }
 },
 "nbformat": 4,
 "nbformat_minor": 5
}
