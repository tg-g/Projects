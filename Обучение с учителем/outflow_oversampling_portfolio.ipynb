{
 "cells": [
  {
   "cell_type": "markdown",
   "metadata": {
    "toc": true
   },
   "source": [
    "<h1>Содержание<span class=\"tocSkip\"></span></h1>\n",
    "<div class=\"toc\"><ul class=\"toc-item\"><li><span><a href=\"#Подготовка-данных\" data-toc-modified-id=\"Подготовка-данных-1\"><span class=\"toc-item-num\">1&nbsp;&nbsp;</span>Подготовка данных</a></span><ul class=\"toc-item\"><li><span><a href=\"#Загрузка-данных-и-изучение-общей-информации\" data-toc-modified-id=\"Загрузка-данных-и-изучение-общей-информации-1.1\"><span class=\"toc-item-num\">1.1&nbsp;&nbsp;</span>Загрузка данных и изучение общей информации</a></span></li><li><span><a href=\"#Замена-названий-столбцов\" data-toc-modified-id=\"Замена-названий-столбцов-1.2\"><span class=\"toc-item-num\">1.2&nbsp;&nbsp;</span>Замена названий столбцов</a></span></li><li><span><a href=\"#Проверка-на-наличие-дубликатов\" data-toc-modified-id=\"Проверка-на-наличие-дубликатов-1.3\"><span class=\"toc-item-num\">1.3&nbsp;&nbsp;</span>Проверка на наличие дубликатов</a></span></li><li><span><a href=\"#Удаление-ненужных-столбцов\" data-toc-modified-id=\"Удаление-ненужных-столбцов-1.4\"><span class=\"toc-item-num\">1.4&nbsp;&nbsp;</span>Удаление ненужных столбцов</a></span></li></ul></li><li><span><a href=\"#Исследование-задачи\" data-toc-modified-id=\"Исследование-задачи-2\"><span class=\"toc-item-num\">2&nbsp;&nbsp;</span>Исследование задачи</a></span><ul class=\"toc-item\"><li><span><a href=\"#Разделение-на-выборки\" data-toc-modified-id=\"Разделение-на-выборки-2.1\"><span class=\"toc-item-num\">2.1&nbsp;&nbsp;</span>Разделение на выборки</a></span></li><li><span><a href=\"#Заполнение-пропусков\" data-toc-modified-id=\"Заполнение-пропусков-2.2\"><span class=\"toc-item-num\">2.2&nbsp;&nbsp;</span>Заполнение пропусков</a></span></li><li><span><a href=\"#Масштабирование\" data-toc-modified-id=\"Масштабирование-2.3\"><span class=\"toc-item-num\">2.3&nbsp;&nbsp;</span>Масштабирование</a></span></li><li><span><a href=\"#Кодирование\" data-toc-modified-id=\"Кодирование-2.4\"><span class=\"toc-item-num\">2.4&nbsp;&nbsp;</span>Кодирование</a></span></li><li><span><a href=\"#LogisticRegression-(без-учёта-дисбаланса)\" data-toc-modified-id=\"LogisticRegression-(без-учёта-дисбаланса)-2.5\"><span class=\"toc-item-num\">2.5&nbsp;&nbsp;</span>LogisticRegression (без учёта дисбаланса)</a></span></li><li><span><a href=\"#DecisionTreeClassifier-(без-учёта-дисбаланса)\" data-toc-modified-id=\"DecisionTreeClassifier-(без-учёта-дисбаланса)-2.6\"><span class=\"toc-item-num\">2.6&nbsp;&nbsp;</span>DecisionTreeClassifier (без учёта дисбаланса)</a></span></li><li><span><a href=\"#RandomForestClassifier-(без-учёта-дисбаланса)\" data-toc-modified-id=\"RandomForestClassifier-(без-учёта-дисбаланса)-2.7\"><span class=\"toc-item-num\">2.7&nbsp;&nbsp;</span>RandomForestClassifier (без учёта дисбаланса)</a></span></li></ul></li><li><span><a href=\"#Борьба-с-дисбалансом\" data-toc-modified-id=\"Борьба-с-дисбалансом-3\"><span class=\"toc-item-num\">3&nbsp;&nbsp;</span>Борьба с дисбалансом</a></span><ul class=\"toc-item\"><li><span><a href=\"#Class_weight-=-'balanced'\" data-toc-modified-id=\"Class_weight-=-'balanced'-3.1\"><span class=\"toc-item-num\">3.1&nbsp;&nbsp;</span>Class_weight = 'balanced'</a></span><ul class=\"toc-item\"><li><span><a href=\"#LogisticRegression\" data-toc-modified-id=\"LogisticRegression-3.1.1\"><span class=\"toc-item-num\">3.1.1&nbsp;&nbsp;</span>LogisticRegression</a></span></li><li><span><a href=\"#DecisionTreeClassifier\" data-toc-modified-id=\"DecisionTreeClassifier-3.1.2\"><span class=\"toc-item-num\">3.1.2&nbsp;&nbsp;</span>DecisionTreeClassifier</a></span></li><li><span><a href=\"#RandomForestClassifier\" data-toc-modified-id=\"RandomForestClassifier-3.1.3\"><span class=\"toc-item-num\">3.1.3&nbsp;&nbsp;</span>RandomForestClassifier</a></span></li></ul></li><li><span><a href=\"#Upsampling\" data-toc-modified-id=\"Upsampling-3.2\"><span class=\"toc-item-num\">3.2&nbsp;&nbsp;</span>Upsampling</a></span><ul class=\"toc-item\"><li><span><a href=\"#LogisticRegression\" data-toc-modified-id=\"LogisticRegression-3.2.1\"><span class=\"toc-item-num\">3.2.1&nbsp;&nbsp;</span>LogisticRegression</a></span></li><li><span><a href=\"#DecisionTreeClassifier\" data-toc-modified-id=\"DecisionTreeClassifier-3.2.2\"><span class=\"toc-item-num\">3.2.2&nbsp;&nbsp;</span>DecisionTreeClassifier</a></span></li><li><span><a href=\"#RandomForestClassifier\" data-toc-modified-id=\"RandomForestClassifier-3.2.3\"><span class=\"toc-item-num\">3.2.3&nbsp;&nbsp;</span>RandomForestClassifier</a></span></li></ul></li><li><span><a href=\"#Downsampling\" data-toc-modified-id=\"Downsampling-3.3\"><span class=\"toc-item-num\">3.3&nbsp;&nbsp;</span>Downsampling</a></span><ul class=\"toc-item\"><li><span><a href=\"#LogisticRegression\" data-toc-modified-id=\"LogisticRegression-3.3.1\"><span class=\"toc-item-num\">3.3.1&nbsp;&nbsp;</span>LogisticRegression</a></span></li><li><span><a href=\"#DecisionTreeClassifier\" data-toc-modified-id=\"DecisionTreeClassifier-3.3.2\"><span class=\"toc-item-num\">3.3.2&nbsp;&nbsp;</span>DecisionTreeClassifier</a></span></li><li><span><a href=\"#RandomForestClassifier\" data-toc-modified-id=\"RandomForestClassifier-3.3.3\"><span class=\"toc-item-num\">3.3.3&nbsp;&nbsp;</span>RandomForestClassifier</a></span></li></ul></li></ul></li><li><span><a href=\"#Тестирование-модели\" data-toc-modified-id=\"Тестирование-модели-4\"><span class=\"toc-item-num\">4&nbsp;&nbsp;</span>Тестирование модели</a></span></li><li><span><a href=\"#Чек-лист-готовности-проекта\" data-toc-modified-id=\"Чек-лист-готовности-проекта-5\"><span class=\"toc-item-num\">5&nbsp;&nbsp;</span>Чек-лист готовности проекта</a></span></li></ul></div>"
   ]
  },
  {
   "cell_type": "markdown",
   "metadata": {},
   "source": [
    "# Отток клиентов"
   ]
  },
  {
   "cell_type": "markdown",
   "metadata": {},
   "source": [
    "Из «Бета-Банка» стали уходить клиенты. Каждый месяц. Немного, но заметно. Банковские маркетологи посчитали: сохранять текущих клиентов дешевле, чем привлекать новых.\n",
    "\n",
    "Нужно спрогнозировать, уйдёт клиент из банка в ближайшее время или нет. Предоставлены исторические данные о поведении клиентов и расторжении договоров с банком. \n",
    "\n",
    "Необходимо построить модель с предельно большим значением *F1*-меры. Нужно довести метрику до 0.59. "
   ]
  },
  {
   "cell_type": "code",
   "execution_count": 1,
   "metadata": {},
   "outputs": [],
   "source": [
    "import pandas as pd\n",
    "\n",
    "import numpy as np\n",
    "\n",
    "import random\n",
    "\n",
    "import matplotlib.pyplot as plt\n",
    "\n",
    "from sklearn.tree import DecisionTreeClassifier\n",
    "from sklearn.linear_model import LogisticRegression\n",
    "from sklearn.ensemble import RandomForestClassifier\n",
    "\n",
    "from sklearn.metrics import roc_auc_score\n",
    "from sklearn.metrics import f1_score\n",
    "\n",
    "from sklearn.model_selection import train_test_split\n",
    "\n",
    "from sklearn.utils import shuffle\n",
    "\n",
    "from sklearn.preprocessing import OrdinalEncoder\n",
    "from sklearn.preprocessing import StandardScaler\n",
    "from sklearn.preprocessing import OneHotEncoder\n"
   ]
  },
  {
   "cell_type": "markdown",
   "metadata": {},
   "source": [
    "## Подготовка данных"
   ]
  },
  {
   "cell_type": "markdown",
   "metadata": {},
   "source": [
    "### Загрузка данных и изучение общей информации"
   ]
  },
  {
   "cell_type": "code",
   "execution_count": 2,
   "metadata": {
    "scrolled": false
   },
   "outputs": [
    {
     "name": "stdout",
     "output_type": "stream",
     "text": [
      "<class 'pandas.core.frame.DataFrame'>\n",
      "RangeIndex: 10000 entries, 0 to 9999\n",
      "Data columns (total 14 columns):\n",
      " #   Column           Non-Null Count  Dtype  \n",
      "---  ------           --------------  -----  \n",
      " 0   RowNumber        10000 non-null  int64  \n",
      " 1   CustomerId       10000 non-null  int64  \n",
      " 2   Surname          10000 non-null  object \n",
      " 3   CreditScore      10000 non-null  int64  \n",
      " 4   Geography        10000 non-null  object \n",
      " 5   Gender           10000 non-null  object \n",
      " 6   Age              10000 non-null  int64  \n",
      " 7   Tenure           9091 non-null   float64\n",
      " 8   Balance          10000 non-null  float64\n",
      " 9   NumOfProducts    10000 non-null  int64  \n",
      " 10  HasCrCard        10000 non-null  int64  \n",
      " 11  IsActiveMember   10000 non-null  int64  \n",
      " 12  EstimatedSalary  10000 non-null  float64\n",
      " 13  Exited           10000 non-null  int64  \n",
      "dtypes: float64(3), int64(8), object(3)\n",
      "memory usage: 1.1+ MB\n"
     ]
    }
   ],
   "source": [
    "df = pd.read_csv('/datasets/Churn.csv')\n",
    "df.info()"
   ]
  },
  {
   "cell_type": "markdown",
   "metadata": {},
   "source": [
    "В столбце `Tenure` есть пропуски"
   ]
  },
  {
   "cell_type": "code",
   "execution_count": 3,
   "metadata": {
    "scrolled": false
   },
   "outputs": [
    {
     "data": {
      "text/html": [
       "<div>\n",
       "<style scoped>\n",
       "    .dataframe tbody tr th:only-of-type {\n",
       "        vertical-align: middle;\n",
       "    }\n",
       "\n",
       "    .dataframe tbody tr th {\n",
       "        vertical-align: top;\n",
       "    }\n",
       "\n",
       "    .dataframe thead th {\n",
       "        text-align: right;\n",
       "    }\n",
       "</style>\n",
       "<table border=\"1\" class=\"dataframe\">\n",
       "  <thead>\n",
       "    <tr style=\"text-align: right;\">\n",
       "      <th></th>\n",
       "      <th>RowNumber</th>\n",
       "      <th>CustomerId</th>\n",
       "      <th>Surname</th>\n",
       "      <th>CreditScore</th>\n",
       "      <th>Geography</th>\n",
       "      <th>Gender</th>\n",
       "      <th>Age</th>\n",
       "      <th>Tenure</th>\n",
       "      <th>Balance</th>\n",
       "      <th>NumOfProducts</th>\n",
       "      <th>HasCrCard</th>\n",
       "      <th>IsActiveMember</th>\n",
       "      <th>EstimatedSalary</th>\n",
       "      <th>Exited</th>\n",
       "    </tr>\n",
       "  </thead>\n",
       "  <tbody>\n",
       "    <tr>\n",
       "      <th>0</th>\n",
       "      <td>1</td>\n",
       "      <td>15634602</td>\n",
       "      <td>Hargrave</td>\n",
       "      <td>619</td>\n",
       "      <td>France</td>\n",
       "      <td>Female</td>\n",
       "      <td>42</td>\n",
       "      <td>2.0</td>\n",
       "      <td>0.00</td>\n",
       "      <td>1</td>\n",
       "      <td>1</td>\n",
       "      <td>1</td>\n",
       "      <td>101348.88</td>\n",
       "      <td>1</td>\n",
       "    </tr>\n",
       "    <tr>\n",
       "      <th>1</th>\n",
       "      <td>2</td>\n",
       "      <td>15647311</td>\n",
       "      <td>Hill</td>\n",
       "      <td>608</td>\n",
       "      <td>Spain</td>\n",
       "      <td>Female</td>\n",
       "      <td>41</td>\n",
       "      <td>1.0</td>\n",
       "      <td>83807.86</td>\n",
       "      <td>1</td>\n",
       "      <td>0</td>\n",
       "      <td>1</td>\n",
       "      <td>112542.58</td>\n",
       "      <td>0</td>\n",
       "    </tr>\n",
       "    <tr>\n",
       "      <th>2</th>\n",
       "      <td>3</td>\n",
       "      <td>15619304</td>\n",
       "      <td>Onio</td>\n",
       "      <td>502</td>\n",
       "      <td>France</td>\n",
       "      <td>Female</td>\n",
       "      <td>42</td>\n",
       "      <td>8.0</td>\n",
       "      <td>159660.80</td>\n",
       "      <td>3</td>\n",
       "      <td>1</td>\n",
       "      <td>0</td>\n",
       "      <td>113931.57</td>\n",
       "      <td>1</td>\n",
       "    </tr>\n",
       "    <tr>\n",
       "      <th>3</th>\n",
       "      <td>4</td>\n",
       "      <td>15701354</td>\n",
       "      <td>Boni</td>\n",
       "      <td>699</td>\n",
       "      <td>France</td>\n",
       "      <td>Female</td>\n",
       "      <td>39</td>\n",
       "      <td>1.0</td>\n",
       "      <td>0.00</td>\n",
       "      <td>2</td>\n",
       "      <td>0</td>\n",
       "      <td>0</td>\n",
       "      <td>93826.63</td>\n",
       "      <td>0</td>\n",
       "    </tr>\n",
       "    <tr>\n",
       "      <th>4</th>\n",
       "      <td>5</td>\n",
       "      <td>15737888</td>\n",
       "      <td>Mitchell</td>\n",
       "      <td>850</td>\n",
       "      <td>Spain</td>\n",
       "      <td>Female</td>\n",
       "      <td>43</td>\n",
       "      <td>2.0</td>\n",
       "      <td>125510.82</td>\n",
       "      <td>1</td>\n",
       "      <td>1</td>\n",
       "      <td>1</td>\n",
       "      <td>79084.10</td>\n",
       "      <td>0</td>\n",
       "    </tr>\n",
       "  </tbody>\n",
       "</table>\n",
       "</div>"
      ],
      "text/plain": [
       "   RowNumber  CustomerId   Surname  CreditScore Geography  Gender  Age  \\\n",
       "0          1    15634602  Hargrave          619    France  Female   42   \n",
       "1          2    15647311      Hill          608     Spain  Female   41   \n",
       "2          3    15619304      Onio          502    France  Female   42   \n",
       "3          4    15701354      Boni          699    France  Female   39   \n",
       "4          5    15737888  Mitchell          850     Spain  Female   43   \n",
       "\n",
       "   Tenure    Balance  NumOfProducts  HasCrCard  IsActiveMember  \\\n",
       "0     2.0       0.00              1          1               1   \n",
       "1     1.0   83807.86              1          0               1   \n",
       "2     8.0  159660.80              3          1               0   \n",
       "3     1.0       0.00              2          0               0   \n",
       "4     2.0  125510.82              1          1               1   \n",
       "\n",
       "   EstimatedSalary  Exited  \n",
       "0        101348.88       1  \n",
       "1        112542.58       0  \n",
       "2        113931.57       1  \n",
       "3         93826.63       0  \n",
       "4         79084.10       0  "
      ]
     },
     "execution_count": 3,
     "metadata": {},
     "output_type": "execute_result"
    }
   ],
   "source": [
    "df.head()"
   ]
  },
  {
   "cell_type": "code",
   "execution_count": 4,
   "metadata": {},
   "outputs": [
    {
     "data": {
      "image/png": "[encoded data removed]",
      "text/plain": [
       "<Figure size 432x288 with 1 Axes>"
      ]
     },
     "metadata": {
      "needs_background": "light"
     },
     "output_type": "display_data"
    }
   ],
   "source": [
    "plt.title('Распределение клиентов в зависимости от кредитного рейтинга')\n",
    "plt.xlabel('Рейтинг')\n",
    "\n",
    "df['CreditScore'].plot(kind='hist', grid=True);"
   ]
  },
  {
   "cell_type": "code",
   "execution_count": 5,
   "metadata": {},
   "outputs": [
    {
     "data": {
      "image/png": "[encoded data removed]",
      "text/plain": [
       "<Figure size 432x288 with 1 Axes>"
      ]
     },
     "metadata": {
      "needs_background": "light"
     },
     "output_type": "display_data"
    }
   ],
   "source": [
    "plt.title('Распределение клиентов в зависимости от страны проживания')\n",
    "plt.xlabel('Количество клиентов')\n",
    "\n",
    "df['Geography'].value_counts().plot(kind='barh');"
   ]
  },
  {
   "cell_type": "code",
   "execution_count": 6,
   "metadata": {},
   "outputs": [
    {
     "data": {
      "image/png": "[encoded data removed]",
      "text/plain": [
       "<Figure size 432x288 with 1 Axes>"
      ]
     },
     "metadata": {
      "needs_background": "light"
     },
     "output_type": "display_data"
    }
   ],
   "source": [
    "plt.title('Распределение клиентов в зависимости от пола')\n",
    "plt.xlabel('Количество клиентов')\n",
    "\n",
    "df['Gender'].value_counts().plot(kind='barh');"
   ]
  },
  {
   "cell_type": "code",
   "execution_count": 7,
   "metadata": {},
   "outputs": [
    {
     "data": {
      "image/png": "[encoded data removed]",
      "text/plain": [
       "<Figure size 432x288 with 1 Axes>"
      ]
     },
     "metadata": {
      "needs_background": "light"
     },
     "output_type": "display_data"
    }
   ],
   "source": [
    "plt.title('Распределение клиентов в зависимости от количества лет, которое они являются клиентами банка')\n",
    "plt.xlabel('Количество лет')\n",
    "plt.ylabel('Количество клиентов')\n",
    "\n",
    "df['Tenure'].hist(bins=21);"
   ]
  },
  {
   "cell_type": "code",
   "execution_count": 8,
   "metadata": {},
   "outputs": [
    {
     "data": {
      "image/png": "[encoded data removed]",
      "text/plain": [
       "<Figure size 432x288 with 1 Axes>"
      ]
     },
     "metadata": {
      "needs_background": "light"
     },
     "output_type": "display_data"
    }
   ],
   "source": [
    "plt.title('Распределение клиентов в зависимости от баланса на счёте')\n",
    "plt.xlabel('Баланс на счёте')\n",
    "plt.ylabel('Количество клиентов')\n",
    "\n",
    "df['Balance'].hist(bins=30);"
   ]
  },
  {
   "cell_type": "code",
   "execution_count": 9,
   "metadata": {},
   "outputs": [
    {
     "data": {
      "image/png": "[encoded data removed]",
      "text/plain": [
       "<Figure size 432x288 with 1 Axes>"
      ]
     },
     "metadata": {
      "needs_background": "light"
     },
     "output_type": "display_data"
    }
   ],
   "source": [
    "plt.title('Распределение клиентов в зависимости от количества продуктов банка, которыми они пользуются')\n",
    "plt.xlabel('Количество клиентов')\n",
    "plt.ylabel('Количество продуктов')\n",
    "\n",
    "df['NumOfProducts'].value_counts().plot(kind='barh');"
   ]
  },
  {
   "cell_type": "code",
   "execution_count": 10,
   "metadata": {
    "scrolled": true
   },
   "outputs": [
    {
     "data": {
      "image/png": "[encoded data removed]",
      "text/plain": [
       "<Figure size 432x288 with 1 Axes>"
      ]
     },
     "metadata": {
      "needs_background": "light"
     },
     "output_type": "display_data"
    }
   ],
   "source": [
    "plt.title('Распределение клиентов в зависимости от наличия кредитной карты')\n",
    "plt.xlabel('Количество клиентов')\n",
    "plt.ylabel('Наличие карты')\n",
    "\n",
    "df['HasCrCard'].value_counts().plot(kind='barh');"
   ]
  },
  {
   "cell_type": "code",
   "execution_count": 11,
   "metadata": {},
   "outputs": [
    {
     "data": {
      "image/png": "[encoded data removed]",
      "text/plain": [
       "<Figure size 432x288 with 1 Axes>"
      ]
     },
     "metadata": {
      "needs_background": "light"
     },
     "output_type": "display_data"
    }
   ],
   "source": [
    "plt.title('Распределение клиентов в зависимости от того, являются ли они активными или нет')\n",
    "plt.xlabel('Количество клиентов')\n",
    "\n",
    "df['IsActiveMember'].value_counts().plot(kind='barh');"
   ]
  },
  {
   "cell_type": "code",
   "execution_count": 12,
   "metadata": {
    "scrolled": true
   },
   "outputs": [
    {
     "data": {
      "image/png": "[encoded data removed]",
      "text/plain": [
       "<Figure size 432x288 with 1 Axes>"
      ]
     },
     "metadata": {
      "needs_background": "light"
     },
     "output_type": "display_data"
    }
   ],
   "source": [
    "plt.title('Распределение клиентов в зависимости от предполагаемой заработной платы')\n",
    "plt.xlabel('Предполагаемая заработная плата')\n",
    "plt.ylabel('Количество клиентов')\n",
    "\n",
    "df['EstimatedSalary'].hist(bins=200);"
   ]
  },
  {
   "cell_type": "code",
   "execution_count": 13,
   "metadata": {},
   "outputs": [
    {
     "data": {
      "image/png": "[encoded data removed]",
      "text/plain": [
       "<Figure size 432x288 with 1 Axes>"
      ]
     },
     "metadata": {
      "needs_background": "light"
     },
     "output_type": "display_data"
    }
   ],
   "source": [
    "plt.title('Распределение клиентов в зависимости от факта ухода клиента')\n",
    "plt.xlabel('Количество клиентов')\n",
    "\n",
    "df['Exited'].value_counts().plot(kind='barh');"
   ]
  },
  {
   "cell_type": "markdown",
   "metadata": {},
   "source": [
    "Наблюдается дисбаланс классов, ушедших примерно в 4 раза меньше."
   ]
  },
  {
   "cell_type": "code",
   "execution_count": 14,
   "metadata": {
    "scrolled": false
   },
   "outputs": [
    {
     "data": {
      "text/html": [
       "<div>\n",
       "<style scoped>\n",
       "    .dataframe tbody tr th:only-of-type {\n",
       "        vertical-align: middle;\n",
       "    }\n",
       "\n",
       "    .dataframe tbody tr th {\n",
       "        vertical-align: top;\n",
       "    }\n",
       "\n",
       "    .dataframe thead th {\n",
       "        text-align: right;\n",
       "    }\n",
       "</style>\n",
       "<table border=\"1\" class=\"dataframe\">\n",
       "  <thead>\n",
       "    <tr style=\"text-align: right;\">\n",
       "      <th></th>\n",
       "      <th>RowNumber</th>\n",
       "      <th>CustomerId</th>\n",
       "      <th>CreditScore</th>\n",
       "      <th>Age</th>\n",
       "      <th>Tenure</th>\n",
       "      <th>Balance</th>\n",
       "      <th>NumOfProducts</th>\n",
       "      <th>HasCrCard</th>\n",
       "      <th>IsActiveMember</th>\n",
       "      <th>EstimatedSalary</th>\n",
       "      <th>Exited</th>\n",
       "    </tr>\n",
       "  </thead>\n",
       "  <tbody>\n",
       "    <tr>\n",
       "      <th>RowNumber</th>\n",
       "      <td>1.000000</td>\n",
       "      <td>0.004202</td>\n",
       "      <td>0.005840</td>\n",
       "      <td>0.000783</td>\n",
       "      <td>-0.007322</td>\n",
       "      <td>-0.009067</td>\n",
       "      <td>0.007246</td>\n",
       "      <td>0.000599</td>\n",
       "      <td>0.012044</td>\n",
       "      <td>-0.005988</td>\n",
       "      <td>-0.016571</td>\n",
       "    </tr>\n",
       "    <tr>\n",
       "      <th>CustomerId</th>\n",
       "      <td>0.004202</td>\n",
       "      <td>1.000000</td>\n",
       "      <td>0.005308</td>\n",
       "      <td>0.009497</td>\n",
       "      <td>-0.021418</td>\n",
       "      <td>-0.012419</td>\n",
       "      <td>0.016972</td>\n",
       "      <td>-0.014025</td>\n",
       "      <td>0.001665</td>\n",
       "      <td>0.015271</td>\n",
       "      <td>-0.006248</td>\n",
       "    </tr>\n",
       "    <tr>\n",
       "      <th>CreditScore</th>\n",
       "      <td>0.005840</td>\n",
       "      <td>0.005308</td>\n",
       "      <td>1.000000</td>\n",
       "      <td>-0.003965</td>\n",
       "      <td>-0.000062</td>\n",
       "      <td>0.006268</td>\n",
       "      <td>0.012238</td>\n",
       "      <td>-0.005458</td>\n",
       "      <td>0.025651</td>\n",
       "      <td>-0.001384</td>\n",
       "      <td>-0.027094</td>\n",
       "    </tr>\n",
       "    <tr>\n",
       "      <th>Age</th>\n",
       "      <td>0.000783</td>\n",
       "      <td>0.009497</td>\n",
       "      <td>-0.003965</td>\n",
       "      <td>1.000000</td>\n",
       "      <td>-0.013134</td>\n",
       "      <td>0.028308</td>\n",
       "      <td>-0.030680</td>\n",
       "      <td>-0.011721</td>\n",
       "      <td>0.085472</td>\n",
       "      <td>-0.007201</td>\n",
       "      <td>0.285323</td>\n",
       "    </tr>\n",
       "    <tr>\n",
       "      <th>Tenure</th>\n",
       "      <td>-0.007322</td>\n",
       "      <td>-0.021418</td>\n",
       "      <td>-0.000062</td>\n",
       "      <td>-0.013134</td>\n",
       "      <td>1.000000</td>\n",
       "      <td>-0.007911</td>\n",
       "      <td>0.011979</td>\n",
       "      <td>0.027232</td>\n",
       "      <td>-0.032178</td>\n",
       "      <td>0.010520</td>\n",
       "      <td>-0.016761</td>\n",
       "    </tr>\n",
       "    <tr>\n",
       "      <th>Balance</th>\n",
       "      <td>-0.009067</td>\n",
       "      <td>-0.012419</td>\n",
       "      <td>0.006268</td>\n",
       "      <td>0.028308</td>\n",
       "      <td>-0.007911</td>\n",
       "      <td>1.000000</td>\n",
       "      <td>-0.304180</td>\n",
       "      <td>-0.014858</td>\n",
       "      <td>-0.010084</td>\n",
       "      <td>0.012797</td>\n",
       "      <td>0.118533</td>\n",
       "    </tr>\n",
       "    <tr>\n",
       "      <th>NumOfProducts</th>\n",
       "      <td>0.007246</td>\n",
       "      <td>0.016972</td>\n",
       "      <td>0.012238</td>\n",
       "      <td>-0.030680</td>\n",
       "      <td>0.011979</td>\n",
       "      <td>-0.304180</td>\n",
       "      <td>1.000000</td>\n",
       "      <td>0.003183</td>\n",
       "      <td>0.009612</td>\n",
       "      <td>0.014204</td>\n",
       "      <td>-0.047820</td>\n",
       "    </tr>\n",
       "    <tr>\n",
       "      <th>HasCrCard</th>\n",
       "      <td>0.000599</td>\n",
       "      <td>-0.014025</td>\n",
       "      <td>-0.005458</td>\n",
       "      <td>-0.011721</td>\n",
       "      <td>0.027232</td>\n",
       "      <td>-0.014858</td>\n",
       "      <td>0.003183</td>\n",
       "      <td>1.000000</td>\n",
       "      <td>-0.011866</td>\n",
       "      <td>-0.009933</td>\n",
       "      <td>-0.007138</td>\n",
       "    </tr>\n",
       "    <tr>\n",
       "      <th>IsActiveMember</th>\n",
       "      <td>0.012044</td>\n",
       "      <td>0.001665</td>\n",
       "      <td>0.025651</td>\n",
       "      <td>0.085472</td>\n",
       "      <td>-0.032178</td>\n",
       "      <td>-0.010084</td>\n",
       "      <td>0.009612</td>\n",
       "      <td>-0.011866</td>\n",
       "      <td>1.000000</td>\n",
       "      <td>-0.011421</td>\n",
       "      <td>-0.156128</td>\n",
       "    </tr>\n",
       "    <tr>\n",
       "      <th>EstimatedSalary</th>\n",
       "      <td>-0.005988</td>\n",
       "      <td>0.015271</td>\n",
       "      <td>-0.001384</td>\n",
       "      <td>-0.007201</td>\n",
       "      <td>0.010520</td>\n",
       "      <td>0.012797</td>\n",
       "      <td>0.014204</td>\n",
       "      <td>-0.009933</td>\n",
       "      <td>-0.011421</td>\n",
       "      <td>1.000000</td>\n",
       "      <td>0.012097</td>\n",
       "    </tr>\n",
       "    <tr>\n",
       "      <th>Exited</th>\n",
       "      <td>-0.016571</td>\n",
       "      <td>-0.006248</td>\n",
       "      <td>-0.027094</td>\n",
       "      <td>0.285323</td>\n",
       "      <td>-0.016761</td>\n",
       "      <td>0.118533</td>\n",
       "      <td>-0.047820</td>\n",
       "      <td>-0.007138</td>\n",
       "      <td>-0.156128</td>\n",
       "      <td>0.012097</td>\n",
       "      <td>1.000000</td>\n",
       "    </tr>\n",
       "  </tbody>\n",
       "</table>\n",
       "</div>"
      ],
      "text/plain": [
       "                 RowNumber  CustomerId  CreditScore       Age    Tenure  \\\n",
       "RowNumber         1.000000    0.004202     0.005840  0.000783 -0.007322   \n",
       "CustomerId        0.004202    1.000000     0.005308  0.009497 -0.021418   \n",
       "CreditScore       0.005840    0.005308     1.000000 -0.003965 -0.000062   \n",
       "Age               0.000783    0.009497    -0.003965  1.000000 -0.013134   \n",
       "Tenure           -0.007322   -0.021418    -0.000062 -0.013134  1.000000   \n",
       "Balance          -0.009067   -0.012419     0.006268  0.028308 -0.007911   \n",
       "NumOfProducts     0.007246    0.016972     0.012238 -0.030680  0.011979   \n",
       "HasCrCard         0.000599   -0.014025    -0.005458 -0.011721  0.027232   \n",
       "IsActiveMember    0.012044    0.001665     0.025651  0.085472 -0.032178   \n",
       "EstimatedSalary  -0.005988    0.015271    -0.001384 -0.007201  0.010520   \n",
       "Exited           -0.016571   -0.006248    -0.027094  0.285323 -0.016761   \n",
       "\n",
       "                  Balance  NumOfProducts  HasCrCard  IsActiveMember  \\\n",
       "RowNumber       -0.009067       0.007246   0.000599        0.012044   \n",
       "CustomerId      -0.012419       0.016972  -0.014025        0.001665   \n",
       "CreditScore      0.006268       0.012238  -0.005458        0.025651   \n",
       "Age              0.028308      -0.030680  -0.011721        0.085472   \n",
       "Tenure          -0.007911       0.011979   0.027232       -0.032178   \n",
       "Balance          1.000000      -0.304180  -0.014858       -0.010084   \n",
       "NumOfProducts   -0.304180       1.000000   0.003183        0.009612   \n",
       "HasCrCard       -0.014858       0.003183   1.000000       -0.011866   \n",
       "IsActiveMember  -0.010084       0.009612  -0.011866        1.000000   \n",
       "EstimatedSalary  0.012797       0.014204  -0.009933       -0.011421   \n",
       "Exited           0.118533      -0.047820  -0.007138       -0.156128   \n",
       "\n",
       "                 EstimatedSalary    Exited  \n",
       "RowNumber              -0.005988 -0.016571  \n",
       "CustomerId              0.015271 -0.006248  \n",
       "CreditScore            -0.001384 -0.027094  \n",
       "Age                    -0.007201  0.285323  \n",
       "Tenure                  0.010520 -0.016761  \n",
       "Balance                 0.012797  0.118533  \n",
       "NumOfProducts           0.014204 -0.047820  \n",
       "HasCrCard              -0.009933 -0.007138  \n",
       "IsActiveMember         -0.011421 -0.156128  \n",
       "EstimatedSalary         1.000000  0.012097  \n",
       "Exited                  0.012097  1.000000  "
      ]
     },
     "execution_count": 14,
     "metadata": {},
     "output_type": "execute_result"
    }
   ],
   "source": [
    "df.corr()"
   ]
  },
  {
   "cell_type": "markdown",
   "metadata": {},
   "source": [
    "Наиболее заметно факт ухода коррелирует с возрастом."
   ]
  },
  {
   "cell_type": "code",
   "execution_count": 15,
   "metadata": {},
   "outputs": [
    {
     "data": {
      "image/png": "[encoded data removed]",
      "text/plain": [
       "<Figure size 432x288 with 1 Axes>"
      ]
     },
     "metadata": {
      "needs_background": "light"
     },
     "output_type": "display_data"
    }
   ],
   "source": [
    "df.query('Exited == 0').plot(x='Exited', y='Age', kind='box');"
   ]
  },
  {
   "cell_type": "code",
   "execution_count": 16,
   "metadata": {},
   "outputs": [
    {
     "data": {
      "image/png": "[encoded data removed]",
      "text/plain": [
       "<Figure size 432x288 with 1 Axes>"
      ]
     },
     "metadata": {
      "needs_background": "light"
     },
     "output_type": "display_data"
    }
   ],
   "source": [
    "df.query('Exited == 1').plot(x='Exited', y='Age', kind='box');"
   ]
  },
  {
   "cell_type": "code",
   "execution_count": 17,
   "metadata": {},
   "outputs": [
    {
     "data": {
      "text/plain": [
       "2037"
      ]
     },
     "execution_count": 17,
     "metadata": {},
     "output_type": "execute_result"
    }
   ],
   "source": [
    "df.query('Exited == 1')['Exited'].count()"
   ]
  },
  {
   "cell_type": "code",
   "execution_count": 18,
   "metadata": {},
   "outputs": [
    {
     "data": {
      "text/plain": [
       "7963"
      ]
     },
     "execution_count": 18,
     "metadata": {},
     "output_type": "execute_result"
    }
   ],
   "source": [
    "df.query('Exited == 0')['Exited'].count()"
   ]
  },
  {
   "cell_type": "markdown",
   "metadata": {},
   "source": [
    "Наблюдается дисбаланс классов, ушедших в 4 раза меньше"
   ]
  },
  {
   "cell_type": "markdown",
   "metadata": {},
   "source": [
    "### Замена названий столбцов"
   ]
  },
  {
   "cell_type": "code",
   "execution_count": 19,
   "metadata": {
    "scrolled": false
   },
   "outputs": [
    {
     "data": {
      "text/plain": [
       "RowNumber            0\n",
       "CustomerId           0\n",
       "Surname              0\n",
       "CreditScore          0\n",
       "Geography            0\n",
       "Gender               0\n",
       "Age                  0\n",
       "Tenure             909\n",
       "Balance              0\n",
       "NumOfProducts        0\n",
       "HasCrCard            0\n",
       "IsActiveMember       0\n",
       "EstimatedSalary      0\n",
       "Exited               0\n",
       "dtype: int64"
      ]
     },
     "execution_count": 19,
     "metadata": {},
     "output_type": "execute_result"
    }
   ],
   "source": [
    "df.isna().sum()"
   ]
  },
  {
   "cell_type": "code",
   "execution_count": 20,
   "metadata": {},
   "outputs": [
    {
     "data": {
      "text/plain": [
       "RowNumber            0\n",
       "CustomerId           0\n",
       "Surname              0\n",
       "CreditScore          0\n",
       "Geography            0\n",
       "Gender               0\n",
       "Age                  0\n",
       "Tenure             183\n",
       "Balance              0\n",
       "NumOfProducts        0\n",
       "HasCrCard            0\n",
       "IsActiveMember       0\n",
       "EstimatedSalary      0\n",
       "Exited               0\n",
       "dtype: int64"
      ]
     },
     "execution_count": 20,
     "metadata": {},
     "output_type": "execute_result"
    }
   ],
   "source": [
    "df.query('Exited == 1').isna().sum()"
   ]
  },
  {
   "cell_type": "code",
   "execution_count": 21,
   "metadata": {},
   "outputs": [
    {
     "data": {
      "text/plain": [
       "RowNumber            0\n",
       "CustomerId           0\n",
       "Surname              0\n",
       "CreditScore          0\n",
       "Geography            0\n",
       "Gender               0\n",
       "Age                  0\n",
       "Tenure             726\n",
       "Balance              0\n",
       "NumOfProducts        0\n",
       "HasCrCard            0\n",
       "IsActiveMember       0\n",
       "EstimatedSalary      0\n",
       "Exited               0\n",
       "dtype: int64"
      ]
     },
     "execution_count": 21,
     "metadata": {},
     "output_type": "execute_result"
    }
   ],
   "source": [
    "df.query('Exited == 0').isna().sum()"
   ]
  },
  {
   "cell_type": "code",
   "execution_count": 23,
   "metadata": {
    "scrolled": false
   },
   "outputs": [
    {
     "data": {
      "text/html": [
       "<div>\n",
       "<style scoped>\n",
       "    .dataframe tbody tr th:only-of-type {\n",
       "        vertical-align: middle;\n",
       "    }\n",
       "\n",
       "    .dataframe tbody tr th {\n",
       "        vertical-align: top;\n",
       "    }\n",
       "\n",
       "    .dataframe thead th {\n",
       "        text-align: right;\n",
       "    }\n",
       "</style>\n",
       "<table border=\"1\" class=\"dataframe\">\n",
       "  <thead>\n",
       "    <tr style=\"text-align: right;\">\n",
       "      <th></th>\n",
       "      <th>RowNumber</th>\n",
       "      <th>CustomerId</th>\n",
       "      <th>Surname</th>\n",
       "      <th>CreditScore</th>\n",
       "      <th>Geography</th>\n",
       "      <th>Gender</th>\n",
       "      <th>Age</th>\n",
       "      <th>Tenure</th>\n",
       "      <th>Balance</th>\n",
       "      <th>NumOfProducts</th>\n",
       "      <th>HasCrCard</th>\n",
       "      <th>IsActiveMember</th>\n",
       "      <th>EstimatedSalary</th>\n",
       "      <th>Exited</th>\n",
       "    </tr>\n",
       "  </thead>\n",
       "  <tbody>\n",
       "    <tr>\n",
       "      <th>0</th>\n",
       "      <td>1</td>\n",
       "      <td>15634602</td>\n",
       "      <td>Hargrave</td>\n",
       "      <td>619</td>\n",
       "      <td>France</td>\n",
       "      <td>Female</td>\n",
       "      <td>42</td>\n",
       "      <td>2.0</td>\n",
       "      <td>0.00</td>\n",
       "      <td>1</td>\n",
       "      <td>1</td>\n",
       "      <td>1</td>\n",
       "      <td>101348.88</td>\n",
       "      <td>1</td>\n",
       "    </tr>\n",
       "    <tr>\n",
       "      <th>1</th>\n",
       "      <td>2</td>\n",
       "      <td>15647311</td>\n",
       "      <td>Hill</td>\n",
       "      <td>608</td>\n",
       "      <td>Spain</td>\n",
       "      <td>Female</td>\n",
       "      <td>41</td>\n",
       "      <td>1.0</td>\n",
       "      <td>83807.86</td>\n",
       "      <td>1</td>\n",
       "      <td>0</td>\n",
       "      <td>1</td>\n",
       "      <td>112542.58</td>\n",
       "      <td>0</td>\n",
       "    </tr>\n",
       "    <tr>\n",
       "      <th>2</th>\n",
       "      <td>3</td>\n",
       "      <td>15619304</td>\n",
       "      <td>Onio</td>\n",
       "      <td>502</td>\n",
       "      <td>France</td>\n",
       "      <td>Female</td>\n",
       "      <td>42</td>\n",
       "      <td>8.0</td>\n",
       "      <td>159660.80</td>\n",
       "      <td>3</td>\n",
       "      <td>1</td>\n",
       "      <td>0</td>\n",
       "      <td>113931.57</td>\n",
       "      <td>1</td>\n",
       "    </tr>\n",
       "    <tr>\n",
       "      <th>3</th>\n",
       "      <td>4</td>\n",
       "      <td>15701354</td>\n",
       "      <td>Boni</td>\n",
       "      <td>699</td>\n",
       "      <td>France</td>\n",
       "      <td>Female</td>\n",
       "      <td>39</td>\n",
       "      <td>1.0</td>\n",
       "      <td>0.00</td>\n",
       "      <td>2</td>\n",
       "      <td>0</td>\n",
       "      <td>0</td>\n",
       "      <td>93826.63</td>\n",
       "      <td>0</td>\n",
       "    </tr>\n",
       "    <tr>\n",
       "      <th>4</th>\n",
       "      <td>5</td>\n",
       "      <td>15737888</td>\n",
       "      <td>Mitchell</td>\n",
       "      <td>850</td>\n",
       "      <td>Spain</td>\n",
       "      <td>Female</td>\n",
       "      <td>43</td>\n",
       "      <td>2.0</td>\n",
       "      <td>125510.82</td>\n",
       "      <td>1</td>\n",
       "      <td>1</td>\n",
       "      <td>1</td>\n",
       "      <td>79084.10</td>\n",
       "      <td>0</td>\n",
       "    </tr>\n",
       "    <tr>\n",
       "      <th>...</th>\n",
       "      <td>...</td>\n",
       "      <td>...</td>\n",
       "      <td>...</td>\n",
       "      <td>...</td>\n",
       "      <td>...</td>\n",
       "      <td>...</td>\n",
       "      <td>...</td>\n",
       "      <td>...</td>\n",
       "      <td>...</td>\n",
       "      <td>...</td>\n",
       "      <td>...</td>\n",
       "      <td>...</td>\n",
       "      <td>...</td>\n",
       "      <td>...</td>\n",
       "    </tr>\n",
       "    <tr>\n",
       "      <th>9995</th>\n",
       "      <td>9996</td>\n",
       "      <td>15606229</td>\n",
       "      <td>Obijiaku</td>\n",
       "      <td>771</td>\n",
       "      <td>France</td>\n",
       "      <td>Male</td>\n",
       "      <td>39</td>\n",
       "      <td>5.0</td>\n",
       "      <td>0.00</td>\n",
       "      <td>2</td>\n",
       "      <td>1</td>\n",
       "      <td>0</td>\n",
       "      <td>96270.64</td>\n",
       "      <td>0</td>\n",
       "    </tr>\n",
       "    <tr>\n",
       "      <th>9996</th>\n",
       "      <td>9997</td>\n",
       "      <td>15569892</td>\n",
       "      <td>Johnstone</td>\n",
       "      <td>516</td>\n",
       "      <td>France</td>\n",
       "      <td>Male</td>\n",
       "      <td>35</td>\n",
       "      <td>10.0</td>\n",
       "      <td>57369.61</td>\n",
       "      <td>1</td>\n",
       "      <td>1</td>\n",
       "      <td>1</td>\n",
       "      <td>101699.77</td>\n",
       "      <td>0</td>\n",
       "    </tr>\n",
       "    <tr>\n",
       "      <th>9997</th>\n",
       "      <td>9998</td>\n",
       "      <td>15584532</td>\n",
       "      <td>Liu</td>\n",
       "      <td>709</td>\n",
       "      <td>France</td>\n",
       "      <td>Female</td>\n",
       "      <td>36</td>\n",
       "      <td>7.0</td>\n",
       "      <td>0.00</td>\n",
       "      <td>1</td>\n",
       "      <td>0</td>\n",
       "      <td>1</td>\n",
       "      <td>42085.58</td>\n",
       "      <td>1</td>\n",
       "    </tr>\n",
       "    <tr>\n",
       "      <th>9998</th>\n",
       "      <td>9999</td>\n",
       "      <td>15682355</td>\n",
       "      <td>Sabbatini</td>\n",
       "      <td>772</td>\n",
       "      <td>Germany</td>\n",
       "      <td>Male</td>\n",
       "      <td>42</td>\n",
       "      <td>3.0</td>\n",
       "      <td>75075.31</td>\n",
       "      <td>2</td>\n",
       "      <td>1</td>\n",
       "      <td>0</td>\n",
       "      <td>92888.52</td>\n",
       "      <td>1</td>\n",
       "    </tr>\n",
       "    <tr>\n",
       "      <th>9999</th>\n",
       "      <td>10000</td>\n",
       "      <td>15628319</td>\n",
       "      <td>Walker</td>\n",
       "      <td>792</td>\n",
       "      <td>France</td>\n",
       "      <td>Female</td>\n",
       "      <td>28</td>\n",
       "      <td>NaN</td>\n",
       "      <td>130142.79</td>\n",
       "      <td>1</td>\n",
       "      <td>1</td>\n",
       "      <td>0</td>\n",
       "      <td>38190.78</td>\n",
       "      <td>0</td>\n",
       "    </tr>\n",
       "  </tbody>\n",
       "</table>\n",
       "<p>10000 rows × 14 columns</p>\n",
       "</div>"
      ],
      "text/plain": [
       "      RowNumber  CustomerId    Surname  CreditScore Geography  Gender  Age  \\\n",
       "0             1    15634602   Hargrave          619    France  Female   42   \n",
       "1             2    15647311       Hill          608     Spain  Female   41   \n",
       "2             3    15619304       Onio          502    France  Female   42   \n",
       "3             4    15701354       Boni          699    France  Female   39   \n",
       "4             5    15737888   Mitchell          850     Spain  Female   43   \n",
       "...         ...         ...        ...          ...       ...     ...  ...   \n",
       "9995       9996    15606229   Obijiaku          771    France    Male   39   \n",
       "9996       9997    15569892  Johnstone          516    France    Male   35   \n",
       "9997       9998    15584532        Liu          709    France  Female   36   \n",
       "9998       9999    15682355  Sabbatini          772   Germany    Male   42   \n",
       "9999      10000    15628319     Walker          792    France  Female   28   \n",
       "\n",
       "      Tenure    Balance  NumOfProducts  HasCrCard  IsActiveMember  \\\n",
       "0        2.0       0.00              1          1               1   \n",
       "1        1.0   83807.86              1          0               1   \n",
       "2        8.0  159660.80              3          1               0   \n",
       "3        1.0       0.00              2          0               0   \n",
       "4        2.0  125510.82              1          1               1   \n",
       "...      ...        ...            ...        ...             ...   \n",
       "9995     5.0       0.00              2          1               0   \n",
       "9996    10.0   57369.61              1          1               1   \n",
       "9997     7.0       0.00              1          0               1   \n",
       "9998     3.0   75075.31              2          1               0   \n",
       "9999     NaN  130142.79              1          1               0   \n",
       "\n",
       "      EstimatedSalary  Exited  \n",
       "0           101348.88       1  \n",
       "1           112542.58       0  \n",
       "2           113931.57       1  \n",
       "3            93826.63       0  \n",
       "4            79084.10       0  \n",
       "...               ...     ...  \n",
       "9995         96270.64       0  \n",
       "9996        101699.77       0  \n",
       "9997         42085.58       1  \n",
       "9998         92888.52       1  \n",
       "9999         38190.78       0  \n",
       "\n",
       "[10000 rows x 14 columns]"
      ]
     },
     "execution_count": 23,
     "metadata": {},
     "output_type": "execute_result"
    }
   ],
   "source": [
    "df = df.reset_index(drop=True)\n",
    "df"
   ]
  },
  {
   "cell_type": "markdown",
   "metadata": {},
   "source": [
    "Сделал правильную индексацию."
   ]
  },
  {
   "cell_type": "code",
   "execution_count": 24,
   "metadata": {
    "scrolled": true
   },
   "outputs": [
    {
     "data": {
      "text/html": [
       "<div>\n",
       "<style scoped>\n",
       "    .dataframe tbody tr th:only-of-type {\n",
       "        vertical-align: middle;\n",
       "    }\n",
       "\n",
       "    .dataframe tbody tr th {\n",
       "        vertical-align: top;\n",
       "    }\n",
       "\n",
       "    .dataframe thead th {\n",
       "        text-align: right;\n",
       "    }\n",
       "</style>\n",
       "<table border=\"1\" class=\"dataframe\">\n",
       "  <thead>\n",
       "    <tr style=\"text-align: right;\">\n",
       "      <th></th>\n",
       "      <th>rownumber</th>\n",
       "      <th>customerid</th>\n",
       "      <th>surname</th>\n",
       "      <th>creditscore</th>\n",
       "      <th>geography</th>\n",
       "      <th>gender</th>\n",
       "      <th>age</th>\n",
       "      <th>tenure</th>\n",
       "      <th>balance</th>\n",
       "      <th>numofproducts</th>\n",
       "      <th>hascrcard</th>\n",
       "      <th>isactivemember</th>\n",
       "      <th>estimatedsalary</th>\n",
       "      <th>exited</th>\n",
       "    </tr>\n",
       "  </thead>\n",
       "  <tbody>\n",
       "    <tr>\n",
       "      <th>0</th>\n",
       "      <td>1</td>\n",
       "      <td>15634602</td>\n",
       "      <td>Hargrave</td>\n",
       "      <td>619</td>\n",
       "      <td>France</td>\n",
       "      <td>Female</td>\n",
       "      <td>42</td>\n",
       "      <td>2.0</td>\n",
       "      <td>0.00</td>\n",
       "      <td>1</td>\n",
       "      <td>1</td>\n",
       "      <td>1</td>\n",
       "      <td>101348.88</td>\n",
       "      <td>1</td>\n",
       "    </tr>\n",
       "    <tr>\n",
       "      <th>1</th>\n",
       "      <td>2</td>\n",
       "      <td>15647311</td>\n",
       "      <td>Hill</td>\n",
       "      <td>608</td>\n",
       "      <td>Spain</td>\n",
       "      <td>Female</td>\n",
       "      <td>41</td>\n",
       "      <td>1.0</td>\n",
       "      <td>83807.86</td>\n",
       "      <td>1</td>\n",
       "      <td>0</td>\n",
       "      <td>1</td>\n",
       "      <td>112542.58</td>\n",
       "      <td>0</td>\n",
       "    </tr>\n",
       "    <tr>\n",
       "      <th>2</th>\n",
       "      <td>3</td>\n",
       "      <td>15619304</td>\n",
       "      <td>Onio</td>\n",
       "      <td>502</td>\n",
       "      <td>France</td>\n",
       "      <td>Female</td>\n",
       "      <td>42</td>\n",
       "      <td>8.0</td>\n",
       "      <td>159660.80</td>\n",
       "      <td>3</td>\n",
       "      <td>1</td>\n",
       "      <td>0</td>\n",
       "      <td>113931.57</td>\n",
       "      <td>1</td>\n",
       "    </tr>\n",
       "    <tr>\n",
       "      <th>3</th>\n",
       "      <td>4</td>\n",
       "      <td>15701354</td>\n",
       "      <td>Boni</td>\n",
       "      <td>699</td>\n",
       "      <td>France</td>\n",
       "      <td>Female</td>\n",
       "      <td>39</td>\n",
       "      <td>1.0</td>\n",
       "      <td>0.00</td>\n",
       "      <td>2</td>\n",
       "      <td>0</td>\n",
       "      <td>0</td>\n",
       "      <td>93826.63</td>\n",
       "      <td>0</td>\n",
       "    </tr>\n",
       "    <tr>\n",
       "      <th>4</th>\n",
       "      <td>5</td>\n",
       "      <td>15737888</td>\n",
       "      <td>Mitchell</td>\n",
       "      <td>850</td>\n",
       "      <td>Spain</td>\n",
       "      <td>Female</td>\n",
       "      <td>43</td>\n",
       "      <td>2.0</td>\n",
       "      <td>125510.82</td>\n",
       "      <td>1</td>\n",
       "      <td>1</td>\n",
       "      <td>1</td>\n",
       "      <td>79084.10</td>\n",
       "      <td>0</td>\n",
       "    </tr>\n",
       "  </tbody>\n",
       "</table>\n",
       "</div>"
      ],
      "text/plain": [
       "   rownumber  customerid   surname  creditscore geography  gender  age  \\\n",
       "0          1    15634602  Hargrave          619    France  Female   42   \n",
       "1          2    15647311      Hill          608     Spain  Female   41   \n",
       "2          3    15619304      Onio          502    France  Female   42   \n",
       "3          4    15701354      Boni          699    France  Female   39   \n",
       "4          5    15737888  Mitchell          850     Spain  Female   43   \n",
       "\n",
       "   tenure    balance  numofproducts  hascrcard  isactivemember  \\\n",
       "0     2.0       0.00              1          1               1   \n",
       "1     1.0   83807.86              1          0               1   \n",
       "2     8.0  159660.80              3          1               0   \n",
       "3     1.0       0.00              2          0               0   \n",
       "4     2.0  125510.82              1          1               1   \n",
       "\n",
       "   estimatedsalary  exited  \n",
       "0        101348.88       1  \n",
       "1        112542.58       0  \n",
       "2        113931.57       1  \n",
       "3         93826.63       0  \n",
       "4         79084.10       0  "
      ]
     },
     "execution_count": 24,
     "metadata": {},
     "output_type": "execute_result"
    }
   ],
   "source": [
    "df.columns = df.columns.str.lower()\n",
    "df.head()"
   ]
  },
  {
   "cell_type": "code",
   "execution_count": 25,
   "metadata": {
    "scrolled": true
   },
   "outputs": [
    {
     "data": {
      "text/html": [
       "<div>\n",
       "<style scoped>\n",
       "    .dataframe tbody tr th:only-of-type {\n",
       "        vertical-align: middle;\n",
       "    }\n",
       "\n",
       "    .dataframe tbody tr th {\n",
       "        vertical-align: top;\n",
       "    }\n",
       "\n",
       "    .dataframe thead th {\n",
       "        text-align: right;\n",
       "    }\n",
       "</style>\n",
       "<table border=\"1\" class=\"dataframe\">\n",
       "  <thead>\n",
       "    <tr style=\"text-align: right;\">\n",
       "      <th></th>\n",
       "      <th>row_number</th>\n",
       "      <th>customer_id</th>\n",
       "      <th>surname</th>\n",
       "      <th>credit_score</th>\n",
       "      <th>geography</th>\n",
       "      <th>gender</th>\n",
       "      <th>age</th>\n",
       "      <th>tenure</th>\n",
       "      <th>balance</th>\n",
       "      <th>num_of_products</th>\n",
       "      <th>has_cr_card</th>\n",
       "      <th>is_active_member</th>\n",
       "      <th>estimated_salary</th>\n",
       "      <th>exited</th>\n",
       "    </tr>\n",
       "  </thead>\n",
       "  <tbody>\n",
       "    <tr>\n",
       "      <th>0</th>\n",
       "      <td>1</td>\n",
       "      <td>15634602</td>\n",
       "      <td>Hargrave</td>\n",
       "      <td>619</td>\n",
       "      <td>France</td>\n",
       "      <td>Female</td>\n",
       "      <td>42</td>\n",
       "      <td>2.0</td>\n",
       "      <td>0.00</td>\n",
       "      <td>1</td>\n",
       "      <td>1</td>\n",
       "      <td>1</td>\n",
       "      <td>101348.88</td>\n",
       "      <td>1</td>\n",
       "    </tr>\n",
       "    <tr>\n",
       "      <th>1</th>\n",
       "      <td>2</td>\n",
       "      <td>15647311</td>\n",
       "      <td>Hill</td>\n",
       "      <td>608</td>\n",
       "      <td>Spain</td>\n",
       "      <td>Female</td>\n",
       "      <td>41</td>\n",
       "      <td>1.0</td>\n",
       "      <td>83807.86</td>\n",
       "      <td>1</td>\n",
       "      <td>0</td>\n",
       "      <td>1</td>\n",
       "      <td>112542.58</td>\n",
       "      <td>0</td>\n",
       "    </tr>\n",
       "    <tr>\n",
       "      <th>2</th>\n",
       "      <td>3</td>\n",
       "      <td>15619304</td>\n",
       "      <td>Onio</td>\n",
       "      <td>502</td>\n",
       "      <td>France</td>\n",
       "      <td>Female</td>\n",
       "      <td>42</td>\n",
       "      <td>8.0</td>\n",
       "      <td>159660.80</td>\n",
       "      <td>3</td>\n",
       "      <td>1</td>\n",
       "      <td>0</td>\n",
       "      <td>113931.57</td>\n",
       "      <td>1</td>\n",
       "    </tr>\n",
       "    <tr>\n",
       "      <th>3</th>\n",
       "      <td>4</td>\n",
       "      <td>15701354</td>\n",
       "      <td>Boni</td>\n",
       "      <td>699</td>\n",
       "      <td>France</td>\n",
       "      <td>Female</td>\n",
       "      <td>39</td>\n",
       "      <td>1.0</td>\n",
       "      <td>0.00</td>\n",
       "      <td>2</td>\n",
       "      <td>0</td>\n",
       "      <td>0</td>\n",
       "      <td>93826.63</td>\n",
       "      <td>0</td>\n",
       "    </tr>\n",
       "    <tr>\n",
       "      <th>4</th>\n",
       "      <td>5</td>\n",
       "      <td>15737888</td>\n",
       "      <td>Mitchell</td>\n",
       "      <td>850</td>\n",
       "      <td>Spain</td>\n",
       "      <td>Female</td>\n",
       "      <td>43</td>\n",
       "      <td>2.0</td>\n",
       "      <td>125510.82</td>\n",
       "      <td>1</td>\n",
       "      <td>1</td>\n",
       "      <td>1</td>\n",
       "      <td>79084.10</td>\n",
       "      <td>0</td>\n",
       "    </tr>\n",
       "  </tbody>\n",
       "</table>\n",
       "</div>"
      ],
      "text/plain": [
       "   row_number  customer_id   surname  credit_score geography  gender  age  \\\n",
       "0           1     15634602  Hargrave           619    France  Female   42   \n",
       "1           2     15647311      Hill           608     Spain  Female   41   \n",
       "2           3     15619304      Onio           502    France  Female   42   \n",
       "3           4     15701354      Boni           699    France  Female   39   \n",
       "4           5     15737888  Mitchell           850     Spain  Female   43   \n",
       "\n",
       "   tenure    balance  num_of_products  has_cr_card  is_active_member  \\\n",
       "0     2.0       0.00                1            1                 1   \n",
       "1     1.0   83807.86                1            0                 1   \n",
       "2     8.0  159660.80                3            1                 0   \n",
       "3     1.0       0.00                2            0                 0   \n",
       "4     2.0  125510.82                1            1                 1   \n",
       "\n",
       "   estimated_salary  exited  \n",
       "0         101348.88       1  \n",
       "1         112542.58       0  \n",
       "2         113931.57       1  \n",
       "3          93826.63       0  \n",
       "4          79084.10       0  "
      ]
     },
     "execution_count": 25,
     "metadata": {},
     "output_type": "execute_result"
    }
   ],
   "source": [
    "df.rename(columns = {'rownumber':'row_number', 'customerid':'customer_id', 'creditscore':'credit_score', 'numofproducts':'num_of_products', 'hascrcard':'has_cr_card', 'isactivemember':'is_active_member', 'estimatedsalary':'estimated_salary'}, inplace = True )\n",
    "df.head()"
   ]
  },
  {
   "cell_type": "markdown",
   "metadata": {},
   "source": [
    "Переименовал столбцы"
   ]
  },
  {
   "cell_type": "code",
   "execution_count": 26,
   "metadata": {},
   "outputs": [
    {
     "data": {
      "text/plain": [
       "2932"
      ]
     },
     "execution_count": 26,
     "metadata": {},
     "output_type": "execute_result"
    }
   ],
   "source": [
    "df['surname'].nunique()"
   ]
  },
  {
   "cell_type": "code",
   "execution_count": 27,
   "metadata": {},
   "outputs": [
    {
     "data": {
      "text/plain": [
       "array(['France', 'Spain', 'Germany'], dtype=object)"
      ]
     },
     "execution_count": 27,
     "metadata": {},
     "output_type": "execute_result"
    }
   ],
   "source": [
    "df['geography'].unique()"
   ]
  },
  {
   "cell_type": "markdown",
   "metadata": {},
   "source": [
    "### Проверка на наличие дубликатов"
   ]
  },
  {
   "cell_type": "code",
   "execution_count": 28,
   "metadata": {},
   "outputs": [
    {
     "data": {
      "text/plain": [
       "0"
      ]
     },
     "execution_count": 28,
     "metadata": {},
     "output_type": "execute_result"
    }
   ],
   "source": [
    "df.duplicated().sum()"
   ]
  },
  {
   "cell_type": "code",
   "execution_count": 29,
   "metadata": {},
   "outputs": [
    {
     "data": {
      "text/plain": [
       "0"
      ]
     },
     "execution_count": 29,
     "metadata": {},
     "output_type": "execute_result"
    }
   ],
   "source": [
    "df['customer_id'].duplicated().sum()"
   ]
  },
  {
   "cell_type": "markdown",
   "metadata": {},
   "source": [
    "Дубликатов нет."
   ]
  },
  {
   "cell_type": "markdown",
   "metadata": {},
   "source": [
    "### Удаление ненужных столбцов"
   ]
  },
  {
   "cell_type": "code",
   "execution_count": 30,
   "metadata": {
    "scrolled": false
   },
   "outputs": [
    {
     "data": {
      "text/html": [
       "<div>\n",
       "<style scoped>\n",
       "    .dataframe tbody tr th:only-of-type {\n",
       "        vertical-align: middle;\n",
       "    }\n",
       "\n",
       "    .dataframe tbody tr th {\n",
       "        vertical-align: top;\n",
       "    }\n",
       "\n",
       "    .dataframe thead th {\n",
       "        text-align: right;\n",
       "    }\n",
       "</style>\n",
       "<table border=\"1\" class=\"dataframe\">\n",
       "  <thead>\n",
       "    <tr style=\"text-align: right;\">\n",
       "      <th></th>\n",
       "      <th>credit_score</th>\n",
       "      <th>geography</th>\n",
       "      <th>gender</th>\n",
       "      <th>age</th>\n",
       "      <th>tenure</th>\n",
       "      <th>balance</th>\n",
       "      <th>num_of_products</th>\n",
       "      <th>has_cr_card</th>\n",
       "      <th>is_active_member</th>\n",
       "      <th>estimated_salary</th>\n",
       "      <th>exited</th>\n",
       "    </tr>\n",
       "  </thead>\n",
       "  <tbody>\n",
       "    <tr>\n",
       "      <th>0</th>\n",
       "      <td>619</td>\n",
       "      <td>France</td>\n",
       "      <td>Female</td>\n",
       "      <td>42</td>\n",
       "      <td>2.0</td>\n",
       "      <td>0.00</td>\n",
       "      <td>1</td>\n",
       "      <td>1</td>\n",
       "      <td>1</td>\n",
       "      <td>101348.88</td>\n",
       "      <td>1</td>\n",
       "    </tr>\n",
       "    <tr>\n",
       "      <th>1</th>\n",
       "      <td>608</td>\n",
       "      <td>Spain</td>\n",
       "      <td>Female</td>\n",
       "      <td>41</td>\n",
       "      <td>1.0</td>\n",
       "      <td>83807.86</td>\n",
       "      <td>1</td>\n",
       "      <td>0</td>\n",
       "      <td>1</td>\n",
       "      <td>112542.58</td>\n",
       "      <td>0</td>\n",
       "    </tr>\n",
       "    <tr>\n",
       "      <th>2</th>\n",
       "      <td>502</td>\n",
       "      <td>France</td>\n",
       "      <td>Female</td>\n",
       "      <td>42</td>\n",
       "      <td>8.0</td>\n",
       "      <td>159660.80</td>\n",
       "      <td>3</td>\n",
       "      <td>1</td>\n",
       "      <td>0</td>\n",
       "      <td>113931.57</td>\n",
       "      <td>1</td>\n",
       "    </tr>\n",
       "    <tr>\n",
       "      <th>3</th>\n",
       "      <td>699</td>\n",
       "      <td>France</td>\n",
       "      <td>Female</td>\n",
       "      <td>39</td>\n",
       "      <td>1.0</td>\n",
       "      <td>0.00</td>\n",
       "      <td>2</td>\n",
       "      <td>0</td>\n",
       "      <td>0</td>\n",
       "      <td>93826.63</td>\n",
       "      <td>0</td>\n",
       "    </tr>\n",
       "    <tr>\n",
       "      <th>4</th>\n",
       "      <td>850</td>\n",
       "      <td>Spain</td>\n",
       "      <td>Female</td>\n",
       "      <td>43</td>\n",
       "      <td>2.0</td>\n",
       "      <td>125510.82</td>\n",
       "      <td>1</td>\n",
       "      <td>1</td>\n",
       "      <td>1</td>\n",
       "      <td>79084.10</td>\n",
       "      <td>0</td>\n",
       "    </tr>\n",
       "    <tr>\n",
       "      <th>...</th>\n",
       "      <td>...</td>\n",
       "      <td>...</td>\n",
       "      <td>...</td>\n",
       "      <td>...</td>\n",
       "      <td>...</td>\n",
       "      <td>...</td>\n",
       "      <td>...</td>\n",
       "      <td>...</td>\n",
       "      <td>...</td>\n",
       "      <td>...</td>\n",
       "      <td>...</td>\n",
       "    </tr>\n",
       "    <tr>\n",
       "      <th>9995</th>\n",
       "      <td>771</td>\n",
       "      <td>France</td>\n",
       "      <td>Male</td>\n",
       "      <td>39</td>\n",
       "      <td>5.0</td>\n",
       "      <td>0.00</td>\n",
       "      <td>2</td>\n",
       "      <td>1</td>\n",
       "      <td>0</td>\n",
       "      <td>96270.64</td>\n",
       "      <td>0</td>\n",
       "    </tr>\n",
       "    <tr>\n",
       "      <th>9996</th>\n",
       "      <td>516</td>\n",
       "      <td>France</td>\n",
       "      <td>Male</td>\n",
       "      <td>35</td>\n",
       "      <td>10.0</td>\n",
       "      <td>57369.61</td>\n",
       "      <td>1</td>\n",
       "      <td>1</td>\n",
       "      <td>1</td>\n",
       "      <td>101699.77</td>\n",
       "      <td>0</td>\n",
       "    </tr>\n",
       "    <tr>\n",
       "      <th>9997</th>\n",
       "      <td>709</td>\n",
       "      <td>France</td>\n",
       "      <td>Female</td>\n",
       "      <td>36</td>\n",
       "      <td>7.0</td>\n",
       "      <td>0.00</td>\n",
       "      <td>1</td>\n",
       "      <td>0</td>\n",
       "      <td>1</td>\n",
       "      <td>42085.58</td>\n",
       "      <td>1</td>\n",
       "    </tr>\n",
       "    <tr>\n",
       "      <th>9998</th>\n",
       "      <td>772</td>\n",
       "      <td>Germany</td>\n",
       "      <td>Male</td>\n",
       "      <td>42</td>\n",
       "      <td>3.0</td>\n",
       "      <td>75075.31</td>\n",
       "      <td>2</td>\n",
       "      <td>1</td>\n",
       "      <td>0</td>\n",
       "      <td>92888.52</td>\n",
       "      <td>1</td>\n",
       "    </tr>\n",
       "    <tr>\n",
       "      <th>9999</th>\n",
       "      <td>792</td>\n",
       "      <td>France</td>\n",
       "      <td>Female</td>\n",
       "      <td>28</td>\n",
       "      <td>NaN</td>\n",
       "      <td>130142.79</td>\n",
       "      <td>1</td>\n",
       "      <td>1</td>\n",
       "      <td>0</td>\n",
       "      <td>38190.78</td>\n",
       "      <td>0</td>\n",
       "    </tr>\n",
       "  </tbody>\n",
       "</table>\n",
       "<p>10000 rows × 11 columns</p>\n",
       "</div>"
      ],
      "text/plain": [
       "      credit_score geography  gender  age  tenure    balance  num_of_products  \\\n",
       "0              619    France  Female   42     2.0       0.00                1   \n",
       "1              608     Spain  Female   41     1.0   83807.86                1   \n",
       "2              502    France  Female   42     8.0  159660.80                3   \n",
       "3              699    France  Female   39     1.0       0.00                2   \n",
       "4              850     Spain  Female   43     2.0  125510.82                1   \n",
       "...            ...       ...     ...  ...     ...        ...              ...   \n",
       "9995           771    France    Male   39     5.0       0.00                2   \n",
       "9996           516    France    Male   35    10.0   57369.61                1   \n",
       "9997           709    France  Female   36     7.0       0.00                1   \n",
       "9998           772   Germany    Male   42     3.0   75075.31                2   \n",
       "9999           792    France  Female   28     NaN  130142.79                1   \n",
       "\n",
       "      has_cr_card  is_active_member  estimated_salary  exited  \n",
       "0               1                 1         101348.88       1  \n",
       "1               0                 1         112542.58       0  \n",
       "2               1                 0         113931.57       1  \n",
       "3               0                 0          93826.63       0  \n",
       "4               1                 1          79084.10       0  \n",
       "...           ...               ...               ...     ...  \n",
       "9995            1                 0          96270.64       0  \n",
       "9996            1                 1         101699.77       0  \n",
       "9997            0                 1          42085.58       1  \n",
       "9998            1                 0          92888.52       1  \n",
       "9999            1                 0          38190.78       0  \n",
       "\n",
       "[10000 rows x 11 columns]"
      ]
     },
     "execution_count": 30,
     "metadata": {},
     "output_type": "execute_result"
    }
   ],
   "source": [
    "df = df.drop(columns=['row_number', 'customer_id', 'surname'])\n",
    "df"
   ]
  },
  {
   "cell_type": "markdown",
   "metadata": {},
   "source": [
    "## Исследование задачи"
   ]
  },
  {
   "cell_type": "code",
   "execution_count": 32,
   "metadata": {
    "scrolled": true
   },
   "outputs": [
    {
     "data": {
      "text/plain": [
       "2037"
      ]
     },
     "execution_count": 32,
     "metadata": {},
     "output_type": "execute_result"
    }
   ],
   "source": [
    "df.query('exited == 1')['exited'].count()"
   ]
  },
  {
   "cell_type": "code",
   "execution_count": 33,
   "metadata": {
    "scrolled": true
   },
   "outputs": [
    {
     "data": {
      "text/plain": [
       "7963"
      ]
     },
     "execution_count": 33,
     "metadata": {},
     "output_type": "execute_result"
    }
   ],
   "source": [
    "df.query('exited == 0')['exited'].count()"
   ]
  },
  {
   "cell_type": "code",
   "execution_count": 34,
   "metadata": {},
   "outputs": [
    {
     "name": "stdout",
     "output_type": "stream",
     "text": [
      "(10000, 10)\n",
      "(10000,)\n"
     ]
    }
   ],
   "source": [
    "features = df.drop('exited', axis=1)\n",
    "target = df['exited']\n",
    "\n",
    "print(features.shape)\n",
    "print(target.shape)"
   ]
  },
  {
   "cell_type": "markdown",
   "metadata": {},
   "source": [
    "Разделил датафрейм на признаки и целевой признак"
   ]
  },
  {
   "cell_type": "markdown",
   "metadata": {},
   "source": [
    "### Разделение на выборки"
   ]
  },
  {
   "cell_type": "code",
   "execution_count": 35,
   "metadata": {},
   "outputs": [
    {
     "name": "stdout",
     "output_type": "stream",
     "text": [
      "(6000, 10)\n",
      "(6000,)\n",
      "\n",
      "(2000, 10)\n",
      "(2000,)\n",
      "\n",
      "(2000, 10)\n",
      "(2000,)\n"
     ]
    }
   ],
   "source": [
    "features_train, features_valid_test, target_train, target_valid_test = train_test_split(\n",
    "    features, target, test_size=0.4, random_state=12345)\n",
    "\n",
    "features_test, features_valid, target_test, target_valid = train_test_split(\n",
    "    features_valid_test, target_valid_test, test_size=0.5, random_state=12345)\n",
    "\n",
    "\n",
    "print(features_train.shape)\n",
    "print(target_train.shape)\n",
    "print()\n",
    "\n",
    "print(features_valid.shape)\n",
    "print(target_valid.shape)\n",
    "print()\n",
    "\n",
    "print(features_test.shape)\n",
    "print(target_test.shape)"
   ]
  },
  {
   "cell_type": "markdown",
   "metadata": {},
   "source": [
    "Разделил features и target на обучающую, валидационную и тестовую выборки"
   ]
  },
  {
   "cell_type": "markdown",
   "metadata": {},
   "source": [
    "### Заполнение пропусков"
   ]
  },
  {
   "cell_type": "code",
   "execution_count": 36,
   "metadata": {
    "scrolled": false
   },
   "outputs": [
    {
     "name": "stdout",
     "output_type": "stream",
     "text": [
      "credit_score        0\n",
      "geography           0\n",
      "gender              0\n",
      "age                 0\n",
      "tenure              0\n",
      "balance             0\n",
      "num_of_products     0\n",
      "has_cr_card         0\n",
      "is_active_member    0\n",
      "estimated_salary    0\n",
      "dtype: int64\n",
      "\n",
      "credit_score        0\n",
      "geography           0\n",
      "gender              0\n",
      "age                 0\n",
      "tenure              0\n",
      "balance             0\n",
      "num_of_products     0\n",
      "has_cr_card         0\n",
      "is_active_member    0\n",
      "estimated_salary    0\n",
      "dtype: int64\n",
      "\n",
      "credit_score        0\n",
      "geography           0\n",
      "gender              0\n",
      "age                 0\n",
      "tenure              0\n",
      "balance             0\n",
      "num_of_products     0\n",
      "has_cr_card         0\n",
      "is_active_member    0\n",
      "estimated_salary    0\n",
      "dtype: int64\n"
     ]
    }
   ],
   "source": [
    "pd.options.mode.chained_assignment = None\n",
    "\n",
    "min_value = features['tenure'].min()\n",
    "max_value = features['tenure'].max()\n",
    "\n",
    "features_train.fillna(random.randint(min_value, max_value), inplace=True)\n",
    "features_valid.fillna(random.randint(min_value, max_value), inplace=True)\n",
    "features_test.fillna(random.randint(min_value, max_value), inplace=True)\n",
    "\n",
    "print(features_train.isna().sum())\n",
    "print()\n",
    "print(features_valid.isna().sum())\n",
    "print()\n",
    "print(features_test.isna().sum())"
   ]
  },
  {
   "cell_type": "markdown",
   "metadata": {},
   "source": [
    "\n",
    "Заполнил пропуски случайным значением в диапазоне между минимальным и максимальным значением в столбце 'Tenure'"
   ]
  },
  {
   "cell_type": "markdown",
   "metadata": {},
   "source": [
    "### Масштабирование"
   ]
  },
  {
   "cell_type": "code",
   "execution_count": 37,
   "metadata": {
    "scrolled": false
   },
   "outputs": [],
   "source": [
    "pd.options.mode.chained_assignment = None\n",
    "\n",
    "numeric = ['credit_score', 'age', 'tenure', 'balance', 'num_of_products', 'estimated_salary']\n",
    "\n",
    "scaler = StandardScaler()\n",
    "scaler.fit(features_train[numeric])\n",
    "\n",
    "features_train[numeric] = scaler.transform(features_train[numeric])\n",
    "features_valid[numeric] = scaler.transform(features_valid[numeric])\n",
    "features_test[numeric] = scaler.transform(features_test[numeric])"
   ]
  },
  {
   "cell_type": "markdown",
   "metadata": {},
   "source": [
    "С помощью StandardScaler произвёл масштабирование числовых столбцов в выборках"
   ]
  },
  {
   "cell_type": "markdown",
   "metadata": {},
   "source": [
    "### Кодирование "
   ]
  },
  {
   "cell_type": "code",
   "execution_count": 38,
   "metadata": {
    "scrolled": true
   },
   "outputs": [
    {
     "data": {
      "text/html": [
       "<div>\n",
       "<style scoped>\n",
       "    .dataframe tbody tr th:only-of-type {\n",
       "        vertical-align: middle;\n",
       "    }\n",
       "\n",
       "    .dataframe tbody tr th {\n",
       "        vertical-align: top;\n",
       "    }\n",
       "\n",
       "    .dataframe thead th {\n",
       "        text-align: right;\n",
       "    }\n",
       "</style>\n",
       "<table border=\"1\" class=\"dataframe\">\n",
       "  <thead>\n",
       "    <tr style=\"text-align: right;\">\n",
       "      <th></th>\n",
       "      <th>credit_score</th>\n",
       "      <th>age</th>\n",
       "      <th>tenure</th>\n",
       "      <th>balance</th>\n",
       "      <th>num_of_products</th>\n",
       "      <th>has_cr_card</th>\n",
       "      <th>is_active_member</th>\n",
       "      <th>estimated_salary</th>\n",
       "      <th>geography_Germany</th>\n",
       "      <th>geography_Spain</th>\n",
       "      <th>gender_Male</th>\n",
       "    </tr>\n",
       "  </thead>\n",
       "  <tbody>\n",
       "    <tr>\n",
       "      <th>7479</th>\n",
       "      <td>-0.886751</td>\n",
       "      <td>-0.373192</td>\n",
       "      <td>0.874724</td>\n",
       "      <td>1.232271</td>\n",
       "      <td>-0.891560</td>\n",
       "      <td>1</td>\n",
       "      <td>0</td>\n",
       "      <td>-0.187705</td>\n",
       "      <td>0</td>\n",
       "      <td>1</td>\n",
       "      <td>1</td>\n",
       "    </tr>\n",
       "    <tr>\n",
       "      <th>3411</th>\n",
       "      <td>0.608663</td>\n",
       "      <td>-0.183385</td>\n",
       "      <td>0.874724</td>\n",
       "      <td>0.600563</td>\n",
       "      <td>-0.891560</td>\n",
       "      <td>0</td>\n",
       "      <td>0</td>\n",
       "      <td>-0.333945</td>\n",
       "      <td>0</td>\n",
       "      <td>0</td>\n",
       "      <td>0</td>\n",
       "    </tr>\n",
       "    <tr>\n",
       "      <th>6027</th>\n",
       "      <td>2.052152</td>\n",
       "      <td>0.480939</td>\n",
       "      <td>-0.804423</td>\n",
       "      <td>1.027098</td>\n",
       "      <td>0.830152</td>\n",
       "      <td>0</td>\n",
       "      <td>1</td>\n",
       "      <td>1.503095</td>\n",
       "      <td>1</td>\n",
       "      <td>0</td>\n",
       "      <td>1</td>\n",
       "    </tr>\n",
       "    <tr>\n",
       "      <th>1247</th>\n",
       "      <td>-1.457915</td>\n",
       "      <td>-1.417129</td>\n",
       "      <td>0.203065</td>\n",
       "      <td>-1.233163</td>\n",
       "      <td>0.830152</td>\n",
       "      <td>1</td>\n",
       "      <td>0</td>\n",
       "      <td>-1.071061</td>\n",
       "      <td>0</td>\n",
       "      <td>0</td>\n",
       "      <td>1</td>\n",
       "    </tr>\n",
       "    <tr>\n",
       "      <th>3716</th>\n",
       "      <td>0.130961</td>\n",
       "      <td>-1.132419</td>\n",
       "      <td>-1.140253</td>\n",
       "      <td>1.140475</td>\n",
       "      <td>-0.891560</td>\n",
       "      <td>0</td>\n",
       "      <td>0</td>\n",
       "      <td>1.524268</td>\n",
       "      <td>1</td>\n",
       "      <td>0</td>\n",
       "      <td>0</td>\n",
       "    </tr>\n",
       "    <tr>\n",
       "      <th>...</th>\n",
       "      <td>...</td>\n",
       "      <td>...</td>\n",
       "      <td>...</td>\n",
       "      <td>...</td>\n",
       "      <td>...</td>\n",
       "      <td>...</td>\n",
       "      <td>...</td>\n",
       "      <td>...</td>\n",
       "      <td>...</td>\n",
       "      <td>...</td>\n",
       "      <td>...</td>\n",
       "    </tr>\n",
       "    <tr>\n",
       "      <th>4478</th>\n",
       "      <td>-1.073677</td>\n",
       "      <td>-0.752805</td>\n",
       "      <td>-0.468594</td>\n",
       "      <td>-1.233163</td>\n",
       "      <td>0.830152</td>\n",
       "      <td>0</td>\n",
       "      <td>1</td>\n",
       "      <td>-1.278361</td>\n",
       "      <td>0</td>\n",
       "      <td>0</td>\n",
       "      <td>1</td>\n",
       "    </tr>\n",
       "    <tr>\n",
       "      <th>4094</th>\n",
       "      <td>-1.447531</td>\n",
       "      <td>-0.942612</td>\n",
       "      <td>1.546382</td>\n",
       "      <td>-1.233163</td>\n",
       "      <td>0.830152</td>\n",
       "      <td>0</td>\n",
       "      <td>1</td>\n",
       "      <td>-1.281307</td>\n",
       "      <td>0</td>\n",
       "      <td>0</td>\n",
       "      <td>1</td>\n",
       "    </tr>\n",
       "    <tr>\n",
       "      <th>3492</th>\n",
       "      <td>0.027113</td>\n",
       "      <td>0.575842</td>\n",
       "      <td>1.210553</td>\n",
       "      <td>-0.310229</td>\n",
       "      <td>-0.891560</td>\n",
       "      <td>0</td>\n",
       "      <td>1</td>\n",
       "      <td>-0.903158</td>\n",
       "      <td>0</td>\n",
       "      <td>0</td>\n",
       "      <td>0</td>\n",
       "    </tr>\n",
       "    <tr>\n",
       "      <th>2177</th>\n",
       "      <td>0.151731</td>\n",
       "      <td>-1.417129</td>\n",
       "      <td>-0.468594</td>\n",
       "      <td>-1.233163</td>\n",
       "      <td>0.830152</td>\n",
       "      <td>0</td>\n",
       "      <td>1</td>\n",
       "      <td>-1.128539</td>\n",
       "      <td>0</td>\n",
       "      <td>0</td>\n",
       "      <td>0</td>\n",
       "    </tr>\n",
       "    <tr>\n",
       "      <th>4578</th>\n",
       "      <td>0.400966</td>\n",
       "      <td>-0.088482</td>\n",
       "      <td>-1.476082</td>\n",
       "      <td>-1.233163</td>\n",
       "      <td>0.830152</td>\n",
       "      <td>0</td>\n",
       "      <td>0</td>\n",
       "      <td>-0.949841</td>\n",
       "      <td>0</td>\n",
       "      <td>0</td>\n",
       "      <td>1</td>\n",
       "    </tr>\n",
       "  </tbody>\n",
       "</table>\n",
       "<p>6000 rows × 11 columns</p>\n",
       "</div>"
      ],
      "text/plain": [
       "      credit_score       age    tenure   balance  num_of_products  \\\n",
       "7479     -0.886751 -0.373192  0.874724  1.232271        -0.891560   \n",
       "3411      0.608663 -0.183385  0.874724  0.600563        -0.891560   \n",
       "6027      2.052152  0.480939 -0.804423  1.027098         0.830152   \n",
       "1247     -1.457915 -1.417129  0.203065 -1.233163         0.830152   \n",
       "3716      0.130961 -1.132419 -1.140253  1.140475        -0.891560   \n",
       "...            ...       ...       ...       ...              ...   \n",
       "4478     -1.073677 -0.752805 -0.468594 -1.233163         0.830152   \n",
       "4094     -1.447531 -0.942612  1.546382 -1.233163         0.830152   \n",
       "3492      0.027113  0.575842  1.210553 -0.310229        -0.891560   \n",
       "2177      0.151731 -1.417129 -0.468594 -1.233163         0.830152   \n",
       "4578      0.400966 -0.088482 -1.476082 -1.233163         0.830152   \n",
       "\n",
       "      has_cr_card  is_active_member  estimated_salary  geography_Germany  \\\n",
       "7479            1                 0         -0.187705                  0   \n",
       "3411            0                 0         -0.333945                  0   \n",
       "6027            0                 1          1.503095                  1   \n",
       "1247            1                 0         -1.071061                  0   \n",
       "3716            0                 0          1.524268                  1   \n",
       "...           ...               ...               ...                ...   \n",
       "4478            0                 1         -1.278361                  0   \n",
       "4094            0                 1         -1.281307                  0   \n",
       "3492            0                 1         -0.903158                  0   \n",
       "2177            0                 1         -1.128539                  0   \n",
       "4578            0                 0         -0.949841                  0   \n",
       "\n",
       "      geography_Spain  gender_Male  \n",
       "7479                1            1  \n",
       "3411                0            0  \n",
       "6027                0            1  \n",
       "1247                0            1  \n",
       "3716                0            0  \n",
       "...               ...          ...  \n",
       "4478                0            1  \n",
       "4094                0            1  \n",
       "3492                0            0  \n",
       "2177                0            0  \n",
       "4578                0            1  \n",
       "\n",
       "[6000 rows x 11 columns]"
      ]
     },
     "execution_count": 38,
     "metadata": {},
     "output_type": "execute_result"
    }
   ],
   "source": [
    "features_train_ohe = pd.get_dummies(features_train, drop_first=True)\n",
    "features_train_ohe"
   ]
  },
  {
   "cell_type": "code",
   "execution_count": 39,
   "metadata": {
    "scrolled": false
   },
   "outputs": [
    {
     "data": {
      "text/html": [
       "<div>\n",
       "<style scoped>\n",
       "    .dataframe tbody tr th:only-of-type {\n",
       "        vertical-align: middle;\n",
       "    }\n",
       "\n",
       "    .dataframe tbody tr th {\n",
       "        vertical-align: top;\n",
       "    }\n",
       "\n",
       "    .dataframe thead th {\n",
       "        text-align: right;\n",
       "    }\n",
       "</style>\n",
       "<table border=\"1\" class=\"dataframe\">\n",
       "  <thead>\n",
       "    <tr style=\"text-align: right;\">\n",
       "      <th></th>\n",
       "      <th>credit_score</th>\n",
       "      <th>age</th>\n",
       "      <th>tenure</th>\n",
       "      <th>balance</th>\n",
       "      <th>num_of_products</th>\n",
       "      <th>has_cr_card</th>\n",
       "      <th>is_active_member</th>\n",
       "      <th>estimated_salary</th>\n",
       "      <th>geography_Germany</th>\n",
       "      <th>geography_Spain</th>\n",
       "      <th>gender_Male</th>\n",
       "    </tr>\n",
       "  </thead>\n",
       "  <tbody>\n",
       "    <tr>\n",
       "      <th>7041</th>\n",
       "      <td>-2.226392</td>\n",
       "      <td>-0.088482</td>\n",
       "      <td>-1.140253</td>\n",
       "      <td>-1.233163</td>\n",
       "      <td>0.830152</td>\n",
       "      <td>1</td>\n",
       "      <td>0</td>\n",
       "      <td>0.647083</td>\n",
       "      <td>0</td>\n",
       "      <td>0</td>\n",
       "      <td>1</td>\n",
       "    </tr>\n",
       "    <tr>\n",
       "      <th>5709</th>\n",
       "      <td>-0.087120</td>\n",
       "      <td>0.006422</td>\n",
       "      <td>1.210553</td>\n",
       "      <td>-1.233163</td>\n",
       "      <td>-0.891560</td>\n",
       "      <td>1</td>\n",
       "      <td>0</td>\n",
       "      <td>-1.658410</td>\n",
       "      <td>0</td>\n",
       "      <td>0</td>\n",
       "      <td>0</td>\n",
       "    </tr>\n",
       "    <tr>\n",
       "      <th>7117</th>\n",
       "      <td>-0.917905</td>\n",
       "      <td>-0.752805</td>\n",
       "      <td>-0.132765</td>\n",
       "      <td>0.722307</td>\n",
       "      <td>-0.891560</td>\n",
       "      <td>1</td>\n",
       "      <td>1</td>\n",
       "      <td>-1.369334</td>\n",
       "      <td>0</td>\n",
       "      <td>1</td>\n",
       "      <td>1</td>\n",
       "    </tr>\n",
       "    <tr>\n",
       "      <th>7775</th>\n",
       "      <td>-0.253277</td>\n",
       "      <td>0.101325</td>\n",
       "      <td>1.546382</td>\n",
       "      <td>-1.233163</td>\n",
       "      <td>0.830152</td>\n",
       "      <td>1</td>\n",
       "      <td>0</td>\n",
       "      <td>0.075086</td>\n",
       "      <td>0</td>\n",
       "      <td>1</td>\n",
       "      <td>1</td>\n",
       "    </tr>\n",
       "    <tr>\n",
       "      <th>8735</th>\n",
       "      <td>0.785204</td>\n",
       "      <td>-0.847708</td>\n",
       "      <td>1.546382</td>\n",
       "      <td>0.615625</td>\n",
       "      <td>-0.891560</td>\n",
       "      <td>0</td>\n",
       "      <td>1</td>\n",
       "      <td>-1.070919</td>\n",
       "      <td>0</td>\n",
       "      <td>0</td>\n",
       "      <td>1</td>\n",
       "    </tr>\n",
       "    <tr>\n",
       "      <th>...</th>\n",
       "      <td>...</td>\n",
       "      <td>...</td>\n",
       "      <td>...</td>\n",
       "      <td>...</td>\n",
       "      <td>...</td>\n",
       "      <td>...</td>\n",
       "      <td>...</td>\n",
       "      <td>...</td>\n",
       "      <td>...</td>\n",
       "      <td>...</td>\n",
       "      <td>...</td>\n",
       "    </tr>\n",
       "    <tr>\n",
       "      <th>9335</th>\n",
       "      <td>0.878668</td>\n",
       "      <td>1.050359</td>\n",
       "      <td>-0.468594</td>\n",
       "      <td>0.820368</td>\n",
       "      <td>0.830152</td>\n",
       "      <td>1</td>\n",
       "      <td>0</td>\n",
       "      <td>-1.650024</td>\n",
       "      <td>1</td>\n",
       "      <td>0</td>\n",
       "      <td>1</td>\n",
       "    </tr>\n",
       "    <tr>\n",
       "      <th>7999</th>\n",
       "      <td>1.802916</td>\n",
       "      <td>-1.227322</td>\n",
       "      <td>-0.132765</td>\n",
       "      <td>1.063628</td>\n",
       "      <td>-0.891560</td>\n",
       "      <td>0</td>\n",
       "      <td>0</td>\n",
       "      <td>-0.679113</td>\n",
       "      <td>0</td>\n",
       "      <td>0</td>\n",
       "      <td>1</td>\n",
       "    </tr>\n",
       "    <tr>\n",
       "      <th>6139</th>\n",
       "      <td>-0.004041</td>\n",
       "      <td>-0.183385</td>\n",
       "      <td>-0.468594</td>\n",
       "      <td>-1.233163</td>\n",
       "      <td>0.830152</td>\n",
       "      <td>1</td>\n",
       "      <td>0</td>\n",
       "      <td>0.760240</td>\n",
       "      <td>0</td>\n",
       "      <td>0</td>\n",
       "      <td>0</td>\n",
       "    </tr>\n",
       "    <tr>\n",
       "      <th>9473</th>\n",
       "      <td>-0.460973</td>\n",
       "      <td>0.575842</td>\n",
       "      <td>-0.468594</td>\n",
       "      <td>-1.233163</td>\n",
       "      <td>0.830152</td>\n",
       "      <td>0</td>\n",
       "      <td>0</td>\n",
       "      <td>-1.087632</td>\n",
       "      <td>0</td>\n",
       "      <td>1</td>\n",
       "      <td>1</td>\n",
       "    </tr>\n",
       "    <tr>\n",
       "      <th>3366</th>\n",
       "      <td>-0.128659</td>\n",
       "      <td>3.328040</td>\n",
       "      <td>-1.140253</td>\n",
       "      <td>0.647257</td>\n",
       "      <td>-0.891560</td>\n",
       "      <td>1</td>\n",
       "      <td>1</td>\n",
       "      <td>-1.132091</td>\n",
       "      <td>1</td>\n",
       "      <td>0</td>\n",
       "      <td>0</td>\n",
       "    </tr>\n",
       "  </tbody>\n",
       "</table>\n",
       "<p>2000 rows × 11 columns</p>\n",
       "</div>"
      ],
      "text/plain": [
       "      credit_score       age    tenure   balance  num_of_products  \\\n",
       "7041     -2.226392 -0.088482 -1.140253 -1.233163         0.830152   \n",
       "5709     -0.087120  0.006422  1.210553 -1.233163        -0.891560   \n",
       "7117     -0.917905 -0.752805 -0.132765  0.722307        -0.891560   \n",
       "7775     -0.253277  0.101325  1.546382 -1.233163         0.830152   \n",
       "8735      0.785204 -0.847708  1.546382  0.615625        -0.891560   \n",
       "...            ...       ...       ...       ...              ...   \n",
       "9335      0.878668  1.050359 -0.468594  0.820368         0.830152   \n",
       "7999      1.802916 -1.227322 -0.132765  1.063628        -0.891560   \n",
       "6139     -0.004041 -0.183385 -0.468594 -1.233163         0.830152   \n",
       "9473     -0.460973  0.575842 -0.468594 -1.233163         0.830152   \n",
       "3366     -0.128659  3.328040 -1.140253  0.647257        -0.891560   \n",
       "\n",
       "      has_cr_card  is_active_member  estimated_salary  geography_Germany  \\\n",
       "7041            1                 0          0.647083                  0   \n",
       "5709            1                 0         -1.658410                  0   \n",
       "7117            1                 1         -1.369334                  0   \n",
       "7775            1                 0          0.075086                  0   \n",
       "8735            0                 1         -1.070919                  0   \n",
       "...           ...               ...               ...                ...   \n",
       "9335            1                 0         -1.650024                  1   \n",
       "7999            0                 0         -0.679113                  0   \n",
       "6139            1                 0          0.760240                  0   \n",
       "9473            0                 0         -1.087632                  0   \n",
       "3366            1                 1         -1.132091                  1   \n",
       "\n",
       "      geography_Spain  gender_Male  \n",
       "7041                0            1  \n",
       "5709                0            0  \n",
       "7117                1            1  \n",
       "7775                1            1  \n",
       "8735                0            1  \n",
       "...               ...          ...  \n",
       "9335                0            1  \n",
       "7999                0            1  \n",
       "6139                0            0  \n",
       "9473                1            1  \n",
       "3366                0            0  \n",
       "\n",
       "[2000 rows x 11 columns]"
      ]
     },
     "execution_count": 39,
     "metadata": {},
     "output_type": "execute_result"
    }
   ],
   "source": [
    "features_valid_ohe = pd.get_dummies(features_valid, drop_first=True)\n",
    "features_valid_ohe"
   ]
  },
  {
   "cell_type": "code",
   "execution_count": 40,
   "metadata": {},
   "outputs": [
    {
     "data": {
      "text/html": [
       "<div>\n",
       "<style scoped>\n",
       "    .dataframe tbody tr th:only-of-type {\n",
       "        vertical-align: middle;\n",
       "    }\n",
       "\n",
       "    .dataframe tbody tr th {\n",
       "        vertical-align: top;\n",
       "    }\n",
       "\n",
       "    .dataframe thead th {\n",
       "        text-align: right;\n",
       "    }\n",
       "</style>\n",
       "<table border=\"1\" class=\"dataframe\">\n",
       "  <thead>\n",
       "    <tr style=\"text-align: right;\">\n",
       "      <th></th>\n",
       "      <th>credit_score</th>\n",
       "      <th>age</th>\n",
       "      <th>tenure</th>\n",
       "      <th>balance</th>\n",
       "      <th>num_of_products</th>\n",
       "      <th>has_cr_card</th>\n",
       "      <th>is_active_member</th>\n",
       "      <th>estimated_salary</th>\n",
       "      <th>geography_Germany</th>\n",
       "      <th>geography_Spain</th>\n",
       "      <th>gender_Male</th>\n",
       "    </tr>\n",
       "  </thead>\n",
       "  <tbody>\n",
       "    <tr>\n",
       "      <th>8532</th>\n",
       "      <td>-0.699824</td>\n",
       "      <td>-0.373192</td>\n",
       "      <td>-1.140253</td>\n",
       "      <td>-1.233163</td>\n",
       "      <td>0.830152</td>\n",
       "      <td>1</td>\n",
       "      <td>0</td>\n",
       "      <td>-0.015173</td>\n",
       "      <td>0</td>\n",
       "      <td>0</td>\n",
       "      <td>0</td>\n",
       "    </tr>\n",
       "    <tr>\n",
       "      <th>5799</th>\n",
       "      <td>-0.284431</td>\n",
       "      <td>0.575842</td>\n",
       "      <td>-0.804423</td>\n",
       "      <td>-1.233163</td>\n",
       "      <td>-0.891560</td>\n",
       "      <td>1</td>\n",
       "      <td>1</td>\n",
       "      <td>1.471724</td>\n",
       "      <td>0</td>\n",
       "      <td>0</td>\n",
       "      <td>0</td>\n",
       "    </tr>\n",
       "    <tr>\n",
       "      <th>5511</th>\n",
       "      <td>0.151731</td>\n",
       "      <td>-0.657902</td>\n",
       "      <td>-1.811912</td>\n",
       "      <td>0.438711</td>\n",
       "      <td>-0.891560</td>\n",
       "      <td>1</td>\n",
       "      <td>0</td>\n",
       "      <td>-1.367107</td>\n",
       "      <td>1</td>\n",
       "      <td>0</td>\n",
       "      <td>1</td>\n",
       "    </tr>\n",
       "    <tr>\n",
       "      <th>7365</th>\n",
       "      <td>-0.876366</td>\n",
       "      <td>-0.278288</td>\n",
       "      <td>1.546382</td>\n",
       "      <td>1.239884</td>\n",
       "      <td>-0.891560</td>\n",
       "      <td>1</td>\n",
       "      <td>1</td>\n",
       "      <td>-0.786517</td>\n",
       "      <td>0</td>\n",
       "      <td>1</td>\n",
       "      <td>0</td>\n",
       "    </tr>\n",
       "    <tr>\n",
       "      <th>7367</th>\n",
       "      <td>-0.481743</td>\n",
       "      <td>0.291132</td>\n",
       "      <td>1.546382</td>\n",
       "      <td>-1.233163</td>\n",
       "      <td>0.830152</td>\n",
       "      <td>1</td>\n",
       "      <td>0</td>\n",
       "      <td>1.358533</td>\n",
       "      <td>0</td>\n",
       "      <td>1</td>\n",
       "      <td>1</td>\n",
       "    </tr>\n",
       "    <tr>\n",
       "      <th>...</th>\n",
       "      <td>...</td>\n",
       "      <td>...</td>\n",
       "      <td>...</td>\n",
       "      <td>...</td>\n",
       "      <td>...</td>\n",
       "      <td>...</td>\n",
       "      <td>...</td>\n",
       "      <td>...</td>\n",
       "      <td>...</td>\n",
       "      <td>...</td>\n",
       "      <td>...</td>\n",
       "    </tr>\n",
       "    <tr>\n",
       "      <th>6480</th>\n",
       "      <td>0.276349</td>\n",
       "      <td>-1.417129</td>\n",
       "      <td>0.203065</td>\n",
       "      <td>0.617449</td>\n",
       "      <td>0.830152</td>\n",
       "      <td>0</td>\n",
       "      <td>1</td>\n",
       "      <td>0.628182</td>\n",
       "      <td>0</td>\n",
       "      <td>0</td>\n",
       "      <td>0</td>\n",
       "    </tr>\n",
       "    <tr>\n",
       "      <th>8194</th>\n",
       "      <td>-0.211738</td>\n",
       "      <td>0.291132</td>\n",
       "      <td>-0.468594</td>\n",
       "      <td>0.797229</td>\n",
       "      <td>-0.891560</td>\n",
       "      <td>1</td>\n",
       "      <td>0</td>\n",
       "      <td>0.026002</td>\n",
       "      <td>0</td>\n",
       "      <td>0</td>\n",
       "      <td>1</td>\n",
       "    </tr>\n",
       "    <tr>\n",
       "      <th>1279</th>\n",
       "      <td>-1.364452</td>\n",
       "      <td>0.006422</td>\n",
       "      <td>0.203065</td>\n",
       "      <td>-1.233163</td>\n",
       "      <td>0.830152</td>\n",
       "      <td>0</td>\n",
       "      <td>1</td>\n",
       "      <td>-1.249087</td>\n",
       "      <td>0</td>\n",
       "      <td>0</td>\n",
       "      <td>0</td>\n",
       "    </tr>\n",
       "    <tr>\n",
       "      <th>6532</th>\n",
       "      <td>1.075979</td>\n",
       "      <td>2.663716</td>\n",
       "      <td>-0.468594</td>\n",
       "      <td>-1.233163</td>\n",
       "      <td>2.551864</td>\n",
       "      <td>1</td>\n",
       "      <td>1</td>\n",
       "      <td>-0.111107</td>\n",
       "      <td>0</td>\n",
       "      <td>0</td>\n",
       "      <td>1</td>\n",
       "    </tr>\n",
       "    <tr>\n",
       "      <th>6895</th>\n",
       "      <td>-0.440204</td>\n",
       "      <td>0.955455</td>\n",
       "      <td>0.203065</td>\n",
       "      <td>0.600280</td>\n",
       "      <td>-0.891560</td>\n",
       "      <td>1</td>\n",
       "      <td>0</td>\n",
       "      <td>1.668116</td>\n",
       "      <td>1</td>\n",
       "      <td>0</td>\n",
       "      <td>1</td>\n",
       "    </tr>\n",
       "  </tbody>\n",
       "</table>\n",
       "<p>2000 rows × 11 columns</p>\n",
       "</div>"
      ],
      "text/plain": [
       "      credit_score       age    tenure   balance  num_of_products  \\\n",
       "8532     -0.699824 -0.373192 -1.140253 -1.233163         0.830152   \n",
       "5799     -0.284431  0.575842 -0.804423 -1.233163        -0.891560   \n",
       "5511      0.151731 -0.657902 -1.811912  0.438711        -0.891560   \n",
       "7365     -0.876366 -0.278288  1.546382  1.239884        -0.891560   \n",
       "7367     -0.481743  0.291132  1.546382 -1.233163         0.830152   \n",
       "...            ...       ...       ...       ...              ...   \n",
       "6480      0.276349 -1.417129  0.203065  0.617449         0.830152   \n",
       "8194     -0.211738  0.291132 -0.468594  0.797229        -0.891560   \n",
       "1279     -1.364452  0.006422  0.203065 -1.233163         0.830152   \n",
       "6532      1.075979  2.663716 -0.468594 -1.233163         2.551864   \n",
       "6895     -0.440204  0.955455  0.203065  0.600280        -0.891560   \n",
       "\n",
       "      has_cr_card  is_active_member  estimated_salary  geography_Germany  \\\n",
       "8532            1                 0         -0.015173                  0   \n",
       "5799            1                 1          1.471724                  0   \n",
       "5511            1                 0         -1.367107                  1   \n",
       "7365            1                 1         -0.786517                  0   \n",
       "7367            1                 0          1.358533                  0   \n",
       "...           ...               ...               ...                ...   \n",
       "6480            0                 1          0.628182                  0   \n",
       "8194            1                 0          0.026002                  0   \n",
       "1279            0                 1         -1.249087                  0   \n",
       "6532            1                 1         -0.111107                  0   \n",
       "6895            1                 0          1.668116                  1   \n",
       "\n",
       "      geography_Spain  gender_Male  \n",
       "8532                0            0  \n",
       "5799                0            0  \n",
       "5511                0            1  \n",
       "7365                1            0  \n",
       "7367                1            1  \n",
       "...               ...          ...  \n",
       "6480                0            0  \n",
       "8194                0            1  \n",
       "1279                0            0  \n",
       "6532                0            1  \n",
       "6895                0            1  \n",
       "\n",
       "[2000 rows x 11 columns]"
      ]
     },
     "execution_count": 40,
     "metadata": {},
     "output_type": "execute_result"
    }
   ],
   "source": [
    "features_test_ohe = pd.get_dummies(features_test, drop_first=True)\n",
    "features_test_ohe"
   ]
  },
  {
   "cell_type": "markdown",
   "metadata": {},
   "source": [
    "### LogisticRegression (без учёта дисбаланса)"
   ]
  },
  {
   "cell_type": "code",
   "execution_count": 41,
   "metadata": {},
   "outputs": [
    {
     "name": "stdout",
     "output_type": "stream",
     "text": [
      "F1: 0.2772963604852686\n",
      "AUC-ROC: 0.7388089123946325\n"
     ]
    }
   ],
   "source": [
    "model = LogisticRegression(random_state=12345, solver='liblinear')\n",
    "model.fit(features_train_ohe, target_train)\n",
    "predicted_valid = model.predict(features_valid_ohe)\n",
    "print(\"F1:\", f1_score(target_valid, predicted_valid))\n",
    "\n",
    "probabilities_valid = model.predict_proba(features_valid_ohe)\n",
    "probabilities_one_valid = probabilities_valid[:, 1]\n",
    "print('AUC-ROC:', roc_auc_score(target_valid, probabilities_one_valid))"
   ]
  },
  {
   "cell_type": "markdown",
   "metadata": {},
   "source": [
    "### DecisionTreeClassifier (без учёта дисбаланса)"
   ]
  },
  {
   "cell_type": "code",
   "execution_count": 42,
   "metadata": {},
   "outputs": [
    {
     "name": "stdout",
     "output_type": "stream",
     "text": [
      "F1: 0.4741275571600482\n",
      "AUC-ROC: 0.6659613444445943\n"
     ]
    }
   ],
   "source": [
    "model = DecisionTreeClassifier(random_state=12345)\n",
    "model.fit(features_train_ohe, target_train)\n",
    "predicted_valid = model.predict(features_valid_ohe)\n",
    "print(\"F1:\", f1_score(target_valid, predicted_valid))\n",
    "\n",
    "probabilities_valid = model.predict_proba(features_valid_ohe)\n",
    "probabilities_one_valid = probabilities_valid[:, 1]\n",
    "print('AUC-ROC:', roc_auc_score(target_valid, probabilities_one_valid))"
   ]
  },
  {
   "cell_type": "code",
   "execution_count": 43,
   "metadata": {},
   "outputs": [
    {
     "name": "stdout",
     "output_type": "stream",
     "text": [
      "max_depth = 1\n",
      "F1: 0.0\n",
      "AUC-ROC: 0.6811643738072859\n",
      "\n",
      "max_depth = 2\n",
      "F1: 0.4986301369863014\n",
      "AUC-ROC: 0.7280154586243442\n",
      "\n",
      "max_depth = 3\n",
      "F1: 0.3795620437956204\n",
      "AUC-ROC: 0.7918669826750078\n",
      "\n",
      "max_depth = 4\n",
      "F1: 0.48307692307692307\n",
      "AUC-ROC: 0.8119015816907046\n",
      "\n",
      "max_depth = 5\n",
      "F1: 0.5015772870662459\n",
      "AUC-ROC: 0.8309475303228592\n",
      "\n",
      "max_depth = 6\n",
      "F1: 0.5337423312883436\n",
      "AUC-ROC: 0.8394526219847661\n",
      "\n",
      "max_depth = 7\n",
      "F1: 0.4976816074188563\n",
      "AUC-ROC: 0.8276907555567548\n",
      "\n",
      "max_depth = 8\n",
      "F1: 0.48606811145510836\n",
      "AUC-ROC: 0.8024573096417023\n",
      "\n",
      "max_depth = 9\n",
      "F1: 0.5261707988980715\n",
      "AUC-ROC: 0.7814258152430551\n",
      "\n",
      "max_depth = 10\n",
      "F1: 0.5190409026798308\n",
      "AUC-ROC: 0.7628685702121664\n",
      "\n",
      "max_depth = 11\n",
      "F1: 0.5099075297225891\n",
      "AUC-ROC: 0.7239221911910426\n",
      "\n",
      "max_depth = 12\n",
      "F1: 0.5253576072821846\n",
      "AUC-ROC: 0.7136496714742508\n",
      "\n",
      "max_depth = 13\n",
      "F1: 0.4756898817345597\n",
      "AUC-ROC: 0.6775065922517992\n",
      "\n",
      "max_depth = 14\n",
      "F1: 0.49318463444857497\n",
      "AUC-ROC: 0.6718122958425714\n",
      "\n",
      "max_depth = 15\n",
      "F1: 0.468671679197995\n",
      "AUC-ROC: 0.6648227849809091\n",
      "\n",
      "max_depth = 16\n",
      "F1: 0.4875621890547264\n",
      "AUC-ROC: 0.6746883015451128\n",
      "\n",
      "max_depth = 17\n",
      "F1: 0.5042424242424243\n",
      "AUC-ROC: 0.6827684009648148\n",
      "\n",
      "max_depth = 18\n",
      "F1: 0.47144592952612396\n",
      "AUC-ROC: 0.664447262735151\n",
      "\n",
      "max_depth = 19\n",
      "F1: 0.4808877928483354\n",
      "AUC-ROC: 0.6692346092095145\n",
      "\n",
      "Лучшее значение F1 = 0.5337423312883436\n",
      "При max_depth = 6\n"
     ]
    }
   ],
   "source": [
    "d = 0\n",
    "f = 0\n",
    "\n",
    "for depth in range(1,20):\n",
    "    model = DecisionTreeClassifier(random_state=12345, max_depth=depth)\n",
    "    model.fit(features_train_ohe, target_train)\n",
    "    predicted_valid = model.predict(features_valid_ohe)\n",
    "    print('max_depth =', depth)\n",
    "    print(\"F1:\", f1_score(target_valid, predicted_valid))\n",
    "    \n",
    "    if f1_score(target_valid, predicted_valid) > f:\n",
    "        d = depth\n",
    "        f = f1_score(target_valid, predicted_valid) \n",
    "    \n",
    "    probabilities_valid = model.predict_proba(features_valid_ohe)\n",
    "    probabilities_one_valid = probabilities_valid[:, 1]\n",
    "    print('AUC-ROC:', roc_auc_score(target_valid, probabilities_one_valid))\n",
    "    print()\n",
    "    \n",
    "print('Лучшее значение F1 =', f)\n",
    "print('При max_depth =', d)\n"
   ]
  },
  {
   "cell_type": "markdown",
   "metadata": {},
   "source": [
    "### RandomForestClassifier (без учёта дисбаланса)"
   ]
  },
  {
   "cell_type": "code",
   "execution_count": 44,
   "metadata": {
    "scrolled": true
   },
   "outputs": [
    {
     "name": "stdout",
     "output_type": "stream",
     "text": [
      "max_depth = 1\n",
      "n_estimators = 2\n",
      "F1: 0.21765913757700203\n",
      "AUC-ROC: 0.5849624702617863\n",
      "\n",
      "max_depth = 1\n",
      "n_estimators = 3\n",
      "F1: 0.1277533039647577\n",
      "AUC-ROC: 0.7264271719202304\n",
      "\n",
      "max_depth = 1\n",
      "n_estimators = 4\n",
      "F1: 0.0\n",
      "AUC-ROC: 0.7577521733068893\n",
      "\n",
      "max_depth = 1\n",
      "n_estimators = 5\n",
      "F1: 0.13186813186813184\n",
      "AUC-ROC: 0.7577521733068893\n",
      "\n",
      "max_depth = 1\n",
      "n_estimators = 6\n",
      "F1: 0.0\n",
      "AUC-ROC: 0.7562388411428469\n",
      "\n",
      "max_depth = 1\n",
      "n_estimators = 7\n",
      "F1: 0.0\n",
      "AUC-ROC: 0.75680849564739\n",
      "\n",
      "max_depth = 1\n",
      "n_estimators = 8\n",
      "F1: 0.0\n",
      "AUC-ROC: 0.720482527347164\n",
      "\n",
      "max_depth = 1\n",
      "n_estimators = 9\n",
      "F1: 0.0\n",
      "AUC-ROC: 0.720482527347164\n",
      "\n",
      "max_depth = 1\n",
      "n_estimators = 10\n",
      "F1: 0.0\n",
      "AUC-ROC: 0.7504051292890862\n",
      "\n",
      "max_depth = 1\n",
      "n_estimators = 11\n",
      "F1: 0.0\n",
      "AUC-ROC: 0.7336872686715508\n",
      "\n",
      "max_depth = 1\n",
      "n_estimators = 12\n",
      "F1: 0.0\n",
      "AUC-ROC: 0.7345132677031381\n",
      "\n",
      "max_depth = 1\n",
      "n_estimators = 13\n",
      "F1: 0.0\n",
      "AUC-ROC: 0.7345132677031381\n",
      "\n",
      "max_depth = 1\n",
      "n_estimators = 14\n",
      "F1: 0.0\n",
      "AUC-ROC: 0.76637644268751\n",
      "\n",
      "max_depth = 1\n",
      "n_estimators = 15\n",
      "F1: 0.0\n",
      "AUC-ROC: 0.7663434626898786\n",
      "\n",
      "max_depth = 1\n",
      "n_estimators = 16\n",
      "F1: 0.0\n",
      "AUC-ROC: 0.7706038787475397\n",
      "\n",
      "max_depth = 1\n",
      "n_estimators = 17\n",
      "F1: 0.0\n",
      "AUC-ROC: 0.7707627823724911\n",
      "\n",
      "max_depth = 1\n",
      "n_estimators = 18\n",
      "F1: 0.0\n",
      "AUC-ROC: 0.770671337833604\n",
      "\n",
      "max_depth = 1\n",
      "n_estimators = 19\n",
      "F1: 0.0\n",
      "AUC-ROC: 0.7707357987380654\n",
      "\n",
      "max_depth = 2\n",
      "n_estimators = 2\n",
      "F1: 0.19327731092436976\n",
      "AUC-ROC: 0.7393958064433921\n",
      "\n",
      "max_depth = 2\n",
      "n_estimators = 3\n",
      "F1: 0.13596491228070173\n",
      "AUC-ROC: 0.7616198275745761\n",
      "\n",
      "max_depth = 2\n",
      "n_estimators = 4\n",
      "F1: 0.13596491228070173\n",
      "AUC-ROC: 0.7811589770804006\n",
      "\n",
      "max_depth = 2\n",
      "n_estimators = 5\n",
      "F1: 0.13596491228070173\n",
      "AUC-ROC: 0.7832352178403797\n",
      "\n",
      "max_depth = 2\n",
      "n_estimators = 6\n",
      "F1: 0.18259023354564755\n",
      "AUC-ROC: 0.7827127846960817\n",
      "\n",
      "max_depth = 2\n",
      "n_estimators = 7\n",
      "F1: 0.19368421052631576\n",
      "AUC-ROC: 0.7831790019353262\n",
      "\n",
      "max_depth = 2\n",
      "n_estimators = 8\n",
      "F1: 0.19368421052631576\n",
      "AUC-ROC: 0.7834863155496191\n",
      "\n",
      "max_depth = 2\n",
      "n_estimators = 9\n",
      "F1: 0.1970649895178197\n",
      "AUC-ROC: 0.7833993682831363\n",
      "\n",
      "max_depth = 2\n",
      "n_estimators = 10\n",
      "F1: 0.18987341772151897\n",
      "AUC-ROC: 0.7856330135772653\n",
      "\n",
      "max_depth = 2\n",
      "n_estimators = 11\n",
      "F1: 0.18259023354564755\n",
      "AUC-ROC: 0.7839727705146828\n",
      "\n",
      "max_depth = 2\n",
      "n_estimators = 12\n",
      "F1: 0.19368421052631576\n",
      "AUC-ROC: 0.7800196680713147\n",
      "\n",
      "max_depth = 2\n",
      "n_estimators = 13\n",
      "F1: 0.19368421052631576\n",
      "AUC-ROC: 0.7815772234139993\n",
      "\n",
      "max_depth = 2\n",
      "n_estimators = 14\n",
      "F1: 0.19368421052631576\n",
      "AUC-ROC: 0.7831227860302726\n",
      "\n",
      "max_depth = 2\n",
      "n_estimators = 15\n",
      "F1: 0.19368421052631576\n",
      "AUC-ROC: 0.7814962725107222\n",
      "\n",
      "max_depth = 2\n",
      "n_estimators = 16\n",
      "F1: 0.17948717948717952\n",
      "AUC-ROC: 0.7803524662292318\n",
      "\n",
      "max_depth = 2\n",
      "n_estimators = 17\n",
      "F1: 0.19368421052631576\n",
      "AUC-ROC: 0.7803659580464448\n",
      "\n",
      "max_depth = 2\n",
      "n_estimators = 18\n",
      "F1: 0.19491525423728814\n",
      "AUC-ROC: 0.7819467492965515\n",
      "\n",
      "max_depth = 2\n",
      "n_estimators = 19\n",
      "F1: 0.16810344827586204\n",
      "AUC-ROC: 0.7814400566056686\n",
      "\n",
      "max_depth = 3\n",
      "n_estimators = 2\n",
      "F1: 0.21399176954732513\n",
      "AUC-ROC: 0.7523142214247059\n",
      "\n",
      "max_depth = 3\n",
      "n_estimators = 3\n",
      "F1: 0.3618739903069467\n",
      "AUC-ROC: 0.7649905332415889\n",
      "\n",
      "max_depth = 3\n",
      "n_estimators = 4\n",
      "F1: 0.29389312977099236\n",
      "AUC-ROC: 0.7771256732791563\n",
      "\n",
      "max_depth = 3\n",
      "n_estimators = 5\n",
      "F1: 0.3146067415730337\n",
      "AUC-ROC: 0.7797565776356639\n",
      "\n",
      "max_depth = 3\n",
      "n_estimators = 6\n",
      "F1: 0.3214953271028037\n",
      "AUC-ROC: 0.7803127403229941\n",
      "\n",
      "max_depth = 3\n",
      "n_estimators = 7\n",
      "F1: 0.3202979515828678\n",
      "AUC-ROC: 0.7766429660410961\n",
      "\n",
      "max_depth = 3\n",
      "n_estimators = 8\n",
      "F1: 0.21576763485477177\n",
      "AUC-ROC: 0.7769000601135411\n",
      "\n",
      "max_depth = 3\n",
      "n_estimators = 9\n",
      "F1: 0.21900826446280988\n",
      "AUC-ROC: 0.7828994215008597\n",
      "\n",
      "max_depth = 3\n",
      "n_estimators = 10\n",
      "F1: 0.20833333333333331\n",
      "AUC-ROC: 0.7878201870565502\n",
      "\n",
      "max_depth = 3\n",
      "n_estimators = 11\n",
      "F1: 0.20459290187891438\n",
      "AUC-ROC: 0.787101373017265\n",
      "\n",
      "max_depth = 3\n",
      "n_estimators = 12\n",
      "F1: 0.2125\n",
      "AUC-ROC: 0.788613206090506\n",
      "\n",
      "max_depth = 3\n",
      "n_estimators = 13\n",
      "F1: 0.20833333333333331\n",
      "AUC-ROC: 0.7888365706199189\n",
      "\n",
      "max_depth = 3\n",
      "n_estimators = 14\n",
      "F1: 0.20502092050209203\n",
      "AUC-ROC: 0.7909480400137318\n",
      "\n",
      "max_depth = 3\n",
      "n_estimators = 15\n",
      "F1: 0.20502092050209203\n",
      "AUC-ROC: 0.7907996300243901\n",
      "\n",
      "max_depth = 3\n",
      "n_estimators = 16\n",
      "F1: 0.20125786163522014\n",
      "AUC-ROC: 0.791540180880296\n",
      "\n",
      "max_depth = 3\n",
      "n_estimators = 17\n",
      "F1: 0.20502092050209203\n",
      "AUC-ROC: 0.791702832232251\n",
      "\n",
      "max_depth = 3\n",
      "n_estimators = 18\n",
      "F1: 0.19747899159663865\n",
      "AUC-ROC: 0.7916653549622154\n",
      "\n",
      "max_depth = 3\n",
      "n_estimators = 19\n",
      "F1: 0.20502092050209203\n",
      "AUC-ROC: 0.7911301795461053\n",
      "\n",
      "max_depth = 4\n",
      "n_estimators = 2\n",
      "F1: 0.41761827079934744\n",
      "AUC-ROC: 0.7830395864907933\n",
      "\n",
      "max_depth = 4\n",
      "n_estimators = 3\n",
      "F1: 0.4\n",
      "AUC-ROC: 0.7988669871722801\n",
      "\n",
      "max_depth = 4\n",
      "n_estimators = 4\n",
      "F1: 0.41043478260869565\n",
      "AUC-ROC: 0.8043079372360663\n",
      "\n",
      "max_depth = 4\n",
      "n_estimators = 5\n",
      "F1: 0.4391080617495712\n",
      "AUC-ROC: 0.8045597844907064\n",
      "\n",
      "max_depth = 4\n",
      "n_estimators = 6\n",
      "F1: 0.4572368421052631\n",
      "AUC-ROC: 0.8024595582779046\n",
      "\n",
      "max_depth = 4\n",
      "n_estimators = 7\n",
      "F1: 0.4519392917369308\n",
      "AUC-ROC: 0.8097908618422929\n",
      "\n",
      "max_depth = 4\n",
      "n_estimators = 8\n",
      "F1: 0.4421416234887737\n",
      "AUC-ROC: 0.8177090594554404\n",
      "\n",
      "max_depth = 4\n",
      "n_estimators = 9\n",
      "F1: 0.4527027027027027\n",
      "AUC-ROC: 0.8231799913352552\n",
      "\n",
      "max_depth = 4\n",
      "n_estimators = 10\n",
      "F1: 0.42214532871972327\n",
      "AUC-ROC: 0.8207821955983696\n",
      "\n",
      "max_depth = 4\n",
      "n_estimators = 11\n",
      "F1: 0.3978685612788632\n",
      "AUC-ROC: 0.8221088909576342\n",
      "\n",
      "max_depth = 4\n",
      "n_estimators = 12\n",
      "F1: 0.3804347826086957\n",
      "AUC-ROC: 0.8201578242795745\n",
      "\n",
      "max_depth = 4\n",
      "n_estimators = 13\n",
      "F1: 0.3420074349442379\n",
      "AUC-ROC: 0.8200086647448322\n",
      "\n",
      "max_depth = 4\n",
      "n_estimators = 14\n",
      "F1: 0.36330275229357806\n",
      "AUC-ROC: 0.8201938024588088\n",
      "\n",
      "max_depth = 4\n",
      "n_estimators = 15\n",
      "F1: 0.36229205175600737\n",
      "AUC-ROC: 0.8213825814643417\n",
      "\n",
      "max_depth = 4\n",
      "n_estimators = 16\n",
      "F1: 0.3692870201096893\n",
      "AUC-ROC: 0.8222535532199722\n",
      "\n",
      "max_depth = 4\n",
      "n_estimators = 17\n",
      "F1: 0.3862815884476534\n",
      "AUC-ROC: 0.82234574730426\n",
      "\n",
      "max_depth = 4\n",
      "n_estimators = 18\n",
      "F1: 0.37090909090909085\n",
      "AUC-ROC: 0.8216509187177977\n",
      "\n",
      "max_depth = 4\n",
      "n_estimators = 19\n",
      "F1: 0.4154929577464789\n",
      "AUC-ROC: 0.8208683933194517\n",
      "\n",
      "max_depth = 5\n",
      "n_estimators = 2\n",
      "F1: 0.34137931034482755\n",
      "AUC-ROC: 0.7779441768567364\n",
      "\n",
      "max_depth = 5\n",
      "n_estimators = 3\n",
      "F1: 0.37924865831842575\n",
      "AUC-ROC: 0.8020315678540966\n",
      "\n",
      "max_depth = 5\n",
      "n_estimators = 4\n",
      "F1: 0.4232081911262799\n",
      "AUC-ROC: 0.8057065889537994\n",
      "\n",
      "max_depth = 5\n",
      "n_estimators = 5\n",
      "F1: 0.436426116838488\n",
      "AUC-ROC: 0.8102315945379128\n",
      "\n",
      "max_depth = 5\n",
      "n_estimators = 6\n",
      "F1: 0.45896147403685095\n",
      "AUC-ROC: 0.8103057995325835\n",
      "\n",
      "max_depth = 5\n",
      "n_estimators = 7\n",
      "F1: 0.45578231292517\n",
      "AUC-ROC: 0.817562898102301\n",
      "\n",
      "max_depth = 5\n",
      "n_estimators = 8\n",
      "F1: 0.4482758620689655\n",
      "AUC-ROC: 0.8174684553818109\n",
      "\n",
      "max_depth = 5\n",
      "n_estimators = 9\n",
      "F1: 0.4586846543001687\n",
      "AUC-ROC: 0.8245186794209313\n",
      "\n",
      "max_depth = 5\n",
      "n_estimators = 10\n",
      "F1: 0.4429530201342282\n",
      "AUC-ROC: 0.8236282194848823\n",
      "\n",
      "max_depth = 5\n",
      "n_estimators = 11\n",
      "F1: 0.4376068376068376\n",
      "AUC-ROC: 0.8279156191769691\n",
      "\n",
      "max_depth = 5\n",
      "n_estimators = 12\n",
      "F1: 0.4268502581755593\n",
      "AUC-ROC: 0.8266833665381945\n",
      "\n",
      "max_depth = 5\n",
      "n_estimators = 13\n",
      "F1: 0.43952299829642244\n",
      "AUC-ROC: 0.8281015064363463\n",
      "\n",
      "max_depth = 5\n",
      "n_estimators = 14\n",
      "F1: 0.45637583892617456\n",
      "AUC-ROC: 0.8279411037205935\n",
      "\n",
      "max_depth = 5\n",
      "n_estimators = 15\n",
      "F1: 0.45608108108108114\n",
      "AUC-ROC: 0.8298614390372239\n",
      "\n",
      "max_depth = 5\n",
      "n_estimators = 16\n",
      "F1: 0.4584717607973422\n",
      "AUC-ROC: 0.8302092281031553\n",
      "\n",
      "max_depth = 5\n",
      "n_estimators = 17\n",
      "F1: 0.4548494983277592\n",
      "AUC-ROC: 0.8311341671276372\n",
      "\n",
      "max_depth = 5\n",
      "n_estimators = 18\n",
      "F1: 0.45378151260504196\n",
      "AUC-ROC: 0.8328671160940889\n",
      "\n",
      "max_depth = 5\n",
      "n_estimators = 19\n",
      "F1: 0.45666666666666667\n",
      "AUC-ROC: 0.8324526174874939\n",
      "\n",
      "max_depth = 6\n",
      "n_estimators = 2\n",
      "F1: 0.48787878787878786\n",
      "AUC-ROC: 0.8153300023535726\n",
      "\n",
      "max_depth = 6\n",
      "n_estimators = 3\n",
      "F1: 0.490506329113924\n",
      "AUC-ROC: 0.8227744872734686\n",
      "\n",
      "max_depth = 6\n",
      "n_estimators = 4\n",
      "F1: 0.48639999999999994\n",
      "AUC-ROC: 0.8175269199230667\n",
      "\n",
      "max_depth = 6\n",
      "n_estimators = 5\n",
      "F1: 0.481658692185008\n",
      "AUC-ROC: 0.8281719637040135\n",
      "\n",
      "max_depth = 6\n",
      "n_estimators = 6\n",
      "F1: 0.4858044164037855\n",
      "AUC-ROC: 0.8252794680026564\n",
      "\n",
      "max_depth = 6\n",
      "n_estimators = 7\n",
      "F1: 0.4766505636070854\n",
      "AUC-ROC: 0.8282431705170813\n",
      "\n",
      "max_depth = 6\n",
      "n_estimators = 8\n",
      "F1: 0.471947194719472\n",
      "AUC-ROC: 0.8277342291899963\n",
      "\n",
      "max_depth = 6\n",
      "n_estimators = 9\n",
      "F1: 0.4698205546492659\n",
      "AUC-ROC: 0.8302474549185919\n",
      "\n",
      "max_depth = 6\n",
      "n_estimators = 10\n",
      "F1: 0.46179401993355484\n",
      "AUC-ROC: 0.8294424431582246\n",
      "\n",
      "max_depth = 6\n",
      "n_estimators = 11\n",
      "F1: 0.4678747940691927\n",
      "AUC-ROC: 0.8318687216203373\n",
      "\n",
      "max_depth = 6\n",
      "n_estimators = 12\n",
      "F1: 0.4678747940691927\n",
      "AUC-ROC: 0.8350790245715973\n",
      "\n",
      "max_depth = 6\n",
      "n_estimators = 13\n",
      "F1: 0.4727272727272727\n",
      "AUC-ROC: 0.8368104744472477\n",
      "\n",
      "max_depth = 6\n",
      "n_estimators = 14\n",
      "F1: 0.4761904761904762\n",
      "AUC-ROC: 0.8374258512212344\n",
      "\n",
      "max_depth = 6\n",
      "n_estimators = 15\n",
      "F1: 0.46611570247933876\n",
      "AUC-ROC: 0.838253349343623\n",
      "\n",
      "max_depth = 6\n",
      "n_estimators = 16\n",
      "F1: 0.47116968698517303\n",
      "AUC-ROC: 0.8372894339583042\n",
      "\n",
      "max_depth = 6\n",
      "n_estimators = 17\n",
      "F1: 0.47254575707154733\n",
      "AUC-ROC: 0.8372512071428679\n",
      "\n",
      "max_depth = 6\n",
      "n_estimators = 18\n",
      "F1: 0.46\n",
      "AUC-ROC: 0.8399818010376706\n",
      "\n",
      "max_depth = 6\n",
      "n_estimators = 19\n",
      "F1: 0.4633333333333333\n",
      "AUC-ROC: 0.8408137964324638\n",
      "\n",
      "max_depth = 7\n",
      "n_estimators = 2\n",
      "F1: 0.48787878787878786\n",
      "AUC-ROC: 0.8068428997812828\n",
      "\n",
      "max_depth = 7\n",
      "n_estimators = 3\n",
      "F1: 0.46929133858267713\n",
      "AUC-ROC: 0.8159858545791977\n",
      "\n",
      "max_depth = 7\n",
      "n_estimators = 4\n",
      "F1: 0.4852255054432348\n",
      "AUC-ROC: 0.8230098445292929\n",
      "\n",
      "max_depth = 7\n",
      "n_estimators = 5\n",
      "F1: 0.5007633587786259\n",
      "AUC-ROC: 0.8247060657711098\n",
      "\n",
      "max_depth = 7\n",
      "n_estimators = 6\n",
      "F1: 0.47648902821316624\n",
      "AUC-ROC: 0.8206585206072518\n",
      "\n",
      "max_depth = 7\n",
      "n_estimators = 7\n",
      "F1: 0.4866562009419152\n",
      "AUC-ROC: 0.827443405574519\n",
      "\n",
      "max_depth = 7\n",
      "n_estimators = 8\n",
      "F1: 0.48543689320388356\n",
      "AUC-ROC: 0.8275903164730591\n",
      "\n",
      "max_depth = 7\n",
      "n_estimators = 9\n",
      "F1: 0.48309178743961356\n",
      "AUC-ROC: 0.8325620511159981\n",
      "\n",
      "max_depth = 7\n",
      "n_estimators = 10\n",
      "F1: 0.48376623376623373\n",
      "AUC-ROC: 0.8312398530291378\n",
      "\n",
      "max_depth = 7\n",
      "n_estimators = 11\n",
      "F1: 0.48231511254019294\n",
      "AUC-ROC: 0.8328933501831138\n",
      "\n",
      "max_depth = 7\n",
      "n_estimators = 12\n",
      "F1: 0.488673139158576\n",
      "AUC-ROC: 0.8358225736091062\n",
      "\n",
      "max_depth = 7\n",
      "n_estimators = 13\n",
      "F1: 0.4847512038523275\n",
      "AUC-ROC: 0.835691403163981\n",
      "\n",
      "max_depth = 7\n",
      "n_estimators = 14\n",
      "F1: 0.48803827751196177\n",
      "AUC-ROC: 0.8347109977798466\n",
      "\n",
      "max_depth = 7\n",
      "n_estimators = 15\n",
      "F1: 0.49279999999999996\n",
      "AUC-ROC: 0.8353675995508725\n",
      "\n",
      "max_depth = 7\n",
      "n_estimators = 16\n",
      "F1: 0.4944178628389155\n",
      "AUC-ROC: 0.8372257225992434\n",
      "\n",
      "max_depth = 7\n",
      "n_estimators = 17\n",
      "F1: 0.4863123993558776\n",
      "AUC-ROC: 0.837964774364348\n",
      "\n",
      "max_depth = 7\n",
      "n_estimators = 18\n",
      "F1: 0.482200647249191\n",
      "AUC-ROC: 0.840248639200325\n",
      "\n",
      "max_depth = 7\n",
      "n_estimators = 19\n",
      "F1: 0.481421647819063\n",
      "AUC-ROC: 0.8410341627802738\n",
      "\n",
      "max_depth = 8\n",
      "n_estimators = 2\n",
      "F1: 0.45592705167173253\n",
      "AUC-ROC: 0.790923305015508\n",
      "\n",
      "max_depth = 8\n",
      "n_estimators = 3\n",
      "F1: 0.4325153374233129\n",
      "AUC-ROC: 0.8040410990734119\n",
      "\n",
      "max_depth = 8\n",
      "n_estimators = 4\n",
      "F1: 0.47360482654600305\n",
      "AUC-ROC: 0.8103665127100413\n",
      "\n",
      "max_depth = 8\n",
      "n_estimators = 5\n",
      "F1: 0.46913580246913583\n",
      "AUC-ROC: 0.8155346282479676\n",
      "\n",
      "max_depth = 8\n",
      "n_estimators = 6\n",
      "F1: 0.47737909516380655\n",
      "AUC-ROC: 0.8167586358873342\n",
      "\n",
      "max_depth = 8\n",
      "n_estimators = 7\n",
      "F1: 0.47949526813880133\n",
      "AUC-ROC: 0.8245066866945198\n",
      "\n",
      "max_depth = 8\n",
      "n_estimators = 8\n",
      "F1: 0.4793650793650793\n",
      "AUC-ROC: 0.828548985040573\n",
      "\n",
      "max_depth = 8\n",
      "n_estimators = 9\n",
      "F1: 0.4758842443729904\n",
      "AUC-ROC: 0.8317105675407865\n",
      "\n",
      "max_depth = 8\n",
      "n_estimators = 10\n",
      "F1: 0.4832\n",
      "AUC-ROC: 0.8342822578106379\n",
      "\n",
      "max_depth = 8\n",
      "n_estimators = 11\n",
      "F1: 0.48553054662379413\n",
      "AUC-ROC: 0.8372474594158643\n",
      "\n",
      "max_depth = 8\n",
      "n_estimators = 12\n",
      "F1: 0.4919614147909968\n",
      "AUC-ROC: 0.8357026463449917\n",
      "\n",
      "max_depth = 8\n",
      "n_estimators = 13\n",
      "F1: 0.49438202247191015\n",
      "AUC-ROC: 0.8372864357767014\n",
      "\n",
      "max_depth = 8\n",
      "n_estimators = 14\n",
      "F1: 0.49354838709677423\n",
      "AUC-ROC: 0.8387330584000803\n",
      "\n",
      "max_depth = 8\n",
      "n_estimators = 15\n",
      "F1: 0.4870967741935484\n",
      "AUC-ROC: 0.8375652666657671\n",
      "\n",
      "max_depth = 8\n",
      "n_estimators = 16\n",
      "F1: 0.48231511254019294\n",
      "AUC-ROC: 0.8397329519646335\n",
      "\n",
      "max_depth = 8\n",
      "n_estimators = 17\n",
      "F1: 0.48874598070739544\n",
      "AUC-ROC: 0.8407650759814173\n",
      "\n",
      "max_depth = 8\n",
      "n_estimators = 18\n",
      "F1: 0.49025974025974023\n",
      "AUC-ROC: 0.8439259089362301\n",
      "\n",
      "max_depth = 8\n",
      "n_estimators = 19\n",
      "F1: 0.4846526655896608\n",
      "AUC-ROC: 0.8448298606894918\n",
      "\n",
      "max_depth = 9\n",
      "n_estimators = 2\n",
      "F1: 0.4470588235294118\n",
      "AUC-ROC: 0.7713564223298569\n",
      "\n",
      "max_depth = 9\n",
      "n_estimators = 3\n",
      "F1: 0.4732142857142857\n",
      "AUC-ROC: 0.8022864132903395\n",
      "\n",
      "max_depth = 9\n",
      "n_estimators = 4\n",
      "F1: 0.4984984984984984\n",
      "AUC-ROC: 0.8214313019153883\n",
      "\n",
      "max_depth = 9\n",
      "n_estimators = 5\n",
      "F1: 0.5075987841945289\n",
      "AUC-ROC: 0.8287146345741307\n",
      "\n",
      "max_depth = 9\n",
      "n_estimators = 6\n",
      "F1: 0.5023112480739599\n",
      "AUC-ROC: 0.8352544181953645\n",
      "\n",
      "max_depth = 9\n",
      "n_estimators = 7\n",
      "F1: 0.49226006191950455\n",
      "AUC-ROC: 0.8389211942956597\n",
      "\n",
      "max_depth = 9\n",
      "n_estimators = 8\n",
      "F1: 0.5101088646967341\n",
      "AUC-ROC: 0.8408160450686659\n",
      "\n",
      "max_depth = 9\n",
      "n_estimators = 9\n",
      "F1: 0.5046153846153846\n",
      "AUC-ROC: 0.8419658477133619\n",
      "\n",
      "max_depth = 9\n",
      "n_estimators = 10\n",
      "F1: 0.5061728395061729\n",
      "AUC-ROC: 0.8426172026665826\n",
      "\n",
      "max_depth = 9\n",
      "n_estimators = 11\n",
      "F1: 0.5123456790123456\n",
      "AUC-ROC: 0.8457000828997212\n",
      "\n",
      "max_depth = 9\n",
      "n_estimators = 12\n",
      "F1: 0.5077881619937694\n",
      "AUC-ROC: 0.8464526264820386\n",
      "\n",
      "max_depth = 9\n",
      "n_estimators = 13\n",
      "F1: 0.5023547880690737\n",
      "AUC-ROC: 0.8460366287846421\n",
      "\n",
      "max_depth = 9\n",
      "n_estimators = 14\n",
      "F1: 0.5054602184087363\n",
      "AUC-ROC: 0.844963279770819\n",
      "\n",
      "max_depth = 9\n",
      "n_estimators = 15\n",
      "F1: 0.5046728971962616\n",
      "AUC-ROC: 0.8468131578197824\n",
      "\n",
      "max_depth = 9\n",
      "n_estimators = 16\n",
      "F1: 0.5124223602484472\n",
      "AUC-ROC: 0.8466070328345859\n",
      "\n",
      "max_depth = 9\n",
      "n_estimators = 17\n",
      "F1: 0.5147286821705427\n",
      "AUC-ROC: 0.8462644905864591\n",
      "\n",
      "max_depth = 9\n",
      "n_estimators = 18\n",
      "F1: 0.5100463678516228\n",
      "AUC-ROC: 0.84614981014015\n",
      "\n",
      "max_depth = 9\n",
      "n_estimators = 19\n",
      "F1: 0.5077881619937694\n",
      "AUC-ROC: 0.8462352583158314\n",
      "\n",
      "max_depth = 10\n",
      "n_estimators = 2\n",
      "F1: 0.4608819345661451\n",
      "AUC-ROC: 0.7904593364124658\n",
      "\n",
      "max_depth = 10\n",
      "n_estimators = 3\n",
      "F1: 0.528023598820059\n",
      "AUC-ROC: 0.8153869678040269\n",
      "\n",
      "max_depth = 10\n",
      "n_estimators = 4\n",
      "F1: 0.49848942598187307\n",
      "AUC-ROC: 0.8257022116086593\n",
      "\n",
      "max_depth = 10\n",
      "n_estimators = 5\n",
      "F1: 0.512743628185907\n",
      "AUC-ROC: 0.8250680961996548\n",
      "\n",
      "max_depth = 10\n",
      "n_estimators = 6\n",
      "F1: 0.5153374233128835\n",
      "AUC-ROC: 0.8288518013824615\n",
      "\n",
      "max_depth = 10\n",
      "n_estimators = 7\n",
      "F1: 0.5162287480680061\n",
      "AUC-ROC: 0.8365893585540369\n",
      "\n",
      "max_depth = 10\n",
      "n_estimators = 8\n",
      "F1: 0.5131375579598144\n",
      "AUC-ROC: 0.837901812550688\n",
      "\n",
      "max_depth = 10\n",
      "n_estimators = 9\n",
      "F1: 0.5198776758409785\n",
      "AUC-ROC: 0.8380779557198559\n",
      "\n",
      "max_depth = 10\n",
      "n_estimators = 10\n",
      "F1: 0.5061728395061729\n",
      "AUC-ROC: 0.83719049396541\n",
      "\n",
      "max_depth = 10\n",
      "n_estimators = 11\n",
      "F1: 0.5015479876160991\n",
      "AUC-ROC: 0.8407680741630201\n",
      "\n",
      "max_depth = 10\n",
      "n_estimators = 12\n",
      "F1: 0.5123456790123456\n",
      "AUC-ROC: 0.84334875897768\n",
      "\n",
      "max_depth = 10\n",
      "n_estimators = 13\n",
      "F1: 0.5146379044684128\n",
      "AUC-ROC: 0.8450067534040604\n",
      "\n",
      "max_depth = 10\n",
      "n_estimators = 14\n",
      "F1: 0.5139318885448917\n",
      "AUC-ROC: 0.8448433525067048\n",
      "\n",
      "max_depth = 10\n",
      "n_estimators = 15\n",
      "F1: 0.5131375579598144\n",
      "AUC-ROC: 0.845700832445122\n",
      "\n",
      "max_depth = 10\n",
      "n_estimators = 16\n",
      "F1: 0.5115562403697997\n",
      "AUC-ROC: 0.8478512781997718\n",
      "\n",
      "max_depth = 10\n",
      "n_estimators = 17\n",
      "F1: 0.5023400936037441\n",
      "AUC-ROC: 0.8475552077664896\n",
      "\n",
      "max_depth = 10\n",
      "n_estimators = 18\n",
      "F1: 0.5069984447900467\n",
      "AUC-ROC: 0.8479944413713083\n",
      "\n",
      "max_depth = 10\n",
      "n_estimators = 19\n",
      "F1: 0.4945226917057903\n",
      "AUC-ROC: 0.8496681762511038\n",
      "\n",
      "max_depth = 11\n",
      "n_estimators = 2\n",
      "F1: 0.46601941747572817\n",
      "AUC-ROC: 0.7663239745094601\n",
      "\n",
      "max_depth = 11\n",
      "n_estimators = 3\n",
      "F1: 0.5094066570188133\n",
      "AUC-ROC: 0.7907786427531702\n",
      "\n",
      "max_depth = 11\n",
      "n_estimators = 4\n",
      "F1: 0.5007407407407406\n",
      "AUC-ROC: 0.8085788469293373\n",
      "\n",
      "max_depth = 11\n",
      "n_estimators = 5\n",
      "F1: 0.5088235294117647\n",
      "AUC-ROC: 0.8158172068640368\n",
      "\n",
      "max_depth = 11\n",
      "n_estimators = 6\n",
      "F1: 0.503725782414307\n",
      "AUC-ROC: 0.8233906135928559\n",
      "\n",
      "max_depth = 11\n",
      "n_estimators = 7\n",
      "F1: 0.5113464447806355\n",
      "AUC-ROC: 0.8275445942036155\n",
      "\n",
      "max_depth = 11\n",
      "n_estimators = 8\n",
      "F1: 0.5250379362670713\n",
      "AUC-ROC: 0.8312953193887908\n",
      "\n",
      "max_depth = 11\n",
      "n_estimators = 9\n",
      "F1: 0.5114854517611026\n",
      "AUC-ROC: 0.8321902765972438\n",
      "\n",
      "max_depth = 11\n",
      "n_estimators = 10\n",
      "F1: 0.5115562403697997\n",
      "AUC-ROC: 0.8310592125875658\n",
      "\n",
      "max_depth = 11\n",
      "n_estimators = 11\n",
      "F1: 0.5023255813953488\n",
      "AUC-ROC: 0.8305854998943142\n",
      "\n",
      "max_depth = 11\n",
      "n_estimators = 12\n",
      "F1: 0.5201238390092878\n",
      "AUC-ROC: 0.831470713012558\n",
      "\n",
      "max_depth = 11\n",
      "n_estimators = 13\n",
      "F1: 0.5208012326656394\n",
      "AUC-ROC: 0.8326947206519246\n",
      "\n",
      "max_depth = 11\n",
      "n_estimators = 14\n",
      "F1: 0.5153374233128835\n",
      "AUC-ROC: 0.8346817655092186\n",
      "\n",
      "max_depth = 11\n",
      "n_estimators = 15\n",
      "F1: 0.5182926829268293\n",
      "AUC-ROC: 0.8370653198834905\n",
      "\n",
      "max_depth = 11\n",
      "n_estimators = 16\n",
      "F1: 0.5129770992366413\n",
      "AUC-ROC: 0.8360009654144761\n",
      "\n",
      "max_depth = 11\n",
      "n_estimators = 17\n",
      "F1: 0.5154320987654321\n",
      "AUC-ROC: 0.836649322186094\n",
      "\n",
      "max_depth = 11\n",
      "n_estimators = 18\n",
      "F1: 0.5237366003062787\n",
      "AUC-ROC: 0.8376492157506471\n",
      "\n",
      "max_depth = 11\n",
      "n_estimators = 19\n",
      "F1: 0.5108359133126936\n",
      "AUC-ROC: 0.8387323088546798\n",
      "\n",
      "max_depth = 12\n",
      "n_estimators = 2\n",
      "F1: 0.4632768361581921\n",
      "AUC-ROC: 0.7611086376112887\n",
      "\n",
      "max_depth = 12\n",
      "n_estimators = 3\n",
      "F1: 0.5363128491620112\n",
      "AUC-ROC: 0.7972966895577833\n",
      "\n",
      "max_depth = 12\n",
      "n_estimators = 4\n",
      "F1: 0.5301542776998598\n",
      "AUC-ROC: 0.8141502178928479\n",
      "\n",
      "max_depth = 12\n",
      "n_estimators = 5\n",
      "F1: 0.5339105339105339\n",
      "AUC-ROC: 0.8189712939102435\n",
      "\n",
      "max_depth = 12\n",
      "n_estimators = 6\n",
      "F1: 0.5341074020319303\n",
      "AUC-ROC: 0.8279770818998277\n",
      "\n",
      "max_depth = 12\n",
      "n_estimators = 7\n",
      "F1: 0.5238095238095237\n",
      "AUC-ROC: 0.8329405715433589\n",
      "\n",
      "max_depth = 12\n",
      "n_estimators = 8\n",
      "F1: 0.5305514157973175\n",
      "AUC-ROC: 0.8363075294833683\n",
      "\n",
      "max_depth = 12\n",
      "n_estimators = 9\n",
      "F1: 0.5307346326836582\n",
      "AUC-ROC: 0.8360234517764975\n",
      "\n",
      "max_depth = 12\n",
      "n_estimators = 10\n",
      "F1: 0.5209580838323352\n",
      "AUC-ROC: 0.8343279800800814\n",
      "\n",
      "max_depth = 12\n",
      "n_estimators = 11\n",
      "F1: 0.5203007518796992\n",
      "AUC-ROC: 0.8358405626987233\n",
      "\n",
      "max_depth = 12\n",
      "n_estimators = 12\n",
      "F1: 0.5288753799392097\n",
      "AUC-ROC: 0.8372759421410914\n",
      "\n",
      "max_depth = 12\n",
      "n_estimators = 13\n",
      "F1: 0.5198776758409785\n",
      "AUC-ROC: 0.8385201875062773\n",
      "\n",
      "max_depth = 12\n",
      "n_estimators = 14\n",
      "F1: 0.5235920852359209\n",
      "AUC-ROC: 0.8399001005889928\n",
      "\n",
      "max_depth = 12\n",
      "n_estimators = 15\n",
      "F1: 0.5184049079754601\n",
      "AUC-ROC: 0.8394871010731991\n",
      "\n",
      "max_depth = 12\n",
      "n_estimators = 16\n",
      "F1: 0.5221374045801527\n",
      "AUC-ROC: 0.8415910750130047\n",
      "\n",
      "max_depth = 12\n",
      "n_estimators = 17\n",
      "F1: 0.5237366003062787\n",
      "AUC-ROC: 0.8429949735485428\n",
      "\n",
      "max_depth = 12\n",
      "n_estimators = 18\n",
      "F1: 0.522273425499232\n",
      "AUC-ROC: 0.8444783238965567\n",
      "\n",
      "max_depth = 12\n",
      "n_estimators = 19\n",
      "F1: 0.5245398773006135\n",
      "AUC-ROC: 0.845483464278915\n",
      "\n",
      "max_depth = 13\n",
      "n_estimators = 2\n",
      "F1: 0.42565597667638483\n",
      "AUC-ROC: 0.7577694128511058\n",
      "\n",
      "max_depth = 13\n",
      "n_estimators = 3\n",
      "F1: 0.48648648648648646\n",
      "AUC-ROC: 0.7841699009550708\n",
      "\n",
      "max_depth = 13\n",
      "n_estimators = 4\n",
      "F1: 0.526470588235294\n",
      "AUC-ROC: 0.8008712715737905\n",
      "\n",
      "max_depth = 13\n",
      "n_estimators = 5\n",
      "F1: 0.5203488372093024\n",
      "AUC-ROC: 0.8150759064627303\n",
      "\n",
      "max_depth = 13\n",
      "n_estimators = 6\n",
      "F1: 0.5232558139534883\n",
      "AUC-ROC: 0.8231260240664038\n",
      "\n",
      "max_depth = 13\n",
      "n_estimators = 7\n",
      "F1: 0.5364431486880467\n",
      "AUC-ROC: 0.824595133051804\n",
      "\n",
      "max_depth = 13\n",
      "n_estimators = 8\n",
      "F1: 0.5385735080058225\n",
      "AUC-ROC: 0.8341091128230729\n",
      "\n",
      "max_depth = 13\n",
      "n_estimators = 9\n",
      "F1: 0.5425219941348974\n",
      "AUC-ROC: 0.8371395248781613\n",
      "\n",
      "max_depth = 13\n",
      "n_estimators = 10\n",
      "F1: 0.5230312035661218\n",
      "AUC-ROC: 0.839329696539049\n",
      "\n",
      "max_depth = 13\n",
      "n_estimators = 11\n",
      "F1: 0.5329428989751098\n",
      "AUC-ROC: 0.8409899396016316\n",
      "\n",
      "max_depth = 13\n",
      "n_estimators = 12\n",
      "F1: 0.5357142857142857\n",
      "AUC-ROC: 0.8433944812471237\n",
      "\n",
      "max_depth = 13\n",
      "n_estimators = 13\n",
      "F1: 0.5357142857142857\n",
      "AUC-ROC: 0.8442354711867252\n",
      "\n",
      "max_depth = 13\n",
      "n_estimators = 14\n",
      "F1: 0.5263157894736843\n",
      "AUC-ROC: 0.8477905650223139\n",
      "\n",
      "max_depth = 13\n",
      "n_estimators = 15\n",
      "F1: 0.5323308270676692\n",
      "AUC-ROC: 0.8479981890983118\n",
      "\n",
      "max_depth = 13\n",
      "n_estimators = 16\n",
      "F1: 0.5323308270676692\n",
      "AUC-ROC: 0.848299506349399\n",
      "\n",
      "max_depth = 13\n",
      "n_estimators = 17\n",
      "F1: 0.5307346326836582\n",
      "AUC-ROC: 0.8480626500027733\n",
      "\n",
      "max_depth = 13\n",
      "n_estimators = 18\n",
      "F1: 0.5279034690799397\n",
      "AUC-ROC: 0.8468468873628145\n",
      "\n",
      "max_depth = 13\n",
      "n_estimators = 19\n",
      "F1: 0.536144578313253\n",
      "AUC-ROC: 0.8475686995837025\n",
      "\n",
      "max_depth = 14\n",
      "n_estimators = 2\n",
      "F1: 0.36785162287480677\n",
      "AUC-ROC: 0.7164147444574865\n",
      "\n",
      "max_depth = 14\n",
      "n_estimators = 3\n",
      "F1: 0.49862258953168037\n",
      "AUC-ROC: 0.7580414978315652\n",
      "\n",
      "max_depth = 14\n",
      "n_estimators = 4\n",
      "F1: 0.46390168970814133\n",
      "AUC-ROC: 0.7813636029747959\n",
      "\n",
      "max_depth = 14\n",
      "n_estimators = 5\n",
      "F1: 0.5108225108225108\n",
      "AUC-ROC: 0.793916239800561\n",
      "\n",
      "max_depth = 14\n",
      "n_estimators = 6\n",
      "F1: 0.5082212257100149\n",
      "AUC-ROC: 0.7986930926393142\n",
      "\n",
      "max_depth = 14\n",
      "n_estimators = 7\n",
      "F1: 0.5283018867924528\n",
      "AUC-ROC: 0.8075871983641921\n",
      "\n",
      "max_depth = 14\n",
      "n_estimators = 8\n",
      "F1: 0.5045045045045045\n",
      "AUC-ROC: 0.8114586003588823\n",
      "\n",
      "max_depth = 14\n",
      "n_estimators = 9\n",
      "F1: 0.5235294117647059\n",
      "AUC-ROC: 0.8170059858695702\n",
      "\n",
      "max_depth = 14\n",
      "n_estimators = 10\n",
      "F1: 0.4992481203007519\n",
      "AUC-ROC: 0.8211097469384818\n",
      "\n",
      "max_depth = 14\n",
      "n_estimators = 11\n",
      "F1: 0.5238095238095237\n",
      "AUC-ROC: 0.8232114722420852\n",
      "\n",
      "max_depth = 14\n",
      "n_estimators = 12\n",
      "F1: 0.512743628185907\n",
      "AUC-ROC: 0.8262283924799609\n",
      "\n",
      "max_depth = 14\n",
      "n_estimators = 13\n",
      "F1: 0.5248868778280542\n",
      "AUC-ROC: 0.8288068286584187\n",
      "\n",
      "max_depth = 14\n",
      "n_estimators = 14\n",
      "F1: 0.5113464447806355\n",
      "AUC-ROC: 0.8308725757827876\n",
      "\n",
      "max_depth = 14\n",
      "n_estimators = 15\n",
      "F1: 0.5279034690799397\n",
      "AUC-ROC: 0.8332741192466768\n",
      "\n",
      "max_depth = 14\n",
      "n_estimators = 16\n",
      "F1: 0.5106382978723405\n",
      "AUC-ROC: 0.8318394893497095\n",
      "\n",
      "max_depth = 14\n",
      "n_estimators = 17\n",
      "F1: 0.524390243902439\n",
      "AUC-ROC: 0.8337913055731699\n",
      "\n",
      "max_depth = 14\n",
      "n_estimators = 18\n",
      "F1: 0.5030674846625767\n",
      "AUC-ROC: 0.8343302287162836\n",
      "\n",
      "max_depth = 14\n",
      "n_estimators = 19\n",
      "F1: 0.5272727272727272\n",
      "AUC-ROC: 0.8339899351043591\n",
      "\n",
      "max_depth = 15\n",
      "n_estimators = 2\n",
      "F1: 0.43856920684292383\n",
      "AUC-ROC: 0.7376553620229331\n",
      "\n",
      "max_depth = 15\n",
      "n_estimators = 3\n",
      "F1: 0.5187239944521499\n",
      "AUC-ROC: 0.7724530072511022\n",
      "\n",
      "max_depth = 15\n",
      "n_estimators = 4\n",
      "F1: 0.4587155963302752\n",
      "AUC-ROC: 0.7803344771396149\n",
      "\n",
      "max_depth = 15\n",
      "n_estimators = 5\n",
      "F1: 0.5078459343794579\n",
      "AUC-ROC: 0.7952361892512191\n",
      "\n",
      "max_depth = 15\n",
      "n_estimators = 6\n",
      "F1: 0.5082706766917294\n",
      "AUC-ROC: 0.8121639225809547\n",
      "\n",
      "max_depth = 15\n",
      "n_estimators = 7\n",
      "F1: 0.5233918128654971\n",
      "AUC-ROC: 0.8157437514147668\n",
      "\n",
      "max_depth = 15\n",
      "n_estimators = 8\n",
      "F1: 0.5105740181268882\n",
      "AUC-ROC: 0.8208616474108453\n",
      "\n",
      "max_depth = 15\n",
      "n_estimators = 9\n",
      "F1: 0.5436046511627907\n",
      "AUC-ROC: 0.8223697327570829\n",
      "\n",
      "max_depth = 15\n",
      "n_estimators = 10\n",
      "F1: 0.5097451274362819\n",
      "AUC-ROC: 0.8280505373490976\n",
      "\n",
      "max_depth = 15\n",
      "n_estimators = 11\n",
      "F1: 0.5374449339207049\n",
      "AUC-ROC: 0.8301470158348961\n",
      "\n",
      "max_depth = 15\n",
      "n_estimators = 12\n",
      "F1: 0.5370919881305638\n",
      "AUC-ROC: 0.8322352493212866\n",
      "\n",
      "max_depth = 15\n",
      "n_estimators = 13\n",
      "F1: 0.5260029717682021\n",
      "AUC-ROC: 0.8325485592987854\n",
      "\n",
      "max_depth = 15\n",
      "n_estimators = 14\n",
      "F1: 0.5188536953242835\n",
      "AUC-ROC: 0.8334150337820112\n",
      "\n",
      "max_depth = 15\n",
      "n_estimators = 15\n",
      "F1: 0.5325443786982248\n",
      "AUC-ROC: 0.8367789935404177\n",
      "\n",
      "max_depth = 15\n",
      "n_estimators = 16\n",
      "F1: 0.5226586102719033\n",
      "AUC-ROC: 0.8374048639500143\n",
      "\n",
      "max_depth = 15\n",
      "n_estimators = 17\n",
      "F1: 0.5311572700296735\n",
      "AUC-ROC: 0.8385906447739446\n",
      "\n",
      "max_depth = 15\n",
      "n_estimators = 18\n",
      "F1: 0.5256797583081572\n",
      "AUC-ROC: 0.8402666282899421\n",
      "\n",
      "max_depth = 15\n",
      "n_estimators = 19\n",
      "F1: 0.5416666666666666\n",
      "AUC-ROC: 0.8399038483159965\n",
      "\n",
      "max_depth = 16\n",
      "n_estimators = 2\n",
      "F1: 0.4228934817170112\n",
      "AUC-ROC: 0.7365640239194927\n",
      "\n",
      "max_depth = 16\n",
      "n_estimators = 3\n",
      "F1: 0.48173207036535853\n",
      "AUC-ROC: 0.752857641840224\n",
      "\n",
      "max_depth = 16\n",
      "n_estimators = 4\n",
      "F1: 0.45151033386327505\n",
      "AUC-ROC: 0.7738014394269876\n",
      "\n",
      "max_depth = 16\n",
      "n_estimators = 5\n",
      "F1: 0.5164051355206847\n",
      "AUC-ROC: 0.7879506079562744\n",
      "\n",
      "max_depth = 16\n",
      "n_estimators = 6\n",
      "F1: 0.48690292758089376\n",
      "AUC-ROC: 0.7983542981181913\n",
      "\n",
      "max_depth = 16\n",
      "n_estimators = 7\n",
      "F1: 0.5079825834542815\n",
      "AUC-ROC: 0.8095884845840997\n",
      "\n",
      "max_depth = 16\n",
      "n_estimators = 8\n",
      "F1: 0.50920245398773\n",
      "AUC-ROC: 0.8194809847827293\n",
      "\n",
      "max_depth = 16\n",
      "n_estimators = 9\n",
      "F1: 0.5073746312684366\n",
      "AUC-ROC: 0.8254263789011964\n",
      "\n",
      "max_depth = 16\n",
      "n_estimators = 10\n",
      "F1: 0.48923076923076925\n",
      "AUC-ROC: 0.8292115831748046\n",
      "\n",
      "max_depth = 16\n",
      "n_estimators = 11\n",
      "F1: 0.5201793721973095\n",
      "AUC-ROC: 0.8326609911088924\n",
      "\n",
      "max_depth = 16\n",
      "n_estimators = 12\n",
      "F1: 0.49462365591397855\n",
      "AUC-ROC: 0.8359215136020004\n",
      "\n",
      "max_depth = 16\n",
      "n_estimators = 13\n",
      "F1: 0.5283582089552239\n",
      "AUC-ROC: 0.8324106429450537\n",
      "\n",
      "max_depth = 16\n",
      "n_estimators = 14\n",
      "F1: 0.5068702290076336\n",
      "AUC-ROC: 0.83409562100586\n",
      "\n",
      "max_depth = 16\n",
      "n_estimators = 15\n",
      "F1: 0.5178571428571429\n",
      "AUC-ROC: 0.836166614948034\n",
      "\n",
      "max_depth = 16\n",
      "n_estimators = 16\n",
      "F1: 0.5114155251141553\n",
      "AUC-ROC: 0.8369596339819899\n",
      "\n",
      "max_depth = 16\n",
      "n_estimators = 17\n",
      "F1: 0.5200594353640415\n",
      "AUC-ROC: 0.8382638429792331\n",
      "\n",
      "max_depth = 16\n",
      "n_estimators = 18\n",
      "F1: 0.5121212121212121\n",
      "AUC-ROC: 0.8379955057257775\n",
      "\n",
      "max_depth = 16\n",
      "n_estimators = 19\n",
      "F1: 0.5239520958083832\n",
      "AUC-ROC: 0.8391003356464305\n",
      "\n",
      "max_depth = 17\n",
      "n_estimators = 2\n",
      "F1: 0.3968503937007874\n",
      "AUC-ROC: 0.7137141323787123\n",
      "\n",
      "max_depth = 17\n",
      "n_estimators = 3\n",
      "F1: 0.5039999999999999\n",
      "AUC-ROC: 0.7452452587505679\n",
      "\n",
      "max_depth = 17\n",
      "n_estimators = 4\n",
      "F1: 0.4673748103186646\n",
      "AUC-ROC: 0.761871674829216\n",
      "\n",
      "max_depth = 17\n",
      "n_estimators = 5\n",
      "F1: 0.4943181818181818\n",
      "AUC-ROC: 0.769894059253063\n",
      "\n",
      "max_depth = 17\n",
      "n_estimators = 6\n",
      "F1: 0.5007587253414265\n",
      "AUC-ROC: 0.7813666011563986\n",
      "\n",
      "max_depth = 17\n",
      "n_estimators = 7\n",
      "F1: 0.5251076040172167\n",
      "AUC-ROC: 0.7961453878222857\n",
      "\n",
      "max_depth = 17\n",
      "n_estimators = 8\n",
      "F1: 0.5167173252279637\n",
      "AUC-ROC: 0.8040523422544228\n",
      "\n",
      "max_depth = 17\n",
      "n_estimators = 9\n",
      "F1: 0.5352941176470588\n",
      "AUC-ROC: 0.8053925294309001\n",
      "\n",
      "max_depth = 17\n",
      "n_estimators = 10\n",
      "F1: 0.5168195718654435\n",
      "AUC-ROC: 0.8064838675343404\n",
      "\n",
      "max_depth = 17\n",
      "n_estimators = 11\n",
      "F1: 0.5211062590975255\n",
      "AUC-ROC: 0.8086515528332067\n",
      "\n",
      "max_depth = 17\n",
      "n_estimators = 12\n",
      "F1: 0.5197568389057751\n",
      "AUC-ROC: 0.8141157388044151\n",
      "\n",
      "max_depth = 17\n",
      "n_estimators = 13\n",
      "F1: 0.534711964549483\n",
      "AUC-ROC: 0.8157564936865791\n",
      "\n",
      "max_depth = 17\n",
      "n_estimators = 14\n",
      "F1: 0.5204236006051437\n",
      "AUC-ROC: 0.8173230435740724\n",
      "\n",
      "max_depth = 17\n",
      "n_estimators = 15\n",
      "F1: 0.5178571428571429\n",
      "AUC-ROC: 0.8188266316479056\n",
      "\n",
      "max_depth = 17\n",
      "n_estimators = 16\n",
      "F1: 0.5068285280728376\n",
      "AUC-ROC: 0.8202110420030251\n",
      "\n",
      "max_depth = 17\n",
      "n_estimators = 17\n",
      "F1: 0.5222551928783383\n",
      "AUC-ROC: 0.8212049392043725\n",
      "\n",
      "max_depth = 17\n",
      "n_estimators = 18\n",
      "F1: 0.5099236641221374\n",
      "AUC-ROC: 0.821699639168844\n",
      "\n",
      "max_depth = 17\n",
      "n_estimators = 19\n",
      "F1: 0.5179640718562875\n",
      "AUC-ROC: 0.8222310668579507\n",
      "\n",
      "max_depth = 18\n",
      "n_estimators = 2\n",
      "F1: 0.4200626959247649\n",
      "AUC-ROC: 0.7309844079565743\n",
      "\n",
      "max_depth = 18\n",
      "n_estimators = 3\n",
      "F1: 0.50472334682861\n",
      "AUC-ROC: 0.7564307247654298\n",
      "\n",
      "max_depth = 18\n",
      "n_estimators = 4\n",
      "F1: 0.4535433070866142\n",
      "AUC-ROC: 0.7757974788290901\n",
      "\n",
      "max_depth = 18\n",
      "n_estimators = 5\n",
      "F1: 0.5085227272727273\n",
      "AUC-ROC: 0.7908423541122311\n",
      "\n",
      "max_depth = 18\n",
      "n_estimators = 6\n",
      "F1: 0.48062015503875966\n",
      "AUC-ROC: 0.7960891719172323\n",
      "\n",
      "max_depth = 18\n",
      "n_estimators = 7\n",
      "F1: 0.5325779036827194\n",
      "AUC-ROC: 0.8046489803933914\n",
      "\n",
      "max_depth = 18\n",
      "n_estimators = 8\n",
      "F1: 0.5221374045801527\n",
      "AUC-ROC: 0.8109106826709601\n",
      "\n",
      "max_depth = 18\n",
      "n_estimators = 9\n",
      "F1: 0.5279770444763271\n",
      "AUC-ROC: 0.8153442437161862\n",
      "\n",
      "max_depth = 18\n",
      "n_estimators = 10\n",
      "F1: 0.5105740181268882\n",
      "AUC-ROC: 0.8170127317781767\n",
      "\n",
      "max_depth = 18\n",
      "n_estimators = 11\n",
      "F1: 0.5209840810419681\n",
      "AUC-ROC: 0.8200633815590845\n",
      "\n",
      "max_depth = 18\n",
      "n_estimators = 12\n",
      "F1: 0.5126676602086437\n",
      "AUC-ROC: 0.8254188834471893\n",
      "\n",
      "max_depth = 18\n",
      "n_estimators = 13\n",
      "F1: 0.5420827389443651\n",
      "AUC-ROC: 0.8286943968483114\n",
      "\n",
      "max_depth = 18\n",
      "n_estimators = 14\n",
      "F1: 0.5289747399702823\n",
      "AUC-ROC: 0.8294799204282602\n",
      "\n",
      "max_depth = 18\n",
      "n_estimators = 15\n",
      "F1: 0.5312046444121916\n",
      "AUC-ROC: 0.8275805723828498\n",
      "\n",
      "max_depth = 18\n",
      "n_estimators = 16\n",
      "F1: 0.5240963855421686\n",
      "AUC-ROC: 0.8295361363333138\n",
      "\n",
      "max_depth = 18\n",
      "n_estimators = 17\n",
      "F1: 0.5276967930029154\n",
      "AUC-ROC: 0.8303096671868512\n",
      "\n",
      "max_depth = 18\n",
      "n_estimators = 18\n",
      "F1: 0.5181818181818182\n",
      "AUC-ROC: 0.8304963039916291\n",
      "\n",
      "max_depth = 18\n",
      "n_estimators = 19\n",
      "F1: 0.5274074074074074\n",
      "AUC-ROC: 0.833035014263849\n",
      "\n",
      "max_depth = 19\n",
      "n_estimators = 2\n",
      "F1: 0.3841059602649006\n",
      "AUC-ROC: 0.7203131300866024\n",
      "\n",
      "max_depth = 19\n",
      "n_estimators = 3\n",
      "F1: 0.5068493150684932\n",
      "AUC-ROC: 0.7530008050117604\n",
      "\n",
      "max_depth = 19\n",
      "n_estimators = 4\n",
      "F1: 0.46178343949044587\n",
      "AUC-ROC: 0.7694878056458759\n",
      "\n",
      "max_depth = 19\n",
      "n_estimators = 5\n",
      "F1: 0.5183098591549296\n",
      "AUC-ROC: 0.7814722870578995\n",
      "\n",
      "max_depth = 19\n",
      "n_estimators = 6\n",
      "F1: 0.49302325581395345\n",
      "AUC-ROC: 0.794246789322276\n",
      "\n",
      "max_depth = 19\n",
      "n_estimators = 7\n",
      "F1: 0.5179856115107913\n",
      "AUC-ROC: 0.8000700075404268\n",
      "\n",
      "max_depth = 19\n",
      "n_estimators = 8\n",
      "F1: 0.4992343032159265\n",
      "AUC-ROC: 0.8060783634725539\n",
      "\n",
      "max_depth = 19\n",
      "n_estimators = 9\n",
      "F1: 0.5237410071942445\n",
      "AUC-ROC: 0.8116789667066924\n",
      "\n",
      "max_depth = 19\n",
      "n_estimators = 10\n",
      "F1: 0.5098039215686274\n",
      "AUC-ROC: 0.8169632617817293\n",
      "\n",
      "max_depth = 19\n",
      "n_estimators = 11\n",
      "F1: 0.5190615835777126\n",
      "AUC-ROC: 0.8209973151283746\n",
      "\n",
      "max_depth = 19\n",
      "n_estimators = 12\n",
      "F1: 0.5106382978723405\n",
      "AUC-ROC: 0.8257974038745501\n",
      "\n",
      "max_depth = 19\n",
      "n_estimators = 13\n",
      "F1: 0.5292397660818714\n",
      "AUC-ROC: 0.8264240238295474\n",
      "\n",
      "max_depth = 19\n",
      "n_estimators = 14\n",
      "F1: 0.5272727272727272\n",
      "AUC-ROC: 0.8254413698092107\n",
      "\n",
      "max_depth = 19\n",
      "n_estimators = 15\n",
      "F1: 0.5286343612334802\n",
      "AUC-ROC: 0.8277484705526099\n",
      "\n",
      "max_depth = 19\n",
      "n_estimators = 16\n",
      "F1: 0.5212121212121211\n",
      "AUC-ROC: 0.8316506039087295\n",
      "\n",
      "max_depth = 19\n",
      "n_estimators = 17\n",
      "F1: 0.5288035450516987\n",
      "AUC-ROC: 0.8319908975206538\n",
      "\n",
      "max_depth = 19\n",
      "n_estimators = 18\n",
      "F1: 0.5220030349013657\n",
      "AUC-ROC: 0.8328026551896275\n",
      "\n",
      "max_depth = 19\n",
      "n_estimators = 19\n",
      "F1: 0.5337243401759532\n",
      "AUC-ROC: 0.8353810913680851\n",
      "\n",
      "Лучшее значение F1 = 0.5436046511627907\n",
      "При max_depth = 15\n",
      "И n_estimators = 9\n",
      "\n",
      "CPU times: user 25.1 s, sys: 337 ms, total: 25.5 s\n",
      "Wall time: 25.8 s\n"
     ]
    }
   ],
   "source": [
    "%%time\n",
    "\n",
    "d = 0\n",
    "n_est = 0\n",
    "f = 0\n",
    "\n",
    "for depth in range(1, 20, 1):\n",
    "    for n in range(2, 20, 1):\n",
    "        model = RandomForestClassifier(n_estimators=n, max_depth=depth, random_state=12345)\n",
    "        model.fit(features_train_ohe, target_train)\n",
    "        predicted_valid = model.predict(features_valid_ohe)\n",
    "        print('max_depth =', depth)\n",
    "        print('n_estimators =', n)\n",
    "        print(\"F1:\", f1_score(target_valid, predicted_valid))    \n",
    "        \n",
    "        if f1_score(target_valid, predicted_valid) > f:\n",
    "            d = depth\n",
    "            n_est = n\n",
    "            f = f1_score(target_valid, predicted_valid) \n",
    "        \n",
    "        probabilities_valid = model.predict_proba(features_valid_ohe)\n",
    "        probabilities_one_valid = probabilities_valid[:, 1]\n",
    "        print('AUC-ROC:', roc_auc_score(target_valid, probabilities_one_valid))\n",
    "        print()\n",
    "        \n",
    "print('Лучшее значение F1 =', f)\n",
    "print('При max_depth =', d)\n",
    "print('И n_estimators =', n_est)\n",
    "print()"
   ]
  },
  {
   "cell_type": "markdown",
   "metadata": {},
   "source": [
    "**Без учёта дисбаланса, лучшее значение F1-меры показывает RandomForestClassifier**"
   ]
  },
  {
   "cell_type": "markdown",
   "metadata": {},
   "source": [
    "## Борьба с дисбалансом"
   ]
  },
  {
   "cell_type": "markdown",
   "metadata": {},
   "source": [
    "### Class_weight = 'balanced'"
   ]
  },
  {
   "cell_type": "markdown",
   "metadata": {},
   "source": [
    "#### LogisticRegression"
   ]
  },
  {
   "cell_type": "code",
   "execution_count": 45,
   "metadata": {},
   "outputs": [
    {
     "name": "stdout",
     "output_type": "stream",
     "text": [
      "F1: 0.4810344827586207\n",
      "AUC-ROC: 0.7418910430823705\n"
     ]
    }
   ],
   "source": [
    "model = LogisticRegression(random_state=12345, solver='liblinear', class_weight='balanced')\n",
    "model.fit(features_train_ohe, target_train)\n",
    "predicted_valid = model.predict(features_valid_ohe)\n",
    "print(\"F1:\", f1_score(target_valid, predicted_valid))\n",
    "\n",
    "probabilities_valid = model.predict_proba(features_valid_ohe)\n",
    "probabilities_one_valid = probabilities_valid[:, 1]\n",
    "print('AUC-ROC:', roc_auc_score(target_valid, probabilities_one_valid))"
   ]
  },
  {
   "cell_type": "markdown",
   "metadata": {},
   "source": [
    "#### DecisionTreeClassifier"
   ]
  },
  {
   "cell_type": "code",
   "execution_count": 46,
   "metadata": {
    "scrolled": true
   },
   "outputs": [
    {
     "name": "stdout",
     "output_type": "stream",
     "text": [
      "F1: 0.48259303721488594\n",
      "AUC-ROC: 0.6713235922413057\n"
     ]
    }
   ],
   "source": [
    "model = DecisionTreeClassifier(random_state=12345, class_weight='balanced')\n",
    "model.fit(features_train_ohe, target_train)\n",
    "predicted_valid = model.predict(features_valid_ohe)\n",
    "print(\"F1:\", f1_score(target_valid, predicted_valid))\n",
    "\n",
    "probabilities_valid = model.predict_proba(features_valid_ohe)\n",
    "probabilities_one_valid = probabilities_valid[:, 1]\n",
    "print('AUC-ROC:', roc_auc_score(target_valid, probabilities_one_valid))"
   ]
  },
  {
   "cell_type": "code",
   "execution_count": 47,
   "metadata": {},
   "outputs": [
    {
     "name": "stdout",
     "output_type": "stream",
     "text": [
      "Лучшее значение F1 = 0.5809128630705395\n",
      "При max_depth = 5\n"
     ]
    }
   ],
   "source": [
    "d = 0\n",
    "f = 0\n",
    "\n",
    "for depth in range(1,20):\n",
    "    model = DecisionTreeClassifier(random_state=12345, max_depth=depth, class_weight='balanced')\n",
    "    model.fit(features_train_ohe, target_train)\n",
    "    predicted_valid = model.predict(features_valid_ohe)\n",
    "    \n",
    "    if f1_score(target_valid, predicted_valid) > f:\n",
    "        d = depth\n",
    "        f = f1_score(target_valid, predicted_valid) \n",
    "    \n",
    "    probabilities_valid = model.predict_proba(features_valid_ohe)\n",
    "    probabilities_one_valid = probabilities_valid[:, 1]\n",
    "    \n",
    "print('Лучшее значение F1 =', f)\n",
    "print('При max_depth =', d)"
   ]
  },
  {
   "cell_type": "markdown",
   "metadata": {},
   "source": [
    "#### RandomForestClassifier"
   ]
  },
  {
   "cell_type": "code",
   "execution_count": 48,
   "metadata": {
    "scrolled": true
   },
   "outputs": [
    {
     "name": "stdout",
     "output_type": "stream",
     "text": [
      "F1: 0.5248447204968943\n",
      "AUC-ROC: 0.8508427138940232\n"
     ]
    }
   ],
   "source": [
    "model = RandomForestClassifier(random_state=12345, class_weight='balanced')\n",
    "model.fit(features_train_ohe, target_train)\n",
    "predicted_valid = model.predict(features_valid_ohe)\n",
    "print(\"F1:\", f1_score(target_valid, predicted_valid))\n",
    "\n",
    "probabilities_valid = model.predict_proba(features_valid_ohe)\n",
    "probabilities_one_valid = probabilities_valid[:, 1]\n",
    "print('AUC-ROC:', roc_auc_score(target_valid, probabilities_one_valid))"
   ]
  },
  {
   "cell_type": "code",
   "execution_count": 49,
   "metadata": {},
   "outputs": [
    {
     "name": "stdout",
     "output_type": "stream",
     "text": [
      "Лучшее значение F1 = 0.6082004555808656\n",
      "При max_depth = 9\n",
      "И n_estimators = 19\n",
      "AUC-ROC: 0.8439851230228865\n",
      "\n",
      "CPU times: user 24.3 s, sys: 119 ms, total: 24.4 s\n",
      "Wall time: 26.1 s\n"
     ]
    }
   ],
   "source": [
    "%%time\n",
    "\n",
    "d = 0\n",
    "n_est = 0\n",
    "f = 0\n",
    "a = 0\n",
    "\n",
    "for depth in range(1, 20, 1):\n",
    "    for n in range(2, 20, 1):\n",
    "        model = RandomForestClassifier(n_estimators=n, max_depth=depth, random_state=12345, class_weight='balanced')\n",
    "        model.fit(features_train_ohe, target_train)\n",
    "        predicted_valid = model.predict(features_valid_ohe)\n",
    "        probabilities_valid = model.predict_proba(features_valid_ohe)\n",
    "        probabilities_one_valid = probabilities_valid[:, 1]\n",
    "        \n",
    "        if f1_score(target_valid, predicted_valid) > f:\n",
    "            d = depth\n",
    "            n_est = n\n",
    "            f = f1_score(target_valid, predicted_valid) \n",
    "            a = roc_auc_score(target_valid, probabilities_one_valid)\n",
    "        \n",
    "        \n",
    "print('Лучшее значение F1 =', f)\n",
    "print('При max_depth =', d)\n",
    "print('И n_estimators =', n_est)\n",
    "print('AUC-ROC:', a)\n",
    "print()"
   ]
  },
  {
   "cell_type": "markdown",
   "metadata": {},
   "source": [
    "С использованием параметра Class_weight со значением 'balanced' лучшее значение F1-меры показывает RandomForestClassifier"
   ]
  },
  {
   "cell_type": "markdown",
   "metadata": {},
   "source": [
    "### Upsampling"
   ]
  },
  {
   "cell_type": "code",
   "execution_count": 50,
   "metadata": {},
   "outputs": [
    {
     "data": {
      "text/plain": [
       "4"
      ]
     },
     "execution_count": 50,
     "metadata": {},
     "output_type": "execute_result"
    }
   ],
   "source": [
    "rat = round(target_train[target_train == 0].count() / target_train[target_train == 1].count())\n",
    "rat"
   ]
  },
  {
   "cell_type": "code",
   "execution_count": 51,
   "metadata": {},
   "outputs": [],
   "source": [
    "def upsampling(features, target, repeat):\n",
    "    features_ones = features[target==1]\n",
    "    features_zeros = features[target==0]\n",
    "    target_ones = target[target==1]\n",
    "    target_zeros = target[target==0]\n",
    "    \n",
    "    features_upsampled = pd.concat([features_zeros] + [features_ones]*repeat)\n",
    "    target_upsampled = pd.concat([target_zeros] + [target_ones]*repeat)\n",
    "    \n",
    "    features_upsampled, target_upsampled = shuffle(features_upsampled, target_upsampled, random_state=12345)\n",
    "    \n",
    "    return features_upsampled, target_upsampled\n",
    "\n",
    "features_train_upsampled, target_train_upsampled = upsampling(features_train_ohe, target_train, rat)"
   ]
  },
  {
   "cell_type": "markdown",
   "metadata": {},
   "source": [
    "С помощью созданной фунции `upsampling` получили **features_train_upsampled** и **target_train_upsampled**, в которых дисбаланс устранён путём увеличения количества строк с нулевым значение в столбце exited на значение rat, равное отношению количества строк с нулевым значением целевого признака к количеству строк с значением 1."
   ]
  },
  {
   "cell_type": "code",
   "execution_count": 52,
   "metadata": {},
   "outputs": [
    {
     "name": "stdout",
     "output_type": "stream",
     "text": [
      "(9588, 11)\n",
      "(9588,)\n"
     ]
    }
   ],
   "source": [
    "print(features_train_upsampled.shape)\n",
    "print(target_train_upsampled.shape)"
   ]
  },
  {
   "cell_type": "code",
   "execution_count": 53,
   "metadata": {
    "scrolled": false
   },
   "outputs": [
    {
     "data": {
      "text/plain": [
       "(4784, 11)"
      ]
     },
     "execution_count": 53,
     "metadata": {},
     "output_type": "execute_result"
    }
   ],
   "source": [
    "features_train_upsampled[target_train_upsampled==1].shape"
   ]
  },
  {
   "cell_type": "code",
   "execution_count": 54,
   "metadata": {},
   "outputs": [
    {
     "data": {
      "text/plain": [
       "(4804, 11)"
      ]
     },
     "execution_count": 54,
     "metadata": {},
     "output_type": "execute_result"
    }
   ],
   "source": [
    "features_train_upsampled[target_train_upsampled==0].shape"
   ]
  },
  {
   "cell_type": "markdown",
   "metadata": {},
   "source": [
    "#### LogisticRegression"
   ]
  },
  {
   "cell_type": "code",
   "execution_count": 55,
   "metadata": {},
   "outputs": [
    {
     "name": "stdout",
     "output_type": "stream",
     "text": [
      "F1: 0.4784110535405872\n",
      "AUC-ROC: 0.7418385749043205\n"
     ]
    }
   ],
   "source": [
    "model = LogisticRegression(random_state=12345, solver='liblinear')\n",
    "model.fit(features_train_upsampled, target_train_upsampled)\n",
    "predicted_valid = model.predict(features_valid_ohe)\n",
    "print(\"F1:\", f1_score(target_valid, predicted_valid))\n",
    "\n",
    "probabilities_valid = model.predict_proba(features_valid_ohe)\n",
    "probabilities_one_valid = probabilities_valid[:, 1]\n",
    "print('AUC-ROC:', roc_auc_score(target_valid, probabilities_one_valid))"
   ]
  },
  {
   "cell_type": "markdown",
   "metadata": {},
   "source": [
    "#### DecisionTreeClassifier"
   ]
  },
  {
   "cell_type": "code",
   "execution_count": 56,
   "metadata": {},
   "outputs": [
    {
     "name": "stdout",
     "output_type": "stream",
     "text": [
      "F1: 0.47515151515151516\n",
      "AUC-ROC: 0.6663645998701787\n"
     ]
    }
   ],
   "source": [
    "model = DecisionTreeClassifier(random_state=12345)\n",
    "model.fit(features_train_upsampled, target_train_upsampled)\n",
    "predicted_valid = model.predict(features_valid_ohe)\n",
    "print(\"F1:\", f1_score(target_valid, predicted_valid))\n",
    "\n",
    "probabilities_valid = model.predict_proba(features_valid_ohe)\n",
    "probabilities_one_valid = probabilities_valid[:, 1]\n",
    "print('AUC-ROC:', roc_auc_score(target_valid, probabilities_one_valid))"
   ]
  },
  {
   "cell_type": "code",
   "execution_count": 57,
   "metadata": {},
   "outputs": [
    {
     "name": "stdout",
     "output_type": "stream",
     "text": [
      "Лучшее значение F1 = 0.5809128630705395\n",
      "При max_depth = 5\n",
      "AUC-ROC: 0.8355347481752318\n"
     ]
    }
   ],
   "source": [
    "d=0\n",
    "f=0\n",
    "a=0\n",
    "\n",
    "for depth in range(1,21):\n",
    "    model = DecisionTreeClassifier(random_state=12345, max_depth=depth)\n",
    "    model.fit(features_train_upsampled, target_train_upsampled)\n",
    "    predicted_valid = model.predict(features_valid_ohe)\n",
    "    probabilities_valid = model.predict_proba(features_valid_ohe)\n",
    "    probabilities_one_valid = probabilities_valid[:, 1]\n",
    "\n",
    "    if f1_score(target_valid, predicted_valid) > f:\n",
    "        d = depth\n",
    "        f = f1_score(target_valid, predicted_valid)    \n",
    "        a = roc_auc_score(target_valid, probabilities_one_valid)\n",
    "\n",
    "\n",
    "print('Лучшее значение F1 =', f)\n",
    "print('При max_depth =', d)\n",
    "print('AUC-ROC:', a)"
   ]
  },
  {
   "cell_type": "markdown",
   "metadata": {},
   "source": [
    "#### RandomForestClassifier"
   ]
  },
  {
   "cell_type": "code",
   "execution_count": 58,
   "metadata": {},
   "outputs": [
    {
     "name": "stdout",
     "output_type": "stream",
     "text": [
      "Лучшее значение F1 = 0.6164229471316086\n",
      "При max_depth = 11\n",
      "И n_estimators = 18\n",
      "AUC-ROC: 0.8488151935850907\n",
      "\n",
      "CPU times: user 32.4 s, sys: 122 ms, total: 32.5 s\n",
      "Wall time: 32.6 s\n"
     ]
    }
   ],
   "source": [
    "%%time\n",
    "\n",
    "d = 0\n",
    "n_est = 0\n",
    "f = 0\n",
    "a = 0\n",
    "\n",
    "for depth in range(1, 21):\n",
    "    for n in range(2,20):\n",
    "        model = RandomForestClassifier(n_estimators=n, max_depth=depth, random_state=12345)\n",
    "        model.fit(features_train_upsampled, target_train_upsampled)\n",
    "        predicted_valid = model.predict(features_valid_ohe)\n",
    "        probabilities_valid = model.predict_proba(features_valid_ohe)\n",
    "        probabilities_one_valid = probabilities_valid[:, 1]\n",
    "        \n",
    "        if f1_score(target_valid, predicted_valid) > f:\n",
    "            d = depth\n",
    "            n_est = n\n",
    "            f = f1_score(target_valid, predicted_valid) \n",
    "            a = roc_auc_score(target_valid, probabilities_one_valid)\n",
    "        \n",
    "        \n",
    "print('Лучшее значение F1 =', f)\n",
    "print('При max_depth =', d)\n",
    "print('И n_estimators =', n_est)\n",
    "print('AUC-ROC:', a)\n",
    "print()"
   ]
  },
  {
   "cell_type": "markdown",
   "metadata": {},
   "source": [
    "**При использование метода `Upsampling` наибольшее значение F1-меры показывает RandomForestClassifier**"
   ]
  },
  {
   "cell_type": "markdown",
   "metadata": {},
   "source": [
    "### Downsampling"
   ]
  },
  {
   "cell_type": "code",
   "execution_count": 59,
   "metadata": {},
   "outputs": [],
   "source": [
    "def downsampling(features, target, frac):\n",
    "    features_zeros = features[target==0]\n",
    "    features_ones = features[target==1]\n",
    "    target_zeros  = target[target==0]\n",
    "    target_ones = target[target==1]\n",
    "    \n",
    "    features_downsampled = pd.concat([features_zeros.sample(frac=frac, random_state=12345)] + [features_ones])\n",
    "    target_downsampled = pd.concat([target_zeros.sample(frac=frac, random_state=12345)] + [target_ones])\n",
    "    \n",
    "    features_downsampled, target_downsampled = shuffle(features_downsampled, target_downsampled, random_state=12345)\n",
    "    \n",
    "    return features_downsampled, target_downsampled"
   ]
  },
  {
   "cell_type": "code",
   "execution_count": 60,
   "metadata": {},
   "outputs": [
    {
     "name": "stdout",
     "output_type": "stream",
     "text": [
      "(2397, 11)\n",
      "(2397,)\n"
     ]
    }
   ],
   "source": [
    "frac = 1/rat\n",
    "\n",
    "features_train_downsampled, target_train_downsampled = downsampling(features_train_ohe, target_train, frac)\n",
    "\n",
    "print(features_train_downsampled.shape)\n",
    "print(target_train_downsampled.shape)"
   ]
  },
  {
   "cell_type": "code",
   "execution_count": 61,
   "metadata": {},
   "outputs": [
    {
     "data": {
      "text/plain": [
       "(1196, 11)"
      ]
     },
     "execution_count": 61,
     "metadata": {},
     "output_type": "execute_result"
    }
   ],
   "source": [
    "features_train_downsampled[target_train_downsampled==1].shape"
   ]
  },
  {
   "cell_type": "code",
   "execution_count": 62,
   "metadata": {},
   "outputs": [
    {
     "data": {
      "text/plain": [
       "(1201, 11)"
      ]
     },
     "execution_count": 62,
     "metadata": {},
     "output_type": "execute_result"
    }
   ],
   "source": [
    "features_train_downsampled[target_train_downsampled==0].shape"
   ]
  },
  {
   "cell_type": "markdown",
   "metadata": {},
   "source": [
    "#### LogisticRegression"
   ]
  },
  {
   "cell_type": "code",
   "execution_count": 63,
   "metadata": {},
   "outputs": [
    {
     "name": "stdout",
     "output_type": "stream",
     "text": [
      "F1 0.48417450812660395\n",
      "AUC-ROC: 0.7412614249457705\n"
     ]
    }
   ],
   "source": [
    "model = LogisticRegression(random_state=12345)\n",
    "model.fit(features_train_downsampled, target_train_downsampled)\n",
    "predicted_valid = model.predict(features_valid_ohe)\n",
    "print('F1', f1_score(target_valid, predicted_valid))\n",
    "\n",
    "probabilities_valid = model.predict_proba(features_valid_ohe)\n",
    "probabilities_one_valid = probabilities_valid[:, 1]\n",
    "print('AUC-ROC:', roc_auc_score(target_valid, probabilities_one_valid))"
   ]
  },
  {
   "cell_type": "markdown",
   "metadata": {},
   "source": [
    "#### DecisionTreeClassifier"
   ]
  },
  {
   "cell_type": "code",
   "execution_count": 64,
   "metadata": {},
   "outputs": [
    {
     "name": "stdout",
     "output_type": "stream",
     "text": [
      "F1 = 0.4913194444444444\n",
      "AUC-ROC: 0.6931076302222702\n"
     ]
    }
   ],
   "source": [
    "model = DecisionTreeClassifier(random_state=12345)\n",
    "model.fit(features_train_downsampled, target_train_downsampled)\n",
    "predicted_valid = model.predict(features_valid_ohe)\n",
    "print('F1 =', f1_score(target_valid, predicted_valid))\n",
    "\n",
    "probabilities_valid = model.predict_proba(features_valid_ohe)\n",
    "probabilities_one_valid = probabilities_valid[:, 1]\n",
    "print('AUC-ROC:', roc_auc_score(target_valid, probabilities_one_valid))"
   ]
  },
  {
   "cell_type": "code",
   "execution_count": 65,
   "metadata": {
    "scrolled": false
   },
   "outputs": [
    {
     "name": "stdout",
     "output_type": "stream",
     "text": [
      "Лучшее значение F1 = 0.608066184074457\n",
      "При max_depth = 5\n",
      "AUC-ROC: 0.8377856330135773\n"
     ]
    }
   ],
   "source": [
    "d=0\n",
    "f=0\n",
    "a=0\n",
    "\n",
    "for depth in range(1,21):\n",
    "    model = DecisionTreeClassifier(random_state=12345, max_depth=depth)\n",
    "    model.fit(features_train_downsampled, target_train_downsampled)\n",
    "    predicted_valid = model.predict(features_valid_ohe)\n",
    "    probabilities_valid = model.predict_proba(features_valid_ohe)\n",
    "    probabilities_one_valid = probabilities_valid[:, 1]\n",
    "\n",
    "    if f1_score(target_valid, predicted_valid) > f:\n",
    "        d = depth\n",
    "        f = f1_score(target_valid, predicted_valid)    \n",
    "        a = roc_auc_score(target_valid, probabilities_one_valid)\n",
    "\n",
    "\n",
    "print('Лучшее значение F1 =', f)\n",
    "print('При max_depth =', d)\n",
    "print('AUC-ROC:', a)"
   ]
  },
  {
   "cell_type": "markdown",
   "metadata": {},
   "source": [
    "#### RandomForestClassifier"
   ]
  },
  {
   "cell_type": "code",
   "execution_count": 66,
   "metadata": {},
   "outputs": [
    {
     "name": "stdout",
     "output_type": "stream",
     "text": [
      "F1: 0.5894346617238183\n",
      "AUC-ROC: 0.8460006506054077\n"
     ]
    }
   ],
   "source": [
    "model = RandomForestClassifier(random_state=12345)\n",
    "model.fit(features_train_downsampled, target_train_downsampled)\n",
    "predicted_valid = model.predict(features_valid_ohe)\n",
    "print('F1:', f1_score(target_valid, predicted_valid))\n",
    "\n",
    "probabilities_valid = model.predict_proba(features_valid_ohe)\n",
    "probabilities_one_valid = probabilities_valid[:, 1]\n",
    "print('AUC-ROC:', roc_auc_score(target_valid, probabilities_one_valid))"
   ]
  },
  {
   "cell_type": "code",
   "execution_count": 67,
   "metadata": {
    "scrolled": false
   },
   "outputs": [
    {
     "name": "stdout",
     "output_type": "stream",
     "text": [
      "Лучшее значение F1 = 0.5977011494252874\n",
      "При max_depth = 7\n",
      "И n_estimators = 17\n",
      "AUC-ROC: 0.8448785811405383\n",
      "\n",
      "CPU times: user 15.7 s, sys: 115 ms, total: 15.9 s\n",
      "Wall time: 15.9 s\n"
     ]
    }
   ],
   "source": [
    "%%time\n",
    "\n",
    "d = 0\n",
    "n_est = 0\n",
    "f = 0\n",
    "a = 0\n",
    "\n",
    "for depth in range(1, 21):\n",
    "    for n in range(2,20):\n",
    "        model = RandomForestClassifier(n_estimators=n, max_depth=depth, random_state=12345)\n",
    "        model.fit(features_train_downsampled, target_train_downsampled)\n",
    "        predicted_valid = model.predict(features_valid_ohe)\n",
    "        probabilities_valid = model.predict_proba(features_valid_ohe)\n",
    "        probabilities_one_valid = probabilities_valid[:, 1]\n",
    "        \n",
    "        if f1_score(target_valid, predicted_valid) > f:\n",
    "            d = depth\n",
    "            n_est = n\n",
    "            f = f1_score(target_valid, predicted_valid) \n",
    "            a = roc_auc_score(target_valid, probabilities_one_valid)\n",
    "        \n",
    "        \n",
    "print('Лучшее значение F1 =', f)\n",
    "print('При max_depth =', d)\n",
    "print('И n_estimators =', n_est)\n",
    "print('AUC-ROC:', a)\n",
    "print()"
   ]
  },
  {
   "cell_type": "markdown",
   "metadata": {},
   "source": [
    "**При использовании метода `downsampling` наибольший результат показывает DecisionTreeClassifier.**"
   ]
  },
  {
   "cell_type": "markdown",
   "metadata": {},
   "source": [
    "## Тестирование модели"
   ]
  },
  {
   "cell_type": "code",
   "execution_count": 68,
   "metadata": {},
   "outputs": [
    {
     "name": "stdout",
     "output_type": "stream",
     "text": [
      "F1 = 0.6015538290788013\n",
      "AUC-ROC: 0.8447803942680516\n",
      "\n"
     ]
    }
   ],
   "source": [
    "model = RandomForestClassifier(n_estimators=19, max_depth=11, random_state=12345)\n",
    "model.fit(features_train_upsampled, target_train_upsampled)\n",
    "predicted_test = model.predict(features_test_ohe)\n",
    "probabilities_test = model.predict_proba(features_test_ohe)\n",
    "probabilities_one_test = probabilities_test[:, 1]        \n",
    "        \n",
    "print('F1 =', f1_score(target_test, predicted_test) )\n",
    "print('AUC-ROC:', roc_auc_score(target_test, probabilities_one_test))\n",
    "print()"
   ]
  },
  {
   "cell_type": "markdown",
   "metadata": {},
   "source": [
    "`RandomForestClassifier` c n_estimators=19 и max_depth=11, обученная на тестоввых данных с учётом дисбаланса методом upsampling, показала на тестовой выборке результат выше требуемого."
   ]
  },
  {
   "cell_type": "markdown",
   "metadata": {},
   "source": [
    "## Вывод"
   ]
  },
  {
   "cell_type": "markdown",
   "metadata": {},
   "source": [
    "- Мы подготовили данные (изучили общую информацию, заменили названия столбцов, удалили признаки, которые не несли никакой информации, разделили на выборки, заполнили пропуски, отмасштабировали, и применили на кодирование OHE)    \n",
    "- Посмотрели как показывают себя модели (подбирая где нужно гиперпараметры) , без учёта дисбаланса, с использованием class_weight=‘balanced’, upsampling и downsampling    \n",
    "- Лучший результат показал RandomForestClassifier, обученный на тестовой выборке с учётом дисбаланса методом upsampling    \n",
    "- На тестовой выборке модель показала результат выше требуемого."
   ]
  }
 ],
 "metadata": {
  "ExecuteTimeLog": [
   {
    "duration": 50,
    "start_time": "2023-09-06T18:11:28.169Z"
   },
   {
    "duration": 433,
    "start_time": "2023-09-06T18:11:31.110Z"
   },
   {
    "duration": 98,
    "start_time": "2023-09-06T18:11:31.966Z"
   },
   {
    "duration": 23,
    "start_time": "2023-09-06T18:28:06.543Z"
   },
   {
    "duration": 7,
    "start_time": "2023-09-06T18:28:34.098Z"
   },
   {
    "duration": 5,
    "start_time": "2023-09-06T18:28:44.631Z"
   },
   {
    "duration": 7,
    "start_time": "2023-09-06T18:29:01.939Z"
   },
   {
    "duration": 40,
    "start_time": "2023-09-06T18:30:00.199Z"
   },
   {
    "duration": 17,
    "start_time": "2023-09-06T18:30:09.850Z"
   },
   {
    "duration": 29,
    "start_time": "2023-09-06T18:30:14.620Z"
   },
   {
    "duration": 10,
    "start_time": "2023-09-06T18:30:55.208Z"
   },
   {
    "duration": 5,
    "start_time": "2023-09-06T18:31:10.219Z"
   },
   {
    "duration": 75,
    "start_time": "2023-09-06T18:31:29.064Z"
   },
   {
    "duration": 29,
    "start_time": "2023-09-06T18:31:36.122Z"
   },
   {
    "duration": 19,
    "start_time": "2023-09-06T18:31:50.601Z"
   },
   {
    "duration": 6,
    "start_time": "2023-09-06T18:32:06.923Z"
   },
   {
    "duration": 4,
    "start_time": "2023-09-06T18:32:14.056Z"
   },
   {
    "duration": 9,
    "start_time": "2023-09-06T18:33:26.208Z"
   },
   {
    "duration": 13,
    "start_time": "2023-09-06T18:37:08.906Z"
   },
   {
    "duration": 77,
    "start_time": "2023-09-06T18:37:36.053Z"
   },
   {
    "duration": 28,
    "start_time": "2023-09-06T18:37:38.550Z"
   },
   {
    "duration": 12,
    "start_time": "2023-09-06T18:38:07.399Z"
   },
   {
    "duration": 11,
    "start_time": "2023-09-06T18:38:16.003Z"
   },
   {
    "duration": 27,
    "start_time": "2023-09-06T18:38:42.503Z"
   },
   {
    "duration": 46,
    "start_time": "2023-09-07T09:19:11.158Z"
   },
   {
    "duration": 401,
    "start_time": "2023-09-07T09:19:16.653Z"
   },
   {
    "duration": 170,
    "start_time": "2023-09-07T09:19:17.388Z"
   },
   {
    "duration": 20,
    "start_time": "2023-09-07T09:19:17.646Z"
   },
   {
    "duration": 8,
    "start_time": "2023-09-07T09:19:17.940Z"
   },
   {
    "duration": 11,
    "start_time": "2023-09-07T09:19:18.269Z"
   },
   {
    "duration": 19,
    "start_time": "2023-09-07T09:19:18.638Z"
   },
   {
    "duration": 14,
    "start_time": "2023-09-07T09:19:19.385Z"
   },
   {
    "duration": 13,
    "start_time": "2023-09-07T09:19:31.018Z"
   },
   {
    "duration": 11,
    "start_time": "2023-09-07T09:23:07.093Z"
   },
   {
    "duration": 13,
    "start_time": "2023-09-07T09:35:53.501Z"
   },
   {
    "duration": 12,
    "start_time": "2023-09-07T09:53:37.142Z"
   },
   {
    "duration": 44,
    "start_time": "2023-09-07T20:43:39.895Z"
   },
   {
    "duration": 419,
    "start_time": "2023-09-07T20:43:47.615Z"
   },
   {
    "duration": 89,
    "start_time": "2023-09-07T20:43:48.206Z"
   },
   {
    "duration": 19,
    "start_time": "2023-09-07T20:43:48.296Z"
   },
   {
    "duration": 7,
    "start_time": "2023-09-07T20:43:48.317Z"
   },
   {
    "duration": 10,
    "start_time": "2023-09-07T20:43:48.326Z"
   },
   {
    "duration": 18,
    "start_time": "2023-09-07T20:43:48.339Z"
   },
   {
    "duration": 11,
    "start_time": "2023-09-07T20:43:48.375Z"
   },
   {
    "duration": 11,
    "start_time": "2023-09-07T20:43:48.410Z"
   },
   {
    "duration": 12,
    "start_time": "2023-09-07T20:43:48.930Z"
   },
   {
    "duration": 12,
    "start_time": "2023-09-07T20:43:49.822Z"
   },
   {
    "duration": 2190,
    "start_time": "2023-09-07T20:50:01.716Z"
   },
   {
    "duration": 48,
    "start_time": "2023-09-07T20:50:16.843Z"
   },
   {
    "duration": 12,
    "start_time": "2023-09-07T20:50:17.180Z"
   },
   {
    "duration": 503,
    "start_time": "2023-09-07T20:50:18.344Z"
   },
   {
    "duration": 115,
    "start_time": "2023-09-07T20:50:41.658Z"
   },
   {
    "duration": 23,
    "start_time": "2023-09-07T20:52:25.953Z"
   },
   {
    "duration": 13,
    "start_time": "2023-09-07T20:53:11.838Z"
   },
   {
    "duration": 94,
    "start_time": "2023-09-07T20:53:49.656Z"
   },
   {
    "duration": 86,
    "start_time": "2023-09-07T20:53:59.406Z"
   },
   {
    "duration": 130,
    "start_time": "2023-09-07T20:55:07.162Z"
   },
   {
    "duration": 109,
    "start_time": "2023-09-07T20:56:16.218Z"
   },
   {
    "duration": 114,
    "start_time": "2023-09-07T20:56:28.327Z"
   },
   {
    "duration": 115,
    "start_time": "2023-09-07T20:56:34.841Z"
   },
   {
    "duration": 133,
    "start_time": "2023-09-07T20:56:51.418Z"
   },
   {
    "duration": 122,
    "start_time": "2023-09-07T20:57:02.115Z"
   },
   {
    "duration": 142,
    "start_time": "2023-09-07T20:57:12.671Z"
   },
   {
    "duration": 117,
    "start_time": "2023-09-07T20:57:23.935Z"
   },
   {
    "duration": 109,
    "start_time": "2023-09-07T20:57:41.142Z"
   },
   {
    "duration": 110,
    "start_time": "2023-09-07T20:59:39.615Z"
   },
   {
    "duration": 298,
    "start_time": "2023-09-07T20:59:59.974Z"
   },
   {
    "duration": 156,
    "start_time": "2023-09-07T21:00:54.612Z"
   },
   {
    "duration": 163,
    "start_time": "2023-09-07T21:01:06.017Z"
   },
   {
    "duration": 133,
    "start_time": "2023-09-07T21:01:18.319Z"
   },
   {
    "duration": 150,
    "start_time": "2023-09-07T21:01:26.836Z"
   },
   {
    "duration": 164,
    "start_time": "2023-09-07T21:01:32.140Z"
   },
   {
    "duration": 87,
    "start_time": "2023-09-07T21:29:56.367Z"
   },
   {
    "duration": 90,
    "start_time": "2023-09-07T21:30:21.101Z"
   },
   {
    "duration": 89,
    "start_time": "2023-09-07T21:30:41.509Z"
   },
   {
    "duration": 157,
    "start_time": "2023-09-07T21:31:52.001Z"
   },
   {
    "duration": 298,
    "start_time": "2023-09-07T21:32:04.937Z"
   },
   {
    "duration": 5848,
    "start_time": "2023-09-07T21:32:16.513Z"
   },
   {
    "duration": 1054,
    "start_time": "2023-09-07T21:32:25.179Z"
   },
   {
    "duration": 332,
    "start_time": "2023-09-07T21:32:32.765Z"
   },
   {
    "duration": 116,
    "start_time": "2023-09-07T21:33:15.602Z"
   },
   {
    "duration": 454,
    "start_time": "2023-09-08T10:07:40.740Z"
   },
   {
    "duration": 166,
    "start_time": "2023-09-08T10:07:42.068Z"
   },
   {
    "duration": 20,
    "start_time": "2023-09-08T10:07:42.239Z"
   },
   {
    "duration": 589,
    "start_time": "2023-09-08T10:07:42.569Z"
   },
   {
    "duration": 117,
    "start_time": "2023-09-08T10:07:43.160Z"
   },
   {
    "duration": 107,
    "start_time": "2023-09-08T10:07:43.279Z"
   },
   {
    "duration": 141,
    "start_time": "2023-09-08T10:07:43.706Z"
   },
   {
    "duration": 224,
    "start_time": "2023-09-08T10:07:44.213Z"
   },
   {
    "duration": 115,
    "start_time": "2023-09-08T10:07:44.439Z"
   },
   {
    "duration": 110,
    "start_time": "2023-09-08T10:07:44.556Z"
   },
   {
    "duration": 105,
    "start_time": "2023-09-08T10:07:44.669Z"
   },
   {
    "duration": 394,
    "start_time": "2023-09-08T10:07:44.775Z"
   },
   {
    "duration": 110,
    "start_time": "2023-09-08T10:07:45.246Z"
   },
   {
    "duration": 9,
    "start_time": "2023-09-08T10:07:46.571Z"
   },
   {
    "duration": 12,
    "start_time": "2023-09-08T10:07:47.012Z"
   },
   {
    "duration": 22,
    "start_time": "2023-09-08T10:07:47.779Z"
   },
   {
    "duration": 15,
    "start_time": "2023-09-08T10:07:48.368Z"
   },
   {
    "duration": 14,
    "start_time": "2023-09-08T10:07:48.733Z"
   },
   {
    "duration": 14,
    "start_time": "2023-09-08T10:07:48.990Z"
   },
   {
    "duration": 13,
    "start_time": "2023-09-08T10:07:49.429Z"
   },
   {
    "duration": 6,
    "start_time": "2023-09-08T10:17:31.155Z"
   },
   {
    "duration": 12,
    "start_time": "2023-09-08T10:17:37.390Z"
   },
   {
    "duration": 11,
    "start_time": "2023-09-08T10:22:18.137Z"
   },
   {
    "duration": 5,
    "start_time": "2023-09-08T10:22:18.471Z"
   },
   {
    "duration": 20,
    "start_time": "2023-09-08T10:27:40.451Z"
   },
   {
    "duration": 228,
    "start_time": "2023-09-08T10:33:14.710Z"
   },
   {
    "duration": 78,
    "start_time": "2023-09-08T10:33:19.448Z"
   },
   {
    "duration": 166,
    "start_time": "2023-09-08T10:33:28.761Z"
   },
   {
    "duration": 155,
    "start_time": "2023-09-08T10:34:12.576Z"
   },
   {
    "duration": 152,
    "start_time": "2023-09-08T10:34:41.579Z"
   },
   {
    "duration": 205,
    "start_time": "2023-09-08T10:38:55.851Z"
   },
   {
    "duration": 111,
    "start_time": "2023-09-08T10:39:19.658Z"
   },
   {
    "duration": 108,
    "start_time": "2023-09-08T10:40:05.724Z"
   },
   {
    "duration": 99,
    "start_time": "2023-09-08T10:40:09.445Z"
   },
   {
    "duration": 100,
    "start_time": "2023-09-08T10:40:37.859Z"
   },
   {
    "duration": 96,
    "start_time": "2023-09-08T10:40:44.149Z"
   },
   {
    "duration": 106,
    "start_time": "2023-09-08T10:41:05.098Z"
   },
   {
    "duration": 107,
    "start_time": "2023-09-08T10:41:35.588Z"
   },
   {
    "duration": 100,
    "start_time": "2023-09-08T10:41:36.068Z"
   },
   {
    "duration": 11,
    "start_time": "2023-09-08T10:42:48.356Z"
   },
   {
    "duration": 7,
    "start_time": "2023-09-08T10:43:04.774Z"
   },
   {
    "duration": 9,
    "start_time": "2023-09-08T10:43:15.645Z"
   },
   {
    "duration": 9,
    "start_time": "2023-09-08T10:44:48.566Z"
   },
   {
    "duration": 2,
    "start_time": "2023-09-08T10:44:52.956Z"
   },
   {
    "duration": 50,
    "start_time": "2023-09-08T10:44:53.052Z"
   },
   {
    "duration": 13,
    "start_time": "2023-09-08T10:44:53.103Z"
   },
   {
    "duration": 172,
    "start_time": "2023-09-08T10:44:53.118Z"
   },
   {
    "duration": 109,
    "start_time": "2023-09-08T10:44:53.292Z"
   },
   {
    "duration": 112,
    "start_time": "2023-09-08T10:44:53.403Z"
   },
   {
    "duration": 212,
    "start_time": "2023-09-08T10:44:53.517Z"
   },
   {
    "duration": 160,
    "start_time": "2023-09-08T10:44:53.730Z"
   },
   {
    "duration": 139,
    "start_time": "2023-09-08T10:44:53.892Z"
   },
   {
    "duration": 108,
    "start_time": "2023-09-08T10:44:54.033Z"
   },
   {
    "duration": 101,
    "start_time": "2023-09-08T10:44:54.143Z"
   },
   {
    "duration": 371,
    "start_time": "2023-09-08T10:44:54.246Z"
   },
   {
    "duration": 109,
    "start_time": "2023-09-08T10:44:54.619Z"
   },
   {
    "duration": 17,
    "start_time": "2023-09-08T10:44:54.729Z"
   },
   {
    "duration": 2387,
    "start_time": "2023-09-08T10:44:54.748Z"
   },
   {
    "duration": 0,
    "start_time": "2023-09-08T10:44:57.138Z"
   },
   {
    "duration": 0,
    "start_time": "2023-09-08T10:44:57.139Z"
   },
   {
    "duration": 0,
    "start_time": "2023-09-08T10:44:57.140Z"
   },
   {
    "duration": 0,
    "start_time": "2023-09-08T10:44:57.141Z"
   },
   {
    "duration": 0,
    "start_time": "2023-09-08T10:44:57.142Z"
   },
   {
    "duration": 11,
    "start_time": "2023-09-08T10:45:11.152Z"
   },
   {
    "duration": 20,
    "start_time": "2023-09-08T10:45:15.238Z"
   },
   {
    "duration": 106,
    "start_time": "2023-09-08T10:45:24.748Z"
   },
   {
    "duration": 20,
    "start_time": "2023-09-08T10:45:25.570Z"
   },
   {
    "duration": 257,
    "start_time": "2023-09-08T10:46:01.814Z"
   },
   {
    "duration": 148,
    "start_time": "2023-09-08T10:46:47.080Z"
   },
   {
    "duration": 113,
    "start_time": "2023-09-08T10:46:47.231Z"
   },
   {
    "duration": 111,
    "start_time": "2023-09-08T10:46:47.420Z"
   },
   {
    "duration": 8,
    "start_time": "2023-09-08T10:46:48.004Z"
   },
   {
    "duration": 7,
    "start_time": "2023-09-08T10:46:48.743Z"
   },
   {
    "duration": 8,
    "start_time": "2023-09-08T10:47:26.255Z"
   },
   {
    "duration": 3,
    "start_time": "2023-09-08T10:47:44.913Z"
   },
   {
    "duration": 56,
    "start_time": "2023-09-08T10:47:44.918Z"
   },
   {
    "duration": 13,
    "start_time": "2023-09-08T10:47:44.976Z"
   },
   {
    "duration": 154,
    "start_time": "2023-09-08T10:47:44.991Z"
   },
   {
    "duration": 108,
    "start_time": "2023-09-08T10:47:45.147Z"
   },
   {
    "duration": 101,
    "start_time": "2023-09-08T10:47:45.257Z"
   },
   {
    "duration": 155,
    "start_time": "2023-09-08T10:47:45.367Z"
   },
   {
    "duration": 180,
    "start_time": "2023-09-08T10:47:45.523Z"
   },
   {
    "duration": 106,
    "start_time": "2023-09-08T10:47:45.704Z"
   },
   {
    "duration": 117,
    "start_time": "2023-09-08T10:47:45.812Z"
   },
   {
    "duration": 217,
    "start_time": "2023-09-08T10:47:45.931Z"
   },
   {
    "duration": 419,
    "start_time": "2023-09-08T10:47:46.150Z"
   },
   {
    "duration": 119,
    "start_time": "2023-09-08T10:47:46.571Z"
   },
   {
    "duration": 24,
    "start_time": "2023-09-08T10:47:46.693Z"
   },
   {
    "duration": 195,
    "start_time": "2023-09-08T10:47:46.720Z"
   },
   {
    "duration": 123,
    "start_time": "2023-09-08T10:47:46.917Z"
   },
   {
    "duration": 119,
    "start_time": "2023-09-08T10:47:47.042Z"
   },
   {
    "duration": 8,
    "start_time": "2023-09-08T10:47:47.166Z"
   },
   {
    "duration": 44,
    "start_time": "2023-09-08T10:47:47.176Z"
   },
   {
    "duration": 54,
    "start_time": "2023-09-08T10:47:47.222Z"
   },
   {
    "duration": 36,
    "start_time": "2023-09-08T10:47:47.278Z"
   },
   {
    "duration": 52,
    "start_time": "2023-09-08T10:47:47.315Z"
   },
   {
    "duration": 15,
    "start_time": "2023-09-08T10:47:47.369Z"
   },
   {
    "duration": 17,
    "start_time": "2023-09-08T10:47:47.386Z"
   },
   {
    "duration": 42,
    "start_time": "2023-09-08T10:47:47.405Z"
   },
   {
    "duration": 19,
    "start_time": "2023-09-08T10:47:47.449Z"
   },
   {
    "duration": 13,
    "start_time": "2023-09-08T10:47:47.472Z"
   },
   {
    "duration": 2,
    "start_time": "2023-09-08T10:47:55.142Z"
   },
   {
    "duration": 51,
    "start_time": "2023-09-08T10:47:56.938Z"
   },
   {
    "duration": 14,
    "start_time": "2023-09-08T10:47:57.999Z"
   },
   {
    "duration": 135,
    "start_time": "2023-09-08T10:47:58.584Z"
   },
   {
    "duration": 97,
    "start_time": "2023-09-08T10:47:59.026Z"
   },
   {
    "duration": 99,
    "start_time": "2023-09-08T10:47:59.582Z"
   },
   {
    "duration": 243,
    "start_time": "2023-09-08T10:48:00.206Z"
   },
   {
    "duration": 170,
    "start_time": "2023-09-08T10:48:00.942Z"
   },
   {
    "duration": 104,
    "start_time": "2023-09-08T10:48:01.570Z"
   },
   {
    "duration": 98,
    "start_time": "2023-09-08T10:48:02.085Z"
   },
   {
    "duration": 101,
    "start_time": "2023-09-08T10:48:02.637Z"
   },
   {
    "duration": 394,
    "start_time": "2023-09-08T10:48:02.895Z"
   },
   {
    "duration": 98,
    "start_time": "2023-09-08T10:48:03.669Z"
   },
   {
    "duration": 21,
    "start_time": "2023-09-08T10:48:04.816Z"
   },
   {
    "duration": 145,
    "start_time": "2023-09-08T10:48:07.358Z"
   },
   {
    "duration": 103,
    "start_time": "2023-09-08T10:48:08.386Z"
   },
   {
    "duration": 185,
    "start_time": "2023-09-08T10:48:09.352Z"
   },
   {
    "duration": 8,
    "start_time": "2023-09-08T10:48:11.947Z"
   },
   {
    "duration": 9,
    "start_time": "2023-09-08T10:48:13.534Z"
   },
   {
    "duration": 9,
    "start_time": "2023-09-08T10:48:16.640Z"
   },
   {
    "duration": 9,
    "start_time": "2023-09-08T10:48:47.752Z"
   },
   {
    "duration": 12,
    "start_time": "2023-09-08T10:49:18.217Z"
   },
   {
    "duration": 13,
    "start_time": "2023-09-08T10:49:26.466Z"
   },
   {
    "duration": 25,
    "start_time": "2023-09-08T10:49:26.764Z"
   },
   {
    "duration": 14,
    "start_time": "2023-09-08T10:49:27.053Z"
   },
   {
    "duration": 12,
    "start_time": "2023-09-08T10:49:27.725Z"
   },
   {
    "duration": 14,
    "start_time": "2023-09-08T10:49:28.529Z"
   },
   {
    "duration": 14,
    "start_time": "2023-09-08T10:49:31.255Z"
   },
   {
    "duration": 5,
    "start_time": "2023-09-08T10:49:31.700Z"
   },
   {
    "duration": 32,
    "start_time": "2023-09-08T10:55:46.434Z"
   },
   {
    "duration": 2134,
    "start_time": "2023-09-08T10:55:52.028Z"
   },
   {
    "duration": 9,
    "start_time": "2023-09-08T10:55:59.525Z"
   },
   {
    "duration": 8,
    "start_time": "2023-09-08T10:56:08.233Z"
   },
   {
    "duration": 44,
    "start_time": "2023-09-09T09:19:23.454Z"
   },
   {
    "duration": 372,
    "start_time": "2023-09-09T09:19:32.477Z"
   },
   {
    "duration": 92,
    "start_time": "2023-09-09T09:19:32.862Z"
   },
   {
    "duration": 17,
    "start_time": "2023-09-09T09:19:33.015Z"
   },
   {
    "duration": 517,
    "start_time": "2023-09-09T09:19:33.229Z"
   },
   {
    "duration": 100,
    "start_time": "2023-09-09T09:19:33.749Z"
   },
   {
    "duration": 100,
    "start_time": "2023-09-09T09:19:33.851Z"
   },
   {
    "duration": 145,
    "start_time": "2023-09-09T09:19:33.953Z"
   },
   {
    "duration": 184,
    "start_time": "2023-09-09T09:19:34.100Z"
   },
   {
    "duration": 95,
    "start_time": "2023-09-09T09:19:34.285Z"
   },
   {
    "duration": 95,
    "start_time": "2023-09-09T09:19:34.418Z"
   },
   {
    "duration": 85,
    "start_time": "2023-09-09T09:19:34.630Z"
   },
   {
    "duration": 349,
    "start_time": "2023-09-09T09:19:34.809Z"
   },
   {
    "duration": 96,
    "start_time": "2023-09-09T09:19:35.160Z"
   },
   {
    "duration": 16,
    "start_time": "2023-09-09T09:19:35.258Z"
   },
   {
    "duration": 127,
    "start_time": "2023-09-09T09:19:35.399Z"
   },
   {
    "duration": 92,
    "start_time": "2023-09-09T09:19:35.622Z"
   },
   {
    "duration": 94,
    "start_time": "2023-09-09T09:19:35.804Z"
   },
   {
    "duration": 9,
    "start_time": "2023-09-09T09:19:35.985Z"
   },
   {
    "duration": 6,
    "start_time": "2023-09-09T09:19:36.174Z"
   },
   {
    "duration": 7,
    "start_time": "2023-09-09T09:19:36.942Z"
   },
   {
    "duration": 9,
    "start_time": "2023-09-09T09:19:37.276Z"
   },
   {
    "duration": 8,
    "start_time": "2023-09-09T09:19:37.457Z"
   },
   {
    "duration": 9,
    "start_time": "2023-09-09T09:19:37.867Z"
   },
   {
    "duration": 17,
    "start_time": "2023-09-09T09:19:38.342Z"
   },
   {
    "duration": 12,
    "start_time": "2023-09-09T09:19:38.709Z"
   },
   {
    "duration": 11,
    "start_time": "2023-09-09T09:19:38.854Z"
   },
   {
    "duration": 12,
    "start_time": "2023-09-09T09:19:39.258Z"
   },
   {
    "duration": 79,
    "start_time": "2023-09-09T09:19:40.143Z"
   },
   {
    "duration": 4,
    "start_time": "2023-09-09T09:19:40.731Z"
   },
   {
    "duration": 6,
    "start_time": "2023-09-09T09:19:41.352Z"
   },
   {
    "duration": 8,
    "start_time": "2023-09-09T09:19:42.202Z"
   },
   {
    "duration": 34,
    "start_time": "2023-09-09T09:19:42.563Z"
   },
   {
    "duration": 9,
    "start_time": "2023-09-09T09:20:09.607Z"
   },
   {
    "duration": 6,
    "start_time": "2023-09-09T09:20:15.151Z"
   },
   {
    "duration": 633,
    "start_time": "2023-09-09T09:24:40.564Z"
   },
   {
    "duration": 39,
    "start_time": "2023-09-09T09:50:08.131Z"
   },
   {
    "duration": 7,
    "start_time": "2023-09-09T09:50:28.061Z"
   },
   {
    "duration": 8,
    "start_time": "2023-09-09T09:55:11.773Z"
   },
   {
    "duration": 9,
    "start_time": "2023-09-09T12:07:21.616Z"
   },
   {
    "duration": 8,
    "start_time": "2023-09-09T12:07:35.380Z"
   },
   {
    "duration": 3,
    "start_time": "2023-09-09T12:12:34.072Z"
   },
   {
    "duration": 30,
    "start_time": "2023-09-09T14:29:33.420Z"
   },
   {
    "duration": 181,
    "start_time": "2023-09-09T14:32:29.759Z"
   },
   {
    "duration": 3,
    "start_time": "2023-09-09T14:35:02.670Z"
   },
   {
    "duration": 49,
    "start_time": "2023-09-09T14:35:02.757Z"
   },
   {
    "duration": 12,
    "start_time": "2023-09-09T14:35:02.809Z"
   },
   {
    "duration": 192,
    "start_time": "2023-09-09T14:35:02.826Z"
   },
   {
    "duration": 106,
    "start_time": "2023-09-09T14:35:03.020Z"
   },
   {
    "duration": 97,
    "start_time": "2023-09-09T14:35:03.222Z"
   },
   {
    "duration": 135,
    "start_time": "2023-09-09T14:35:03.732Z"
   },
   {
    "duration": 165,
    "start_time": "2023-09-09T14:35:03.869Z"
   },
   {
    "duration": 122,
    "start_time": "2023-09-09T14:35:04.036Z"
   },
   {
    "duration": 100,
    "start_time": "2023-09-09T14:35:04.160Z"
   },
   {
    "duration": 93,
    "start_time": "2023-09-09T14:35:04.580Z"
   },
   {
    "duration": 408,
    "start_time": "2023-09-09T14:35:04.675Z"
   },
   {
    "duration": 212,
    "start_time": "2023-09-09T14:35:05.084Z"
   },
   {
    "duration": 17,
    "start_time": "2023-09-09T14:35:05.298Z"
   },
   {
    "duration": 144,
    "start_time": "2023-09-09T14:35:05.317Z"
   },
   {
    "duration": 96,
    "start_time": "2023-09-09T14:35:05.463Z"
   },
   {
    "duration": 103,
    "start_time": "2023-09-09T14:35:05.561Z"
   },
   {
    "duration": 7,
    "start_time": "2023-09-09T14:35:06.174Z"
   },
   {
    "duration": 8,
    "start_time": "2023-09-09T14:35:06.392Z"
   },
   {
    "duration": 10,
    "start_time": "2023-09-09T14:35:07.537Z"
   },
   {
    "duration": 12,
    "start_time": "2023-09-09T14:35:07.793Z"
   },
   {
    "duration": 14,
    "start_time": "2023-09-09T14:35:08.053Z"
   },
   {
    "duration": 13,
    "start_time": "2023-09-09T14:35:08.344Z"
   },
   {
    "duration": 32,
    "start_time": "2023-09-09T14:35:08.653Z"
   },
   {
    "duration": 15,
    "start_time": "2023-09-09T14:35:09.561Z"
   },
   {
    "duration": 12,
    "start_time": "2023-09-09T14:35:10.596Z"
   },
   {
    "duration": 13,
    "start_time": "2023-09-09T14:35:11.337Z"
   },
   {
    "duration": 16,
    "start_time": "2023-09-09T14:35:15.099Z"
   },
   {
    "duration": 6,
    "start_time": "2023-09-09T14:35:15.497Z"
   },
   {
    "duration": 18,
    "start_time": "2023-09-09T14:35:23.645Z"
   },
   {
    "duration": 4,
    "start_time": "2023-09-09T14:35:45.967Z"
   },
   {
    "duration": 38,
    "start_time": "2023-09-09T14:36:53.793Z"
   },
   {
    "duration": 50,
    "start_time": "2023-09-09T14:37:00.112Z"
   },
   {
    "duration": 70,
    "start_time": "2023-09-09T14:38:56.139Z"
   },
   {
    "duration": 3,
    "start_time": "2023-09-09T14:39:19.769Z"
   },
   {
    "duration": 59,
    "start_time": "2023-09-09T14:39:19.870Z"
   },
   {
    "duration": 13,
    "start_time": "2023-09-09T14:39:19.931Z"
   },
   {
    "duration": 163,
    "start_time": "2023-09-09T14:39:19.946Z"
   },
   {
    "duration": 101,
    "start_time": "2023-09-09T14:39:20.111Z"
   },
   {
    "duration": 143,
    "start_time": "2023-09-09T14:39:20.214Z"
   },
   {
    "duration": 155,
    "start_time": "2023-09-09T14:39:20.359Z"
   },
   {
    "duration": 246,
    "start_time": "2023-09-09T14:39:20.516Z"
   },
   {
    "duration": 154,
    "start_time": "2023-09-09T14:39:20.766Z"
   },
   {
    "duration": 98,
    "start_time": "2023-09-09T14:39:20.922Z"
   },
   {
    "duration": 177,
    "start_time": "2023-09-09T14:39:21.021Z"
   },
   {
    "duration": 338,
    "start_time": "2023-09-09T14:39:21.200Z"
   },
   {
    "duration": 101,
    "start_time": "2023-09-09T14:39:21.540Z"
   },
   {
    "duration": 17,
    "start_time": "2023-09-09T14:39:21.650Z"
   },
   {
    "duration": 142,
    "start_time": "2023-09-09T14:39:21.669Z"
   },
   {
    "duration": 96,
    "start_time": "2023-09-09T14:39:21.812Z"
   },
   {
    "duration": 94,
    "start_time": "2023-09-09T14:39:21.910Z"
   },
   {
    "duration": 6,
    "start_time": "2023-09-09T14:39:22.006Z"
   },
   {
    "duration": 25,
    "start_time": "2023-09-09T14:39:22.014Z"
   },
   {
    "duration": 16,
    "start_time": "2023-09-09T14:39:22.041Z"
   },
   {
    "duration": 19,
    "start_time": "2023-09-09T14:39:22.060Z"
   },
   {
    "duration": 17,
    "start_time": "2023-09-09T14:39:22.080Z"
   },
   {
    "duration": 12,
    "start_time": "2023-09-09T14:39:22.098Z"
   },
   {
    "duration": 26,
    "start_time": "2023-09-09T14:39:22.111Z"
   },
   {
    "duration": 20,
    "start_time": "2023-09-09T14:39:22.138Z"
   },
   {
    "duration": 21,
    "start_time": "2023-09-09T14:39:22.160Z"
   },
   {
    "duration": 19,
    "start_time": "2023-09-09T14:39:22.182Z"
   },
   {
    "duration": 19,
    "start_time": "2023-09-09T14:39:22.203Z"
   },
   {
    "duration": 19,
    "start_time": "2023-09-09T14:39:22.224Z"
   },
   {
    "duration": 62,
    "start_time": "2023-09-09T14:39:22.245Z"
   },
   {
    "duration": 173,
    "start_time": "2023-09-09T14:44:26.176Z"
   },
   {
    "duration": 192,
    "start_time": "2023-09-09T14:44:34.028Z"
   },
   {
    "duration": 7,
    "start_time": "2023-09-09T14:44:40.112Z"
   },
   {
    "duration": 6,
    "start_time": "2023-09-09T14:44:40.809Z"
   },
   {
    "duration": 5,
    "start_time": "2023-09-09T14:44:42.420Z"
   },
   {
    "duration": 9,
    "start_time": "2023-09-09T14:44:42.865Z"
   },
   {
    "duration": 32,
    "start_time": "2023-09-09T14:46:17.258Z"
   },
   {
    "duration": 75,
    "start_time": "2023-09-09T14:46:20.441Z"
   },
   {
    "duration": 369,
    "start_time": "2023-09-09T14:46:26.284Z"
   },
   {
    "duration": 322,
    "start_time": "2023-09-09T14:46:39.332Z"
   },
   {
    "duration": 4,
    "start_time": "2023-09-09T14:47:17.766Z"
   },
   {
    "duration": 45,
    "start_time": "2023-09-09T14:47:17.803Z"
   },
   {
    "duration": 12,
    "start_time": "2023-09-09T14:47:17.850Z"
   },
   {
    "duration": 120,
    "start_time": "2023-09-09T14:47:17.865Z"
   },
   {
    "duration": 95,
    "start_time": "2023-09-09T14:47:17.988Z"
   },
   {
    "duration": 97,
    "start_time": "2023-09-09T14:47:18.085Z"
   },
   {
    "duration": 200,
    "start_time": "2023-09-09T14:47:18.184Z"
   },
   {
    "duration": 146,
    "start_time": "2023-09-09T14:47:18.385Z"
   },
   {
    "duration": 95,
    "start_time": "2023-09-09T14:47:18.532Z"
   },
   {
    "duration": 99,
    "start_time": "2023-09-09T14:47:18.628Z"
   },
   {
    "duration": 83,
    "start_time": "2023-09-09T14:47:18.728Z"
   },
   {
    "duration": 330,
    "start_time": "2023-09-09T14:47:18.813Z"
   },
   {
    "duration": 106,
    "start_time": "2023-09-09T14:47:19.145Z"
   },
   {
    "duration": 17,
    "start_time": "2023-09-09T14:47:19.252Z"
   },
   {
    "duration": 172,
    "start_time": "2023-09-09T14:47:19.271Z"
   },
   {
    "duration": 96,
    "start_time": "2023-09-09T14:47:19.445Z"
   },
   {
    "duration": 179,
    "start_time": "2023-09-09T14:47:19.542Z"
   },
   {
    "duration": 6,
    "start_time": "2023-09-09T14:47:19.723Z"
   },
   {
    "duration": 18,
    "start_time": "2023-09-09T14:47:19.731Z"
   },
   {
    "duration": 8,
    "start_time": "2023-09-09T14:47:19.750Z"
   },
   {
    "duration": 9,
    "start_time": "2023-09-09T14:47:19.759Z"
   },
   {
    "duration": 9,
    "start_time": "2023-09-09T14:47:19.769Z"
   },
   {
    "duration": 19,
    "start_time": "2023-09-09T14:47:19.779Z"
   },
   {
    "duration": 17,
    "start_time": "2023-09-09T14:47:19.799Z"
   },
   {
    "duration": 34,
    "start_time": "2023-09-09T14:47:19.817Z"
   },
   {
    "duration": 11,
    "start_time": "2023-09-09T14:47:19.853Z"
   },
   {
    "duration": 13,
    "start_time": "2023-09-09T14:47:19.865Z"
   },
   {
    "duration": 11,
    "start_time": "2023-09-09T14:47:19.880Z"
   },
   {
    "duration": 4,
    "start_time": "2023-09-09T14:47:19.892Z"
   },
   {
    "duration": 77,
    "start_time": "2023-09-09T14:47:19.897Z"
   },
   {
    "duration": 173,
    "start_time": "2023-09-09T14:47:19.977Z"
   },
   {
    "duration": 7,
    "start_time": "2023-09-09T14:47:22.103Z"
   },
   {
    "duration": 7,
    "start_time": "2023-09-09T14:47:22.365Z"
   },
   {
    "duration": 51,
    "start_time": "2023-09-09T14:47:23.661Z"
   },
   {
    "duration": 70,
    "start_time": "2023-09-09T14:47:57.473Z"
   },
   {
    "duration": 431,
    "start_time": "2023-09-09T14:48:00.219Z"
   },
   {
    "duration": 178,
    "start_time": "2023-09-09T14:48:28.872Z"
   },
   {
    "duration": 259,
    "start_time": "2023-09-09T14:49:28.790Z"
   },
   {
    "duration": 453,
    "start_time": "2023-09-09T14:49:40.697Z"
   },
   {
    "duration": 332,
    "start_time": "2023-09-09T14:49:57.623Z"
   },
   {
    "duration": 498,
    "start_time": "2023-09-09T14:49:58.652Z"
   },
   {
    "duration": 494,
    "start_time": "2023-09-09T14:53:21.404Z"
   },
   {
    "duration": 1235,
    "start_time": "2023-09-11T13:42:53.531Z"
   },
   {
    "duration": 114,
    "start_time": "2023-09-11T13:42:54.769Z"
   },
   {
    "duration": 24,
    "start_time": "2023-09-11T13:42:54.886Z"
   },
   {
    "duration": 655,
    "start_time": "2023-09-11T13:42:54.998Z"
   },
   {
    "duration": 133,
    "start_time": "2023-09-11T13:42:55.656Z"
   },
   {
    "duration": 141,
    "start_time": "2023-09-11T13:42:55.790Z"
   },
   {
    "duration": 157,
    "start_time": "2023-09-11T13:42:55.934Z"
   },
   {
    "duration": 181,
    "start_time": "2023-09-11T13:42:56.280Z"
   },
   {
    "duration": 204,
    "start_time": "2023-09-11T13:42:56.610Z"
   },
   {
    "duration": 114,
    "start_time": "2023-09-11T13:42:56.871Z"
   },
   {
    "duration": 94,
    "start_time": "2023-09-11T13:42:57.159Z"
   },
   {
    "duration": 420,
    "start_time": "2023-09-11T13:42:57.415Z"
   },
   {
    "duration": 116,
    "start_time": "2023-09-11T13:42:57.838Z"
   },
   {
    "duration": 21,
    "start_time": "2023-09-11T13:42:58.479Z"
   },
   {
    "duration": 165,
    "start_time": "2023-09-11T13:43:01.842Z"
   },
   {
    "duration": 170,
    "start_time": "2023-09-11T13:43:02.064Z"
   },
   {
    "duration": 131,
    "start_time": "2023-09-11T13:43:02.247Z"
   },
   {
    "duration": 10,
    "start_time": "2023-09-11T13:43:02.464Z"
   },
   {
    "duration": 9,
    "start_time": "2023-09-11T13:43:02.683Z"
   },
   {
    "duration": 13,
    "start_time": "2023-09-11T13:43:03.123Z"
   },
   {
    "duration": 9,
    "start_time": "2023-09-11T13:43:03.381Z"
   },
   {
    "duration": 12,
    "start_time": "2023-09-11T13:43:03.618Z"
   },
   {
    "duration": 11,
    "start_time": "2023-09-11T13:43:03.855Z"
   },
   {
    "duration": 21,
    "start_time": "2023-09-11T13:43:04.076Z"
   },
   {
    "duration": 15,
    "start_time": "2023-09-11T13:43:04.370Z"
   },
   {
    "duration": 19,
    "start_time": "2023-09-11T13:43:04.820Z"
   },
   {
    "duration": 14,
    "start_time": "2023-09-11T13:43:05.247Z"
   },
   {
    "duration": 20,
    "start_time": "2023-09-11T13:43:06.203Z"
   },
   {
    "duration": 5,
    "start_time": "2023-09-11T13:43:06.565Z"
   },
   {
    "duration": 71,
    "start_time": "2023-09-11T13:43:09.966Z"
   },
   {
    "duration": 200,
    "start_time": "2023-09-11T13:43:17.570Z"
   },
   {
    "duration": 9,
    "start_time": "2023-09-11T13:43:18.230Z"
   },
   {
    "duration": 8,
    "start_time": "2023-09-11T13:43:18.484Z"
   },
   {
    "duration": 68,
    "start_time": "2023-09-11T13:43:18.667Z"
   },
   {
    "duration": 80,
    "start_time": "2023-09-11T13:43:18.887Z"
   },
   {
    "duration": 403,
    "start_time": "2023-09-11T13:43:19.114Z"
   },
   {
    "duration": 611,
    "start_time": "2023-09-11T13:43:19.520Z"
   },
   {
    "duration": 753,
    "start_time": "2023-09-11T13:43:20.207Z"
   },
   {
    "duration": 6980,
    "start_time": "2023-09-11T13:47:11.029Z"
   },
   {
    "duration": 45,
    "start_time": "2023-09-11T13:54:31.288Z"
   },
   {
    "duration": 424,
    "start_time": "2023-09-11T14:13:28.779Z"
   },
   {
    "duration": 419,
    "start_time": "2023-09-11T14:13:30.615Z"
   },
   {
    "duration": 75,
    "start_time": "2023-09-11T14:13:31.831Z"
   },
   {
    "duration": 643,
    "start_time": "2023-09-11T14:13:34.970Z"
   },
   {
    "duration": 7178,
    "start_time": "2023-09-11T14:13:37.343Z"
   },
   {
    "duration": 44,
    "start_time": "2023-09-11T14:13:53.081Z"
   },
   {
    "duration": 358,
    "start_time": "2023-09-11T14:27:33.643Z"
   },
   {
    "duration": 7265,
    "start_time": "2023-09-11T14:30:14.054Z"
   },
   {
    "duration": 6733,
    "start_time": "2023-09-11T14:31:17.683Z"
   },
   {
    "duration": 6461,
    "start_time": "2023-09-11T14:33:20.627Z"
   },
   {
    "duration": 6353,
    "start_time": "2023-09-11T14:33:53.375Z"
   },
   {
    "duration": 82,
    "start_time": "2023-09-11T14:34:12.060Z"
   },
   {
    "duration": 506,
    "start_time": "2023-09-11T14:34:26.528Z"
   },
   {
    "duration": 229,
    "start_time": "2023-09-11T14:34:33.447Z"
   },
   {
    "duration": 1843,
    "start_time": "2023-09-11T14:34:50.462Z"
   },
   {
    "duration": 6476,
    "start_time": "2023-09-11T14:35:26.271Z"
   },
   {
    "duration": 106,
    "start_time": "2023-09-11T14:37:26.993Z"
   },
   {
    "duration": 596,
    "start_time": "2023-09-11T14:38:14.482Z"
   },
   {
    "duration": 533,
    "start_time": "2023-09-11T14:38:19.940Z"
   },
   {
    "duration": 6588,
    "start_time": "2023-09-11T14:38:43.961Z"
   },
   {
    "duration": 9627,
    "start_time": "2023-09-11T14:40:28.581Z"
   },
   {
    "duration": 42657,
    "start_time": "2023-09-11T14:40:55.213Z"
   },
   {
    "duration": 1108,
    "start_time": "2023-09-11T14:43:25.853Z"
   },
   {
    "duration": 10,
    "start_time": "2023-09-11T14:46:07.839Z"
   },
   {
    "duration": 1287,
    "start_time": "2023-09-11T16:10:18.826Z"
   },
   {
    "duration": 113,
    "start_time": "2023-09-11T16:10:20.115Z"
   },
   {
    "duration": 25,
    "start_time": "2023-09-11T16:10:20.230Z"
   },
   {
    "duration": 777,
    "start_time": "2023-09-11T16:10:20.257Z"
   },
   {
    "duration": 125,
    "start_time": "2023-09-11T16:10:21.036Z"
   },
   {
    "duration": 125,
    "start_time": "2023-09-11T16:10:21.163Z"
   },
   {
    "duration": 153,
    "start_time": "2023-09-11T16:10:21.290Z"
   },
   {
    "duration": 174,
    "start_time": "2023-09-11T16:10:21.445Z"
   },
   {
    "duration": 217,
    "start_time": "2023-09-11T16:10:21.623Z"
   },
   {
    "duration": 151,
    "start_time": "2023-09-11T16:10:21.843Z"
   },
   {
    "duration": 126,
    "start_time": "2023-09-11T16:10:21.996Z"
   },
   {
    "duration": 422,
    "start_time": "2023-09-11T16:10:22.124Z"
   },
   {
    "duration": 109,
    "start_time": "2023-09-11T16:10:22.549Z"
   },
   {
    "duration": 22,
    "start_time": "2023-09-11T16:10:22.660Z"
   },
   {
    "duration": 206,
    "start_time": "2023-09-11T16:10:22.684Z"
   },
   {
    "duration": 122,
    "start_time": "2023-09-11T16:10:22.892Z"
   },
   {
    "duration": 116,
    "start_time": "2023-09-11T16:10:23.017Z"
   },
   {
    "duration": 9,
    "start_time": "2023-09-11T16:10:23.135Z"
   },
   {
    "duration": 27,
    "start_time": "2023-09-11T16:10:23.148Z"
   },
   {
    "duration": 8,
    "start_time": "2023-09-11T16:10:23.462Z"
   },
   {
    "duration": 9,
    "start_time": "2023-09-11T16:10:23.793Z"
   },
   {
    "duration": 10,
    "start_time": "2023-09-11T16:10:24.055Z"
   },
   {
    "duration": 10,
    "start_time": "2023-09-11T16:10:24.312Z"
   },
   {
    "duration": 20,
    "start_time": "2023-09-11T16:10:25.182Z"
   },
   {
    "duration": 68,
    "start_time": "2023-09-11T16:10:25.204Z"
   },
   {
    "duration": 98,
    "start_time": "2023-09-11T16:10:25.273Z"
   },
   {
    "duration": 35,
    "start_time": "2023-09-11T16:10:25.373Z"
   },
   {
    "duration": 13,
    "start_time": "2023-09-11T16:10:28.992Z"
   },
   {
    "duration": 5,
    "start_time": "2023-09-11T16:10:29.178Z"
   },
   {
    "duration": 53,
    "start_time": "2023-09-11T16:10:29.670Z"
   },
   {
    "duration": 208,
    "start_time": "2023-09-11T16:10:30.254Z"
   },
   {
    "duration": 8,
    "start_time": "2023-09-11T16:10:30.954Z"
   },
   {
    "duration": 7,
    "start_time": "2023-09-11T16:10:31.518Z"
   },
   {
    "duration": 61,
    "start_time": "2023-09-11T16:10:31.879Z"
   },
   {
    "duration": 82,
    "start_time": "2023-09-11T16:10:32.286Z"
   },
   {
    "duration": 418,
    "start_time": "2023-09-11T16:10:32.509Z"
   },
   {
    "duration": 466,
    "start_time": "2023-09-11T16:10:33.260Z"
   },
   {
    "duration": 47,
    "start_time": "2023-09-11T16:10:33.877Z"
   },
   {
    "duration": 576,
    "start_time": "2023-09-11T16:10:34.357Z"
   },
   {
    "duration": 7078,
    "start_time": "2023-09-11T16:10:34.935Z"
   },
   {
    "duration": 327,
    "start_time": "2023-09-11T16:10:43.545Z"
   },
   {
    "duration": 6512,
    "start_time": "2023-09-11T16:10:43.874Z"
   },
   {
    "duration": 11988,
    "start_time": "2023-09-11T16:10:50.388Z"
   },
   {
    "duration": 8208,
    "start_time": "2023-09-11T16:11:52.939Z"
   },
   {
    "duration": 27636,
    "start_time": "2023-09-11T16:12:56.349Z"
   },
   {
    "duration": 15075,
    "start_time": "2023-09-11T16:13:29.183Z"
   },
   {
    "duration": 1718,
    "start_time": "2023-09-11T16:15:36.552Z"
   },
   {
    "duration": 6236,
    "start_time": "2023-09-11T16:15:51.555Z"
   },
   {
    "duration": 62999,
    "start_time": "2023-09-11T16:16:23.536Z"
   },
   {
    "duration": 12097,
    "start_time": "2023-09-11T16:22:55.640Z"
   },
   {
    "duration": 61214,
    "start_time": "2023-09-11T16:24:44.931Z"
   },
   {
    "duration": 439,
    "start_time": "2023-09-11T16:28:00.594Z"
   },
   {
    "duration": 50,
    "start_time": "2023-09-11T16:32:26.280Z"
   },
   {
    "duration": 370,
    "start_time": "2023-09-11T16:32:32.077Z"
   },
   {
    "duration": 599,
    "start_time": "2023-09-11T16:32:36.500Z"
   },
   {
    "duration": 7195,
    "start_time": "2023-09-11T16:33:21.400Z"
   },
   {
    "duration": 365,
    "start_time": "2023-09-11T16:33:33.298Z"
   },
   {
    "duration": 2213,
    "start_time": "2023-09-11T16:33:46.313Z"
   },
   {
    "duration": 1137,
    "start_time": "2023-09-12T15:46:54.916Z"
   },
   {
    "duration": 95,
    "start_time": "2023-09-12T15:46:56.055Z"
   },
   {
    "duration": 23,
    "start_time": "2023-09-12T15:46:56.152Z"
   },
   {
    "duration": 611,
    "start_time": "2023-09-12T15:46:56.462Z"
   },
   {
    "duration": 122,
    "start_time": "2023-09-12T15:46:57.075Z"
   },
   {
    "duration": 140,
    "start_time": "2023-09-12T15:46:57.200Z"
   },
   {
    "duration": 136,
    "start_time": "2023-09-12T15:46:57.869Z"
   },
   {
    "duration": 170,
    "start_time": "2023-09-12T15:46:58.154Z"
   },
   {
    "duration": 191,
    "start_time": "2023-09-12T15:46:58.411Z"
   },
   {
    "duration": 106,
    "start_time": "2023-09-12T15:46:58.638Z"
   },
   {
    "duration": 97,
    "start_time": "2023-09-12T15:46:58.816Z"
   },
   {
    "duration": 402,
    "start_time": "2023-09-12T15:46:59.073Z"
   },
   {
    "duration": 126,
    "start_time": "2023-09-12T15:46:59.481Z"
   },
   {
    "duration": 21,
    "start_time": "2023-09-12T15:46:59.609Z"
   },
   {
    "duration": 156,
    "start_time": "2023-09-12T15:46:59.772Z"
   },
   {
    "duration": 119,
    "start_time": "2023-09-12T15:47:00.032Z"
   },
   {
    "duration": 107,
    "start_time": "2023-09-12T15:47:00.285Z"
   },
   {
    "duration": 9,
    "start_time": "2023-09-12T15:47:00.506Z"
   },
   {
    "duration": 9,
    "start_time": "2023-09-12T15:47:00.727Z"
   },
   {
    "duration": 10,
    "start_time": "2023-09-12T15:47:01.206Z"
   },
   {
    "duration": 10,
    "start_time": "2023-09-12T15:47:01.463Z"
   },
   {
    "duration": 12,
    "start_time": "2023-09-12T15:47:01.717Z"
   },
   {
    "duration": 13,
    "start_time": "2023-09-12T15:47:01.911Z"
   },
   {
    "duration": 22,
    "start_time": "2023-09-12T15:47:02.125Z"
   },
   {
    "duration": 14,
    "start_time": "2023-09-12T15:47:02.233Z"
   },
   {
    "duration": 16,
    "start_time": "2023-09-12T15:47:02.425Z"
   },
   {
    "duration": 14,
    "start_time": "2023-09-12T15:47:02.860Z"
   },
   {
    "duration": 14,
    "start_time": "2023-09-12T15:47:03.885Z"
   },
   {
    "duration": 5,
    "start_time": "2023-09-12T15:47:03.914Z"
   },
   {
    "duration": 63,
    "start_time": "2023-09-12T15:47:03.982Z"
   },
   {
    "duration": 221,
    "start_time": "2023-09-12T15:47:04.047Z"
   },
   {
    "duration": 7,
    "start_time": "2023-09-12T15:47:04.549Z"
   },
   {
    "duration": 9,
    "start_time": "2023-09-12T15:47:05.058Z"
   },
   {
    "duration": 63,
    "start_time": "2023-09-12T15:47:05.097Z"
   },
   {
    "duration": 84,
    "start_time": "2023-09-12T15:47:05.162Z"
   },
   {
    "duration": 434,
    "start_time": "2023-09-12T15:47:05.248Z"
   },
   {
    "duration": 737,
    "start_time": "2023-09-12T15:47:05.687Z"
   },
   {
    "duration": 7118,
    "start_time": "2023-09-12T15:47:06.426Z"
   },
   {
    "duration": 353,
    "start_time": "2023-09-12T15:47:13.546Z"
   },
   {
    "duration": 2212,
    "start_time": "2023-09-12T15:47:13.901Z"
   },
   {
    "duration": 61553,
    "start_time": "2023-09-12T15:47:16.115Z"
   },
   {
    "duration": 1089,
    "start_time": "2023-09-12T15:48:17.669Z"
   },
   {
    "duration": 9,
    "start_time": "2023-09-12T15:48:18.760Z"
   },
   {
    "duration": 80,
    "start_time": "2023-09-12T15:49:04.866Z"
   },
   {
    "duration": 2156,
    "start_time": "2023-09-12T15:49:24.393Z"
   },
   {
    "duration": 2165,
    "start_time": "2023-09-12T15:49:41.137Z"
   },
   {
    "duration": 461,
    "start_time": "2023-09-12T15:51:46.324Z"
   },
   {
    "duration": 595,
    "start_time": "2023-09-12T15:51:51.927Z"
   },
   {
    "duration": 7358,
    "start_time": "2023-09-12T15:51:58.193Z"
   },
   {
    "duration": 348,
    "start_time": "2023-09-12T15:52:30.825Z"
   },
   {
    "duration": 21,
    "start_time": "2023-09-12T15:57:19.372Z"
   },
   {
    "duration": 3,
    "start_time": "2023-09-12T15:59:47.885Z"
   },
   {
    "duration": 113,
    "start_time": "2023-09-12T16:07:30.103Z"
   },
   {
    "duration": 15,
    "start_time": "2023-09-12T16:07:45.865Z"
   },
   {
    "duration": 39,
    "start_time": "2023-09-12T16:07:59.370Z"
   },
   {
    "duration": 388,
    "start_time": "2023-09-12T16:08:30.407Z"
   },
   {
    "duration": 620,
    "start_time": "2023-09-12T16:08:34.785Z"
   },
   {
    "duration": 6857,
    "start_time": "2023-09-12T16:08:37.629Z"
   },
   {
    "duration": 343,
    "start_time": "2023-09-12T16:08:47.601Z"
   },
   {
    "duration": 8524,
    "start_time": "2023-09-12T16:08:56.068Z"
   },
   {
    "duration": 36531,
    "start_time": "2023-09-12T16:09:28.844Z"
   },
   {
    "duration": 22639,
    "start_time": "2023-09-12T16:10:19.022Z"
   },
   {
    "duration": 77148,
    "start_time": "2023-09-12T16:11:07.316Z"
   },
   {
    "duration": 49145,
    "start_time": "2023-09-12T16:12:51.684Z"
   },
   {
    "duration": 29973,
    "start_time": "2023-09-12T16:14:27.604Z"
   },
   {
    "duration": 1270,
    "start_time": "2023-09-12T16:15:51.442Z"
   },
   {
    "duration": 393,
    "start_time": "2023-09-12T16:19:44.696Z"
   },
   {
    "duration": 366,
    "start_time": "2023-09-12T16:20:32.086Z"
   },
   {
    "duration": 352,
    "start_time": "2023-09-12T16:21:00.164Z"
   },
   {
    "duration": 344,
    "start_time": "2023-09-12T16:21:05.743Z"
   },
   {
    "duration": 1306,
    "start_time": "2023-09-12T16:22:35.404Z"
   },
   {
    "duration": 87470,
    "start_time": "2023-09-12T16:27:29.125Z"
   },
   {
    "duration": 37355,
    "start_time": "2023-09-12T16:29:49.727Z"
   },
   {
    "duration": 51101,
    "start_time": "2023-09-12T16:31:00.427Z"
   },
   {
    "duration": 1095,
    "start_time": "2023-09-12T16:33:54.142Z"
   },
   {
    "duration": 1095,
    "start_time": "2023-09-12T16:34:11.828Z"
   },
   {
    "duration": 1341,
    "start_time": "2023-09-12T16:34:21.345Z"
   },
   {
    "duration": 44297,
    "start_time": "2023-09-12T16:35:12.181Z"
   },
   {
    "duration": 871,
    "start_time": "2023-09-12T16:37:50.422Z"
   },
   {
    "duration": 942,
    "start_time": "2023-09-12T16:38:09.567Z"
   },
   {
    "duration": 1362,
    "start_time": "2023-09-12T16:38:15.494Z"
   },
   {
    "duration": 1709,
    "start_time": "2023-09-12T16:38:27.628Z"
   },
   {
    "duration": 1350,
    "start_time": "2023-09-12T16:38:33.217Z"
   },
   {
    "duration": 946,
    "start_time": "2023-09-12T16:39:13.406Z"
   },
   {
    "duration": 1329,
    "start_time": "2023-09-16T10:55:19.245Z"
   },
   {
    "duration": 98,
    "start_time": "2023-09-16T10:55:20.576Z"
   },
   {
    "duration": 20,
    "start_time": "2023-09-16T10:55:20.676Z"
   },
   {
    "duration": 648,
    "start_time": "2023-09-16T10:55:20.698Z"
   },
   {
    "duration": 138,
    "start_time": "2023-09-16T10:55:21.350Z"
   },
   {
    "duration": 126,
    "start_time": "2023-09-16T10:55:21.490Z"
   },
   {
    "duration": 169,
    "start_time": "2023-09-16T10:55:21.619Z"
   },
   {
    "duration": 202,
    "start_time": "2023-09-16T10:55:21.789Z"
   },
   {
    "duration": 213,
    "start_time": "2023-09-16T10:55:21.992Z"
   },
   {
    "duration": 130,
    "start_time": "2023-09-16T10:55:22.207Z"
   },
   {
    "duration": 120,
    "start_time": "2023-09-16T10:55:22.339Z"
   },
   {
    "duration": 459,
    "start_time": "2023-09-16T10:55:22.464Z"
   },
   {
    "duration": 151,
    "start_time": "2023-09-16T10:55:22.925Z"
   },
   {
    "duration": 21,
    "start_time": "2023-09-16T10:55:23.077Z"
   },
   {
    "duration": 205,
    "start_time": "2023-09-16T10:55:23.100Z"
   },
   {
    "duration": 137,
    "start_time": "2023-09-16T10:55:23.307Z"
   },
   {
    "duration": 147,
    "start_time": "2023-09-16T10:55:23.447Z"
   },
   {
    "duration": 9,
    "start_time": "2023-09-16T10:55:23.597Z"
   },
   {
    "duration": 23,
    "start_time": "2023-09-16T10:55:23.607Z"
   },
   {
    "duration": 9,
    "start_time": "2023-09-16T10:55:23.714Z"
   },
   {
    "duration": 14,
    "start_time": "2023-09-16T10:55:23.935Z"
   },
   {
    "duration": 11,
    "start_time": "2023-09-16T10:55:24.086Z"
   },
   {
    "duration": 10,
    "start_time": "2023-09-16T10:55:24.286Z"
   },
   {
    "duration": 22,
    "start_time": "2023-09-16T10:55:24.465Z"
   },
   {
    "duration": 16,
    "start_time": "2023-09-16T10:55:24.655Z"
   },
   {
    "duration": 42,
    "start_time": "2023-09-16T10:55:24.843Z"
   },
   {
    "duration": 14,
    "start_time": "2023-09-16T10:55:25.017Z"
   },
   {
    "duration": 17,
    "start_time": "2023-09-16T10:55:25.397Z"
   },
   {
    "duration": 9,
    "start_time": "2023-09-16T10:55:25.763Z"
   },
   {
    "duration": 69,
    "start_time": "2023-09-16T10:55:28.303Z"
   },
   {
    "duration": 204,
    "start_time": "2023-09-16T10:55:29.783Z"
   },
   {
    "duration": 8,
    "start_time": "2023-09-16T10:55:31.773Z"
   },
   {
    "duration": 11,
    "start_time": "2023-09-16T10:55:32.145Z"
   },
   {
    "duration": 62,
    "start_time": "2023-09-16T10:55:33.721Z"
   },
   {
    "duration": 94,
    "start_time": "2023-09-16T10:55:34.135Z"
   },
   {
    "duration": 55,
    "start_time": "2023-09-16T10:55:36.434Z"
   },
   {
    "duration": 457,
    "start_time": "2023-09-16T10:55:37.292Z"
   },
   {
    "duration": 671,
    "start_time": "2023-09-16T10:55:38.001Z"
   },
   {
    "duration": 7427,
    "start_time": "2023-09-16T10:55:40.420Z"
   },
   {
    "duration": 401,
    "start_time": "2023-09-16T10:55:50.032Z"
   },
   {
    "duration": 92089,
    "start_time": "2023-09-16T10:55:51.069Z"
   },
   {
    "duration": 44127,
    "start_time": "2023-09-16T10:57:23.160Z"
   },
   {
    "duration": 925,
    "start_time": "2023-09-16T10:58:07.288Z"
   },
   {
    "duration": 448,
    "start_time": "2023-09-16T10:58:08.216Z"
   },
   {
    "duration": 497,
    "start_time": "2023-09-16T10:58:08.751Z"
   },
   {
    "duration": 983,
    "start_time": "2023-09-16T10:58:09.251Z"
   },
   {
    "duration": 1182,
    "start_time": "2023-09-16T14:18:47.872Z"
   },
   {
    "duration": 103,
    "start_time": "2023-09-16T14:18:49.056Z"
   },
   {
    "duration": 20,
    "start_time": "2023-09-16T14:18:49.160Z"
   },
   {
    "duration": 579,
    "start_time": "2023-09-16T14:18:49.182Z"
   },
   {
    "duration": 128,
    "start_time": "2023-09-16T14:18:49.764Z"
   },
   {
    "duration": 118,
    "start_time": "2023-09-16T14:18:49.894Z"
   },
   {
    "duration": 154,
    "start_time": "2023-09-16T14:18:50.014Z"
   },
   {
    "duration": 182,
    "start_time": "2023-09-16T14:18:50.169Z"
   },
   {
    "duration": 199,
    "start_time": "2023-09-16T14:18:50.353Z"
   },
   {
    "duration": 117,
    "start_time": "2023-09-16T14:18:50.554Z"
   },
   {
    "duration": 105,
    "start_time": "2023-09-16T14:18:50.673Z"
   },
   {
    "duration": 400,
    "start_time": "2023-09-16T14:18:50.779Z"
   },
   {
    "duration": 125,
    "start_time": "2023-09-16T14:18:51.180Z"
   },
   {
    "duration": 21,
    "start_time": "2023-09-16T14:18:51.306Z"
   },
   {
    "duration": 165,
    "start_time": "2023-09-16T14:18:51.329Z"
   },
   {
    "duration": 120,
    "start_time": "2023-09-16T14:18:51.496Z"
   },
   {
    "duration": 105,
    "start_time": "2023-09-16T14:18:51.618Z"
   },
   {
    "duration": 7,
    "start_time": "2023-09-16T14:18:51.725Z"
   },
   {
    "duration": 25,
    "start_time": "2023-09-16T14:18:51.733Z"
   },
   {
    "duration": 11,
    "start_time": "2023-09-16T14:18:52.116Z"
   },
   {
    "duration": 9,
    "start_time": "2023-09-16T14:18:52.256Z"
   },
   {
    "duration": 10,
    "start_time": "2023-09-16T14:18:52.401Z"
   },
   {
    "duration": 10,
    "start_time": "2023-09-16T14:18:52.623Z"
   },
   {
    "duration": 20,
    "start_time": "2023-09-16T14:18:52.846Z"
   },
   {
    "duration": 14,
    "start_time": "2023-09-16T14:18:53.106Z"
   },
   {
    "duration": 13,
    "start_time": "2023-09-16T14:18:53.404Z"
   },
   {
    "duration": 14,
    "start_time": "2023-09-16T14:18:53.702Z"
   },
   {
    "duration": 11,
    "start_time": "2023-09-16T14:18:54.035Z"
   },
   {
    "duration": 5,
    "start_time": "2023-09-16T14:18:54.257Z"
   },
   {
    "duration": 56,
    "start_time": "2023-09-16T14:18:54.925Z"
   },
   {
    "duration": 222,
    "start_time": "2023-09-16T14:18:55.185Z"
   },
   {
    "duration": 7,
    "start_time": "2023-09-16T14:18:55.502Z"
   },
   {
    "duration": 7,
    "start_time": "2023-09-16T14:18:55.590Z"
   },
   {
    "duration": 60,
    "start_time": "2023-09-16T14:18:55.706Z"
   },
   {
    "duration": 78,
    "start_time": "2023-09-16T14:18:55.999Z"
   },
   {
    "duration": 39,
    "start_time": "2023-09-16T14:18:56.259Z"
   },
   {
    "duration": 389,
    "start_time": "2023-09-16T14:18:56.782Z"
   },
   {
    "duration": 583,
    "start_time": "2023-09-16T14:18:57.347Z"
   },
   {
    "duration": 6948,
    "start_time": "2023-09-16T14:18:57.932Z"
   },
   {
    "duration": 356,
    "start_time": "2023-09-16T14:19:04.881Z"
   },
   {
    "duration": 85762,
    "start_time": "2023-09-16T14:19:05.240Z"
   },
   {
    "duration": 41123,
    "start_time": "2023-09-16T14:20:31.004Z"
   },
   {
    "duration": 813,
    "start_time": "2023-09-16T14:21:12.129Z"
   },
   {
    "duration": 405,
    "start_time": "2023-09-16T14:21:12.946Z"
   },
   {
    "duration": 522,
    "start_time": "2023-09-16T14:21:13.354Z"
   },
   {
    "duration": 842,
    "start_time": "2023-09-16T14:21:13.878Z"
   },
   {
    "duration": 4,
    "start_time": "2023-09-16T14:35:15.557Z"
   },
   {
    "duration": 5,
    "start_time": "2023-09-16T14:35:20.021Z"
   },
   {
    "duration": 5,
    "start_time": "2023-09-16T14:36:23.106Z"
   },
   {
    "duration": 6,
    "start_time": "2023-09-16T14:36:30.355Z"
   },
   {
    "duration": 8,
    "start_time": "2023-09-16T14:36:49.838Z"
   },
   {
    "duration": 5,
    "start_time": "2023-09-16T14:36:57.169Z"
   },
   {
    "duration": 7,
    "start_time": "2023-09-16T14:38:52.173Z"
   },
   {
    "duration": 5,
    "start_time": "2023-09-16T14:51:22.878Z"
   },
   {
    "duration": 165,
    "start_time": "2023-09-16T14:53:41.985Z"
   },
   {
    "duration": 4,
    "start_time": "2023-09-16T14:54:28.591Z"
   },
   {
    "duration": 866,
    "start_time": "2023-09-16T14:54:36.485Z"
   },
   {
    "duration": 214,
    "start_time": "2023-09-16T14:55:58.757Z"
   },
   {
    "duration": 1597,
    "start_time": "2023-09-16T14:55:59.458Z"
   },
   {
    "duration": 704,
    "start_time": "2023-09-16T14:56:05.556Z"
   },
   {
    "duration": 6162,
    "start_time": "2023-09-16T14:56:06.485Z"
   },
   {
    "duration": 14519,
    "start_time": "2023-09-16T14:56:19.082Z"
   },
   {
    "duration": 4,
    "start_time": "2023-09-16T14:56:33.602Z"
   },
   {
    "duration": 70,
    "start_time": "2023-09-16T14:56:33.607Z"
   },
   {
    "duration": 13,
    "start_time": "2023-09-16T14:56:33.679Z"
   },
   {
    "duration": 153,
    "start_time": "2023-09-16T14:56:33.693Z"
   },
   {
    "duration": 109,
    "start_time": "2023-09-16T14:56:33.848Z"
   },
   {
    "duration": 108,
    "start_time": "2023-09-16T14:56:33.958Z"
   },
   {
    "duration": 146,
    "start_time": "2023-09-16T14:56:34.067Z"
   },
   {
    "duration": 171,
    "start_time": "2023-09-16T14:56:34.215Z"
   },
   {
    "duration": 115,
    "start_time": "2023-09-16T14:56:34.388Z"
   },
   {
    "duration": 120,
    "start_time": "2023-09-16T14:56:34.505Z"
   },
   {
    "duration": 103,
    "start_time": "2023-09-16T14:56:34.627Z"
   },
   {
    "duration": 405,
    "start_time": "2023-09-16T14:56:34.732Z"
   },
   {
    "duration": 243,
    "start_time": "2023-09-16T14:56:35.138Z"
   },
   {
    "duration": 24,
    "start_time": "2023-09-16T14:56:35.384Z"
   },
   {
    "duration": 171,
    "start_time": "2023-09-16T14:56:35.410Z"
   },
   {
    "duration": 119,
    "start_time": "2023-09-16T14:56:35.583Z"
   },
   {
    "duration": 106,
    "start_time": "2023-09-16T14:56:35.704Z"
   },
   {
    "duration": 8,
    "start_time": "2023-09-16T14:56:35.811Z"
   },
   {
    "duration": 47,
    "start_time": "2023-09-16T14:56:35.821Z"
   },
   {
    "duration": 41,
    "start_time": "2023-09-16T14:56:35.870Z"
   },
   {
    "duration": 29,
    "start_time": "2023-09-16T14:56:35.913Z"
   },
   {
    "duration": 27,
    "start_time": "2023-09-16T14:56:35.944Z"
   },
   {
    "duration": 49,
    "start_time": "2023-09-16T14:56:35.972Z"
   },
   {
    "duration": 34,
    "start_time": "2023-09-16T14:56:36.023Z"
   },
   {
    "duration": 12,
    "start_time": "2023-09-16T14:56:36.059Z"
   },
   {
    "duration": 23,
    "start_time": "2023-09-16T14:56:36.073Z"
   },
   {
    "duration": 25,
    "start_time": "2023-09-16T14:56:36.099Z"
   },
   {
    "duration": 28,
    "start_time": "2023-09-16T14:56:36.126Z"
   },
   {
    "duration": 5,
    "start_time": "2023-09-16T14:56:36.156Z"
   },
   {
    "duration": 71,
    "start_time": "2023-09-16T14:56:36.162Z"
   },
   {
    "duration": 210,
    "start_time": "2023-09-16T14:56:36.234Z"
   },
   {
    "duration": 7,
    "start_time": "2023-09-16T14:56:36.447Z"
   },
   {
    "duration": 13,
    "start_time": "2023-09-16T14:56:36.456Z"
   },
   {
    "duration": 50,
    "start_time": "2023-09-16T14:56:36.470Z"
   },
   {
    "duration": 92,
    "start_time": "2023-09-16T14:56:36.522Z"
   },
   {
    "duration": 48,
    "start_time": "2023-09-16T14:56:36.616Z"
   },
   {
    "duration": 482,
    "start_time": "2023-09-16T14:56:36.665Z"
   },
   {
    "duration": 672,
    "start_time": "2023-09-16T14:56:37.150Z"
   },
   {
    "duration": 6831,
    "start_time": "2023-09-16T14:56:37.824Z"
   },
   {
    "duration": 347,
    "start_time": "2023-09-16T14:56:44.657Z"
   },
   {
    "duration": 85333,
    "start_time": "2023-09-16T14:56:45.005Z"
   },
   {
    "duration": 40745,
    "start_time": "2023-09-16T14:58:10.340Z"
   },
   {
    "duration": 835,
    "start_time": "2023-09-16T14:58:51.087Z"
   },
   {
    "duration": 429,
    "start_time": "2023-09-16T14:58:51.924Z"
   },
   {
    "duration": 521,
    "start_time": "2023-09-16T14:58:52.355Z"
   },
   {
    "duration": 870,
    "start_time": "2023-09-16T14:58:52.877Z"
   },
   {
    "duration": 6,
    "start_time": "2023-09-16T14:58:53.748Z"
   },
   {
    "duration": 105,
    "start_time": "2023-09-16T14:58:53.755Z"
   },
   {
    "duration": 693,
    "start_time": "2023-09-16T14:58:53.862Z"
   },
   {
    "duration": 4,
    "start_time": "2023-09-16T15:00:00.639Z"
   },
   {
    "duration": 301,
    "start_time": "2023-09-16T15:00:00.735Z"
   },
   {
    "duration": 56,
    "start_time": "2023-09-16T15:00:01.038Z"
   },
   {
    "duration": 220,
    "start_time": "2023-09-16T15:00:01.097Z"
   },
   {
    "duration": 117,
    "start_time": "2023-09-16T15:00:01.320Z"
   },
   {
    "duration": 117,
    "start_time": "2023-09-16T15:00:01.447Z"
   },
   {
    "duration": 156,
    "start_time": "2023-09-16T15:00:01.566Z"
   },
   {
    "duration": 183,
    "start_time": "2023-09-16T15:00:01.724Z"
   },
   {
    "duration": 119,
    "start_time": "2023-09-16T15:00:01.910Z"
   },
   {
    "duration": 124,
    "start_time": "2023-09-16T15:00:02.031Z"
   },
   {
    "duration": 192,
    "start_time": "2023-09-16T15:00:02.158Z"
   },
   {
    "duration": 429,
    "start_time": "2023-09-16T15:00:02.351Z"
   },
   {
    "duration": 121,
    "start_time": "2023-09-16T15:00:02.782Z"
   },
   {
    "duration": 21,
    "start_time": "2023-09-16T15:00:02.905Z"
   },
   {
    "duration": 214,
    "start_time": "2023-09-16T15:00:02.928Z"
   },
   {
    "duration": 108,
    "start_time": "2023-09-16T15:00:03.146Z"
   },
   {
    "duration": 396,
    "start_time": "2023-09-16T15:00:03.256Z"
   },
   {
    "duration": 7,
    "start_time": "2023-09-16T15:00:03.654Z"
   },
   {
    "duration": 27,
    "start_time": "2023-09-16T15:00:03.662Z"
   },
   {
    "duration": 39,
    "start_time": "2023-09-16T15:00:03.691Z"
   },
   {
    "duration": 22,
    "start_time": "2023-09-16T15:00:03.732Z"
   },
   {
    "duration": 24,
    "start_time": "2023-09-16T15:00:03.756Z"
   },
   {
    "duration": 14,
    "start_time": "2023-09-16T15:00:03.782Z"
   },
   {
    "duration": 20,
    "start_time": "2023-09-16T15:00:03.797Z"
   },
   {
    "duration": 50,
    "start_time": "2023-09-16T15:00:03.819Z"
   },
   {
    "duration": 28,
    "start_time": "2023-09-16T15:00:03.871Z"
   },
   {
    "duration": 417,
    "start_time": "2023-09-16T15:00:03.900Z"
   },
   {
    "duration": 72,
    "start_time": "2023-09-16T15:00:04.318Z"
   },
   {
    "duration": 38,
    "start_time": "2023-09-16T15:00:04.393Z"
   },
   {
    "duration": 74,
    "start_time": "2023-09-16T15:00:04.433Z"
   },
   {
    "duration": 205,
    "start_time": "2023-09-16T15:00:04.508Z"
   },
   {
    "duration": 6,
    "start_time": "2023-09-16T15:00:04.715Z"
   },
   {
    "duration": 6,
    "start_time": "2023-09-16T15:00:04.723Z"
   },
   {
    "duration": 57,
    "start_time": "2023-09-16T15:00:04.730Z"
   },
   {
    "duration": 86,
    "start_time": "2023-09-16T15:00:04.788Z"
   },
   {
    "duration": 38,
    "start_time": "2023-09-16T15:00:04.875Z"
   },
   {
    "duration": 440,
    "start_time": "2023-09-16T15:00:04.914Z"
   },
   {
    "duration": 772,
    "start_time": "2023-09-16T15:00:05.356Z"
   },
   {
    "duration": 6582,
    "start_time": "2023-09-16T15:00:06.130Z"
   },
   {
    "duration": 333,
    "start_time": "2023-09-16T15:00:12.714Z"
   },
   {
    "duration": 85060,
    "start_time": "2023-09-16T15:00:13.048Z"
   },
   {
    "duration": 40724,
    "start_time": "2023-09-16T15:01:38.110Z"
   },
   {
    "duration": 833,
    "start_time": "2023-09-16T15:02:18.836Z"
   },
   {
    "duration": 475,
    "start_time": "2023-09-16T15:02:19.671Z"
   },
   {
    "duration": 433,
    "start_time": "2023-09-16T15:02:20.149Z"
   },
   {
    "duration": 873,
    "start_time": "2023-09-16T15:02:20.583Z"
   },
   {
    "duration": 6,
    "start_time": "2023-09-16T15:02:21.457Z"
   },
   {
    "duration": 106,
    "start_time": "2023-09-16T15:02:21.465Z"
   },
   {
    "duration": 686,
    "start_time": "2023-09-16T15:02:21.573Z"
   },
   {
    "duration": 80,
    "start_time": "2023-09-16T15:02:39.698Z"
   },
   {
    "duration": 711,
    "start_time": "2023-09-16T15:02:40.441Z"
   },
   {
    "duration": 732,
    "start_time": "2023-09-16T15:02:43.716Z"
   },
   {
    "duration": 490,
    "start_time": "2023-09-16T15:03:47.608Z"
   },
   {
    "duration": 494,
    "start_time": "2023-09-16T15:03:56.702Z"
   },
   {
    "duration": 483,
    "start_time": "2023-09-16T15:03:59.285Z"
   },
   {
    "duration": 502,
    "start_time": "2023-09-16T15:04:01.370Z"
   },
   {
    "duration": 1654,
    "start_time": "2023-09-16T15:05:09.067Z"
   },
   {
    "duration": 1136,
    "start_time": "2023-09-17T13:30:22.017Z"
   },
   {
    "duration": 92,
    "start_time": "2023-09-17T13:30:23.155Z"
   },
   {
    "duration": 42,
    "start_time": "2023-09-17T13:30:23.248Z"
   },
   {
    "duration": 573,
    "start_time": "2023-09-17T13:30:23.292Z"
   },
   {
    "duration": 103,
    "start_time": "2023-09-17T13:30:23.867Z"
   },
   {
    "duration": 100,
    "start_time": "2023-09-17T13:30:23.972Z"
   },
   {
    "duration": 139,
    "start_time": "2023-09-17T13:30:24.073Z"
   },
   {
    "duration": 168,
    "start_time": "2023-09-17T13:30:24.213Z"
   },
   {
    "duration": 188,
    "start_time": "2023-09-17T13:30:24.383Z"
   },
   {
    "duration": 103,
    "start_time": "2023-09-17T13:30:24.574Z"
   },
   {
    "duration": 96,
    "start_time": "2023-09-17T13:30:24.678Z"
   },
   {
    "duration": 369,
    "start_time": "2023-09-17T13:30:24.776Z"
   },
   {
    "duration": 105,
    "start_time": "2023-09-17T13:30:25.147Z"
   },
   {
    "duration": 62,
    "start_time": "2023-09-17T13:30:25.254Z"
   },
   {
    "duration": 178,
    "start_time": "2023-09-17T13:30:25.317Z"
   },
   {
    "duration": 104,
    "start_time": "2023-09-17T13:30:25.497Z"
   },
   {
    "duration": 101,
    "start_time": "2023-09-17T13:30:25.603Z"
   },
   {
    "duration": 6,
    "start_time": "2023-09-17T13:30:25.706Z"
   },
   {
    "duration": 83,
    "start_time": "2023-09-17T13:30:25.713Z"
   },
   {
    "duration": 78,
    "start_time": "2023-09-17T13:30:25.798Z"
   },
   {
    "duration": 215,
    "start_time": "2023-09-17T13:30:25.878Z"
   },
   {
    "duration": 92,
    "start_time": "2023-09-17T13:30:26.095Z"
   },
   {
    "duration": 102,
    "start_time": "2023-09-17T13:30:26.189Z"
   },
   {
    "duration": 89,
    "start_time": "2023-09-17T13:30:26.293Z"
   },
   {
    "duration": 14,
    "start_time": "2023-09-17T13:30:26.384Z"
   },
   {
    "duration": 13,
    "start_time": "2023-09-17T13:30:26.399Z"
   },
   {
    "duration": 30,
    "start_time": "2023-09-17T13:30:26.413Z"
   },
   {
    "duration": 41,
    "start_time": "2023-09-17T13:30:26.446Z"
   },
   {
    "duration": 57,
    "start_time": "2023-09-17T13:30:26.488Z"
   },
   {
    "duration": 65,
    "start_time": "2023-09-17T13:30:26.547Z"
   },
   {
    "duration": 176,
    "start_time": "2023-09-17T13:30:26.614Z"
   },
   {
    "duration": 7,
    "start_time": "2023-09-17T13:30:26.791Z"
   },
   {
    "duration": 6,
    "start_time": "2023-09-17T13:30:26.799Z"
   },
   {
    "duration": 71,
    "start_time": "2023-09-17T13:30:26.807Z"
   },
   {
    "duration": 93,
    "start_time": "2023-09-17T13:30:26.880Z"
   },
   {
    "duration": 36,
    "start_time": "2023-09-17T13:30:26.975Z"
   },
   {
    "duration": 522,
    "start_time": "2023-09-17T13:30:27.012Z"
   },
   {
    "duration": 730,
    "start_time": "2023-09-17T13:30:27.536Z"
   },
   {
    "duration": 6613,
    "start_time": "2023-09-17T13:30:28.268Z"
   },
   {
    "duration": 350,
    "start_time": "2023-09-17T13:30:34.883Z"
   },
   {
    "duration": 82071,
    "start_time": "2023-09-17T13:30:35.235Z"
   },
   {
    "duration": 39556,
    "start_time": "2023-09-17T13:31:57.308Z"
   },
   {
    "duration": 792,
    "start_time": "2023-09-17T13:32:36.866Z"
   },
   {
    "duration": 373,
    "start_time": "2023-09-17T13:32:37.660Z"
   },
   {
    "duration": 494,
    "start_time": "2023-09-17T13:32:38.035Z"
   },
   {
    "duration": 872,
    "start_time": "2023-09-17T13:32:38.531Z"
   },
   {
    "duration": 5,
    "start_time": "2023-09-17T13:32:39.405Z"
   },
   {
    "duration": 103,
    "start_time": "2023-09-17T13:32:39.411Z"
   },
   {
    "duration": 814,
    "start_time": "2023-09-17T13:32:39.515Z"
   },
   {
    "duration": 691,
    "start_time": "2023-09-17T13:32:40.331Z"
   },
   {
    "duration": 1621,
    "start_time": "2023-09-17T13:32:41.024Z"
   },
   {
    "duration": 75,
    "start_time": "2023-09-17T13:45:32.608Z"
   },
   {
    "duration": 447,
    "start_time": "2023-09-17T13:45:43.148Z"
   },
   {
    "duration": 6137,
    "start_time": "2023-09-17T13:47:05.870Z"
   },
   {
    "duration": 10535,
    "start_time": "2023-09-17T13:47:55.691Z"
   },
   {
    "duration": 308,
    "start_time": "2023-09-17T13:49:36.150Z"
   },
   {
    "duration": 276,
    "start_time": "2023-09-17T13:49:58.204Z"
   },
   {
    "duration": 6395,
    "start_time": "2023-09-17T13:50:06.817Z"
   },
   {
    "duration": 839,
    "start_time": "2023-09-17T13:56:01.227Z"
   },
   {
    "duration": 3901,
    "start_time": "2023-09-17T13:56:26.018Z"
   },
   {
    "duration": 3930,
    "start_time": "2023-09-17T13:56:45.633Z"
   },
   {
    "duration": 4999,
    "start_time": "2023-09-17T14:04:18.680Z"
   },
   {
    "duration": 9635,
    "start_time": "2023-09-17T14:29:20.359Z"
   },
   {
    "duration": 16052,
    "start_time": "2023-09-17T14:29:50.885Z"
   },
   {
    "duration": 24488,
    "start_time": "2023-09-17T14:31:36.586Z"
   },
   {
    "duration": 846,
    "start_time": "2023-09-17T15:13:29.803Z"
   },
   {
    "duration": 623,
    "start_time": "2023-09-17T15:15:48.690Z"
   },
   {
    "duration": 9495,
    "start_time": "2023-09-17T15:20:41.534Z"
   },
   {
    "duration": 16266,
    "start_time": "2023-09-17T15:20:58.915Z"
   },
   {
    "duration": 9670,
    "start_time": "2023-09-17T15:21:38.410Z"
   },
   {
    "duration": 439,
    "start_time": "2023-09-17T15:22:44.079Z"
   },
   {
    "duration": 1144,
    "start_time": "2023-09-17T22:09:55.935Z"
   },
   {
    "duration": 101,
    "start_time": "2023-09-17T22:09:57.081Z"
   },
   {
    "duration": 20,
    "start_time": "2023-09-17T22:09:57.183Z"
   },
   {
    "duration": 558,
    "start_time": "2023-09-17T22:09:57.205Z"
   },
   {
    "duration": 107,
    "start_time": "2023-09-17T22:09:57.765Z"
   },
   {
    "duration": 109,
    "start_time": "2023-09-17T22:09:57.874Z"
   },
   {
    "duration": 134,
    "start_time": "2023-09-17T22:09:57.985Z"
   },
   {
    "duration": 157,
    "start_time": "2023-09-17T22:09:58.123Z"
   },
   {
    "duration": 201,
    "start_time": "2023-09-17T22:09:58.283Z"
   },
   {
    "duration": 126,
    "start_time": "2023-09-17T22:09:58.486Z"
   },
   {
    "duration": 112,
    "start_time": "2023-09-17T22:09:58.616Z"
   },
   {
    "duration": 370,
    "start_time": "2023-09-17T22:09:58.730Z"
   },
   {
    "duration": 112,
    "start_time": "2023-09-17T22:09:59.102Z"
   },
   {
    "duration": 20,
    "start_time": "2023-09-17T22:09:59.223Z"
   },
   {
    "duration": 162,
    "start_time": "2023-09-17T22:09:59.245Z"
   },
   {
    "duration": 118,
    "start_time": "2023-09-17T22:09:59.409Z"
   },
   {
    "duration": 104,
    "start_time": "2023-09-17T22:09:59.529Z"
   },
   {
    "duration": 7,
    "start_time": "2023-09-17T22:09:59.635Z"
   },
   {
    "duration": 21,
    "start_time": "2023-09-17T22:09:59.644Z"
   },
   {
    "duration": 21,
    "start_time": "2023-09-17T22:09:59.667Z"
   },
   {
    "duration": 17,
    "start_time": "2023-09-17T22:09:59.690Z"
   },
   {
    "duration": 11,
    "start_time": "2023-09-17T22:09:59.708Z"
   },
   {
    "duration": 47,
    "start_time": "2023-09-17T22:09:59.720Z"
   },
   {
    "duration": 29,
    "start_time": "2023-09-17T22:09:59.769Z"
   },
   {
    "duration": 12,
    "start_time": "2023-09-17T22:09:59.799Z"
   },
   {
    "duration": 16,
    "start_time": "2023-09-17T22:09:59.813Z"
   },
   {
    "duration": 22,
    "start_time": "2023-09-17T22:09:59.830Z"
   },
   {
    "duration": 30,
    "start_time": "2023-09-17T22:09:59.855Z"
   },
   {
    "duration": 27,
    "start_time": "2023-09-17T22:09:59.886Z"
   },
   {
    "duration": 90,
    "start_time": "2023-09-17T22:09:59.915Z"
   },
   {
    "duration": 198,
    "start_time": "2023-09-17T22:10:00.007Z"
   },
   {
    "duration": 8,
    "start_time": "2023-09-17T22:10:00.206Z"
   },
   {
    "duration": 35,
    "start_time": "2023-09-17T22:10:00.223Z"
   },
   {
    "duration": 65,
    "start_time": "2023-09-17T22:10:00.260Z"
   },
   {
    "duration": 100,
    "start_time": "2023-09-17T22:10:00.327Z"
   },
   {
    "duration": 43,
    "start_time": "2023-09-17T22:10:00.430Z"
   },
   {
    "duration": 451,
    "start_time": "2023-09-17T22:10:00.476Z"
   },
   {
    "duration": 664,
    "start_time": "2023-09-17T22:10:00.931Z"
   },
   {
    "duration": 6507,
    "start_time": "2023-09-17T22:10:01.597Z"
   },
   {
    "duration": 322,
    "start_time": "2023-09-17T22:10:08.105Z"
   },
   {
    "duration": 82806,
    "start_time": "2023-09-17T22:10:08.429Z"
   },
   {
    "duration": 40412,
    "start_time": "2023-09-17T22:11:31.237Z"
   },
   {
    "duration": 798,
    "start_time": "2023-09-17T22:12:11.651Z"
   },
   {
    "duration": 379,
    "start_time": "2023-09-17T22:12:12.450Z"
   },
   {
    "duration": 628,
    "start_time": "2023-09-17T22:12:12.834Z"
   },
   {
    "duration": 6092,
    "start_time": "2023-09-17T22:12:13.464Z"
   },
   {
    "duration": 290,
    "start_time": "2023-09-17T22:12:19.557Z"
   },
   {
    "duration": 870,
    "start_time": "2023-09-17T22:12:19.849Z"
   },
   {
    "duration": 3937,
    "start_time": "2023-09-17T22:12:20.723Z"
   },
   {
    "duration": 24225,
    "start_time": "2023-09-17T22:12:24.662Z"
   },
   {
    "duration": 848,
    "start_time": "2023-09-17T22:12:48.889Z"
   },
   {
    "duration": 7,
    "start_time": "2023-09-17T22:12:49.738Z"
   },
   {
    "duration": 107,
    "start_time": "2023-09-17T22:12:49.746Z"
   },
   {
    "duration": 768,
    "start_time": "2023-09-17T22:12:49.855Z"
   },
   {
    "duration": 733,
    "start_time": "2023-09-17T22:12:50.626Z"
   },
   {
    "duration": 9605,
    "start_time": "2023-09-17T22:12:51.361Z"
   },
   {
    "duration": 426,
    "start_time": "2023-09-17T22:13:00.968Z"
   },
   {
    "duration": 1566,
    "start_time": "2023-09-17T22:13:01.396Z"
   },
   {
    "duration": 5595,
    "start_time": "2023-09-17T22:19:58.002Z"
   },
   {
    "duration": 7702,
    "start_time": "2023-09-17T22:25:49.201Z"
   },
   {
    "duration": 15549,
    "start_time": "2023-09-17T22:26:47.091Z"
   },
   {
    "duration": 25864,
    "start_time": "2023-09-17T22:28:36.711Z"
   },
   {
    "duration": 8289,
    "start_time": "2023-09-17T22:30:16.201Z"
   },
   {
    "duration": 33234,
    "start_time": "2023-09-17T22:30:49.121Z"
   },
   {
    "duration": 49289,
    "start_time": "2023-09-17T22:32:05.998Z"
   },
   {
    "duration": 4,
    "start_time": "2023-09-17T22:44:33.026Z"
   },
   {
    "duration": 85,
    "start_time": "2023-09-17T22:44:33.034Z"
   },
   {
    "duration": 12,
    "start_time": "2023-09-17T22:44:33.122Z"
   },
   {
    "duration": 124,
    "start_time": "2023-09-17T22:44:33.137Z"
   },
   {
    "duration": 96,
    "start_time": "2023-09-17T22:44:33.280Z"
   },
   {
    "duration": 103,
    "start_time": "2023-09-17T22:44:33.378Z"
   },
   {
    "duration": 143,
    "start_time": "2023-09-17T22:44:33.483Z"
   },
   {
    "duration": 147,
    "start_time": "2023-09-17T22:44:33.628Z"
   },
   {
    "duration": 106,
    "start_time": "2023-09-17T22:44:33.777Z"
   },
   {
    "duration": 102,
    "start_time": "2023-09-17T22:44:33.884Z"
   },
   {
    "duration": 96,
    "start_time": "2023-09-17T22:44:33.988Z"
   },
   {
    "duration": 455,
    "start_time": "2023-09-17T22:44:34.086Z"
   },
   {
    "duration": 104,
    "start_time": "2023-09-17T22:44:34.543Z"
   },
   {
    "duration": 19,
    "start_time": "2023-09-17T22:44:34.649Z"
   },
   {
    "duration": 157,
    "start_time": "2023-09-17T22:44:34.669Z"
   },
   {
    "duration": 110,
    "start_time": "2023-09-17T22:44:34.828Z"
   },
   {
    "duration": 98,
    "start_time": "2023-09-17T22:44:34.939Z"
   },
   {
    "duration": 7,
    "start_time": "2023-09-17T22:44:35.041Z"
   },
   {
    "duration": 20,
    "start_time": "2023-09-17T22:44:35.050Z"
   },
   {
    "duration": 8,
    "start_time": "2023-09-17T22:44:35.072Z"
   },
   {
    "duration": 10,
    "start_time": "2023-09-17T22:44:35.082Z"
   },
   {
    "duration": 16,
    "start_time": "2023-09-17T22:44:35.094Z"
   },
   {
    "duration": 10,
    "start_time": "2023-09-17T22:44:35.123Z"
   },
   {
    "duration": 24,
    "start_time": "2023-09-17T22:44:35.135Z"
   },
   {
    "duration": 27,
    "start_time": "2023-09-17T22:44:35.161Z"
   },
   {
    "duration": 14,
    "start_time": "2023-09-17T22:44:35.189Z"
   },
   {
    "duration": 41,
    "start_time": "2023-09-17T22:44:35.205Z"
   },
   {
    "duration": 31,
    "start_time": "2023-09-17T22:44:35.248Z"
   },
   {
    "duration": 23,
    "start_time": "2023-09-17T22:44:35.280Z"
   },
   {
    "duration": 128,
    "start_time": "2023-09-17T22:44:35.305Z"
   },
   {
    "duration": 162,
    "start_time": "2023-09-17T22:44:35.434Z"
   },
   {
    "duration": 7,
    "start_time": "2023-09-17T22:44:35.597Z"
   },
   {
    "duration": 19,
    "start_time": "2023-09-17T22:44:35.606Z"
   },
   {
    "duration": 62,
    "start_time": "2023-09-17T22:44:35.626Z"
   },
   {
    "duration": 75,
    "start_time": "2023-09-17T22:44:35.690Z"
   },
   {
    "duration": 58,
    "start_time": "2023-09-17T22:44:35.767Z"
   },
   {
    "duration": 397,
    "start_time": "2023-09-17T22:44:35.827Z"
   },
   {
    "duration": 649,
    "start_time": "2023-09-17T22:44:36.228Z"
   },
   {
    "duration": 6299,
    "start_time": "2023-09-17T22:44:36.879Z"
   },
   {
    "duration": 331,
    "start_time": "2023-09-17T22:44:43.179Z"
   },
   {
    "duration": 81954,
    "start_time": "2023-09-17T22:44:43.512Z"
   },
   {
    "duration": 38661,
    "start_time": "2023-09-17T22:46:05.467Z"
   },
   {
    "duration": 764,
    "start_time": "2023-09-17T22:46:44.129Z"
   },
   {
    "duration": 430,
    "start_time": "2023-09-17T22:46:44.895Z"
   },
   {
    "duration": 532,
    "start_time": "2023-09-17T22:46:45.331Z"
   },
   {
    "duration": 5920,
    "start_time": "2023-09-17T22:46:45.866Z"
   },
   {
    "duration": 289,
    "start_time": "2023-09-17T22:46:51.787Z"
   },
   {
    "duration": 831,
    "start_time": "2023-09-17T22:46:52.078Z"
   },
   {
    "duration": 3727,
    "start_time": "2023-09-17T22:46:52.911Z"
   },
   {
    "duration": 23042,
    "start_time": "2023-09-17T22:46:56.640Z"
   },
   {
    "duration": 841,
    "start_time": "2023-09-17T22:47:19.684Z"
   },
   {
    "duration": 5,
    "start_time": "2023-09-17T22:47:20.527Z"
   },
   {
    "duration": 104,
    "start_time": "2023-09-17T22:47:20.533Z"
   },
   {
    "duration": 685,
    "start_time": "2023-09-17T22:47:20.639Z"
   },
   {
    "duration": 707,
    "start_time": "2023-09-17T22:47:21.328Z"
   },
   {
    "duration": 9389,
    "start_time": "2023-09-17T22:47:22.037Z"
   },
   {
    "duration": 424,
    "start_time": "2023-09-17T22:47:31.427Z"
   },
   {
    "duration": 8166,
    "start_time": "2023-09-17T22:47:31.853Z"
   },
   {
    "duration": 47472,
    "start_time": "2023-09-17T22:47:40.020Z"
   },
   {
    "duration": 1117,
    "start_time": "2023-09-17T22:48:27.494Z"
   },
   {
    "duration": 1163,
    "start_time": "2023-09-17T22:49:26.595Z"
   },
   {
    "duration": 1172,
    "start_time": "2023-09-17T22:49:38.755Z"
   },
   {
    "duration": 1188,
    "start_time": "2023-09-17T22:49:44.225Z"
   },
   {
    "duration": 1183,
    "start_time": "2023-09-17T22:50:12.538Z"
   },
   {
    "duration": 9,
    "start_time": "2023-09-18T10:00:43.821Z"
   },
   {
    "duration": 51,
    "start_time": "2023-09-18T10:03:09.190Z"
   },
   {
    "duration": 1151,
    "start_time": "2023-09-18T10:03:52.208Z"
   },
   {
    "duration": 91,
    "start_time": "2023-09-18T10:03:53.361Z"
   },
   {
    "duration": 18,
    "start_time": "2023-09-18T10:03:53.454Z"
   },
   {
    "duration": 590,
    "start_time": "2023-09-18T10:03:53.474Z"
   },
   {
    "duration": 109,
    "start_time": "2023-09-18T10:03:54.066Z"
   },
   {
    "duration": 102,
    "start_time": "2023-09-18T10:03:54.181Z"
   },
   {
    "duration": 131,
    "start_time": "2023-09-18T10:03:54.285Z"
   },
   {
    "duration": 160,
    "start_time": "2023-09-18T10:03:54.417Z"
   },
   {
    "duration": 181,
    "start_time": "2023-09-18T10:03:54.580Z"
   },
   {
    "duration": 104,
    "start_time": "2023-09-18T10:03:54.763Z"
   },
   {
    "duration": 103,
    "start_time": "2023-09-18T10:03:54.868Z"
   },
   {
    "duration": 395,
    "start_time": "2023-09-18T10:03:54.980Z"
   },
   {
    "duration": 109,
    "start_time": "2023-09-18T10:03:55.377Z"
   },
   {
    "duration": 21,
    "start_time": "2023-09-18T10:03:55.488Z"
   },
   {
    "duration": 173,
    "start_time": "2023-09-18T10:03:55.510Z"
   },
   {
    "duration": 123,
    "start_time": "2023-09-18T10:03:55.685Z"
   },
   {
    "duration": 106,
    "start_time": "2023-09-18T10:03:55.810Z"
   },
   {
    "duration": 8,
    "start_time": "2023-09-18T10:03:55.918Z"
   },
   {
    "duration": 16,
    "start_time": "2023-09-18T10:03:55.928Z"
   },
   {
    "duration": 47,
    "start_time": "2023-09-18T10:03:55.946Z"
   },
   {
    "duration": 21,
    "start_time": "2023-09-18T10:03:55.995Z"
   },
   {
    "duration": 38,
    "start_time": "2023-09-18T10:03:56.018Z"
   },
   {
    "duration": 17,
    "start_time": "2023-09-18T10:03:56.058Z"
   },
   {
    "duration": 62,
    "start_time": "2023-09-18T10:03:56.077Z"
   },
   {
    "duration": 13,
    "start_time": "2023-09-18T10:03:56.141Z"
   },
   {
    "duration": 41,
    "start_time": "2023-09-18T10:03:56.156Z"
   },
   {
    "duration": 47,
    "start_time": "2023-09-18T10:03:56.198Z"
   },
   {
    "duration": 55,
    "start_time": "2023-09-18T10:03:56.249Z"
   },
   {
    "duration": 19,
    "start_time": "2023-09-18T10:03:56.305Z"
   },
   {
    "duration": 65,
    "start_time": "2023-09-18T10:03:56.326Z"
   },
   {
    "duration": 196,
    "start_time": "2023-09-18T10:03:56.392Z"
   },
   {
    "duration": 8,
    "start_time": "2023-09-18T10:03:56.590Z"
   },
   {
    "duration": 37,
    "start_time": "2023-09-18T10:03:56.600Z"
   },
   {
    "duration": 82,
    "start_time": "2023-09-18T10:03:56.639Z"
   },
   {
    "duration": 93,
    "start_time": "2023-09-18T10:03:56.723Z"
   },
   {
    "duration": 52,
    "start_time": "2023-09-18T10:03:56.818Z"
   },
   {
    "duration": 405,
    "start_time": "2023-09-18T10:03:56.882Z"
   },
   {
    "duration": 763,
    "start_time": "2023-09-18T10:03:57.289Z"
   },
   {
    "duration": 6912,
    "start_time": "2023-09-18T10:03:58.054Z"
   },
   {
    "duration": 357,
    "start_time": "2023-09-18T10:04:04.968Z"
   },
   {
    "duration": 38033,
    "start_time": "2023-09-18T10:04:05.327Z"
   },
   {
    "duration": 42244,
    "start_time": "2023-09-18T10:04:43.361Z"
   },
   {
    "duration": 878,
    "start_time": "2023-09-18T10:05:25.607Z"
   },
   {
    "duration": 496,
    "start_time": "2023-09-18T10:05:26.487Z"
   },
   {
    "duration": 619,
    "start_time": "2023-09-18T10:05:26.985Z"
   },
   {
    "duration": 6958,
    "start_time": "2023-09-18T10:05:27.606Z"
   },
   {
    "duration": 319,
    "start_time": "2023-09-18T10:05:34.566Z"
   },
   {
    "duration": 924,
    "start_time": "2023-09-18T10:05:34.887Z"
   },
   {
    "duration": 4228,
    "start_time": "2023-09-18T10:05:35.813Z"
   },
   {
    "duration": 25898,
    "start_time": "2023-09-18T10:05:40.043Z"
   },
   {
    "duration": 974,
    "start_time": "2023-09-18T10:06:05.944Z"
   },
   {
    "duration": 6,
    "start_time": "2023-09-18T10:06:06.920Z"
   },
   {
    "duration": 116,
    "start_time": "2023-09-18T10:06:06.928Z"
   },
   {
    "duration": 112,
    "start_time": "2023-09-18T10:06:07.046Z"
   },
   {
    "duration": 0,
    "start_time": "2023-09-18T10:06:07.160Z"
   },
   {
    "duration": 0,
    "start_time": "2023-09-18T10:06:07.162Z"
   },
   {
    "duration": 0,
    "start_time": "2023-09-18T10:06:07.163Z"
   },
   {
    "duration": 0,
    "start_time": "2023-09-18T10:06:07.165Z"
   },
   {
    "duration": 0,
    "start_time": "2023-09-18T10:06:07.167Z"
   },
   {
    "duration": 0,
    "start_time": "2023-09-18T10:06:07.182Z"
   },
   {
    "duration": 0,
    "start_time": "2023-09-18T10:06:07.184Z"
   },
   {
    "duration": 0,
    "start_time": "2023-09-18T10:06:07.185Z"
   },
   {
    "duration": 0,
    "start_time": "2023-09-18T10:06:07.187Z"
   },
   {
    "duration": 0,
    "start_time": "2023-09-18T11:10:34.784Z"
   },
   {
    "duration": 0,
    "start_time": "2023-09-18T11:10:34.787Z"
   },
   {
    "duration": 0,
    "start_time": "2023-09-18T11:10:34.789Z"
   },
   {
    "duration": 0,
    "start_time": "2023-09-18T11:10:34.790Z"
   },
   {
    "duration": 0,
    "start_time": "2023-09-18T11:10:34.791Z"
   },
   {
    "duration": 0,
    "start_time": "2023-09-18T11:10:34.792Z"
   },
   {
    "duration": 0,
    "start_time": "2023-09-18T11:10:34.793Z"
   },
   {
    "duration": 0,
    "start_time": "2023-09-18T11:10:34.794Z"
   },
   {
    "duration": 0,
    "start_time": "2023-09-18T11:10:34.795Z"
   },
   {
    "duration": 0,
    "start_time": "2023-09-18T11:10:34.796Z"
   },
   {
    "duration": 0,
    "start_time": "2023-09-18T11:10:34.798Z"
   },
   {
    "duration": 0,
    "start_time": "2023-09-18T11:10:34.799Z"
   },
   {
    "duration": 0,
    "start_time": "2023-09-18T11:10:34.800Z"
   },
   {
    "duration": 0,
    "start_time": "2023-09-18T11:10:34.801Z"
   },
   {
    "duration": 0,
    "start_time": "2023-09-18T11:10:34.802Z"
   },
   {
    "duration": 0,
    "start_time": "2023-09-18T11:10:34.803Z"
   },
   {
    "duration": 0,
    "start_time": "2023-09-18T11:10:34.804Z"
   },
   {
    "duration": 0,
    "start_time": "2023-09-18T11:10:34.805Z"
   },
   {
    "duration": 0,
    "start_time": "2023-09-18T11:10:34.805Z"
   },
   {
    "duration": 0,
    "start_time": "2023-09-18T11:10:34.806Z"
   },
   {
    "duration": 0,
    "start_time": "2023-09-18T11:10:34.807Z"
   },
   {
    "duration": 0,
    "start_time": "2023-09-18T11:10:34.808Z"
   },
   {
    "duration": 0,
    "start_time": "2023-09-18T11:10:34.809Z"
   },
   {
    "duration": 0,
    "start_time": "2023-09-18T11:10:34.810Z"
   },
   {
    "duration": 0,
    "start_time": "2023-09-18T11:10:34.811Z"
   },
   {
    "duration": 0,
    "start_time": "2023-09-18T11:10:34.812Z"
   },
   {
    "duration": 0,
    "start_time": "2023-09-18T11:10:34.813Z"
   },
   {
    "duration": 0,
    "start_time": "2023-09-18T11:10:34.814Z"
   },
   {
    "duration": 0,
    "start_time": "2023-09-18T11:10:34.815Z"
   },
   {
    "duration": 0,
    "start_time": "2023-09-18T11:10:34.816Z"
   },
   {
    "duration": 0,
    "start_time": "2023-09-18T11:10:34.817Z"
   },
   {
    "duration": 0,
    "start_time": "2023-09-18T11:10:34.817Z"
   },
   {
    "duration": 0,
    "start_time": "2023-09-18T11:10:34.818Z"
   },
   {
    "duration": 0,
    "start_time": "2023-09-18T11:10:34.881Z"
   },
   {
    "duration": 0,
    "start_time": "2023-09-18T11:10:34.882Z"
   },
   {
    "duration": 0,
    "start_time": "2023-09-18T11:10:34.884Z"
   },
   {
    "duration": 0,
    "start_time": "2023-09-18T11:10:34.885Z"
   },
   {
    "duration": 0,
    "start_time": "2023-09-18T11:10:34.886Z"
   },
   {
    "duration": 0,
    "start_time": "2023-09-18T11:10:34.887Z"
   },
   {
    "duration": 0,
    "start_time": "2023-09-18T11:10:34.888Z"
   },
   {
    "duration": 0,
    "start_time": "2023-09-18T11:10:34.889Z"
   },
   {
    "duration": 0,
    "start_time": "2023-09-18T11:10:34.890Z"
   },
   {
    "duration": 0,
    "start_time": "2023-09-18T11:10:34.891Z"
   },
   {
    "duration": 0,
    "start_time": "2023-09-18T11:10:34.892Z"
   },
   {
    "duration": 0,
    "start_time": "2023-09-18T11:10:34.893Z"
   },
   {
    "duration": 0,
    "start_time": "2023-09-18T11:10:34.894Z"
   },
   {
    "duration": 0,
    "start_time": "2023-09-18T11:10:34.895Z"
   },
   {
    "duration": 0,
    "start_time": "2023-09-18T11:10:34.896Z"
   },
   {
    "duration": 0,
    "start_time": "2023-09-18T11:10:34.898Z"
   },
   {
    "duration": 0,
    "start_time": "2023-09-18T11:10:34.898Z"
   },
   {
    "duration": 0,
    "start_time": "2023-09-18T11:10:34.900Z"
   },
   {
    "duration": 0,
    "start_time": "2023-09-18T11:10:34.901Z"
   },
   {
    "duration": 0,
    "start_time": "2023-09-18T11:10:34.902Z"
   },
   {
    "duration": 0,
    "start_time": "2023-09-18T11:10:34.903Z"
   },
   {
    "duration": 0,
    "start_time": "2023-09-18T11:10:34.904Z"
   },
   {
    "duration": 0,
    "start_time": "2023-09-18T11:10:34.905Z"
   },
   {
    "duration": 0,
    "start_time": "2023-09-18T11:10:34.906Z"
   },
   {
    "duration": 0,
    "start_time": "2023-09-18T11:10:34.908Z"
   },
   {
    "duration": 0,
    "start_time": "2023-09-18T11:10:34.909Z"
   },
   {
    "duration": 0,
    "start_time": "2023-09-18T11:10:34.910Z"
   },
   {
    "duration": 0,
    "start_time": "2023-09-18T11:10:34.911Z"
   },
   {
    "duration": 0,
    "start_time": "2023-09-18T11:10:34.913Z"
   },
   {
    "duration": 0,
    "start_time": "2023-09-18T11:10:34.914Z"
   },
   {
    "duration": 4,
    "start_time": "2023-09-18T11:11:22.547Z"
   },
   {
    "duration": 48,
    "start_time": "2023-09-18T11:11:24.519Z"
   },
   {
    "duration": 16,
    "start_time": "2023-09-18T11:11:26.697Z"
   },
   {
    "duration": 127,
    "start_time": "2023-09-18T11:11:28.468Z"
   },
   {
    "duration": 100,
    "start_time": "2023-09-18T11:11:33.898Z"
   },
   {
    "duration": 95,
    "start_time": "2023-09-18T11:11:34.219Z"
   },
   {
    "duration": 128,
    "start_time": "2023-09-18T11:11:34.752Z"
   },
   {
    "duration": 154,
    "start_time": "2023-09-18T11:11:35.185Z"
   },
   {
    "duration": 114,
    "start_time": "2023-09-18T11:11:35.648Z"
   },
   {
    "duration": 100,
    "start_time": "2023-09-18T11:11:36.066Z"
   },
   {
    "duration": 92,
    "start_time": "2023-09-18T11:11:36.497Z"
   },
   {
    "duration": 494,
    "start_time": "2023-09-18T11:11:36.949Z"
   },
   {
    "duration": 109,
    "start_time": "2023-09-18T11:11:37.445Z"
   },
   {
    "duration": 20,
    "start_time": "2023-09-18T11:11:37.806Z"
   },
   {
    "duration": 155,
    "start_time": "2023-09-18T11:11:38.306Z"
   },
   {
    "duration": 102,
    "start_time": "2023-09-18T11:11:38.753Z"
   },
   {
    "duration": 96,
    "start_time": "2023-09-18T11:11:39.259Z"
   },
   {
    "duration": 7,
    "start_time": "2023-09-18T11:11:39.651Z"
   },
   {
    "duration": 7,
    "start_time": "2023-09-18T11:11:40.105Z"
   },
   {
    "duration": 8,
    "start_time": "2023-09-18T11:11:41.070Z"
   },
   {
    "duration": 9,
    "start_time": "2023-09-18T11:11:41.431Z"
   },
   {
    "duration": 11,
    "start_time": "2023-09-18T11:11:41.862Z"
   },
   {
    "duration": 12,
    "start_time": "2023-09-18T11:11:42.273Z"
   },
   {
    "duration": 22,
    "start_time": "2023-09-18T11:11:42.777Z"
   },
   {
    "duration": 14,
    "start_time": "2023-09-18T11:11:43.174Z"
   },
   {
    "duration": 12,
    "start_time": "2023-09-18T11:11:43.600Z"
   },
   {
    "duration": 14,
    "start_time": "2023-09-18T11:11:43.990Z"
   },
   {
    "duration": 12,
    "start_time": "2023-09-18T11:11:44.959Z"
   },
   {
    "duration": 5,
    "start_time": "2023-09-18T11:11:45.391Z"
   },
   {
    "duration": 63,
    "start_time": "2023-09-18T11:11:46.300Z"
   },
   {
    "duration": 223,
    "start_time": "2023-09-18T11:11:46.680Z"
   },
   {
    "duration": 7,
    "start_time": "2023-09-18T11:11:47.441Z"
   },
   {
    "duration": 7,
    "start_time": "2023-09-18T11:11:47.801Z"
   },
   {
    "duration": 46,
    "start_time": "2023-09-18T11:11:48.138Z"
   },
   {
    "duration": 72,
    "start_time": "2023-09-18T11:11:48.626Z"
   },
   {
    "duration": 50,
    "start_time": "2023-09-18T11:11:49.171Z"
   },
   {
    "duration": 376,
    "start_time": "2023-09-18T11:11:52.232Z"
   },
   {
    "duration": 565,
    "start_time": "2023-09-18T11:11:53.855Z"
   },
   {
    "duration": 7034,
    "start_time": "2023-09-18T11:11:54.914Z"
   },
   {
    "duration": 356,
    "start_time": "2023-09-18T11:12:01.950Z"
   },
   {
    "duration": 38370,
    "start_time": "2023-09-18T11:12:04.945Z"
   },
   {
    "duration": 42570,
    "start_time": "2023-09-18T11:12:43.317Z"
   },
   {
    "duration": 878,
    "start_time": "2023-09-18T11:13:25.889Z"
   },
   {
    "duration": 437,
    "start_time": "2023-09-18T11:13:32.248Z"
   },
   {
    "duration": 467,
    "start_time": "2023-09-18T11:13:33.273Z"
   },
   {
    "duration": 6565,
    "start_time": "2023-09-18T11:13:33.816Z"
   },
   {
    "duration": 307,
    "start_time": "2023-09-18T11:13:40.383Z"
   },
   {
    "duration": 921,
    "start_time": "2023-09-18T11:13:40.692Z"
   },
   {
    "duration": 4118,
    "start_time": "2023-09-18T11:13:41.616Z"
   },
   {
    "duration": 25783,
    "start_time": "2023-09-18T11:13:45.736Z"
   },
   {
    "duration": 911,
    "start_time": "2023-09-18T11:14:11.521Z"
   },
   {
    "duration": 6,
    "start_time": "2023-09-18T11:14:15.566Z"
   },
   {
    "duration": 83,
    "start_time": "2023-09-18T11:14:16.042Z"
   },
   {
    "duration": 120,
    "start_time": "2023-09-18T11:14:17.634Z"
   },
   {
    "duration": 726,
    "start_time": "2023-09-18T11:14:18.057Z"
   },
   {
    "duration": 3,
    "start_time": "2023-09-18T11:14:27.896Z"
   },
   {
    "duration": 683,
    "start_time": "2023-09-18T11:14:29.098Z"
   },
   {
    "duration": 663,
    "start_time": "2023-09-18T11:14:29.978Z"
   },
   {
    "duration": 10093,
    "start_time": "2023-09-18T11:14:31.025Z"
   },
   {
    "duration": 460,
    "start_time": "2023-09-18T11:14:41.970Z"
   },
   {
    "duration": 8856,
    "start_time": "2023-09-18T11:14:44.838Z"
   },
   {
    "duration": 52505,
    "start_time": "2023-09-18T11:14:53.696Z"
   },
   {
    "duration": 1237,
    "start_time": "2023-09-18T11:15:47.493Z"
   },
   {
    "duration": 4,
    "start_time": "2023-09-18T11:15:55.698Z"
   },
   {
    "duration": 100,
    "start_time": "2023-09-18T11:15:56.088Z"
   },
   {
    "duration": 49,
    "start_time": "2023-09-18T11:16:00.205Z"
   },
   {
    "duration": 3,
    "start_time": "2023-09-18T11:21:19.612Z"
   },
   {
    "duration": 111,
    "start_time": "2023-09-18T11:21:28.683Z"
   },
   {
    "duration": 49,
    "start_time": "2023-09-18T11:21:40.654Z"
   },
   {
    "duration": 3188,
    "start_time": "2023-09-18T11:21:42.022Z"
   },
   {
    "duration": 151,
    "start_time": "2023-09-18T11:26:12.452Z"
   },
   {
    "duration": 2502,
    "start_time": "2023-09-18T11:30:13.012Z"
   },
   {
    "duration": 4211,
    "start_time": "2023-09-18T11:30:29.152Z"
   },
   {
    "duration": 2404,
    "start_time": "2023-09-18T11:31:22.736Z"
   },
   {
    "duration": 2506,
    "start_time": "2023-09-18T11:31:34.953Z"
   },
   {
    "duration": 137,
    "start_time": "2023-09-18T11:32:16.164Z"
   },
   {
    "duration": 2126,
    "start_time": "2023-09-18T11:38:38.612Z"
   },
   {
    "duration": 129,
    "start_time": "2023-09-18T11:44:17.441Z"
   },
   {
    "duration": 3406,
    "start_time": "2023-09-18T11:44:44.190Z"
   },
   {
    "duration": 2837,
    "start_time": "2023-09-18T11:53:24.518Z"
   },
   {
    "duration": 8968,
    "start_time": "2023-09-18T11:53:47.066Z"
   },
   {
    "duration": 17921,
    "start_time": "2023-09-18T11:54:43.212Z"
   },
   {
    "duration": 89,
    "start_time": "2023-09-18T11:57:31.583Z"
   },
   {
    "duration": 11,
    "start_time": "2023-09-18T11:57:47.295Z"
   },
   {
    "duration": 486,
    "start_time": "2023-09-18T11:58:20.246Z"
   },
   {
    "duration": 435,
    "start_time": "2023-09-18T12:02:41.247Z"
   },
   {
    "duration": 416,
    "start_time": "2023-09-18T12:03:41.766Z"
   },
   {
    "duration": 303,
    "start_time": "2023-09-18T12:06:35.337Z"
   },
   {
    "duration": 889,
    "start_time": "2023-09-18T12:07:02.358Z"
   },
   {
    "duration": 679,
    "start_time": "2023-09-18T12:08:09.207Z"
   },
   {
    "duration": 526,
    "start_time": "2023-09-18T12:10:46.581Z"
   },
   {
    "duration": 499,
    "start_time": "2023-09-18T12:11:27.078Z"
   },
   {
    "duration": 1287,
    "start_time": "2023-09-18T12:11:28.233Z"
   },
   {
    "duration": 4932,
    "start_time": "2023-09-18T12:11:59.072Z"
   },
   {
    "duration": 140,
    "start_time": "2023-09-18T12:12:25.779Z"
   },
   {
    "duration": 49,
    "start_time": "2023-09-19T12:08:29.066Z"
   },
   {
    "duration": 1203,
    "start_time": "2023-09-19T12:08:34.086Z"
   },
   {
    "duration": 92,
    "start_time": "2023-09-19T12:08:35.292Z"
   },
   {
    "duration": 21,
    "start_time": "2023-09-19T12:08:35.386Z"
   },
   {
    "duration": 611,
    "start_time": "2023-09-19T12:08:35.409Z"
   },
   {
    "duration": 121,
    "start_time": "2023-09-19T12:08:36.022Z"
   },
   {
    "duration": 109,
    "start_time": "2023-09-19T12:08:36.144Z"
   },
   {
    "duration": 150,
    "start_time": "2023-09-19T12:08:36.255Z"
   },
   {
    "duration": 175,
    "start_time": "2023-09-19T12:08:36.406Z"
   },
   {
    "duration": 200,
    "start_time": "2023-09-19T12:08:36.582Z"
   },
   {
    "duration": 160,
    "start_time": "2023-09-19T12:08:36.785Z"
   },
   {
    "duration": 118,
    "start_time": "2023-09-19T12:08:36.947Z"
   },
   {
    "duration": 381,
    "start_time": "2023-09-19T12:08:37.067Z"
   },
   {
    "duration": 122,
    "start_time": "2023-09-19T12:08:37.450Z"
   },
   {
    "duration": 29,
    "start_time": "2023-09-19T12:08:37.574Z"
   },
   {
    "duration": 163,
    "start_time": "2023-09-19T12:08:37.605Z"
   },
   {
    "duration": 137,
    "start_time": "2023-09-19T12:08:38.981Z"
   },
   {
    "duration": 110,
    "start_time": "2023-09-19T12:08:39.488Z"
   },
   {
    "duration": 9,
    "start_time": "2023-09-19T12:08:39.797Z"
   },
   {
    "duration": 8,
    "start_time": "2023-09-19T12:08:40.000Z"
   },
   {
    "duration": 10,
    "start_time": "2023-09-19T12:08:40.569Z"
   },
   {
    "duration": 10,
    "start_time": "2023-09-19T12:08:40.767Z"
   },
   {
    "duration": 11,
    "start_time": "2023-09-19T12:08:40.986Z"
   },
   {
    "duration": 11,
    "start_time": "2023-09-19T12:08:41.135Z"
   },
   {
    "duration": 23,
    "start_time": "2023-09-19T12:08:41.651Z"
   },
   {
    "duration": 15,
    "start_time": "2023-09-19T12:08:41.992Z"
   },
   {
    "duration": 15,
    "start_time": "2023-09-19T12:08:42.696Z"
   },
   {
    "duration": 14,
    "start_time": "2023-09-19T12:08:43.146Z"
   },
   {
    "duration": 6,
    "start_time": "2023-09-19T12:08:43.591Z"
   },
   {
    "duration": 5,
    "start_time": "2023-09-19T12:09:15.379Z"
   },
   {
    "duration": 13,
    "start_time": "2023-09-19T12:10:39.842Z"
   },
   {
    "duration": 6,
    "start_time": "2023-09-19T12:10:40.396Z"
   },
   {
    "duration": 82,
    "start_time": "2023-09-19T12:10:41.367Z"
   },
   {
    "duration": 220,
    "start_time": "2023-09-19T12:10:42.002Z"
   },
   {
    "duration": 13,
    "start_time": "2023-09-19T12:10:43.406Z"
   },
   {
    "duration": 8,
    "start_time": "2023-09-19T12:10:44.000Z"
   },
   {
    "duration": 67,
    "start_time": "2023-09-19T12:10:44.521Z"
   },
   {
    "duration": 86,
    "start_time": "2023-09-19T12:10:48.661Z"
   },
   {
    "duration": 61,
    "start_time": "2023-09-19T12:10:50.468Z"
   },
   {
    "duration": 39,
    "start_time": "2023-09-19T12:12:24.438Z"
   },
   {
    "duration": 582,
    "start_time": "2023-09-19T12:17:42.347Z"
   },
   {
    "duration": 673,
    "start_time": "2023-09-19T12:17:49.737Z"
   },
   {
    "duration": 624,
    "start_time": "2023-09-19T12:18:01.378Z"
   },
   {
    "duration": 628,
    "start_time": "2023-09-19T12:18:22.973Z"
   },
   {
    "duration": 687,
    "start_time": "2023-09-19T12:18:45.166Z"
   },
   {
    "duration": 8007,
    "start_time": "2023-09-19T12:19:28.008Z"
   },
   {
    "duration": 8028,
    "start_time": "2023-09-19T12:20:03.333Z"
   },
   {
    "duration": 408,
    "start_time": "2023-09-19T12:21:12.283Z"
   },
   {
    "duration": 42388,
    "start_time": "2023-09-19T12:21:30.054Z"
   },
   {
    "duration": 45921,
    "start_time": "2023-09-19T12:23:22.765Z"
   },
   {
    "duration": 921,
    "start_time": "2023-09-19T12:24:50.101Z"
   },
   {
    "duration": 926,
    "start_time": "2023-09-19T12:24:55.849Z"
   },
   {
    "duration": 751,
    "start_time": "2023-09-19T12:25:38.150Z"
   },
   {
    "duration": 541,
    "start_time": "2023-09-19T12:25:57.382Z"
   },
   {
    "duration": 7464,
    "start_time": "2023-09-19T12:26:32.241Z"
   },
   {
    "duration": 345,
    "start_time": "2023-09-19T12:27:29.665Z"
   },
   {
    "duration": 940,
    "start_time": "2023-09-19T12:27:46.043Z"
   },
   {
    "duration": 4974,
    "start_time": "2023-09-19T12:27:59.695Z"
   },
   {
    "duration": 28735,
    "start_time": "2023-09-19T12:28:53.388Z"
   },
   {
    "duration": 1067,
    "start_time": "2023-09-19T12:33:59.248Z"
   },
   {
    "duration": 85,
    "start_time": "2023-09-19T12:34:23.096Z"
   },
   {
    "duration": 973,
    "start_time": "2023-09-19T12:34:27.823Z"
   },
   {
    "duration": 5,
    "start_time": "2023-09-19T12:34:28.802Z"
   },
   {
    "duration": 113,
    "start_time": "2023-09-19T12:34:28.808Z"
   },
   {
    "duration": 3,
    "start_time": "2023-09-19T12:34:29.052Z"
   },
   {
    "duration": 859,
    "start_time": "2023-09-19T12:34:31.171Z"
   },
   {
    "duration": 764,
    "start_time": "2023-09-19T12:34:37.840Z"
   },
   {
    "duration": 11114,
    "start_time": "2023-09-19T12:34:54.667Z"
   },
   {
    "duration": 507,
    "start_time": "2023-09-19T12:35:43.868Z"
   },
   {
    "duration": 10036,
    "start_time": "2023-09-19T12:40:57.198Z"
   },
   {
    "duration": 55370,
    "start_time": "2023-09-19T12:41:59.236Z"
   },
   {
    "duration": 1262,
    "start_time": "2023-09-19T12:43:19.093Z"
   },
   {
    "duration": 11,
    "start_time": "2023-09-19T12:43:44.467Z"
   },
   {
    "duration": 1291,
    "start_time": "2023-09-19T12:43:48.999Z"
   },
   {
    "duration": 8,
    "start_time": "2023-09-19T12:43:50.293Z"
   },
   {
    "duration": 68,
    "start_time": "2023-09-19T12:43:50.303Z"
   },
   {
    "duration": 3698,
    "start_time": "2023-09-19T12:43:51.504Z"
   },
   {
    "duration": 201,
    "start_time": "2023-09-19T12:44:05.000Z"
   },
   {
    "duration": 3315,
    "start_time": "2023-09-19T12:44:19.926Z"
   },
   {
    "duration": 173,
    "start_time": "2023-09-19T12:44:50.939Z"
   },
   {
    "duration": 2476,
    "start_time": "2023-09-19T12:45:01.284Z"
   },
   {
    "duration": 4284,
    "start_time": "2023-09-19T12:45:16.058Z"
   },
   {
    "duration": 21645,
    "start_time": "2023-09-19T13:05:25.878Z"
   },
   {
    "duration": 541,
    "start_time": "2023-09-19T13:06:26.685Z"
   },
   {
    "duration": 619,
    "start_time": "2023-09-19T13:07:33.889Z"
   },
   {
    "duration": 632,
    "start_time": "2023-09-19T13:08:31.771Z"
   },
   {
    "duration": 368,
    "start_time": "2023-09-19T13:08:38.555Z"
   },
   {
    "duration": 950,
    "start_time": "2023-09-19T13:09:12.570Z"
   },
   {
    "duration": 992,
    "start_time": "2023-09-19T13:09:23.510Z"
   },
   {
    "duration": 497,
    "start_time": "2023-09-19T13:09:27.593Z"
   },
   {
    "duration": 1334,
    "start_time": "2023-09-19T13:09:31.720Z"
   },
   {
    "duration": 6372,
    "start_time": "2023-09-19T13:09:43.131Z"
   },
   {
    "duration": 208,
    "start_time": "2023-09-19T13:09:54.803Z"
   },
   {
    "duration": 587,
    "start_time": "2023-09-19T13:10:41.614Z"
   },
   {
    "duration": 17,
    "start_time": "2023-09-19T16:10:41.505Z"
   },
   {
    "duration": 1588,
    "start_time": "2023-09-19T16:10:45.341Z"
   },
   {
    "duration": 0,
    "start_time": "2023-09-19T16:10:46.931Z"
   },
   {
    "duration": 4,
    "start_time": "2023-09-19T16:10:51.527Z"
   },
   {
    "duration": 51,
    "start_time": "2023-09-19T16:10:53.949Z"
   },
   {
    "duration": 17,
    "start_time": "2023-09-19T16:10:55.570Z"
   },
   {
    "duration": 142,
    "start_time": "2023-09-19T16:10:56.676Z"
   },
   {
    "duration": 147,
    "start_time": "2023-09-19T16:12:00.676Z"
   },
   {
    "duration": 109,
    "start_time": "2023-09-19T16:12:01.007Z"
   },
   {
    "duration": 99,
    "start_time": "2023-09-19T16:12:06.012Z"
   },
   {
    "duration": 131,
    "start_time": "2023-09-19T16:12:09.099Z"
   },
   {
    "duration": 253,
    "start_time": "2023-09-19T16:12:16.643Z"
   },
   {
    "duration": 175,
    "start_time": "2023-09-19T16:12:27.329Z"
   },
   {
    "duration": 107,
    "start_time": "2023-09-19T16:12:30.925Z"
   },
   {
    "duration": 122,
    "start_time": "2023-09-19T16:12:31.440Z"
   },
   {
    "duration": 103,
    "start_time": "2023-09-19T16:12:34.085Z"
   },
   {
    "duration": 472,
    "start_time": "2023-09-19T16:12:34.540Z"
   },
   {
    "duration": 109,
    "start_time": "2023-09-19T16:12:36.550Z"
   },
   {
    "duration": 149,
    "start_time": "2023-09-19T16:15:27.778Z"
   },
   {
    "duration": 168,
    "start_time": "2023-09-19T16:23:54.867Z"
   },
   {
    "duration": 118,
    "start_time": "2023-09-19T16:23:55.170Z"
   },
   {
    "duration": 32,
    "start_time": "2023-09-19T16:33:53.132Z"
   },
   {
    "duration": 29,
    "start_time": "2023-09-19T16:33:53.460Z"
   },
   {
    "duration": 1318,
    "start_time": "2023-09-19T19:33:00.244Z"
   },
   {
    "duration": 114,
    "start_time": "2023-09-19T19:33:01.565Z"
   },
   {
    "duration": 33,
    "start_time": "2023-09-19T19:33:01.681Z"
   },
   {
    "duration": 731,
    "start_time": "2023-09-19T19:33:01.717Z"
   },
   {
    "duration": 183,
    "start_time": "2023-09-19T19:33:02.450Z"
   },
   {
    "duration": 136,
    "start_time": "2023-09-19T19:33:02.635Z"
   },
   {
    "duration": 165,
    "start_time": "2023-09-19T19:33:02.772Z"
   },
   {
    "duration": 192,
    "start_time": "2023-09-19T19:33:02.939Z"
   },
   {
    "duration": 212,
    "start_time": "2023-09-19T19:33:03.133Z"
   },
   {
    "duration": 122,
    "start_time": "2023-09-19T19:33:03.349Z"
   },
   {
    "duration": 112,
    "start_time": "2023-09-19T19:33:03.473Z"
   },
   {
    "duration": 486,
    "start_time": "2023-09-19T19:33:03.587Z"
   },
   {
    "duration": 144,
    "start_time": "2023-09-19T19:33:04.075Z"
   },
   {
    "duration": 31,
    "start_time": "2023-09-19T19:33:04.224Z"
   },
   {
    "duration": 208,
    "start_time": "2023-09-19T19:33:04.258Z"
   },
   {
    "duration": 196,
    "start_time": "2023-09-19T19:33:04.468Z"
   },
   {
    "duration": 166,
    "start_time": "2023-09-19T19:33:04.666Z"
   },
   {
    "duration": 11,
    "start_time": "2023-09-19T19:33:04.834Z"
   },
   {
    "duration": 165,
    "start_time": "2023-09-19T19:33:04.847Z"
   },
   {
    "duration": 49,
    "start_time": "2023-09-19T19:33:05.014Z"
   },
   {
    "duration": 21,
    "start_time": "2023-09-19T19:33:05.065Z"
   },
   {
    "duration": 35,
    "start_time": "2023-09-19T19:33:05.088Z"
   },
   {
    "duration": 16,
    "start_time": "2023-09-19T19:33:05.126Z"
   },
   {
    "duration": 26,
    "start_time": "2023-09-19T19:33:05.143Z"
   },
   {
    "duration": 30,
    "start_time": "2023-09-19T19:33:05.171Z"
   },
   {
    "duration": 27,
    "start_time": "2023-09-19T19:33:05.204Z"
   },
   {
    "duration": 88,
    "start_time": "2023-09-19T19:33:05.232Z"
   },
   {
    "duration": 89,
    "start_time": "2023-09-19T19:33:05.327Z"
   },
   {
    "duration": 32,
    "start_time": "2023-09-19T19:33:05.418Z"
   },
   {
    "duration": 137,
    "start_time": "2023-09-19T19:33:05.452Z"
   },
   {
    "duration": 35,
    "start_time": "2023-09-19T19:33:05.591Z"
   },
   {
    "duration": 111,
    "start_time": "2023-09-19T19:33:05.628Z"
   },
   {
    "duration": 213,
    "start_time": "2023-09-19T19:33:05.741Z"
   },
   {
    "duration": 8,
    "start_time": "2023-09-19T19:33:05.956Z"
   },
   {
    "duration": 56,
    "start_time": "2023-09-19T19:33:05.965Z"
   },
   {
    "duration": 77,
    "start_time": "2023-09-19T19:33:06.023Z"
   },
   {
    "duration": 121,
    "start_time": "2023-09-19T19:33:06.102Z"
   },
   {
    "duration": 39,
    "start_time": "2023-09-19T19:33:06.226Z"
   },
   {
    "duration": 657,
    "start_time": "2023-09-19T19:33:06.267Z"
   },
   {
    "duration": 803,
    "start_time": "2023-09-19T19:33:06.927Z"
   },
   {
    "duration": 8032,
    "start_time": "2023-09-19T19:33:07.731Z"
   },
   {
    "duration": 404,
    "start_time": "2023-09-19T19:33:15.764Z"
   },
   {
    "duration": 43765,
    "start_time": "2023-09-19T19:33:16.170Z"
   },
   {
    "duration": 46807,
    "start_time": "2023-09-19T19:33:59.937Z"
   },
   {
    "duration": 886,
    "start_time": "2023-09-19T19:34:46.746Z"
   },
   {
    "duration": 668,
    "start_time": "2023-09-19T19:34:47.634Z"
   },
   {
    "duration": 659,
    "start_time": "2023-09-19T19:34:48.304Z"
   },
   {
    "duration": 7708,
    "start_time": "2023-09-19T19:34:48.964Z"
   },
   {
    "duration": 378,
    "start_time": "2023-09-19T19:34:56.674Z"
   },
   {
    "duration": 970,
    "start_time": "2023-09-19T19:34:57.053Z"
   },
   {
    "duration": 5146,
    "start_time": "2023-09-19T19:34:58.025Z"
   },
   {
    "duration": 28788,
    "start_time": "2023-09-19T19:35:03.173Z"
   },
   {
    "duration": 1014,
    "start_time": "2023-09-19T19:35:31.963Z"
   },
   {
    "duration": 7,
    "start_time": "2023-09-19T19:35:32.979Z"
   },
   {
    "duration": 168,
    "start_time": "2023-09-19T19:35:33.000Z"
   },
   {
    "duration": 4,
    "start_time": "2023-09-19T19:35:33.170Z"
   },
   {
    "duration": 1036,
    "start_time": "2023-09-19T19:35:33.176Z"
   },
   {
    "duration": 920,
    "start_time": "2023-09-19T19:35:34.218Z"
   },
   {
    "duration": 11643,
    "start_time": "2023-09-19T19:35:35.140Z"
   },
   {
    "duration": 534,
    "start_time": "2023-09-19T19:35:46.785Z"
   },
   {
    "duration": 10458,
    "start_time": "2023-09-19T19:35:47.322Z"
   },
   {
    "duration": 1234,
    "start_time": "2023-09-20T22:34:49.536Z"
   },
   {
    "duration": 107,
    "start_time": "2023-09-20T22:34:52.878Z"
   },
   {
    "duration": 18,
    "start_time": "2023-09-20T22:34:56.861Z"
   },
   {
    "duration": 549,
    "start_time": "2023-09-20T22:35:35.278Z"
   },
   {
    "duration": 138,
    "start_time": "2023-09-20T22:35:52.829Z"
   },
   {
    "duration": 125,
    "start_time": "2023-09-20T22:36:14.297Z"
   },
   {
    "duration": 103,
    "start_time": "2023-09-20T22:38:03.262Z"
   },
   {
    "duration": 4,
    "start_time": "2023-09-20T22:38:33.974Z"
   },
   {
    "duration": 137,
    "start_time": "2023-09-20T22:38:38.212Z"
   },
   {
    "duration": 137,
    "start_time": "2023-09-20T22:39:35.393Z"
   },
   {
    "duration": 175,
    "start_time": "2023-09-20T22:51:20.048Z"
   },
   {
    "duration": 114,
    "start_time": "2023-09-20T22:51:52.602Z"
   },
   {
    "duration": 102,
    "start_time": "2023-09-20T22:52:00.625Z"
   },
   {
    "duration": 49,
    "start_time": "2023-09-21T23:44:48.075Z"
   },
   {
    "duration": 1590,
    "start_time": "2023-09-21T23:44:57.593Z"
   },
   {
    "duration": 95,
    "start_time": "2023-09-21T23:44:59.185Z"
   },
   {
    "duration": 17,
    "start_time": "2023-09-21T23:45:00.166Z"
   },
   {
    "duration": 169,
    "start_time": "2023-09-21T23:45:00.721Z"
   },
   {
    "duration": 112,
    "start_time": "2023-09-21T23:45:01.047Z"
   },
   {
    "duration": 114,
    "start_time": "2023-09-21T23:45:01.712Z"
   },
   {
    "duration": 178,
    "start_time": "2023-09-21T23:45:02.260Z"
   },
   {
    "duration": 246,
    "start_time": "2023-09-21T23:45:03.142Z"
   },
   {
    "duration": 127,
    "start_time": "2023-09-21T23:45:04.870Z"
   },
   {
    "duration": 101,
    "start_time": "2023-09-21T23:45:06.159Z"
   },
   {
    "duration": 120,
    "start_time": "2023-09-21T23:45:53.141Z"
   },
   {
    "duration": 117,
    "start_time": "2023-09-21T23:46:52.218Z"
   },
   {
    "duration": 393,
    "start_time": "2023-09-21T23:48:46.672Z"
   },
   {
    "duration": 115,
    "start_time": "2023-09-21T23:49:47.533Z"
   },
   {
    "duration": 1510,
    "start_time": "2023-09-22T00:02:58.691Z"
   },
   {
    "duration": 54,
    "start_time": "2023-09-22T00:03:00.203Z"
   },
   {
    "duration": 144,
    "start_time": "2023-09-22T00:03:00.259Z"
   },
   {
    "duration": 645,
    "start_time": "2023-09-22T00:03:00.405Z"
   },
   {
    "duration": 125,
    "start_time": "2023-09-22T00:03:01.052Z"
   },
   {
    "duration": 118,
    "start_time": "2023-09-22T00:03:01.179Z"
   },
   {
    "duration": 183,
    "start_time": "2023-09-22T00:03:01.300Z"
   },
   {
    "duration": 218,
    "start_time": "2023-09-22T00:03:01.485Z"
   },
   {
    "duration": 541,
    "start_time": "2023-09-22T00:03:01.705Z"
   },
   {
    "duration": 326,
    "start_time": "2023-09-22T00:03:02.249Z"
   },
   {
    "duration": 121,
    "start_time": "2023-09-22T00:03:02.577Z"
   },
   {
    "duration": 407,
    "start_time": "2023-09-22T00:03:02.700Z"
   },
   {
    "duration": 129,
    "start_time": "2023-09-22T00:03:03.109Z"
   },
   {
    "duration": 20,
    "start_time": "2023-09-22T00:03:03.240Z"
   },
   {
    "duration": 153,
    "start_time": "2023-09-22T00:03:03.261Z"
   },
   {
    "duration": 129,
    "start_time": "2023-09-22T00:03:03.416Z"
   },
   {
    "duration": 7,
    "start_time": "2023-09-22T00:03:03.547Z"
   },
   {
    "duration": 26,
    "start_time": "2023-09-22T00:03:03.555Z"
   },
   {
    "duration": 30,
    "start_time": "2023-09-22T00:03:03.583Z"
   },
   {
    "duration": 26,
    "start_time": "2023-09-22T00:03:03.615Z"
   },
   {
    "duration": 28,
    "start_time": "2023-09-22T00:03:03.643Z"
   },
   {
    "duration": 10,
    "start_time": "2023-09-22T00:03:03.673Z"
   },
   {
    "duration": 23,
    "start_time": "2023-09-22T00:03:03.685Z"
   },
   {
    "duration": 57,
    "start_time": "2023-09-22T00:03:03.710Z"
   },
   {
    "duration": 14,
    "start_time": "2023-09-22T00:03:03.769Z"
   },
   {
    "duration": 33,
    "start_time": "2023-09-22T00:03:03.785Z"
   },
   {
    "duration": 71,
    "start_time": "2023-09-22T00:03:03.819Z"
   },
   {
    "duration": 6,
    "start_time": "2023-09-22T00:03:03.894Z"
   },
   {
    "duration": 61,
    "start_time": "2023-09-22T00:03:03.901Z"
   },
   {
    "duration": 41,
    "start_time": "2023-09-22T00:03:03.964Z"
   },
   {
    "duration": 82,
    "start_time": "2023-09-22T00:03:04.007Z"
   },
   {
    "duration": 196,
    "start_time": "2023-09-22T00:03:04.091Z"
   },
   {
    "duration": 13,
    "start_time": "2023-09-22T00:03:04.289Z"
   },
   {
    "duration": 56,
    "start_time": "2023-09-22T00:03:04.304Z"
   },
   {
    "duration": 69,
    "start_time": "2023-09-22T00:03:04.362Z"
   },
   {
    "duration": 84,
    "start_time": "2023-09-22T00:03:04.433Z"
   },
   {
    "duration": 50,
    "start_time": "2023-09-22T00:03:04.518Z"
   },
   {
    "duration": 631,
    "start_time": "2023-09-22T00:03:04.570Z"
   },
   {
    "duration": 724,
    "start_time": "2023-09-22T00:03:05.203Z"
   },
   {
    "duration": 7307,
    "start_time": "2023-09-22T00:03:05.928Z"
   },
   {
    "duration": 372,
    "start_time": "2023-09-22T00:03:13.237Z"
   },
   {
    "duration": 39794,
    "start_time": "2023-09-22T00:03:13.611Z"
   },
   {
    "duration": 42634,
    "start_time": "2023-09-22T00:03:53.407Z"
   },
   {
    "duration": 890,
    "start_time": "2023-09-22T00:04:36.043Z"
   },
   {
    "duration": 591,
    "start_time": "2023-09-22T00:04:36.935Z"
   },
   {
    "duration": 666,
    "start_time": "2023-09-22T00:04:37.529Z"
   },
   {
    "duration": 7087,
    "start_time": "2023-09-22T00:04:38.196Z"
   },
   {
    "duration": 339,
    "start_time": "2023-09-22T00:04:45.285Z"
   },
   {
    "duration": 895,
    "start_time": "2023-09-22T00:04:45.626Z"
   },
   {
    "duration": 4853,
    "start_time": "2023-09-22T00:04:46.522Z"
   },
   {
    "duration": 27149,
    "start_time": "2023-09-22T00:04:51.377Z"
   },
   {
    "duration": 949,
    "start_time": "2023-09-22T00:05:18.528Z"
   },
   {
    "duration": 6,
    "start_time": "2023-09-22T00:05:19.478Z"
   },
   {
    "duration": 110,
    "start_time": "2023-09-22T00:05:19.485Z"
   },
   {
    "duration": 6,
    "start_time": "2023-09-22T00:05:19.597Z"
   },
   {
    "duration": 897,
    "start_time": "2023-09-22T00:05:19.605Z"
   },
   {
    "duration": 804,
    "start_time": "2023-09-22T00:05:20.505Z"
   },
   {
    "duration": 10791,
    "start_time": "2023-09-22T00:05:21.311Z"
   },
   {
    "duration": 488,
    "start_time": "2023-09-22T00:05:32.103Z"
   },
   {
    "duration": 9733,
    "start_time": "2023-09-22T00:05:32.593Z"
   },
   {
    "duration": 55150,
    "start_time": "2023-09-22T00:05:42.329Z"
   },
   {
    "duration": 1364,
    "start_time": "2023-09-22T00:06:37.481Z"
   },
   {
    "duration": 4,
    "start_time": "2023-09-22T00:06:38.846Z"
   },
   {
    "duration": 72,
    "start_time": "2023-09-22T00:06:38.852Z"
   },
   {
    "duration": 4579,
    "start_time": "2023-09-22T00:06:38.926Z"
   },
   {
    "duration": 289,
    "start_time": "2023-09-22T00:06:43.507Z"
   },
   {
    "duration": 3349,
    "start_time": "2023-09-22T00:06:43.797Z"
   },
   {
    "duration": 176,
    "start_time": "2023-09-22T00:06:47.148Z"
   },
   {
    "duration": 2353,
    "start_time": "2023-09-22T00:06:47.325Z"
   },
   {
    "duration": 4367,
    "start_time": "2023-09-22T00:06:49.680Z"
   },
   {
    "duration": 21013,
    "start_time": "2023-09-22T00:06:54.049Z"
   },
   {
    "duration": 576,
    "start_time": "2023-09-22T00:07:15.064Z"
   },
   {
    "duration": 663,
    "start_time": "2023-09-22T00:07:15.642Z"
   },
   {
    "duration": 444,
    "start_time": "2023-09-22T00:07:16.307Z"
   },
   {
    "duration": 927,
    "start_time": "2023-09-22T00:07:16.752Z"
   },
   {
    "duration": 924,
    "start_time": "2023-09-22T00:07:17.681Z"
   },
   {
    "duration": 574,
    "start_time": "2023-09-22T00:07:18.616Z"
   },
   {
    "duration": 1322,
    "start_time": "2023-09-22T00:07:19.192Z"
   },
   {
    "duration": 4117,
    "start_time": "2023-09-22T00:07:20.516Z"
   },
   {
    "duration": 326,
    "start_time": "2023-09-22T00:07:24.635Z"
   },
   {
    "duration": 575,
    "start_time": "2023-09-22T00:07:24.963Z"
   },
   {
    "duration": 77,
    "start_time": "2023-09-25T11:58:25.112Z"
   },
   {
    "duration": 39,
    "start_time": "2023-09-25T11:58:31.502Z"
   },
   {
    "duration": 1504,
    "start_time": "2023-09-25T11:58:38.331Z"
   },
   {
    "duration": 163,
    "start_time": "2023-09-25T11:58:39.837Z"
   },
   {
    "duration": 14,
    "start_time": "2023-09-25T11:58:40.002Z"
   },
   {
    "duration": 149,
    "start_time": "2023-09-25T11:58:40.017Z"
   },
   {
    "duration": 106,
    "start_time": "2023-09-25T11:58:40.168Z"
   },
   {
    "duration": 110,
    "start_time": "2023-09-25T11:58:40.275Z"
   },
   {
    "duration": 143,
    "start_time": "2023-09-25T11:58:40.387Z"
   },
   {
    "duration": 215,
    "start_time": "2023-09-25T11:58:40.531Z"
   },
   {
    "duration": 120,
    "start_time": "2023-09-25T11:58:40.747Z"
   },
   {
    "duration": 121,
    "start_time": "2023-09-25T11:58:40.868Z"
   },
   {
    "duration": 119,
    "start_time": "2023-09-25T11:58:40.990Z"
   },
   {
    "duration": 389,
    "start_time": "2023-09-25T11:58:41.111Z"
   },
   {
    "duration": 127,
    "start_time": "2023-09-25T11:58:41.502Z"
   },
   {
    "duration": 26,
    "start_time": "2023-09-25T11:58:41.632Z"
   },
   {
    "duration": 123,
    "start_time": "2023-09-25T11:58:41.659Z"
   },
   {
    "duration": 111,
    "start_time": "2023-09-25T11:58:41.783Z"
   },
   {
    "duration": 8,
    "start_time": "2023-09-25T11:58:41.895Z"
   },
   {
    "duration": 38,
    "start_time": "2023-09-25T11:58:41.904Z"
   },
   {
    "duration": 14,
    "start_time": "2023-09-25T11:58:41.944Z"
   },
   {
    "duration": 10,
    "start_time": "2023-09-25T11:58:41.959Z"
   },
   {
    "duration": 23,
    "start_time": "2023-09-25T11:58:41.970Z"
   },
   {
    "duration": 27,
    "start_time": "2023-09-25T11:58:41.994Z"
   },
   {
    "duration": 34,
    "start_time": "2023-09-25T11:58:42.023Z"
   },
   {
    "duration": 87,
    "start_time": "2023-09-25T11:58:42.058Z"
   },
   {
    "duration": 0,
    "start_time": "2023-09-25T11:58:42.147Z"
   },
   {
    "duration": 0,
    "start_time": "2023-09-25T11:58:42.148Z"
   },
   {
    "duration": 0,
    "start_time": "2023-09-25T11:58:42.149Z"
   },
   {
    "duration": 0,
    "start_time": "2023-09-25T11:58:42.151Z"
   },
   {
    "duration": 0,
    "start_time": "2023-09-25T11:58:42.151Z"
   },
   {
    "duration": 0,
    "start_time": "2023-09-25T11:58:42.153Z"
   },
   {
    "duration": 0,
    "start_time": "2023-09-25T11:58:42.154Z"
   },
   {
    "duration": 20,
    "start_time": "2023-09-25T11:59:46.240Z"
   },
   {
    "duration": 13,
    "start_time": "2023-09-25T11:59:48.207Z"
   },
   {
    "duration": 12,
    "start_time": "2023-09-25T11:59:51.438Z"
   },
   {
    "duration": 6,
    "start_time": "2023-09-25T11:59:54.752Z"
   },
   {
    "duration": 4,
    "start_time": "2023-09-25T11:59:55.123Z"
   },
   {
    "duration": 11,
    "start_time": "2023-09-25T11:59:58.134Z"
   },
   {
    "duration": 4,
    "start_time": "2023-09-25T11:59:58.767Z"
   },
   {
    "duration": 4,
    "start_time": "2023-09-25T12:00:01.112Z"
   },
   {
    "duration": 16,
    "start_time": "2023-09-25T12:00:12.754Z"
   },
   {
    "duration": 3,
    "start_time": "2023-09-25T12:00:37.722Z"
   },
   {
    "duration": 47,
    "start_time": "2023-09-25T12:00:37.860Z"
   },
   {
    "duration": 12,
    "start_time": "2023-09-25T12:00:37.917Z"
   },
   {
    "duration": 140,
    "start_time": "2023-09-25T12:00:37.957Z"
   },
   {
    "duration": 191,
    "start_time": "2023-09-25T12:00:38.099Z"
   },
   {
    "duration": 104,
    "start_time": "2023-09-25T12:00:38.292Z"
   },
   {
    "duration": 146,
    "start_time": "2023-09-25T12:00:38.398Z"
   },
   {
    "duration": 155,
    "start_time": "2023-09-25T12:00:38.545Z"
   },
   {
    "duration": 118,
    "start_time": "2023-09-25T12:00:38.701Z"
   },
   {
    "duration": 116,
    "start_time": "2023-09-25T12:00:38.821Z"
   },
   {
    "duration": 109,
    "start_time": "2023-09-25T12:00:38.938Z"
   },
   {
    "duration": 348,
    "start_time": "2023-09-25T12:00:39.049Z"
   },
   {
    "duration": 115,
    "start_time": "2023-09-25T12:00:39.399Z"
   },
   {
    "duration": 16,
    "start_time": "2023-09-25T12:00:39.516Z"
   },
   {
    "duration": 182,
    "start_time": "2023-09-25T12:00:40.029Z"
   },
   {
    "duration": 93,
    "start_time": "2023-09-25T12:00:40.587Z"
   },
   {
    "duration": 7,
    "start_time": "2023-09-25T12:00:40.884Z"
   },
   {
    "duration": 8,
    "start_time": "2023-09-25T12:00:41.180Z"
   },
   {
    "duration": 8,
    "start_time": "2023-09-25T12:00:42.630Z"
   },
   {
    "duration": 10,
    "start_time": "2023-09-25T12:00:43.038Z"
   },
   {
    "duration": 10,
    "start_time": "2023-09-25T12:00:43.744Z"
   },
   {
    "duration": 3,
    "start_time": "2023-09-25T12:00:44.300Z"
   },
   {
    "duration": 25,
    "start_time": "2023-09-25T12:00:46.382Z"
   },
   {
    "duration": 12,
    "start_time": "2023-09-25T12:00:56.050Z"
   },
   {
    "duration": 15,
    "start_time": "2023-09-25T12:00:56.587Z"
   },
   {
    "duration": 6,
    "start_time": "2023-09-25T12:00:57.737Z"
   },
   {
    "duration": 4,
    "start_time": "2023-09-25T12:00:58.074Z"
   },
   {
    "duration": 11,
    "start_time": "2023-09-25T12:00:59.412Z"
   },
   {
    "duration": 4,
    "start_time": "2023-09-25T12:00:59.746Z"
   },
   {
    "duration": 18,
    "start_time": "2023-09-25T12:01:01.490Z"
   },
   {
    "duration": 5,
    "start_time": "2023-09-25T12:50:13.600Z"
   },
   {
    "duration": 15,
    "start_time": "2023-09-25T13:41:42.471Z"
   },
   {
    "duration": 4,
    "start_time": "2023-09-25T13:41:48.220Z"
   },
   {
    "duration": 49,
    "start_time": "2023-09-25T13:41:49.626Z"
   },
   {
    "duration": 13,
    "start_time": "2023-09-25T13:41:53.068Z"
   },
   {
    "duration": 137,
    "start_time": "2023-09-25T13:41:54.378Z"
   },
   {
    "duration": 110,
    "start_time": "2023-09-25T13:41:55.866Z"
   },
   {
    "duration": 110,
    "start_time": "2023-09-25T13:41:56.254Z"
   },
   {
    "duration": 152,
    "start_time": "2023-09-25T13:41:56.527Z"
   },
   {
    "duration": 159,
    "start_time": "2023-09-25T13:41:56.788Z"
   },
   {
    "duration": 123,
    "start_time": "2023-09-25T13:41:57.145Z"
   },
   {
    "duration": 112,
    "start_time": "2023-09-25T13:41:57.546Z"
   },
   {
    "duration": 105,
    "start_time": "2023-09-25T13:41:58.488Z"
   },
   {
    "duration": 453,
    "start_time": "2023-09-25T13:41:59.857Z"
   },
   {
    "duration": 115,
    "start_time": "2023-09-25T13:42:00.344Z"
   },
   {
    "duration": 18,
    "start_time": "2023-09-25T13:42:01.081Z"
   },
   {
    "duration": 96,
    "start_time": "2023-09-25T13:42:02.479Z"
   },
   {
    "duration": 89,
    "start_time": "2023-09-25T13:42:03.855Z"
   },
   {
    "duration": 6,
    "start_time": "2023-09-25T13:42:04.592Z"
   },
   {
    "duration": 7,
    "start_time": "2023-09-25T13:42:05.630Z"
   },
   {
    "duration": 8,
    "start_time": "2023-09-25T13:42:11.331Z"
   },
   {
    "duration": 8,
    "start_time": "2023-09-25T13:42:12.693Z"
   },
   {
    "duration": 7,
    "start_time": "2023-09-25T13:42:37.434Z"
   },
   {
    "duration": 8,
    "start_time": "2023-09-25T13:42:37.753Z"
   },
   {
    "duration": 9,
    "start_time": "2023-09-25T13:42:38.348Z"
   },
   {
    "duration": 2,
    "start_time": "2023-09-25T13:42:39.168Z"
   },
   {
    "duration": 18,
    "start_time": "2023-09-25T13:42:40.904Z"
   },
   {
    "duration": 12,
    "start_time": "2023-09-25T13:42:48.391Z"
   },
   {
    "duration": 13,
    "start_time": "2023-09-25T13:42:50.094Z"
   },
   {
    "duration": 6,
    "start_time": "2023-09-25T13:43:21.905Z"
   },
   {
    "duration": 4,
    "start_time": "2023-09-25T13:43:22.271Z"
   },
   {
    "duration": 12,
    "start_time": "2023-09-25T13:43:23.935Z"
   },
   {
    "duration": 4,
    "start_time": "2023-09-25T13:43:24.344Z"
   },
   {
    "duration": 19,
    "start_time": "2023-09-25T13:43:27.665Z"
   },
   {
    "duration": 3,
    "start_time": "2023-09-25T13:43:32.440Z"
   },
   {
    "duration": 6,
    "start_time": "2023-09-25T13:43:34.526Z"
   },
   {
    "duration": 7,
    "start_time": "2023-09-25T13:43:34.961Z"
   },
   {
    "duration": 5,
    "start_time": "2023-09-25T13:43:36.166Z"
   },
   {
    "duration": 10,
    "start_time": "2023-09-25T13:43:39.939Z"
   },
   {
    "duration": 5,
    "start_time": "2023-09-25T13:48:23.605Z"
   },
   {
    "duration": 15,
    "start_time": "2023-09-25T13:49:33.108Z"
   },
   {
    "duration": 5,
    "start_time": "2023-09-25T13:49:56.865Z"
   },
   {
    "duration": 6,
    "start_time": "2023-09-25T13:50:17.089Z"
   },
   {
    "duration": 6,
    "start_time": "2023-09-25T13:50:42.903Z"
   },
   {
    "duration": 15,
    "start_time": "2023-09-25T13:51:03.298Z"
   },
   {
    "duration": 6,
    "start_time": "2023-09-25T13:51:29.578Z"
   },
   {
    "duration": 11,
    "start_time": "2023-09-25T13:51:38.907Z"
   },
   {
    "duration": 12,
    "start_time": "2023-09-25T13:52:44.120Z"
   },
   {
    "duration": 10,
    "start_time": "2023-09-25T13:53:02.470Z"
   },
   {
    "duration": 9,
    "start_time": "2023-09-25T13:53:08.209Z"
   },
   {
    "duration": 9,
    "start_time": "2023-09-25T13:53:14.669Z"
   },
   {
    "duration": 5,
    "start_time": "2023-09-25T13:53:51.653Z"
   },
   {
    "duration": 10,
    "start_time": "2023-09-25T13:56:58.362Z"
   },
   {
    "duration": 13,
    "start_time": "2023-09-25T13:57:08.093Z"
   },
   {
    "duration": 14,
    "start_time": "2023-09-25T13:57:39.511Z"
   },
   {
    "duration": 10,
    "start_time": "2023-09-25T13:59:36.964Z"
   },
   {
    "duration": 6,
    "start_time": "2023-09-25T14:00:41.071Z"
   },
   {
    "duration": 14,
    "start_time": "2023-09-25T14:00:51.558Z"
   },
   {
    "duration": 5,
    "start_time": "2023-09-25T14:08:54.725Z"
   },
   {
    "duration": 6,
    "start_time": "2023-09-25T14:09:16.240Z"
   },
   {
    "duration": 9,
    "start_time": "2023-09-25T14:12:09.259Z"
   },
   {
    "duration": 4,
    "start_time": "2023-09-25T14:12:49.093Z"
   },
   {
    "duration": 23,
    "start_time": "2023-09-25T14:13:07.127Z"
   },
   {
    "duration": 32,
    "start_time": "2023-09-25T14:13:10.540Z"
   },
   {
    "duration": 5,
    "start_time": "2023-09-25T14:13:22.588Z"
   },
   {
    "duration": 5,
    "start_time": "2023-09-25T14:18:50.727Z"
   },
   {
    "duration": 5,
    "start_time": "2023-09-25T14:19:12.561Z"
   },
   {
    "duration": 17,
    "start_time": "2023-09-25T14:19:42.915Z"
   },
   {
    "duration": 9,
    "start_time": "2023-09-25T14:19:54.694Z"
   },
   {
    "duration": 14,
    "start_time": "2023-09-25T14:21:39.407Z"
   },
   {
    "duration": 18,
    "start_time": "2023-09-25T14:21:53.816Z"
   },
   {
    "duration": 27,
    "start_time": "2023-09-25T14:22:44.859Z"
   },
   {
    "duration": 32,
    "start_time": "2023-09-25T14:24:03.539Z"
   },
   {
    "duration": 11,
    "start_time": "2023-09-25T14:43:25.378Z"
   },
   {
    "duration": 4,
    "start_time": "2023-09-25T14:44:02.641Z"
   },
   {
    "duration": 10,
    "start_time": "2023-09-25T14:44:09.404Z"
   },
   {
    "duration": 17,
    "start_time": "2023-09-25T14:45:15.533Z"
   },
   {
    "duration": 15,
    "start_time": "2023-09-25T14:57:28.699Z"
   },
   {
    "duration": 18,
    "start_time": "2023-09-25T15:19:35.964Z"
   },
   {
    "duration": 16,
    "start_time": "2023-09-25T15:20:17.766Z"
   },
   {
    "duration": 16,
    "start_time": "2023-09-25T15:20:46.420Z"
   },
   {
    "duration": 16,
    "start_time": "2023-09-25T15:20:52.330Z"
   },
   {
    "duration": 14,
    "start_time": "2023-09-25T15:21:26.925Z"
   },
   {
    "duration": 4,
    "start_time": "2023-09-25T15:22:43.993Z"
   },
   {
    "duration": 1755,
    "start_time": "2023-09-25T15:23:12.108Z"
   },
   {
    "duration": 17,
    "start_time": "2023-09-25T15:23:43.965Z"
   },
   {
    "duration": 10,
    "start_time": "2023-09-25T15:24:30.699Z"
   },
   {
    "duration": 4,
    "start_time": "2023-09-25T15:24:43.993Z"
   },
   {
    "duration": 4,
    "start_time": "2023-09-25T15:24:51.025Z"
   },
   {
    "duration": 4,
    "start_time": "2023-09-25T15:25:22.374Z"
   },
   {
    "duration": 86,
    "start_time": "2023-09-25T15:25:53.922Z"
   },
   {
    "duration": 24,
    "start_time": "2023-09-25T15:36:19.947Z"
   },
   {
    "duration": 27,
    "start_time": "2023-09-25T15:37:22.383Z"
   },
   {
    "duration": 22,
    "start_time": "2023-09-25T15:37:47.073Z"
   },
   {
    "duration": 25,
    "start_time": "2023-09-25T15:50:31.229Z"
   },
   {
    "duration": 21,
    "start_time": "2023-09-25T15:50:48.271Z"
   },
   {
    "duration": 23,
    "start_time": "2023-09-25T15:52:48.909Z"
   },
   {
    "duration": 29,
    "start_time": "2023-09-25T15:54:17.837Z"
   },
   {
    "duration": 24,
    "start_time": "2023-09-25T15:54:45.180Z"
   },
   {
    "duration": 3,
    "start_time": "2023-09-25T15:55:33.829Z"
   },
   {
    "duration": 48,
    "start_time": "2023-09-25T15:55:33.962Z"
   },
   {
    "duration": 15,
    "start_time": "2023-09-25T15:55:34.036Z"
   },
   {
    "duration": 192,
    "start_time": "2023-09-25T15:55:34.072Z"
   },
   {
    "duration": 127,
    "start_time": "2023-09-25T15:55:34.267Z"
   },
   {
    "duration": 117,
    "start_time": "2023-09-25T15:55:34.396Z"
   },
   {
    "duration": 170,
    "start_time": "2023-09-25T15:55:34.515Z"
   },
   {
    "duration": 184,
    "start_time": "2023-09-25T15:55:34.687Z"
   },
   {
    "duration": 251,
    "start_time": "2023-09-25T15:55:34.872Z"
   },
   {
    "duration": 143,
    "start_time": "2023-09-25T15:55:35.125Z"
   },
   {
    "duration": 120,
    "start_time": "2023-09-25T15:55:35.270Z"
   },
   {
    "duration": 407,
    "start_time": "2023-09-25T15:55:35.391Z"
   },
   {
    "duration": 122,
    "start_time": "2023-09-25T15:55:35.800Z"
   },
   {
    "duration": 33,
    "start_time": "2023-09-25T15:55:35.924Z"
   },
   {
    "duration": 104,
    "start_time": "2023-09-25T15:55:35.960Z"
   },
   {
    "duration": 99,
    "start_time": "2023-09-25T15:55:36.065Z"
   },
   {
    "duration": 6,
    "start_time": "2023-09-25T15:55:36.166Z"
   },
   {
    "duration": 9,
    "start_time": "2023-09-25T15:55:36.173Z"
   },
   {
    "duration": 7,
    "start_time": "2023-09-25T15:55:36.225Z"
   },
   {
    "duration": 11,
    "start_time": "2023-09-25T15:55:36.277Z"
   },
   {
    "duration": 9,
    "start_time": "2023-09-25T15:55:36.314Z"
   },
   {
    "duration": 2,
    "start_time": "2023-09-25T15:55:36.367Z"
   },
   {
    "duration": 19,
    "start_time": "2023-09-25T15:55:36.457Z"
   },
   {
    "duration": 12,
    "start_time": "2023-09-25T15:55:37.415Z"
   },
   {
    "duration": 13,
    "start_time": "2023-09-25T15:55:38.076Z"
   },
   {
    "duration": 13,
    "start_time": "2023-09-25T15:55:38.447Z"
   },
   {
    "duration": 5,
    "start_time": "2023-09-25T15:55:38.593Z"
   },
   {
    "duration": 12,
    "start_time": "2023-09-25T15:55:39.112Z"
   },
   {
    "duration": 5,
    "start_time": "2023-09-25T15:55:39.255Z"
   },
   {
    "duration": 28,
    "start_time": "2023-09-25T15:55:39.741Z"
   },
   {
    "duration": 2,
    "start_time": "2023-09-25T15:55:39.881Z"
   },
   {
    "duration": 8,
    "start_time": "2023-09-25T15:55:41.537Z"
   },
   {
    "duration": 8,
    "start_time": "2023-09-25T15:55:41.759Z"
   },
   {
    "duration": 5,
    "start_time": "2023-09-25T15:55:42.016Z"
   },
   {
    "duration": 11,
    "start_time": "2023-09-25T15:55:43.271Z"
   },
   {
    "duration": 5,
    "start_time": "2023-09-25T15:55:44.487Z"
   },
   {
    "duration": 14,
    "start_time": "2023-09-25T15:55:44.705Z"
   },
   {
    "duration": 27,
    "start_time": "2023-09-25T15:55:45.882Z"
   },
   {
    "duration": 29,
    "start_time": "2023-09-25T15:56:06.951Z"
   },
   {
    "duration": 20,
    "start_time": "2023-09-25T15:56:10.490Z"
   },
   {
    "duration": 22,
    "start_time": "2023-09-25T15:56:54.356Z"
   },
   {
    "duration": 43,
    "start_time": "2023-09-25T16:00:43.777Z"
   },
   {
    "duration": 538,
    "start_time": "2023-09-25T16:01:59.978Z"
   },
   {
    "duration": 27,
    "start_time": "2023-09-25T16:03:56.742Z"
   },
   {
    "duration": 25,
    "start_time": "2023-09-25T16:04:22.810Z"
   },
   {
    "duration": 41,
    "start_time": "2023-09-25T16:04:30.939Z"
   },
   {
    "duration": 532,
    "start_time": "2023-09-25T16:04:37.571Z"
   },
   {
    "duration": 9256,
    "start_time": "2023-09-25T16:06:13.380Z"
   },
   {
    "duration": 25192,
    "start_time": "2023-09-25T16:11:28.424Z"
   },
   {
    "duration": 23329,
    "start_time": "2023-09-25T16:15:58.477Z"
   },
   {
    "duration": 24688,
    "start_time": "2023-09-25T16:24:53.358Z"
   },
   {
    "duration": 3,
    "start_time": "2023-09-25T16:30:04.451Z"
   },
   {
    "duration": 26,
    "start_time": "2023-09-25T16:32:22.128Z"
   },
   {
    "duration": 38,
    "start_time": "2023-09-25T16:34:02.157Z"
   },
   {
    "duration": 569,
    "start_time": "2023-09-25T16:36:31.305Z"
   },
   {
    "duration": 504,
    "start_time": "2023-09-25T16:37:01.314Z"
   },
   {
    "duration": 161,
    "start_time": "2023-09-25T16:38:46.539Z"
   },
   {
    "duration": 772,
    "start_time": "2023-09-25T16:39:25.613Z"
   },
   {
    "duration": 23542,
    "start_time": "2023-09-25T16:45:10.394Z"
   },
   {
    "duration": 6,
    "start_time": "2023-09-25T16:46:56.774Z"
   },
   {
    "duration": 10,
    "start_time": "2023-09-25T16:52:23.983Z"
   },
   {
    "duration": 29,
    "start_time": "2023-09-25T16:55:15.224Z"
   },
   {
    "duration": 20,
    "start_time": "2023-09-25T16:55:38.005Z"
   },
   {
    "duration": 6,
    "start_time": "2023-09-25T16:55:50.636Z"
   },
   {
    "duration": 6,
    "start_time": "2023-09-25T16:55:56.555Z"
   },
   {
    "duration": 32,
    "start_time": "2023-09-25T16:57:19.368Z"
   },
   {
    "duration": 41,
    "start_time": "2023-09-25T16:57:49.485Z"
   },
   {
    "duration": 819,
    "start_time": "2023-09-25T17:01:55.072Z"
   },
   {
    "duration": 35714,
    "start_time": "2023-09-25T17:04:57.172Z"
   },
   {
    "duration": 13,
    "start_time": "2023-09-25T17:07:22.272Z"
   },
   {
    "duration": 6,
    "start_time": "2023-09-25T17:07:25.594Z"
   },
   {
    "duration": 13,
    "start_time": "2023-09-25T17:07:26.183Z"
   },
   {
    "duration": 4,
    "start_time": "2023-09-25T17:08:00.078Z"
   },
   {
    "duration": 27,
    "start_time": "2023-09-25T17:08:28.093Z"
   },
   {
    "duration": 8,
    "start_time": "2023-09-25T17:08:42.678Z"
   },
   {
    "duration": 6,
    "start_time": "2023-09-25T17:08:53.033Z"
   },
   {
    "duration": 400,
    "start_time": "2023-09-25T17:10:19.689Z"
   },
   {
    "duration": 26,
    "start_time": "2023-09-25T17:10:54.670Z"
   },
   {
    "duration": 337,
    "start_time": "2023-09-25T17:13:52.567Z"
   },
   {
    "duration": 613,
    "start_time": "2023-09-25T17:14:41.465Z"
   },
   {
    "duration": 16075,
    "start_time": "2023-09-25T17:20:22.139Z"
   },
   {
    "duration": 100,
    "start_time": "2023-09-25T17:32:19.638Z"
   },
   {
    "duration": 174,
    "start_time": "2023-09-25T17:32:32.728Z"
   },
   {
    "duration": 1362,
    "start_time": "2023-09-25T17:59:47.473Z"
   },
   {
    "duration": 62,
    "start_time": "2023-09-25T17:59:48.836Z"
   },
   {
    "duration": 15,
    "start_time": "2023-09-25T17:59:48.899Z"
   },
   {
    "duration": 198,
    "start_time": "2023-09-25T17:59:48.915Z"
   },
   {
    "duration": 143,
    "start_time": "2023-09-25T17:59:49.115Z"
   },
   {
    "duration": 108,
    "start_time": "2023-09-25T17:59:49.264Z"
   },
   {
    "duration": 160,
    "start_time": "2023-09-25T17:59:49.374Z"
   },
   {
    "duration": 187,
    "start_time": "2023-09-25T17:59:49.536Z"
   },
   {
    "duration": 206,
    "start_time": "2023-09-25T17:59:49.725Z"
   },
   {
    "duration": 139,
    "start_time": "2023-09-25T17:59:49.933Z"
   },
   {
    "duration": 119,
    "start_time": "2023-09-25T17:59:50.073Z"
   },
   {
    "duration": 422,
    "start_time": "2023-09-25T17:59:50.194Z"
   },
   {
    "duration": 132,
    "start_time": "2023-09-25T17:59:50.617Z"
   },
   {
    "duration": 23,
    "start_time": "2023-09-25T17:59:50.753Z"
   },
   {
    "duration": 116,
    "start_time": "2023-09-25T17:59:50.778Z"
   },
   {
    "duration": 97,
    "start_time": "2023-09-25T17:59:50.896Z"
   },
   {
    "duration": 6,
    "start_time": "2023-09-25T17:59:50.995Z"
   },
   {
    "duration": 27,
    "start_time": "2023-09-25T17:59:51.002Z"
   },
   {
    "duration": 37,
    "start_time": "2023-09-25T17:59:51.031Z"
   },
   {
    "duration": 41,
    "start_time": "2023-09-25T17:59:51.072Z"
   },
   {
    "duration": 17,
    "start_time": "2023-09-25T17:59:51.114Z"
   },
   {
    "duration": 7,
    "start_time": "2023-09-25T17:59:51.133Z"
   },
   {
    "duration": 40,
    "start_time": "2023-09-25T17:59:51.142Z"
   },
   {
    "duration": 12,
    "start_time": "2023-09-25T17:59:51.183Z"
   },
   {
    "duration": 24,
    "start_time": "2023-09-25T17:59:51.196Z"
   },
   {
    "duration": 51,
    "start_time": "2023-09-25T17:59:51.221Z"
   },
   {
    "duration": 21,
    "start_time": "2023-09-25T17:59:51.273Z"
   },
   {
    "duration": 27,
    "start_time": "2023-09-25T17:59:51.296Z"
   },
   {
    "duration": 5,
    "start_time": "2023-09-25T17:59:51.325Z"
   },
   {
    "duration": 38,
    "start_time": "2023-09-25T17:59:51.331Z"
   },
   {
    "duration": 13,
    "start_time": "2023-09-25T17:59:51.371Z"
   },
   {
    "duration": 27,
    "start_time": "2023-09-25T17:59:51.385Z"
   },
   {
    "duration": 17,
    "start_time": "2023-09-25T17:59:51.413Z"
   },
   {
    "duration": 21,
    "start_time": "2023-09-25T17:59:51.432Z"
   },
   {
    "duration": 22,
    "start_time": "2023-09-25T17:59:51.455Z"
   },
   {
    "duration": 21,
    "start_time": "2023-09-25T17:59:51.479Z"
   },
   {
    "duration": 24,
    "start_time": "2023-09-25T17:59:51.502Z"
   },
   {
    "duration": 52,
    "start_time": "2023-09-25T17:59:51.528Z"
   },
   {
    "duration": 21,
    "start_time": "2023-09-25T17:59:51.582Z"
   },
   {
    "duration": 21,
    "start_time": "2023-09-25T17:59:51.604Z"
   },
   {
    "duration": 37,
    "start_time": "2023-09-25T17:59:51.629Z"
   },
   {
    "duration": 89,
    "start_time": "2023-09-25T17:59:51.667Z"
   },
   {
    "duration": 118,
    "start_time": "2023-09-25T17:59:51.757Z"
   },
   {
    "duration": 573,
    "start_time": "2023-09-25T17:59:51.877Z"
   },
   {
    "duration": 25850,
    "start_time": "2023-09-25T17:59:52.460Z"
   },
   {
    "duration": 2,
    "start_time": "2023-09-25T18:00:18.311Z"
   },
   {
    "duration": 129,
    "start_time": "2023-09-25T18:00:18.315Z"
   },
   {
    "duration": 53,
    "start_time": "2023-09-25T18:00:18.448Z"
   },
   {
    "duration": 517,
    "start_time": "2023-09-25T18:00:18.502Z"
   },
   {
    "duration": 756,
    "start_time": "2023-09-25T18:00:19.021Z"
   },
   {
    "duration": 23560,
    "start_time": "2023-09-25T18:00:19.779Z"
   },
   {
    "duration": 12,
    "start_time": "2023-09-25T18:00:43.344Z"
   },
   {
    "duration": 26,
    "start_time": "2023-09-25T18:00:43.358Z"
   },
   {
    "duration": 15,
    "start_time": "2023-09-25T18:00:43.386Z"
   },
   {
    "duration": 16,
    "start_time": "2023-09-25T18:00:43.402Z"
   },
   {
    "duration": 11,
    "start_time": "2023-09-25T18:00:43.419Z"
   },
   {
    "duration": 127,
    "start_time": "2023-09-25T18:00:43.431Z"
   },
   {
    "duration": 149,
    "start_time": "2023-09-25T18:00:43.560Z"
   },
   {
    "duration": 776,
    "start_time": "2023-09-25T18:00:43.711Z"
   },
   {
    "duration": 32783,
    "start_time": "2023-09-25T18:00:44.493Z"
   },
   {
    "duration": 5,
    "start_time": "2023-09-25T18:01:17.281Z"
   },
   {
    "duration": 25,
    "start_time": "2023-09-25T18:01:17.288Z"
   },
   {
    "duration": 17,
    "start_time": "2023-09-25T18:01:17.314Z"
   },
   {
    "duration": 17,
    "start_time": "2023-09-25T18:01:17.333Z"
   },
   {
    "duration": 718,
    "start_time": "2023-09-25T18:01:17.355Z"
   },
   {
    "duration": 90,
    "start_time": "2023-09-25T18:01:18.079Z"
   },
   {
    "duration": 293,
    "start_time": "2023-09-25T18:01:18.170Z"
   },
   {
    "duration": 407,
    "start_time": "2023-09-25T18:01:18.469Z"
   },
   {
    "duration": 15744,
    "start_time": "2023-09-25T18:01:18.878Z"
   },
   {
    "duration": 178,
    "start_time": "2023-09-25T18:01:34.624Z"
   },
   {
    "duration": 1706,
    "start_time": "2023-09-26T21:38:07.675Z"
   },
   {
    "duration": 1499,
    "start_time": "2023-09-26T21:49:38.949Z"
   },
   {
    "duration": 97,
    "start_time": "2023-09-26T21:49:40.450Z"
   },
   {
    "duration": 18,
    "start_time": "2023-09-26T21:49:40.549Z"
   },
   {
    "duration": 202,
    "start_time": "2023-09-26T21:49:40.570Z"
   },
   {
    "duration": 123,
    "start_time": "2023-09-26T21:49:40.773Z"
   },
   {
    "duration": 125,
    "start_time": "2023-09-26T21:49:40.898Z"
   },
   {
    "duration": 174,
    "start_time": "2023-09-26T21:49:41.024Z"
   },
   {
    "duration": 184,
    "start_time": "2023-09-26T21:49:41.199Z"
   },
   {
    "duration": 217,
    "start_time": "2023-09-26T21:49:41.384Z"
   },
   {
    "duration": 137,
    "start_time": "2023-09-26T21:49:41.604Z"
   },
   {
    "duration": 122,
    "start_time": "2023-09-26T21:49:41.743Z"
   },
   {
    "duration": 427,
    "start_time": "2023-09-26T21:49:41.867Z"
   },
   {
    "duration": 140,
    "start_time": "2023-09-26T21:49:42.296Z"
   },
   {
    "duration": 20,
    "start_time": "2023-09-26T21:49:42.438Z"
   },
   {
    "duration": 126,
    "start_time": "2023-09-26T21:49:42.460Z"
   },
   {
    "duration": 108,
    "start_time": "2023-09-26T21:49:42.588Z"
   },
   {
    "duration": 7,
    "start_time": "2023-09-26T21:49:42.698Z"
   },
   {
    "duration": 17,
    "start_time": "2023-09-26T21:49:42.706Z"
   },
   {
    "duration": 22,
    "start_time": "2023-09-26T21:49:42.724Z"
   },
   {
    "duration": 16,
    "start_time": "2023-09-26T21:49:42.748Z"
   },
   {
    "duration": 21,
    "start_time": "2023-09-26T21:49:42.766Z"
   },
   {
    "duration": 4,
    "start_time": "2023-09-26T21:49:42.789Z"
   },
   {
    "duration": 38,
    "start_time": "2023-09-26T21:49:42.794Z"
   },
   {
    "duration": 14,
    "start_time": "2023-09-26T21:49:42.834Z"
   },
   {
    "duration": 34,
    "start_time": "2023-09-26T21:49:42.849Z"
   },
   {
    "duration": 30,
    "start_time": "2023-09-26T21:49:42.884Z"
   },
   {
    "duration": 25,
    "start_time": "2023-09-26T21:49:42.916Z"
   },
   {
    "duration": 29,
    "start_time": "2023-09-26T21:49:42.945Z"
   },
   {
    "duration": 14,
    "start_time": "2023-09-26T21:49:42.976Z"
   },
   {
    "duration": 30,
    "start_time": "2023-09-26T21:49:42.992Z"
   },
   {
    "duration": 15,
    "start_time": "2023-09-26T21:49:43.024Z"
   },
   {
    "duration": 19,
    "start_time": "2023-09-26T21:49:43.040Z"
   },
   {
    "duration": 26,
    "start_time": "2023-09-26T21:49:43.060Z"
   },
   {
    "duration": 13,
    "start_time": "2023-09-26T21:49:43.088Z"
   },
   {
    "duration": 18,
    "start_time": "2023-09-26T21:49:43.103Z"
   },
   {
    "duration": 142,
    "start_time": "2023-09-26T21:49:43.122Z"
   },
   {
    "duration": 0,
    "start_time": "2023-09-26T21:49:43.266Z"
   },
   {
    "duration": 0,
    "start_time": "2023-09-26T21:49:43.268Z"
   },
   {
    "duration": 0,
    "start_time": "2023-09-26T21:49:43.269Z"
   },
   {
    "duration": 0,
    "start_time": "2023-09-26T21:49:43.270Z"
   },
   {
    "duration": 0,
    "start_time": "2023-09-26T21:49:43.271Z"
   },
   {
    "duration": 0,
    "start_time": "2023-09-26T21:49:43.272Z"
   },
   {
    "duration": 0,
    "start_time": "2023-09-26T21:49:43.273Z"
   },
   {
    "duration": 0,
    "start_time": "2023-09-26T21:49:43.274Z"
   },
   {
    "duration": 0,
    "start_time": "2023-09-26T21:49:43.281Z"
   },
   {
    "duration": 0,
    "start_time": "2023-09-26T21:49:43.282Z"
   },
   {
    "duration": 0,
    "start_time": "2023-09-26T21:49:43.283Z"
   },
   {
    "duration": 0,
    "start_time": "2023-09-26T21:49:43.284Z"
   },
   {
    "duration": 0,
    "start_time": "2023-09-26T21:49:43.286Z"
   },
   {
    "duration": 0,
    "start_time": "2023-09-26T21:49:43.287Z"
   },
   {
    "duration": 0,
    "start_time": "2023-09-26T21:49:43.288Z"
   },
   {
    "duration": 0,
    "start_time": "2023-09-26T21:49:43.289Z"
   },
   {
    "duration": 0,
    "start_time": "2023-09-26T21:49:43.291Z"
   },
   {
    "duration": 0,
    "start_time": "2023-09-26T21:49:43.292Z"
   },
   {
    "duration": 0,
    "start_time": "2023-09-26T21:49:43.293Z"
   },
   {
    "duration": 0,
    "start_time": "2023-09-26T21:49:43.295Z"
   },
   {
    "duration": 0,
    "start_time": "2023-09-26T21:49:43.296Z"
   },
   {
    "duration": 0,
    "start_time": "2023-09-26T21:49:43.297Z"
   },
   {
    "duration": 0,
    "start_time": "2023-09-26T21:49:43.298Z"
   },
   {
    "duration": 0,
    "start_time": "2023-09-26T21:49:43.298Z"
   },
   {
    "duration": 0,
    "start_time": "2023-09-26T21:49:43.300Z"
   },
   {
    "duration": 0,
    "start_time": "2023-09-26T21:49:43.301Z"
   },
   {
    "duration": 0,
    "start_time": "2023-09-26T21:49:43.302Z"
   },
   {
    "duration": 0,
    "start_time": "2023-09-26T21:49:43.303Z"
   },
   {
    "duration": 0,
    "start_time": "2023-09-26T21:49:43.304Z"
   },
   {
    "duration": 0,
    "start_time": "2023-09-26T21:49:43.305Z"
   },
   {
    "duration": 0,
    "start_time": "2023-09-26T21:49:43.306Z"
   },
   {
    "duration": 0,
    "start_time": "2023-09-26T21:49:43.306Z"
   },
   {
    "duration": 0,
    "start_time": "2023-09-26T21:49:43.307Z"
   },
   {
    "duration": 1509,
    "start_time": "2023-09-26T21:50:28.195Z"
   },
   {
    "duration": 56,
    "start_time": "2023-09-26T21:50:29.706Z"
   },
   {
    "duration": 17,
    "start_time": "2023-09-26T21:50:29.763Z"
   },
   {
    "duration": 173,
    "start_time": "2023-09-26T21:50:29.782Z"
   },
   {
    "duration": 126,
    "start_time": "2023-09-26T21:50:29.957Z"
   },
   {
    "duration": 119,
    "start_time": "2023-09-26T21:50:30.085Z"
   },
   {
    "duration": 193,
    "start_time": "2023-09-26T21:50:30.206Z"
   },
   {
    "duration": 205,
    "start_time": "2023-09-26T21:50:30.402Z"
   },
   {
    "duration": 235,
    "start_time": "2023-09-26T21:50:30.609Z"
   },
   {
    "duration": 139,
    "start_time": "2023-09-26T21:50:30.846Z"
   },
   {
    "duration": 167,
    "start_time": "2023-09-26T21:50:30.986Z"
   },
   {
    "duration": 431,
    "start_time": "2023-09-26T21:50:31.155Z"
   },
   {
    "duration": 132,
    "start_time": "2023-09-26T21:50:31.588Z"
   },
   {
    "duration": 19,
    "start_time": "2023-09-26T21:50:31.723Z"
   },
   {
    "duration": 283,
    "start_time": "2023-09-26T21:50:31.744Z"
   },
   {
    "duration": 109,
    "start_time": "2023-09-26T21:50:32.029Z"
   },
   {
    "duration": 8,
    "start_time": "2023-09-26T21:50:32.140Z"
   },
   {
    "duration": 15,
    "start_time": "2023-09-26T21:50:32.150Z"
   },
   {
    "duration": 30,
    "start_time": "2023-09-26T21:50:32.181Z"
   },
   {
    "duration": 22,
    "start_time": "2023-09-26T21:50:32.213Z"
   },
   {
    "duration": 31,
    "start_time": "2023-09-26T21:50:32.237Z"
   },
   {
    "duration": 19,
    "start_time": "2023-09-26T21:50:32.269Z"
   },
   {
    "duration": 42,
    "start_time": "2023-09-26T21:50:32.290Z"
   },
   {
    "duration": 23,
    "start_time": "2023-09-26T21:50:32.334Z"
   },
   {
    "duration": 36,
    "start_time": "2023-09-26T21:50:32.359Z"
   },
   {
    "duration": 32,
    "start_time": "2023-09-26T21:50:32.397Z"
   },
   {
    "duration": 32,
    "start_time": "2023-09-26T21:50:32.431Z"
   },
   {
    "duration": 36,
    "start_time": "2023-09-26T21:50:32.464Z"
   },
   {
    "duration": 29,
    "start_time": "2023-09-26T21:50:32.502Z"
   },
   {
    "duration": 66,
    "start_time": "2023-09-26T21:50:32.533Z"
   },
   {
    "duration": 34,
    "start_time": "2023-09-26T21:50:32.601Z"
   },
   {
    "duration": 15,
    "start_time": "2023-09-26T21:50:32.638Z"
   },
   {
    "duration": 16,
    "start_time": "2023-09-26T21:50:32.655Z"
   },
   {
    "duration": 18,
    "start_time": "2023-09-26T21:50:32.673Z"
   },
   {
    "duration": 19,
    "start_time": "2023-09-26T21:50:32.693Z"
   },
   {
    "duration": 15,
    "start_time": "2023-09-26T21:50:32.714Z"
   },
   {
    "duration": 35,
    "start_time": "2023-09-26T21:50:32.731Z"
   },
   {
    "duration": 34,
    "start_time": "2023-09-26T21:50:32.767Z"
   },
   {
    "duration": 24,
    "start_time": "2023-09-26T21:50:32.802Z"
   },
   {
    "duration": 22,
    "start_time": "2023-09-26T21:50:32.828Z"
   },
   {
    "duration": 107,
    "start_time": "2023-09-26T21:50:32.880Z"
   },
   {
    "duration": 134,
    "start_time": "2023-09-26T21:50:32.990Z"
   },
   {
    "duration": 676,
    "start_time": "2023-09-26T21:50:33.126Z"
   },
   {
    "duration": 26531,
    "start_time": "2023-09-26T21:50:33.804Z"
   },
   {
    "duration": 2,
    "start_time": "2023-09-26T21:51:00.337Z"
   },
   {
    "duration": 148,
    "start_time": "2023-09-26T21:51:00.341Z"
   },
   {
    "duration": 130,
    "start_time": "2023-09-26T21:51:00.492Z"
   },
   {
    "duration": 520,
    "start_time": "2023-09-26T21:51:00.624Z"
   },
   {
    "duration": 809,
    "start_time": "2023-09-26T21:51:01.145Z"
   },
   {
    "duration": 25039,
    "start_time": "2023-09-26T21:51:01.956Z"
   },
   {
    "duration": 6,
    "start_time": "2023-09-26T21:51:26.997Z"
   },
   {
    "duration": 13,
    "start_time": "2023-09-26T21:51:27.005Z"
   },
   {
    "duration": 5,
    "start_time": "2023-09-26T21:51:27.019Z"
   },
   {
    "duration": 9,
    "start_time": "2023-09-26T21:51:27.026Z"
   },
   {
    "duration": 9,
    "start_time": "2023-09-26T21:51:27.037Z"
   },
   {
    "duration": 237,
    "start_time": "2023-09-26T21:51:27.048Z"
   },
   {
    "duration": 140,
    "start_time": "2023-09-26T21:51:27.288Z"
   },
   {
    "duration": 675,
    "start_time": "2023-09-26T21:51:27.430Z"
   },
   {
    "duration": 33593,
    "start_time": "2023-09-26T21:51:28.106Z"
   },
   {
    "duration": 5,
    "start_time": "2023-09-26T21:52:01.701Z"
   },
   {
    "duration": 114,
    "start_time": "2023-09-26T21:52:01.708Z"
   },
   {
    "duration": 32,
    "start_time": "2023-09-26T21:52:01.824Z"
   },
   {
    "duration": 54,
    "start_time": "2023-09-26T21:52:01.857Z"
   },
   {
    "duration": 272,
    "start_time": "2023-09-26T21:52:01.913Z"
   },
   {
    "duration": 130,
    "start_time": "2023-09-26T21:52:02.188Z"
   },
   {
    "duration": 307,
    "start_time": "2023-09-26T21:52:02.320Z"
   },
   {
    "duration": 426,
    "start_time": "2023-09-26T21:52:02.629Z"
   },
   {
    "duration": 16280,
    "start_time": "2023-09-26T21:52:03.057Z"
   },
   {
    "duration": 184,
    "start_time": "2023-09-26T21:52:19.339Z"
   },
   {
    "duration": 183,
    "start_time": "2023-09-26T21:58:10.121Z"
   },
   {
    "duration": 1549,
    "start_time": "2023-09-26T22:01:22.499Z"
   },
   {
    "duration": 54,
    "start_time": "2023-09-26T22:01:24.050Z"
   },
   {
    "duration": 17,
    "start_time": "2023-09-26T22:01:24.106Z"
   },
   {
    "duration": 186,
    "start_time": "2023-09-26T22:01:24.125Z"
   },
   {
    "duration": 130,
    "start_time": "2023-09-26T22:01:24.313Z"
   },
   {
    "duration": 128,
    "start_time": "2023-09-26T22:01:24.445Z"
   },
   {
    "duration": 175,
    "start_time": "2023-09-26T22:01:24.575Z"
   },
   {
    "duration": 194,
    "start_time": "2023-09-26T22:01:24.751Z"
   },
   {
    "duration": 215,
    "start_time": "2023-09-26T22:01:24.946Z"
   },
   {
    "duration": 140,
    "start_time": "2023-09-26T22:01:25.164Z"
   },
   {
    "duration": 126,
    "start_time": "2023-09-26T22:01:25.307Z"
   },
   {
    "duration": 403,
    "start_time": "2023-09-26T22:01:25.435Z"
   },
   {
    "duration": 128,
    "start_time": "2023-09-26T22:01:25.840Z"
   },
   {
    "duration": 25,
    "start_time": "2023-09-26T22:01:25.970Z"
   },
   {
    "duration": 129,
    "start_time": "2023-09-26T22:01:25.997Z"
   },
   {
    "duration": 113,
    "start_time": "2023-09-26T22:01:26.128Z"
   },
   {
    "duration": 7,
    "start_time": "2023-09-26T22:01:26.242Z"
   },
   {
    "duration": 48,
    "start_time": "2023-09-26T22:01:26.251Z"
   },
   {
    "duration": 37,
    "start_time": "2023-09-26T22:01:26.301Z"
   },
   {
    "duration": 34,
    "start_time": "2023-09-26T22:01:26.340Z"
   },
   {
    "duration": 29,
    "start_time": "2023-09-26T22:01:26.377Z"
   },
   {
    "duration": 4,
    "start_time": "2023-09-26T22:01:26.408Z"
   },
   {
    "duration": 46,
    "start_time": "2023-09-26T22:01:26.413Z"
   },
   {
    "duration": 27,
    "start_time": "2023-09-26T22:01:26.461Z"
   },
   {
    "duration": 34,
    "start_time": "2023-09-26T22:01:26.490Z"
   },
   {
    "duration": 31,
    "start_time": "2023-09-26T22:01:26.527Z"
   },
   {
    "duration": 20,
    "start_time": "2023-09-26T22:01:26.560Z"
   },
   {
    "duration": 16,
    "start_time": "2023-09-26T22:01:26.585Z"
   },
   {
    "duration": 6,
    "start_time": "2023-09-26T22:01:26.603Z"
   },
   {
    "duration": 25,
    "start_time": "2023-09-26T22:01:26.610Z"
   },
   {
    "duration": 3,
    "start_time": "2023-09-26T22:01:26.637Z"
   },
   {
    "duration": 42,
    "start_time": "2023-09-26T22:01:26.642Z"
   },
   {
    "duration": 8,
    "start_time": "2023-09-26T22:01:26.687Z"
   },
   {
    "duration": 6,
    "start_time": "2023-09-26T22:01:26.697Z"
   },
   {
    "duration": 13,
    "start_time": "2023-09-26T22:01:26.706Z"
   },
   {
    "duration": 17,
    "start_time": "2023-09-26T22:01:26.721Z"
   },
   {
    "duration": 61,
    "start_time": "2023-09-26T22:01:26.740Z"
   },
   {
    "duration": 22,
    "start_time": "2023-09-26T22:01:26.803Z"
   },
   {
    "duration": 20,
    "start_time": "2023-09-26T22:01:26.826Z"
   },
   {
    "duration": 45,
    "start_time": "2023-09-26T22:01:26.848Z"
   },
   {
    "duration": 92,
    "start_time": "2023-09-26T22:01:26.895Z"
   },
   {
    "duration": 203,
    "start_time": "2023-09-26T22:01:26.989Z"
   },
   {
    "duration": 597,
    "start_time": "2023-09-26T22:01:27.194Z"
   },
   {
    "duration": 25843,
    "start_time": "2023-09-26T22:01:27.793Z"
   },
   {
    "duration": 52,
    "start_time": "2023-09-26T22:01:53.638Z"
   },
   {
    "duration": 134,
    "start_time": "2023-09-26T22:01:53.783Z"
   },
   {
    "duration": 493,
    "start_time": "2023-09-26T22:01:53.919Z"
   },
   {
    "duration": 773,
    "start_time": "2023-09-26T22:01:54.414Z"
   },
   {
    "duration": 26140,
    "start_time": "2023-09-26T22:01:55.189Z"
   },
   {
    "duration": 7,
    "start_time": "2023-09-26T22:02:21.331Z"
   },
   {
    "duration": 34,
    "start_time": "2023-09-26T22:02:21.339Z"
   },
   {
    "duration": 13,
    "start_time": "2023-09-26T22:02:21.375Z"
   },
   {
    "duration": 29,
    "start_time": "2023-09-26T22:02:21.391Z"
   },
   {
    "duration": 43,
    "start_time": "2023-09-26T22:02:21.423Z"
   },
   {
    "duration": 99,
    "start_time": "2023-09-26T22:02:21.468Z"
   },
   {
    "duration": 192,
    "start_time": "2023-09-26T22:02:21.593Z"
   },
   {
    "duration": 641,
    "start_time": "2023-09-26T22:02:21.787Z"
   },
   {
    "duration": 32573,
    "start_time": "2023-09-26T22:02:22.430Z"
   },
   {
    "duration": 5,
    "start_time": "2023-09-26T22:02:55.005Z"
   },
   {
    "duration": 19,
    "start_time": "2023-09-26T22:02:55.012Z"
   },
   {
    "duration": 12,
    "start_time": "2023-09-26T22:02:55.032Z"
   },
   {
    "duration": 6,
    "start_time": "2023-09-26T22:02:55.046Z"
   },
   {
    "duration": 333,
    "start_time": "2023-09-26T22:02:55.054Z"
   },
   {
    "duration": 203,
    "start_time": "2023-09-26T22:02:55.390Z"
   },
   {
    "duration": 295,
    "start_time": "2023-09-26T22:02:55.595Z"
   },
   {
    "duration": 424,
    "start_time": "2023-09-26T22:02:55.891Z"
   },
   {
    "duration": 15876,
    "start_time": "2023-09-26T22:02:56.317Z"
   },
   {
    "duration": 192,
    "start_time": "2023-09-26T22:03:12.195Z"
   }
  ],
  "kernelspec": {
   "display_name": "Python 3 (ipykernel)",
   "language": "python",
   "name": "python3"
  },
  "language_info": {
   "codemirror_mode": {
    "name": "ipython",
    "version": 3
   },
   "file_extension": ".py",
   "mimetype": "text/x-python",
   "name": "python",
   "nbconvert_exporter": "python",
   "pygments_lexer": "ipython3",
   "version": "3.9.13"
  },
  "toc": {
   "base_numbering": 1,
   "nav_menu": {},
   "number_sections": true,
   "sideBar": true,
   "skip_h1_title": true,
   "title_cell": "Содержание",
   "title_sidebar": "Contents",
   "toc_cell": true,
   "toc_position": {
    "height": "calc(100% - 180px)",
    "left": "10px",
    "top": "150px",
    "width": "371.188px"
   },
   "toc_section_display": true,
   "toc_window_display": true
  }
 },
 "nbformat": 4,
 "nbformat_minor": 2
}
