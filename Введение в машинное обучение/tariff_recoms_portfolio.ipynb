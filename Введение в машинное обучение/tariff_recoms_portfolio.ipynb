{
 "cells": [
  {
   "cell_type": "markdown",
   "metadata": {},
   "source": [
    "# Рекомендация тарифов"
   ]
  },
  {
   "cell_type": "markdown",
   "metadata": {},
   "source": [
    "В вашем распоряжении данные о поведении клиентов, которые уже перешли на эти тарифы. Нужно построить модель для задачи классификации, которая выберет подходящий тариф.\n",
    "\n",
    "Необходимо построить модель с максимально большим значением *accuracy*, не менее 0.75."
   ]
  },
  {
   "cell_type": "code",
   "execution_count": 2,
   "metadata": {},
   "outputs": [],
   "source": [
    "import pandas as pd\n",
    "from sklearn.model_selection import train_test_split\n",
    "from sklearn.tree import DecisionTreeClassifier\n",
    "from sklearn.metrics import accuracy_score\n",
    "from sklearn.ensemble import RandomForestClassifier\n",
    "from sklearn.linear_model import LogisticRegression \n",
    "import seaborn as sns\n",
    "from sklearn.dummy import DummyClassifier"
   ]
  },
  {
   "cell_type": "markdown",
   "metadata": {},
   "source": [
    "## Изучение файла"
   ]
  },
  {
   "cell_type": "code",
   "execution_count": 4,
   "metadata": {},
   "outputs": [
    {
     "data": {
      "text/html": [
       "<div>\n",
       "<style scoped>\n",
       "    .dataframe tbody tr th:only-of-type {\n",
       "        vertical-align: middle;\n",
       "    }\n",
       "\n",
       "    .dataframe tbody tr th {\n",
       "        vertical-align: top;\n",
       "    }\n",
       "\n",
       "    .dataframe thead th {\n",
       "        text-align: right;\n",
       "    }\n",
       "</style>\n",
       "<table border=\"1\" class=\"dataframe\">\n",
       "  <thead>\n",
       "    <tr style=\"text-align: right;\">\n",
       "      <th></th>\n",
       "      <th>calls</th>\n",
       "      <th>minutes</th>\n",
       "      <th>messages</th>\n",
       "      <th>mb_used</th>\n",
       "      <th>is_ultra</th>\n",
       "    </tr>\n",
       "  </thead>\n",
       "  <tbody>\n",
       "    <tr>\n",
       "      <th>0</th>\n",
       "      <td>40.0</td>\n",
       "      <td>311.90</td>\n",
       "      <td>83.0</td>\n",
       "      <td>19915.42</td>\n",
       "      <td>0</td>\n",
       "    </tr>\n",
       "    <tr>\n",
       "      <th>1</th>\n",
       "      <td>85.0</td>\n",
       "      <td>516.75</td>\n",
       "      <td>56.0</td>\n",
       "      <td>22696.96</td>\n",
       "      <td>0</td>\n",
       "    </tr>\n",
       "    <tr>\n",
       "      <th>2</th>\n",
       "      <td>77.0</td>\n",
       "      <td>467.66</td>\n",
       "      <td>86.0</td>\n",
       "      <td>21060.45</td>\n",
       "      <td>0</td>\n",
       "    </tr>\n",
       "    <tr>\n",
       "      <th>3</th>\n",
       "      <td>106.0</td>\n",
       "      <td>745.53</td>\n",
       "      <td>81.0</td>\n",
       "      <td>8437.39</td>\n",
       "      <td>1</td>\n",
       "    </tr>\n",
       "    <tr>\n",
       "      <th>4</th>\n",
       "      <td>66.0</td>\n",
       "      <td>418.74</td>\n",
       "      <td>1.0</td>\n",
       "      <td>14502.75</td>\n",
       "      <td>0</td>\n",
       "    </tr>\n",
       "  </tbody>\n",
       "</table>\n",
       "</div>"
      ],
      "text/plain": [
       "   calls  minutes  messages   mb_used  is_ultra\n",
       "0   40.0   311.90      83.0  19915.42         0\n",
       "1   85.0   516.75      56.0  22696.96         0\n",
       "2   77.0   467.66      86.0  21060.45         0\n",
       "3  106.0   745.53      81.0   8437.39         1\n",
       "4   66.0   418.74       1.0  14502.75         0"
      ]
     },
     "execution_count": 4,
     "metadata": {},
     "output_type": "execute_result"
    }
   ],
   "source": [
    "df = pd.read_csv(\"C://Users//smirn//Downloads//Практикум//проекты//Введение в машинное обучение//users_behavior.csv\")\n",
    "df.head()"
   ]
  },
  {
   "cell_type": "code",
   "execution_count": 5,
   "metadata": {
    "scrolled": true
   },
   "outputs": [
    {
     "name": "stdout",
     "output_type": "stream",
     "text": [
      "<class 'pandas.core.frame.DataFrame'>\n",
      "RangeIndex: 3214 entries, 0 to 3213\n",
      "Data columns (total 5 columns):\n",
      " #   Column    Non-Null Count  Dtype  \n",
      "---  ------    --------------  -----  \n",
      " 0   calls     3214 non-null   float64\n",
      " 1   minutes   3214 non-null   float64\n",
      " 2   messages  3214 non-null   float64\n",
      " 3   mb_used   3214 non-null   float64\n",
      " 4   is_ultra  3214 non-null   int64  \n",
      "dtypes: float64(4), int64(1)\n",
      "memory usage: 125.7 KB\n"
     ]
    }
   ],
   "source": [
    "df.info()"
   ]
  },
  {
   "cell_type": "markdown",
   "metadata": {},
   "source": [
    "Пропусков нет."
   ]
  },
  {
   "cell_type": "code",
   "execution_count": 6,
   "metadata": {
    "scrolled": true
   },
   "outputs": [
    {
     "data": {
      "text/html": [
       "<div>\n",
       "<style scoped>\n",
       "    .dataframe tbody tr th:only-of-type {\n",
       "        vertical-align: middle;\n",
       "    }\n",
       "\n",
       "    .dataframe tbody tr th {\n",
       "        vertical-align: top;\n",
       "    }\n",
       "\n",
       "    .dataframe thead th {\n",
       "        text-align: right;\n",
       "    }\n",
       "</style>\n",
       "<table border=\"1\" class=\"dataframe\">\n",
       "  <thead>\n",
       "    <tr style=\"text-align: right;\">\n",
       "      <th></th>\n",
       "      <th>calls</th>\n",
       "      <th>minutes</th>\n",
       "      <th>messages</th>\n",
       "      <th>mb_used</th>\n",
       "      <th>is_ultra</th>\n",
       "    </tr>\n",
       "  </thead>\n",
       "  <tbody>\n",
       "    <tr>\n",
       "      <th>count</th>\n",
       "      <td>3214.000000</td>\n",
       "      <td>3214.000000</td>\n",
       "      <td>3214.000000</td>\n",
       "      <td>3214.000000</td>\n",
       "      <td>3214.000000</td>\n",
       "    </tr>\n",
       "    <tr>\n",
       "      <th>mean</th>\n",
       "      <td>63.038892</td>\n",
       "      <td>438.208787</td>\n",
       "      <td>38.281269</td>\n",
       "      <td>17207.673836</td>\n",
       "      <td>0.306472</td>\n",
       "    </tr>\n",
       "    <tr>\n",
       "      <th>std</th>\n",
       "      <td>33.236368</td>\n",
       "      <td>234.569872</td>\n",
       "      <td>36.148326</td>\n",
       "      <td>7570.968246</td>\n",
       "      <td>0.461100</td>\n",
       "    </tr>\n",
       "    <tr>\n",
       "      <th>min</th>\n",
       "      <td>0.000000</td>\n",
       "      <td>0.000000</td>\n",
       "      <td>0.000000</td>\n",
       "      <td>0.000000</td>\n",
       "      <td>0.000000</td>\n",
       "    </tr>\n",
       "    <tr>\n",
       "      <th>25%</th>\n",
       "      <td>40.000000</td>\n",
       "      <td>274.575000</td>\n",
       "      <td>9.000000</td>\n",
       "      <td>12491.902500</td>\n",
       "      <td>0.000000</td>\n",
       "    </tr>\n",
       "    <tr>\n",
       "      <th>50%</th>\n",
       "      <td>62.000000</td>\n",
       "      <td>430.600000</td>\n",
       "      <td>30.000000</td>\n",
       "      <td>16943.235000</td>\n",
       "      <td>0.000000</td>\n",
       "    </tr>\n",
       "    <tr>\n",
       "      <th>75%</th>\n",
       "      <td>82.000000</td>\n",
       "      <td>571.927500</td>\n",
       "      <td>57.000000</td>\n",
       "      <td>21424.700000</td>\n",
       "      <td>1.000000</td>\n",
       "    </tr>\n",
       "    <tr>\n",
       "      <th>max</th>\n",
       "      <td>244.000000</td>\n",
       "      <td>1632.060000</td>\n",
       "      <td>224.000000</td>\n",
       "      <td>49745.730000</td>\n",
       "      <td>1.000000</td>\n",
       "    </tr>\n",
       "  </tbody>\n",
       "</table>\n",
       "</div>"
      ],
      "text/plain": [
       "             calls      minutes     messages       mb_used     is_ultra\n",
       "count  3214.000000  3214.000000  3214.000000   3214.000000  3214.000000\n",
       "mean     63.038892   438.208787    38.281269  17207.673836     0.306472\n",
       "std      33.236368   234.569872    36.148326   7570.968246     0.461100\n",
       "min       0.000000     0.000000     0.000000      0.000000     0.000000\n",
       "25%      40.000000   274.575000     9.000000  12491.902500     0.000000\n",
       "50%      62.000000   430.600000    30.000000  16943.235000     0.000000\n",
       "75%      82.000000   571.927500    57.000000  21424.700000     1.000000\n",
       "max     244.000000  1632.060000   224.000000  49745.730000     1.000000"
      ]
     },
     "execution_count": 6,
     "metadata": {},
     "output_type": "execute_result"
    }
   ],
   "source": [
    "df.describe()"
   ]
  },
  {
   "cell_type": "code",
   "execution_count": 10,
   "metadata": {},
   "outputs": [
    {
     "data": {
      "image/png": "[encoded data removed]",
      "text/plain": [
       "<Figure size 640x480 with 2 Axes>"
      ]
     },
     "metadata": {},
     "output_type": "display_data"
    }
   ],
   "source": [
    "corr = df.corr()\n",
    "sns.heatmap(corr, annot=True, fmt='.2f', cmap='GnBu');"
   ]
  },
  {
   "cell_type": "markdown",
   "metadata": {},
   "source": [
    "Видим, что признаки \"calls\" и \"minutes\" очень сильно коррелируют. Поэтому удалим один из признаков."
   ]
  },
  {
   "cell_type": "code",
   "execution_count": 11,
   "metadata": {},
   "outputs": [
    {
     "data": {
      "text/html": [
       "<div>\n",
       "<style scoped>\n",
       "    .dataframe tbody tr th:only-of-type {\n",
       "        vertical-align: middle;\n",
       "    }\n",
       "\n",
       "    .dataframe tbody tr th {\n",
       "        vertical-align: top;\n",
       "    }\n",
       "\n",
       "    .dataframe thead th {\n",
       "        text-align: right;\n",
       "    }\n",
       "</style>\n",
       "<table border=\"1\" class=\"dataframe\">\n",
       "  <thead>\n",
       "    <tr style=\"text-align: right;\">\n",
       "      <th></th>\n",
       "      <th>minutes</th>\n",
       "      <th>messages</th>\n",
       "      <th>mb_used</th>\n",
       "      <th>is_ultra</th>\n",
       "    </tr>\n",
       "  </thead>\n",
       "  <tbody>\n",
       "    <tr>\n",
       "      <th>0</th>\n",
       "      <td>311.90</td>\n",
       "      <td>83.0</td>\n",
       "      <td>19915.42</td>\n",
       "      <td>0</td>\n",
       "    </tr>\n",
       "    <tr>\n",
       "      <th>1</th>\n",
       "      <td>516.75</td>\n",
       "      <td>56.0</td>\n",
       "      <td>22696.96</td>\n",
       "      <td>0</td>\n",
       "    </tr>\n",
       "    <tr>\n",
       "      <th>2</th>\n",
       "      <td>467.66</td>\n",
       "      <td>86.0</td>\n",
       "      <td>21060.45</td>\n",
       "      <td>0</td>\n",
       "    </tr>\n",
       "    <tr>\n",
       "      <th>3</th>\n",
       "      <td>745.53</td>\n",
       "      <td>81.0</td>\n",
       "      <td>8437.39</td>\n",
       "      <td>1</td>\n",
       "    </tr>\n",
       "    <tr>\n",
       "      <th>4</th>\n",
       "      <td>418.74</td>\n",
       "      <td>1.0</td>\n",
       "      <td>14502.75</td>\n",
       "      <td>0</td>\n",
       "    </tr>\n",
       "    <tr>\n",
       "      <th>...</th>\n",
       "      <td>...</td>\n",
       "      <td>...</td>\n",
       "      <td>...</td>\n",
       "      <td>...</td>\n",
       "    </tr>\n",
       "    <tr>\n",
       "      <th>3209</th>\n",
       "      <td>910.98</td>\n",
       "      <td>20.0</td>\n",
       "      <td>35124.90</td>\n",
       "      <td>1</td>\n",
       "    </tr>\n",
       "    <tr>\n",
       "      <th>3210</th>\n",
       "      <td>190.36</td>\n",
       "      <td>0.0</td>\n",
       "      <td>3275.61</td>\n",
       "      <td>0</td>\n",
       "    </tr>\n",
       "    <tr>\n",
       "      <th>3211</th>\n",
       "      <td>634.44</td>\n",
       "      <td>70.0</td>\n",
       "      <td>13974.06</td>\n",
       "      <td>0</td>\n",
       "    </tr>\n",
       "    <tr>\n",
       "      <th>3212</th>\n",
       "      <td>462.32</td>\n",
       "      <td>90.0</td>\n",
       "      <td>31239.78</td>\n",
       "      <td>0</td>\n",
       "    </tr>\n",
       "    <tr>\n",
       "      <th>3213</th>\n",
       "      <td>566.09</td>\n",
       "      <td>6.0</td>\n",
       "      <td>29480.52</td>\n",
       "      <td>1</td>\n",
       "    </tr>\n",
       "  </tbody>\n",
       "</table>\n",
       "<p>3214 rows × 4 columns</p>\n",
       "</div>"
      ],
      "text/plain": [
       "      minutes  messages   mb_used  is_ultra\n",
       "0      311.90      83.0  19915.42         0\n",
       "1      516.75      56.0  22696.96         0\n",
       "2      467.66      86.0  21060.45         0\n",
       "3      745.53      81.0   8437.39         1\n",
       "4      418.74       1.0  14502.75         0\n",
       "...       ...       ...       ...       ...\n",
       "3209   910.98      20.0  35124.90         1\n",
       "3210   190.36       0.0   3275.61         0\n",
       "3211   634.44      70.0  13974.06         0\n",
       "3212   462.32      90.0  31239.78         0\n",
       "3213   566.09       6.0  29480.52         1\n",
       "\n",
       "[3214 rows x 4 columns]"
      ]
     },
     "execution_count": 11,
     "metadata": {},
     "output_type": "execute_result"
    }
   ],
   "source": [
    "df = df.drop('calls', axis=1)\n",
    "df"
   ]
  },
  {
   "cell_type": "markdown",
   "metadata": {},
   "source": [
    "## Разбиение данных на выборки"
   ]
  },
  {
   "cell_type": "code",
   "execution_count": 12,
   "metadata": {},
   "outputs": [
    {
     "name": "stdout",
     "output_type": "stream",
     "text": [
      "(1286, 4)\n",
      "(1928, 4)\n"
     ]
    }
   ],
   "source": [
    "df_train, df_valid_test = train_test_split(df, test_size=0.4, random_state=12345)\n",
    "print(df_valid_test.shape)\n",
    "print(df_train.shape)"
   ]
  },
  {
   "cell_type": "code",
   "execution_count": 13,
   "metadata": {
    "scrolled": true
   },
   "outputs": [
    {
     "name": "stdout",
     "output_type": "stream",
     "text": [
      "(643, 4)\n",
      "(643, 4)\n"
     ]
    }
   ],
   "source": [
    "df_valid, df_test = train_test_split(df_valid_test, test_size=0.5, random_state=12345)\n",
    "print(df_valid.shape)\n",
    "print(df_test.shape)"
   ]
  },
  {
   "cell_type": "markdown",
   "metadata": {},
   "source": [
    "Разбили данные на выборки в пропорции 3:1:1 (60% - обучающая, 20% - валидационная и 20% - тестовая)"
   ]
  },
  {
   "cell_type": "markdown",
   "metadata": {},
   "source": [
    "## Исследование модели"
   ]
  },
  {
   "cell_type": "code",
   "execution_count": 21,
   "metadata": {},
   "outputs": [
    {
     "name": "stdout",
     "output_type": "stream",
     "text": [
      "max_depth = 1 : 0.7542768273716952\n",
      "max_depth = 2 : 0.7822706065318819\n",
      "max_depth = 3 : 0.7853810264385692\n",
      "max_depth = 4 : 0.7884914463452566\n",
      "max_depth = 5 : 0.7884914463452566\n",
      "Best model: DecisionTreeClassifier(max_depth=4, random_state=12345)\n"
     ]
    }
   ],
   "source": [
    "features_train = df_train.drop('is_ultra', axis=1)\n",
    "target_train = df_train['is_ultra']\n",
    "\n",
    "features_valid = df_valid.drop('is_ultra', axis=1)\n",
    "target_valid = df_valid['is_ultra']\n",
    "\n",
    "best_model_tree = None\n",
    "best_accuracy = 0\n",
    "\n",
    "for i in range(1,6):\n",
    "    model = DecisionTreeClassifier(max_depth = i, random_state=12345)\n",
    "    model.fit(features_train, target_train)\n",
    "    answers = model.predict(features_valid)\n",
    "    accuracy = accuracy_score(target_valid, answers)\n",
    "    print('max_depth =', i, ':', accuracy)\n",
    "    if accuracy > best_accuracy:\n",
    "        best_model_tree = model\n",
    "        best_accuracy = accuracy\n",
    "print('Best model:', best_model_tree)"
   ]
  },
  {
   "cell_type": "markdown",
   "metadata": {},
   "source": [
    "Исследовали модели дерева решений с разными значениями максимальной глубины. Лучший результат показала модель с максимальной глубиной равной 4."
   ]
  },
  {
   "cell_type": "code",
   "execution_count": 15,
   "metadata": {},
   "outputs": [
    {
     "name": "stdout",
     "output_type": "stream",
     "text": [
      "Accuracy наилучшей модели на валидационной выборке: 0.7589424572317263\n",
      "Количество оценщиков наилучшей модели: 10\n"
     ]
    }
   ],
   "source": [
    "best_model_forest = None\n",
    "best_result = 0\n",
    "est = 0\n",
    "for est in range(1,11):\n",
    "    model = RandomForestClassifier(random_state=12345, n_estimators=est)\n",
    "    model.fit(features_train, target_train)\n",
    "    result = model.score(features_valid, target_valid)\n",
    "    if result > best_result:\n",
    "            best_result = result\n",
    "            best_model_forest = model\n",
    "            est = est\n",
    "            \n",
    "print(\"Accuracy наилучшей модели на валидационной выборке:\", best_result)\n",
    "print(\"Количество оценщиков наилучшей модели:\", est)"
   ]
  },
  {
   "cell_type": "markdown",
   "metadata": {},
   "source": [
    "Исследовали модель случайного леса с разным количеством оценщиков. Лучший результат с наибольшим количеством оценщиков. Точность получилась хуже, чем у дерева решений с максимальной глубиной 4."
   ]
  },
  {
   "cell_type": "code",
   "execution_count": 16,
   "metadata": {},
   "outputs": [
    {
     "name": "stdout",
     "output_type": "stream",
     "text": [
      "Accuracy = 0.7558320373250389\n"
     ]
    }
   ],
   "source": [
    "model = LogisticRegression(random_state=12345, solver='lbfgs', max_iter=1000) \n",
    "model.fit(features_train, target_train)\n",
    "answers = model.predict(features_valid)\n",
    "accuracy = accuracy_score(target_valid, answers)\n",
    "print('Accuracy =', accuracy)"
   ]
  },
  {
   "cell_type": "markdown",
   "metadata": {},
   "source": [
    "Исследовали модель логистической регрессии. Результат оказался хуже."
   ]
  },
  {
   "cell_type": "markdown",
   "metadata": {},
   "source": [
    "## Проверка модели на тестовой выборке"
   ]
  },
  {
   "cell_type": "code",
   "execution_count": 22,
   "metadata": {},
   "outputs": [
    {
     "name": "stdout",
     "output_type": "stream",
     "text": [
      "Accuracy наилучшей модели дерева решений: 0.7807153965785381\n"
     ]
    }
   ],
   "source": [
    "features_test = df_test.drop('is_ultra', axis=1)\n",
    "target_test = df_test['is_ultra']\n",
    "\n",
    "accuracy_bmt_test = best_model_tree.score(features_test, target_test)\n",
    "\n",
    "print('Accuracy наилучшей модели дерева решений:', accuracy_bmt_test)"
   ]
  },
  {
   "cell_type": "markdown",
   "metadata": {},
   "source": [
    "Проверил модели дерева решений на тестовой выборке."
   ]
  },
  {
   "cell_type": "markdown",
   "metadata": {},
   "source": [
    "## Проверка модели на адекватность"
   ]
  },
  {
   "cell_type": "code",
   "execution_count": 32,
   "metadata": {},
   "outputs": [
    {
     "name": "stdout",
     "output_type": "stream",
     "text": [
      "Точность случайной модели: 0.6842923794712286\n"
     ]
    }
   ],
   "source": [
    "dummy_model = DummyClassifier(strategy='most_frequent')\n",
    "dummy_model.fit(features_train_valid, target_train_valid)\n",
    "\n",
    "dummy_accuracy = dummy_model.score(features_test, target_test)\n",
    "\n",
    "print('Точность фиктивной модели:', dummy_accuracy)"
   ]
  },
  {
   "cell_type": "markdown",
   "metadata": {},
   "source": [
    "Для фиктивной модели точность оказалась ниже."
   ]
  },
  {
   "cell_type": "markdown",
   "metadata": {},
   "source": [
    "## Вывод"
   ]
  },
  {
   "cell_type": "markdown",
   "metadata": {},
   "source": [
    "Имелись данные о поведение клиентов, уже выбравших тариф. Необходимо было построить модель, которая верно бы классифицировала пользователя.    \n",
    "Я изучил данные, разбил их на выборки и обучил несколько моделей с перебором гиперпараметров.    \n",
    "Наилучший результат дала модель дерева решений с максимальной глубиной 4.    \n",
    "На тестовой выборке получили точность равную 0,78.    \n",
    "Фиктивная модель, выдающая самый частый ответ, оказалась менее точной."
   ]
  }
 ],
 "metadata": {
  "ExecuteTimeLog": [
   {
    "duration": 45,
    "start_time": "2023-08-15T12:52:14.896Z"
   },
   {
    "duration": 335,
    "start_time": "2023-08-15T12:52:19.534Z"
   },
   {
    "duration": 74,
    "start_time": "2023-08-15T12:52:20.096Z"
   },
   {
    "duration": 42,
    "start_time": "2023-08-15T12:52:37.113Z"
   },
   {
    "duration": 11,
    "start_time": "2023-08-15T12:53:21.074Z"
   },
   {
    "duration": 25,
    "start_time": "2023-08-15T12:53:37.374Z"
   },
   {
    "duration": 4,
    "start_time": "2023-08-15T12:53:48.668Z"
   },
   {
    "duration": 8,
    "start_time": "2023-08-15T12:54:07.269Z"
   },
   {
    "duration": 34,
    "start_time": "2023-08-15T12:54:15.669Z"
   },
   {
    "duration": 750,
    "start_time": "2023-08-15T12:59:54.490Z"
   },
   {
    "duration": 5,
    "start_time": "2023-08-15T13:01:10.659Z"
   },
   {
    "duration": 8,
    "start_time": "2023-08-15T13:01:20.974Z"
   },
   {
    "duration": 5,
    "start_time": "2023-08-15T13:02:42.416Z"
   },
   {
    "duration": 6,
    "start_time": "2023-08-15T13:02:46.224Z"
   },
   {
    "duration": 6,
    "start_time": "2023-08-15T13:03:21.004Z"
   },
   {
    "duration": 4,
    "start_time": "2023-08-15T13:03:52.480Z"
   },
   {
    "duration": 5,
    "start_time": "2023-08-15T13:04:13.775Z"
   },
   {
    "duration": 49,
    "start_time": "2023-08-15T13:15:51.619Z"
   },
   {
    "duration": 84,
    "start_time": "2023-08-15T13:30:12.699Z"
   },
   {
    "duration": 35,
    "start_time": "2023-08-15T13:30:39.839Z"
   },
   {
    "duration": 91,
    "start_time": "2023-08-15T13:30:55.969Z"
   },
   {
    "duration": 42,
    "start_time": "2023-08-15T13:31:12.795Z"
   },
   {
    "duration": 56,
    "start_time": "2023-08-15T13:48:01.643Z"
   },
   {
    "duration": 10,
    "start_time": "2023-08-15T13:48:06.258Z"
   },
   {
    "duration": 296,
    "start_time": "2023-08-15T13:48:09.968Z"
   },
   {
    "duration": 267,
    "start_time": "2023-08-15T14:02:22.620Z"
   },
   {
    "duration": 446,
    "start_time": "2023-08-15T14:02:34.463Z"
   },
   {
    "duration": 318,
    "start_time": "2023-08-15T14:02:41.697Z"
   },
   {
    "duration": 2482,
    "start_time": "2023-08-15T14:02:47.999Z"
   },
   {
    "duration": 24153,
    "start_time": "2023-08-15T14:03:01.183Z"
   },
   {
    "duration": 257,
    "start_time": "2023-08-15T14:07:02.198Z"
   },
   {
    "duration": 142,
    "start_time": "2023-08-15T14:07:13.613Z"
   },
   {
    "duration": 274,
    "start_time": "2023-08-15T14:07:19.886Z"
   },
   {
    "duration": 3,
    "start_time": "2023-08-15T14:08:17.349Z"
   },
   {
    "duration": 13,
    "start_time": "2023-08-15T14:10:52.390Z"
   },
   {
    "duration": 43,
    "start_time": "2023-08-15T14:11:12.212Z"
   },
   {
    "duration": 229,
    "start_time": "2023-08-15T14:13:11.612Z"
   },
   {
    "duration": 189,
    "start_time": "2023-08-15T14:13:18.272Z"
   },
   {
    "duration": 186,
    "start_time": "2023-08-15T14:13:44.512Z"
   },
   {
    "duration": 161,
    "start_time": "2023-08-15T14:14:55.902Z"
   },
   {
    "duration": 24,
    "start_time": "2023-08-15T14:15:23.288Z"
   },
   {
    "duration": 30,
    "start_time": "2023-08-15T14:15:51.591Z"
   },
   {
    "duration": 31,
    "start_time": "2023-08-15T14:32:57.872Z"
   },
   {
    "duration": 3,
    "start_time": "2023-08-15T14:45:36.958Z"
   },
   {
    "duration": 37,
    "start_time": "2023-08-15T14:45:37.478Z"
   },
   {
    "duration": 10,
    "start_time": "2023-08-15T14:45:37.756Z"
   },
   {
    "duration": 20,
    "start_time": "2023-08-15T14:45:38.020Z"
   },
   {
    "duration": 7,
    "start_time": "2023-08-15T14:45:38.595Z"
   },
   {
    "duration": 5,
    "start_time": "2023-08-15T14:45:39.106Z"
   },
   {
    "duration": 33,
    "start_time": "2023-08-15T14:45:40.706Z"
   },
   {
    "duration": 262,
    "start_time": "2023-08-15T14:45:42.730Z"
   },
   {
    "duration": 24,
    "start_time": "2023-08-15T14:45:44.926Z"
   },
   {
    "duration": 12,
    "start_time": "2023-08-15T14:54:48.040Z"
   },
   {
    "duration": 251,
    "start_time": "2023-08-15T15:48:58.399Z"
   },
   {
    "duration": 28,
    "start_time": "2023-08-15T16:06:09.063Z"
   },
   {
    "duration": 11,
    "start_time": "2023-08-15T16:06:44.509Z"
   },
   {
    "duration": 1681,
    "start_time": "2023-08-16T09:21:39.737Z"
   },
   {
    "duration": 77,
    "start_time": "2023-08-16T09:21:48.278Z"
   },
   {
    "duration": 12,
    "start_time": "2023-08-16T09:21:50.368Z"
   },
   {
    "duration": 23,
    "start_time": "2023-08-16T09:21:52.468Z"
   },
   {
    "duration": 5180,
    "start_time": "2023-08-16T09:22:41.377Z"
   },
   {
    "duration": 3668,
    "start_time": "2023-08-16T09:23:10.258Z"
   },
   {
    "duration": 5222,
    "start_time": "2023-08-16T09:24:39.754Z"
   },
   {
    "duration": 4965,
    "start_time": "2023-08-16T09:24:48.703Z"
   },
   {
    "duration": 13,
    "start_time": "2023-08-16T09:28:28.651Z"
   },
   {
    "duration": 164,
    "start_time": "2023-08-16T09:35:19.954Z"
   },
   {
    "duration": 113,
    "start_time": "2023-08-16T09:35:32.924Z"
   },
   {
    "duration": 203,
    "start_time": "2023-08-16T10:33:06.945Z"
   },
   {
    "duration": 4,
    "start_time": "2023-08-16T10:33:15.915Z"
   },
   {
    "duration": 36,
    "start_time": "2023-08-16T10:33:16.475Z"
   },
   {
    "duration": 14,
    "start_time": "2023-08-16T10:33:16.513Z"
   },
   {
    "duration": 30,
    "start_time": "2023-08-16T10:33:16.555Z"
   },
   {
    "duration": 5266,
    "start_time": "2023-08-16T10:33:16.615Z"
   },
   {
    "duration": 15,
    "start_time": "2023-08-16T10:33:21.883Z"
   },
   {
    "duration": 23,
    "start_time": "2023-08-16T10:33:21.900Z"
   },
   {
    "duration": 16,
    "start_time": "2023-08-16T10:33:21.926Z"
   },
   {
    "duration": 51,
    "start_time": "2023-08-16T10:33:21.944Z"
   },
   {
    "duration": 285,
    "start_time": "2023-08-16T10:33:21.997Z"
   },
   {
    "duration": 34,
    "start_time": "2023-08-16T10:33:22.284Z"
   },
   {
    "duration": 14,
    "start_time": "2023-08-16T10:33:22.321Z"
   },
   {
    "duration": 11,
    "start_time": "2023-08-16T10:33:22.359Z"
   },
   {
    "duration": 11,
    "start_time": "2023-08-16T10:33:27.215Z"
   },
   {
    "duration": 16,
    "start_time": "2023-08-16T10:33:39.095Z"
   },
   {
    "duration": 12,
    "start_time": "2023-08-16T10:35:35.496Z"
   },
   {
    "duration": 63,
    "start_time": "2023-08-16T10:43:28.390Z"
   },
   {
    "duration": 12,
    "start_time": "2023-08-16T10:57:40.764Z"
   },
   {
    "duration": 4,
    "start_time": "2023-08-16T10:57:48.394Z"
   },
   {
    "duration": 6,
    "start_time": "2023-08-16T10:57:53.304Z"
   }
  ],
  "kernelspec": {
   "display_name": "Python 3 (ipykernel)",
   "language": "python",
   "name": "python3"
  },
  "language_info": {
   "codemirror_mode": {
    "name": "ipython",
    "version": 3
   },
   "file_extension": ".py",
   "mimetype": "text/x-python",
   "name": "python",
   "nbconvert_exporter": "python",
   "pygments_lexer": "ipython3",
   "version": "3.9.13"
  },
  "toc": {
   "base_numbering": 1,
   "nav_menu": {},
   "number_sections": true,
   "sideBar": true,
   "skip_h1_title": true,
   "title_cell": "Table of Contents",
   "title_sidebar": "Contents",
   "toc_cell": false,
   "toc_position": {},
   "toc_section_display": true,
   "toc_window_display": false
  }
 },
 "nbformat": 4,
 "nbformat_minor": 2
}
