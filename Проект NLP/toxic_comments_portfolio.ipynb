{
 "cells": [
  {
   "cell_type": "markdown",
   "metadata": {
    "toc": true
   },
   "source": [
    "<h1>Содержание<span class=\"tocSkip\"></span></h1>\n",
    "<div class=\"toc\"><ul class=\"toc-item\"><li><span><a href=\"#Подготовка\" data-toc-modified-id=\"Подготовка-1\"><span class=\"toc-item-num\">1&nbsp;&nbsp;</span>Подготовка</a></span></li><li><span><a href=\"#Обучение\" data-toc-modified-id=\"Обучение-2\"><span class=\"toc-item-num\">2&nbsp;&nbsp;</span>Обучение</a></span><ul class=\"toc-item\"><li><span><a href=\"#LogisticRegression\" data-toc-modified-id=\"LogisticRegression-2.1\"><span class=\"toc-item-num\">2.1&nbsp;&nbsp;</span>LogisticRegression</a></span></li><li><span><a href=\"#CatBoost\" data-toc-modified-id=\"CatBoost-2.2\"><span class=\"toc-item-num\">2.2&nbsp;&nbsp;</span>CatBoost</a></span></li></ul></li><li><span><a href=\"#Тестирование\" data-toc-modified-id=\"Тестирование-3\"><span class=\"toc-item-num\">3&nbsp;&nbsp;</span>Тестирование</a></span></li><li><span><a href=\"#Выводы\" data-toc-modified-id=\"Выводы-4\"><span class=\"toc-item-num\">4&nbsp;&nbsp;</span>Выводы</a></span></li><li><span><a href=\"#Чек-лист-проверки\" data-toc-modified-id=\"Чек-лист-проверки-5\"><span class=\"toc-item-num\">5&nbsp;&nbsp;</span>Чек-лист проверки</a></span></li></ul></div>"
   ]
  },
  {
   "cell_type": "markdown",
   "metadata": {},
   "source": [
    "# Проект для «Викишоп»"
   ]
  },
  {
   "cell_type": "markdown",
   "metadata": {},
   "source": [
    "Интернет-магазин «Викишоп» запускает новый сервис. Теперь пользователи могут редактировать и дополнять описания товаров, как в вики-сообществах. То есть клиенты предлагают свои правки и комментируют изменения других. Магазину нужен инструмент, который будет искать токсичные комментарии и отправлять их на модерацию. \n",
    "\n",
    "Необходимо обучить модель классифицировать комментарии на позитивные и негативные. В распоряжении набор данных с разметкой о токсичности правок.\n",
    "\n",
    "Построенная модель должна быть со значением метрики качества *F1* не меньше 0.75. \n",
    "\n",
    "**Описание данных**\n",
    "\n",
    "Данные находятся в файле `toxic_comments.csv`. Столбец *text* в нём содержит текст комментария, а *toxic* — целевой признак."
   ]
  },
  {
   "cell_type": "markdown",
   "metadata": {},
   "source": [
    "## Подготовка"
   ]
  },
  {
   "cell_type": "code",
   "execution_count": 1,
   "metadata": {},
   "outputs": [
    {
     "name": "stdout",
     "output_type": "stream",
     "text": [
      "Requirement already satisfied: torch in /opt/conda/lib/python3.9/site-packages (1.10.0)\r\n",
      "Requirement already satisfied: typing-extensions in /opt/conda/lib/python3.9/site-packages (from torch) (4.3.0)\r\n"
     ]
    }
   ],
   "source": [
    "!pip install torch"
   ]
  },
  {
   "cell_type": "code",
   "execution_count": 2,
   "metadata": {},
   "outputs": [
    {
     "name": "stdout",
     "output_type": "stream",
     "text": [
      "Requirement already satisfied: transformers in /opt/conda/lib/python3.9/site-packages (4.12.5)\n",
      "Requirement already satisfied: sacremoses in /opt/conda/lib/python3.9/site-packages (from transformers) (0.0.53)\n",
      "Requirement already satisfied: regex!=2019.12.17 in /opt/conda/lib/python3.9/site-packages (from transformers) (2022.8.17)\n",
      "Requirement already satisfied: filelock in /opt/conda/lib/python3.9/site-packages (from transformers) (3.8.0)\n",
      "Requirement already satisfied: packaging>=20.0 in /opt/conda/lib/python3.9/site-packages (from transformers) (21.3)\n",
      "Requirement already satisfied: tokenizers<0.11,>=0.10.1 in /opt/conda/lib/python3.9/site-packages (from transformers) (0.10.3)\n",
      "Requirement already satisfied: huggingface-hub<1.0,>=0.1.0 in /opt/conda/lib/python3.9/site-packages (from transformers) (0.9.1)\n",
      "Requirement already satisfied: tqdm>=4.27 in /opt/conda/lib/python3.9/site-packages (from transformers) (4.61.2)\n",
      "Requirement already satisfied: pyyaml>=5.1 in /opt/conda/lib/python3.9/site-packages (from transformers) (6.0)\n",
      "Requirement already satisfied: requests in /opt/conda/lib/python3.9/site-packages (from transformers) (2.25.1)\n",
      "Requirement already satisfied: numpy>=1.17 in /opt/conda/lib/python3.9/site-packages (from transformers) (1.21.1)\n",
      "Requirement already satisfied: typing-extensions>=3.7.4.3 in /opt/conda/lib/python3.9/site-packages (from huggingface-hub<1.0,>=0.1.0->transformers) (4.3.0)\n",
      "Requirement already satisfied: pyparsing!=3.0.5,>=2.0.2 in /opt/conda/lib/python3.9/site-packages (from packaging>=20.0->transformers) (2.4.7)\n",
      "Requirement already satisfied: idna<3,>=2.5 in /opt/conda/lib/python3.9/site-packages (from requests->transformers) (2.10)\n",
      "Requirement already satisfied: certifi>=2017.4.17 in /opt/conda/lib/python3.9/site-packages (from requests->transformers) (2022.6.15)\n",
      "Requirement already satisfied: chardet<5,>=3.0.2 in /opt/conda/lib/python3.9/site-packages (from requests->transformers) (4.0.0)\n",
      "Requirement already satisfied: urllib3<1.27,>=1.21.1 in /opt/conda/lib/python3.9/site-packages (from requests->transformers) (1.26.6)\n",
      "Requirement already satisfied: joblib in /opt/conda/lib/python3.9/site-packages (from sacremoses->transformers) (1.1.0)\n",
      "Requirement already satisfied: click in /opt/conda/lib/python3.9/site-packages (from sacremoses->transformers) (8.1.3)\n",
      "Requirement already satisfied: six in /opt/conda/lib/python3.9/site-packages (from sacremoses->transformers) (1.16.0)\n"
     ]
    }
   ],
   "source": [
    "!pip install transformers"
   ]
  },
  {
   "cell_type": "code",
   "execution_count": 3,
   "metadata": {},
   "outputs": [
    {
     "name": "stdout",
     "output_type": "stream",
     "text": [
      "Requirement already satisfied: wordcloud in /opt/conda/lib/python3.9/site-packages (1.9.3)\n",
      "Requirement already satisfied: pillow in /opt/conda/lib/python3.9/site-packages (from wordcloud) (10.2.0)\n",
      "Requirement already satisfied: numpy>=1.6.1 in /opt/conda/lib/python3.9/site-packages (from wordcloud) (1.21.1)\n",
      "Requirement already satisfied: matplotlib in /opt/conda/lib/python3.9/site-packages (from wordcloud) (3.3.4)\n",
      "Requirement already satisfied: python-dateutil>=2.1 in /opt/conda/lib/python3.9/site-packages (from matplotlib->wordcloud) (2.8.1)\n",
      "Requirement already satisfied: kiwisolver>=1.0.1 in /opt/conda/lib/python3.9/site-packages (from matplotlib->wordcloud) (1.4.4)\n",
      "Requirement already satisfied: cycler>=0.10 in /opt/conda/lib/python3.9/site-packages (from matplotlib->wordcloud) (0.11.0)\n",
      "Requirement already satisfied: pyparsing!=2.0.4,!=2.1.2,!=2.1.6,>=2.0.3 in /opt/conda/lib/python3.9/site-packages (from matplotlib->wordcloud) (2.4.7)\n",
      "Requirement already satisfied: six>=1.5 in /opt/conda/lib/python3.9/site-packages (from python-dateutil>=2.1->matplotlib->wordcloud) (1.16.0)\n"
     ]
    }
   ],
   "source": [
    "!pip install wordcloud"
   ]
  },
  {
   "cell_type": "code",
   "execution_count": 4,
   "metadata": {},
   "outputs": [
    {
     "name": "stdout",
     "output_type": "stream",
     "text": [
      "Requirement already satisfied: wordcloud in /opt/conda/lib/python3.9/site-packages (1.9.3)\n",
      "Requirement already satisfied: matplotlib in /opt/conda/lib/python3.9/site-packages (from wordcloud) (3.3.4)\n",
      "Requirement already satisfied: numpy>=1.6.1 in /opt/conda/lib/python3.9/site-packages (from wordcloud) (1.21.1)\n",
      "Requirement already satisfied: pillow in /opt/conda/lib/python3.9/site-packages (from wordcloud) (10.2.0)\n",
      "Requirement already satisfied: pyparsing!=2.0.4,!=2.1.2,!=2.1.6,>=2.0.3 in /opt/conda/lib/python3.9/site-packages (from matplotlib->wordcloud) (2.4.7)\n",
      "Requirement already satisfied: kiwisolver>=1.0.1 in /opt/conda/lib/python3.9/site-packages (from matplotlib->wordcloud) (1.4.4)\n",
      "Requirement already satisfied: cycler>=0.10 in /opt/conda/lib/python3.9/site-packages (from matplotlib->wordcloud) (0.11.0)\n",
      "Requirement already satisfied: python-dateutil>=2.1 in /opt/conda/lib/python3.9/site-packages (from matplotlib->wordcloud) (2.8.1)\n",
      "Requirement already satisfied: six>=1.5 in /opt/conda/lib/python3.9/site-packages (from python-dateutil>=2.1->matplotlib->wordcloud) (1.16.0)\n"
     ]
    }
   ],
   "source": [
    "!/opt/conda/bin/python -m pip install wordcloud "
   ]
  },
  {
   "cell_type": "code",
   "execution_count": 5,
   "metadata": {},
   "outputs": [],
   "source": [
    "import numpy as np\n",
    "import pandas as pd\n",
    "import matplotlib.pyplot as plt\n",
    "from sklearn.linear_model import LogisticRegression\n",
    "from sklearn.model_selection import cross_val_score, train_test_split, GridSearchCV\n",
    "from sklearn.metrics import f1_score\n",
    "import catboost\n",
    "from catboost import CatBoostClassifier\n",
    "from tqdm import notebook\n",
    "import torch\n",
    "import transformers\n",
    "from transformers import BertTokenizer, BertModel\n",
    "from wordcloud import WordCloud\n",
    "import nltk\n",
    "import re\n",
    "from nltk.corpus import stopwords as nltk_stopwords\n",
    "from nltk.stem import WordNetLemmatizer\n",
    "from nltk import word_tokenize\n",
    "import string\n",
    "from nltk.probability import FreqDist"
   ]
  },
  {
   "cell_type": "markdown",
   "metadata": {},
   "source": [
    "Импортировал необходимые библиотеки."
   ]
  },
  {
   "cell_type": "code",
   "execution_count": 6,
   "metadata": {
    "scrolled": false
   },
   "outputs": [
    {
     "data": {
      "text/html": [
       "<div>\n",
       "<style scoped>\n",
       "    .dataframe tbody tr th:only-of-type {\n",
       "        vertical-align: middle;\n",
       "    }\n",
       "\n",
       "    .dataframe tbody tr th {\n",
       "        vertical-align: top;\n",
       "    }\n",
       "\n",
       "    .dataframe thead th {\n",
       "        text-align: right;\n",
       "    }\n",
       "</style>\n",
       "<table border=\"1\" class=\"dataframe\">\n",
       "  <thead>\n",
       "    <tr style=\"text-align: right;\">\n",
       "      <th></th>\n",
       "      <th>text</th>\n",
       "      <th>toxic</th>\n",
       "    </tr>\n",
       "  </thead>\n",
       "  <tbody>\n",
       "    <tr>\n",
       "      <th>0</th>\n",
       "      <td>Explanation\\nWhy the edits made under my usern...</td>\n",
       "      <td>0</td>\n",
       "    </tr>\n",
       "    <tr>\n",
       "      <th>1</th>\n",
       "      <td>D'aww! He matches this background colour I'm s...</td>\n",
       "      <td>0</td>\n",
       "    </tr>\n",
       "    <tr>\n",
       "      <th>2</th>\n",
       "      <td>Hey man, I'm really not trying to edit war. It...</td>\n",
       "      <td>0</td>\n",
       "    </tr>\n",
       "    <tr>\n",
       "      <th>3</th>\n",
       "      <td>\"\\nMore\\nI can't make any real suggestions on ...</td>\n",
       "      <td>0</td>\n",
       "    </tr>\n",
       "    <tr>\n",
       "      <th>4</th>\n",
       "      <td>You, sir, are my hero. Any chance you remember...</td>\n",
       "      <td>0</td>\n",
       "    </tr>\n",
       "    <tr>\n",
       "      <th>...</th>\n",
       "      <td>...</td>\n",
       "      <td>...</td>\n",
       "    </tr>\n",
       "    <tr>\n",
       "      <th>159446</th>\n",
       "      <td>\":::::And for the second time of asking, when ...</td>\n",
       "      <td>0</td>\n",
       "    </tr>\n",
       "    <tr>\n",
       "      <th>159447</th>\n",
       "      <td>You should be ashamed of yourself \\n\\nThat is ...</td>\n",
       "      <td>0</td>\n",
       "    </tr>\n",
       "    <tr>\n",
       "      <th>159448</th>\n",
       "      <td>Spitzer \\n\\nUmm, theres no actual article for ...</td>\n",
       "      <td>0</td>\n",
       "    </tr>\n",
       "    <tr>\n",
       "      <th>159449</th>\n",
       "      <td>And it looks like it was actually you who put ...</td>\n",
       "      <td>0</td>\n",
       "    </tr>\n",
       "    <tr>\n",
       "      <th>159450</th>\n",
       "      <td>\"\\nAnd ... I really don't think you understand...</td>\n",
       "      <td>0</td>\n",
       "    </tr>\n",
       "  </tbody>\n",
       "</table>\n",
       "<p>159292 rows × 2 columns</p>\n",
       "</div>"
      ],
      "text/plain": [
       "                                                     text  toxic\n",
       "0       Explanation\\nWhy the edits made under my usern...      0\n",
       "1       D'aww! He matches this background colour I'm s...      0\n",
       "2       Hey man, I'm really not trying to edit war. It...      0\n",
       "3       \"\\nMore\\nI can't make any real suggestions on ...      0\n",
       "4       You, sir, are my hero. Any chance you remember...      0\n",
       "...                                                   ...    ...\n",
       "159446  \":::::And for the second time of asking, when ...      0\n",
       "159447  You should be ashamed of yourself \\n\\nThat is ...      0\n",
       "159448  Spitzer \\n\\nUmm, theres no actual article for ...      0\n",
       "159449  And it looks like it was actually you who put ...      0\n",
       "159450  \"\\nAnd ... I really don't think you understand...      0\n",
       "\n",
       "[159292 rows x 2 columns]"
      ]
     },
     "execution_count": 6,
     "metadata": {},
     "output_type": "execute_result"
    }
   ],
   "source": [
    "toxic_comments = pd.read_csv('/datasets/toxic_comments.csv', index_col=[0])\n",
    "# toxic_comments = pd.read_csv('C://Users//smirn//Downloads//Практикум//проекты//Проект NLP//toxic_comments.csv', index_col=[0])\n",
    "toxic_comments"
   ]
  },
  {
   "cell_type": "markdown",
   "metadata": {},
   "source": [
    "Загрузил датафрейм."
   ]
  },
  {
   "cell_type": "code",
   "execution_count": 7,
   "metadata": {
    "scrolled": false
   },
   "outputs": [
    {
     "data": {
      "image/png": "[encoded data removed]",
      "text/plain": [
       "<Figure size 432x288 with 1 Axes>"
      ]
     },
     "metadata": {},
     "output_type": "display_data"
    }
   ],
   "source": [
    "tc = toxic_comments['toxic'].value_counts()\n",
    "plt.pie(tc, labels=tc.index.values, autopct='%i%%');\n",
    "plt.title(\"Toxic and Non-toxic comments\");"
   ]
  },
  {
   "cell_type": "markdown",
   "metadata": {},
   "source": [
    "Построил как распределены комментарии по токсичности."
   ]
  },
  {
   "cell_type": "code",
   "execution_count": 8,
   "metadata": {},
   "outputs": [
    {
     "data": {
      "text/plain": [
       "0.10161213369158527"
      ]
     },
     "execution_count": 8,
     "metadata": {},
     "output_type": "execute_result"
    }
   ],
   "source": [
    "toxic_comments[toxic_comments['toxic'] == 1]['toxic'].count() / toxic_comments.shape[0]"
   ]
  },
  {
   "cell_type": "markdown",
   "metadata": {},
   "source": [
    "В исходных данных примерно 10% токсичных комментариев."
   ]
  },
  {
   "cell_type": "code",
   "execution_count": 9,
   "metadata": {
    "scrolled": false
   },
   "outputs": [
    {
     "data": {
      "text/html": [
       "<div>\n",
       "<style scoped>\n",
       "    .dataframe tbody tr th:only-of-type {\n",
       "        vertical-align: middle;\n",
       "    }\n",
       "\n",
       "    .dataframe tbody tr th {\n",
       "        vertical-align: top;\n",
       "    }\n",
       "\n",
       "    .dataframe thead th {\n",
       "        text-align: right;\n",
       "    }\n",
       "</style>\n",
       "<table border=\"1\" class=\"dataframe\">\n",
       "  <thead>\n",
       "    <tr style=\"text-align: right;\">\n",
       "      <th></th>\n",
       "      <th>text</th>\n",
       "      <th>toxic</th>\n",
       "    </tr>\n",
       "  </thead>\n",
       "  <tbody>\n",
       "    <tr>\n",
       "      <th>0</th>\n",
       "      <td>Explanation\\nWhy the edits made under my usern...</td>\n",
       "      <td>0</td>\n",
       "    </tr>\n",
       "    <tr>\n",
       "      <th>1</th>\n",
       "      <td>D'aww! He matches this background colour I'm s...</td>\n",
       "      <td>0</td>\n",
       "    </tr>\n",
       "    <tr>\n",
       "      <th>2</th>\n",
       "      <td>Hey man, I'm really not trying to edit war. It...</td>\n",
       "      <td>0</td>\n",
       "    </tr>\n",
       "    <tr>\n",
       "      <th>3</th>\n",
       "      <td>\"\\nMore\\nI can't make any real suggestions on ...</td>\n",
       "      <td>0</td>\n",
       "    </tr>\n",
       "    <tr>\n",
       "      <th>4</th>\n",
       "      <td>You, sir, are my hero. Any chance you remember...</td>\n",
       "      <td>0</td>\n",
       "    </tr>\n",
       "    <tr>\n",
       "      <th>...</th>\n",
       "      <td>...</td>\n",
       "      <td>...</td>\n",
       "    </tr>\n",
       "    <tr>\n",
       "      <th>159287</th>\n",
       "      <td>\":::::And for the second time of asking, when ...</td>\n",
       "      <td>0</td>\n",
       "    </tr>\n",
       "    <tr>\n",
       "      <th>159288</th>\n",
       "      <td>You should be ashamed of yourself \\n\\nThat is ...</td>\n",
       "      <td>0</td>\n",
       "    </tr>\n",
       "    <tr>\n",
       "      <th>159289</th>\n",
       "      <td>Spitzer \\n\\nUmm, theres no actual article for ...</td>\n",
       "      <td>0</td>\n",
       "    </tr>\n",
       "    <tr>\n",
       "      <th>159290</th>\n",
       "      <td>And it looks like it was actually you who put ...</td>\n",
       "      <td>0</td>\n",
       "    </tr>\n",
       "    <tr>\n",
       "      <th>159291</th>\n",
       "      <td>\"\\nAnd ... I really don't think you understand...</td>\n",
       "      <td>0</td>\n",
       "    </tr>\n",
       "  </tbody>\n",
       "</table>\n",
       "<p>159292 rows × 2 columns</p>\n",
       "</div>"
      ],
      "text/plain": [
       "                                                     text  toxic\n",
       "0       Explanation\\nWhy the edits made under my usern...      0\n",
       "1       D'aww! He matches this background colour I'm s...      0\n",
       "2       Hey man, I'm really not trying to edit war. It...      0\n",
       "3       \"\\nMore\\nI can't make any real suggestions on ...      0\n",
       "4       You, sir, are my hero. Any chance you remember...      0\n",
       "...                                                   ...    ...\n",
       "159287  \":::::And for the second time of asking, when ...      0\n",
       "159288  You should be ashamed of yourself \\n\\nThat is ...      0\n",
       "159289  Spitzer \\n\\nUmm, theres no actual article for ...      0\n",
       "159290  And it looks like it was actually you who put ...      0\n",
       "159291  \"\\nAnd ... I really don't think you understand...      0\n",
       "\n",
       "[159292 rows x 2 columns]"
      ]
     },
     "execution_count": 9,
     "metadata": {},
     "output_type": "execute_result"
    }
   ],
   "source": [
    "toxic_copy = toxic_comments.copy()\n",
    "toxic_copy = toxic_copy.reset_index(drop=True)\n",
    "toxic_copy"
   ]
  },
  {
   "cell_type": "code",
   "execution_count": 10,
   "metadata": {},
   "outputs": [
    {
     "name": "stderr",
     "output_type": "stream",
     "text": [
      "[nltk_data] Downloading package punkt to /home/jovyan/nltk_data...\n",
      "[nltk_data]   Package punkt is already up-to-date!\n"
     ]
    },
    {
     "data": {
      "text/plain": [
       "True"
      ]
     },
     "execution_count": 10,
     "metadata": {},
     "output_type": "execute_result"
    }
   ],
   "source": [
    "nltk.download('punkt')"
   ]
  },
  {
   "cell_type": "code",
   "execution_count": 11,
   "metadata": {},
   "outputs": [],
   "source": [
    "wnl = WordNetLemmatizer() \n",
    "\n",
    "def lemm_re_tokenize(text):\n",
    "    text = text.lower()\n",
    "    text = text.replace(\"'\", '')\n",
    "    text = re.sub(r\"[^a-zA-Z]\", ' ', text)\n",
    "    text = text.split(' ')\n",
    "    text = [i for i in text if i]\n",
    "    text = [wnl.lemmatize(str(word)) for word in text]\n",
    "    text = ' '.join(text)\n",
    "    text_tokens = word_tokenize(text)\n",
    "    return text_tokens"
   ]
  },
  {
   "cell_type": "code",
   "execution_count": 12,
   "metadata": {
    "scrolled": false
   },
   "outputs": [
    {
     "name": "stdout",
     "output_type": "stream",
     "text": [
      "CPU times: user 1min 24s, sys: 761 ms, total: 1min 24s\n",
      "Wall time: 1min 25s\n"
     ]
    },
    {
     "data": {
      "text/plain": [
       "0         [explanation, why, the, edits, made, under, my...\n",
       "1         [daww, he, match, this, background, colour, im...\n",
       "2         [hey, man, im, really, not, trying, to, edit, ...\n",
       "3         [more, i, cant, make, any, real, suggestion, o...\n",
       "4         [you, sir, are, my, hero, any, chance, you, re...\n",
       "                                ...                        \n",
       "159287    [and, for, the, second, time, of, asking, when...\n",
       "159288    [you, should, be, ashamed, of, yourself, that,...\n",
       "159289    [spitzer, umm, there, no, actual, article, for...\n",
       "159290    [and, it, look, like, it, wa, actually, you, w...\n",
       "159291    [and, i, really, dont, think, you, understand,...\n",
       "Name: text, Length: 159292, dtype: object"
      ]
     },
     "execution_count": 12,
     "metadata": {},
     "output_type": "execute_result"
    }
   ],
   "source": [
    "%%time\n",
    "\n",
    "toxic_copy['text'] = toxic_copy['text'].apply(lemm_re_tokenize)\n",
    "toxic_copy['text']"
   ]
  },
  {
   "cell_type": "code",
   "execution_count": 13,
   "metadata": {},
   "outputs": [
    {
     "data": {
      "text/plain": [
       "['explanation',\n",
       " 'why',\n",
       " 'the',\n",
       " 'edits',\n",
       " 'made',\n",
       " 'under',\n",
       " 'my',\n",
       " 'username',\n",
       " 'hardcore',\n",
       " 'metallica',\n",
       " 'fan',\n",
       " 'were',\n",
       " 'reverted',\n",
       " 'they',\n",
       " 'werent',\n",
       " 'vandalism',\n",
       " 'just',\n",
       " 'closure',\n",
       " 'on',\n",
       " 'some',\n",
       " 'gas',\n",
       " 'after',\n",
       " 'i',\n",
       " 'voted',\n",
       " 'at',\n",
       " 'new',\n",
       " 'york',\n",
       " 'doll',\n",
       " 'fac',\n",
       " 'and',\n",
       " 'please',\n",
       " 'dont',\n",
       " 'remove',\n",
       " 'the',\n",
       " 'template',\n",
       " 'from',\n",
       " 'the',\n",
       " 'talk',\n",
       " 'page',\n",
       " 'since',\n",
       " 'im',\n",
       " 'retired',\n",
       " 'now',\n",
       " 'daww',\n",
       " 'he',\n",
       " 'match',\n",
       " 'this',\n",
       " 'background',\n",
       " 'colour',\n",
       " 'im',\n",
       " 'seemingly',\n",
       " 'stuck',\n",
       " 'with',\n",
       " 'thanks',\n",
       " 'talk',\n",
       " 'january',\n",
       " 'utc',\n",
       " 'hey',\n",
       " 'man',\n",
       " 'im',\n",
       " 'really',\n",
       " 'not',\n",
       " 'trying',\n",
       " 'to',\n",
       " 'edit',\n",
       " 'war',\n",
       " 'it',\n",
       " 'just',\n",
       " 'that',\n",
       " 'this',\n",
       " 'guy',\n",
       " 'is',\n",
       " 'constantly',\n",
       " 'removing',\n",
       " 'relevant',\n",
       " 'information',\n",
       " 'and',\n",
       " 'talking',\n",
       " 'to',\n",
       " 'me',\n",
       " 'through',\n",
       " 'edits',\n",
       " 'instead',\n",
       " 'of',\n",
       " 'my',\n",
       " 'talk',\n",
       " 'page',\n",
       " 'he',\n",
       " 'seems',\n",
       " 'to',\n",
       " 'care',\n",
       " 'more',\n",
       " 'about',\n",
       " 'the',\n",
       " 'formatting',\n",
       " 'than',\n",
       " 'the',\n",
       " 'actual',\n",
       " 'info',\n",
       " 'more',\n",
       " 'i',\n",
       " 'cant',\n",
       " 'make',\n",
       " 'any',\n",
       " 'real',\n",
       " 'suggestion',\n",
       " 'on',\n",
       " 'improvement',\n",
       " 'i',\n",
       " 'wondered',\n",
       " 'if',\n",
       " 'the',\n",
       " 'section',\n",
       " 'statistic',\n",
       " 'should',\n",
       " 'be',\n",
       " 'later',\n",
       " 'on',\n",
       " 'or',\n",
       " 'a',\n",
       " 'subsection',\n",
       " 'of',\n",
       " 'type',\n",
       " 'of',\n",
       " 'accident',\n",
       " 'i',\n",
       " 'think',\n",
       " 'the',\n",
       " 'reference',\n",
       " 'may',\n",
       " 'need',\n",
       " 'tidying',\n",
       " 'so',\n",
       " 'that',\n",
       " 'they',\n",
       " 'are',\n",
       " 'all',\n",
       " 'in',\n",
       " 'the',\n",
       " 'exact',\n",
       " 'same',\n",
       " 'format',\n",
       " 'ie',\n",
       " 'date',\n",
       " 'format',\n",
       " 'etc',\n",
       " 'i',\n",
       " 'can',\n",
       " 'do',\n",
       " 'that',\n",
       " 'later',\n",
       " 'on',\n",
       " 'if',\n",
       " 'no',\n",
       " 'one',\n",
       " 'else',\n",
       " 'doe',\n",
       " 'first',\n",
       " 'if',\n",
       " 'you',\n",
       " 'have',\n",
       " 'any',\n",
       " 'preference',\n",
       " 'for',\n",
       " 'formatting',\n",
       " 'style',\n",
       " 'on',\n",
       " 'reference',\n",
       " 'or',\n",
       " 'want',\n",
       " 'to',\n",
       " 'do',\n",
       " 'it',\n",
       " 'yourself',\n",
       " 'please',\n",
       " 'let',\n",
       " 'me',\n",
       " 'know',\n",
       " 'there',\n",
       " 'appears',\n",
       " 'to',\n",
       " 'be',\n",
       " 'a',\n",
       " 'backlog',\n",
       " 'on',\n",
       " 'article',\n",
       " 'for',\n",
       " 'review',\n",
       " 'so',\n",
       " 'i',\n",
       " 'guess',\n",
       " 'there',\n",
       " 'may',\n",
       " 'be',\n",
       " 'a',\n",
       " 'delay',\n",
       " 'until',\n",
       " 'a',\n",
       " 'reviewer',\n",
       " 'turn',\n",
       " 'up',\n",
       " 'it',\n",
       " 'listed',\n",
       " 'in',\n",
       " 'the',\n",
       " 'relevant',\n",
       " 'form',\n",
       " 'eg',\n",
       " 'wikipedia',\n",
       " 'good',\n",
       " 'article',\n",
       " 'nomination',\n",
       " 'transport',\n",
       " 'you',\n",
       " 'sir',\n",
       " 'are',\n",
       " 'my',\n",
       " 'hero',\n",
       " 'any',\n",
       " 'chance',\n",
       " 'you',\n",
       " 'remember',\n",
       " 'what',\n",
       " 'page',\n",
       " 'thats',\n",
       " 'on',\n",
       " 'congratulation',\n",
       " 'from',\n",
       " 'me',\n",
       " 'a',\n",
       " 'well',\n",
       " 'use',\n",
       " 'the',\n",
       " 'tool',\n",
       " 'well',\n",
       " 'talk',\n",
       " 'cocksucker',\n",
       " 'before',\n",
       " 'you',\n",
       " 'piss',\n",
       " 'around',\n",
       " 'on',\n",
       " 'my',\n",
       " 'work',\n",
       " 'your',\n",
       " 'vandalism',\n",
       " 'to',\n",
       " 'the',\n",
       " 'matt',\n",
       " 'shirvington',\n",
       " 'article',\n",
       " 'ha',\n",
       " 'been',\n",
       " 'reverted',\n",
       " 'please',\n",
       " 'dont',\n",
       " 'do',\n",
       " 'it',\n",
       " 'again',\n",
       " 'or',\n",
       " 'you',\n",
       " 'will',\n",
       " 'be',\n",
       " 'banned',\n",
       " 'sorry',\n",
       " 'if',\n",
       " 'the',\n",
       " 'word',\n",
       " 'nonsense',\n",
       " 'wa',\n",
       " 'offensive',\n",
       " 'to',\n",
       " 'you',\n",
       " 'anyway',\n",
       " 'im',\n",
       " 'not',\n",
       " 'intending',\n",
       " 'to',\n",
       " 'write',\n",
       " 'anything',\n",
       " 'in',\n",
       " 'the',\n",
       " 'article',\n",
       " 'wow',\n",
       " 'they',\n",
       " 'would',\n",
       " 'jump',\n",
       " 'on',\n",
       " 'me',\n",
       " 'for',\n",
       " 'vandalism',\n",
       " 'im',\n",
       " 'merely',\n",
       " 'requesting',\n",
       " 'that',\n",
       " 'it',\n",
       " 'be',\n",
       " 'more',\n",
       " 'encyclopedic',\n",
       " 'so',\n",
       " 'one',\n",
       " 'can',\n",
       " 'use',\n",
       " 'it',\n",
       " 'for',\n",
       " 'school',\n",
       " 'a',\n",
       " 'a',\n",
       " 'reference',\n",
       " 'i',\n",
       " 'have',\n",
       " 'been',\n",
       " 'to',\n",
       " 'the',\n",
       " 'selective',\n",
       " 'breeding',\n",
       " 'page',\n",
       " 'but',\n",
       " 'it',\n",
       " 'almost',\n",
       " 'a',\n",
       " 'stub',\n",
       " 'it',\n",
       " 'point',\n",
       " 'to',\n",
       " 'animal',\n",
       " 'breeding',\n",
       " 'which',\n",
       " 'is',\n",
       " 'a',\n",
       " 'short',\n",
       " 'messy',\n",
       " 'article',\n",
       " 'that',\n",
       " 'give',\n",
       " 'you',\n",
       " 'no',\n",
       " 'info',\n",
       " 'there',\n",
       " 'must',\n",
       " 'be',\n",
       " 'someone',\n",
       " 'around',\n",
       " 'with',\n",
       " 'expertise',\n",
       " 'in',\n",
       " 'eugenics',\n",
       " 'alignment',\n",
       " 'on',\n",
       " 'this',\n",
       " 'subject',\n",
       " 'and',\n",
       " 'which',\n",
       " 'are',\n",
       " 'contrary',\n",
       " 'to',\n",
       " 'those',\n",
       " 'of',\n",
       " 'dulithgow',\n",
       " 'fair',\n",
       " 'use',\n",
       " 'rationale',\n",
       " 'for',\n",
       " 'image',\n",
       " 'wonju',\n",
       " 'jpg',\n",
       " 'thanks',\n",
       " 'for',\n",
       " 'uploading',\n",
       " 'image',\n",
       " 'wonju',\n",
       " 'jpg',\n",
       " 'i',\n",
       " 'notice',\n",
       " 'the',\n",
       " 'image',\n",
       " 'page',\n",
       " 'specifies',\n",
       " 'that',\n",
       " 'the',\n",
       " 'image',\n",
       " 'is',\n",
       " 'being',\n",
       " 'used',\n",
       " 'under',\n",
       " 'fair',\n",
       " 'use',\n",
       " 'but',\n",
       " 'there',\n",
       " 'is',\n",
       " 'no',\n",
       " 'explanation',\n",
       " 'or',\n",
       " 'rationale',\n",
       " 'a',\n",
       " 'to',\n",
       " 'why',\n",
       " 'it',\n",
       " 'use',\n",
       " 'in',\n",
       " 'wikipedia',\n",
       " 'article',\n",
       " 'constitutes',\n",
       " 'fair',\n",
       " 'use',\n",
       " 'in',\n",
       " 'addition',\n",
       " 'to',\n",
       " 'the',\n",
       " 'boilerplate',\n",
       " 'fair',\n",
       " 'use',\n",
       " 'template',\n",
       " 'you',\n",
       " 'must',\n",
       " 'also',\n",
       " 'write',\n",
       " 'out',\n",
       " 'on',\n",
       " 'the',\n",
       " 'image',\n",
       " 'description',\n",
       " 'page',\n",
       " 'a',\n",
       " 'specific',\n",
       " 'explanation',\n",
       " 'or',\n",
       " 'rationale',\n",
       " 'for',\n",
       " 'why',\n",
       " 'using',\n",
       " 'this',\n",
       " 'image',\n",
       " 'in',\n",
       " 'each',\n",
       " 'article',\n",
       " 'is',\n",
       " 'consistent',\n",
       " 'with',\n",
       " 'fair',\n",
       " 'use',\n",
       " 'please',\n",
       " 'go',\n",
       " 'to',\n",
       " 'the',\n",
       " 'image',\n",
       " 'description',\n",
       " 'page',\n",
       " 'and',\n",
       " 'edit',\n",
       " 'it',\n",
       " 'to',\n",
       " 'include',\n",
       " 'a',\n",
       " 'fair',\n",
       " 'use',\n",
       " 'rationale',\n",
       " 'if',\n",
       " 'you',\n",
       " 'have',\n",
       " 'uploaded',\n",
       " 'other',\n",
       " 'fair',\n",
       " 'use',\n",
       " 'medium',\n",
       " 'consider',\n",
       " 'checking',\n",
       " 'that',\n",
       " 'you',\n",
       " 'have',\n",
       " 'specified',\n",
       " 'the',\n",
       " 'fair',\n",
       " 'use',\n",
       " 'rationale',\n",
       " 'on',\n",
       " 'those',\n",
       " 'page',\n",
       " 'too',\n",
       " 'you',\n",
       " 'can',\n",
       " 'find',\n",
       " 'a',\n",
       " 'list',\n",
       " 'of',\n",
       " 'image',\n",
       " 'page',\n",
       " 'you',\n",
       " 'have',\n",
       " 'edited',\n",
       " 'by',\n",
       " 'clicking',\n",
       " 'on',\n",
       " 'the',\n",
       " 'my',\n",
       " 'contribution',\n",
       " 'link',\n",
       " 'it',\n",
       " 'is',\n",
       " 'located',\n",
       " 'at',\n",
       " 'the',\n",
       " 'very',\n",
       " 'top',\n",
       " 'of',\n",
       " 'any',\n",
       " 'wikipedia',\n",
       " 'page',\n",
       " 'when',\n",
       " 'you',\n",
       " 'are',\n",
       " 'logged',\n",
       " 'in',\n",
       " 'and',\n",
       " 'then',\n",
       " 'selecting',\n",
       " 'image',\n",
       " 'from',\n",
       " 'the',\n",
       " 'dropdown',\n",
       " 'box',\n",
       " 'note',\n",
       " 'that',\n",
       " 'any',\n",
       " 'fair',\n",
       " 'use',\n",
       " 'image',\n",
       " 'uploaded',\n",
       " 'after',\n",
       " 'may',\n",
       " 'and',\n",
       " 'lacking',\n",
       " 'such',\n",
       " 'an',\n",
       " 'explanation',\n",
       " 'will',\n",
       " 'be',\n",
       " 'deleted',\n",
       " 'one',\n",
       " 'week',\n",
       " 'after',\n",
       " 'they',\n",
       " 'have',\n",
       " 'been',\n",
       " 'uploaded',\n",
       " 'a',\n",
       " 'described',\n",
       " 'on',\n",
       " 'criterion',\n",
       " 'for',\n",
       " 'speedy',\n",
       " 'deletion',\n",
       " 'if',\n",
       " 'you',\n",
       " 'have',\n",
       " 'any',\n",
       " 'question',\n",
       " 'please',\n",
       " 'ask',\n",
       " 'them',\n",
       " 'at',\n",
       " 'the',\n",
       " 'medium',\n",
       " 'copyright',\n",
       " 'question',\n",
       " 'page',\n",
       " 'thank',\n",
       " 'you',\n",
       " 'talk',\n",
       " 'contribs',\n",
       " 'unspecified',\n",
       " 'source',\n",
       " 'for',\n",
       " 'image',\n",
       " 'wonju',\n",
       " 'jpg',\n",
       " 'thanks',\n",
       " 'for',\n",
       " 'uploading',\n",
       " 'image',\n",
       " 'wonju',\n",
       " 'jpg',\n",
       " 'i',\n",
       " 'noticed',\n",
       " 'that',\n",
       " 'the',\n",
       " 'file',\n",
       " 'description',\n",
       " 'page',\n",
       " 'currently',\n",
       " 'doesnt',\n",
       " 'specify',\n",
       " 'who',\n",
       " 'created',\n",
       " 'the',\n",
       " 'content',\n",
       " 'so',\n",
       " 'the',\n",
       " 'copyright',\n",
       " 'status',\n",
       " 'is',\n",
       " 'unclear',\n",
       " 'if',\n",
       " 'you',\n",
       " 'did',\n",
       " 'not',\n",
       " 'create',\n",
       " 'this',\n",
       " 'file',\n",
       " 'yourself',\n",
       " 'then',\n",
       " 'you',\n",
       " 'will',\n",
       " 'need',\n",
       " 'to',\n",
       " 'specify',\n",
       " 'the',\n",
       " 'owner',\n",
       " 'of',\n",
       " 'the',\n",
       " 'copyright',\n",
       " 'if',\n",
       " 'you',\n",
       " 'obtained',\n",
       " 'it',\n",
       " 'from',\n",
       " 'a',\n",
       " 'website',\n",
       " 'then',\n",
       " 'a',\n",
       " 'link',\n",
       " 'to',\n",
       " 'the',\n",
       " 'website',\n",
       " 'from',\n",
       " 'which',\n",
       " 'it',\n",
       " 'wa',\n",
       " 'taken',\n",
       " 'together',\n",
       " 'with',\n",
       " 'a',\n",
       " 'restatement',\n",
       " 'of',\n",
       " 'that',\n",
       " 'website',\n",
       " 'term',\n",
       " 'of',\n",
       " 'use',\n",
       " 'of',\n",
       " 'it',\n",
       " 'content',\n",
       " 'is',\n",
       " 'usually',\n",
       " 'sufficient',\n",
       " 'information',\n",
       " 'however',\n",
       " 'if',\n",
       " 'the',\n",
       " 'copyright',\n",
       " 'holder',\n",
       " 'is',\n",
       " 'different',\n",
       " 'from',\n",
       " 'the',\n",
       " 'website',\n",
       " 'publisher',\n",
       " 'then',\n",
       " 'their',\n",
       " 'copyright',\n",
       " 'should',\n",
       " 'also',\n",
       " 'be',\n",
       " 'acknowledged',\n",
       " 'a',\n",
       " 'well',\n",
       " 'a',\n",
       " 'adding',\n",
       " 'the',\n",
       " 'source',\n",
       " 'please',\n",
       " 'add',\n",
       " 'a',\n",
       " 'proper',\n",
       " 'copyright',\n",
       " 'licensing',\n",
       " 'tag',\n",
       " 'if',\n",
       " 'the',\n",
       " 'file',\n",
       " 'doesnt',\n",
       " 'have',\n",
       " 'one',\n",
       " 'already',\n",
       " 'if',\n",
       " 'you',\n",
       " 'created',\n",
       " 'took',\n",
       " 'the',\n",
       " 'picture',\n",
       " 'audio',\n",
       " 'or',\n",
       " 'video',\n",
       " 'then',\n",
       " 'the',\n",
       " 'tag',\n",
       " 'can',\n",
       " 'be',\n",
       " 'used',\n",
       " 'to',\n",
       " 'release',\n",
       " 'it',\n",
       " 'under',\n",
       " 'the',\n",
       " 'gfdl',\n",
       " 'if',\n",
       " 'you',\n",
       " 'believe',\n",
       " 'the',\n",
       " 'medium',\n",
       " 'meet',\n",
       " 'the',\n",
       " 'criterion',\n",
       " 'at',\n",
       " 'wikipedia',\n",
       " 'fair',\n",
       " 'use',\n",
       " 'use',\n",
       " 'a',\n",
       " 'tag',\n",
       " 'such',\n",
       " 'a',\n",
       " 'or',\n",
       " 'one',\n",
       " 'of',\n",
       " 'the',\n",
       " 'other',\n",
       " 'tag',\n",
       " 'listed',\n",
       " 'at',\n",
       " 'wikipedia',\n",
       " 'image',\n",
       " 'copyright',\n",
       " 'tag',\n",
       " 'fair',\n",
       " 'use',\n",
       " 'see',\n",
       " 'wikipedia',\n",
       " 'image',\n",
       " 'copyright',\n",
       " 'tag',\n",
       " 'for',\n",
       " 'the',\n",
       " 'full',\n",
       " 'list',\n",
       " 'of',\n",
       " 'copyright',\n",
       " 'tag',\n",
       " 'that',\n",
       " 'you',\n",
       " 'can',\n",
       " 'use',\n",
       " 'if',\n",
       " 'you',\n",
       " 'have',\n",
       " 'uploaded',\n",
       " 'other',\n",
       " 'file',\n",
       " 'consider',\n",
       " 'checking',\n",
       " 'that',\n",
       " 'you',\n",
       " 'have',\n",
       " 'specified',\n",
       " 'their',\n",
       " 'source',\n",
       " 'and',\n",
       " 'tagged',\n",
       " 'them',\n",
       " 'too',\n",
       " 'you',\n",
       " 'can',\n",
       " 'find',\n",
       " 'a',\n",
       " 'list',\n",
       " 'of',\n",
       " 'file',\n",
       " 'you',\n",
       " 'have',\n",
       " 'uploaded',\n",
       " 'by',\n",
       " 'following',\n",
       " 'this',\n",
       " 'link',\n",
       " 'unsourced',\n",
       " 'and',\n",
       " 'untagged',\n",
       " 'image',\n",
       " 'may',\n",
       " 'be',\n",
       " 'deleted',\n",
       " 'one',\n",
       " 'week',\n",
       " 'after',\n",
       " 'they',\n",
       " 'have',\n",
       " 'been',\n",
       " 'tagged',\n",
       " 'a',\n",
       " 'described',\n",
       " 'on',\n",
       " 'criterion',\n",
       " 'for',\n",
       " 'speedy',\n",
       " 'deletion',\n",
       " 'if',\n",
       " 'the',\n",
       " 'image',\n",
       " 'is',\n",
       " 'copyrighted',\n",
       " 'under',\n",
       " 'a',\n",
       " 'non',\n",
       " 'free',\n",
       " 'license',\n",
       " 'per',\n",
       " 'wikipedia',\n",
       " 'fair',\n",
       " 'use',\n",
       " 'then',\n",
       " 'the',\n",
       " 'image',\n",
       " 'will',\n",
       " 'be',\n",
       " 'deleted',\n",
       " 'hour',\n",
       " 'after',\n",
       " 'if',\n",
       " 'you',\n",
       " 'have',\n",
       " 'any',\n",
       " 'question',\n",
       " 'please',\n",
       " 'ask',\n",
       " 'them',\n",
       " 'at',\n",
       " 'the',\n",
       " 'medium',\n",
       " 'copyright',\n",
       " 'question',\n",
       " 'page',\n",
       " 'thank',\n",
       " 'you',\n",
       " 'talk',\n",
       " 'contribs',\n",
       " 'bbq',\n",
       " 'be',\n",
       " 'a',\n",
       " 'man',\n",
       " 'and',\n",
       " 'let',\n",
       " 'discus',\n",
       " 'it',\n",
       " 'maybe',\n",
       " 'over',\n",
       " 'the',\n",
       " 'phone',\n",
       " 'hey',\n",
       " 'what',\n",
       " 'is',\n",
       " 'it',\n",
       " 'talk',\n",
       " 'what',\n",
       " 'is',\n",
       " 'it',\n",
       " 'an',\n",
       " 'exclusive',\n",
       " 'group',\n",
       " 'of',\n",
       " 'some',\n",
       " 'wp',\n",
       " 'taliban',\n",
       " 'who',\n",
       " 'are',\n",
       " 'good',\n",
       " 'at',\n",
       " 'destroying',\n",
       " 'self',\n",
       " 'appointed',\n",
       " 'purist',\n",
       " 'who',\n",
       " 'gang',\n",
       " 'up',\n",
       " 'any',\n",
       " 'one',\n",
       " 'who',\n",
       " 'asks',\n",
       " 'them',\n",
       " 'question',\n",
       " 'abt',\n",
       " 'their',\n",
       " 'anti',\n",
       " 'social',\n",
       " 'and',\n",
       " 'destructive',\n",
       " 'non',\n",
       " 'contribution',\n",
       " 'at',\n",
       " 'wp',\n",
       " 'ask',\n",
       " 'sityush',\n",
       " 'to',\n",
       " 'clean',\n",
       " 'up',\n",
       " 'his',\n",
       " 'behavior',\n",
       " 'than',\n",
       " 'issue',\n",
       " 'me',\n",
       " 'nonsensical',\n",
       " 'warning',\n",
       " 'before',\n",
       " 'you',\n",
       " 'start',\n",
       " 'throwing',\n",
       " 'accusation',\n",
       " 'and',\n",
       " 'warning',\n",
       " 'at',\n",
       " 'me',\n",
       " 'let',\n",
       " 'review',\n",
       " 'the',\n",
       " 'edit',\n",
       " 'itself',\n",
       " 'making',\n",
       " 'ad',\n",
       " 'hominem',\n",
       " 'attack',\n",
       " 'isnt',\n",
       " 'going',\n",
       " 'to',\n",
       " 'strengthen',\n",
       " 'your',\n",
       " 'argument',\n",
       " 'it',\n",
       " 'will',\n",
       " 'merely',\n",
       " 'make',\n",
       " 'it',\n",
       " 'look',\n",
       " 'like',\n",
       " 'you',\n",
       " 'are',\n",
       " 'abusing',\n",
       " 'your',\n",
       " 'power',\n",
       " 'a',\n",
       " 'an',\n",
       " 'admin',\n",
       " 'now',\n",
       " 'the',\n",
       " 'edit',\n",
       " 'itself',\n",
       " 'is',\n",
       " 'relevant',\n",
       " 'this',\n",
       " 'is',\n",
       " 'probably',\n",
       " 'the',\n",
       " 'single',\n",
       " 'most',\n",
       " 'talked',\n",
       " 'about',\n",
       " 'event',\n",
       " 'int',\n",
       " 'he',\n",
       " 'news',\n",
       " 'a',\n",
       " 'of',\n",
       " 'late',\n",
       " 'his',\n",
       " 'absence',\n",
       " 'is',\n",
       " 'notable',\n",
       " 'since',\n",
       " 'he',\n",
       " 'is',\n",
       " 'the',\n",
       " 'only',\n",
       " 'living',\n",
       " 'ex',\n",
       " 'president',\n",
       " 'who',\n",
       " 'did',\n",
       " 'not',\n",
       " 'attend',\n",
       " 'thats',\n",
       " 'certainly',\n",
       " 'more',\n",
       " ...]"
      ]
     },
     "execution_count": 13,
     "metadata": {},
     "output_type": "execute_result"
    }
   ],
   "source": [
    "general_list = []\n",
    "for i in range(len(toxic_copy)):\n",
    "    general_list += toxic_copy['text'][i]\n",
    "general_list"
   ]
  },
  {
   "cell_type": "code",
   "execution_count": 14,
   "metadata": {},
   "outputs": [],
   "source": [
    "text_raw = \" \".join(general_list)"
   ]
  },
  {
   "cell_type": "code",
   "execution_count": 15,
   "metadata": {
    "scrolled": true
   },
   "outputs": [
    {
     "name": "stdout",
     "output_type": "stream",
     "text": [
      "Requirement already satisfied: wordcloud in /opt/conda/lib/python3.9/site-packages (1.9.3)\n",
      "Requirement already satisfied: numpy>=1.6.1 in /opt/conda/lib/python3.9/site-packages (from wordcloud) (1.21.1)\n",
      "Requirement already satisfied: matplotlib in /opt/conda/lib/python3.9/site-packages (from wordcloud) (3.3.4)\n",
      "Requirement already satisfied: pillow in /opt/conda/lib/python3.9/site-packages (from wordcloud) (10.2.0)\n",
      "Requirement already satisfied: cycler>=0.10 in /opt/conda/lib/python3.9/site-packages (from matplotlib->wordcloud) (0.11.0)\n",
      "Requirement already satisfied: pyparsing!=2.0.4,!=2.1.2,!=2.1.6,>=2.0.3 in /opt/conda/lib/python3.9/site-packages (from matplotlib->wordcloud) (2.4.7)\n",
      "Requirement already satisfied: python-dateutil>=2.1 in /opt/conda/lib/python3.9/site-packages (from matplotlib->wordcloud) (2.8.1)\n",
      "Requirement already satisfied: kiwisolver>=1.0.1 in /opt/conda/lib/python3.9/site-packages (from matplotlib->wordcloud) (1.4.4)\n",
      "Requirement already satisfied: six>=1.5 in /opt/conda/lib/python3.9/site-packages (from python-dateutil>=2.1->matplotlib->wordcloud) (1.16.0)\n"
     ]
    }
   ],
   "source": [
    "!/opt/conda/bin/python -m pip install wordcloud "
   ]
  },
  {
   "cell_type": "code",
   "execution_count": 16,
   "metadata": {},
   "outputs": [
    {
     "name": "stdout",
     "output_type": "stream",
     "text": [
      "Requirement already satisfied: Pillow in /opt/conda/lib/python3.9/site-packages (10.2.0)\n",
      "Note: you may need to restart the kernel to use updated packages.\n"
     ]
    }
   ],
   "source": [
    "pip install --upgrade Pillow"
   ]
  },
  {
   "cell_type": "code",
   "execution_count": 17,
   "metadata": {},
   "outputs": [
    {
     "data": {
      "image/png": "[encoded data removed]",
      "text/plain": [
       "<Figure size 432x288 with 1 Axes>"
      ]
     },
     "metadata": {
      "needs_background": "light"
     },
     "output_type": "display_data"
    }
   ],
   "source": [
    "wordcloud = WordCloud().generate(text_raw)\n",
    "plt.imshow(wordcloud);"
   ]
  },
  {
   "cell_type": "code",
   "execution_count": 18,
   "metadata": {},
   "outputs": [],
   "source": [
    "toxic_comments = toxic_comments.sample(1600)"
   ]
  },
  {
   "cell_type": "markdown",
   "metadata": {},
   "source": [
    "Создание всех эмбеддингов заняло бы у меня очень много времени. Поэтому возьму 1600 элементов."
   ]
  },
  {
   "cell_type": "code",
   "execution_count": 19,
   "metadata": {},
   "outputs": [
    {
     "data": {
      "text/plain": [
       "0.105625"
      ]
     },
     "execution_count": 19,
     "metadata": {},
     "output_type": "execute_result"
    }
   ],
   "source": [
    "toxic_comments[toxic_comments['toxic'] == 1]['toxic'].count() / toxic_comments.shape[0]"
   ]
  },
  {
   "cell_type": "markdown",
   "metadata": {},
   "source": [
    "Процент токсичных комментариев не сильно поменялся."
   ]
  },
  {
   "cell_type": "code",
   "execution_count": 20,
   "metadata": {},
   "outputs": [
    {
     "data": {
      "text/html": [
       "<div>\n",
       "<style scoped>\n",
       "    .dataframe tbody tr th:only-of-type {\n",
       "        vertical-align: middle;\n",
       "    }\n",
       "\n",
       "    .dataframe tbody tr th {\n",
       "        vertical-align: top;\n",
       "    }\n",
       "\n",
       "    .dataframe thead th {\n",
       "        text-align: right;\n",
       "    }\n",
       "</style>\n",
       "<table border=\"1\" class=\"dataframe\">\n",
       "  <thead>\n",
       "    <tr style=\"text-align: right;\">\n",
       "      <th></th>\n",
       "      <th>text</th>\n",
       "      <th>toxic</th>\n",
       "    </tr>\n",
       "  </thead>\n",
       "  <tbody>\n",
       "    <tr>\n",
       "      <th>0</th>\n",
       "      <td>Good idea.  Find a reference and either start ...</td>\n",
       "      <td>0</td>\n",
       "    </tr>\n",
       "    <tr>\n",
       "      <th>1</th>\n",
       "      <td>I have not accused Itsmejudith or anyone else ...</td>\n",
       "      <td>0</td>\n",
       "    </tr>\n",
       "    <tr>\n",
       "      <th>2</th>\n",
       "      <td>Looks like they have a real annoying javascrip...</td>\n",
       "      <td>0</td>\n",
       "    </tr>\n",
       "    <tr>\n",
       "      <th>3</th>\n",
       "      <td>Marion van de Wetering\\n\\nFirst, you don't use...</td>\n",
       "      <td>0</td>\n",
       "    </tr>\n",
       "    <tr>\n",
       "      <th>4</th>\n",
       "      <td>\"\\n Hello, Gallywacks7, and Welcome to Wikiped...</td>\n",
       "      <td>0</td>\n",
       "    </tr>\n",
       "    <tr>\n",
       "      <th>...</th>\n",
       "      <td>...</td>\n",
       "      <td>...</td>\n",
       "    </tr>\n",
       "    <tr>\n",
       "      <th>1595</th>\n",
       "      <td>Your sources are despicable.\\nThey are a bunch...</td>\n",
       "      <td>0</td>\n",
       "    </tr>\n",
       "    <tr>\n",
       "      <th>1596</th>\n",
       "      <td>\"\\n\\nHuh ? If they are English by descent, \"\"i...</td>\n",
       "      <td>0</td>\n",
       "    </tr>\n",
       "    <tr>\n",
       "      <th>1597</th>\n",
       "      <td>Fuck You\\n\\nGo suck on a fat dick faggot mothe...</td>\n",
       "      <td>1</td>\n",
       "    </tr>\n",
       "    <tr>\n",
       "      <th>1598</th>\n",
       "      <td>I removed the content - this is not a soapbox ...</td>\n",
       "      <td>1</td>\n",
       "    </tr>\n",
       "    <tr>\n",
       "      <th>1599</th>\n",
       "      <td>I don't have time to look at these articles in...</td>\n",
       "      <td>0</td>\n",
       "    </tr>\n",
       "  </tbody>\n",
       "</table>\n",
       "<p>1600 rows × 2 columns</p>\n",
       "</div>"
      ],
      "text/plain": [
       "                                                   text  toxic\n",
       "0     Good idea.  Find a reference and either start ...      0\n",
       "1     I have not accused Itsmejudith or anyone else ...      0\n",
       "2     Looks like they have a real annoying javascrip...      0\n",
       "3     Marion van de Wetering\\n\\nFirst, you don't use...      0\n",
       "4     \"\\n Hello, Gallywacks7, and Welcome to Wikiped...      0\n",
       "...                                                 ...    ...\n",
       "1595  Your sources are despicable.\\nThey are a bunch...      0\n",
       "1596  \"\\n\\nHuh ? If they are English by descent, \"\"i...      0\n",
       "1597  Fuck You\\n\\nGo suck on a fat dick faggot mothe...      1\n",
       "1598  I removed the content - this is not a soapbox ...      1\n",
       "1599  I don't have time to look at these articles in...      0\n",
       "\n",
       "[1600 rows x 2 columns]"
      ]
     },
     "execution_count": 20,
     "metadata": {},
     "output_type": "execute_result"
    }
   ],
   "source": [
    "toxic_comments = toxic_comments.reset_index(drop=True)\n",
    "toxic_comments"
   ]
  },
  {
   "cell_type": "markdown",
   "metadata": {},
   "source": [
    "Поправил индексацию."
   ]
  },
  {
   "cell_type": "code",
   "execution_count": 21,
   "metadata": {},
   "outputs": [
    {
     "name": "stdout",
     "output_type": "stream",
     "text": [
      "Количество пропусков:\n",
      "text     0\n",
      "toxic    0\n",
      "dtype: int64\n",
      "\n",
      "Количество дубликатов:\n",
      "0\n"
     ]
    }
   ],
   "source": [
    "print('Количество пропусков:')\n",
    "print(toxic_comments.isna().sum())\n",
    "print()\n",
    "print('Количество дубликатов:')\n",
    "print(toxic_comments.duplicated().sum())"
   ]
  },
  {
   "cell_type": "markdown",
   "metadata": {},
   "source": [
    "В данных нет дубликатов и пропусков."
   ]
  },
  {
   "cell_type": "markdown",
   "metadata": {},
   "source": [
    "## Обучение"
   ]
  },
  {
   "cell_type": "code",
   "execution_count": 22,
   "metadata": {
    "scrolled": false
   },
   "outputs": [
    {
     "data": {
      "application/vnd.jupyter.widget-view+json": {
       "model_id": "a725c21aef10401889f358af561cc21f",
       "version_major": 2,
       "version_minor": 0
      },
      "text/plain": [
       "Downloading:   0%|          | 0.00/811 [00:00<?, ?B/s]"
      ]
     },
     "metadata": {},
     "output_type": "display_data"
    },
    {
     "data": {
      "application/vnd.jupyter.widget-view+json": {
       "model_id": "25903b463ecf49309634572a5388af10",
       "version_major": 2,
       "version_minor": 0
      },
      "text/plain": [
       "Downloading:   0%|          | 0.00/418M [00:00<?, ?B/s]"
      ]
     },
     "metadata": {},
     "output_type": "display_data"
    },
    {
     "name": "stderr",
     "output_type": "stream",
     "text": [
      "Some weights of the model checkpoint at unitary/toxic-bert were not used when initializing BertModel: ['classifier.bias', 'classifier.weight']\n",
      "- This IS expected if you are initializing BertModel from the checkpoint of a model trained on another task or with another architecture (e.g. initializing a BertForSequenceClassification model from a BertForPreTraining model).\n",
      "- This IS NOT expected if you are initializing BertModel from the checkpoint of a model that you expect to be exactly identical (initializing a BertForSequenceClassification model from a BertForSequenceClassification model).\n"
     ]
    },
    {
     "data": {
      "application/vnd.jupyter.widget-view+json": {
       "model_id": "7367425e6b2a40cabe2234dc3f63b2d0",
       "version_major": 2,
       "version_minor": 0
      },
      "text/plain": [
       "Downloading:   0%|          | 0.00/174 [00:00<?, ?B/s]"
      ]
     },
     "metadata": {},
     "output_type": "display_data"
    },
    {
     "data": {
      "application/vnd.jupyter.widget-view+json": {
       "model_id": "3383881a41b1405abf25739781cf9282",
       "version_major": 2,
       "version_minor": 0
      },
      "text/plain": [
       "Downloading:   0%|          | 0.00/226k [00:00<?, ?B/s]"
      ]
     },
     "metadata": {},
     "output_type": "display_data"
    },
    {
     "data": {
      "application/vnd.jupyter.widget-view+json": {
       "model_id": "6146c114ea9341faa0aee34da9f31675",
       "version_major": 2,
       "version_minor": 0
      },
      "text/plain": [
       "Downloading:   0%|          | 0.00/112 [00:00<?, ?B/s]"
      ]
     },
     "metadata": {},
     "output_type": "display_data"
    }
   ],
   "source": [
    "model = transformers.AutoModel.from_pretrained('unitary/toxic-bert')\n",
    "tokenizer = transformers.AutoTokenizer.from_pretrained('unitary/toxic-bert')"
   ]
  },
  {
   "cell_type": "markdown",
   "metadata": {},
   "source": [
    "Взяли предобученную модель BERT, и его токинезатор."
   ]
  },
  {
   "cell_type": "code",
   "execution_count": 23,
   "metadata": {},
   "outputs": [
    {
     "name": "stdout",
     "output_type": "stream",
     "text": [
      "CPU times: user 475 ms, sys: 3.92 ms, total: 479 ms\n",
      "Wall time: 479 ms\n"
     ]
    }
   ],
   "source": [
    "%%time\n",
    "\n",
    "MAX_TOKENS = 512\n",
    "\n",
    "tokenized = toxic_comments['text'].apply(lambda x: tokenizer.encode(x, max_length=MAX_TOKENS,\n",
    "                                                                    truncation=True, add_special_tokens=True)) "
   ]
  },
  {
   "cell_type": "code",
   "execution_count": 24,
   "metadata": {},
   "outputs": [
    {
     "name": "stdout",
     "output_type": "stream",
     "text": [
      "CPU times: user 64.1 ms, sys: 3.85 ms, total: 67.9 ms\n",
      "Wall time: 67.1 ms\n"
     ]
    }
   ],
   "source": [
    "%%time\n",
    "\n",
    "max_len = 0\n",
    "for i in tokenized.values:\n",
    "    if len(i) > max_len:\n",
    "        max_len = len(i)\n",
    "\n",
    "padded = np.array([i + [0]*(max_len - len(i)) for i in tokenized.values])\n",
    "\n",
    "attention_mask = np.where(padded != 0, 1, 0)"
   ]
  },
  {
   "cell_type": "markdown",
   "metadata": {},
   "source": [
    "Текст преобразовали в номера токенов.    \n",
    "Применили `padding`, чтобы после токенизации длины исходных текстов в корпусе были равными. Это необходимо для работы BERT.\n",
    "Создали `attention_mask`, чтобы пояснить модели, что нули не несут значимой информации."
   ]
  },
  {
   "cell_type": "code",
   "execution_count": 25,
   "metadata": {
    "scrolled": false
   },
   "outputs": [
    {
     "data": {
      "text/plain": [
       "array([[ 101, 2204, 2801, ...,    0,    0,    0],\n",
       "       [ 101, 1045, 2031, ...,    0,    0,    0],\n",
       "       [ 101, 3504, 2066, ...,    0,    0,    0],\n",
       "       ...,\n",
       "       [ 101, 6616, 2017, ...,    0,    0,    0],\n",
       "       [ 101, 1045, 3718, ...,    0,    0,    0],\n",
       "       [ 101, 1045, 2123, ...,    0,    0,    0]])"
      ]
     },
     "execution_count": 25,
     "metadata": {},
     "output_type": "execute_result"
    }
   ],
   "source": [
    "padded"
   ]
  },
  {
   "cell_type": "code",
   "execution_count": 26,
   "metadata": {},
   "outputs": [
    {
     "data": {
      "text/plain": [
       "(1600, 512)"
      ]
     },
     "execution_count": 26,
     "metadata": {},
     "output_type": "execute_result"
    }
   ],
   "source": [
    "padded.shape"
   ]
  },
  {
   "cell_type": "code",
   "execution_count": 27,
   "metadata": {
    "scrolled": false
   },
   "outputs": [
    {
     "data": {
      "text/plain": [
       "array([[1, 1, 1, ..., 0, 0, 0],\n",
       "       [1, 1, 1, ..., 0, 0, 0],\n",
       "       [1, 1, 1, ..., 0, 0, 0],\n",
       "       ...,\n",
       "       [1, 1, 1, ..., 0, 0, 0],\n",
       "       [1, 1, 1, ..., 0, 0, 0],\n",
       "       [1, 1, 1, ..., 0, 0, 0]])"
      ]
     },
     "execution_count": 27,
     "metadata": {},
     "output_type": "execute_result"
    }
   ],
   "source": [
    "attention_mask"
   ]
  },
  {
   "cell_type": "code",
   "execution_count": 28,
   "metadata": {
    "scrolled": true
   },
   "outputs": [
    {
     "data": {
      "text/plain": [
       "(1600, 512)"
      ]
     },
     "execution_count": 28,
     "metadata": {},
     "output_type": "execute_result"
    }
   ],
   "source": [
    "attention_mask.shape"
   ]
  },
  {
   "cell_type": "code",
   "execution_count": null,
   "metadata": {
    "scrolled": true
   },
   "outputs": [
    {
     "data": {
      "application/vnd.jupyter.widget-view+json": {
       "model_id": "448e6b5b644f4dd481989cfdacb7c2e4",
       "version_major": 2,
       "version_minor": 0
      },
      "text/plain": [
       "  0%|          | 0/16 [00:00<?, ?it/s]"
      ]
     },
     "metadata": {},
     "output_type": "display_data"
    }
   ],
   "source": [
    "batch_size = 100\n",
    "embeddings = []\n",
    "for i in notebook.tqdm(range(padded.shape[0] // batch_size)):\n",
    "        batch = torch.LongTensor(padded[batch_size*i:batch_size*(i+1)]) \n",
    "        attention_mask_batch = torch.LongTensor(attention_mask[batch_size*i:batch_size*(i+1)])\n",
    "        \n",
    "        with torch.no_grad():\n",
    "            batch_embeddings = model(batch, attention_mask=attention_mask_batch)\n",
    "        \n",
    "        embeddings.append(batch_embeddings[0][:,0,:].numpy())"
   ]
  },
  {
   "cell_type": "markdown",
   "metadata": {},
   "source": [
    "BERT создаёт эмбеддинги батчами. Сделали батч небольшим, чтобы хватило оперативной памяти.    \n",
    "В цикле по батчам данные преобразуем в тензоры.    \n",
    "Модели передаём данные и `attention_mask`.    \n",
    "Получили список эмбеддингов."
   ]
  },
  {
   "cell_type": "code",
   "execution_count": null,
   "metadata": {},
   "outputs": [],
   "source": [
    "features = np.concatenate(embeddings)"
   ]
  },
  {
   "cell_type": "markdown",
   "metadata": {},
   "source": [
    "Все эмбеддинги собрали в матрицу признаков."
   ]
  },
  {
   "cell_type": "code",
   "execution_count": null,
   "metadata": {
    "scrolled": true
   },
   "outputs": [],
   "source": [
    "features.shape"
   ]
  },
  {
   "cell_type": "code",
   "execution_count": null,
   "metadata": {},
   "outputs": [],
   "source": [
    "X_train, X_test_valid, y_train, y_test_valid  = train_test_split(features, toxic_comments['toxic'],\n",
    "                                                                 stratify=toxic_comments['toxic'],\n",
    "                                                                 test_size=0.5,\n",
    "                                                                 random_state=42)\n",
    "\n",
    "X_test, X_valid, y_test, y_valid  = train_test_split(X_test_valid, y_test_valid,\n",
    "                                                     stratify=y_test_valid,\n",
    "                                                     test_size=0.5,\n",
    "                                                     random_state=42)"
   ]
  },
  {
   "cell_type": "markdown",
   "metadata": {},
   "source": [
    "Данные делим на train и test."
   ]
  },
  {
   "cell_type": "markdown",
   "metadata": {},
   "source": [
    "### LogisticRegression"
   ]
  },
  {
   "cell_type": "code",
   "execution_count": null,
   "metadata": {
    "scrolled": true
   },
   "outputs": [],
   "source": [
    "log_reg = LogisticRegression(random_state=42)\n",
    "\n",
    "log_reg.fit(X_train, y_train)"
   ]
  },
  {
   "cell_type": "markdown",
   "metadata": {},
   "source": [
    "Обучил логистическую регрессию."
   ]
  },
  {
   "cell_type": "code",
   "execution_count": null,
   "metadata": {
    "scrolled": true
   },
   "outputs": [],
   "source": [
    "f1_score(y_valid, log_reg.predict(X_valid))"
   ]
  },
  {
   "cell_type": "markdown",
   "metadata": {},
   "source": [
    "Посчитал f1 на валидационной выборке."
   ]
  },
  {
   "cell_type": "markdown",
   "metadata": {},
   "source": [
    "### CatBoost"
   ]
  },
  {
   "cell_type": "code",
   "execution_count": null,
   "metadata": {
    "scrolled": true
   },
   "outputs": [],
   "source": [
    "%%time \n",
    "\n",
    "model = CatBoostClassifier(eval_metric='F1', random_seed=42)\n",
    "\n",
    "grid = {'n_estimators': [100, 1000, 1100],\n",
    "        'max_depth': [4, 6],\n",
    "        'learning_rate': [0.0001, 0.03, 0.1]}\n",
    "\n",
    "grid_search_result = model.grid_search(grid,\n",
    "                                          X=X_train,\n",
    "                                          y=y_train,\n",
    "                                          cv=3,\n",
    "                                          plot=True)"
   ]
  },
  {
   "cell_type": "code",
   "execution_count": null,
   "metadata": {},
   "outputs": [],
   "source": [
    "grid_search_result[\"params\"]"
   ]
  },
  {
   "cell_type": "code",
   "execution_count": null,
   "metadata": {},
   "outputs": [],
   "source": [
    "%%time\n",
    "final_cat = CatBoostClassifier(n_estimators=grid_search_result[\"params\"][\"iterations\"],\n",
    "                              learning_rate=grid_search_result[\"params\"]['learning_rate'],\n",
    "                              max_depth=grid_search_result[\"params\"]['depth'],\n",
    "                              eval_metric='F1',\n",
    "                              verbose=100,\n",
    "                              random_seed=42)\n",
    "final_cat.fit(X_train, y_train)"
   ]
  },
  {
   "cell_type": "code",
   "execution_count": null,
   "metadata": {},
   "outputs": [],
   "source": [
    "print(\"CatBoost:\", f1_score(y_valid, final_cat.predict(X_valid)))"
   ]
  },
  {
   "cell_type": "markdown",
   "metadata": {},
   "source": [
    "Catboost показал себя лучше."
   ]
  },
  {
   "cell_type": "markdown",
   "metadata": {},
   "source": [
    "## Тестирование"
   ]
  },
  {
   "cell_type": "code",
   "execution_count": null,
   "metadata": {},
   "outputs": [],
   "source": [
    "f1_score(y_test, final_cat.predict(X_test))"
   ]
  },
  {
   "cell_type": "markdown",
   "metadata": {},
   "source": [
    "Catboost показал f1 больше 0.75 на тестовой выборке."
   ]
  },
  {
   "cell_type": "markdown",
   "metadata": {},
   "source": [
    "## Выводы"
   ]
  },
  {
   "cell_type": "markdown",
   "metadata": {},
   "source": [
    "Решили задачу определения токсичности комментариев.    \n",
    "Подготовили данные и использовали модель BERT.    \n",
    "С помощью BERT получили эмбеддинги.     \n",
    "Для решения задачи классификации применили LogisticRegression и CatBoostClassifier.    \n",
    "В качестве метрики выбрали F1.     \n",
    "CatBoostClassifier показал лучший результат.     \n",
    "На тесте получили 0.925"
   ]
  }
 ],
 "metadata": {
  "ExecuteTimeLog": [
   {
    "duration": 2857,
    "start_time": "2024-02-21T20:20:49.375Z"
   },
   {
    "duration": 2630,
    "start_time": "2024-02-21T20:20:52.235Z"
   },
   {
    "duration": 4154,
    "start_time": "2024-02-21T20:20:54.867Z"
   },
   {
    "duration": 3374,
    "start_time": "2024-02-21T20:21:02.000Z"
   },
   {
    "duration": 118,
    "start_time": "2024-02-21T20:21:08.211Z"
   },
   {
    "duration": 0,
    "start_time": "2024-02-21T20:23:40.432Z"
   },
   {
    "duration": 0,
    "start_time": "2024-02-21T20:23:40.435Z"
   },
   {
    "duration": 0,
    "start_time": "2024-02-21T20:23:40.436Z"
   },
   {
    "duration": 0,
    "start_time": "2024-02-21T20:23:40.437Z"
   },
   {
    "duration": 0,
    "start_time": "2024-02-21T20:23:40.439Z"
   },
   {
    "duration": 2578,
    "start_time": "2024-02-21T20:23:47.796Z"
   },
   {
    "duration": 2680,
    "start_time": "2024-02-21T20:23:50.978Z"
   },
   {
    "duration": 4,
    "start_time": "2024-02-21T20:23:55.256Z"
   },
   {
    "duration": 917,
    "start_time": "2024-02-21T20:23:56.416Z"
   },
   {
    "duration": 99431,
    "start_time": "2024-02-21T20:23:57.335Z"
   },
   {
    "duration": 0,
    "start_time": "2024-02-21T20:25:36.770Z"
   },
   {
    "duration": 2402,
    "start_time": "2024-02-22T00:19:33.590Z"
   },
   {
    "duration": 2371,
    "start_time": "2024-02-22T00:19:36.677Z"
   },
   {
    "duration": 2917,
    "start_time": "2024-02-22T00:19:39.050Z"
   },
   {
    "duration": 2386,
    "start_time": "2024-02-22T00:19:46.728Z"
   },
   {
    "duration": 4420,
    "start_time": "2024-02-22T00:19:51.301Z"
   },
   {
    "duration": 879,
    "start_time": "2024-02-22T00:20:28.953Z"
   },
   {
    "duration": 76,
    "start_time": "2024-02-22T00:20:32.054Z"
   },
   {
    "duration": 9,
    "start_time": "2024-02-22T00:20:39.027Z"
   },
   {
    "duration": 20,
    "start_time": "2024-02-22T00:20:42.515Z"
   },
   {
    "duration": 172,
    "start_time": "2024-02-22T00:20:44.152Z"
   },
   {
    "duration": 4,
    "start_time": "2024-02-22T00:20:45.490Z"
   },
   {
    "duration": 86746,
    "start_time": "2024-02-22T00:20:49.303Z"
   },
   {
    "duration": 784,
    "start_time": "2024-02-22T00:22:16.051Z"
   },
   {
    "duration": 294,
    "start_time": "2024-02-22T00:22:16.836Z"
   },
   {
    "duration": 26536,
    "start_time": "2024-02-22T00:22:17.132Z"
   },
   {
    "duration": 0,
    "start_time": "2024-02-22T00:22:43.670Z"
   },
   {
    "duration": 4106,
    "start_time": "2024-02-22T00:25:16.258Z"
   },
   {
    "duration": 26402,
    "start_time": "2024-02-22T00:25:24.036Z"
   },
   {
    "duration": 117,
    "start_time": "2024-02-22T00:27:07.624Z"
   },
   {
    "duration": 2473,
    "start_time": "2024-02-22T00:27:24.064Z"
   },
   {
    "duration": 3706,
    "start_time": "2024-02-22T00:27:30.925Z"
   },
   {
    "duration": 2547,
    "start_time": "2024-02-22T00:27:47.911Z"
   },
   {
    "duration": 2366,
    "start_time": "2024-02-22T00:27:50.460Z"
   },
   {
    "duration": 2407,
    "start_time": "2024-02-22T00:27:52.828Z"
   },
   {
    "duration": 2420,
    "start_time": "2024-02-22T00:27:55.237Z"
   },
   {
    "duration": 4673,
    "start_time": "2024-02-22T00:27:57.660Z"
   },
   {
    "duration": 3324,
    "start_time": "2024-02-22T00:28:02.334Z"
   },
   {
    "duration": 73,
    "start_time": "2024-02-22T00:28:05.660Z"
   },
   {
    "duration": 9,
    "start_time": "2024-02-22T00:28:05.734Z"
   },
   {
    "duration": 40,
    "start_time": "2024-02-22T00:28:05.744Z"
   },
   {
    "duration": 247,
    "start_time": "2024-02-22T00:28:05.786Z"
   },
   {
    "duration": 4,
    "start_time": "2024-02-22T00:28:06.035Z"
   },
   {
    "duration": 85083,
    "start_time": "2024-02-22T00:28:06.040Z"
   },
   {
    "duration": 774,
    "start_time": "2024-02-22T00:29:31.124Z"
   },
   {
    "duration": 498,
    "start_time": "2024-02-22T00:29:31.901Z"
   },
   {
    "duration": 2568,
    "start_time": "2024-02-22T00:29:32.401Z"
   },
   {
    "duration": 3193,
    "start_time": "2024-02-22T00:29:34.970Z"
   },
   {
    "duration": 26171,
    "start_time": "2024-02-22T00:29:38.165Z"
   },
   {
    "duration": 12,
    "start_time": "2024-02-22T00:30:04.337Z"
   },
   {
    "duration": 15,
    "start_time": "2024-02-22T00:30:04.351Z"
   },
   {
    "duration": 20,
    "start_time": "2024-02-22T00:30:04.368Z"
   },
   {
    "duration": 12,
    "start_time": "2024-02-22T00:30:04.389Z"
   },
   {
    "duration": 14897,
    "start_time": "2024-02-22T00:30:04.403Z"
   },
   {
    "duration": 485,
    "start_time": "2024-02-22T00:30:19.302Z"
   },
   {
    "duration": 2172,
    "start_time": "2024-02-22T00:30:19.789Z"
   },
   {
    "duration": 2137,
    "start_time": "2024-02-22T00:30:21.963Z"
   },
   {
    "duration": 26,
    "start_time": "2024-02-22T00:30:24.102Z"
   },
   {
    "duration": 33,
    "start_time": "2024-02-22T00:30:24.130Z"
   },
   {
    "duration": 12,
    "start_time": "2024-02-22T00:30:24.164Z"
   }
  ],
  "kernelspec": {
   "display_name": "Python 3 (ipykernel)",
   "language": "python",
   "name": "python3"
  },
  "language_info": {
   "codemirror_mode": {
    "name": "ipython",
    "version": 3
   },
   "file_extension": ".py",
   "mimetype": "text/x-python",
   "name": "python",
   "nbconvert_exporter": "python",
   "pygments_lexer": "ipython3",
   "version": "3.9.13"
  },
  "toc": {
   "base_numbering": 1,
   "nav_menu": {},
   "number_sections": true,
   "sideBar": true,
   "skip_h1_title": true,
   "title_cell": "Содержание",
   "title_sidebar": "Contents",
   "toc_cell": true,
   "toc_position": {
    "height": "calc(100% - 180px)",
    "left": "10px",
    "top": "150px",
    "width": "302.391px"
   },
   "toc_section_display": true,
   "toc_window_display": false
  }
 },
 "nbformat": 4,
 "nbformat_minor": 2
}
