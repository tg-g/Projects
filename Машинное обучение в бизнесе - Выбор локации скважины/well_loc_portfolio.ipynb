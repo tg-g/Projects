{
 "cells": [
  {
   "cell_type": "markdown",
   "id": "e56bbac2",
   "metadata": {},
   "source": [
    "# Выбор локации для скважины"
   ]
  },
  {
   "cell_type": "markdown",
   "id": "3d5c376a",
   "metadata": {},
   "source": [
    "Допустим, компании «ГлавРосГосНефть» нужно решить, где бурить новую скважину.\n",
    "\n",
    "Предоставлены пробы нефти в трёх регионах: в каждом 10 000 месторождений, где измерили качество нефти и объём её запасов. Необходимо построить модель машинного обучения, которая поможет определить регион, где добыча принесёт наибольшую прибыль. Проанализируйте возможную прибыль и риски техникой Bootstrap.\n",
    "\n",
    "## Шаги для выбора локации:\n",
    "\n",
    "* В избранном регионе ищут месторождения, для каждого определяют значения признаков;\n",
    "* Строят модель и оценивают объём запасов;\n",
    "* Выбирают месторождения с самым высокими оценками значений. Количество месторождений зависит от бюджета компании и стоимости разработки одной скважины;\n",
    "* Прибыль равна суммарной прибыли отобранных месторождений.\n",
    "\n",
    "**Описание данных:**    \n",
    "\n",
    "Данные геологоразведки трёх регионов находятся в файлах:     \n",
    "\n",
    "id — уникальный идентификатор скважины;    \n",
    "f0, f1, f2 — три признака точек (неважно, что они означают, но сами признаки значимы);      \n",
    "product — объём запасов в скважине (тыс. баррелей).    \n",
    "\n",
    "**Условия задачи:**     \n",
    "* Для обучения модели подходит только линейная регрессия (остальные — недостаточно предсказуемые).\n",
    "* При разведке региона исследуют 500 точек, из которых с помощью машинного обучения выбирают 200 лучших для разработки.\n",
    "* Бюджет на разработку скважин в регионе — 10 млрд рублей.\n",
    "* При нынешних ценах один баррель сырья приносит 450 рублей дохода. Доход с каждой единицы продукта составляет 450 тыс. рублей, поскольку объём указан в тысячах баррелей.\n",
    "* После оценки рисков нужно оставить лишь те регионы, в которых вероятность убытков меньше 2.5%. Среди них выбирают регион с наибольшей средней прибылью.     \n",
    "\n",
    "Данные синтетические: детали контрактов и характеристики месторождений не разглашаются."
   ]
  },
  {
   "cell_type": "markdown",
   "id": "308fec1d",
   "metadata": {},
   "source": [
    "## 1) Загрузка и подготовка данных:"
   ]
  },
  {
   "cell_type": "code",
   "execution_count": 1,
   "id": "ae376415",
   "metadata": {},
   "outputs": [],
   "source": [
    "import pandas as pd\n",
    "\n",
    "import seaborn as sns\n",
    "\n",
    "from math import sqrt\n",
    "\n",
    "from scipy import stats as st\n",
    "\n",
    "import matplotlib.pyplot as plt\n",
    "\n",
    "from numpy.random import RandomState\n",
    "\n",
    "from sklearn.metrics import mean_squared_error\n",
    "\n",
    "from sklearn.linear_model import LinearRegression\n",
    "\n",
    "from sklearn.model_selection import train_test_split"
   ]
  },
  {
   "cell_type": "code",
   "execution_count": 2,
   "id": "f7347669",
   "metadata": {},
   "outputs": [],
   "source": [
    "data_0 = pd.read_csv('C://Users//smirn//Downloads//geo_data_0.csv')\n",
    "data_1 = pd.read_csv('C://Users//smirn//Downloads//geo_data_1.csv')\n",
    "data_2 = pd.read_csv('C://Users//smirn//Downloads//geo_data_2.csv')"
   ]
  },
  {
   "cell_type": "markdown",
   "id": "b4d6d30c",
   "metadata": {},
   "source": [
    "### Первый датасет"
   ]
  },
  {
   "cell_type": "code",
   "execution_count": 3,
   "id": "fef4b78d",
   "metadata": {},
   "outputs": [
    {
     "data": {
      "text/html": [
       "<div>\n",
       "<style scoped>\n",
       "    .dataframe tbody tr th:only-of-type {\n",
       "        vertical-align: middle;\n",
       "    }\n",
       "\n",
       "    .dataframe tbody tr th {\n",
       "        vertical-align: top;\n",
       "    }\n",
       "\n",
       "    .dataframe thead th {\n",
       "        text-align: right;\n",
       "    }\n",
       "</style>\n",
       "<table border=\"1\" class=\"dataframe\">\n",
       "  <thead>\n",
       "    <tr style=\"text-align: right;\">\n",
       "      <th></th>\n",
       "      <th>id</th>\n",
       "      <th>f0</th>\n",
       "      <th>f1</th>\n",
       "      <th>f2</th>\n",
       "      <th>product</th>\n",
       "    </tr>\n",
       "  </thead>\n",
       "  <tbody>\n",
       "    <tr>\n",
       "      <th>0</th>\n",
       "      <td>txEyH</td>\n",
       "      <td>0.705745</td>\n",
       "      <td>-0.497823</td>\n",
       "      <td>1.221170</td>\n",
       "      <td>105.280062</td>\n",
       "    </tr>\n",
       "    <tr>\n",
       "      <th>1</th>\n",
       "      <td>2acmU</td>\n",
       "      <td>1.334711</td>\n",
       "      <td>-0.340164</td>\n",
       "      <td>4.365080</td>\n",
       "      <td>73.037750</td>\n",
       "    </tr>\n",
       "    <tr>\n",
       "      <th>2</th>\n",
       "      <td>409Wp</td>\n",
       "      <td>1.022732</td>\n",
       "      <td>0.151990</td>\n",
       "      <td>1.419926</td>\n",
       "      <td>85.265647</td>\n",
       "    </tr>\n",
       "    <tr>\n",
       "      <th>3</th>\n",
       "      <td>iJLyR</td>\n",
       "      <td>-0.032172</td>\n",
       "      <td>0.139033</td>\n",
       "      <td>2.978566</td>\n",
       "      <td>168.620776</td>\n",
       "    </tr>\n",
       "    <tr>\n",
       "      <th>4</th>\n",
       "      <td>Xdl7t</td>\n",
       "      <td>1.988431</td>\n",
       "      <td>0.155413</td>\n",
       "      <td>4.751769</td>\n",
       "      <td>154.036647</td>\n",
       "    </tr>\n",
       "  </tbody>\n",
       "</table>\n",
       "</div>"
      ],
      "text/plain": [
       "      id        f0        f1        f2     product\n",
       "0  txEyH  0.705745 -0.497823  1.221170  105.280062\n",
       "1  2acmU  1.334711 -0.340164  4.365080   73.037750\n",
       "2  409Wp  1.022732  0.151990  1.419926   85.265647\n",
       "3  iJLyR -0.032172  0.139033  2.978566  168.620776\n",
       "4  Xdl7t  1.988431  0.155413  4.751769  154.036647"
      ]
     },
     "execution_count": 3,
     "metadata": {},
     "output_type": "execute_result"
    }
   ],
   "source": [
    "data_0.head()"
   ]
  },
  {
   "cell_type": "code",
   "execution_count": 4,
   "id": "cfee7afd",
   "metadata": {},
   "outputs": [
    {
     "name": "stdout",
     "output_type": "stream",
     "text": [
      "<class 'pandas.core.frame.DataFrame'>\n",
      "RangeIndex: 100000 entries, 0 to 99999\n",
      "Data columns (total 5 columns):\n",
      " #   Column   Non-Null Count   Dtype  \n",
      "---  ------   --------------   -----  \n",
      " 0   id       100000 non-null  object \n",
      " 1   f0       100000 non-null  float64\n",
      " 2   f1       100000 non-null  float64\n",
      " 3   f2       100000 non-null  float64\n",
      " 4   product  100000 non-null  float64\n",
      "dtypes: float64(4), object(1)\n",
      "memory usage: 3.8+ MB\n"
     ]
    }
   ],
   "source": [
    "data_0.info()"
   ]
  },
  {
   "cell_type": "code",
   "execution_count": 5,
   "id": "dc0ef7f1",
   "metadata": {},
   "outputs": [
    {
     "data": {
      "text/plain": [
       "0"
      ]
     },
     "execution_count": 5,
     "metadata": {},
     "output_type": "execute_result"
    }
   ],
   "source": [
    "data_0.duplicated().sum()"
   ]
  },
  {
   "cell_type": "code",
   "execution_count": 6,
   "id": "9d08c942",
   "metadata": {},
   "outputs": [
    {
     "data": {
      "text/html": [
       "<div>\n",
       "<style scoped>\n",
       "    .dataframe tbody tr th:only-of-type {\n",
       "        vertical-align: middle;\n",
       "    }\n",
       "\n",
       "    .dataframe tbody tr th {\n",
       "        vertical-align: top;\n",
       "    }\n",
       "\n",
       "    .dataframe thead th {\n",
       "        text-align: right;\n",
       "    }\n",
       "</style>\n",
       "<table border=\"1\" class=\"dataframe\">\n",
       "  <thead>\n",
       "    <tr style=\"text-align: right;\">\n",
       "      <th></th>\n",
       "      <th>id</th>\n",
       "      <th>f0</th>\n",
       "      <th>f1</th>\n",
       "      <th>f2</th>\n",
       "      <th>product</th>\n",
       "    </tr>\n",
       "  </thead>\n",
       "  <tbody>\n",
       "    <tr>\n",
       "      <th>7530</th>\n",
       "      <td>HZww2</td>\n",
       "      <td>1.061194</td>\n",
       "      <td>-0.373969</td>\n",
       "      <td>10.430210</td>\n",
       "      <td>158.828695</td>\n",
       "    </tr>\n",
       "    <tr>\n",
       "      <th>41724</th>\n",
       "      <td>bxg6G</td>\n",
       "      <td>-0.823752</td>\n",
       "      <td>0.546319</td>\n",
       "      <td>3.630479</td>\n",
       "      <td>93.007798</td>\n",
       "    </tr>\n",
       "    <tr>\n",
       "      <th>51970</th>\n",
       "      <td>A5aEY</td>\n",
       "      <td>-0.180335</td>\n",
       "      <td>0.935548</td>\n",
       "      <td>-2.094773</td>\n",
       "      <td>33.020205</td>\n",
       "    </tr>\n",
       "    <tr>\n",
       "      <th>63593</th>\n",
       "      <td>QcMuo</td>\n",
       "      <td>0.635635</td>\n",
       "      <td>-0.473422</td>\n",
       "      <td>0.862670</td>\n",
       "      <td>64.578675</td>\n",
       "    </tr>\n",
       "    <tr>\n",
       "      <th>66136</th>\n",
       "      <td>74z30</td>\n",
       "      <td>1.084962</td>\n",
       "      <td>-0.312358</td>\n",
       "      <td>6.990771</td>\n",
       "      <td>127.643327</td>\n",
       "    </tr>\n",
       "    <tr>\n",
       "      <th>69163</th>\n",
       "      <td>AGS9W</td>\n",
       "      <td>-0.933795</td>\n",
       "      <td>0.116194</td>\n",
       "      <td>-3.655896</td>\n",
       "      <td>19.230453</td>\n",
       "    </tr>\n",
       "    <tr>\n",
       "      <th>75715</th>\n",
       "      <td>Tdehs</td>\n",
       "      <td>0.112079</td>\n",
       "      <td>0.430296</td>\n",
       "      <td>3.218993</td>\n",
       "      <td>60.964018</td>\n",
       "    </tr>\n",
       "    <tr>\n",
       "      <th>90815</th>\n",
       "      <td>fiKDv</td>\n",
       "      <td>0.049883</td>\n",
       "      <td>0.841313</td>\n",
       "      <td>6.394613</td>\n",
       "      <td>137.346586</td>\n",
       "    </tr>\n",
       "    <tr>\n",
       "      <th>92341</th>\n",
       "      <td>TtcGQ</td>\n",
       "      <td>0.110711</td>\n",
       "      <td>1.022689</td>\n",
       "      <td>0.911381</td>\n",
       "      <td>101.318008</td>\n",
       "    </tr>\n",
       "    <tr>\n",
       "      <th>97785</th>\n",
       "      <td>bsk9y</td>\n",
       "      <td>0.378429</td>\n",
       "      <td>0.005837</td>\n",
       "      <td>0.160827</td>\n",
       "      <td>160.637302</td>\n",
       "    </tr>\n",
       "  </tbody>\n",
       "</table>\n",
       "</div>"
      ],
      "text/plain": [
       "          id        f0        f1         f2     product\n",
       "7530   HZww2  1.061194 -0.373969  10.430210  158.828695\n",
       "41724  bxg6G -0.823752  0.546319   3.630479   93.007798\n",
       "51970  A5aEY -0.180335  0.935548  -2.094773   33.020205\n",
       "63593  QcMuo  0.635635 -0.473422   0.862670   64.578675\n",
       "66136  74z30  1.084962 -0.312358   6.990771  127.643327\n",
       "69163  AGS9W -0.933795  0.116194  -3.655896   19.230453\n",
       "75715  Tdehs  0.112079  0.430296   3.218993   60.964018\n",
       "90815  fiKDv  0.049883  0.841313   6.394613  137.346586\n",
       "92341  TtcGQ  0.110711  1.022689   0.911381  101.318008\n",
       "97785  bsk9y  0.378429  0.005837   0.160827  160.637302"
      ]
     },
     "execution_count": 6,
     "metadata": {},
     "output_type": "execute_result"
    }
   ],
   "source": [
    "implicit_dupl = data_0.duplicated(subset=['id'])\n",
    "data_0[implicit_dupl]"
   ]
  },
  {
   "cell_type": "code",
   "execution_count": 7,
   "id": "650db4c6",
   "metadata": {
    "scrolled": true
   },
   "outputs": [
    {
     "name": "stdout",
     "output_type": "stream",
     "text": [
      "<class 'pandas.core.frame.DataFrame'>\n",
      "Int64Index: 99990 entries, 0 to 99999\n",
      "Data columns (total 5 columns):\n",
      " #   Column   Non-Null Count  Dtype  \n",
      "---  ------   --------------  -----  \n",
      " 0   id       99990 non-null  object \n",
      " 1   f0       99990 non-null  float64\n",
      " 2   f1       99990 non-null  float64\n",
      " 3   f2       99990 non-null  float64\n",
      " 4   product  99990 non-null  float64\n",
      "dtypes: float64(4), object(1)\n",
      "memory usage: 4.6+ MB\n"
     ]
    }
   ],
   "source": [
    "data_0 = data_0.drop(data_0[implicit_dupl].index)\n",
    "data_0.info()"
   ]
  },
  {
   "cell_type": "code",
   "execution_count": 8,
   "id": "6fa3699e",
   "metadata": {},
   "outputs": [
    {
     "name": "stdout",
     "output_type": "stream",
     "text": [
      "<class 'pandas.core.frame.DataFrame'>\n",
      "RangeIndex: 99990 entries, 0 to 99989\n",
      "Data columns (total 5 columns):\n",
      " #   Column   Non-Null Count  Dtype  \n",
      "---  ------   --------------  -----  \n",
      " 0   id       99990 non-null  object \n",
      " 1   f0       99990 non-null  float64\n",
      " 2   f1       99990 non-null  float64\n",
      " 3   f2       99990 non-null  float64\n",
      " 4   product  99990 non-null  float64\n",
      "dtypes: float64(4), object(1)\n",
      "memory usage: 3.8+ MB\n"
     ]
    }
   ],
   "source": [
    "data_0 = data_0.reset_index(drop=True)\n",
    "data_0.info()"
   ]
  },
  {
   "cell_type": "code",
   "execution_count": 9,
   "id": "f66ad6d4",
   "metadata": {},
   "outputs": [
    {
     "data": {
      "image/png": "[encoded data removed]",
      "text/plain": [
       "<Figure size 640x480 with 1 Axes>"
      ]
     },
     "metadata": {},
     "output_type": "display_data"
    }
   ],
   "source": [
    "sns.boxplot(x=data_0['product']);"
   ]
  },
  {
   "cell_type": "code",
   "execution_count": 10,
   "id": "b9e30a39",
   "metadata": {},
   "outputs": [
    {
     "data": {
      "image/png": "[encoded data removed]",
      "text/plain": [
       "<Figure size 640x480 with 1 Axes>"
      ]
     },
     "metadata": {},
     "output_type": "display_data"
    }
   ],
   "source": [
    "data_0['product'].hist(bins=175);"
   ]
  },
  {
   "cell_type": "markdown",
   "id": "b8292a9d",
   "metadata": {},
   "source": [
    "#### Датасет `data_0` загрузил: названия столбцов корректны, пропуски и явные дубликаты отсутствуют, типы данных изменять не нужно. Нашёл неявные дубликаты, удалил их и вернул правильную индексацию."
   ]
  },
  {
   "cell_type": "markdown",
   "id": "76354b0f",
   "metadata": {},
   "source": [
    "### Второй датасет"
   ]
  },
  {
   "cell_type": "code",
   "execution_count": 11,
   "id": "e59da7bf",
   "metadata": {},
   "outputs": [
    {
     "data": {
      "text/html": [
       "<div>\n",
       "<style scoped>\n",
       "    .dataframe tbody tr th:only-of-type {\n",
       "        vertical-align: middle;\n",
       "    }\n",
       "\n",
       "    .dataframe tbody tr th {\n",
       "        vertical-align: top;\n",
       "    }\n",
       "\n",
       "    .dataframe thead th {\n",
       "        text-align: right;\n",
       "    }\n",
       "</style>\n",
       "<table border=\"1\" class=\"dataframe\">\n",
       "  <thead>\n",
       "    <tr style=\"text-align: right;\">\n",
       "      <th></th>\n",
       "      <th>id</th>\n",
       "      <th>f0</th>\n",
       "      <th>f1</th>\n",
       "      <th>f2</th>\n",
       "      <th>product</th>\n",
       "    </tr>\n",
       "  </thead>\n",
       "  <tbody>\n",
       "    <tr>\n",
       "      <th>0</th>\n",
       "      <td>kBEdx</td>\n",
       "      <td>-15.001348</td>\n",
       "      <td>-8.276000</td>\n",
       "      <td>-0.005876</td>\n",
       "      <td>3.179103</td>\n",
       "    </tr>\n",
       "    <tr>\n",
       "      <th>1</th>\n",
       "      <td>62mP7</td>\n",
       "      <td>14.272088</td>\n",
       "      <td>-3.475083</td>\n",
       "      <td>0.999183</td>\n",
       "      <td>26.953261</td>\n",
       "    </tr>\n",
       "    <tr>\n",
       "      <th>2</th>\n",
       "      <td>vyE1P</td>\n",
       "      <td>6.263187</td>\n",
       "      <td>-5.948386</td>\n",
       "      <td>5.001160</td>\n",
       "      <td>134.766305</td>\n",
       "    </tr>\n",
       "    <tr>\n",
       "      <th>3</th>\n",
       "      <td>KcrkZ</td>\n",
       "      <td>-13.081196</td>\n",
       "      <td>-11.506057</td>\n",
       "      <td>4.999415</td>\n",
       "      <td>137.945408</td>\n",
       "    </tr>\n",
       "    <tr>\n",
       "      <th>4</th>\n",
       "      <td>AHL4O</td>\n",
       "      <td>12.702195</td>\n",
       "      <td>-8.147433</td>\n",
       "      <td>5.004363</td>\n",
       "      <td>134.766305</td>\n",
       "    </tr>\n",
       "  </tbody>\n",
       "</table>\n",
       "</div>"
      ],
      "text/plain": [
       "      id         f0         f1        f2     product\n",
       "0  kBEdx -15.001348  -8.276000 -0.005876    3.179103\n",
       "1  62mP7  14.272088  -3.475083  0.999183   26.953261\n",
       "2  vyE1P   6.263187  -5.948386  5.001160  134.766305\n",
       "3  KcrkZ -13.081196 -11.506057  4.999415  137.945408\n",
       "4  AHL4O  12.702195  -8.147433  5.004363  134.766305"
      ]
     },
     "execution_count": 11,
     "metadata": {},
     "output_type": "execute_result"
    }
   ],
   "source": [
    "data_1.head()"
   ]
  },
  {
   "cell_type": "code",
   "execution_count": 12,
   "id": "9dfe21b3",
   "metadata": {},
   "outputs": [
    {
     "name": "stdout",
     "output_type": "stream",
     "text": [
      "<class 'pandas.core.frame.DataFrame'>\n",
      "RangeIndex: 100000 entries, 0 to 99999\n",
      "Data columns (total 5 columns):\n",
      " #   Column   Non-Null Count   Dtype  \n",
      "---  ------   --------------   -----  \n",
      " 0   id       100000 non-null  object \n",
      " 1   f0       100000 non-null  float64\n",
      " 2   f1       100000 non-null  float64\n",
      " 3   f2       100000 non-null  float64\n",
      " 4   product  100000 non-null  float64\n",
      "dtypes: float64(4), object(1)\n",
      "memory usage: 3.8+ MB\n"
     ]
    }
   ],
   "source": [
    "data_1.info()"
   ]
  },
  {
   "cell_type": "code",
   "execution_count": 13,
   "id": "122b6916",
   "metadata": {},
   "outputs": [
    {
     "data": {
      "text/plain": [
       "0"
      ]
     },
     "execution_count": 13,
     "metadata": {},
     "output_type": "execute_result"
    }
   ],
   "source": [
    "data_1.duplicated().sum()"
   ]
  },
  {
   "cell_type": "code",
   "execution_count": 14,
   "id": "e4c90dd8",
   "metadata": {},
   "outputs": [
    {
     "data": {
      "text/html": [
       "<div>\n",
       "<style scoped>\n",
       "    .dataframe tbody tr th:only-of-type {\n",
       "        vertical-align: middle;\n",
       "    }\n",
       "\n",
       "    .dataframe tbody tr th {\n",
       "        vertical-align: top;\n",
       "    }\n",
       "\n",
       "    .dataframe thead th {\n",
       "        text-align: right;\n",
       "    }\n",
       "</style>\n",
       "<table border=\"1\" class=\"dataframe\">\n",
       "  <thead>\n",
       "    <tr style=\"text-align: right;\">\n",
       "      <th></th>\n",
       "      <th>id</th>\n",
       "      <th>f0</th>\n",
       "      <th>f1</th>\n",
       "      <th>f2</th>\n",
       "      <th>product</th>\n",
       "    </tr>\n",
       "  </thead>\n",
       "  <tbody>\n",
       "    <tr>\n",
       "      <th>41906</th>\n",
       "      <td>LHZR0</td>\n",
       "      <td>-8.989672</td>\n",
       "      <td>-4.286607</td>\n",
       "      <td>2.009139</td>\n",
       "      <td>57.085625</td>\n",
       "    </tr>\n",
       "    <tr>\n",
       "      <th>82178</th>\n",
       "      <td>bfPNe</td>\n",
       "      <td>-6.202799</td>\n",
       "      <td>-4.820045</td>\n",
       "      <td>2.995107</td>\n",
       "      <td>84.038886</td>\n",
       "    </tr>\n",
       "    <tr>\n",
       "      <th>82873</th>\n",
       "      <td>wt4Uk</td>\n",
       "      <td>10.259972</td>\n",
       "      <td>-9.376355</td>\n",
       "      <td>4.994297</td>\n",
       "      <td>134.766305</td>\n",
       "    </tr>\n",
       "    <tr>\n",
       "      <th>84461</th>\n",
       "      <td>5ltQ6</td>\n",
       "      <td>18.213839</td>\n",
       "      <td>2.191999</td>\n",
       "      <td>3.993869</td>\n",
       "      <td>107.813044</td>\n",
       "    </tr>\n",
       "  </tbody>\n",
       "</table>\n",
       "</div>"
      ],
      "text/plain": [
       "          id         f0        f1        f2     product\n",
       "41906  LHZR0  -8.989672 -4.286607  2.009139   57.085625\n",
       "82178  bfPNe  -6.202799 -4.820045  2.995107   84.038886\n",
       "82873  wt4Uk  10.259972 -9.376355  4.994297  134.766305\n",
       "84461  5ltQ6  18.213839  2.191999  3.993869  107.813044"
      ]
     },
     "execution_count": 14,
     "metadata": {},
     "output_type": "execute_result"
    }
   ],
   "source": [
    "implicit_dupl = data_1.duplicated(subset=['id'])\n",
    "data_1[implicit_dupl]"
   ]
  },
  {
   "cell_type": "code",
   "execution_count": 15,
   "id": "c198ad37",
   "metadata": {},
   "outputs": [
    {
     "name": "stdout",
     "output_type": "stream",
     "text": [
      "<class 'pandas.core.frame.DataFrame'>\n",
      "Int64Index: 99996 entries, 0 to 99999\n",
      "Data columns (total 5 columns):\n",
      " #   Column   Non-Null Count  Dtype  \n",
      "---  ------   --------------  -----  \n",
      " 0   id       99996 non-null  object \n",
      " 1   f0       99996 non-null  float64\n",
      " 2   f1       99996 non-null  float64\n",
      " 3   f2       99996 non-null  float64\n",
      " 4   product  99996 non-null  float64\n",
      "dtypes: float64(4), object(1)\n",
      "memory usage: 4.6+ MB\n"
     ]
    }
   ],
   "source": [
    "data_1 = data_1.drop(data_1[implicit_dupl].index)\n",
    "data_1.info()"
   ]
  },
  {
   "cell_type": "code",
   "execution_count": 16,
   "id": "55313494",
   "metadata": {},
   "outputs": [
    {
     "name": "stdout",
     "output_type": "stream",
     "text": [
      "<class 'pandas.core.frame.DataFrame'>\n",
      "RangeIndex: 99996 entries, 0 to 99995\n",
      "Data columns (total 5 columns):\n",
      " #   Column   Non-Null Count  Dtype  \n",
      "---  ------   --------------  -----  \n",
      " 0   id       99996 non-null  object \n",
      " 1   f0       99996 non-null  float64\n",
      " 2   f1       99996 non-null  float64\n",
      " 3   f2       99996 non-null  float64\n",
      " 4   product  99996 non-null  float64\n",
      "dtypes: float64(4), object(1)\n",
      "memory usage: 3.8+ MB\n"
     ]
    }
   ],
   "source": [
    "data_1 = data_1.reset_index(drop=True)\n",
    "data_1.info()"
   ]
  },
  {
   "cell_type": "code",
   "execution_count": 17,
   "id": "c025f89d",
   "metadata": {},
   "outputs": [
    {
     "data": {
      "image/png": "[encoded data removed]",
      "text/plain": [
       "<Figure size 640x480 with 1 Axes>"
      ]
     },
     "metadata": {},
     "output_type": "display_data"
    }
   ],
   "source": [
    "sns.boxplot(x=data_1['product']);"
   ]
  },
  {
   "cell_type": "code",
   "execution_count": 18,
   "id": "a57a28e2",
   "metadata": {},
   "outputs": [
    {
     "data": {
      "image/png": "[encoded data removed]",
      "text/plain": [
       "<Figure size 640x480 with 1 Axes>"
      ]
     },
     "metadata": {},
     "output_type": "display_data"
    }
   ],
   "source": [
    "data_1['product'].hist(bins=30);"
   ]
  },
  {
   "cell_type": "markdown",
   "id": "9645af08",
   "metadata": {},
   "source": [
    "#### Датасет `data_1` загрузил: названия столбцов корректны, пропуски и явные дубликаты отсутствуют, типы данных изменять не нужно. Нашёл неявные дубликаты, удалил их и вернул правильную индексацию."
   ]
  },
  {
   "cell_type": "markdown",
   "id": "4a6580fa",
   "metadata": {},
   "source": [
    "### Третий датасет"
   ]
  },
  {
   "cell_type": "code",
   "execution_count": 19,
   "id": "cae46fc9",
   "metadata": {},
   "outputs": [
    {
     "data": {
      "text/html": [
       "<div>\n",
       "<style scoped>\n",
       "    .dataframe tbody tr th:only-of-type {\n",
       "        vertical-align: middle;\n",
       "    }\n",
       "\n",
       "    .dataframe tbody tr th {\n",
       "        vertical-align: top;\n",
       "    }\n",
       "\n",
       "    .dataframe thead th {\n",
       "        text-align: right;\n",
       "    }\n",
       "</style>\n",
       "<table border=\"1\" class=\"dataframe\">\n",
       "  <thead>\n",
       "    <tr style=\"text-align: right;\">\n",
       "      <th></th>\n",
       "      <th>id</th>\n",
       "      <th>f0</th>\n",
       "      <th>f1</th>\n",
       "      <th>f2</th>\n",
       "      <th>product</th>\n",
       "    </tr>\n",
       "  </thead>\n",
       "  <tbody>\n",
       "    <tr>\n",
       "      <th>0</th>\n",
       "      <td>fwXo0</td>\n",
       "      <td>-1.146987</td>\n",
       "      <td>0.963328</td>\n",
       "      <td>-0.828965</td>\n",
       "      <td>27.758673</td>\n",
       "    </tr>\n",
       "    <tr>\n",
       "      <th>1</th>\n",
       "      <td>WJtFt</td>\n",
       "      <td>0.262778</td>\n",
       "      <td>0.269839</td>\n",
       "      <td>-2.530187</td>\n",
       "      <td>56.069697</td>\n",
       "    </tr>\n",
       "    <tr>\n",
       "      <th>2</th>\n",
       "      <td>ovLUW</td>\n",
       "      <td>0.194587</td>\n",
       "      <td>0.289035</td>\n",
       "      <td>-5.586433</td>\n",
       "      <td>62.871910</td>\n",
       "    </tr>\n",
       "    <tr>\n",
       "      <th>3</th>\n",
       "      <td>q6cA6</td>\n",
       "      <td>2.236060</td>\n",
       "      <td>-0.553760</td>\n",
       "      <td>0.930038</td>\n",
       "      <td>114.572842</td>\n",
       "    </tr>\n",
       "    <tr>\n",
       "      <th>4</th>\n",
       "      <td>WPMUX</td>\n",
       "      <td>-0.515993</td>\n",
       "      <td>1.716266</td>\n",
       "      <td>5.899011</td>\n",
       "      <td>149.600746</td>\n",
       "    </tr>\n",
       "  </tbody>\n",
       "</table>\n",
       "</div>"
      ],
      "text/plain": [
       "      id        f0        f1        f2     product\n",
       "0  fwXo0 -1.146987  0.963328 -0.828965   27.758673\n",
       "1  WJtFt  0.262778  0.269839 -2.530187   56.069697\n",
       "2  ovLUW  0.194587  0.289035 -5.586433   62.871910\n",
       "3  q6cA6  2.236060 -0.553760  0.930038  114.572842\n",
       "4  WPMUX -0.515993  1.716266  5.899011  149.600746"
      ]
     },
     "execution_count": 19,
     "metadata": {},
     "output_type": "execute_result"
    }
   ],
   "source": [
    "data_2.head()"
   ]
  },
  {
   "cell_type": "code",
   "execution_count": 20,
   "id": "222740f8",
   "metadata": {},
   "outputs": [
    {
     "name": "stdout",
     "output_type": "stream",
     "text": [
      "<class 'pandas.core.frame.DataFrame'>\n",
      "RangeIndex: 100000 entries, 0 to 99999\n",
      "Data columns (total 5 columns):\n",
      " #   Column   Non-Null Count   Dtype  \n",
      "---  ------   --------------   -----  \n",
      " 0   id       100000 non-null  object \n",
      " 1   f0       100000 non-null  float64\n",
      " 2   f1       100000 non-null  float64\n",
      " 3   f2       100000 non-null  float64\n",
      " 4   product  100000 non-null  float64\n",
      "dtypes: float64(4), object(1)\n",
      "memory usage: 3.8+ MB\n"
     ]
    }
   ],
   "source": [
    "data_2.info()"
   ]
  },
  {
   "cell_type": "code",
   "execution_count": 21,
   "id": "c04d46e3",
   "metadata": {},
   "outputs": [
    {
     "data": {
      "text/plain": [
       "0"
      ]
     },
     "execution_count": 21,
     "metadata": {},
     "output_type": "execute_result"
    }
   ],
   "source": [
    "data_2.duplicated().sum()"
   ]
  },
  {
   "cell_type": "code",
   "execution_count": 22,
   "id": "d7bda757",
   "metadata": {},
   "outputs": [
    {
     "data": {
      "text/html": [
       "<div>\n",
       "<style scoped>\n",
       "    .dataframe tbody tr th:only-of-type {\n",
       "        vertical-align: middle;\n",
       "    }\n",
       "\n",
       "    .dataframe tbody tr th {\n",
       "        vertical-align: top;\n",
       "    }\n",
       "\n",
       "    .dataframe thead th {\n",
       "        text-align: right;\n",
       "    }\n",
       "</style>\n",
       "<table border=\"1\" class=\"dataframe\">\n",
       "  <thead>\n",
       "    <tr style=\"text-align: right;\">\n",
       "      <th></th>\n",
       "      <th>id</th>\n",
       "      <th>f0</th>\n",
       "      <th>f1</th>\n",
       "      <th>f2</th>\n",
       "      <th>product</th>\n",
       "    </tr>\n",
       "  </thead>\n",
       "  <tbody>\n",
       "    <tr>\n",
       "      <th>43233</th>\n",
       "      <td>xCHr8</td>\n",
       "      <td>-0.847066</td>\n",
       "      <td>2.101796</td>\n",
       "      <td>5.597130</td>\n",
       "      <td>184.388641</td>\n",
       "    </tr>\n",
       "    <tr>\n",
       "      <th>49564</th>\n",
       "      <td>VF7Jo</td>\n",
       "      <td>-0.883115</td>\n",
       "      <td>0.560537</td>\n",
       "      <td>0.723601</td>\n",
       "      <td>136.233420</td>\n",
       "    </tr>\n",
       "    <tr>\n",
       "      <th>55967</th>\n",
       "      <td>KUPhW</td>\n",
       "      <td>1.211150</td>\n",
       "      <td>3.176408</td>\n",
       "      <td>5.543540</td>\n",
       "      <td>132.831802</td>\n",
       "    </tr>\n",
       "    <tr>\n",
       "      <th>95090</th>\n",
       "      <td>Vcm5J</td>\n",
       "      <td>2.587702</td>\n",
       "      <td>1.986875</td>\n",
       "      <td>2.482245</td>\n",
       "      <td>92.327572</td>\n",
       "    </tr>\n",
       "  </tbody>\n",
       "</table>\n",
       "</div>"
      ],
      "text/plain": [
       "          id        f0        f1        f2     product\n",
       "43233  xCHr8 -0.847066  2.101796  5.597130  184.388641\n",
       "49564  VF7Jo -0.883115  0.560537  0.723601  136.233420\n",
       "55967  KUPhW  1.211150  3.176408  5.543540  132.831802\n",
       "95090  Vcm5J  2.587702  1.986875  2.482245   92.327572"
      ]
     },
     "execution_count": 22,
     "metadata": {},
     "output_type": "execute_result"
    }
   ],
   "source": [
    "implicit_dupl = data_2.duplicated(subset=['id'])\n",
    "data_2[implicit_dupl]"
   ]
  },
  {
   "cell_type": "code",
   "execution_count": 23,
   "id": "e9efb53c",
   "metadata": {},
   "outputs": [
    {
     "name": "stdout",
     "output_type": "stream",
     "text": [
      "<class 'pandas.core.frame.DataFrame'>\n",
      "Int64Index: 99996 entries, 0 to 99999\n",
      "Data columns (total 5 columns):\n",
      " #   Column   Non-Null Count  Dtype  \n",
      "---  ------   --------------  -----  \n",
      " 0   id       99996 non-null  object \n",
      " 1   f0       99996 non-null  float64\n",
      " 2   f1       99996 non-null  float64\n",
      " 3   f2       99996 non-null  float64\n",
      " 4   product  99996 non-null  float64\n",
      "dtypes: float64(4), object(1)\n",
      "memory usage: 4.6+ MB\n"
     ]
    }
   ],
   "source": [
    "data_2 = data_2.drop(data_2[implicit_dupl].index)\n",
    "data_2.info()"
   ]
  },
  {
   "cell_type": "code",
   "execution_count": 24,
   "id": "e773a114",
   "metadata": {},
   "outputs": [
    {
     "name": "stdout",
     "output_type": "stream",
     "text": [
      "<class 'pandas.core.frame.DataFrame'>\n",
      "RangeIndex: 99996 entries, 0 to 99995\n",
      "Data columns (total 5 columns):\n",
      " #   Column   Non-Null Count  Dtype  \n",
      "---  ------   --------------  -----  \n",
      " 0   id       99996 non-null  object \n",
      " 1   f0       99996 non-null  float64\n",
      " 2   f1       99996 non-null  float64\n",
      " 3   f2       99996 non-null  float64\n",
      " 4   product  99996 non-null  float64\n",
      "dtypes: float64(4), object(1)\n",
      "memory usage: 3.8+ MB\n"
     ]
    }
   ],
   "source": [
    "data_2 = data_2.reset_index(drop=True)\n",
    "data_2.info()"
   ]
  },
  {
   "cell_type": "code",
   "execution_count": 25,
   "id": "263ca8a2",
   "metadata": {},
   "outputs": [
    {
     "data": {
      "image/png": "[encoded data removed]",
      "text/plain": [
       "<Figure size 640x480 with 1 Axes>"
      ]
     },
     "metadata": {},
     "output_type": "display_data"
    }
   ],
   "source": [
    "sns.boxplot(x=data_2['product']);"
   ]
  },
  {
   "cell_type": "code",
   "execution_count": 26,
   "id": "cceaba65",
   "metadata": {},
   "outputs": [
    {
     "data": {
      "image/png": "[encoded data removed]",
      "text/plain": [
       "<Figure size 640x480 with 1 Axes>"
      ]
     },
     "metadata": {},
     "output_type": "display_data"
    }
   ],
   "source": [
    "data_2['product'].hist(bins=175);"
   ]
  },
  {
   "cell_type": "markdown",
   "id": "085b67a2",
   "metadata": {},
   "source": [
    "#### Датасет `data_2` загрузил: названия столбцов корректны, пропуски и явные дубликаты отсутствуют, типы данных изменять не нужно. Нашёл неявные дубликаты, удалил их и вернул правильную индексацию."
   ]
  },
  {
   "cell_type": "markdown",
   "id": "40d1f80d",
   "metadata": {},
   "source": [
    "## 2)  Обучение и проверка модели"
   ]
  },
  {
   "cell_type": "markdown",
   "id": "f8467e62",
   "metadata": {},
   "source": [
    "### 2.1. Разбиение данных на обучающую и валидационную выборки в соотношении 75:25.   "
   ]
  },
  {
   "cell_type": "markdown",
   "id": "9473c925",
   "metadata": {},
   "source": [
    "#### Первый датасет "
   ]
  },
  {
   "cell_type": "code",
   "execution_count": 27,
   "id": "5466f71d",
   "metadata": {},
   "outputs": [
    {
     "name": "stdout",
     "output_type": "stream",
     "text": [
      "(99990, 3)\n",
      "(99990,)\n"
     ]
    }
   ],
   "source": [
    "features_0 = data_0.drop(['id','product'], axis=1)\n",
    "target_0 = data_0['product']\n",
    "\n",
    "print(features_0.shape)\n",
    "print(target_0.shape)"
   ]
  },
  {
   "cell_type": "code",
   "execution_count": 28,
   "id": "7d49d1d3",
   "metadata": {},
   "outputs": [
    {
     "name": "stdout",
     "output_type": "stream",
     "text": [
      "(74992, 3)\n",
      "(74992,)\n",
      "\n",
      "(24998, 3)\n",
      "(24998,)\n"
     ]
    }
   ],
   "source": [
    "features_train_0, features_valid_0, target_train_0, target_valid_0 = train_test_split(\n",
    "    features_0, target_0, test_size=0.25, random_state=12345)\n",
    "\n",
    "print(features_train_0.shape)\n",
    "print(target_train_0.shape)\n",
    "print()\n",
    "\n",
    "print(features_valid_0.shape)\n",
    "print(target_valid_0.shape)"
   ]
  },
  {
   "cell_type": "markdown",
   "id": "ab48a00e",
   "metadata": {},
   "source": [
    "#### Второй датасет "
   ]
  },
  {
   "cell_type": "code",
   "execution_count": 29,
   "id": "913357ec",
   "metadata": {},
   "outputs": [
    {
     "name": "stdout",
     "output_type": "stream",
     "text": [
      "(99996, 3)\n",
      "(99996,)\n"
     ]
    }
   ],
   "source": [
    "features_1 = data_1.drop(['id','product'], axis=1)\n",
    "target_1 = data_1['product']\n",
    "\n",
    "print(features_1.shape)\n",
    "print(target_1.shape)"
   ]
  },
  {
   "cell_type": "code",
   "execution_count": 30,
   "id": "8575d656",
   "metadata": {},
   "outputs": [
    {
     "name": "stdout",
     "output_type": "stream",
     "text": [
      "(74997, 3)\n",
      "(74997,)\n",
      "\n",
      "(24999, 3)\n",
      "(24999,)\n"
     ]
    }
   ],
   "source": [
    "features_train_1, features_valid_1, target_train_1, target_valid_1 = train_test_split(\n",
    "    features_1, target_1, test_size=0.25, random_state=12345)\n",
    "\n",
    "print(features_train_1.shape)\n",
    "print(target_train_1.shape)\n",
    "print()\n",
    "\n",
    "print(features_valid_1.shape)\n",
    "print(target_valid_1.shape)"
   ]
  },
  {
   "cell_type": "markdown",
   "id": "c43ca90c",
   "metadata": {},
   "source": [
    "#### Третий датасет"
   ]
  },
  {
   "cell_type": "code",
   "execution_count": 31,
   "id": "8d66e228",
   "metadata": {},
   "outputs": [
    {
     "name": "stdout",
     "output_type": "stream",
     "text": [
      "(99996, 3)\n",
      "(99996,)\n"
     ]
    }
   ],
   "source": [
    "features_2 = data_2.drop(['id','product'], axis=1)\n",
    "target_2 = data_2['product']\n",
    "\n",
    "print(features_2.shape)\n",
    "print(target_2.shape)"
   ]
  },
  {
   "cell_type": "code",
   "execution_count": 32,
   "id": "021200e4",
   "metadata": {},
   "outputs": [
    {
     "name": "stdout",
     "output_type": "stream",
     "text": [
      "(74997, 3)\n",
      "(74997,)\n",
      "\n",
      "(24999, 3)\n",
      "(24999,)\n"
     ]
    }
   ],
   "source": [
    "features_train_2, features_valid_2, target_train_2, target_valid_2 = train_test_split(\n",
    "    features_2, target_2, test_size=0.25, random_state=12345)\n",
    "\n",
    "print(features_train_2.shape)\n",
    "print(target_train_2.shape)\n",
    "print()\n",
    "\n",
    "print(features_valid_2.shape)\n",
    "print(target_valid_2.shape)"
   ]
  },
  {
   "cell_type": "markdown",
   "id": "7aff5336",
   "metadata": {},
   "source": [
    "### 2.2. Обучение модели и предсказания на валидационной выборке."
   ]
  },
  {
   "cell_type": "markdown",
   "id": "b8ab00fa",
   "metadata": {},
   "source": [
    "#### Первый датасет"
   ]
  },
  {
   "cell_type": "code",
   "execution_count": 33,
   "id": "5d2fea55",
   "metadata": {
    "scrolled": true
   },
   "outputs": [
    {
     "data": {
      "text/plain": [
       "array([103.95037196,  73.6878687 , 101.01528767, ...,  78.44465303,\n",
       "        71.08276801,  66.05485384])"
      ]
     },
     "execution_count": 33,
     "metadata": {},
     "output_type": "execute_result"
    }
   ],
   "source": [
    "model_0 = LinearRegression()\n",
    "model_0.fit(features_train_0, target_train_0)\n",
    "predicted_valid_0 = model_0.predict(features_valid_0)\n",
    "\n",
    "predicted_valid_0"
   ]
  },
  {
   "cell_type": "code",
   "execution_count": 34,
   "id": "bfe8bec5",
   "metadata": {},
   "outputs": [
    {
     "data": {
      "text/html": [
       "<div>\n",
       "<style scoped>\n",
       "    .dataframe tbody tr th:only-of-type {\n",
       "        vertical-align: middle;\n",
       "    }\n",
       "\n",
       "    .dataframe tbody tr th {\n",
       "        vertical-align: top;\n",
       "    }\n",
       "\n",
       "    .dataframe thead th {\n",
       "        text-align: right;\n",
       "    }\n",
       "</style>\n",
       "<table border=\"1\" class=\"dataframe\">\n",
       "  <thead>\n",
       "    <tr style=\"text-align: right;\">\n",
       "      <th></th>\n",
       "      <th>f0</th>\n",
       "      <th>f1</th>\n",
       "      <th>f2</th>\n",
       "      <th>predict</th>\n",
       "    </tr>\n",
       "  </thead>\n",
       "  <tbody>\n",
       "    <tr>\n",
       "      <th>49466</th>\n",
       "      <td>0.073644</td>\n",
       "      <td>1.022011</td>\n",
       "      <td>6.064581</td>\n",
       "      <td>103.950372</td>\n",
       "    </tr>\n",
       "    <tr>\n",
       "      <th>55493</th>\n",
       "      <td>1.986176</td>\n",
       "      <td>0.274681</td>\n",
       "      <td>-1.152339</td>\n",
       "      <td>73.687869</td>\n",
       "    </tr>\n",
       "    <tr>\n",
       "      <th>11689</th>\n",
       "      <td>2.018384</td>\n",
       "      <td>-0.137280</td>\n",
       "      <td>2.085813</td>\n",
       "      <td>101.015288</td>\n",
       "    </tr>\n",
       "    <tr>\n",
       "      <th>13769</th>\n",
       "      <td>1.884278</td>\n",
       "      <td>0.335650</td>\n",
       "      <td>2.102482</td>\n",
       "      <td>94.048415</td>\n",
       "    </tr>\n",
       "    <tr>\n",
       "      <th>72389</th>\n",
       "      <td>1.102171</td>\n",
       "      <td>-0.514353</td>\n",
       "      <td>-0.209767</td>\n",
       "      <td>87.559552</td>\n",
       "    </tr>\n",
       "    <tr>\n",
       "      <th>...</th>\n",
       "      <td>...</td>\n",
       "      <td>...</td>\n",
       "      <td>...</td>\n",
       "      <td>...</td>\n",
       "    </tr>\n",
       "    <tr>\n",
       "      <th>7866</th>\n",
       "      <td>-0.765425</td>\n",
       "      <td>0.417309</td>\n",
       "      <td>-0.750885</td>\n",
       "      <td>63.963223</td>\n",
       "    </tr>\n",
       "    <tr>\n",
       "      <th>80669</th>\n",
       "      <td>0.814727</td>\n",
       "      <td>0.781915</td>\n",
       "      <td>10.552582</td>\n",
       "      <td>139.862730</td>\n",
       "    </tr>\n",
       "    <tr>\n",
       "      <th>45136</th>\n",
       "      <td>-0.200651</td>\n",
       "      <td>0.943633</td>\n",
       "      <td>2.212201</td>\n",
       "      <td>78.444653</td>\n",
       "    </tr>\n",
       "    <tr>\n",
       "      <th>53542</th>\n",
       "      <td>1.261902</td>\n",
       "      <td>-0.424739</td>\n",
       "      <td>-2.596798</td>\n",
       "      <td>71.082768</td>\n",
       "    </tr>\n",
       "    <tr>\n",
       "      <th>17773</th>\n",
       "      <td>0.026053</td>\n",
       "      <td>0.207765</td>\n",
       "      <td>-1.325616</td>\n",
       "      <td>66.054854</td>\n",
       "    </tr>\n",
       "  </tbody>\n",
       "</table>\n",
       "<p>24998 rows × 4 columns</p>\n",
       "</div>"
      ],
      "text/plain": [
       "             f0        f1         f2     predict\n",
       "49466  0.073644  1.022011   6.064581  103.950372\n",
       "55493  1.986176  0.274681  -1.152339   73.687869\n",
       "11689  2.018384 -0.137280   2.085813  101.015288\n",
       "13769  1.884278  0.335650   2.102482   94.048415\n",
       "72389  1.102171 -0.514353  -0.209767   87.559552\n",
       "...         ...       ...        ...         ...\n",
       "7866  -0.765425  0.417309  -0.750885   63.963223\n",
       "80669  0.814727  0.781915  10.552582  139.862730\n",
       "45136 -0.200651  0.943633   2.212201   78.444653\n",
       "53542  1.261902 -0.424739  -2.596798   71.082768\n",
       "17773  0.026053  0.207765  -1.325616   66.054854\n",
       "\n",
       "[24998 rows x 4 columns]"
      ]
     },
     "execution_count": 34,
     "metadata": {},
     "output_type": "execute_result"
    }
   ],
   "source": [
    "features_valid_0['predict'] = predicted_valid_0\n",
    "\n",
    "features_valid_0"
   ]
  },
  {
   "cell_type": "markdown",
   "id": "ab5ff910",
   "metadata": {},
   "source": [
    "#### Второй датасет"
   ]
  },
  {
   "cell_type": "code",
   "execution_count": 35,
   "id": "01d40f1b",
   "metadata": {
    "scrolled": true
   },
   "outputs": [
    {
     "data": {
      "text/plain": [
       "array([ 53.40725544, 137.86345753,  29.7450034 , ...,  54.61142751,\n",
       "       107.57873737,   1.96933801])"
      ]
     },
     "execution_count": 35,
     "metadata": {},
     "output_type": "execute_result"
    }
   ],
   "source": [
    "model_1 = LinearRegression()\n",
    "model_1.fit(features_train_1, target_train_1)\n",
    "predicted_valid_1 = model_1.predict(features_valid_1)\n",
    "\n",
    "predicted_valid_1"
   ]
  },
  {
   "cell_type": "code",
   "execution_count": 36,
   "id": "4b5b377e",
   "metadata": {},
   "outputs": [
    {
     "data": {
      "text/html": [
       "<div>\n",
       "<style scoped>\n",
       "    .dataframe tbody tr th:only-of-type {\n",
       "        vertical-align: middle;\n",
       "    }\n",
       "\n",
       "    .dataframe tbody tr th {\n",
       "        vertical-align: top;\n",
       "    }\n",
       "\n",
       "    .dataframe thead th {\n",
       "        text-align: right;\n",
       "    }\n",
       "</style>\n",
       "<table border=\"1\" class=\"dataframe\">\n",
       "  <thead>\n",
       "    <tr style=\"text-align: right;\">\n",
       "      <th></th>\n",
       "      <th>f0</th>\n",
       "      <th>f1</th>\n",
       "      <th>f2</th>\n",
       "      <th>predict</th>\n",
       "    </tr>\n",
       "  </thead>\n",
       "  <tbody>\n",
       "    <tr>\n",
       "      <th>71747</th>\n",
       "      <td>15.491360</td>\n",
       "      <td>-4.746353</td>\n",
       "      <td>1.999690</td>\n",
       "      <td>53.407255</td>\n",
       "    </tr>\n",
       "    <tr>\n",
       "      <th>80489</th>\n",
       "      <td>-8.840548</td>\n",
       "      <td>-6.894209</td>\n",
       "      <td>5.000913</td>\n",
       "      <td>137.863458</td>\n",
       "    </tr>\n",
       "    <tr>\n",
       "      <th>2655</th>\n",
       "      <td>-6.507568</td>\n",
       "      <td>-4.817448</td>\n",
       "      <td>1.003449</td>\n",
       "      <td>29.745003</td>\n",
       "    </tr>\n",
       "    <tr>\n",
       "      <th>71170</th>\n",
       "      <td>-3.001247</td>\n",
       "      <td>-3.916052</td>\n",
       "      <td>3.006016</td>\n",
       "      <td>83.188229</td>\n",
       "    </tr>\n",
       "    <tr>\n",
       "      <th>91137</th>\n",
       "      <td>6.090476</td>\n",
       "      <td>-4.494723</td>\n",
       "      <td>0.013815</td>\n",
       "      <td>1.242101</td>\n",
       "    </tr>\n",
       "    <tr>\n",
       "      <th>...</th>\n",
       "      <td>...</td>\n",
       "      <td>...</td>\n",
       "      <td>...</td>\n",
       "      <td>...</td>\n",
       "    </tr>\n",
       "    <tr>\n",
       "      <th>18456</th>\n",
       "      <td>-8.363585</td>\n",
       "      <td>-6.357527</td>\n",
       "      <td>3.995592</td>\n",
       "      <td>110.688350</td>\n",
       "    </tr>\n",
       "    <tr>\n",
       "      <th>73031</th>\n",
       "      <td>7.010099</td>\n",
       "      <td>-0.922511</td>\n",
       "      <td>3.007631</td>\n",
       "      <td>81.716127</td>\n",
       "    </tr>\n",
       "    <tr>\n",
       "      <th>54709</th>\n",
       "      <td>5.394073</td>\n",
       "      <td>1.144032</td>\n",
       "      <td>1.994925</td>\n",
       "      <td>54.611428</td>\n",
       "    </tr>\n",
       "    <tr>\n",
       "      <th>50910</th>\n",
       "      <td>13.112594</td>\n",
       "      <td>-1.695908</td>\n",
       "      <td>3.999411</td>\n",
       "      <td>107.578737</td>\n",
       "    </tr>\n",
       "    <tr>\n",
       "      <th>46408</th>\n",
       "      <td>-2.123725</td>\n",
       "      <td>-4.778874</td>\n",
       "      <td>-0.003570</td>\n",
       "      <td>1.969338</td>\n",
       "    </tr>\n",
       "  </tbody>\n",
       "</table>\n",
       "<p>24999 rows × 4 columns</p>\n",
       "</div>"
      ],
      "text/plain": [
       "              f0        f1        f2     predict\n",
       "71747  15.491360 -4.746353  1.999690   53.407255\n",
       "80489  -8.840548 -6.894209  5.000913  137.863458\n",
       "2655   -6.507568 -4.817448  1.003449   29.745003\n",
       "71170  -3.001247 -3.916052  3.006016   83.188229\n",
       "91137   6.090476 -4.494723  0.013815    1.242101\n",
       "...          ...       ...       ...         ...\n",
       "18456  -8.363585 -6.357527  3.995592  110.688350\n",
       "73031   7.010099 -0.922511  3.007631   81.716127\n",
       "54709   5.394073  1.144032  1.994925   54.611428\n",
       "50910  13.112594 -1.695908  3.999411  107.578737\n",
       "46408  -2.123725 -4.778874 -0.003570    1.969338\n",
       "\n",
       "[24999 rows x 4 columns]"
      ]
     },
     "execution_count": 36,
     "metadata": {},
     "output_type": "execute_result"
    }
   ],
   "source": [
    "features_valid_1['predict'] = predicted_valid_1\n",
    "\n",
    "features_valid_1"
   ]
  },
  {
   "cell_type": "markdown",
   "id": "a246c7d9",
   "metadata": {},
   "source": [
    "#### Третий датасет"
   ]
  },
  {
   "cell_type": "code",
   "execution_count": 37,
   "id": "a1121617",
   "metadata": {},
   "outputs": [
    {
     "data": {
      "text/plain": [
       "array([ 76.45756504, 109.41709375,  89.9226202 , ...,  62.36724943,\n",
       "       114.19081382,  86.99880426])"
      ]
     },
     "execution_count": 37,
     "metadata": {},
     "output_type": "execute_result"
    }
   ],
   "source": [
    "model_2 = LinearRegression()\n",
    "model_2.fit(features_train_2, target_train_2)\n",
    "predicted_valid_2 = model_2.predict(features_valid_2)\n",
    "\n",
    "predicted_valid_2"
   ]
  },
  {
   "cell_type": "code",
   "execution_count": 38,
   "id": "eed7a200",
   "metadata": {},
   "outputs": [
    {
     "data": {
      "text/html": [
       "<div>\n",
       "<style scoped>\n",
       "    .dataframe tbody tr th:only-of-type {\n",
       "        vertical-align: middle;\n",
       "    }\n",
       "\n",
       "    .dataframe tbody tr th {\n",
       "        vertical-align: top;\n",
       "    }\n",
       "\n",
       "    .dataframe thead th {\n",
       "        text-align: right;\n",
       "    }\n",
       "</style>\n",
       "<table border=\"1\" class=\"dataframe\">\n",
       "  <thead>\n",
       "    <tr style=\"text-align: right;\">\n",
       "      <th></th>\n",
       "      <th>f0</th>\n",
       "      <th>f1</th>\n",
       "      <th>f2</th>\n",
       "      <th>predict</th>\n",
       "    </tr>\n",
       "  </thead>\n",
       "  <tbody>\n",
       "    <tr>\n",
       "      <th>71747</th>\n",
       "      <td>1.953202</td>\n",
       "      <td>-1.826540</td>\n",
       "      <td>-0.757681</td>\n",
       "      <td>76.457565</td>\n",
       "    </tr>\n",
       "    <tr>\n",
       "      <th>80489</th>\n",
       "      <td>0.875958</td>\n",
       "      <td>1.023876</td>\n",
       "      <td>4.992700</td>\n",
       "      <td>109.417094</td>\n",
       "    </tr>\n",
       "    <tr>\n",
       "      <th>2655</th>\n",
       "      <td>-4.587649</td>\n",
       "      <td>-0.413199</td>\n",
       "      <td>1.649268</td>\n",
       "      <td>89.922620</td>\n",
       "    </tr>\n",
       "    <tr>\n",
       "      <th>71170</th>\n",
       "      <td>1.446205</td>\n",
       "      <td>0.096865</td>\n",
       "      <td>0.522497</td>\n",
       "      <td>83.701818</td>\n",
       "    </tr>\n",
       "    <tr>\n",
       "      <th>91137</th>\n",
       "      <td>0.058073</td>\n",
       "      <td>0.622573</td>\n",
       "      <td>1.070673</td>\n",
       "      <td>86.761173</td>\n",
       "    </tr>\n",
       "    <tr>\n",
       "      <th>...</th>\n",
       "      <td>...</td>\n",
       "      <td>...</td>\n",
       "      <td>...</td>\n",
       "      <td>...</td>\n",
       "    </tr>\n",
       "    <tr>\n",
       "      <th>18456</th>\n",
       "      <td>0.015144</td>\n",
       "      <td>0.876998</td>\n",
       "      <td>2.603666</td>\n",
       "      <td>95.591732</td>\n",
       "    </tr>\n",
       "    <tr>\n",
       "      <th>73031</th>\n",
       "      <td>-0.874542</td>\n",
       "      <td>-1.634159</td>\n",
       "      <td>5.449535</td>\n",
       "      <td>112.126588</td>\n",
       "    </tr>\n",
       "    <tr>\n",
       "      <th>54709</th>\n",
       "      <td>-0.888306</td>\n",
       "      <td>-1.482723</td>\n",
       "      <td>-3.169498</td>\n",
       "      <td>62.367249</td>\n",
       "    </tr>\n",
       "    <tr>\n",
       "      <th>50910</th>\n",
       "      <td>0.736339</td>\n",
       "      <td>0.335701</td>\n",
       "      <td>5.813655</td>\n",
       "      <td>114.190814</td>\n",
       "    </tr>\n",
       "    <tr>\n",
       "      <th>46408</th>\n",
       "      <td>-0.477084</td>\n",
       "      <td>-2.784463</td>\n",
       "      <td>1.080291</td>\n",
       "      <td>86.998804</td>\n",
       "    </tr>\n",
       "  </tbody>\n",
       "</table>\n",
       "<p>24999 rows × 4 columns</p>\n",
       "</div>"
      ],
      "text/plain": [
       "             f0        f1        f2     predict\n",
       "71747  1.953202 -1.826540 -0.757681   76.457565\n",
       "80489  0.875958  1.023876  4.992700  109.417094\n",
       "2655  -4.587649 -0.413199  1.649268   89.922620\n",
       "71170  1.446205  0.096865  0.522497   83.701818\n",
       "91137  0.058073  0.622573  1.070673   86.761173\n",
       "...         ...       ...       ...         ...\n",
       "18456  0.015144  0.876998  2.603666   95.591732\n",
       "73031 -0.874542 -1.634159  5.449535  112.126588\n",
       "54709 -0.888306 -1.482723 -3.169498   62.367249\n",
       "50910  0.736339  0.335701  5.813655  114.190814\n",
       "46408 -0.477084 -2.784463  1.080291   86.998804\n",
       "\n",
       "[24999 rows x 4 columns]"
      ]
     },
     "execution_count": 38,
     "metadata": {},
     "output_type": "execute_result"
    }
   ],
   "source": [
    "features_valid_2['predict'] = predicted_valid_2\n",
    "\n",
    "features_valid_2"
   ]
  },
  {
   "cell_type": "markdown",
   "id": "b2276ad2",
   "metadata": {},
   "source": [
    "### 2.3. Средний запас предсказанного сырья и RMSE модели."
   ]
  },
  {
   "cell_type": "markdown",
   "id": "920e6571",
   "metadata": {},
   "source": [
    "#### Первый датасет"
   ]
  },
  {
   "cell_type": "code",
   "execution_count": 39,
   "id": "5e22ac63",
   "metadata": {},
   "outputs": [
    {
     "data": {
      "text/plain": [
       "92.78915638280621"
      ]
     },
     "execution_count": 39,
     "metadata": {},
     "output_type": "execute_result"
    }
   ],
   "source": [
    "predicted_valid_0.mean()"
   ]
  },
  {
   "cell_type": "code",
   "execution_count": 40,
   "id": "1fc95648",
   "metadata": {},
   "outputs": [
    {
     "name": "stdout",
     "output_type": "stream",
     "text": [
      "RMSE модели равно: 37.853527328872964\n"
     ]
    }
   ],
   "source": [
    "print('RMSE модели равно:', sqrt(mean_squared_error(target_valid_0, predicted_valid_0)))"
   ]
  },
  {
   "cell_type": "markdown",
   "id": "17ba15f9",
   "metadata": {},
   "source": [
    "#### Второй датасет"
   ]
  },
  {
   "cell_type": "code",
   "execution_count": 41,
   "id": "0bf5a669",
   "metadata": {},
   "outputs": [
    {
     "data": {
      "text/plain": [
       "69.1783195703043"
      ]
     },
     "execution_count": 41,
     "metadata": {},
     "output_type": "execute_result"
    }
   ],
   "source": [
    "predicted_valid_1.mean()"
   ]
  },
  {
   "cell_type": "code",
   "execution_count": 42,
   "id": "b59c56cc",
   "metadata": {},
   "outputs": [
    {
     "name": "stdout",
     "output_type": "stream",
     "text": [
      "RMSE модели равно: 0.8920592647717033\n"
     ]
    }
   ],
   "source": [
    "print('RMSE модели равно:', sqrt(mean_squared_error(target_valid_1, predicted_valid_1)))"
   ]
  },
  {
   "cell_type": "markdown",
   "id": "08e7240c",
   "metadata": {},
   "source": [
    "#### Третий датасет"
   ]
  },
  {
   "cell_type": "code",
   "execution_count": 43,
   "id": "eb3d8dde",
   "metadata": {},
   "outputs": [
    {
     "data": {
      "text/plain": [
       "94.86572480562035"
      ]
     },
     "execution_count": 43,
     "metadata": {},
     "output_type": "execute_result"
    }
   ],
   "source": [
    "predicted_valid_2.mean()"
   ]
  },
  {
   "cell_type": "code",
   "execution_count": 44,
   "id": "fe4903bf",
   "metadata": {
    "scrolled": true
   },
   "outputs": [
    {
     "name": "stdout",
     "output_type": "stream",
     "text": [
      "RMSE модели равно: 40.07585073246016\n"
     ]
    }
   ],
   "source": [
    "print('RMSE модели равно:', sqrt(mean_squared_error(target_valid_2, predicted_valid_2)))"
   ]
  },
  {
   "cell_type": "markdown",
   "id": "213f6914",
   "metadata": {},
   "source": [
    "### 2.4. Анализ результатов."
   ]
  },
  {
   "cell_type": "markdown",
   "id": "4198aacf",
   "metadata": {},
   "source": [
    "**В тетьем регионе предсказанный целевой признак имеет наибольшее среднее значение, но и наибольшее значение средней квадратичной ошибки.    \n",
    "В первом оба показателя немного меньше.    \n",
    "Во втором среднее предсказанного признака меньше практически на треть, но и средняя квадратичная ошибка минимальна.**"
   ]
  },
  {
   "cell_type": "markdown",
   "id": "cd88d42f",
   "metadata": {},
   "source": [
    "## 3) Подготовка к расчёту прибыли:"
   ]
  },
  {
   "cell_type": "code",
   "execution_count": 45,
   "id": "e01b0dca",
   "metadata": {},
   "outputs": [],
   "source": [
    "num_point_samp = 500\n",
    "num_skv = 200\n",
    "budg = 10e9\n",
    "per_prod = 450000"
   ]
  },
  {
   "cell_type": "markdown",
   "id": "c16a0444",
   "metadata": {},
   "source": [
    "###  3.1. Рассчёт достаточного объёма сырья для безубыточной разработки новой скважины. Сравнение полученного объём сырья со средним запасом в каждом регионе. "
   ]
  },
  {
   "cell_type": "code",
   "execution_count": 46,
   "id": "417352b6",
   "metadata": {},
   "outputs": [
    {
     "data": {
      "text/plain": [
       "111.11111111111111"
      ]
     },
     "execution_count": 46,
     "metadata": {},
     "output_type": "execute_result"
    }
   ],
   "source": [
    "min_value_prod_per_skv = (budg/num_skv)/per_prod\n",
    "min_value_prod_per_skv"
   ]
  },
  {
   "cell_type": "markdown",
   "id": "751c4a5b",
   "metadata": {},
   "source": [
    "#### Первый регион"
   ]
  },
  {
   "cell_type": "code",
   "execution_count": 47,
   "id": "e0960f8f",
   "metadata": {},
   "outputs": [
    {
     "data": {
      "text/plain": [
       "-18.952906201710192"
      ]
     },
     "execution_count": 47,
     "metadata": {},
     "output_type": "execute_result"
    }
   ],
   "source": [
    "target_valid_0.mean() - min_value_prod_per_skv"
   ]
  },
  {
   "cell_type": "markdown",
   "id": "38b0b53b",
   "metadata": {},
   "source": [
    "#### Второй регион"
   ]
  },
  {
   "cell_type": "code",
   "execution_count": 48,
   "id": "b417dff9",
   "metadata": {},
   "outputs": [
    {
     "data": {
      "text/plain": [
       "-41.92506710151925"
      ]
     },
     "execution_count": 48,
     "metadata": {},
     "output_type": "execute_result"
    }
   ],
   "source": [
    "target_valid_1.mean() - min_value_prod_per_skv"
   ]
  },
  {
   "cell_type": "markdown",
   "id": "902f89eb",
   "metadata": {},
   "source": [
    "#### Третий регион"
   ]
  },
  {
   "cell_type": "code",
   "execution_count": 49,
   "id": "14541fdb",
   "metadata": {},
   "outputs": [
    {
     "data": {
      "text/plain": [
       "-16.326001757418894"
      ]
     },
     "execution_count": 49,
     "metadata": {},
     "output_type": "execute_result"
    }
   ],
   "source": [
    "target_valid_2.mean() - min_value_prod_per_skv"
   ]
  },
  {
   "cell_type": "markdown",
   "id": "68f422f4",
   "metadata": {},
   "source": [
    "**Средний запас в каждом регионе меньше достаточного объёма. Больше всего разница во втором регионе.  \n",
    "Но это не значит, что ни один регион не подходит, так как меньше достаточного только среднее.**"
   ]
  },
  {
   "cell_type": "markdown",
   "id": "bd98b1bb",
   "metadata": {},
   "source": [
    "## 4) Функция для расчёта прибыли по выбранным скважинам и предсказаниям модели:"
   ]
  },
  {
   "cell_type": "code",
   "execution_count": 50,
   "id": "414ddd9e",
   "metadata": {},
   "outputs": [],
   "source": [
    "def profit_from_selected_skv(sample, num_skv, per_prod, budg):\n",
    "    skv_select = sample.sort_values(by='predict').tail(num_skv)\n",
    "    skv_select_prod_sum = skv_select['product'].sum()\n",
    "    skv_select_profit = (skv_select_prod_sum * per_prod) - budg\n",
    "    return skv_select_profit"
   ]
  },
  {
   "cell_type": "markdown",
   "id": "69dc8b68",
   "metadata": {},
   "source": [
    "Функция осуществляет:     \n",
    "- выбор скважины с максимальными значениями предсказаний;    \n",
    "- суммирование целевого значения объёма сырья, соответствующее этим предсказаниям;\n",
    "- рассчёт прибыли для полученного объёма сырья."
   ]
  },
  {
   "cell_type": "markdown",
   "id": "e136df9f",
   "metadata": {},
   "source": [
    "## 5) Рассчёт рисков и прибыли для каждого региона:"
   ]
  },
  {
   "cell_type": "markdown",
   "id": "c7df385a",
   "metadata": {},
   "source": [
    "### 5.1. Применение техники Bootstrap с 1000 выборок, чтобы найти распределение прибыли."
   ]
  },
  {
   "cell_type": "code",
   "execution_count": 51,
   "id": "023476f9",
   "metadata": {},
   "outputs": [],
   "source": [
    "state = RandomState(12345)"
   ]
  },
  {
   "cell_type": "markdown",
   "id": "42e070e8",
   "metadata": {},
   "source": [
    "#### Первый регион:"
   ]
  },
  {
   "cell_type": "code",
   "execution_count": 52,
   "id": "1fb5576b",
   "metadata": {
    "scrolled": false
   },
   "outputs": [
    {
     "data": {
      "text/html": [
       "<div>\n",
       "<style scoped>\n",
       "    .dataframe tbody tr th:only-of-type {\n",
       "        vertical-align: middle;\n",
       "    }\n",
       "\n",
       "    .dataframe tbody tr th {\n",
       "        vertical-align: top;\n",
       "    }\n",
       "\n",
       "    .dataframe thead th {\n",
       "        text-align: right;\n",
       "    }\n",
       "</style>\n",
       "<table border=\"1\" class=\"dataframe\">\n",
       "  <thead>\n",
       "    <tr style=\"text-align: right;\">\n",
       "      <th></th>\n",
       "      <th>f0</th>\n",
       "      <th>f1</th>\n",
       "      <th>f2</th>\n",
       "      <th>predict</th>\n",
       "    </tr>\n",
       "  </thead>\n",
       "  <tbody>\n",
       "    <tr>\n",
       "      <th>49466</th>\n",
       "      <td>0.073644</td>\n",
       "      <td>1.022011</td>\n",
       "      <td>6.064581</td>\n",
       "      <td>103.950372</td>\n",
       "    </tr>\n",
       "    <tr>\n",
       "      <th>55493</th>\n",
       "      <td>1.986176</td>\n",
       "      <td>0.274681</td>\n",
       "      <td>-1.152339</td>\n",
       "      <td>73.687869</td>\n",
       "    </tr>\n",
       "    <tr>\n",
       "      <th>11689</th>\n",
       "      <td>2.018384</td>\n",
       "      <td>-0.137280</td>\n",
       "      <td>2.085813</td>\n",
       "      <td>101.015288</td>\n",
       "    </tr>\n",
       "    <tr>\n",
       "      <th>13769</th>\n",
       "      <td>1.884278</td>\n",
       "      <td>0.335650</td>\n",
       "      <td>2.102482</td>\n",
       "      <td>94.048415</td>\n",
       "    </tr>\n",
       "    <tr>\n",
       "      <th>72389</th>\n",
       "      <td>1.102171</td>\n",
       "      <td>-0.514353</td>\n",
       "      <td>-0.209767</td>\n",
       "      <td>87.559552</td>\n",
       "    </tr>\n",
       "    <tr>\n",
       "      <th>...</th>\n",
       "      <td>...</td>\n",
       "      <td>...</td>\n",
       "      <td>...</td>\n",
       "      <td>...</td>\n",
       "    </tr>\n",
       "    <tr>\n",
       "      <th>7866</th>\n",
       "      <td>-0.765425</td>\n",
       "      <td>0.417309</td>\n",
       "      <td>-0.750885</td>\n",
       "      <td>63.963223</td>\n",
       "    </tr>\n",
       "    <tr>\n",
       "      <th>80669</th>\n",
       "      <td>0.814727</td>\n",
       "      <td>0.781915</td>\n",
       "      <td>10.552582</td>\n",
       "      <td>139.862730</td>\n",
       "    </tr>\n",
       "    <tr>\n",
       "      <th>45136</th>\n",
       "      <td>-0.200651</td>\n",
       "      <td>0.943633</td>\n",
       "      <td>2.212201</td>\n",
       "      <td>78.444653</td>\n",
       "    </tr>\n",
       "    <tr>\n",
       "      <th>53542</th>\n",
       "      <td>1.261902</td>\n",
       "      <td>-0.424739</td>\n",
       "      <td>-2.596798</td>\n",
       "      <td>71.082768</td>\n",
       "    </tr>\n",
       "    <tr>\n",
       "      <th>17773</th>\n",
       "      <td>0.026053</td>\n",
       "      <td>0.207765</td>\n",
       "      <td>-1.325616</td>\n",
       "      <td>66.054854</td>\n",
       "    </tr>\n",
       "  </tbody>\n",
       "</table>\n",
       "<p>24998 rows × 4 columns</p>\n",
       "</div>"
      ],
      "text/plain": [
       "             f0        f1         f2     predict\n",
       "49466  0.073644  1.022011   6.064581  103.950372\n",
       "55493  1.986176  0.274681  -1.152339   73.687869\n",
       "11689  2.018384 -0.137280   2.085813  101.015288\n",
       "13769  1.884278  0.335650   2.102482   94.048415\n",
       "72389  1.102171 -0.514353  -0.209767   87.559552\n",
       "...         ...       ...        ...         ...\n",
       "7866  -0.765425  0.417309  -0.750885   63.963223\n",
       "80669  0.814727  0.781915  10.552582  139.862730\n",
       "45136 -0.200651  0.943633   2.212201   78.444653\n",
       "53542  1.261902 -0.424739  -2.596798   71.082768\n",
       "17773  0.026053  0.207765  -1.325616   66.054854\n",
       "\n",
       "[24998 rows x 4 columns]"
      ]
     },
     "execution_count": 52,
     "metadata": {},
     "output_type": "execute_result"
    }
   ],
   "source": [
    "valid_0 = features_valid_0.copy()\n",
    "valid_0"
   ]
  },
  {
   "cell_type": "code",
   "execution_count": 53,
   "id": "8ea43915",
   "metadata": {},
   "outputs": [
    {
     "data": {
      "text/html": [
       "<div>\n",
       "<style scoped>\n",
       "    .dataframe tbody tr th:only-of-type {\n",
       "        vertical-align: middle;\n",
       "    }\n",
       "\n",
       "    .dataframe tbody tr th {\n",
       "        vertical-align: top;\n",
       "    }\n",
       "\n",
       "    .dataframe thead th {\n",
       "        text-align: right;\n",
       "    }\n",
       "</style>\n",
       "<table border=\"1\" class=\"dataframe\">\n",
       "  <thead>\n",
       "    <tr style=\"text-align: right;\">\n",
       "      <th></th>\n",
       "      <th>f0</th>\n",
       "      <th>f1</th>\n",
       "      <th>f2</th>\n",
       "      <th>predict</th>\n",
       "      <th>product</th>\n",
       "    </tr>\n",
       "  </thead>\n",
       "  <tbody>\n",
       "    <tr>\n",
       "      <th>49466</th>\n",
       "      <td>0.073644</td>\n",
       "      <td>1.022011</td>\n",
       "      <td>6.064581</td>\n",
       "      <td>103.950372</td>\n",
       "      <td>123.566299</td>\n",
       "    </tr>\n",
       "    <tr>\n",
       "      <th>55493</th>\n",
       "      <td>1.986176</td>\n",
       "      <td>0.274681</td>\n",
       "      <td>-1.152339</td>\n",
       "      <td>73.687869</td>\n",
       "      <td>63.442039</td>\n",
       "    </tr>\n",
       "    <tr>\n",
       "      <th>11689</th>\n",
       "      <td>2.018384</td>\n",
       "      <td>-0.137280</td>\n",
       "      <td>2.085813</td>\n",
       "      <td>101.015288</td>\n",
       "      <td>88.718000</td>\n",
       "    </tr>\n",
       "    <tr>\n",
       "      <th>13769</th>\n",
       "      <td>1.884278</td>\n",
       "      <td>0.335650</td>\n",
       "      <td>2.102482</td>\n",
       "      <td>94.048415</td>\n",
       "      <td>51.422060</td>\n",
       "    </tr>\n",
       "    <tr>\n",
       "      <th>72389</th>\n",
       "      <td>1.102171</td>\n",
       "      <td>-0.514353</td>\n",
       "      <td>-0.209767</td>\n",
       "      <td>87.559552</td>\n",
       "      <td>102.569999</td>\n",
       "    </tr>\n",
       "    <tr>\n",
       "      <th>...</th>\n",
       "      <td>...</td>\n",
       "      <td>...</td>\n",
       "      <td>...</td>\n",
       "      <td>...</td>\n",
       "      <td>...</td>\n",
       "    </tr>\n",
       "    <tr>\n",
       "      <th>7866</th>\n",
       "      <td>-0.765425</td>\n",
       "      <td>0.417309</td>\n",
       "      <td>-0.750885</td>\n",
       "      <td>63.963223</td>\n",
       "      <td>32.531740</td>\n",
       "    </tr>\n",
       "    <tr>\n",
       "      <th>80669</th>\n",
       "      <td>0.814727</td>\n",
       "      <td>0.781915</td>\n",
       "      <td>10.552582</td>\n",
       "      <td>139.862730</td>\n",
       "      <td>139.062332</td>\n",
       "    </tr>\n",
       "    <tr>\n",
       "      <th>45136</th>\n",
       "      <td>-0.200651</td>\n",
       "      <td>0.943633</td>\n",
       "      <td>2.212201</td>\n",
       "      <td>78.444653</td>\n",
       "      <td>55.953481</td>\n",
       "    </tr>\n",
       "    <tr>\n",
       "      <th>53542</th>\n",
       "      <td>1.261902</td>\n",
       "      <td>-0.424739</td>\n",
       "      <td>-2.596798</td>\n",
       "      <td>71.082768</td>\n",
       "      <td>87.222042</td>\n",
       "    </tr>\n",
       "    <tr>\n",
       "      <th>17773</th>\n",
       "      <td>0.026053</td>\n",
       "      <td>0.207765</td>\n",
       "      <td>-1.325616</td>\n",
       "      <td>66.054854</td>\n",
       "      <td>138.866063</td>\n",
       "    </tr>\n",
       "  </tbody>\n",
       "</table>\n",
       "<p>24998 rows × 5 columns</p>\n",
       "</div>"
      ],
      "text/plain": [
       "             f0        f1         f2     predict     product\n",
       "49466  0.073644  1.022011   6.064581  103.950372  123.566299\n",
       "55493  1.986176  0.274681  -1.152339   73.687869   63.442039\n",
       "11689  2.018384 -0.137280   2.085813  101.015288   88.718000\n",
       "13769  1.884278  0.335650   2.102482   94.048415   51.422060\n",
       "72389  1.102171 -0.514353  -0.209767   87.559552  102.569999\n",
       "...         ...       ...        ...         ...         ...\n",
       "7866  -0.765425  0.417309  -0.750885   63.963223   32.531740\n",
       "80669  0.814727  0.781915  10.552582  139.862730  139.062332\n",
       "45136 -0.200651  0.943633   2.212201   78.444653   55.953481\n",
       "53542  1.261902 -0.424739  -2.596798   71.082768   87.222042\n",
       "17773  0.026053  0.207765  -1.325616   66.054854  138.866063\n",
       "\n",
       "[24998 rows x 5 columns]"
      ]
     },
     "execution_count": 53,
     "metadata": {},
     "output_type": "execute_result"
    }
   ],
   "source": [
    "valid_0['product'] = target_valid_0\n",
    "valid_0"
   ]
  },
  {
   "cell_type": "code",
   "execution_count": 54,
   "id": "2c7189ce",
   "metadata": {
    "scrolled": true
   },
   "outputs": [
    {
     "data": {
      "text/plain": [
       "1000"
      ]
     },
     "execution_count": 54,
     "metadata": {},
     "output_type": "execute_result"
    }
   ],
   "source": [
    "distr_prof_0 = []\n",
    "\n",
    "for i in range(1000):\n",
    "    sample_skv = valid_0.sample(500, replace=True, random_state=state)\n",
    "    distr_prof_0.append(profit_from_selected_skv(sample_skv, num_skv, per_prod, budg))\n",
    "\n",
    "len(distr_prof_0)"
   ]
  },
  {
   "cell_type": "markdown",
   "id": "565b951e",
   "metadata": {},
   "source": [
    "#### Второй регион:"
   ]
  },
  {
   "cell_type": "code",
   "execution_count": 55,
   "id": "9dbf6a05",
   "metadata": {},
   "outputs": [
    {
     "data": {
      "text/html": [
       "<div>\n",
       "<style scoped>\n",
       "    .dataframe tbody tr th:only-of-type {\n",
       "        vertical-align: middle;\n",
       "    }\n",
       "\n",
       "    .dataframe tbody tr th {\n",
       "        vertical-align: top;\n",
       "    }\n",
       "\n",
       "    .dataframe thead th {\n",
       "        text-align: right;\n",
       "    }\n",
       "</style>\n",
       "<table border=\"1\" class=\"dataframe\">\n",
       "  <thead>\n",
       "    <tr style=\"text-align: right;\">\n",
       "      <th></th>\n",
       "      <th>f0</th>\n",
       "      <th>f1</th>\n",
       "      <th>f2</th>\n",
       "      <th>predict</th>\n",
       "    </tr>\n",
       "  </thead>\n",
       "  <tbody>\n",
       "    <tr>\n",
       "      <th>71747</th>\n",
       "      <td>15.491360</td>\n",
       "      <td>-4.746353</td>\n",
       "      <td>1.999690</td>\n",
       "      <td>53.407255</td>\n",
       "    </tr>\n",
       "    <tr>\n",
       "      <th>80489</th>\n",
       "      <td>-8.840548</td>\n",
       "      <td>-6.894209</td>\n",
       "      <td>5.000913</td>\n",
       "      <td>137.863458</td>\n",
       "    </tr>\n",
       "    <tr>\n",
       "      <th>2655</th>\n",
       "      <td>-6.507568</td>\n",
       "      <td>-4.817448</td>\n",
       "      <td>1.003449</td>\n",
       "      <td>29.745003</td>\n",
       "    </tr>\n",
       "    <tr>\n",
       "      <th>71170</th>\n",
       "      <td>-3.001247</td>\n",
       "      <td>-3.916052</td>\n",
       "      <td>3.006016</td>\n",
       "      <td>83.188229</td>\n",
       "    </tr>\n",
       "    <tr>\n",
       "      <th>91137</th>\n",
       "      <td>6.090476</td>\n",
       "      <td>-4.494723</td>\n",
       "      <td>0.013815</td>\n",
       "      <td>1.242101</td>\n",
       "    </tr>\n",
       "    <tr>\n",
       "      <th>...</th>\n",
       "      <td>...</td>\n",
       "      <td>...</td>\n",
       "      <td>...</td>\n",
       "      <td>...</td>\n",
       "    </tr>\n",
       "    <tr>\n",
       "      <th>18456</th>\n",
       "      <td>-8.363585</td>\n",
       "      <td>-6.357527</td>\n",
       "      <td>3.995592</td>\n",
       "      <td>110.688350</td>\n",
       "    </tr>\n",
       "    <tr>\n",
       "      <th>73031</th>\n",
       "      <td>7.010099</td>\n",
       "      <td>-0.922511</td>\n",
       "      <td>3.007631</td>\n",
       "      <td>81.716127</td>\n",
       "    </tr>\n",
       "    <tr>\n",
       "      <th>54709</th>\n",
       "      <td>5.394073</td>\n",
       "      <td>1.144032</td>\n",
       "      <td>1.994925</td>\n",
       "      <td>54.611428</td>\n",
       "    </tr>\n",
       "    <tr>\n",
       "      <th>50910</th>\n",
       "      <td>13.112594</td>\n",
       "      <td>-1.695908</td>\n",
       "      <td>3.999411</td>\n",
       "      <td>107.578737</td>\n",
       "    </tr>\n",
       "    <tr>\n",
       "      <th>46408</th>\n",
       "      <td>-2.123725</td>\n",
       "      <td>-4.778874</td>\n",
       "      <td>-0.003570</td>\n",
       "      <td>1.969338</td>\n",
       "    </tr>\n",
       "  </tbody>\n",
       "</table>\n",
       "<p>24999 rows × 4 columns</p>\n",
       "</div>"
      ],
      "text/plain": [
       "              f0        f1        f2     predict\n",
       "71747  15.491360 -4.746353  1.999690   53.407255\n",
       "80489  -8.840548 -6.894209  5.000913  137.863458\n",
       "2655   -6.507568 -4.817448  1.003449   29.745003\n",
       "71170  -3.001247 -3.916052  3.006016   83.188229\n",
       "91137   6.090476 -4.494723  0.013815    1.242101\n",
       "...          ...       ...       ...         ...\n",
       "18456  -8.363585 -6.357527  3.995592  110.688350\n",
       "73031   7.010099 -0.922511  3.007631   81.716127\n",
       "54709   5.394073  1.144032  1.994925   54.611428\n",
       "50910  13.112594 -1.695908  3.999411  107.578737\n",
       "46408  -2.123725 -4.778874 -0.003570    1.969338\n",
       "\n",
       "[24999 rows x 4 columns]"
      ]
     },
     "execution_count": 55,
     "metadata": {},
     "output_type": "execute_result"
    }
   ],
   "source": [
    "valid_1 = features_valid_1.copy()\n",
    "valid_1"
   ]
  },
  {
   "cell_type": "code",
   "execution_count": 56,
   "id": "ad2c9954",
   "metadata": {},
   "outputs": [
    {
     "data": {
      "text/html": [
       "<div>\n",
       "<style scoped>\n",
       "    .dataframe tbody tr th:only-of-type {\n",
       "        vertical-align: middle;\n",
       "    }\n",
       "\n",
       "    .dataframe tbody tr th {\n",
       "        vertical-align: top;\n",
       "    }\n",
       "\n",
       "    .dataframe thead th {\n",
       "        text-align: right;\n",
       "    }\n",
       "</style>\n",
       "<table border=\"1\" class=\"dataframe\">\n",
       "  <thead>\n",
       "    <tr style=\"text-align: right;\">\n",
       "      <th></th>\n",
       "      <th>f0</th>\n",
       "      <th>f1</th>\n",
       "      <th>f2</th>\n",
       "      <th>predict</th>\n",
       "      <th>product</th>\n",
       "    </tr>\n",
       "  </thead>\n",
       "  <tbody>\n",
       "    <tr>\n",
       "      <th>71747</th>\n",
       "      <td>15.491360</td>\n",
       "      <td>-4.746353</td>\n",
       "      <td>1.999690</td>\n",
       "      <td>53.407255</td>\n",
       "      <td>53.906522</td>\n",
       "    </tr>\n",
       "    <tr>\n",
       "      <th>80489</th>\n",
       "      <td>-8.840548</td>\n",
       "      <td>-6.894209</td>\n",
       "      <td>5.000913</td>\n",
       "      <td>137.863458</td>\n",
       "      <td>137.945408</td>\n",
       "    </tr>\n",
       "    <tr>\n",
       "      <th>2655</th>\n",
       "      <td>-6.507568</td>\n",
       "      <td>-4.817448</td>\n",
       "      <td>1.003449</td>\n",
       "      <td>29.745003</td>\n",
       "      <td>30.132364</td>\n",
       "    </tr>\n",
       "    <tr>\n",
       "      <th>71170</th>\n",
       "      <td>-3.001247</td>\n",
       "      <td>-3.916052</td>\n",
       "      <td>3.006016</td>\n",
       "      <td>83.188229</td>\n",
       "      <td>84.038886</td>\n",
       "    </tr>\n",
       "    <tr>\n",
       "      <th>91137</th>\n",
       "      <td>6.090476</td>\n",
       "      <td>-4.494723</td>\n",
       "      <td>0.013815</td>\n",
       "      <td>1.242101</td>\n",
       "      <td>0.000000</td>\n",
       "    </tr>\n",
       "    <tr>\n",
       "      <th>...</th>\n",
       "      <td>...</td>\n",
       "      <td>...</td>\n",
       "      <td>...</td>\n",
       "      <td>...</td>\n",
       "      <td>...</td>\n",
       "    </tr>\n",
       "    <tr>\n",
       "      <th>18456</th>\n",
       "      <td>-8.363585</td>\n",
       "      <td>-6.357527</td>\n",
       "      <td>3.995592</td>\n",
       "      <td>110.688350</td>\n",
       "      <td>110.992147</td>\n",
       "    </tr>\n",
       "    <tr>\n",
       "      <th>73031</th>\n",
       "      <td>7.010099</td>\n",
       "      <td>-0.922511</td>\n",
       "      <td>3.007631</td>\n",
       "      <td>81.716127</td>\n",
       "      <td>80.859783</td>\n",
       "    </tr>\n",
       "    <tr>\n",
       "      <th>54709</th>\n",
       "      <td>5.394073</td>\n",
       "      <td>1.144032</td>\n",
       "      <td>1.994925</td>\n",
       "      <td>54.611428</td>\n",
       "      <td>53.906522</td>\n",
       "    </tr>\n",
       "    <tr>\n",
       "      <th>50910</th>\n",
       "      <td>13.112594</td>\n",
       "      <td>-1.695908</td>\n",
       "      <td>3.999411</td>\n",
       "      <td>107.578737</td>\n",
       "      <td>107.813044</td>\n",
       "    </tr>\n",
       "    <tr>\n",
       "      <th>46408</th>\n",
       "      <td>-2.123725</td>\n",
       "      <td>-4.778874</td>\n",
       "      <td>-0.003570</td>\n",
       "      <td>1.969338</td>\n",
       "      <td>3.179103</td>\n",
       "    </tr>\n",
       "  </tbody>\n",
       "</table>\n",
       "<p>24999 rows × 5 columns</p>\n",
       "</div>"
      ],
      "text/plain": [
       "              f0        f1        f2     predict     product\n",
       "71747  15.491360 -4.746353  1.999690   53.407255   53.906522\n",
       "80489  -8.840548 -6.894209  5.000913  137.863458  137.945408\n",
       "2655   -6.507568 -4.817448  1.003449   29.745003   30.132364\n",
       "71170  -3.001247 -3.916052  3.006016   83.188229   84.038886\n",
       "91137   6.090476 -4.494723  0.013815    1.242101    0.000000\n",
       "...          ...       ...       ...         ...         ...\n",
       "18456  -8.363585 -6.357527  3.995592  110.688350  110.992147\n",
       "73031   7.010099 -0.922511  3.007631   81.716127   80.859783\n",
       "54709   5.394073  1.144032  1.994925   54.611428   53.906522\n",
       "50910  13.112594 -1.695908  3.999411  107.578737  107.813044\n",
       "46408  -2.123725 -4.778874 -0.003570    1.969338    3.179103\n",
       "\n",
       "[24999 rows x 5 columns]"
      ]
     },
     "execution_count": 56,
     "metadata": {},
     "output_type": "execute_result"
    }
   ],
   "source": [
    "valid_1['product'] = target_valid_1\n",
    "valid_1"
   ]
  },
  {
   "cell_type": "code",
   "execution_count": 57,
   "id": "0d057896",
   "metadata": {},
   "outputs": [
    {
     "data": {
      "text/plain": [
       "1000"
      ]
     },
     "execution_count": 57,
     "metadata": {},
     "output_type": "execute_result"
    }
   ],
   "source": [
    "distr_prof_1 = []\n",
    "\n",
    "for i in range(1000):\n",
    "    sample_skv = valid_1.sample(500, replace=True, random_state=state)\n",
    "    distr_prof_1.append(profit_from_selected_skv(sample_skv, num_skv, per_prod, budg))\n",
    "\n",
    "len(distr_prof_1)"
   ]
  },
  {
   "cell_type": "markdown",
   "id": "e6548d00",
   "metadata": {},
   "source": [
    "#### Третий регион:"
   ]
  },
  {
   "cell_type": "code",
   "execution_count": 58,
   "id": "31fc00c1",
   "metadata": {},
   "outputs": [
    {
     "data": {
      "text/html": [
       "<div>\n",
       "<style scoped>\n",
       "    .dataframe tbody tr th:only-of-type {\n",
       "        vertical-align: middle;\n",
       "    }\n",
       "\n",
       "    .dataframe tbody tr th {\n",
       "        vertical-align: top;\n",
       "    }\n",
       "\n",
       "    .dataframe thead th {\n",
       "        text-align: right;\n",
       "    }\n",
       "</style>\n",
       "<table border=\"1\" class=\"dataframe\">\n",
       "  <thead>\n",
       "    <tr style=\"text-align: right;\">\n",
       "      <th></th>\n",
       "      <th>f0</th>\n",
       "      <th>f1</th>\n",
       "      <th>f2</th>\n",
       "      <th>predict</th>\n",
       "    </tr>\n",
       "  </thead>\n",
       "  <tbody>\n",
       "    <tr>\n",
       "      <th>71747</th>\n",
       "      <td>1.953202</td>\n",
       "      <td>-1.826540</td>\n",
       "      <td>-0.757681</td>\n",
       "      <td>76.457565</td>\n",
       "    </tr>\n",
       "    <tr>\n",
       "      <th>80489</th>\n",
       "      <td>0.875958</td>\n",
       "      <td>1.023876</td>\n",
       "      <td>4.992700</td>\n",
       "      <td>109.417094</td>\n",
       "    </tr>\n",
       "    <tr>\n",
       "      <th>2655</th>\n",
       "      <td>-4.587649</td>\n",
       "      <td>-0.413199</td>\n",
       "      <td>1.649268</td>\n",
       "      <td>89.922620</td>\n",
       "    </tr>\n",
       "    <tr>\n",
       "      <th>71170</th>\n",
       "      <td>1.446205</td>\n",
       "      <td>0.096865</td>\n",
       "      <td>0.522497</td>\n",
       "      <td>83.701818</td>\n",
       "    </tr>\n",
       "    <tr>\n",
       "      <th>91137</th>\n",
       "      <td>0.058073</td>\n",
       "      <td>0.622573</td>\n",
       "      <td>1.070673</td>\n",
       "      <td>86.761173</td>\n",
       "    </tr>\n",
       "    <tr>\n",
       "      <th>...</th>\n",
       "      <td>...</td>\n",
       "      <td>...</td>\n",
       "      <td>...</td>\n",
       "      <td>...</td>\n",
       "    </tr>\n",
       "    <tr>\n",
       "      <th>18456</th>\n",
       "      <td>0.015144</td>\n",
       "      <td>0.876998</td>\n",
       "      <td>2.603666</td>\n",
       "      <td>95.591732</td>\n",
       "    </tr>\n",
       "    <tr>\n",
       "      <th>73031</th>\n",
       "      <td>-0.874542</td>\n",
       "      <td>-1.634159</td>\n",
       "      <td>5.449535</td>\n",
       "      <td>112.126588</td>\n",
       "    </tr>\n",
       "    <tr>\n",
       "      <th>54709</th>\n",
       "      <td>-0.888306</td>\n",
       "      <td>-1.482723</td>\n",
       "      <td>-3.169498</td>\n",
       "      <td>62.367249</td>\n",
       "    </tr>\n",
       "    <tr>\n",
       "      <th>50910</th>\n",
       "      <td>0.736339</td>\n",
       "      <td>0.335701</td>\n",
       "      <td>5.813655</td>\n",
       "      <td>114.190814</td>\n",
       "    </tr>\n",
       "    <tr>\n",
       "      <th>46408</th>\n",
       "      <td>-0.477084</td>\n",
       "      <td>-2.784463</td>\n",
       "      <td>1.080291</td>\n",
       "      <td>86.998804</td>\n",
       "    </tr>\n",
       "  </tbody>\n",
       "</table>\n",
       "<p>24999 rows × 4 columns</p>\n",
       "</div>"
      ],
      "text/plain": [
       "             f0        f1        f2     predict\n",
       "71747  1.953202 -1.826540 -0.757681   76.457565\n",
       "80489  0.875958  1.023876  4.992700  109.417094\n",
       "2655  -4.587649 -0.413199  1.649268   89.922620\n",
       "71170  1.446205  0.096865  0.522497   83.701818\n",
       "91137  0.058073  0.622573  1.070673   86.761173\n",
       "...         ...       ...       ...         ...\n",
       "18456  0.015144  0.876998  2.603666   95.591732\n",
       "73031 -0.874542 -1.634159  5.449535  112.126588\n",
       "54709 -0.888306 -1.482723 -3.169498   62.367249\n",
       "50910  0.736339  0.335701  5.813655  114.190814\n",
       "46408 -0.477084 -2.784463  1.080291   86.998804\n",
       "\n",
       "[24999 rows x 4 columns]"
      ]
     },
     "execution_count": 58,
     "metadata": {},
     "output_type": "execute_result"
    }
   ],
   "source": [
    "valid_2 = features_valid_2.copy()\n",
    "valid_2"
   ]
  },
  {
   "cell_type": "code",
   "execution_count": 59,
   "id": "76b444f9",
   "metadata": {},
   "outputs": [
    {
     "data": {
      "text/html": [
       "<div>\n",
       "<style scoped>\n",
       "    .dataframe tbody tr th:only-of-type {\n",
       "        vertical-align: middle;\n",
       "    }\n",
       "\n",
       "    .dataframe tbody tr th {\n",
       "        vertical-align: top;\n",
       "    }\n",
       "\n",
       "    .dataframe thead th {\n",
       "        text-align: right;\n",
       "    }\n",
       "</style>\n",
       "<table border=\"1\" class=\"dataframe\">\n",
       "  <thead>\n",
       "    <tr style=\"text-align: right;\">\n",
       "      <th></th>\n",
       "      <th>f0</th>\n",
       "      <th>f1</th>\n",
       "      <th>f2</th>\n",
       "      <th>predict</th>\n",
       "      <th>product</th>\n",
       "    </tr>\n",
       "  </thead>\n",
       "  <tbody>\n",
       "    <tr>\n",
       "      <th>71747</th>\n",
       "      <td>1.953202</td>\n",
       "      <td>-1.826540</td>\n",
       "      <td>-0.757681</td>\n",
       "      <td>76.457565</td>\n",
       "      <td>97.651721</td>\n",
       "    </tr>\n",
       "    <tr>\n",
       "      <th>80489</th>\n",
       "      <td>0.875958</td>\n",
       "      <td>1.023876</td>\n",
       "      <td>4.992700</td>\n",
       "      <td>109.417094</td>\n",
       "      <td>66.640660</td>\n",
       "    </tr>\n",
       "    <tr>\n",
       "      <th>2655</th>\n",
       "      <td>-4.587649</td>\n",
       "      <td>-0.413199</td>\n",
       "      <td>1.649268</td>\n",
       "      <td>89.922620</td>\n",
       "      <td>57.776581</td>\n",
       "    </tr>\n",
       "    <tr>\n",
       "      <th>71170</th>\n",
       "      <td>1.446205</td>\n",
       "      <td>0.096865</td>\n",
       "      <td>0.522497</td>\n",
       "      <td>83.701818</td>\n",
       "      <td>35.055066</td>\n",
       "    </tr>\n",
       "    <tr>\n",
       "      <th>91137</th>\n",
       "      <td>0.058073</td>\n",
       "      <td>0.622573</td>\n",
       "      <td>1.070673</td>\n",
       "      <td>86.761173</td>\n",
       "      <td>82.047594</td>\n",
       "    </tr>\n",
       "    <tr>\n",
       "      <th>...</th>\n",
       "      <td>...</td>\n",
       "      <td>...</td>\n",
       "      <td>...</td>\n",
       "      <td>...</td>\n",
       "      <td>...</td>\n",
       "    </tr>\n",
       "    <tr>\n",
       "      <th>18456</th>\n",
       "      <td>0.015144</td>\n",
       "      <td>0.876998</td>\n",
       "      <td>2.603666</td>\n",
       "      <td>95.591732</td>\n",
       "      <td>21.431303</td>\n",
       "    </tr>\n",
       "    <tr>\n",
       "      <th>73031</th>\n",
       "      <td>-0.874542</td>\n",
       "      <td>-1.634159</td>\n",
       "      <td>5.449535</td>\n",
       "      <td>112.126588</td>\n",
       "      <td>155.104522</td>\n",
       "    </tr>\n",
       "    <tr>\n",
       "      <th>54709</th>\n",
       "      <td>-0.888306</td>\n",
       "      <td>-1.482723</td>\n",
       "      <td>-3.169498</td>\n",
       "      <td>62.367249</td>\n",
       "      <td>28.534893</td>\n",
       "    </tr>\n",
       "    <tr>\n",
       "      <th>50910</th>\n",
       "      <td>0.736339</td>\n",
       "      <td>0.335701</td>\n",
       "      <td>5.813655</td>\n",
       "      <td>114.190814</td>\n",
       "      <td>41.027981</td>\n",
       "    </tr>\n",
       "    <tr>\n",
       "      <th>46408</th>\n",
       "      <td>-0.477084</td>\n",
       "      <td>-2.784463</td>\n",
       "      <td>1.080291</td>\n",
       "      <td>86.998804</td>\n",
       "      <td>90.863909</td>\n",
       "    </tr>\n",
       "  </tbody>\n",
       "</table>\n",
       "<p>24999 rows × 5 columns</p>\n",
       "</div>"
      ],
      "text/plain": [
       "             f0        f1        f2     predict     product\n",
       "71747  1.953202 -1.826540 -0.757681   76.457565   97.651721\n",
       "80489  0.875958  1.023876  4.992700  109.417094   66.640660\n",
       "2655  -4.587649 -0.413199  1.649268   89.922620   57.776581\n",
       "71170  1.446205  0.096865  0.522497   83.701818   35.055066\n",
       "91137  0.058073  0.622573  1.070673   86.761173   82.047594\n",
       "...         ...       ...       ...         ...         ...\n",
       "18456  0.015144  0.876998  2.603666   95.591732   21.431303\n",
       "73031 -0.874542 -1.634159  5.449535  112.126588  155.104522\n",
       "54709 -0.888306 -1.482723 -3.169498   62.367249   28.534893\n",
       "50910  0.736339  0.335701  5.813655  114.190814   41.027981\n",
       "46408 -0.477084 -2.784463  1.080291   86.998804   90.863909\n",
       "\n",
       "[24999 rows x 5 columns]"
      ]
     },
     "execution_count": 59,
     "metadata": {},
     "output_type": "execute_result"
    }
   ],
   "source": [
    "valid_2['product'] = target_valid_2\n",
    "valid_2"
   ]
  },
  {
   "cell_type": "code",
   "execution_count": 60,
   "id": "73b82e7f",
   "metadata": {},
   "outputs": [
    {
     "data": {
      "text/plain": [
       "1000"
      ]
     },
     "execution_count": 60,
     "metadata": {},
     "output_type": "execute_result"
    }
   ],
   "source": [
    "distr_prof_2 = []\n",
    "\n",
    "for i in range(1000):\n",
    "    sample_skv = valid_2.sample(500, replace=True, random_state=state)\n",
    "    distr_prof_2.append(profit_from_selected_skv(sample_skv, num_skv, per_prod, budg))\n",
    "\n",
    "len(distr_prof_2)"
   ]
  },
  {
   "cell_type": "markdown",
   "id": "6e6eec5f",
   "metadata": {},
   "source": [
    "### 5.2. Нахождение средней прибыли, 95%-й доверительного интервала и риска убытков. Убыток — это отрицательная прибыль."
   ]
  },
  {
   "cell_type": "markdown",
   "id": "ccc2b9e1",
   "metadata": {},
   "source": [
    "#### Первый регион:"
   ]
  },
  {
   "cell_type": "code",
   "execution_count": 61,
   "id": "d70b2883",
   "metadata": {},
   "outputs": [],
   "source": [
    "distr_prof_0 = pd.Series(distr_prof_0)"
   ]
  },
  {
   "cell_type": "code",
   "execution_count": 62,
   "id": "3681f078",
   "metadata": {},
   "outputs": [
    {
     "name": "stdout",
     "output_type": "stream",
     "text": [
      "Средняя прибыль: 380613470.01759744\n"
     ]
    }
   ],
   "source": [
    "prof_mean_0 = distr_prof_0.mean()\n",
    "print('Средняя прибыль:', prof_mean_0)"
   ]
  },
  {
   "cell_type": "code",
   "execution_count": 63,
   "id": "bbb45642",
   "metadata": {},
   "outputs": [
    {
     "name": "stdout",
     "output_type": "stream",
     "text": [
      "95%-й доверительный интервал: (380100371.05405056, 381126568.9811443)\n"
     ]
    }
   ],
   "source": [
    "alpha = 0.05\n",
    "\n",
    "confidence_interval_0 = st.t.interval(alpha, len(distr_prof_0)-1, loc=prof_mean_0, scale=distr_prof_0.sem())\n",
    "print('95%-й доверительный интервал:', confidence_interval_0)"
   ]
  },
  {
   "cell_type": "code",
   "execution_count": 64,
   "id": "6c75a5a5",
   "metadata": {},
   "outputs": [
    {
     "name": "stdout",
     "output_type": "stream",
     "text": [
      "Риск убытков: 0.077\n"
     ]
    }
   ],
   "source": [
    "risk_loss_0 = sum(distr_prof_0 < 0) / len(distr_prof_0)\n",
    "print('Риск убытков:', risk_loss_0)"
   ]
  },
  {
   "cell_type": "markdown",
   "id": "c181335b",
   "metadata": {},
   "source": [
    "#### Второй регион:"
   ]
  },
  {
   "cell_type": "code",
   "execution_count": 65,
   "id": "6eed4768",
   "metadata": {},
   "outputs": [],
   "source": [
    "distr_prof_1 = pd.Series(distr_prof_1)"
   ]
  },
  {
   "cell_type": "code",
   "execution_count": 66,
   "id": "e5bbb9c0",
   "metadata": {},
   "outputs": [
    {
     "name": "stdout",
     "output_type": "stream",
     "text": [
      "Средняя прибыль: 479159869.9815875\n"
     ]
    }
   ],
   "source": [
    "prof_mean_1 = distr_prof_1.mean()\n",
    "print('Средняя прибыль:', prof_mean_1)"
   ]
  },
  {
   "cell_type": "code",
   "execution_count": 67,
   "id": "2a94a34a",
   "metadata": {},
   "outputs": [
    {
     "name": "stdout",
     "output_type": "stream",
     "text": [
      "95%-й доверительный интервал: (478752165.11858827, 479567574.8445868)\n"
     ]
    }
   ],
   "source": [
    "alpha = 0.05\n",
    "\n",
    "confidence_interval_1 = st.t.interval(alpha, len(distr_prof_1)-1, loc=prof_mean_1, scale=distr_prof_1.sem())\n",
    "print('95%-й доверительный интервал:', confidence_interval_1)"
   ]
  },
  {
   "cell_type": "code",
   "execution_count": 68,
   "id": "fbf1ab13",
   "metadata": {},
   "outputs": [
    {
     "name": "stdout",
     "output_type": "stream",
     "text": [
      "Риск убытков: 0.006\n"
     ]
    }
   ],
   "source": [
    "risk_loss_1 = sum(distr_prof_1 < 0) / len(distr_prof_1)\n",
    "print('Риск убытков:', risk_loss_1)"
   ]
  },
  {
   "cell_type": "markdown",
   "id": "c96400cb",
   "metadata": {},
   "source": [
    "#### Третий регион"
   ]
  },
  {
   "cell_type": "code",
   "execution_count": 69,
   "id": "c4427759",
   "metadata": {},
   "outputs": [],
   "source": [
    "distr_prof_2 = pd.Series(distr_prof_2)"
   ]
  },
  {
   "cell_type": "code",
   "execution_count": 70,
   "id": "8cc22162",
   "metadata": {},
   "outputs": [
    {
     "name": "stdout",
     "output_type": "stream",
     "text": [
      "Средняя прибыль: 315441916.02349013\n"
     ]
    }
   ],
   "source": [
    "prof_mean_2 = distr_prof_2.mean()\n",
    "print('Средняя прибыль:', prof_mean_2)"
   ]
  },
  {
   "cell_type": "code",
   "execution_count": 71,
   "id": "9456ac9a",
   "metadata": {},
   "outputs": [
    {
     "name": "stdout",
     "output_type": "stream",
     "text": [
      "95%-й доверительный интервал: (314909935.86283004, 315973896.1841502)\n"
     ]
    }
   ],
   "source": [
    "alpha = 0.05\n",
    "\n",
    "confidence_interval_2 = st.t.interval(alpha, len(distr_prof_2)-1, loc=prof_mean_2, scale=distr_prof_2.sem())\n",
    "print('95%-й доверительный интервал:', confidence_interval_2)"
   ]
  },
  {
   "cell_type": "code",
   "execution_count": 72,
   "id": "cc076b4b",
   "metadata": {},
   "outputs": [
    {
     "name": "stdout",
     "output_type": "stream",
     "text": [
      "Риск убытков: 0.124\n"
     ]
    }
   ],
   "source": [
    "risk_loss_2 = sum(distr_prof_2 < 0) / len(distr_prof_2)\n",
    "print('Риск убытков:', risk_loss_2)"
   ]
  },
  {
   "cell_type": "markdown",
   "id": "de8ca14b",
   "metadata": {},
   "source": [
    "Лучший выбор региона для разработки - второй. Он показал лучшее значение средней прибыли и 95%-го интервала, а риск убытков всего 0.6%"
   ]
  },
  {
   "cell_type": "markdown",
   "id": "0d94322d",
   "metadata": {},
   "source": [
    "## Вывод"
   ]
  },
  {
   "cell_type": "markdown",
   "id": "c8882b79",
   "metadata": {},
   "source": [
    "У нас было три датасета с данным по трём регионам.  \n",
    "Я загрузил датасеты, удалил неявные дубликаты, посмотрел распределение по целевому признаку в каждом регионе.  \n",
    "Разбил датасеты на обучающую и валидационную выборки.  \n",
    "Обучил модели линейной регрессии и получил предсказания по каждому региону.  \n",
    "Посчитал средний запас предсказанного сырья и RMSE модели для трёх датасетов.  \n",
    "Средний запас в каждом регионе меньше достаточного объёма. Больше всего разница во втором регионе.  \n",
    "Но это не значит, что ни один регион не подходит, так как меньше достаточного только среднее.  \n",
    "Посчитал достаточный объем сырья для безубыточной разработки новой скважины.   \n",
    "Применил технику Bootstrap с 1000 выборок, чтобы найти распределение прибыли для каждого региона.\n",
    "Для всех регионов посчитали среднюю прибыль, 95%-й доверительной и риск убытков.\n",
    "Лучший выбор региона для разработки - второй. Он показал лучшее значение средней прибыли и 95%-го интервала, а риск убытков всего 0.6%"
   ]
  }
 ],
 "metadata": {
  "kernelspec": {
   "display_name": "Python 3 (ipykernel)",
   "language": "python",
   "name": "python3"
  },
  "language_info": {
   "codemirror_mode": {
    "name": "ipython",
    "version": 3
   },
   "file_extension": ".py",
   "mimetype": "text/x-python",
   "name": "python",
   "nbconvert_exporter": "python",
   "pygments_lexer": "ipython3",
   "version": "3.9.13"
  },
  "toc": {
   "base_numbering": 1,
   "nav_menu": {},
   "number_sections": true,
   "sideBar": true,
   "skip_h1_title": true,
   "title_cell": "Table of Contents",
   "title_sidebar": "Contents",
   "toc_cell": false,
   "toc_position": {},
   "toc_section_display": true,
   "toc_window_display": true
  }
 },
 "nbformat": 4,
 "nbformat_minor": 5
}
