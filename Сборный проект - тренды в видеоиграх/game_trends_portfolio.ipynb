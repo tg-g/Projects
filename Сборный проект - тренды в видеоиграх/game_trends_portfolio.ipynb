{
 "cells": [
  {
   "cell_type": "markdown",
   "metadata": {},
   "source": [
    "# Сборный проект №1"
   ]
  },
  {
   "cell_type": "markdown",
   "metadata": {},
   "source": [
    "У нас есть датафрейм `games.csv` с данными о название игр, платформе, годе выпуска, жанре игры, продажах в Северной Америке, продажах в Европе, продажах в Японии, продажах в других странах, оценке критиков, оценке пользователей, рейтинге от организации ESRB (англ. Entertainment Software Rating Board).  \n",
    "Нужно выявить определяющие успешность игры закономерности. Наша задача - понять какие факторы влияют на успешность игры за актуальный период в каждом регионе (NA, EU, JP).  \n",
    "\n",
    "**Цель исследования:** \n",
    "1. Определить потенциально прибыльные платформы.  \n",
    "2. Узнать какие жанры игр наиболее интересны.  \n",
    "3. Выяснить разницу между пользователями разных регионов (NA, EU, JP).\n",
    "\n",
    "**Ход исследования:** \n",
    "- В данном проекте нам нужно сделать обзор данных.\n",
    "- Удалить дубликаты и часть пропусков, заменить часть пропусков на подходящие значения.\n",
    "- Добавить некоторые данные в таблицу.\n",
    "- Провети исследовательский анализ.\n",
    "- Составить портрет пользователя каждого региона.\n",
    "- Проверить несколько гипотез."
   ]
  },
  {
   "cell_type": "code",
   "execution_count": 1,
   "metadata": {},
   "outputs": [],
   "source": [
    "import pandas as pd\n",
    "import matplotlib.pyplot as plt\n",
    "import numpy as np\n",
    "from scipy import stats as st"
   ]
  },
  {
   "cell_type": "markdown",
   "metadata": {},
   "source": [
    "## Шаг 1. Чтение файла с данными и изучение общей информации"
   ]
  },
  {
   "cell_type": "code",
   "execution_count": 2,
   "metadata": {
    "scrolled": false
   },
   "outputs": [
    {
     "data": {
      "text/html": [
       "<div>\n",
       "<style scoped>\n",
       "    .dataframe tbody tr th:only-of-type {\n",
       "        vertical-align: middle;\n",
       "    }\n",
       "\n",
       "    .dataframe tbody tr th {\n",
       "        vertical-align: top;\n",
       "    }\n",
       "\n",
       "    .dataframe thead th {\n",
       "        text-align: right;\n",
       "    }\n",
       "</style>\n",
       "<table border=\"1\" class=\"dataframe\">\n",
       "  <thead>\n",
       "    <tr style=\"text-align: right;\">\n",
       "      <th></th>\n",
       "      <th>Name</th>\n",
       "      <th>Platform</th>\n",
       "      <th>Year_of_Release</th>\n",
       "      <th>Genre</th>\n",
       "      <th>NA_sales</th>\n",
       "      <th>EU_sales</th>\n",
       "      <th>JP_sales</th>\n",
       "      <th>Other_sales</th>\n",
       "      <th>Critic_Score</th>\n",
       "      <th>User_Score</th>\n",
       "      <th>Rating</th>\n",
       "    </tr>\n",
       "  </thead>\n",
       "  <tbody>\n",
       "    <tr>\n",
       "      <th>0</th>\n",
       "      <td>Wii Sports</td>\n",
       "      <td>Wii</td>\n",
       "      <td>2006.0</td>\n",
       "      <td>Sports</td>\n",
       "      <td>41.36</td>\n",
       "      <td>28.96</td>\n",
       "      <td>3.77</td>\n",
       "      <td>8.45</td>\n",
       "      <td>76.0</td>\n",
       "      <td>8</td>\n",
       "      <td>E</td>\n",
       "    </tr>\n",
       "    <tr>\n",
       "      <th>1</th>\n",
       "      <td>Super Mario Bros.</td>\n",
       "      <td>NES</td>\n",
       "      <td>1985.0</td>\n",
       "      <td>Platform</td>\n",
       "      <td>29.08</td>\n",
       "      <td>3.58</td>\n",
       "      <td>6.81</td>\n",
       "      <td>0.77</td>\n",
       "      <td>NaN</td>\n",
       "      <td>NaN</td>\n",
       "      <td>NaN</td>\n",
       "    </tr>\n",
       "    <tr>\n",
       "      <th>2</th>\n",
       "      <td>Mario Kart Wii</td>\n",
       "      <td>Wii</td>\n",
       "      <td>2008.0</td>\n",
       "      <td>Racing</td>\n",
       "      <td>15.68</td>\n",
       "      <td>12.76</td>\n",
       "      <td>3.79</td>\n",
       "      <td>3.29</td>\n",
       "      <td>82.0</td>\n",
       "      <td>8.3</td>\n",
       "      <td>E</td>\n",
       "    </tr>\n",
       "    <tr>\n",
       "      <th>3</th>\n",
       "      <td>Wii Sports Resort</td>\n",
       "      <td>Wii</td>\n",
       "      <td>2009.0</td>\n",
       "      <td>Sports</td>\n",
       "      <td>15.61</td>\n",
       "      <td>10.93</td>\n",
       "      <td>3.28</td>\n",
       "      <td>2.95</td>\n",
       "      <td>80.0</td>\n",
       "      <td>8</td>\n",
       "      <td>E</td>\n",
       "    </tr>\n",
       "    <tr>\n",
       "      <th>4</th>\n",
       "      <td>Pokemon Red/Pokemon Blue</td>\n",
       "      <td>GB</td>\n",
       "      <td>1996.0</td>\n",
       "      <td>Role-Playing</td>\n",
       "      <td>11.27</td>\n",
       "      <td>8.89</td>\n",
       "      <td>10.22</td>\n",
       "      <td>1.00</td>\n",
       "      <td>NaN</td>\n",
       "      <td>NaN</td>\n",
       "      <td>NaN</td>\n",
       "    </tr>\n",
       "  </tbody>\n",
       "</table>\n",
       "</div>"
      ],
      "text/plain": [
       "                       Name Platform  Year_of_Release         Genre  NA_sales  \\\n",
       "0                Wii Sports      Wii           2006.0        Sports     41.36   \n",
       "1         Super Mario Bros.      NES           1985.0      Platform     29.08   \n",
       "2            Mario Kart Wii      Wii           2008.0        Racing     15.68   \n",
       "3         Wii Sports Resort      Wii           2009.0        Sports     15.61   \n",
       "4  Pokemon Red/Pokemon Blue       GB           1996.0  Role-Playing     11.27   \n",
       "\n",
       "   EU_sales  JP_sales  Other_sales  Critic_Score User_Score Rating  \n",
       "0     28.96      3.77         8.45          76.0          8      E  \n",
       "1      3.58      6.81         0.77           NaN        NaN    NaN  \n",
       "2     12.76      3.79         3.29          82.0        8.3      E  \n",
       "3     10.93      3.28         2.95          80.0          8      E  \n",
       "4      8.89     10.22         1.00           NaN        NaN    NaN  "
      ]
     },
     "execution_count": 2,
     "metadata": {},
     "output_type": "execute_result"
    }
   ],
   "source": [
    "df = pd.read_csv('/datasets/games.csv')\n",
    "df.head()"
   ]
  },
  {
   "cell_type": "code",
   "execution_count": 3,
   "metadata": {},
   "outputs": [
    {
     "name": "stdout",
     "output_type": "stream",
     "text": [
      "<class 'pandas.core.frame.DataFrame'>\n",
      "RangeIndex: 16715 entries, 0 to 16714\n",
      "Data columns (total 11 columns):\n",
      " #   Column           Non-Null Count  Dtype  \n",
      "---  ------           --------------  -----  \n",
      " 0   Name             16713 non-null  object \n",
      " 1   Platform         16715 non-null  object \n",
      " 2   Year_of_Release  16446 non-null  float64\n",
      " 3   Genre            16713 non-null  object \n",
      " 4   NA_sales         16715 non-null  float64\n",
      " 5   EU_sales         16715 non-null  float64\n",
      " 6   JP_sales         16715 non-null  float64\n",
      " 7   Other_sales      16715 non-null  float64\n",
      " 8   Critic_Score     8137 non-null   float64\n",
      " 9   User_Score       10014 non-null  object \n",
      " 10  Rating           9949 non-null   object \n",
      "dtypes: float64(6), object(5)\n",
      "memory usage: 1.4+ MB\n"
     ]
    }
   ],
   "source": [
    "df.info()"
   ]
  },
  {
   "cell_type": "markdown",
   "metadata": {},
   "source": [
    "**Вывод:** Я загрузил датафрейма df c информацией об играх, их продажах и оценке.  \n",
    "Столбцы названы не корректно - названия начинаются с большой буквы.  \n",
    "Датафрейм состоит из 16715 строк.  \n",
    "Видно, что в последних трёх столбцах достаточно много пропусков.  \n",
    "В столбцах User_Score и Year_of_Release данные имеют неправильный тип данных."
   ]
  },
  {
   "cell_type": "markdown",
   "metadata": {},
   "source": [
    "## Шаг 2. Подготовка данных"
   ]
  },
  {
   "cell_type": "markdown",
   "metadata": {},
   "source": [
    "### Замена названий столбцов:"
   ]
  },
  {
   "cell_type": "code",
   "execution_count": 4,
   "metadata": {},
   "outputs": [
    {
     "data": {
      "text/html": [
       "<div>\n",
       "<style scoped>\n",
       "    .dataframe tbody tr th:only-of-type {\n",
       "        vertical-align: middle;\n",
       "    }\n",
       "\n",
       "    .dataframe tbody tr th {\n",
       "        vertical-align: top;\n",
       "    }\n",
       "\n",
       "    .dataframe thead th {\n",
       "        text-align: right;\n",
       "    }\n",
       "</style>\n",
       "<table border=\"1\" class=\"dataframe\">\n",
       "  <thead>\n",
       "    <tr style=\"text-align: right;\">\n",
       "      <th></th>\n",
       "      <th>name</th>\n",
       "      <th>platform</th>\n",
       "      <th>year_of_release</th>\n",
       "      <th>genre</th>\n",
       "      <th>na_sales</th>\n",
       "      <th>eu_sales</th>\n",
       "      <th>jp_sales</th>\n",
       "      <th>other_sales</th>\n",
       "      <th>critic_score</th>\n",
       "      <th>user_score</th>\n",
       "      <th>rating</th>\n",
       "    </tr>\n",
       "  </thead>\n",
       "  <tbody>\n",
       "    <tr>\n",
       "      <th>0</th>\n",
       "      <td>Wii Sports</td>\n",
       "      <td>Wii</td>\n",
       "      <td>2006.0</td>\n",
       "      <td>Sports</td>\n",
       "      <td>41.36</td>\n",
       "      <td>28.96</td>\n",
       "      <td>3.77</td>\n",
       "      <td>8.45</td>\n",
       "      <td>76.0</td>\n",
       "      <td>8</td>\n",
       "      <td>E</td>\n",
       "    </tr>\n",
       "    <tr>\n",
       "      <th>1</th>\n",
       "      <td>Super Mario Bros.</td>\n",
       "      <td>NES</td>\n",
       "      <td>1985.0</td>\n",
       "      <td>Platform</td>\n",
       "      <td>29.08</td>\n",
       "      <td>3.58</td>\n",
       "      <td>6.81</td>\n",
       "      <td>0.77</td>\n",
       "      <td>NaN</td>\n",
       "      <td>NaN</td>\n",
       "      <td>NaN</td>\n",
       "    </tr>\n",
       "    <tr>\n",
       "      <th>2</th>\n",
       "      <td>Mario Kart Wii</td>\n",
       "      <td>Wii</td>\n",
       "      <td>2008.0</td>\n",
       "      <td>Racing</td>\n",
       "      <td>15.68</td>\n",
       "      <td>12.76</td>\n",
       "      <td>3.79</td>\n",
       "      <td>3.29</td>\n",
       "      <td>82.0</td>\n",
       "      <td>8.3</td>\n",
       "      <td>E</td>\n",
       "    </tr>\n",
       "    <tr>\n",
       "      <th>3</th>\n",
       "      <td>Wii Sports Resort</td>\n",
       "      <td>Wii</td>\n",
       "      <td>2009.0</td>\n",
       "      <td>Sports</td>\n",
       "      <td>15.61</td>\n",
       "      <td>10.93</td>\n",
       "      <td>3.28</td>\n",
       "      <td>2.95</td>\n",
       "      <td>80.0</td>\n",
       "      <td>8</td>\n",
       "      <td>E</td>\n",
       "    </tr>\n",
       "    <tr>\n",
       "      <th>4</th>\n",
       "      <td>Pokemon Red/Pokemon Blue</td>\n",
       "      <td>GB</td>\n",
       "      <td>1996.0</td>\n",
       "      <td>Role-Playing</td>\n",
       "      <td>11.27</td>\n",
       "      <td>8.89</td>\n",
       "      <td>10.22</td>\n",
       "      <td>1.00</td>\n",
       "      <td>NaN</td>\n",
       "      <td>NaN</td>\n",
       "      <td>NaN</td>\n",
       "    </tr>\n",
       "  </tbody>\n",
       "</table>\n",
       "</div>"
      ],
      "text/plain": [
       "                       name platform  year_of_release         genre  na_sales  \\\n",
       "0                Wii Sports      Wii           2006.0        Sports     41.36   \n",
       "1         Super Mario Bros.      NES           1985.0      Platform     29.08   \n",
       "2            Mario Kart Wii      Wii           2008.0        Racing     15.68   \n",
       "3         Wii Sports Resort      Wii           2009.0        Sports     15.61   \n",
       "4  Pokemon Red/Pokemon Blue       GB           1996.0  Role-Playing     11.27   \n",
       "\n",
       "   eu_sales  jp_sales  other_sales  critic_score user_score rating  \n",
       "0     28.96      3.77         8.45          76.0          8      E  \n",
       "1      3.58      6.81         0.77           NaN        NaN    NaN  \n",
       "2     12.76      3.79         3.29          82.0        8.3      E  \n",
       "3     10.93      3.28         2.95          80.0          8      E  \n",
       "4      8.89     10.22         1.00           NaN        NaN    NaN  "
      ]
     },
     "execution_count": 4,
     "metadata": {},
     "output_type": "execute_result"
    }
   ],
   "source": [
    "df.columns = df.columns.str.lower()\n",
    "\n",
    "df.head()"
   ]
  },
  {
   "cell_type": "markdown",
   "metadata": {},
   "source": [
    "### Преобразование данных в нужные типы:"
   ]
  },
  {
   "cell_type": "code",
   "execution_count": 5,
   "metadata": {},
   "outputs": [
    {
     "name": "stdout",
     "output_type": "stream",
     "text": [
      "<class 'pandas.core.frame.DataFrame'>\n",
      "RangeIndex: 16715 entries, 0 to 16714\n",
      "Data columns (total 11 columns):\n",
      " #   Column           Non-Null Count  Dtype  \n",
      "---  ------           --------------  -----  \n",
      " 0   name             16713 non-null  object \n",
      " 1   platform         16715 non-null  object \n",
      " 2   year_of_release  16446 non-null  float64\n",
      " 3   genre            16713 non-null  object \n",
      " 4   na_sales         16715 non-null  float64\n",
      " 5   eu_sales         16715 non-null  float64\n",
      " 6   jp_sales         16715 non-null  float64\n",
      " 7   other_sales      16715 non-null  float64\n",
      " 8   critic_score     8137 non-null   float64\n",
      " 9   user_score       10014 non-null  object \n",
      " 10  rating           9949 non-null   object \n",
      "dtypes: float64(6), object(5)\n",
      "memory usage: 1.4+ MB\n"
     ]
    }
   ],
   "source": [
    "df.info()"
   ]
  },
  {
   "cell_type": "code",
   "execution_count": 6,
   "metadata": {},
   "outputs": [
    {
     "data": {
      "text/plain": [
       "name                  2\n",
       "platform              0\n",
       "year_of_release     269\n",
       "genre                 2\n",
       "na_sales              0\n",
       "eu_sales              0\n",
       "jp_sales              0\n",
       "other_sales           0\n",
       "critic_score       8578\n",
       "user_score         6701\n",
       "rating             6766\n",
       "dtype: int64"
      ]
     },
     "execution_count": 6,
     "metadata": {},
     "output_type": "execute_result"
    }
   ],
   "source": [
    "df.isna().sum()"
   ]
  },
  {
   "cell_type": "code",
   "execution_count": 7,
   "metadata": {},
   "outputs": [
    {
     "data": {
      "text/plain": [
       "name                  0\n",
       "platform              0\n",
       "year_of_release       0\n",
       "genre                 0\n",
       "na_sales              0\n",
       "eu_sales              0\n",
       "jp_sales              0\n",
       "other_sales           0\n",
       "critic_score       8461\n",
       "user_score         6605\n",
       "rating             6676\n",
       "dtype: int64"
      ]
     },
     "execution_count": 7,
     "metadata": {},
     "output_type": "execute_result"
    }
   ],
   "source": [
    "df = df.dropna(subset=['year_of_release', 'name'])\n",
    "df.isna().sum()"
   ]
  },
  {
   "cell_type": "code",
   "execution_count": 8,
   "metadata": {},
   "outputs": [
    {
     "data": {
      "text/html": [
       "<div>\n",
       "<style scoped>\n",
       "    .dataframe tbody tr th:only-of-type {\n",
       "        vertical-align: middle;\n",
       "    }\n",
       "\n",
       "    .dataframe tbody tr th {\n",
       "        vertical-align: top;\n",
       "    }\n",
       "\n",
       "    .dataframe thead th {\n",
       "        text-align: right;\n",
       "    }\n",
       "</style>\n",
       "<table border=\"1\" class=\"dataframe\">\n",
       "  <thead>\n",
       "    <tr style=\"text-align: right;\">\n",
       "      <th></th>\n",
       "      <th>name</th>\n",
       "      <th>platform</th>\n",
       "      <th>year_of_release</th>\n",
       "      <th>genre</th>\n",
       "      <th>na_sales</th>\n",
       "      <th>eu_sales</th>\n",
       "      <th>jp_sales</th>\n",
       "      <th>other_sales</th>\n",
       "      <th>critic_score</th>\n",
       "      <th>user_score</th>\n",
       "      <th>rating</th>\n",
       "    </tr>\n",
       "  </thead>\n",
       "  <tbody>\n",
       "    <tr>\n",
       "      <th>0</th>\n",
       "      <td>Wii Sports</td>\n",
       "      <td>Wii</td>\n",
       "      <td>2006.0</td>\n",
       "      <td>Sports</td>\n",
       "      <td>41.36</td>\n",
       "      <td>28.96</td>\n",
       "      <td>3.77</td>\n",
       "      <td>8.45</td>\n",
       "      <td>76.0</td>\n",
       "      <td>8</td>\n",
       "      <td>E</td>\n",
       "    </tr>\n",
       "    <tr>\n",
       "      <th>1</th>\n",
       "      <td>Super Mario Bros.</td>\n",
       "      <td>NES</td>\n",
       "      <td>1985.0</td>\n",
       "      <td>Platform</td>\n",
       "      <td>29.08</td>\n",
       "      <td>3.58</td>\n",
       "      <td>6.81</td>\n",
       "      <td>0.77</td>\n",
       "      <td>NaN</td>\n",
       "      <td>NaN</td>\n",
       "      <td>NaN</td>\n",
       "    </tr>\n",
       "    <tr>\n",
       "      <th>2</th>\n",
       "      <td>Mario Kart Wii</td>\n",
       "      <td>Wii</td>\n",
       "      <td>2008.0</td>\n",
       "      <td>Racing</td>\n",
       "      <td>15.68</td>\n",
       "      <td>12.76</td>\n",
       "      <td>3.79</td>\n",
       "      <td>3.29</td>\n",
       "      <td>82.0</td>\n",
       "      <td>8.3</td>\n",
       "      <td>E</td>\n",
       "    </tr>\n",
       "    <tr>\n",
       "      <th>3</th>\n",
       "      <td>Wii Sports Resort</td>\n",
       "      <td>Wii</td>\n",
       "      <td>2009.0</td>\n",
       "      <td>Sports</td>\n",
       "      <td>15.61</td>\n",
       "      <td>10.93</td>\n",
       "      <td>3.28</td>\n",
       "      <td>2.95</td>\n",
       "      <td>80.0</td>\n",
       "      <td>8</td>\n",
       "      <td>E</td>\n",
       "    </tr>\n",
       "    <tr>\n",
       "      <th>4</th>\n",
       "      <td>Pokemon Red/Pokemon Blue</td>\n",
       "      <td>GB</td>\n",
       "      <td>1996.0</td>\n",
       "      <td>Role-Playing</td>\n",
       "      <td>11.27</td>\n",
       "      <td>8.89</td>\n",
       "      <td>10.22</td>\n",
       "      <td>1.00</td>\n",
       "      <td>NaN</td>\n",
       "      <td>NaN</td>\n",
       "      <td>NaN</td>\n",
       "    </tr>\n",
       "    <tr>\n",
       "      <th>...</th>\n",
       "      <td>...</td>\n",
       "      <td>...</td>\n",
       "      <td>...</td>\n",
       "      <td>...</td>\n",
       "      <td>...</td>\n",
       "      <td>...</td>\n",
       "      <td>...</td>\n",
       "      <td>...</td>\n",
       "      <td>...</td>\n",
       "      <td>...</td>\n",
       "      <td>...</td>\n",
       "    </tr>\n",
       "    <tr>\n",
       "      <th>16439</th>\n",
       "      <td>Samurai Warriors: Sanada Maru</td>\n",
       "      <td>PS3</td>\n",
       "      <td>2016.0</td>\n",
       "      <td>Action</td>\n",
       "      <td>0.00</td>\n",
       "      <td>0.00</td>\n",
       "      <td>0.01</td>\n",
       "      <td>0.00</td>\n",
       "      <td>NaN</td>\n",
       "      <td>NaN</td>\n",
       "      <td>NaN</td>\n",
       "    </tr>\n",
       "    <tr>\n",
       "      <th>16440</th>\n",
       "      <td>LMA Manager 2007</td>\n",
       "      <td>X360</td>\n",
       "      <td>2006.0</td>\n",
       "      <td>Sports</td>\n",
       "      <td>0.00</td>\n",
       "      <td>0.01</td>\n",
       "      <td>0.00</td>\n",
       "      <td>0.00</td>\n",
       "      <td>NaN</td>\n",
       "      <td>NaN</td>\n",
       "      <td>NaN</td>\n",
       "    </tr>\n",
       "    <tr>\n",
       "      <th>16441</th>\n",
       "      <td>Haitaka no Psychedelica</td>\n",
       "      <td>PSV</td>\n",
       "      <td>2016.0</td>\n",
       "      <td>Adventure</td>\n",
       "      <td>0.00</td>\n",
       "      <td>0.00</td>\n",
       "      <td>0.01</td>\n",
       "      <td>0.00</td>\n",
       "      <td>NaN</td>\n",
       "      <td>NaN</td>\n",
       "      <td>NaN</td>\n",
       "    </tr>\n",
       "    <tr>\n",
       "      <th>16442</th>\n",
       "      <td>Spirits &amp; Spells</td>\n",
       "      <td>GBA</td>\n",
       "      <td>2003.0</td>\n",
       "      <td>Platform</td>\n",
       "      <td>0.01</td>\n",
       "      <td>0.00</td>\n",
       "      <td>0.00</td>\n",
       "      <td>0.00</td>\n",
       "      <td>NaN</td>\n",
       "      <td>NaN</td>\n",
       "      <td>NaN</td>\n",
       "    </tr>\n",
       "    <tr>\n",
       "      <th>16443</th>\n",
       "      <td>Winning Post 8 2016</td>\n",
       "      <td>PSV</td>\n",
       "      <td>2016.0</td>\n",
       "      <td>Simulation</td>\n",
       "      <td>0.00</td>\n",
       "      <td>0.00</td>\n",
       "      <td>0.01</td>\n",
       "      <td>0.00</td>\n",
       "      <td>NaN</td>\n",
       "      <td>NaN</td>\n",
       "      <td>NaN</td>\n",
       "    </tr>\n",
       "  </tbody>\n",
       "</table>\n",
       "<p>16444 rows × 11 columns</p>\n",
       "</div>"
      ],
      "text/plain": [
       "                                name platform  year_of_release         genre  \\\n",
       "0                         Wii Sports      Wii           2006.0        Sports   \n",
       "1                  Super Mario Bros.      NES           1985.0      Platform   \n",
       "2                     Mario Kart Wii      Wii           2008.0        Racing   \n",
       "3                  Wii Sports Resort      Wii           2009.0        Sports   \n",
       "4           Pokemon Red/Pokemon Blue       GB           1996.0  Role-Playing   \n",
       "...                              ...      ...              ...           ...   \n",
       "16439  Samurai Warriors: Sanada Maru      PS3           2016.0        Action   \n",
       "16440               LMA Manager 2007     X360           2006.0        Sports   \n",
       "16441        Haitaka no Psychedelica      PSV           2016.0     Adventure   \n",
       "16442               Spirits & Spells      GBA           2003.0      Platform   \n",
       "16443            Winning Post 8 2016      PSV           2016.0    Simulation   \n",
       "\n",
       "       na_sales  eu_sales  jp_sales  other_sales  critic_score user_score  \\\n",
       "0         41.36     28.96      3.77         8.45          76.0          8   \n",
       "1         29.08      3.58      6.81         0.77           NaN        NaN   \n",
       "2         15.68     12.76      3.79         3.29          82.0        8.3   \n",
       "3         15.61     10.93      3.28         2.95          80.0          8   \n",
       "4         11.27      8.89     10.22         1.00           NaN        NaN   \n",
       "...         ...       ...       ...          ...           ...        ...   \n",
       "16439      0.00      0.00      0.01         0.00           NaN        NaN   \n",
       "16440      0.00      0.01      0.00         0.00           NaN        NaN   \n",
       "16441      0.00      0.00      0.01         0.00           NaN        NaN   \n",
       "16442      0.01      0.00      0.00         0.00           NaN        NaN   \n",
       "16443      0.00      0.00      0.01         0.00           NaN        NaN   \n",
       "\n",
       "      rating  \n",
       "0          E  \n",
       "1        NaN  \n",
       "2          E  \n",
       "3          E  \n",
       "4        NaN  \n",
       "...      ...  \n",
       "16439    NaN  \n",
       "16440    NaN  \n",
       "16441    NaN  \n",
       "16442    NaN  \n",
       "16443    NaN  \n",
       "\n",
       "[16444 rows x 11 columns]"
      ]
     },
     "execution_count": 8,
     "metadata": {},
     "output_type": "execute_result"
    }
   ],
   "source": [
    "df = df.reset_index(drop=True)\n",
    "df"
   ]
  },
  {
   "cell_type": "code",
   "execution_count": 9,
   "metadata": {},
   "outputs": [],
   "source": [
    "df['year_of_release'] = df['year_of_release'].astype('int')\n",
    "\n",
    "df['user_score'] = pd.to_numeric(df['user_score'], errors='coerce')"
   ]
  },
  {
   "cell_type": "code",
   "execution_count": 10,
   "metadata": {},
   "outputs": [
    {
     "name": "stdout",
     "output_type": "stream",
     "text": [
      "<class 'pandas.core.frame.DataFrame'>\n",
      "RangeIndex: 16444 entries, 0 to 16443\n",
      "Data columns (total 11 columns):\n",
      " #   Column           Non-Null Count  Dtype  \n",
      "---  ------           --------------  -----  \n",
      " 0   name             16444 non-null  object \n",
      " 1   platform         16444 non-null  object \n",
      " 2   year_of_release  16444 non-null  int64  \n",
      " 3   genre            16444 non-null  object \n",
      " 4   na_sales         16444 non-null  float64\n",
      " 5   eu_sales         16444 non-null  float64\n",
      " 6   jp_sales         16444 non-null  float64\n",
      " 7   other_sales      16444 non-null  float64\n",
      " 8   critic_score     7983 non-null   float64\n",
      " 9   user_score       7463 non-null   float64\n",
      " 10  rating           9768 non-null   object \n",
      "dtypes: float64(6), int64(1), object(4)\n",
      "memory usage: 1.4+ MB\n"
     ]
    }
   ],
   "source": [
    "df.info()"
   ]
  },
  {
   "cell_type": "markdown",
   "metadata": {},
   "source": [
    "Типы данных были заменены в столбцах `year_of_release` и `user_score`. В `year_of_release` тип данных float заменил на int, так как год выпуска это целое число. В `user_score` тип данных заменил со строки на численный, так как оценка в данном случае численная."
   ]
  },
  {
   "cell_type": "code",
   "execution_count": 11,
   "metadata": {},
   "outputs": [
    {
     "data": {
      "text/plain": [
       "0"
      ]
     },
     "execution_count": 11,
     "metadata": {},
     "output_type": "execute_result"
    }
   ],
   "source": [
    "df.duplicated().sum()"
   ]
  },
  {
   "cell_type": "markdown",
   "metadata": {},
   "source": [
    "Строки с пропусками в столбцах `name` и `year_of_release` были удалены, так как их невозможно заполнить и они занимают 1.6% от объёма данных. Пропуски в `critic_score` и `user_score` не стал заполнять, так как в дальнейшем оценка будет браться только за определённый период и сейчас все пропуски заполнять нет смысла. В `rating` также не стал заполнять пропуски."
   ]
  },
  {
   "cell_type": "markdown",
   "metadata": {},
   "source": [
    "Часть игр ещё не вышла. Также возможно используются данные не со всех ресурсов с оценками игр."
   ]
  },
  {
   "cell_type": "code",
   "execution_count": 12,
   "metadata": {},
   "outputs": [
    {
     "data": {
      "text/plain": [
       "array([0. , 0.2, 0.3, 0.5, 0.6, 0.7, 0.9, 1. , 1.1, 1.2, 1.3, 1.4, 1.5,\n",
       "       1.6, 1.7, 1.8, 1.9, 2. , 2.1, 2.2, 2.3, 2.4, 2.5, 2.6, 2.7, 2.8,\n",
       "       2.9, 3. , 3.1, 3.2, 3.3, 3.4, 3.5, 3.6, 3.7, 3.8, 3.9, 4. , 4.1,\n",
       "       4.2, 4.3, 4.4, 4.5, 4.6, 4.7, 4.8, 4.9, 5. , 5.1, 5.2, 5.3, 5.4,\n",
       "       5.5, 5.6, 5.7, 5.8, 5.9, 6. , 6.1, 6.2, 6.3, 6.4, 6.5, 6.6, 6.7,\n",
       "       6.8, 6.9, 7. , 7.1, 7.2, 7.3, 7.4, 7.5, 7.6, 7.7, 7.8, 7.9, 8. ,\n",
       "       8.1, 8.2, 8.3, 8.4, 8.5, 8.6, 8.7, 8.8, 8.9, 9. , 9.1, 9.2, 9.3,\n",
       "       9.4, 9.5, 9.6, 9.7, nan])"
      ]
     },
     "execution_count": 12,
     "metadata": {},
     "output_type": "execute_result"
    }
   ],
   "source": [
    "df['user_score'].sort_values().unique()"
   ]
  },
  {
   "cell_type": "markdown",
   "metadata": {},
   "source": [
    "'tbd' - это 'to be determined' (т.е. 'будет определено'). Это означает, что оценки критиков появятся в дальнейшем.  \n",
    "Судя по всему все строки с данным значением в строке `user_score` были удалены. Видимо игры без указанного года релиза - это ещё не вышедшие игры. Логично, что у таких игр нет оценок."
   ]
  },
  {
   "cell_type": "code",
   "execution_count": 14,
   "metadata": {},
   "outputs": [
    {
     "data": {
      "text/plain": [
       "15969"
      ]
     },
     "execution_count": 14,
     "metadata": {},
     "output_type": "execute_result"
    }
   ],
   "source": [
    "implicit_dupl = df.duplicated(subset=['name', 'platform', 'year_of_release'])\n",
    "drop_line = df[implicit_dupl].index[0]\n",
    "drop_line"
   ]
  },
  {
   "cell_type": "code",
   "execution_count": 15,
   "metadata": {},
   "outputs": [
    {
     "data": {
      "text/html": [
       "<div>\n",
       "<style scoped>\n",
       "    .dataframe tbody tr th:only-of-type {\n",
       "        vertical-align: middle;\n",
       "    }\n",
       "\n",
       "    .dataframe tbody tr th {\n",
       "        vertical-align: top;\n",
       "    }\n",
       "\n",
       "    .dataframe thead th {\n",
       "        text-align: right;\n",
       "    }\n",
       "</style>\n",
       "<table border=\"1\" class=\"dataframe\">\n",
       "  <thead>\n",
       "    <tr style=\"text-align: right;\">\n",
       "      <th></th>\n",
       "      <th>name</th>\n",
       "      <th>platform</th>\n",
       "      <th>year_of_release</th>\n",
       "      <th>genre</th>\n",
       "      <th>na_sales</th>\n",
       "      <th>eu_sales</th>\n",
       "      <th>jp_sales</th>\n",
       "      <th>other_sales</th>\n",
       "      <th>critic_score</th>\n",
       "      <th>user_score</th>\n",
       "      <th>rating</th>\n",
       "    </tr>\n",
       "  </thead>\n",
       "  <tbody>\n",
       "    <tr>\n",
       "      <th>600</th>\n",
       "      <td>Madden NFL 13</td>\n",
       "      <td>PS3</td>\n",
       "      <td>2012</td>\n",
       "      <td>Sports</td>\n",
       "      <td>2.11</td>\n",
       "      <td>0.22</td>\n",
       "      <td>0.0</td>\n",
       "      <td>0.23</td>\n",
       "      <td>83.0</td>\n",
       "      <td>5.5</td>\n",
       "      <td>E</td>\n",
       "    </tr>\n",
       "    <tr>\n",
       "      <th>15969</th>\n",
       "      <td>Madden NFL 13</td>\n",
       "      <td>PS3</td>\n",
       "      <td>2012</td>\n",
       "      <td>Sports</td>\n",
       "      <td>0.00</td>\n",
       "      <td>0.01</td>\n",
       "      <td>0.0</td>\n",
       "      <td>0.00</td>\n",
       "      <td>83.0</td>\n",
       "      <td>5.5</td>\n",
       "      <td>E</td>\n",
       "    </tr>\n",
       "  </tbody>\n",
       "</table>\n",
       "</div>"
      ],
      "text/plain": [
       "                name platform  year_of_release   genre  na_sales  eu_sales  \\\n",
       "600    Madden NFL 13      PS3             2012  Sports      2.11      0.22   \n",
       "15969  Madden NFL 13      PS3             2012  Sports      0.00      0.01   \n",
       "\n",
       "       jp_sales  other_sales  critic_score  user_score rating  \n",
       "600         0.0         0.23          83.0         5.5      E  \n",
       "15969       0.0         0.00          83.0         5.5      E  "
      ]
     },
     "execution_count": 15,
     "metadata": {},
     "output_type": "execute_result"
    }
   ],
   "source": [
    "df.drop(drop_line)\n",
    "\n",
    "df[df.duplicated(subset=['name', 'platform', 'year_of_release'], keep=False)]"
   ]
  },
  {
   "cell_type": "code",
   "execution_count": 16,
   "metadata": {
    "scrolled": false
   },
   "outputs": [
    {
     "data": {
      "text/html": [
       "<div>\n",
       "<style scoped>\n",
       "    .dataframe tbody tr th:only-of-type {\n",
       "        vertical-align: middle;\n",
       "    }\n",
       "\n",
       "    .dataframe tbody tr th {\n",
       "        vertical-align: top;\n",
       "    }\n",
       "\n",
       "    .dataframe thead th {\n",
       "        text-align: right;\n",
       "    }\n",
       "</style>\n",
       "<table border=\"1\" class=\"dataframe\">\n",
       "  <thead>\n",
       "    <tr style=\"text-align: right;\">\n",
       "      <th></th>\n",
       "      <th>name</th>\n",
       "      <th>platform</th>\n",
       "      <th>year_of_release</th>\n",
       "      <th>genre</th>\n",
       "      <th>na_sales</th>\n",
       "      <th>eu_sales</th>\n",
       "      <th>jp_sales</th>\n",
       "      <th>other_sales</th>\n",
       "      <th>critic_score</th>\n",
       "      <th>user_score</th>\n",
       "      <th>rating</th>\n",
       "    </tr>\n",
       "  </thead>\n",
       "  <tbody>\n",
       "    <tr>\n",
       "      <th>16439</th>\n",
       "      <td>Samurai Warriors: Sanada Maru</td>\n",
       "      <td>PS3</td>\n",
       "      <td>2016</td>\n",
       "      <td>Action</td>\n",
       "      <td>0.00</td>\n",
       "      <td>0.00</td>\n",
       "      <td>0.01</td>\n",
       "      <td>0.0</td>\n",
       "      <td>NaN</td>\n",
       "      <td>NaN</td>\n",
       "      <td>NaN</td>\n",
       "    </tr>\n",
       "    <tr>\n",
       "      <th>16440</th>\n",
       "      <td>LMA Manager 2007</td>\n",
       "      <td>X360</td>\n",
       "      <td>2006</td>\n",
       "      <td>Sports</td>\n",
       "      <td>0.00</td>\n",
       "      <td>0.01</td>\n",
       "      <td>0.00</td>\n",
       "      <td>0.0</td>\n",
       "      <td>NaN</td>\n",
       "      <td>NaN</td>\n",
       "      <td>NaN</td>\n",
       "    </tr>\n",
       "    <tr>\n",
       "      <th>16441</th>\n",
       "      <td>Haitaka no Psychedelica</td>\n",
       "      <td>PSV</td>\n",
       "      <td>2016</td>\n",
       "      <td>Adventure</td>\n",
       "      <td>0.00</td>\n",
       "      <td>0.00</td>\n",
       "      <td>0.01</td>\n",
       "      <td>0.0</td>\n",
       "      <td>NaN</td>\n",
       "      <td>NaN</td>\n",
       "      <td>NaN</td>\n",
       "    </tr>\n",
       "    <tr>\n",
       "      <th>16442</th>\n",
       "      <td>Spirits &amp; Spells</td>\n",
       "      <td>GBA</td>\n",
       "      <td>2003</td>\n",
       "      <td>Platform</td>\n",
       "      <td>0.01</td>\n",
       "      <td>0.00</td>\n",
       "      <td>0.00</td>\n",
       "      <td>0.0</td>\n",
       "      <td>NaN</td>\n",
       "      <td>NaN</td>\n",
       "      <td>NaN</td>\n",
       "    </tr>\n",
       "    <tr>\n",
       "      <th>16443</th>\n",
       "      <td>Winning Post 8 2016</td>\n",
       "      <td>PSV</td>\n",
       "      <td>2016</td>\n",
       "      <td>Simulation</td>\n",
       "      <td>0.00</td>\n",
       "      <td>0.00</td>\n",
       "      <td>0.01</td>\n",
       "      <td>0.0</td>\n",
       "      <td>NaN</td>\n",
       "      <td>NaN</td>\n",
       "      <td>NaN</td>\n",
       "    </tr>\n",
       "  </tbody>\n",
       "</table>\n",
       "</div>"
      ],
      "text/plain": [
       "                                name platform  year_of_release       genre  \\\n",
       "16439  Samurai Warriors: Sanada Maru      PS3             2016      Action   \n",
       "16440               LMA Manager 2007     X360             2006      Sports   \n",
       "16441        Haitaka no Psychedelica      PSV             2016   Adventure   \n",
       "16442               Spirits & Spells      GBA             2003    Platform   \n",
       "16443            Winning Post 8 2016      PSV             2016  Simulation   \n",
       "\n",
       "       na_sales  eu_sales  jp_sales  other_sales  critic_score  user_score  \\\n",
       "16439      0.00      0.00      0.01          0.0           NaN         NaN   \n",
       "16440      0.00      0.01      0.00          0.0           NaN         NaN   \n",
       "16441      0.00      0.00      0.01          0.0           NaN         NaN   \n",
       "16442      0.01      0.00      0.00          0.0           NaN         NaN   \n",
       "16443      0.00      0.00      0.01          0.0           NaN         NaN   \n",
       "\n",
       "      rating  \n",
       "16439    NaN  \n",
       "16440    NaN  \n",
       "16441    NaN  \n",
       "16442    NaN  \n",
       "16443    NaN  "
      ]
     },
     "execution_count": 16,
     "metadata": {},
     "output_type": "execute_result"
    }
   ],
   "source": [
    "df = df.reset_index(drop=True)\n",
    "df.tail()"
   ]
  },
  {
   "cell_type": "code",
   "execution_count": 17,
   "metadata": {},
   "outputs": [
    {
     "name": "stdout",
     "output_type": "stream",
     "text": [
      "<class 'pandas.core.frame.DataFrame'>\n",
      "RangeIndex: 16444 entries, 0 to 16443\n",
      "Data columns (total 11 columns):\n",
      " #   Column           Non-Null Count  Dtype  \n",
      "---  ------           --------------  -----  \n",
      " 0   name             16444 non-null  object \n",
      " 1   platform         16444 non-null  object \n",
      " 2   year_of_release  16444 non-null  int64  \n",
      " 3   genre            16444 non-null  object \n",
      " 4   na_sales         16444 non-null  float64\n",
      " 5   eu_sales         16444 non-null  float64\n",
      " 6   jp_sales         16444 non-null  float64\n",
      " 7   other_sales      16444 non-null  float64\n",
      " 8   critic_score     7983 non-null   float64\n",
      " 9   user_score       7463 non-null   float64\n",
      " 10  rating           9768 non-null   object \n",
      "dtypes: float64(6), int64(1), object(4)\n",
      "memory usage: 1.4+ MB\n"
     ]
    }
   ],
   "source": [
    "df.info()"
   ]
  },
  {
   "cell_type": "markdown",
   "metadata": {},
   "source": [
    "Неявный дубликат был выявлен и удалён."
   ]
  },
  {
   "cell_type": "markdown",
   "metadata": {},
   "source": [
    "### Суммарные продажи во всех регионах:"
   ]
  },
  {
   "cell_type": "code",
   "execution_count": 18,
   "metadata": {},
   "outputs": [
    {
     "data": {
      "text/html": [
       "<div>\n",
       "<style scoped>\n",
       "    .dataframe tbody tr th:only-of-type {\n",
       "        vertical-align: middle;\n",
       "    }\n",
       "\n",
       "    .dataframe tbody tr th {\n",
       "        vertical-align: top;\n",
       "    }\n",
       "\n",
       "    .dataframe thead th {\n",
       "        text-align: right;\n",
       "    }\n",
       "</style>\n",
       "<table border=\"1\" class=\"dataframe\">\n",
       "  <thead>\n",
       "    <tr style=\"text-align: right;\">\n",
       "      <th></th>\n",
       "      <th>name</th>\n",
       "      <th>platform</th>\n",
       "      <th>year_of_release</th>\n",
       "      <th>genre</th>\n",
       "      <th>na_sales</th>\n",
       "      <th>eu_sales</th>\n",
       "      <th>jp_sales</th>\n",
       "      <th>other_sales</th>\n",
       "      <th>critic_score</th>\n",
       "      <th>user_score</th>\n",
       "      <th>rating</th>\n",
       "      <th>total_sales</th>\n",
       "    </tr>\n",
       "  </thead>\n",
       "  <tbody>\n",
       "    <tr>\n",
       "      <th>0</th>\n",
       "      <td>Wii Sports</td>\n",
       "      <td>Wii</td>\n",
       "      <td>2006</td>\n",
       "      <td>Sports</td>\n",
       "      <td>41.36</td>\n",
       "      <td>28.96</td>\n",
       "      <td>3.77</td>\n",
       "      <td>8.45</td>\n",
       "      <td>76.0</td>\n",
       "      <td>8.0</td>\n",
       "      <td>E</td>\n",
       "      <td>82.54</td>\n",
       "    </tr>\n",
       "    <tr>\n",
       "      <th>1</th>\n",
       "      <td>Super Mario Bros.</td>\n",
       "      <td>NES</td>\n",
       "      <td>1985</td>\n",
       "      <td>Platform</td>\n",
       "      <td>29.08</td>\n",
       "      <td>3.58</td>\n",
       "      <td>6.81</td>\n",
       "      <td>0.77</td>\n",
       "      <td>NaN</td>\n",
       "      <td>NaN</td>\n",
       "      <td>NaN</td>\n",
       "      <td>40.24</td>\n",
       "    </tr>\n",
       "    <tr>\n",
       "      <th>2</th>\n",
       "      <td>Mario Kart Wii</td>\n",
       "      <td>Wii</td>\n",
       "      <td>2008</td>\n",
       "      <td>Racing</td>\n",
       "      <td>15.68</td>\n",
       "      <td>12.76</td>\n",
       "      <td>3.79</td>\n",
       "      <td>3.29</td>\n",
       "      <td>82.0</td>\n",
       "      <td>8.3</td>\n",
       "      <td>E</td>\n",
       "      <td>35.52</td>\n",
       "    </tr>\n",
       "    <tr>\n",
       "      <th>3</th>\n",
       "      <td>Wii Sports Resort</td>\n",
       "      <td>Wii</td>\n",
       "      <td>2009</td>\n",
       "      <td>Sports</td>\n",
       "      <td>15.61</td>\n",
       "      <td>10.93</td>\n",
       "      <td>3.28</td>\n",
       "      <td>2.95</td>\n",
       "      <td>80.0</td>\n",
       "      <td>8.0</td>\n",
       "      <td>E</td>\n",
       "      <td>32.77</td>\n",
       "    </tr>\n",
       "    <tr>\n",
       "      <th>4</th>\n",
       "      <td>Pokemon Red/Pokemon Blue</td>\n",
       "      <td>GB</td>\n",
       "      <td>1996</td>\n",
       "      <td>Role-Playing</td>\n",
       "      <td>11.27</td>\n",
       "      <td>8.89</td>\n",
       "      <td>10.22</td>\n",
       "      <td>1.00</td>\n",
       "      <td>NaN</td>\n",
       "      <td>NaN</td>\n",
       "      <td>NaN</td>\n",
       "      <td>31.38</td>\n",
       "    </tr>\n",
       "  </tbody>\n",
       "</table>\n",
       "</div>"
      ],
      "text/plain": [
       "                       name platform  year_of_release         genre  na_sales  \\\n",
       "0                Wii Sports      Wii             2006        Sports     41.36   \n",
       "1         Super Mario Bros.      NES             1985      Platform     29.08   \n",
       "2            Mario Kart Wii      Wii             2008        Racing     15.68   \n",
       "3         Wii Sports Resort      Wii             2009        Sports     15.61   \n",
       "4  Pokemon Red/Pokemon Blue       GB             1996  Role-Playing     11.27   \n",
       "\n",
       "   eu_sales  jp_sales  other_sales  critic_score  user_score rating  \\\n",
       "0     28.96      3.77         8.45          76.0         8.0      E   \n",
       "1      3.58      6.81         0.77           NaN         NaN    NaN   \n",
       "2     12.76      3.79         3.29          82.0         8.3      E   \n",
       "3     10.93      3.28         2.95          80.0         8.0      E   \n",
       "4      8.89     10.22         1.00           NaN         NaN    NaN   \n",
       "\n",
       "   total_sales  \n",
       "0        82.54  \n",
       "1        40.24  \n",
       "2        35.52  \n",
       "3        32.77  \n",
       "4        31.38  "
      ]
     },
     "execution_count": 18,
     "metadata": {},
     "output_type": "execute_result"
    }
   ],
   "source": [
    "df['total_sales'] = df['na_sales'] + df['eu_sales'] + df['jp_sales'] + df['other_sales']\n",
    "\n",
    "df.head()"
   ]
  },
  {
   "cell_type": "code",
   "execution_count": 19,
   "metadata": {},
   "outputs": [
    {
     "name": "stdout",
     "output_type": "stream",
     "text": [
      "<class 'pandas.core.frame.DataFrame'>\n",
      "RangeIndex: 16444 entries, 0 to 16443\n",
      "Data columns (total 12 columns):\n",
      " #   Column           Non-Null Count  Dtype  \n",
      "---  ------           --------------  -----  \n",
      " 0   name             16444 non-null  object \n",
      " 1   platform         16444 non-null  object \n",
      " 2   year_of_release  16444 non-null  int64  \n",
      " 3   genre            16444 non-null  object \n",
      " 4   na_sales         16444 non-null  float64\n",
      " 5   eu_sales         16444 non-null  float64\n",
      " 6   jp_sales         16444 non-null  float64\n",
      " 7   other_sales      16444 non-null  float64\n",
      " 8   critic_score     7983 non-null   float64\n",
      " 9   user_score       7463 non-null   float64\n",
      " 10  rating           9768 non-null   object \n",
      " 11  total_sales      16444 non-null  float64\n",
      "dtypes: float64(7), int64(1), object(4)\n",
      "memory usage: 1.5+ MB\n"
     ]
    }
   ],
   "source": [
    "df.info()"
   ]
  },
  {
   "cell_type": "markdown",
   "metadata": {},
   "source": [
    "Я добавил в датафрейм столбец `total_sales`, в котором суммируются значения из столбцов `na_sales`, `eu_sales`, `jp_sales` и `other_sales`."
   ]
  },
  {
   "cell_type": "markdown",
   "metadata": {},
   "source": [
    "## Шаг 3. Проведение исследовательского анализа данных:"
   ]
  },
  {
   "cell_type": "markdown",
   "metadata": {},
   "source": [
    "### Сколько игр выпускалось в разные годы. Важны ли данные за все периоды?"
   ]
  },
  {
   "cell_type": "code",
   "execution_count": 20,
   "metadata": {},
   "outputs": [
    {
     "data": {
      "image/png": "[encoded data removed]",
      "text/plain": [
       "<Figure size 1008x432 with 1 Axes>"
      ]
     },
     "metadata": {
      "needs_background": "light"
     },
     "output_type": "display_data"
    }
   ],
   "source": [
    "game_in_year = df.groupby('year_of_release')['name'].count()\n",
    "\n",
    "plt.title('Количество проданных игр в разные годы')\n",
    "plt.ylabel('Количество суммарных продаж')\n",
    "game_in_year.plot( style='o--', grid=True, figsize=(14,6), color='red');"
   ]
  },
  {
   "cell_type": "markdown",
   "metadata": {},
   "source": [
    "До 2009 года количество выпущенных за год игр по большей части росло, после чего начало падать. Считаю важными данные с 2013 года."
   ]
  },
  {
   "cell_type": "markdown",
   "metadata": {},
   "source": [
    "### Как менялись продажи по платформам. Выбор платформы с наибольшими суммарными продажами и построение распределения по годам. \n"
   ]
  },
  {
   "cell_type": "code",
   "execution_count": 21,
   "metadata": {},
   "outputs": [
    {
     "data": {
      "text/plain": [
       "platform\n",
       "PS2     1233.56\n",
       "X360     961.24\n",
       "PS3      931.34\n",
       "Wii      891.18\n",
       "DS       802.78\n",
       "PS       727.58\n",
       "PS4      314.14\n",
       "GBA      312.88\n",
       "PSP      289.53\n",
       "3DS      257.81\n",
       "PC       255.76\n",
       "GB       254.43\n",
       "XB       251.57\n",
       "NES      251.05\n",
       "N64      218.01\n",
       "SNES     200.04\n",
       "GC       196.73\n",
       "XOne     159.32\n",
       "2600      86.48\n",
       "WiiU      82.19\n",
       "PSV       53.81\n",
       "SAT       33.59\n",
       "GEN       28.35\n",
       "DC        15.95\n",
       "SCD        1.86\n",
       "NG         1.44\n",
       "WS         1.42\n",
       "TG16       0.16\n",
       "3DO        0.10\n",
       "GG         0.04\n",
       "PCFX       0.03\n",
       "Name: total_sales, dtype: float64"
      ]
     },
     "execution_count": 21,
     "metadata": {},
     "output_type": "execute_result"
    }
   ],
   "source": [
    "platform_total_sales = df.groupby('platform').agg({'total_sales':'sum'})\n",
    "platform_total_sales['total_sales'].sort_values(ascending=False)"
   ]
  },
  {
   "cell_type": "markdown",
   "metadata": {},
   "source": [
    "Посчитал суммарные продажи по всем платформа."
   ]
  },
  {
   "cell_type": "code",
   "execution_count": 22,
   "metadata": {},
   "outputs": [
    {
     "data": {
      "text/plain": [
       "Index(['DS', 'PS', 'PS2', 'PS3', 'PS4', 'Wii', 'X360'], dtype='object', name='platform')"
      ]
     },
     "execution_count": 22,
     "metadata": {},
     "output_type": "execute_result"
    }
   ],
   "source": [
    "successful_platform = platform_total_sales[platform_total_sales['total_sales'] > 314].index\n",
    "successful_platform"
   ]
  },
  {
   "cell_type": "markdown",
   "metadata": {},
   "source": [
    "Исходя из суммарных продаж для всех платформ, выбрал те, которые посчитал успешными и удобными для построения распределения по годам."
   ]
  },
  {
   "cell_type": "code",
   "execution_count": 23,
   "metadata": {},
   "outputs": [
    {
     "data": {
      "text/html": [
       "<div>\n",
       "<style scoped>\n",
       "    .dataframe tbody tr th:only-of-type {\n",
       "        vertical-align: middle;\n",
       "    }\n",
       "\n",
       "    .dataframe tbody tr th {\n",
       "        vertical-align: top;\n",
       "    }\n",
       "\n",
       "    .dataframe thead th {\n",
       "        text-align: right;\n",
       "    }\n",
       "</style>\n",
       "<table border=\"1\" class=\"dataframe\">\n",
       "  <thead>\n",
       "    <tr style=\"text-align: right;\">\n",
       "      <th></th>\n",
       "      <th>name</th>\n",
       "      <th>platform</th>\n",
       "      <th>year_of_release</th>\n",
       "      <th>genre</th>\n",
       "      <th>na_sales</th>\n",
       "      <th>eu_sales</th>\n",
       "      <th>jp_sales</th>\n",
       "      <th>other_sales</th>\n",
       "      <th>critic_score</th>\n",
       "      <th>user_score</th>\n",
       "      <th>rating</th>\n",
       "      <th>total_sales</th>\n",
       "    </tr>\n",
       "  </thead>\n",
       "  <tbody>\n",
       "    <tr>\n",
       "      <th>0</th>\n",
       "      <td>Wii Sports</td>\n",
       "      <td>Wii</td>\n",
       "      <td>2006</td>\n",
       "      <td>Sports</td>\n",
       "      <td>41.36</td>\n",
       "      <td>28.96</td>\n",
       "      <td>3.77</td>\n",
       "      <td>8.45</td>\n",
       "      <td>76.0</td>\n",
       "      <td>8.0</td>\n",
       "      <td>E</td>\n",
       "      <td>82.54</td>\n",
       "    </tr>\n",
       "    <tr>\n",
       "      <th>1</th>\n",
       "      <td>Mario Kart Wii</td>\n",
       "      <td>Wii</td>\n",
       "      <td>2008</td>\n",
       "      <td>Racing</td>\n",
       "      <td>15.68</td>\n",
       "      <td>12.76</td>\n",
       "      <td>3.79</td>\n",
       "      <td>3.29</td>\n",
       "      <td>82.0</td>\n",
       "      <td>8.3</td>\n",
       "      <td>E</td>\n",
       "      <td>35.52</td>\n",
       "    </tr>\n",
       "    <tr>\n",
       "      <th>2</th>\n",
       "      <td>Wii Sports Resort</td>\n",
       "      <td>Wii</td>\n",
       "      <td>2009</td>\n",
       "      <td>Sports</td>\n",
       "      <td>15.61</td>\n",
       "      <td>10.93</td>\n",
       "      <td>3.28</td>\n",
       "      <td>2.95</td>\n",
       "      <td>80.0</td>\n",
       "      <td>8.0</td>\n",
       "      <td>E</td>\n",
       "      <td>32.77</td>\n",
       "    </tr>\n",
       "    <tr>\n",
       "      <th>3</th>\n",
       "      <td>New Super Mario Bros.</td>\n",
       "      <td>DS</td>\n",
       "      <td>2006</td>\n",
       "      <td>Platform</td>\n",
       "      <td>11.28</td>\n",
       "      <td>9.14</td>\n",
       "      <td>6.50</td>\n",
       "      <td>2.88</td>\n",
       "      <td>89.0</td>\n",
       "      <td>8.5</td>\n",
       "      <td>E</td>\n",
       "      <td>29.80</td>\n",
       "    </tr>\n",
       "    <tr>\n",
       "      <th>4</th>\n",
       "      <td>Wii Play</td>\n",
       "      <td>Wii</td>\n",
       "      <td>2006</td>\n",
       "      <td>Misc</td>\n",
       "      <td>13.96</td>\n",
       "      <td>9.18</td>\n",
       "      <td>2.93</td>\n",
       "      <td>2.84</td>\n",
       "      <td>58.0</td>\n",
       "      <td>6.6</td>\n",
       "      <td>E</td>\n",
       "      <td>28.91</td>\n",
       "    </tr>\n",
       "    <tr>\n",
       "      <th>...</th>\n",
       "      <td>...</td>\n",
       "      <td>...</td>\n",
       "      <td>...</td>\n",
       "      <td>...</td>\n",
       "      <td>...</td>\n",
       "      <td>...</td>\n",
       "      <td>...</td>\n",
       "      <td>...</td>\n",
       "      <td>...</td>\n",
       "      <td>...</td>\n",
       "      <td>...</td>\n",
       "      <td>...</td>\n",
       "    </tr>\n",
       "    <tr>\n",
       "      <th>9649</th>\n",
       "      <td>Mezase!! Tsuri Master DS</td>\n",
       "      <td>DS</td>\n",
       "      <td>2009</td>\n",
       "      <td>Sports</td>\n",
       "      <td>0.00</td>\n",
       "      <td>0.00</td>\n",
       "      <td>0.01</td>\n",
       "      <td>0.00</td>\n",
       "      <td>NaN</td>\n",
       "      <td>NaN</td>\n",
       "      <td>NaN</td>\n",
       "      <td>0.01</td>\n",
       "    </tr>\n",
       "    <tr>\n",
       "      <th>9650</th>\n",
       "      <td>Plushees</td>\n",
       "      <td>DS</td>\n",
       "      <td>2008</td>\n",
       "      <td>Simulation</td>\n",
       "      <td>0.01</td>\n",
       "      <td>0.00</td>\n",
       "      <td>0.00</td>\n",
       "      <td>0.00</td>\n",
       "      <td>NaN</td>\n",
       "      <td>NaN</td>\n",
       "      <td>E</td>\n",
       "      <td>0.01</td>\n",
       "    </tr>\n",
       "    <tr>\n",
       "      <th>9651</th>\n",
       "      <td>SCORE International Baja 1000: The Official Game</td>\n",
       "      <td>PS2</td>\n",
       "      <td>2008</td>\n",
       "      <td>Racing</td>\n",
       "      <td>0.00</td>\n",
       "      <td>0.00</td>\n",
       "      <td>0.00</td>\n",
       "      <td>0.00</td>\n",
       "      <td>NaN</td>\n",
       "      <td>NaN</td>\n",
       "      <td>NaN</td>\n",
       "      <td>0.00</td>\n",
       "    </tr>\n",
       "    <tr>\n",
       "      <th>9652</th>\n",
       "      <td>Samurai Warriors: Sanada Maru</td>\n",
       "      <td>PS3</td>\n",
       "      <td>2016</td>\n",
       "      <td>Action</td>\n",
       "      <td>0.00</td>\n",
       "      <td>0.00</td>\n",
       "      <td>0.01</td>\n",
       "      <td>0.00</td>\n",
       "      <td>NaN</td>\n",
       "      <td>NaN</td>\n",
       "      <td>NaN</td>\n",
       "      <td>0.01</td>\n",
       "    </tr>\n",
       "    <tr>\n",
       "      <th>9653</th>\n",
       "      <td>LMA Manager 2007</td>\n",
       "      <td>X360</td>\n",
       "      <td>2006</td>\n",
       "      <td>Sports</td>\n",
       "      <td>0.00</td>\n",
       "      <td>0.01</td>\n",
       "      <td>0.00</td>\n",
       "      <td>0.00</td>\n",
       "      <td>NaN</td>\n",
       "      <td>NaN</td>\n",
       "      <td>NaN</td>\n",
       "      <td>0.01</td>\n",
       "    </tr>\n",
       "  </tbody>\n",
       "</table>\n",
       "<p>9654 rows × 12 columns</p>\n",
       "</div>"
      ],
      "text/plain": [
       "                                                  name platform  \\\n",
       "0                                           Wii Sports      Wii   \n",
       "1                                       Mario Kart Wii      Wii   \n",
       "2                                    Wii Sports Resort      Wii   \n",
       "3                                New Super Mario Bros.       DS   \n",
       "4                                             Wii Play      Wii   \n",
       "...                                                ...      ...   \n",
       "9649                          Mezase!! Tsuri Master DS       DS   \n",
       "9650                                          Plushees       DS   \n",
       "9651  SCORE International Baja 1000: The Official Game      PS2   \n",
       "9652                     Samurai Warriors: Sanada Maru      PS3   \n",
       "9653                                  LMA Manager 2007     X360   \n",
       "\n",
       "      year_of_release       genre  na_sales  eu_sales  jp_sales  other_sales  \\\n",
       "0                2006      Sports     41.36     28.96      3.77         8.45   \n",
       "1                2008      Racing     15.68     12.76      3.79         3.29   \n",
       "2                2009      Sports     15.61     10.93      3.28         2.95   \n",
       "3                2006    Platform     11.28      9.14      6.50         2.88   \n",
       "4                2006        Misc     13.96      9.18      2.93         2.84   \n",
       "...               ...         ...       ...       ...       ...          ...   \n",
       "9649             2009      Sports      0.00      0.00      0.01         0.00   \n",
       "9650             2008  Simulation      0.01      0.00      0.00         0.00   \n",
       "9651             2008      Racing      0.00      0.00      0.00         0.00   \n",
       "9652             2016      Action      0.00      0.00      0.01         0.00   \n",
       "9653             2006      Sports      0.00      0.01      0.00         0.00   \n",
       "\n",
       "      critic_score  user_score rating  total_sales  \n",
       "0             76.0         8.0      E        82.54  \n",
       "1             82.0         8.3      E        35.52  \n",
       "2             80.0         8.0      E        32.77  \n",
       "3             89.0         8.5      E        29.80  \n",
       "4             58.0         6.6      E        28.91  \n",
       "...            ...         ...    ...          ...  \n",
       "9649           NaN         NaN    NaN         0.01  \n",
       "9650           NaN         NaN      E         0.01  \n",
       "9651           NaN         NaN    NaN         0.00  \n",
       "9652           NaN         NaN    NaN         0.01  \n",
       "9653           NaN         NaN    NaN         0.01  \n",
       "\n",
       "[9654 rows x 12 columns]"
      ]
     },
     "execution_count": 23,
     "metadata": {},
     "output_type": "execute_result"
    }
   ],
   "source": [
    "df_success_platforms = df.query('platform in @successful_platform')\n",
    "df_success_platforms = df_success_platforms.reset_index(drop=True)\n",
    "df_success_platforms"
   ]
  },
  {
   "cell_type": "markdown",
   "metadata": {},
   "source": [
    "Выбрал только те строки, где в столбце `platform` указана одна из успешных платформ."
   ]
  },
  {
   "cell_type": "code",
   "execution_count": 24,
   "metadata": {},
   "outputs": [
    {
     "data": {
      "text/html": [
       "<div>\n",
       "<style scoped>\n",
       "    .dataframe tbody tr th:only-of-type {\n",
       "        vertical-align: middle;\n",
       "    }\n",
       "\n",
       "    .dataframe tbody tr th {\n",
       "        vertical-align: top;\n",
       "    }\n",
       "\n",
       "    .dataframe thead th {\n",
       "        text-align: right;\n",
       "    }\n",
       "</style>\n",
       "<table border=\"1\" class=\"dataframe\">\n",
       "  <thead>\n",
       "    <tr style=\"text-align: right;\">\n",
       "      <th>platform</th>\n",
       "      <th>year_of_release</th>\n",
       "      <th>DS</th>\n",
       "      <th>PS</th>\n",
       "      <th>PS2</th>\n",
       "      <th>PS3</th>\n",
       "      <th>PS4</th>\n",
       "      <th>Wii</th>\n",
       "      <th>X360</th>\n",
       "    </tr>\n",
       "  </thead>\n",
       "  <tbody>\n",
       "    <tr>\n",
       "      <th>0</th>\n",
       "      <td>1985</td>\n",
       "      <td>0.02</td>\n",
       "      <td>NaN</td>\n",
       "      <td>NaN</td>\n",
       "      <td>NaN</td>\n",
       "      <td>NaN</td>\n",
       "      <td>NaN</td>\n",
       "      <td>NaN</td>\n",
       "    </tr>\n",
       "    <tr>\n",
       "      <th>1</th>\n",
       "      <td>1994</td>\n",
       "      <td>NaN</td>\n",
       "      <td>6.03</td>\n",
       "      <td>NaN</td>\n",
       "      <td>NaN</td>\n",
       "      <td>NaN</td>\n",
       "      <td>NaN</td>\n",
       "      <td>NaN</td>\n",
       "    </tr>\n",
       "    <tr>\n",
       "      <th>2</th>\n",
       "      <td>1995</td>\n",
       "      <td>NaN</td>\n",
       "      <td>35.96</td>\n",
       "      <td>NaN</td>\n",
       "      <td>NaN</td>\n",
       "      <td>NaN</td>\n",
       "      <td>NaN</td>\n",
       "      <td>NaN</td>\n",
       "    </tr>\n",
       "    <tr>\n",
       "      <th>3</th>\n",
       "      <td>1996</td>\n",
       "      <td>NaN</td>\n",
       "      <td>94.70</td>\n",
       "      <td>NaN</td>\n",
       "      <td>NaN</td>\n",
       "      <td>NaN</td>\n",
       "      <td>NaN</td>\n",
       "      <td>NaN</td>\n",
       "    </tr>\n",
       "    <tr>\n",
       "      <th>4</th>\n",
       "      <td>1997</td>\n",
       "      <td>NaN</td>\n",
       "      <td>136.17</td>\n",
       "      <td>NaN</td>\n",
       "      <td>NaN</td>\n",
       "      <td>NaN</td>\n",
       "      <td>NaN</td>\n",
       "      <td>NaN</td>\n",
       "    </tr>\n",
       "    <tr>\n",
       "      <th>5</th>\n",
       "      <td>1998</td>\n",
       "      <td>NaN</td>\n",
       "      <td>169.49</td>\n",
       "      <td>NaN</td>\n",
       "      <td>NaN</td>\n",
       "      <td>NaN</td>\n",
       "      <td>NaN</td>\n",
       "      <td>NaN</td>\n",
       "    </tr>\n",
       "    <tr>\n",
       "      <th>6</th>\n",
       "      <td>1999</td>\n",
       "      <td>NaN</td>\n",
       "      <td>144.53</td>\n",
       "      <td>NaN</td>\n",
       "      <td>NaN</td>\n",
       "      <td>NaN</td>\n",
       "      <td>NaN</td>\n",
       "      <td>NaN</td>\n",
       "    </tr>\n",
       "    <tr>\n",
       "      <th>7</th>\n",
       "      <td>2000</td>\n",
       "      <td>NaN</td>\n",
       "      <td>96.37</td>\n",
       "      <td>39.17</td>\n",
       "      <td>NaN</td>\n",
       "      <td>NaN</td>\n",
       "      <td>NaN</td>\n",
       "      <td>NaN</td>\n",
       "    </tr>\n",
       "    <tr>\n",
       "      <th>8</th>\n",
       "      <td>2001</td>\n",
       "      <td>NaN</td>\n",
       "      <td>35.59</td>\n",
       "      <td>166.43</td>\n",
       "      <td>NaN</td>\n",
       "      <td>NaN</td>\n",
       "      <td>NaN</td>\n",
       "      <td>NaN</td>\n",
       "    </tr>\n",
       "    <tr>\n",
       "      <th>9</th>\n",
       "      <td>2002</td>\n",
       "      <td>NaN</td>\n",
       "      <td>6.67</td>\n",
       "      <td>205.38</td>\n",
       "      <td>NaN</td>\n",
       "      <td>NaN</td>\n",
       "      <td>NaN</td>\n",
       "      <td>NaN</td>\n",
       "    </tr>\n",
       "    <tr>\n",
       "      <th>10</th>\n",
       "      <td>2003</td>\n",
       "      <td>NaN</td>\n",
       "      <td>2.07</td>\n",
       "      <td>184.31</td>\n",
       "      <td>NaN</td>\n",
       "      <td>NaN</td>\n",
       "      <td>NaN</td>\n",
       "      <td>NaN</td>\n",
       "    </tr>\n",
       "    <tr>\n",
       "      <th>11</th>\n",
       "      <td>2004</td>\n",
       "      <td>17.27</td>\n",
       "      <td>NaN</td>\n",
       "      <td>211.81</td>\n",
       "      <td>NaN</td>\n",
       "      <td>NaN</td>\n",
       "      <td>NaN</td>\n",
       "      <td>NaN</td>\n",
       "    </tr>\n",
       "    <tr>\n",
       "      <th>12</th>\n",
       "      <td>2005</td>\n",
       "      <td>130.14</td>\n",
       "      <td>NaN</td>\n",
       "      <td>160.66</td>\n",
       "      <td>NaN</td>\n",
       "      <td>NaN</td>\n",
       "      <td>NaN</td>\n",
       "      <td>8.25</td>\n",
       "    </tr>\n",
       "    <tr>\n",
       "      <th>13</th>\n",
       "      <td>2006</td>\n",
       "      <td>119.81</td>\n",
       "      <td>NaN</td>\n",
       "      <td>103.42</td>\n",
       "      <td>20.96</td>\n",
       "      <td>NaN</td>\n",
       "      <td>137.15</td>\n",
       "      <td>51.62</td>\n",
       "    </tr>\n",
       "    <tr>\n",
       "      <th>14</th>\n",
       "      <td>2007</td>\n",
       "      <td>146.94</td>\n",
       "      <td>NaN</td>\n",
       "      <td>75.99</td>\n",
       "      <td>73.19</td>\n",
       "      <td>NaN</td>\n",
       "      <td>152.77</td>\n",
       "      <td>95.41</td>\n",
       "    </tr>\n",
       "    <tr>\n",
       "      <th>15</th>\n",
       "      <td>2008</td>\n",
       "      <td>145.31</td>\n",
       "      <td>NaN</td>\n",
       "      <td>53.90</td>\n",
       "      <td>118.52</td>\n",
       "      <td>NaN</td>\n",
       "      <td>171.32</td>\n",
       "      <td>135.26</td>\n",
       "    </tr>\n",
       "    <tr>\n",
       "      <th>16</th>\n",
       "      <td>2009</td>\n",
       "      <td>119.54</td>\n",
       "      <td>NaN</td>\n",
       "      <td>26.40</td>\n",
       "      <td>130.93</td>\n",
       "      <td>NaN</td>\n",
       "      <td>206.97</td>\n",
       "      <td>120.29</td>\n",
       "    </tr>\n",
       "    <tr>\n",
       "      <th>17</th>\n",
       "      <td>2010</td>\n",
       "      <td>85.02</td>\n",
       "      <td>NaN</td>\n",
       "      <td>5.64</td>\n",
       "      <td>142.17</td>\n",
       "      <td>NaN</td>\n",
       "      <td>127.95</td>\n",
       "      <td>170.03</td>\n",
       "    </tr>\n",
       "    <tr>\n",
       "      <th>18</th>\n",
       "      <td>2011</td>\n",
       "      <td>26.18</td>\n",
       "      <td>NaN</td>\n",
       "      <td>0.45</td>\n",
       "      <td>156.78</td>\n",
       "      <td>NaN</td>\n",
       "      <td>59.65</td>\n",
       "      <td>143.84</td>\n",
       "    </tr>\n",
       "    <tr>\n",
       "      <th>19</th>\n",
       "      <td>2012</td>\n",
       "      <td>11.01</td>\n",
       "      <td>NaN</td>\n",
       "      <td>NaN</td>\n",
       "      <td>107.36</td>\n",
       "      <td>NaN</td>\n",
       "      <td>21.71</td>\n",
       "      <td>99.74</td>\n",
       "    </tr>\n",
       "    <tr>\n",
       "      <th>20</th>\n",
       "      <td>2013</td>\n",
       "      <td>1.54</td>\n",
       "      <td>NaN</td>\n",
       "      <td>NaN</td>\n",
       "      <td>113.25</td>\n",
       "      <td>25.99</td>\n",
       "      <td>8.59</td>\n",
       "      <td>88.58</td>\n",
       "    </tr>\n",
       "    <tr>\n",
       "      <th>21</th>\n",
       "      <td>2014</td>\n",
       "      <td>NaN</td>\n",
       "      <td>NaN</td>\n",
       "      <td>NaN</td>\n",
       "      <td>47.76</td>\n",
       "      <td>100.00</td>\n",
       "      <td>3.75</td>\n",
       "      <td>34.74</td>\n",
       "    </tr>\n",
       "    <tr>\n",
       "      <th>22</th>\n",
       "      <td>2015</td>\n",
       "      <td>NaN</td>\n",
       "      <td>NaN</td>\n",
       "      <td>NaN</td>\n",
       "      <td>16.82</td>\n",
       "      <td>118.90</td>\n",
       "      <td>1.14</td>\n",
       "      <td>11.96</td>\n",
       "    </tr>\n",
       "    <tr>\n",
       "      <th>23</th>\n",
       "      <td>2016</td>\n",
       "      <td>NaN</td>\n",
       "      <td>NaN</td>\n",
       "      <td>NaN</td>\n",
       "      <td>3.60</td>\n",
       "      <td>69.25</td>\n",
       "      <td>0.18</td>\n",
       "      <td>1.52</td>\n",
       "    </tr>\n",
       "  </tbody>\n",
       "</table>\n",
       "</div>"
      ],
      "text/plain": [
       "platform  year_of_release      DS      PS     PS2     PS3     PS4     Wii  \\\n",
       "0                    1985    0.02     NaN     NaN     NaN     NaN     NaN   \n",
       "1                    1994     NaN    6.03     NaN     NaN     NaN     NaN   \n",
       "2                    1995     NaN   35.96     NaN     NaN     NaN     NaN   \n",
       "3                    1996     NaN   94.70     NaN     NaN     NaN     NaN   \n",
       "4                    1997     NaN  136.17     NaN     NaN     NaN     NaN   \n",
       "5                    1998     NaN  169.49     NaN     NaN     NaN     NaN   \n",
       "6                    1999     NaN  144.53     NaN     NaN     NaN     NaN   \n",
       "7                    2000     NaN   96.37   39.17     NaN     NaN     NaN   \n",
       "8                    2001     NaN   35.59  166.43     NaN     NaN     NaN   \n",
       "9                    2002     NaN    6.67  205.38     NaN     NaN     NaN   \n",
       "10                   2003     NaN    2.07  184.31     NaN     NaN     NaN   \n",
       "11                   2004   17.27     NaN  211.81     NaN     NaN     NaN   \n",
       "12                   2005  130.14     NaN  160.66     NaN     NaN     NaN   \n",
       "13                   2006  119.81     NaN  103.42   20.96     NaN  137.15   \n",
       "14                   2007  146.94     NaN   75.99   73.19     NaN  152.77   \n",
       "15                   2008  145.31     NaN   53.90  118.52     NaN  171.32   \n",
       "16                   2009  119.54     NaN   26.40  130.93     NaN  206.97   \n",
       "17                   2010   85.02     NaN    5.64  142.17     NaN  127.95   \n",
       "18                   2011   26.18     NaN    0.45  156.78     NaN   59.65   \n",
       "19                   2012   11.01     NaN     NaN  107.36     NaN   21.71   \n",
       "20                   2013    1.54     NaN     NaN  113.25   25.99    8.59   \n",
       "21                   2014     NaN     NaN     NaN   47.76  100.00    3.75   \n",
       "22                   2015     NaN     NaN     NaN   16.82  118.90    1.14   \n",
       "23                   2016     NaN     NaN     NaN    3.60   69.25    0.18   \n",
       "\n",
       "platform    X360  \n",
       "0            NaN  \n",
       "1            NaN  \n",
       "2            NaN  \n",
       "3            NaN  \n",
       "4            NaN  \n",
       "5            NaN  \n",
       "6            NaN  \n",
       "7            NaN  \n",
       "8            NaN  \n",
       "9            NaN  \n",
       "10           NaN  \n",
       "11           NaN  \n",
       "12          8.25  \n",
       "13         51.62  \n",
       "14         95.41  \n",
       "15        135.26  \n",
       "16        120.29  \n",
       "17        170.03  \n",
       "18        143.84  \n",
       "19         99.74  \n",
       "20         88.58  \n",
       "21         34.74  \n",
       "22         11.96  \n",
       "23          1.52  "
      ]
     },
     "execution_count": 24,
     "metadata": {},
     "output_type": "execute_result"
    }
   ],
   "source": [
    "df_pivot = df_success_platforms.pivot_table(index='year_of_release', columns='platform', values='total_sales', aggfunc='sum')\n",
    "df_pivot = df_pivot.reset_index()\n",
    "df_pivot"
   ]
  },
  {
   "cell_type": "markdown",
   "metadata": {},
   "source": [
    "Составил сводную таблицу, в которой указаны суммарные продажи по каждой успешной платформе в конкретный год."
   ]
  },
  {
   "cell_type": "code",
   "execution_count": 25,
   "metadata": {
    "scrolled": false
   },
   "outputs": [
    {
     "data": {
      "text/plain": [
       "Text(0.5, 0, 'Год')"
      ]
     },
     "execution_count": 25,
     "metadata": {},
     "output_type": "execute_result"
    },
    {
     "data": {
      "image/png": "[encoded data removed]",
      "text/plain": [
       "<Figure size 1800x648 with 1 Axes>"
      ]
     },
     "metadata": {
      "needs_background": "light"
     },
     "output_type": "display_data"
    }
   ],
   "source": [
    "\n",
    "df_pivot.query('year_of_release >= 1994').plot(x='year_of_release', y=successful_platform, style='o-', grid=True, figsize=(25,9));\n",
    "plt.title('Суммарные продажи по успешным платформам в разные годы', fontsize=15)\n",
    "plt.ylabel('Суммарные продажи', fontsize=15)\n",
    "plt.xlabel('Год', fontsize=15)"
   ]
  },
  {
   "cell_type": "markdown",
   "metadata": {},
   "source": [
    "По графикам видно, что платформы исчезают примерно через 10 лет после появления, а новые появляются примерно каждые 5-6 лет."
   ]
  },
  {
   "cell_type": "markdown",
   "metadata": {},
   "source": [
    "### Актуальный период"
   ]
  },
  {
   "cell_type": "code",
   "execution_count": 26,
   "metadata": {
    "scrolled": false
   },
   "outputs": [
    {
     "data": {
      "text/html": [
       "<div>\n",
       "<style scoped>\n",
       "    .dataframe tbody tr th:only-of-type {\n",
       "        vertical-align: middle;\n",
       "    }\n",
       "\n",
       "    .dataframe tbody tr th {\n",
       "        vertical-align: top;\n",
       "    }\n",
       "\n",
       "    .dataframe thead th {\n",
       "        text-align: right;\n",
       "    }\n",
       "</style>\n",
       "<table border=\"1\" class=\"dataframe\">\n",
       "  <thead>\n",
       "    <tr style=\"text-align: right;\">\n",
       "      <th></th>\n",
       "      <th>name</th>\n",
       "      <th>platform</th>\n",
       "      <th>year_of_release</th>\n",
       "      <th>genre</th>\n",
       "      <th>na_sales</th>\n",
       "      <th>eu_sales</th>\n",
       "      <th>jp_sales</th>\n",
       "      <th>other_sales</th>\n",
       "      <th>critic_score</th>\n",
       "      <th>user_score</th>\n",
       "      <th>rating</th>\n",
       "      <th>total_sales</th>\n",
       "    </tr>\n",
       "  </thead>\n",
       "  <tbody>\n",
       "    <tr>\n",
       "      <th>0</th>\n",
       "      <td>Grand Theft Auto V</td>\n",
       "      <td>PS3</td>\n",
       "      <td>2013</td>\n",
       "      <td>Action</td>\n",
       "      <td>7.02</td>\n",
       "      <td>9.09</td>\n",
       "      <td>0.98</td>\n",
       "      <td>3.96</td>\n",
       "      <td>97.0</td>\n",
       "      <td>8.2</td>\n",
       "      <td>M</td>\n",
       "      <td>21.05</td>\n",
       "    </tr>\n",
       "    <tr>\n",
       "      <th>1</th>\n",
       "      <td>Grand Theft Auto V</td>\n",
       "      <td>X360</td>\n",
       "      <td>2013</td>\n",
       "      <td>Action</td>\n",
       "      <td>9.66</td>\n",
       "      <td>5.14</td>\n",
       "      <td>0.06</td>\n",
       "      <td>1.41</td>\n",
       "      <td>97.0</td>\n",
       "      <td>8.1</td>\n",
       "      <td>M</td>\n",
       "      <td>16.27</td>\n",
       "    </tr>\n",
       "    <tr>\n",
       "      <th>2</th>\n",
       "      <td>Call of Duty: Black Ops 3</td>\n",
       "      <td>PS4</td>\n",
       "      <td>2015</td>\n",
       "      <td>Shooter</td>\n",
       "      <td>6.03</td>\n",
       "      <td>5.86</td>\n",
       "      <td>0.36</td>\n",
       "      <td>2.38</td>\n",
       "      <td>NaN</td>\n",
       "      <td>NaN</td>\n",
       "      <td>NaN</td>\n",
       "      <td>14.63</td>\n",
       "    </tr>\n",
       "    <tr>\n",
       "      <th>3</th>\n",
       "      <td>Pokemon X/Pokemon Y</td>\n",
       "      <td>3DS</td>\n",
       "      <td>2013</td>\n",
       "      <td>Role-Playing</td>\n",
       "      <td>5.28</td>\n",
       "      <td>4.19</td>\n",
       "      <td>4.35</td>\n",
       "      <td>0.78</td>\n",
       "      <td>NaN</td>\n",
       "      <td>NaN</td>\n",
       "      <td>NaN</td>\n",
       "      <td>14.60</td>\n",
       "    </tr>\n",
       "    <tr>\n",
       "      <th>4</th>\n",
       "      <td>Grand Theft Auto V</td>\n",
       "      <td>PS4</td>\n",
       "      <td>2014</td>\n",
       "      <td>Action</td>\n",
       "      <td>3.96</td>\n",
       "      <td>6.31</td>\n",
       "      <td>0.38</td>\n",
       "      <td>1.97</td>\n",
       "      <td>97.0</td>\n",
       "      <td>8.3</td>\n",
       "      <td>M</td>\n",
       "      <td>12.62</td>\n",
       "    </tr>\n",
       "    <tr>\n",
       "      <th>...</th>\n",
       "      <td>...</td>\n",
       "      <td>...</td>\n",
       "      <td>...</td>\n",
       "      <td>...</td>\n",
       "      <td>...</td>\n",
       "      <td>...</td>\n",
       "      <td>...</td>\n",
       "      <td>...</td>\n",
       "      <td>...</td>\n",
       "      <td>...</td>\n",
       "      <td>...</td>\n",
       "      <td>...</td>\n",
       "    </tr>\n",
       "    <tr>\n",
       "      <th>2228</th>\n",
       "      <td>Strawberry Nauts</td>\n",
       "      <td>PSV</td>\n",
       "      <td>2016</td>\n",
       "      <td>Adventure</td>\n",
       "      <td>0.00</td>\n",
       "      <td>0.00</td>\n",
       "      <td>0.01</td>\n",
       "      <td>0.00</td>\n",
       "      <td>NaN</td>\n",
       "      <td>NaN</td>\n",
       "      <td>NaN</td>\n",
       "      <td>0.01</td>\n",
       "    </tr>\n",
       "    <tr>\n",
       "      <th>2229</th>\n",
       "      <td>Aiyoku no Eustia</td>\n",
       "      <td>PSV</td>\n",
       "      <td>2014</td>\n",
       "      <td>Misc</td>\n",
       "      <td>0.00</td>\n",
       "      <td>0.00</td>\n",
       "      <td>0.01</td>\n",
       "      <td>0.00</td>\n",
       "      <td>NaN</td>\n",
       "      <td>NaN</td>\n",
       "      <td>NaN</td>\n",
       "      <td>0.01</td>\n",
       "    </tr>\n",
       "    <tr>\n",
       "      <th>2230</th>\n",
       "      <td>Samurai Warriors: Sanada Maru</td>\n",
       "      <td>PS3</td>\n",
       "      <td>2016</td>\n",
       "      <td>Action</td>\n",
       "      <td>0.00</td>\n",
       "      <td>0.00</td>\n",
       "      <td>0.01</td>\n",
       "      <td>0.00</td>\n",
       "      <td>NaN</td>\n",
       "      <td>NaN</td>\n",
       "      <td>NaN</td>\n",
       "      <td>0.01</td>\n",
       "    </tr>\n",
       "    <tr>\n",
       "      <th>2231</th>\n",
       "      <td>Haitaka no Psychedelica</td>\n",
       "      <td>PSV</td>\n",
       "      <td>2016</td>\n",
       "      <td>Adventure</td>\n",
       "      <td>0.00</td>\n",
       "      <td>0.00</td>\n",
       "      <td>0.01</td>\n",
       "      <td>0.00</td>\n",
       "      <td>NaN</td>\n",
       "      <td>NaN</td>\n",
       "      <td>NaN</td>\n",
       "      <td>0.01</td>\n",
       "    </tr>\n",
       "    <tr>\n",
       "      <th>2232</th>\n",
       "      <td>Winning Post 8 2016</td>\n",
       "      <td>PSV</td>\n",
       "      <td>2016</td>\n",
       "      <td>Simulation</td>\n",
       "      <td>0.00</td>\n",
       "      <td>0.00</td>\n",
       "      <td>0.01</td>\n",
       "      <td>0.00</td>\n",
       "      <td>NaN</td>\n",
       "      <td>NaN</td>\n",
       "      <td>NaN</td>\n",
       "      <td>0.01</td>\n",
       "    </tr>\n",
       "  </tbody>\n",
       "</table>\n",
       "<p>2233 rows × 12 columns</p>\n",
       "</div>"
      ],
      "text/plain": [
       "                               name platform  year_of_release         genre  \\\n",
       "0                Grand Theft Auto V      PS3             2013        Action   \n",
       "1                Grand Theft Auto V     X360             2013        Action   \n",
       "2         Call of Duty: Black Ops 3      PS4             2015       Shooter   \n",
       "3               Pokemon X/Pokemon Y      3DS             2013  Role-Playing   \n",
       "4                Grand Theft Auto V      PS4             2014        Action   \n",
       "...                             ...      ...              ...           ...   \n",
       "2228               Strawberry Nauts      PSV             2016     Adventure   \n",
       "2229               Aiyoku no Eustia      PSV             2014          Misc   \n",
       "2230  Samurai Warriors: Sanada Maru      PS3             2016        Action   \n",
       "2231        Haitaka no Psychedelica      PSV             2016     Adventure   \n",
       "2232            Winning Post 8 2016      PSV             2016    Simulation   \n",
       "\n",
       "      na_sales  eu_sales  jp_sales  other_sales  critic_score  user_score  \\\n",
       "0         7.02      9.09      0.98         3.96          97.0         8.2   \n",
       "1         9.66      5.14      0.06         1.41          97.0         8.1   \n",
       "2         6.03      5.86      0.36         2.38           NaN         NaN   \n",
       "3         5.28      4.19      4.35         0.78           NaN         NaN   \n",
       "4         3.96      6.31      0.38         1.97          97.0         8.3   \n",
       "...        ...       ...       ...          ...           ...         ...   \n",
       "2228      0.00      0.00      0.01         0.00           NaN         NaN   \n",
       "2229      0.00      0.00      0.01         0.00           NaN         NaN   \n",
       "2230      0.00      0.00      0.01         0.00           NaN         NaN   \n",
       "2231      0.00      0.00      0.01         0.00           NaN         NaN   \n",
       "2232      0.00      0.00      0.01         0.00           NaN         NaN   \n",
       "\n",
       "     rating  total_sales  \n",
       "0         M        21.05  \n",
       "1         M        16.27  \n",
       "2       NaN        14.63  \n",
       "3       NaN        14.60  \n",
       "4         M        12.62  \n",
       "...     ...          ...  \n",
       "2228    NaN         0.01  \n",
       "2229    NaN         0.01  \n",
       "2230    NaN         0.01  \n",
       "2231    NaN         0.01  \n",
       "2232    NaN         0.01  \n",
       "\n",
       "[2233 rows x 12 columns]"
      ]
     },
     "execution_count": 26,
     "metadata": {},
     "output_type": "execute_result"
    }
   ],
   "source": [
    "actual_df = df.query('year_of_release >= 2013')\n",
    "actual_df = actual_df.reset_index(drop=True)\n",
    "actual_df"
   ]
  },
  {
   "cell_type": "code",
   "execution_count": 27,
   "metadata": {
    "scrolled": true
   },
   "outputs": [
    {
     "name": "stdout",
     "output_type": "stream",
     "text": [
      "<class 'pandas.core.frame.DataFrame'>\n",
      "RangeIndex: 2233 entries, 0 to 2232\n",
      "Data columns (total 12 columns):\n",
      " #   Column           Non-Null Count  Dtype  \n",
      "---  ------           --------------  -----  \n",
      " 0   name             2233 non-null   object \n",
      " 1   platform         2233 non-null   object \n",
      " 2   year_of_release  2233 non-null   int64  \n",
      " 3   genre            2233 non-null   object \n",
      " 4   na_sales         2233 non-null   float64\n",
      " 5   eu_sales         2233 non-null   float64\n",
      " 6   jp_sales         2233 non-null   float64\n",
      " 7   other_sales      2233 non-null   float64\n",
      " 8   critic_score     991 non-null    float64\n",
      " 9   user_score       1192 non-null   float64\n",
      " 10  rating           1256 non-null   object \n",
      " 11  total_sales      2233 non-null   float64\n",
      "dtypes: float64(7), int64(1), object(4)\n",
      "memory usage: 209.5+ KB\n"
     ]
    }
   ],
   "source": [
    "actual_df.info()"
   ]
  },
  {
   "cell_type": "code",
   "execution_count": 28,
   "metadata": {},
   "outputs": [],
   "source": [
    "actual_df['rating'] = actual_df['rating'].fillna('Nan')"
   ]
  },
  {
   "cell_type": "markdown",
   "metadata": {},
   "source": [
    "Я взял данные за актуальный период (с 2013 года). Заполнил пропуски в столбце `rating` строкой 'Nan'."
   ]
  },
  {
   "cell_type": "markdown",
   "metadata": {},
   "source": [
    "### Какие платформы лидируют по продажам, растут или падают? "
   ]
  },
  {
   "cell_type": "code",
   "execution_count": 29,
   "metadata": {},
   "outputs": [
    {
     "data": {
      "text/plain": [
       "platform\n",
       "PS4     314.14\n",
       "PS3     181.43\n",
       "XOne    159.32\n",
       "3DS     143.25\n",
       "X360    136.80\n",
       "WiiU     64.63\n",
       "PC       39.43\n",
       "PSV      32.99\n",
       "Wii      13.66\n",
       "PSP       3.50\n",
       "DS        1.54\n",
       "Name: total_sales, dtype: float64"
      ]
     },
     "execution_count": 29,
     "metadata": {},
     "output_type": "execute_result"
    }
   ],
   "source": [
    "actual_df_platform = actual_df.groupby('platform').agg({'total_sales':'sum'})\n",
    "actual_df_platform['total_sales'].sort_values(ascending=False)"
   ]
  },
  {
   "cell_type": "code",
   "execution_count": 30,
   "metadata": {},
   "outputs": [
    {
     "data": {
      "text/plain": [
       "Index(['3DS', 'PS3', 'PS4', 'X360', 'XOne'], dtype='object', name='platform')"
      ]
     },
     "execution_count": 30,
     "metadata": {},
     "output_type": "execute_result"
    }
   ],
   "source": [
    "top_platform = actual_df_platform[actual_df_platform['total_sales'] > 100].index\n",
    "top_platform"
   ]
  },
  {
   "cell_type": "markdown",
   "metadata": {},
   "source": [
    "За выбранный период (с 2013 года) по продажам лидируют `3DS`, `PS3`, `PS4`, `Wii`, `X360`."
   ]
  },
  {
   "cell_type": "code",
   "execution_count": 31,
   "metadata": {
    "scrolled": false
   },
   "outputs": [
    {
     "data": {
      "image/png": "[encoded data removed]",
      "text/plain": [
       "<Figure size 1800x648 with 1 Axes>"
      ]
     },
     "metadata": {
      "needs_background": "light"
     },
     "output_type": "display_data"
    }
   ],
   "source": [
    "df_actual_pivot = actual_df.query('platform in @top_platform').pivot_table(index='year_of_release', columns='platform', values='total_sales', aggfunc='sum')\n",
    "df_actual_pivot = df_actual_pivot.reset_index()\n",
    "df_actual_pivot.plot(x='year_of_release', y=top_platform, style='o-', grid=True, figsize=(25,9));\n",
    "plt.title('Суммарные продажи по успешным платформам в актуалньый период', fontsize=15)\n",
    "plt.ylabel('Суммарные продажи', fontsize=15)\n",
    "plt.xlabel('Год', fontsize=15);"
   ]
  },
  {
   "cell_type": "markdown",
   "metadata": {},
   "source": [
    "Продажи всех платформ к 2016 году падают. Потенциально прибыльными в 2017 году можно назвать `3DS`, `XOne`, `PS4`."
   ]
  },
  {
   "cell_type": "code",
   "execution_count": 32,
   "metadata": {
    "scrolled": true
   },
   "outputs": [
    {
     "data": {
      "image/png": "[encoded data removed]",
      "text/plain": [
       "<Figure size 1800x648 with 1 Axes>"
      ]
     },
     "metadata": {
      "needs_background": "light"
     },
     "output_type": "display_data"
    }
   ],
   "source": [
    "df_actual_pivot.plot(kind='box', y=top_platform, style='o-', grid=True, figsize=(25,9));\n",
    "plt.title('Распределение глобальных продаж по успешным платформам', fontsize=15)\n",
    "plt.ylabel('Глобальные продажи', fontsize=15)\n",
    "plt.xlabel('Платформы', fontsize=15);"
   ]
  },
  {
   "cell_type": "markdown",
   "metadata": {},
   "source": [
    "Медианы глобальных продаж почти по всем платформам лежат между 20 и 40. Сильно выбивается `PS4`, медиана которой больше 80."
   ]
  },
  {
   "cell_type": "markdown",
   "metadata": {},
   "source": [
    "### Как влияют на продажи внутри одной популярной платформы отзывы пользователей и критиков."
   ]
  },
  {
   "cell_type": "code",
   "execution_count": 33,
   "metadata": {},
   "outputs": [
    {
     "data": {
      "image/png": "[encoded data removed]",
      "text/plain": [
       "<Figure size 432x288 with 1 Axes>"
      ]
     },
     "metadata": {
      "needs_background": "light"
     },
     "output_type": "display_data"
    }
   ],
   "source": [
    "actual_df.query('platform == \"PS4\"').plot(x='user_score', y='total_sales', kind='scatter', alpha=0.3);\n",
    "plt.title('Зависимость продаж от пользовательской оценки для PS4');"
   ]
  },
  {
   "cell_type": "code",
   "execution_count": 34,
   "metadata": {
    "scrolled": false
   },
   "outputs": [
    {
     "data": {
      "image/png": "[encoded data removed]",
      "text/plain": [
       "<Figure size 432x288 with 1 Axes>"
      ]
     },
     "metadata": {
      "needs_background": "light"
     },
     "output_type": "display_data"
    }
   ],
   "source": [
    "actual_df.query('platform == \"PS4\"').plot(x='user_score', y='total_sales', ylim=(-0,4), kind='scatter', alpha=0.3);\n",
    "plt.title('Зависимость продаж от пользовательской оценки для PS4');"
   ]
  },
  {
   "cell_type": "markdown",
   "metadata": {},
   "source": [
    "В общем, с увеличением оценки пользователей растёт и количество игр на PS4 с более высоким значением `total_sales`."
   ]
  },
  {
   "cell_type": "code",
   "execution_count": 35,
   "metadata": {},
   "outputs": [
    {
     "data": {
      "image/png": "[encoded data removed]",
      "text/plain": [
       "<Figure size 432x288 with 1 Axes>"
      ]
     },
     "metadata": {
      "needs_background": "light"
     },
     "output_type": "display_data"
    }
   ],
   "source": [
    "actual_df.query('platform == \"PS4\"').plot(x='critic_score', y='total_sales', kind='scatter', alpha=0.3);\n",
    "plt.title('Зависимость продаж от оценки критиков для PS4');"
   ]
  },
  {
   "cell_type": "markdown",
   "metadata": {},
   "source": [
    "В случае с оценками критиков зависимость более чёткая. Видно, что они не линейная, но всё-же, по большей части, чем выше оценка, тем выше сборы."
   ]
  },
  {
   "cell_type": "code",
   "execution_count": 36,
   "metadata": {},
   "outputs": [
    {
     "data": {
      "text/html": [
       "<div>\n",
       "<style scoped>\n",
       "    .dataframe tbody tr th:only-of-type {\n",
       "        vertical-align: middle;\n",
       "    }\n",
       "\n",
       "    .dataframe tbody tr th {\n",
       "        vertical-align: top;\n",
       "    }\n",
       "\n",
       "    .dataframe thead th {\n",
       "        text-align: right;\n",
       "    }\n",
       "</style>\n",
       "<table border=\"1\" class=\"dataframe\">\n",
       "  <thead>\n",
       "    <tr style=\"text-align: right;\">\n",
       "      <th></th>\n",
       "      <th>year_of_release</th>\n",
       "      <th>na_sales</th>\n",
       "      <th>eu_sales</th>\n",
       "      <th>jp_sales</th>\n",
       "      <th>other_sales</th>\n",
       "      <th>critic_score</th>\n",
       "      <th>user_score</th>\n",
       "      <th>total_sales</th>\n",
       "    </tr>\n",
       "  </thead>\n",
       "  <tbody>\n",
       "    <tr>\n",
       "      <th>year_of_release</th>\n",
       "      <td>1.000000</td>\n",
       "      <td>-0.248961</td>\n",
       "      <td>-0.208306</td>\n",
       "      <td>-0.060993</td>\n",
       "      <td>-0.234796</td>\n",
       "      <td>-0.021142</td>\n",
       "      <td>0.152447</td>\n",
       "      <td>-0.235032</td>\n",
       "    </tr>\n",
       "    <tr>\n",
       "      <th>na_sales</th>\n",
       "      <td>-0.248961</td>\n",
       "      <td>1.000000</td>\n",
       "      <td>0.785362</td>\n",
       "      <td>0.472981</td>\n",
       "      <td>0.944259</td>\n",
       "      <td>0.415008</td>\n",
       "      <td>-0.020933</td>\n",
       "      <td>0.928160</td>\n",
       "    </tr>\n",
       "    <tr>\n",
       "      <th>eu_sales</th>\n",
       "      <td>-0.208306</td>\n",
       "      <td>0.785362</td>\n",
       "      <td>1.000000</td>\n",
       "      <td>0.464563</td>\n",
       "      <td>0.944698</td>\n",
       "      <td>0.346720</td>\n",
       "      <td>-0.048925</td>\n",
       "      <td>0.958157</td>\n",
       "    </tr>\n",
       "    <tr>\n",
       "      <th>jp_sales</th>\n",
       "      <td>-0.060993</td>\n",
       "      <td>0.472981</td>\n",
       "      <td>0.464563</td>\n",
       "      <td>1.000000</td>\n",
       "      <td>0.496467</td>\n",
       "      <td>0.322358</td>\n",
       "      <td>0.171332</td>\n",
       "      <td>0.527129</td>\n",
       "    </tr>\n",
       "    <tr>\n",
       "      <th>other_sales</th>\n",
       "      <td>-0.234796</td>\n",
       "      <td>0.944259</td>\n",
       "      <td>0.944698</td>\n",
       "      <td>0.496467</td>\n",
       "      <td>1.000000</td>\n",
       "      <td>0.409191</td>\n",
       "      <td>-0.035639</td>\n",
       "      <td>0.998051</td>\n",
       "    </tr>\n",
       "    <tr>\n",
       "      <th>critic_score</th>\n",
       "      <td>-0.021142</td>\n",
       "      <td>0.415008</td>\n",
       "      <td>0.346720</td>\n",
       "      <td>0.322358</td>\n",
       "      <td>0.409191</td>\n",
       "      <td>1.000000</td>\n",
       "      <td>0.557654</td>\n",
       "      <td>0.406568</td>\n",
       "    </tr>\n",
       "    <tr>\n",
       "      <th>user_score</th>\n",
       "      <td>0.152447</td>\n",
       "      <td>-0.020933</td>\n",
       "      <td>-0.048925</td>\n",
       "      <td>0.171332</td>\n",
       "      <td>-0.035639</td>\n",
       "      <td>0.557654</td>\n",
       "      <td>1.000000</td>\n",
       "      <td>-0.031957</td>\n",
       "    </tr>\n",
       "    <tr>\n",
       "      <th>total_sales</th>\n",
       "      <td>-0.235032</td>\n",
       "      <td>0.928160</td>\n",
       "      <td>0.958157</td>\n",
       "      <td>0.527129</td>\n",
       "      <td>0.998051</td>\n",
       "      <td>0.406568</td>\n",
       "      <td>-0.031957</td>\n",
       "      <td>1.000000</td>\n",
       "    </tr>\n",
       "  </tbody>\n",
       "</table>\n",
       "</div>"
      ],
      "text/plain": [
       "                 year_of_release  na_sales  eu_sales  jp_sales  other_sales  \\\n",
       "year_of_release         1.000000 -0.248961 -0.208306 -0.060993    -0.234796   \n",
       "na_sales               -0.248961  1.000000  0.785362  0.472981     0.944259   \n",
       "eu_sales               -0.208306  0.785362  1.000000  0.464563     0.944698   \n",
       "jp_sales               -0.060993  0.472981  0.464563  1.000000     0.496467   \n",
       "other_sales            -0.234796  0.944259  0.944698  0.496467     1.000000   \n",
       "critic_score           -0.021142  0.415008  0.346720  0.322358     0.409191   \n",
       "user_score              0.152447 -0.020933 -0.048925  0.171332    -0.035639   \n",
       "total_sales            -0.235032  0.928160  0.958157  0.527129     0.998051   \n",
       "\n",
       "                 critic_score  user_score  total_sales  \n",
       "year_of_release     -0.021142    0.152447    -0.235032  \n",
       "na_sales             0.415008   -0.020933     0.928160  \n",
       "eu_sales             0.346720   -0.048925     0.958157  \n",
       "jp_sales             0.322358    0.171332     0.527129  \n",
       "other_sales          0.409191   -0.035639     0.998051  \n",
       "critic_score         1.000000    0.557654     0.406568  \n",
       "user_score           0.557654    1.000000    -0.031957  \n",
       "total_sales          0.406568   -0.031957     1.000000  "
      ]
     },
     "execution_count": 36,
     "metadata": {},
     "output_type": "execute_result"
    }
   ],
   "source": [
    "actual_df.query('platform == \"PS4\"').corr()"
   ]
  },
  {
   "cell_type": "markdown",
   "metadata": {},
   "source": [
    "Судя по коэффициенту корреляции от отзывов критиков `total_sales` зависит куда больше, чем от отзывов пользователей."
   ]
  },
  {
   "cell_type": "markdown",
   "metadata": {},
   "source": [
    "### Соотнесите выводы с продажами игр на других платформах."
   ]
  },
  {
   "cell_type": "code",
   "execution_count": 37,
   "metadata": {},
   "outputs": [
    {
     "data": {
      "text/html": [
       "<div>\n",
       "<style scoped>\n",
       "    .dataframe tbody tr th:only-of-type {\n",
       "        vertical-align: middle;\n",
       "    }\n",
       "\n",
       "    .dataframe tbody tr th {\n",
       "        vertical-align: top;\n",
       "    }\n",
       "\n",
       "    .dataframe thead th {\n",
       "        text-align: right;\n",
       "    }\n",
       "</style>\n",
       "<table border=\"1\" class=\"dataframe\">\n",
       "  <thead>\n",
       "    <tr style=\"text-align: right;\">\n",
       "      <th></th>\n",
       "      <th>year_of_release</th>\n",
       "      <th>na_sales</th>\n",
       "      <th>eu_sales</th>\n",
       "      <th>jp_sales</th>\n",
       "      <th>other_sales</th>\n",
       "      <th>critic_score</th>\n",
       "      <th>user_score</th>\n",
       "      <th>total_sales</th>\n",
       "    </tr>\n",
       "  </thead>\n",
       "  <tbody>\n",
       "    <tr>\n",
       "      <th>year_of_release</th>\n",
       "      <td>1.000000</td>\n",
       "      <td>-0.242667</td>\n",
       "      <td>-0.194925</td>\n",
       "      <td>-0.127050</td>\n",
       "      <td>-0.243414</td>\n",
       "      <td>0.063712</td>\n",
       "      <td>0.079481</td>\n",
       "      <td>-0.239183</td>\n",
       "    </tr>\n",
       "    <tr>\n",
       "      <th>na_sales</th>\n",
       "      <td>-0.242667</td>\n",
       "      <td>1.000000</td>\n",
       "      <td>0.765367</td>\n",
       "      <td>0.425725</td>\n",
       "      <td>0.988088</td>\n",
       "      <td>0.388636</td>\n",
       "      <td>-0.069318</td>\n",
       "      <td>0.970433</td>\n",
       "    </tr>\n",
       "    <tr>\n",
       "      <th>eu_sales</th>\n",
       "      <td>-0.194925</td>\n",
       "      <td>0.765367</td>\n",
       "      <td>1.000000</td>\n",
       "      <td>0.421071</td>\n",
       "      <td>0.852986</td>\n",
       "      <td>0.379162</td>\n",
       "      <td>-0.055911</td>\n",
       "      <td>0.898045</td>\n",
       "    </tr>\n",
       "    <tr>\n",
       "      <th>jp_sales</th>\n",
       "      <td>-0.127050</td>\n",
       "      <td>0.425725</td>\n",
       "      <td>0.421071</td>\n",
       "      <td>1.000000</td>\n",
       "      <td>0.441717</td>\n",
       "      <td>0.202954</td>\n",
       "      <td>0.069591</td>\n",
       "      <td>0.452701</td>\n",
       "    </tr>\n",
       "    <tr>\n",
       "      <th>other_sales</th>\n",
       "      <td>-0.243414</td>\n",
       "      <td>0.988088</td>\n",
       "      <td>0.852986</td>\n",
       "      <td>0.441717</td>\n",
       "      <td>1.000000</td>\n",
       "      <td>0.411825</td>\n",
       "      <td>-0.069645</td>\n",
       "      <td>0.995238</td>\n",
       "    </tr>\n",
       "    <tr>\n",
       "      <th>critic_score</th>\n",
       "      <td>0.063712</td>\n",
       "      <td>0.388636</td>\n",
       "      <td>0.379162</td>\n",
       "      <td>0.202954</td>\n",
       "      <td>0.411825</td>\n",
       "      <td>1.000000</td>\n",
       "      <td>0.472462</td>\n",
       "      <td>0.416998</td>\n",
       "    </tr>\n",
       "    <tr>\n",
       "      <th>user_score</th>\n",
       "      <td>0.079481</td>\n",
       "      <td>-0.069318</td>\n",
       "      <td>-0.055911</td>\n",
       "      <td>0.069591</td>\n",
       "      <td>-0.069645</td>\n",
       "      <td>0.472462</td>\n",
       "      <td>1.000000</td>\n",
       "      <td>-0.068925</td>\n",
       "    </tr>\n",
       "    <tr>\n",
       "      <th>total_sales</th>\n",
       "      <td>-0.239183</td>\n",
       "      <td>0.970433</td>\n",
       "      <td>0.898045</td>\n",
       "      <td>0.452701</td>\n",
       "      <td>0.995238</td>\n",
       "      <td>0.416998</td>\n",
       "      <td>-0.068925</td>\n",
       "      <td>1.000000</td>\n",
       "    </tr>\n",
       "  </tbody>\n",
       "</table>\n",
       "</div>"
      ],
      "text/plain": [
       "                 year_of_release  na_sales  eu_sales  jp_sales  other_sales  \\\n",
       "year_of_release         1.000000 -0.242667 -0.194925 -0.127050    -0.243414   \n",
       "na_sales               -0.242667  1.000000  0.765367  0.425725     0.988088   \n",
       "eu_sales               -0.194925  0.765367  1.000000  0.421071     0.852986   \n",
       "jp_sales               -0.127050  0.425725  0.421071  1.000000     0.441717   \n",
       "other_sales            -0.243414  0.988088  0.852986  0.441717     1.000000   \n",
       "critic_score            0.063712  0.388636  0.379162  0.202954     0.411825   \n",
       "user_score              0.079481 -0.069318 -0.055911  0.069591    -0.069645   \n",
       "total_sales            -0.239183  0.970433  0.898045  0.452701     0.995238   \n",
       "\n",
       "                 critic_score  user_score  total_sales  \n",
       "year_of_release      0.063712    0.079481    -0.239183  \n",
       "na_sales             0.388636   -0.069318     0.970433  \n",
       "eu_sales             0.379162   -0.055911     0.898045  \n",
       "jp_sales             0.202954    0.069591     0.452701  \n",
       "other_sales          0.411825   -0.069645     0.995238  \n",
       "critic_score         1.000000    0.472462     0.416998  \n",
       "user_score           0.472462    1.000000    -0.068925  \n",
       "total_sales          0.416998   -0.068925     1.000000  "
      ]
     },
     "execution_count": 37,
     "metadata": {},
     "output_type": "execute_result"
    }
   ],
   "source": [
    "actual_df.query('platform == \"XOne\"').corr()"
   ]
  },
  {
   "cell_type": "code",
   "execution_count": 38,
   "metadata": {},
   "outputs": [
    {
     "data": {
      "image/png": "[encoded data removed]",
      "text/plain": [
       "<Figure size 432x288 with 1 Axes>"
      ]
     },
     "metadata": {
      "needs_background": "light"
     },
     "output_type": "display_data"
    }
   ],
   "source": [
    "actual_df.query('platform == \"XOne\"').plot(x='critic_score', y='total_sales', kind='scatter', alpha=0.3);\n",
    "plt.title('Зависимость продаж от оценки критиков для XOne');"
   ]
  },
  {
   "cell_type": "code",
   "execution_count": 39,
   "metadata": {
    "scrolled": true
   },
   "outputs": [
    {
     "data": {
      "text/html": [
       "<div>\n",
       "<style scoped>\n",
       "    .dataframe tbody tr th:only-of-type {\n",
       "        vertical-align: middle;\n",
       "    }\n",
       "\n",
       "    .dataframe tbody tr th {\n",
       "        vertical-align: top;\n",
       "    }\n",
       "\n",
       "    .dataframe thead th {\n",
       "        text-align: right;\n",
       "    }\n",
       "</style>\n",
       "<table border=\"1\" class=\"dataframe\">\n",
       "  <thead>\n",
       "    <tr style=\"text-align: right;\">\n",
       "      <th></th>\n",
       "      <th>year_of_release</th>\n",
       "      <th>na_sales</th>\n",
       "      <th>eu_sales</th>\n",
       "      <th>jp_sales</th>\n",
       "      <th>other_sales</th>\n",
       "      <th>critic_score</th>\n",
       "      <th>user_score</th>\n",
       "      <th>total_sales</th>\n",
       "    </tr>\n",
       "  </thead>\n",
       "  <tbody>\n",
       "    <tr>\n",
       "      <th>year_of_release</th>\n",
       "      <td>1.000000</td>\n",
       "      <td>-0.075933</td>\n",
       "      <td>-0.115177</td>\n",
       "      <td>-0.063487</td>\n",
       "      <td>-0.083695</td>\n",
       "      <td>0.166254</td>\n",
       "      <td>0.240047</td>\n",
       "      <td>-0.090086</td>\n",
       "    </tr>\n",
       "    <tr>\n",
       "      <th>na_sales</th>\n",
       "      <td>-0.075933</td>\n",
       "      <td>1.000000</td>\n",
       "      <td>0.931893</td>\n",
       "      <td>0.641878</td>\n",
       "      <td>0.993708</td>\n",
       "      <td>0.369653</td>\n",
       "      <td>0.241036</td>\n",
       "      <td>0.938867</td>\n",
       "    </tr>\n",
       "    <tr>\n",
       "      <th>eu_sales</th>\n",
       "      <td>-0.115177</td>\n",
       "      <td>0.931893</td>\n",
       "      <td>1.000000</td>\n",
       "      <td>0.633982</td>\n",
       "      <td>0.958274</td>\n",
       "      <td>0.268851</td>\n",
       "      <td>0.114930</td>\n",
       "      <td>0.927821</td>\n",
       "    </tr>\n",
       "    <tr>\n",
       "      <th>jp_sales</th>\n",
       "      <td>-0.063487</td>\n",
       "      <td>0.641878</td>\n",
       "      <td>0.633982</td>\n",
       "      <td>1.000000</td>\n",
       "      <td>0.645306</td>\n",
       "      <td>0.301810</td>\n",
       "      <td>0.259370</td>\n",
       "      <td>0.854173</td>\n",
       "    </tr>\n",
       "    <tr>\n",
       "      <th>other_sales</th>\n",
       "      <td>-0.083695</td>\n",
       "      <td>0.993708</td>\n",
       "      <td>0.958274</td>\n",
       "      <td>0.645306</td>\n",
       "      <td>1.000000</td>\n",
       "      <td>0.354365</td>\n",
       "      <td>0.209418</td>\n",
       "      <td>0.945649</td>\n",
       "    </tr>\n",
       "    <tr>\n",
       "      <th>critic_score</th>\n",
       "      <td>0.166254</td>\n",
       "      <td>0.369653</td>\n",
       "      <td>0.268851</td>\n",
       "      <td>0.301810</td>\n",
       "      <td>0.354365</td>\n",
       "      <td>1.000000</td>\n",
       "      <td>0.769536</td>\n",
       "      <td>0.357057</td>\n",
       "    </tr>\n",
       "    <tr>\n",
       "      <th>user_score</th>\n",
       "      <td>0.240047</td>\n",
       "      <td>0.241036</td>\n",
       "      <td>0.114930</td>\n",
       "      <td>0.259370</td>\n",
       "      <td>0.209418</td>\n",
       "      <td>0.769536</td>\n",
       "      <td>1.000000</td>\n",
       "      <td>0.241504</td>\n",
       "    </tr>\n",
       "    <tr>\n",
       "      <th>total_sales</th>\n",
       "      <td>-0.090086</td>\n",
       "      <td>0.938867</td>\n",
       "      <td>0.927821</td>\n",
       "      <td>0.854173</td>\n",
       "      <td>0.945649</td>\n",
       "      <td>0.357057</td>\n",
       "      <td>0.241504</td>\n",
       "      <td>1.000000</td>\n",
       "    </tr>\n",
       "  </tbody>\n",
       "</table>\n",
       "</div>"
      ],
      "text/plain": [
       "                 year_of_release  na_sales  eu_sales  jp_sales  other_sales  \\\n",
       "year_of_release         1.000000 -0.075933 -0.115177 -0.063487    -0.083695   \n",
       "na_sales               -0.075933  1.000000  0.931893  0.641878     0.993708   \n",
       "eu_sales               -0.115177  0.931893  1.000000  0.633982     0.958274   \n",
       "jp_sales               -0.063487  0.641878  0.633982  1.000000     0.645306   \n",
       "other_sales            -0.083695  0.993708  0.958274  0.645306     1.000000   \n",
       "critic_score            0.166254  0.369653  0.268851  0.301810     0.354365   \n",
       "user_score              0.240047  0.241036  0.114930  0.259370     0.209418   \n",
       "total_sales            -0.090086  0.938867  0.927821  0.854173     0.945649   \n",
       "\n",
       "                 critic_score  user_score  total_sales  \n",
       "year_of_release      0.166254    0.240047    -0.090086  \n",
       "na_sales             0.369653    0.241036     0.938867  \n",
       "eu_sales             0.268851    0.114930     0.927821  \n",
       "jp_sales             0.301810    0.259370     0.854173  \n",
       "other_sales          0.354365    0.209418     0.945649  \n",
       "critic_score         1.000000    0.769536     0.357057  \n",
       "user_score           0.769536    1.000000     0.241504  \n",
       "total_sales          0.357057    0.241504     1.000000  "
      ]
     },
     "execution_count": 39,
     "metadata": {},
     "output_type": "execute_result"
    }
   ],
   "source": [
    "actual_df.query('platform == \"3DS\"').corr()"
   ]
  },
  {
   "cell_type": "code",
   "execution_count": 40,
   "metadata": {},
   "outputs": [
    {
     "data": {
      "image/png": "[encoded data removed]",
      "text/plain": [
       "<Figure size 432x288 with 1 Axes>"
      ]
     },
     "metadata": {
      "needs_background": "light"
     },
     "output_type": "display_data"
    }
   ],
   "source": [
    "actual_df.query('platform == \"3DS\"').plot(x='critic_score', y='total_sales', kind='scatter', alpha=0.3);\n",
    "plt.title('Зависимость продаж от оценки критиков для 3DS');"
   ]
  },
  {
   "cell_type": "code",
   "execution_count": 41,
   "metadata": {
    "scrolled": true
   },
   "outputs": [
    {
     "data": {
      "text/html": [
       "<div>\n",
       "<style scoped>\n",
       "    .dataframe tbody tr th:only-of-type {\n",
       "        vertical-align: middle;\n",
       "    }\n",
       "\n",
       "    .dataframe tbody tr th {\n",
       "        vertical-align: top;\n",
       "    }\n",
       "\n",
       "    .dataframe thead th {\n",
       "        text-align: right;\n",
       "    }\n",
       "</style>\n",
       "<table border=\"1\" class=\"dataframe\">\n",
       "  <thead>\n",
       "    <tr style=\"text-align: right;\">\n",
       "      <th></th>\n",
       "      <th>year_of_release</th>\n",
       "      <th>na_sales</th>\n",
       "      <th>eu_sales</th>\n",
       "      <th>jp_sales</th>\n",
       "      <th>other_sales</th>\n",
       "      <th>critic_score</th>\n",
       "      <th>user_score</th>\n",
       "      <th>total_sales</th>\n",
       "    </tr>\n",
       "  </thead>\n",
       "  <tbody>\n",
       "    <tr>\n",
       "      <th>year_of_release</th>\n",
       "      <td>1.000000</td>\n",
       "      <td>-0.217596</td>\n",
       "      <td>-0.167604</td>\n",
       "      <td>-0.195894</td>\n",
       "      <td>-0.181897</td>\n",
       "      <td>-0.167495</td>\n",
       "      <td>-0.270341</td>\n",
       "      <td>-0.201274</td>\n",
       "    </tr>\n",
       "    <tr>\n",
       "      <th>na_sales</th>\n",
       "      <td>-0.217596</td>\n",
       "      <td>1.000000</td>\n",
       "      <td>0.874896</td>\n",
       "      <td>0.439867</td>\n",
       "      <td>0.932098</td>\n",
       "      <td>0.335205</td>\n",
       "      <td>-0.013560</td>\n",
       "      <td>0.954921</td>\n",
       "    </tr>\n",
       "    <tr>\n",
       "      <th>eu_sales</th>\n",
       "      <td>-0.167604</td>\n",
       "      <td>0.874896</td>\n",
       "      <td>1.000000</td>\n",
       "      <td>0.443809</td>\n",
       "      <td>0.975743</td>\n",
       "      <td>0.309561</td>\n",
       "      <td>-0.022848</td>\n",
       "      <td>0.974740</td>\n",
       "    </tr>\n",
       "    <tr>\n",
       "      <th>jp_sales</th>\n",
       "      <td>-0.195894</td>\n",
       "      <td>0.439867</td>\n",
       "      <td>0.443809</td>\n",
       "      <td>1.000000</td>\n",
       "      <td>0.459609</td>\n",
       "      <td>0.302327</td>\n",
       "      <td>0.244048</td>\n",
       "      <td>0.516258</td>\n",
       "    </tr>\n",
       "    <tr>\n",
       "      <th>other_sales</th>\n",
       "      <td>-0.181897</td>\n",
       "      <td>0.932098</td>\n",
       "      <td>0.975743</td>\n",
       "      <td>0.459609</td>\n",
       "      <td>1.000000</td>\n",
       "      <td>0.315748</td>\n",
       "      <td>0.004633</td>\n",
       "      <td>0.989812</td>\n",
       "    </tr>\n",
       "    <tr>\n",
       "      <th>critic_score</th>\n",
       "      <td>-0.167495</td>\n",
       "      <td>0.335205</td>\n",
       "      <td>0.309561</td>\n",
       "      <td>0.302327</td>\n",
       "      <td>0.315748</td>\n",
       "      <td>1.000000</td>\n",
       "      <td>0.599920</td>\n",
       "      <td>0.334285</td>\n",
       "    </tr>\n",
       "    <tr>\n",
       "      <th>user_score</th>\n",
       "      <td>-0.270341</td>\n",
       "      <td>-0.013560</td>\n",
       "      <td>-0.022848</td>\n",
       "      <td>0.244048</td>\n",
       "      <td>0.004633</td>\n",
       "      <td>0.599920</td>\n",
       "      <td>1.000000</td>\n",
       "      <td>0.002394</td>\n",
       "    </tr>\n",
       "    <tr>\n",
       "      <th>total_sales</th>\n",
       "      <td>-0.201274</td>\n",
       "      <td>0.954921</td>\n",
       "      <td>0.974740</td>\n",
       "      <td>0.516258</td>\n",
       "      <td>0.989812</td>\n",
       "      <td>0.334285</td>\n",
       "      <td>0.002394</td>\n",
       "      <td>1.000000</td>\n",
       "    </tr>\n",
       "  </tbody>\n",
       "</table>\n",
       "</div>"
      ],
      "text/plain": [
       "                 year_of_release  na_sales  eu_sales  jp_sales  other_sales  \\\n",
       "year_of_release         1.000000 -0.217596 -0.167604 -0.195894    -0.181897   \n",
       "na_sales               -0.217596  1.000000  0.874896  0.439867     0.932098   \n",
       "eu_sales               -0.167604  0.874896  1.000000  0.443809     0.975743   \n",
       "jp_sales               -0.195894  0.439867  0.443809  1.000000     0.459609   \n",
       "other_sales            -0.181897  0.932098  0.975743  0.459609     1.000000   \n",
       "critic_score           -0.167495  0.335205  0.309561  0.302327     0.315748   \n",
       "user_score             -0.270341 -0.013560 -0.022848  0.244048     0.004633   \n",
       "total_sales            -0.201274  0.954921  0.974740  0.516258     0.989812   \n",
       "\n",
       "                 critic_score  user_score  total_sales  \n",
       "year_of_release     -0.167495   -0.270341    -0.201274  \n",
       "na_sales             0.335205   -0.013560     0.954921  \n",
       "eu_sales             0.309561   -0.022848     0.974740  \n",
       "jp_sales             0.302327    0.244048     0.516258  \n",
       "other_sales          0.315748    0.004633     0.989812  \n",
       "critic_score         1.000000    0.599920     0.334285  \n",
       "user_score           0.599920    1.000000     0.002394  \n",
       "total_sales          0.334285    0.002394     1.000000  "
      ]
     },
     "execution_count": 41,
     "metadata": {},
     "output_type": "execute_result"
    }
   ],
   "source": [
    "actual_df.query('platform == \"PS3\"').corr()"
   ]
  },
  {
   "cell_type": "code",
   "execution_count": 42,
   "metadata": {},
   "outputs": [
    {
     "data": {
      "image/png": "[encoded data removed]",
      "text/plain": [
       "<Figure size 432x288 with 1 Axes>"
      ]
     },
     "metadata": {
      "needs_background": "light"
     },
     "output_type": "display_data"
    }
   ],
   "source": [
    "actual_df.query('platform == \"PS3\"').plot(x='critic_score', y='total_sales', kind='scatter', alpha=0.3);\n",
    "plt.title('Зависимость продаж от оценки критиков для PS3');"
   ]
  },
  {
   "cell_type": "code",
   "execution_count": 43,
   "metadata": {
    "scrolled": true
   },
   "outputs": [
    {
     "data": {
      "text/html": [
       "<div>\n",
       "<style scoped>\n",
       "    .dataframe tbody tr th:only-of-type {\n",
       "        vertical-align: middle;\n",
       "    }\n",
       "\n",
       "    .dataframe tbody tr th {\n",
       "        vertical-align: top;\n",
       "    }\n",
       "\n",
       "    .dataframe thead th {\n",
       "        text-align: right;\n",
       "    }\n",
       "</style>\n",
       "<table border=\"1\" class=\"dataframe\">\n",
       "  <thead>\n",
       "    <tr style=\"text-align: right;\">\n",
       "      <th></th>\n",
       "      <th>year_of_release</th>\n",
       "      <th>na_sales</th>\n",
       "      <th>eu_sales</th>\n",
       "      <th>jp_sales</th>\n",
       "      <th>other_sales</th>\n",
       "      <th>critic_score</th>\n",
       "      <th>user_score</th>\n",
       "      <th>total_sales</th>\n",
       "    </tr>\n",
       "  </thead>\n",
       "  <tbody>\n",
       "    <tr>\n",
       "      <th>year_of_release</th>\n",
       "      <td>1.000000</td>\n",
       "      <td>-0.218293</td>\n",
       "      <td>-0.203537</td>\n",
       "      <td>-0.285360</td>\n",
       "      <td>-0.218199</td>\n",
       "      <td>-0.245439</td>\n",
       "      <td>-0.248736</td>\n",
       "      <td>-0.220495</td>\n",
       "    </tr>\n",
       "    <tr>\n",
       "      <th>na_sales</th>\n",
       "      <td>-0.218293</td>\n",
       "      <td>1.000000</td>\n",
       "      <td>0.866574</td>\n",
       "      <td>0.634340</td>\n",
       "      <td>0.985236</td>\n",
       "      <td>0.342724</td>\n",
       "      <td>-0.012298</td>\n",
       "      <td>0.984299</td>\n",
       "    </tr>\n",
       "    <tr>\n",
       "      <th>eu_sales</th>\n",
       "      <td>-0.203537</td>\n",
       "      <td>0.866574</td>\n",
       "      <td>1.000000</td>\n",
       "      <td>0.612002</td>\n",
       "      <td>0.934769</td>\n",
       "      <td>0.336418</td>\n",
       "      <td>-0.009435</td>\n",
       "      <td>0.941008</td>\n",
       "    </tr>\n",
       "    <tr>\n",
       "      <th>jp_sales</th>\n",
       "      <td>-0.285360</td>\n",
       "      <td>0.634340</td>\n",
       "      <td>0.612002</td>\n",
       "      <td>1.000000</td>\n",
       "      <td>0.641529</td>\n",
       "      <td>0.290613</td>\n",
       "      <td>0.112592</td>\n",
       "      <td>0.648860</td>\n",
       "    </tr>\n",
       "    <tr>\n",
       "      <th>other_sales</th>\n",
       "      <td>-0.218199</td>\n",
       "      <td>0.985236</td>\n",
       "      <td>0.934769</td>\n",
       "      <td>0.641529</td>\n",
       "      <td>1.000000</td>\n",
       "      <td>0.349204</td>\n",
       "      <td>-0.018868</td>\n",
       "      <td>0.998640</td>\n",
       "    </tr>\n",
       "    <tr>\n",
       "      <th>critic_score</th>\n",
       "      <td>-0.245439</td>\n",
       "      <td>0.342724</td>\n",
       "      <td>0.336418</td>\n",
       "      <td>0.290613</td>\n",
       "      <td>0.349204</td>\n",
       "      <td>1.000000</td>\n",
       "      <td>0.520946</td>\n",
       "      <td>0.350345</td>\n",
       "    </tr>\n",
       "    <tr>\n",
       "      <th>user_score</th>\n",
       "      <td>-0.248736</td>\n",
       "      <td>-0.012298</td>\n",
       "      <td>-0.009435</td>\n",
       "      <td>0.112592</td>\n",
       "      <td>-0.018868</td>\n",
       "      <td>0.520946</td>\n",
       "      <td>1.000000</td>\n",
       "      <td>-0.011742</td>\n",
       "    </tr>\n",
       "    <tr>\n",
       "      <th>total_sales</th>\n",
       "      <td>-0.220495</td>\n",
       "      <td>0.984299</td>\n",
       "      <td>0.941008</td>\n",
       "      <td>0.648860</td>\n",
       "      <td>0.998640</td>\n",
       "      <td>0.350345</td>\n",
       "      <td>-0.011742</td>\n",
       "      <td>1.000000</td>\n",
       "    </tr>\n",
       "  </tbody>\n",
       "</table>\n",
       "</div>"
      ],
      "text/plain": [
       "                 year_of_release  na_sales  eu_sales  jp_sales  other_sales  \\\n",
       "year_of_release         1.000000 -0.218293 -0.203537 -0.285360    -0.218199   \n",
       "na_sales               -0.218293  1.000000  0.866574  0.634340     0.985236   \n",
       "eu_sales               -0.203537  0.866574  1.000000  0.612002     0.934769   \n",
       "jp_sales               -0.285360  0.634340  0.612002  1.000000     0.641529   \n",
       "other_sales            -0.218199  0.985236  0.934769  0.641529     1.000000   \n",
       "critic_score           -0.245439  0.342724  0.336418  0.290613     0.349204   \n",
       "user_score             -0.248736 -0.012298 -0.009435  0.112592    -0.018868   \n",
       "total_sales            -0.220495  0.984299  0.941008  0.648860     0.998640   \n",
       "\n",
       "                 critic_score  user_score  total_sales  \n",
       "year_of_release     -0.245439   -0.248736    -0.220495  \n",
       "na_sales             0.342724   -0.012298     0.984299  \n",
       "eu_sales             0.336418   -0.009435     0.941008  \n",
       "jp_sales             0.290613    0.112592     0.648860  \n",
       "other_sales          0.349204   -0.018868     0.998640  \n",
       "critic_score         1.000000    0.520946     0.350345  \n",
       "user_score           0.520946    1.000000    -0.011742  \n",
       "total_sales          0.350345   -0.011742     1.000000  "
      ]
     },
     "execution_count": 43,
     "metadata": {},
     "output_type": "execute_result"
    }
   ],
   "source": [
    "actual_df.query('platform == \"X360\"').corr()"
   ]
  },
  {
   "cell_type": "code",
   "execution_count": 44,
   "metadata": {},
   "outputs": [
    {
     "data": {
      "image/png": "[encoded data removed]",
      "text/plain": [
       "<Figure size 432x288 with 1 Axes>"
      ]
     },
     "metadata": {
      "needs_background": "light"
     },
     "output_type": "display_data"
    }
   ],
   "source": [
    "actual_df.query('platform == \"X360\"').plot(x='critic_score', y='total_sales', kind='scatter', alpha=0.3);\n",
    "plt.title('Зависимость продаж от оценки критиков для X360');"
   ]
  },
  {
   "cell_type": "markdown",
   "metadata": {},
   "source": [
    "По остальным платформам ситуация примерно такая же. Только на продажи для '3DS' `user_score` влияет сильнее, чем для других платформ."
   ]
  },
  {
   "cell_type": "markdown",
   "metadata": {},
   "source": [
    "### Общее распределение игр по жанрам."
   ]
  },
  {
   "cell_type": "code",
   "execution_count": 45,
   "metadata": {},
   "outputs": [
    {
     "data": {
      "image/png": "[encoded data removed]",
      "text/plain": [
       "<Figure size 432x288 with 1 Axes>"
      ]
     },
     "metadata": {
      "needs_background": "light"
     },
     "output_type": "display_data"
    }
   ],
   "source": [
    "actual_df.pivot_table(index='genre', values='name', aggfunc='count').sort_values(by='name').plot(kind='barh');\n",
    "plt.title('Количество игр различных жанров', fontsize=15)\n",
    "plt.ylabel('Жанры', fontsize=15)\n",
    "plt.xlabel('Количество игр', fontsize=15);"
   ]
  },
  {
   "cell_type": "markdown",
   "metadata": {},
   "source": [
    "Составил сводную таблицу, в которой подсчитывается количество игр для каждого жанра. И построил график."
   ]
  },
  {
   "cell_type": "code",
   "execution_count": 46,
   "metadata": {},
   "outputs": [
    {
     "data": {
      "image/png": "[encoded data removed]",
      "text/plain": [
       "<Figure size 432x288 with 1 Axes>"
      ]
     },
     "metadata": {
      "needs_background": "light"
     },
     "output_type": "display_data"
    }
   ],
   "source": [
    "actual_df.pivot_table(index='genre', values='total_sales', aggfunc='sum').sort_values(by='total_sales').plot(kind='barh');\n",
    "plt.title('Продажи игр различных жанров', fontsize=15)\n",
    "plt.ylabel('Жанры', fontsize=15)\n",
    "plt.xlabel('Суммарные продажи', fontsize=15);"
   ]
  },
  {
   "cell_type": "markdown",
   "metadata": {},
   "source": [
    "Всё тоже самое, но в сводной таблице считается не количество игр. А суммарная прибыль по жанрам."
   ]
  },
  {
   "cell_type": "code",
   "execution_count": 47,
   "metadata": {},
   "outputs": [
    {
     "data": {
      "image/png": "[encoded data removed]",
      "text/plain": [
       "<Figure size 432x288 with 1 Axes>"
      ]
     },
     "metadata": {
      "needs_background": "light"
     },
     "output_type": "display_data"
    }
   ],
   "source": [
    "actual_df.pivot_table(index='genre', values='total_sales', aggfunc='median').sort_values(by='total_sales').plot(kind='barh');\n",
    "plt.title('Медиана суммарных продаж игр различных жанров', fontsize=15)\n",
    "plt.ylabel('Жанры', fontsize=15)\n",
    "plt.xlabel('Медианы суммарных продаж', fontsize=15);"
   ]
  },
  {
   "cell_type": "code",
   "execution_count": 48,
   "metadata": {
    "scrolled": false
   },
   "outputs": [
    {
     "data": {
      "image/png": "[encoded data removed]",
      "text/plain": [
       "<Figure size 1800x648 with 1 Axes>"
      ]
     },
     "metadata": {
      "needs_background": "light"
     },
     "output_type": "display_data"
    }
   ],
   "source": [
    "genre = actual_df['genre'].unique()\n",
    "\n",
    "actual_df.pivot_table(index=actual_df.index, columns='genre', values='total_sales').plot(kind='box', y=genre, grid=True, figsize=(25,9));\n",
    "plt.title('Распределение продаж игр различных жанров', fontsize=15)\n",
    "plt.xlabel('Жанры', fontsize=15)\n",
    "plt.ylabel('Суммарные продажи игры', fontsize=15);"
   ]
  },
  {
   "cell_type": "code",
   "execution_count": 49,
   "metadata": {
    "scrolled": false
   },
   "outputs": [
    {
     "data": {
      "image/png": "[encoded data removed]",
      "text/plain": [
       "<Figure size 1800x648 with 1 Axes>"
      ]
     },
     "metadata": {
      "needs_background": "light"
     },
     "output_type": "display_data"
    }
   ],
   "source": [
    "(\n",
    "actual_df\n",
    "    .pivot_table(index=actual_df.index, columns='genre', values='total_sales')\n",
    "    .plot(kind='box', ylim=(0,4), y=genre, grid=True, figsize=(25,9))\n",
    ");\n",
    "plt.title('Распределение продаж игр различных жанров', fontsize=15)\n",
    "plt.xlabel('Жанры', fontsize=15)\n",
    "plt.ylabel('Суммарные продажи игры', fontsize=15);"
   ]
  },
  {
   "cell_type": "markdown",
   "metadata": {},
   "source": [
    "Смотря на график с медианами продаж по каждому жанру, видим иную картину, нежели для суммы. Жанр Action, лидирующий по суммарным продажам всех игр, находится ниже середины списка для медиан."
   ]
  },
  {
   "cell_type": "markdown",
   "metadata": {},
   "source": [
    "## Шаг 4. Портрет пользователя каждого региона"
   ]
  },
  {
   "cell_type": "markdown",
   "metadata": {},
   "source": [
    "### Определение для пользователя каждого региона (NA, EU, JP):"
   ]
  },
  {
   "cell_type": "markdown",
   "metadata": {},
   "source": [
    "#### Самые популярные платформы (топ-5). "
   ]
  },
  {
   "cell_type": "code",
   "execution_count": 50,
   "metadata": {},
   "outputs": [
    {
     "data": {
      "text/html": [
       "<div>\n",
       "<style scoped>\n",
       "    .dataframe tbody tr th:only-of-type {\n",
       "        vertical-align: middle;\n",
       "    }\n",
       "\n",
       "    .dataframe tbody tr th {\n",
       "        vertical-align: top;\n",
       "    }\n",
       "\n",
       "    .dataframe thead th {\n",
       "        text-align: right;\n",
       "    }\n",
       "</style>\n",
       "<table border=\"1\" class=\"dataframe\">\n",
       "  <thead>\n",
       "    <tr style=\"text-align: right;\">\n",
       "      <th></th>\n",
       "      <th>na_sales</th>\n",
       "    </tr>\n",
       "    <tr>\n",
       "      <th>platform</th>\n",
       "      <th></th>\n",
       "    </tr>\n",
       "  </thead>\n",
       "  <tbody>\n",
       "    <tr>\n",
       "      <th>PS4</th>\n",
       "      <td>108.74</td>\n",
       "    </tr>\n",
       "    <tr>\n",
       "      <th>XOne</th>\n",
       "      <td>93.12</td>\n",
       "    </tr>\n",
       "    <tr>\n",
       "      <th>X360</th>\n",
       "      <td>81.66</td>\n",
       "    </tr>\n",
       "    <tr>\n",
       "      <th>PS3</th>\n",
       "      <td>63.50</td>\n",
       "    </tr>\n",
       "    <tr>\n",
       "      <th>3DS</th>\n",
       "      <td>38.20</td>\n",
       "    </tr>\n",
       "  </tbody>\n",
       "</table>\n",
       "</div>"
      ],
      "text/plain": [
       "          na_sales\n",
       "platform          \n",
       "PS4         108.74\n",
       "XOne         93.12\n",
       "X360         81.66\n",
       "PS3          63.50\n",
       "3DS          38.20"
      ]
     },
     "execution_count": 50,
     "metadata": {},
     "output_type": "execute_result"
    }
   ],
   "source": [
    "platrform_na = actual_df.pivot_table(index='platform', values='na_sales', aggfunc='sum').sort_values(by='na_sales', ascending=False).head()\n",
    "platrform_na"
   ]
  },
  {
   "cell_type": "code",
   "execution_count": 51,
   "metadata": {},
   "outputs": [
    {
     "data": {
      "image/png": "[encoded data removed]",
      "text/plain": [
       "<Figure size 360x360 with 1 Axes>"
      ]
     },
     "metadata": {},
     "output_type": "display_data"
    }
   ],
   "source": [
    "data_na = platrform_na['na_sales'].values\n",
    "\n",
    "labels_na = platrform_na.index\n",
    "\n",
    "plt.rcParams['font.size'] = '15'\n",
    "\n",
    "plt.figure(figsize=(5,5))\n",
    "plt.pie(data_na, labels=labels_na, autopct='%.0f%%')\n",
    "plt.show()"
   ]
  },
  {
   "cell_type": "code",
   "execution_count": 52,
   "metadata": {},
   "outputs": [
    {
     "data": {
      "text/html": [
       "<div>\n",
       "<style scoped>\n",
       "    .dataframe tbody tr th:only-of-type {\n",
       "        vertical-align: middle;\n",
       "    }\n",
       "\n",
       "    .dataframe tbody tr th {\n",
       "        vertical-align: top;\n",
       "    }\n",
       "\n",
       "    .dataframe thead th {\n",
       "        text-align: right;\n",
       "    }\n",
       "</style>\n",
       "<table border=\"1\" class=\"dataframe\">\n",
       "  <thead>\n",
       "    <tr style=\"text-align: right;\">\n",
       "      <th></th>\n",
       "      <th>eu_sales</th>\n",
       "    </tr>\n",
       "    <tr>\n",
       "      <th>platform</th>\n",
       "      <th></th>\n",
       "    </tr>\n",
       "  </thead>\n",
       "  <tbody>\n",
       "    <tr>\n",
       "      <th>PS4</th>\n",
       "      <td>141.09</td>\n",
       "    </tr>\n",
       "    <tr>\n",
       "      <th>PS3</th>\n",
       "      <td>67.81</td>\n",
       "    </tr>\n",
       "    <tr>\n",
       "      <th>XOne</th>\n",
       "      <td>51.59</td>\n",
       "    </tr>\n",
       "    <tr>\n",
       "      <th>X360</th>\n",
       "      <td>42.52</td>\n",
       "    </tr>\n",
       "    <tr>\n",
       "      <th>3DS</th>\n",
       "      <td>30.96</td>\n",
       "    </tr>\n",
       "  </tbody>\n",
       "</table>\n",
       "</div>"
      ],
      "text/plain": [
       "          eu_sales\n",
       "platform          \n",
       "PS4         141.09\n",
       "PS3          67.81\n",
       "XOne         51.59\n",
       "X360         42.52\n",
       "3DS          30.96"
      ]
     },
     "execution_count": 52,
     "metadata": {},
     "output_type": "execute_result"
    }
   ],
   "source": [
    "platrform_eu = actual_df.pivot_table(index='platform', values='eu_sales', aggfunc='sum').sort_values(by='eu_sales', ascending=False).head()\n",
    "platrform_eu"
   ]
  },
  {
   "cell_type": "code",
   "execution_count": 53,
   "metadata": {},
   "outputs": [
    {
     "data": {
      "image/png": "[encoded data removed]",
      "text/plain": [
       "<Figure size 360x360 with 1 Axes>"
      ]
     },
     "metadata": {},
     "output_type": "display_data"
    }
   ],
   "source": [
    "data_eu = platrform_eu['eu_sales'].values\n",
    "\n",
    "labels_eu = platrform_eu.index\n",
    "\n",
    "plt.rcParams['font.size'] = '15'\n",
    "\n",
    "plt.figure(figsize=(5,5))\n",
    "plt.pie(data_eu, labels=labels_eu, autopct='%.0f%%')\n",
    "plt.show()"
   ]
  },
  {
   "cell_type": "code",
   "execution_count": 54,
   "metadata": {},
   "outputs": [
    {
     "data": {
      "text/html": [
       "<div>\n",
       "<style scoped>\n",
       "    .dataframe tbody tr th:only-of-type {\n",
       "        vertical-align: middle;\n",
       "    }\n",
       "\n",
       "    .dataframe tbody tr th {\n",
       "        vertical-align: top;\n",
       "    }\n",
       "\n",
       "    .dataframe thead th {\n",
       "        text-align: right;\n",
       "    }\n",
       "</style>\n",
       "<table border=\"1\" class=\"dataframe\">\n",
       "  <thead>\n",
       "    <tr style=\"text-align: right;\">\n",
       "      <th></th>\n",
       "      <th>jp_sales</th>\n",
       "    </tr>\n",
       "    <tr>\n",
       "      <th>platform</th>\n",
       "      <th></th>\n",
       "    </tr>\n",
       "  </thead>\n",
       "  <tbody>\n",
       "    <tr>\n",
       "      <th>3DS</th>\n",
       "      <td>67.81</td>\n",
       "    </tr>\n",
       "    <tr>\n",
       "      <th>PS3</th>\n",
       "      <td>23.35</td>\n",
       "    </tr>\n",
       "    <tr>\n",
       "      <th>PSV</th>\n",
       "      <td>18.59</td>\n",
       "    </tr>\n",
       "    <tr>\n",
       "      <th>PS4</th>\n",
       "      <td>15.96</td>\n",
       "    </tr>\n",
       "    <tr>\n",
       "      <th>WiiU</th>\n",
       "      <td>10.88</td>\n",
       "    </tr>\n",
       "  </tbody>\n",
       "</table>\n",
       "</div>"
      ],
      "text/plain": [
       "          jp_sales\n",
       "platform          \n",
       "3DS          67.81\n",
       "PS3          23.35\n",
       "PSV          18.59\n",
       "PS4          15.96\n",
       "WiiU         10.88"
      ]
     },
     "execution_count": 54,
     "metadata": {},
     "output_type": "execute_result"
    }
   ],
   "source": [
    "platrform_jp = actual_df.pivot_table(index='platform', values='jp_sales', aggfunc='sum').sort_values(by='jp_sales', ascending=False).head()\n",
    "platrform_jp"
   ]
  },
  {
   "cell_type": "code",
   "execution_count": 55,
   "metadata": {},
   "outputs": [
    {
     "data": {
      "image/png": "[encoded data removed]",
      "text/plain": [
       "<Figure size 360x360 with 1 Axes>"
      ]
     },
     "metadata": {},
     "output_type": "display_data"
    }
   ],
   "source": [
    "data_jp = platrform_jp['jp_sales'].values\n",
    "\n",
    "labels_jp = platrform_jp.index\n",
    "\n",
    "plt.rcParams['font.size'] = '15'\n",
    "\n",
    "plt.figure(figsize=(5,5))\n",
    "plt.pie(data_jp, labels=labels_jp, autopct='%.0f%%')\n",
    "plt.show()"
   ]
  },
  {
   "cell_type": "markdown",
   "metadata": {},
   "source": [
    "В EU и NA популярны одни и те же платформы, разница в долях (в EU 'PS4' имеет куда большую долю, чем в NA). В JP популярны другие платформы."
   ]
  },
  {
   "cell_type": "markdown",
   "metadata": {},
   "source": [
    "#### Самые популярные жанры (топ-5). "
   ]
  },
  {
   "cell_type": "code",
   "execution_count": 56,
   "metadata": {},
   "outputs": [
    {
     "data": {
      "text/html": [
       "<div>\n",
       "<style scoped>\n",
       "    .dataframe tbody tr th:only-of-type {\n",
       "        vertical-align: middle;\n",
       "    }\n",
       "\n",
       "    .dataframe tbody tr th {\n",
       "        vertical-align: top;\n",
       "    }\n",
       "\n",
       "    .dataframe thead th {\n",
       "        text-align: right;\n",
       "    }\n",
       "</style>\n",
       "<table border=\"1\" class=\"dataframe\">\n",
       "  <thead>\n",
       "    <tr style=\"text-align: right;\">\n",
       "      <th></th>\n",
       "      <th>na_sales</th>\n",
       "    </tr>\n",
       "    <tr>\n",
       "      <th>genre</th>\n",
       "      <th></th>\n",
       "    </tr>\n",
       "  </thead>\n",
       "  <tbody>\n",
       "    <tr>\n",
       "      <th>Action</th>\n",
       "      <td>126.05</td>\n",
       "    </tr>\n",
       "    <tr>\n",
       "      <th>Shooter</th>\n",
       "      <td>109.74</td>\n",
       "    </tr>\n",
       "    <tr>\n",
       "      <th>Sports</th>\n",
       "      <td>65.27</td>\n",
       "    </tr>\n",
       "    <tr>\n",
       "      <th>Role-Playing</th>\n",
       "      <td>46.40</td>\n",
       "    </tr>\n",
       "    <tr>\n",
       "      <th>Misc</th>\n",
       "      <td>27.49</td>\n",
       "    </tr>\n",
       "  </tbody>\n",
       "</table>\n",
       "</div>"
      ],
      "text/plain": [
       "              na_sales\n",
       "genre                 \n",
       "Action          126.05\n",
       "Shooter         109.74\n",
       "Sports           65.27\n",
       "Role-Playing     46.40\n",
       "Misc             27.49"
      ]
     },
     "execution_count": 56,
     "metadata": {},
     "output_type": "execute_result"
    }
   ],
   "source": [
    "genre_na = actual_df.pivot_table(index='genre', values='na_sales', aggfunc='sum').sort_values(by='na_sales', ascending=False).head()\n",
    "genre_na"
   ]
  },
  {
   "cell_type": "code",
   "execution_count": 57,
   "metadata": {},
   "outputs": [
    {
     "data": {
      "image/png": "[encoded data removed]",
      "text/plain": [
       "<Figure size 432x288 with 1 Axes>"
      ]
     },
     "metadata": {
      "needs_background": "light"
     },
     "output_type": "display_data"
    }
   ],
   "source": [
    "genre_na.sort_values(by='na_sales', ascending=True).plot(kind='barh');"
   ]
  },
  {
   "cell_type": "code",
   "execution_count": 58,
   "metadata": {},
   "outputs": [
    {
     "data": {
      "text/html": [
       "<div>\n",
       "<style scoped>\n",
       "    .dataframe tbody tr th:only-of-type {\n",
       "        vertical-align: middle;\n",
       "    }\n",
       "\n",
       "    .dataframe tbody tr th {\n",
       "        vertical-align: top;\n",
       "    }\n",
       "\n",
       "    .dataframe thead th {\n",
       "        text-align: right;\n",
       "    }\n",
       "</style>\n",
       "<table border=\"1\" class=\"dataframe\">\n",
       "  <thead>\n",
       "    <tr style=\"text-align: right;\">\n",
       "      <th></th>\n",
       "      <th>eu_sales</th>\n",
       "    </tr>\n",
       "    <tr>\n",
       "      <th>genre</th>\n",
       "      <th></th>\n",
       "    </tr>\n",
       "  </thead>\n",
       "  <tbody>\n",
       "    <tr>\n",
       "      <th>Action</th>\n",
       "      <td>118.13</td>\n",
       "    </tr>\n",
       "    <tr>\n",
       "      <th>Shooter</th>\n",
       "      <td>87.86</td>\n",
       "    </tr>\n",
       "    <tr>\n",
       "      <th>Sports</th>\n",
       "      <td>60.52</td>\n",
       "    </tr>\n",
       "    <tr>\n",
       "      <th>Role-Playing</th>\n",
       "      <td>36.97</td>\n",
       "    </tr>\n",
       "    <tr>\n",
       "      <th>Racing</th>\n",
       "      <td>20.19</td>\n",
       "    </tr>\n",
       "  </tbody>\n",
       "</table>\n",
       "</div>"
      ],
      "text/plain": [
       "              eu_sales\n",
       "genre                 \n",
       "Action          118.13\n",
       "Shooter          87.86\n",
       "Sports           60.52\n",
       "Role-Playing     36.97\n",
       "Racing           20.19"
      ]
     },
     "execution_count": 58,
     "metadata": {},
     "output_type": "execute_result"
    }
   ],
   "source": [
    "genre_eu = actual_df.pivot_table(index='genre', values='eu_sales', aggfunc='sum').sort_values(by='eu_sales', ascending=False).head()\n",
    "genre_eu"
   ]
  },
  {
   "cell_type": "code",
   "execution_count": 59,
   "metadata": {},
   "outputs": [
    {
     "data": {
      "image/png": "[encoded data removed]",
      "text/plain": [
       "<Figure size 432x288 with 1 Axes>"
      ]
     },
     "metadata": {
      "needs_background": "light"
     },
     "output_type": "display_data"
    }
   ],
   "source": [
    "genre_eu.sort_values(by='eu_sales', ascending=True).plot(kind='barh');"
   ]
  },
  {
   "cell_type": "code",
   "execution_count": 60,
   "metadata": {},
   "outputs": [
    {
     "data": {
      "text/html": [
       "<div>\n",
       "<style scoped>\n",
       "    .dataframe tbody tr th:only-of-type {\n",
       "        vertical-align: middle;\n",
       "    }\n",
       "\n",
       "    .dataframe tbody tr th {\n",
       "        vertical-align: top;\n",
       "    }\n",
       "\n",
       "    .dataframe thead th {\n",
       "        text-align: right;\n",
       "    }\n",
       "</style>\n",
       "<table border=\"1\" class=\"dataframe\">\n",
       "  <thead>\n",
       "    <tr style=\"text-align: right;\">\n",
       "      <th></th>\n",
       "      <th>jp_sales</th>\n",
       "    </tr>\n",
       "    <tr>\n",
       "      <th>genre</th>\n",
       "      <th></th>\n",
       "    </tr>\n",
       "  </thead>\n",
       "  <tbody>\n",
       "    <tr>\n",
       "      <th>Role-Playing</th>\n",
       "      <td>51.04</td>\n",
       "    </tr>\n",
       "    <tr>\n",
       "      <th>Action</th>\n",
       "      <td>40.49</td>\n",
       "    </tr>\n",
       "    <tr>\n",
       "      <th>Misc</th>\n",
       "      <td>9.20</td>\n",
       "    </tr>\n",
       "    <tr>\n",
       "      <th>Fighting</th>\n",
       "      <td>7.65</td>\n",
       "    </tr>\n",
       "    <tr>\n",
       "      <th>Shooter</th>\n",
       "      <td>6.61</td>\n",
       "    </tr>\n",
       "  </tbody>\n",
       "</table>\n",
       "</div>"
      ],
      "text/plain": [
       "              jp_sales\n",
       "genre                 \n",
       "Role-Playing     51.04\n",
       "Action           40.49\n",
       "Misc              9.20\n",
       "Fighting          7.65\n",
       "Shooter           6.61"
      ]
     },
     "execution_count": 60,
     "metadata": {},
     "output_type": "execute_result"
    }
   ],
   "source": [
    "genre_jp = actual_df.pivot_table(index='genre', values='jp_sales', aggfunc='sum').sort_values(by='jp_sales', ascending=False).head()\n",
    "genre_jp"
   ]
  },
  {
   "cell_type": "code",
   "execution_count": 61,
   "metadata": {},
   "outputs": [
    {
     "data": {
      "image/png": "[encoded data removed]",
      "text/plain": [
       "<Figure size 432x288 with 1 Axes>"
      ]
     },
     "metadata": {
      "needs_background": "light"
     },
     "output_type": "display_data"
    }
   ],
   "source": [
    "genre_jp.sort_values(by='jp_sales', ascending=True).plot(kind='barh');"
   ]
  },
  {
   "cell_type": "markdown",
   "metadata": {},
   "source": [
    "Для NA и EU топы отличаются только пятым жанром. Топ для JP похож на NA, с разницей в одном жанре и последовательности."
   ]
  },
  {
   "cell_type": "markdown",
   "metadata": {},
   "source": [
    "### Влияет ли рейтинг ESRB на продажи в отдельном регионе?"
   ]
  },
  {
   "cell_type": "code",
   "execution_count": 62,
   "metadata": {
    "scrolled": true
   },
   "outputs": [
    {
     "data": {
      "text/html": [
       "<div>\n",
       "<style scoped>\n",
       "    .dataframe tbody tr th:only-of-type {\n",
       "        vertical-align: middle;\n",
       "    }\n",
       "\n",
       "    .dataframe tbody tr th {\n",
       "        vertical-align: top;\n",
       "    }\n",
       "\n",
       "    .dataframe thead th {\n",
       "        text-align: right;\n",
       "    }\n",
       "</style>\n",
       "<table border=\"1\" class=\"dataframe\">\n",
       "  <thead>\n",
       "    <tr style=\"text-align: right;\">\n",
       "      <th></th>\n",
       "      <th>jp_sales</th>\n",
       "    </tr>\n",
       "    <tr>\n",
       "      <th>rating</th>\n",
       "      <th></th>\n",
       "    </tr>\n",
       "  </thead>\n",
       "  <tbody>\n",
       "    <tr>\n",
       "      <th>E10+</th>\n",
       "      <td>5.89</td>\n",
       "    </tr>\n",
       "    <tr>\n",
       "      <th>M</th>\n",
       "      <td>14.11</td>\n",
       "    </tr>\n",
       "    <tr>\n",
       "      <th>E</th>\n",
       "      <td>15.14</td>\n",
       "    </tr>\n",
       "    <tr>\n",
       "      <th>T</th>\n",
       "      <td>20.59</td>\n",
       "    </tr>\n",
       "    <tr>\n",
       "      <th>Nan</th>\n",
       "      <td>85.05</td>\n",
       "    </tr>\n",
       "  </tbody>\n",
       "</table>\n",
       "</div>"
      ],
      "text/plain": [
       "        jp_sales\n",
       "rating          \n",
       "E10+        5.89\n",
       "M          14.11\n",
       "E          15.14\n",
       "T          20.59\n",
       "Nan        85.05"
      ]
     },
     "execution_count": 62,
     "metadata": {},
     "output_type": "execute_result"
    }
   ],
   "source": [
    "rating_jp = actual_df.pivot_table(index='rating', values='jp_sales', aggfunc='sum').sort_values(by='jp_sales')\n",
    "rating_jp"
   ]
  },
  {
   "cell_type": "code",
   "execution_count": 63,
   "metadata": {},
   "outputs": [
    {
     "data": {
      "text/plain": [
       "<AxesSubplot:ylabel='rating'>"
      ]
     },
     "execution_count": 63,
     "metadata": {},
     "output_type": "execute_result"
    },
    {
     "data": {
      "image/png": "[encoded data removed]",
      "text/plain": [
       "<Figure size 432x288 with 1 Axes>"
      ]
     },
     "metadata": {
      "needs_background": "light"
     },
     "output_type": "display_data"
    }
   ],
   "source": [
    "rating_jp.sort_values(by='jp_sales', ascending=True).plot(kind='barh')"
   ]
  },
  {
   "cell_type": "markdown",
   "metadata": {},
   "source": [
    "В столбце `rating` много пропусков. Но по тем строкам, где пропусков в данном столбце нет, можно сделать вывод, что от рейтинга ESRB продажи всё-таки зависят."
   ]
  },
  {
   "cell_type": "markdown",
   "metadata": {},
   "source": [
    "## Шаг 5. Проверка гипотезы."
   ]
  },
  {
   "cell_type": "markdown",
   "metadata": {},
   "source": [
    "### Средние пользовательские рейтинги платформ Xbox One и PC одинаковые:"
   ]
  },
  {
   "cell_type": "code",
   "execution_count": 64,
   "metadata": {
    "scrolled": true
   },
   "outputs": [
    {
     "data": {
      "text/plain": [
       "name                  0\n",
       "platform              0\n",
       "year_of_release       0\n",
       "genre                 0\n",
       "na_sales              0\n",
       "eu_sales              0\n",
       "jp_sales              0\n",
       "other_sales           0\n",
       "critic_score       1242\n",
       "user_score         1041\n",
       "rating                0\n",
       "total_sales           0\n",
       "dtype: int64"
      ]
     },
     "execution_count": 64,
     "metadata": {},
     "output_type": "execute_result"
    }
   ],
   "source": [
    "actual_df.isna().sum()"
   ]
  },
  {
   "cell_type": "code",
   "execution_count": 65,
   "metadata": {},
   "outputs": [
    {
     "data": {
      "text/plain": [
       "name                 0\n",
       "platform             0\n",
       "year_of_release      0\n",
       "genre                0\n",
       "na_sales             0\n",
       "eu_sales             0\n",
       "jp_sales             0\n",
       "other_sales          0\n",
       "critic_score       216\n",
       "user_score           0\n",
       "rating               0\n",
       "total_sales          0\n",
       "dtype: int64"
      ]
     },
     "execution_count": 65,
     "metadata": {},
     "output_type": "execute_result"
    }
   ],
   "source": [
    "actual_df_user = actual_df.dropna(subset=['user_score'])\n",
    "actual_df_user.isna().sum()"
   ]
  },
  {
   "cell_type": "markdown",
   "metadata": {},
   "source": [
    "Из `actual_df` я удалил строки, в которых имелись пропуски в столбце `user_score`."
   ]
  },
  {
   "cell_type": "markdown",
   "metadata": {},
   "source": [
    "H0 - Средние пользовательские рейтинги платформ Xbox One и PC одинаковые  \n",
    "H1 - Средние пользовательские рейтинги платформ Xbox One и PC не одинаковые"
   ]
  },
  {
   "cell_type": "code",
   "execution_count": 66,
   "metadata": {},
   "outputs": [
    {
     "name": "stdout",
     "output_type": "stream",
     "text": [
      "p-значение: 0.14012658403611647\n",
      "Не получилось отвергнуть нулевую гипотезу\n"
     ]
    }
   ],
   "source": [
    "sample_xone = actual_df_user.query('platform == \"XOne\"')['user_score']\n",
    "\n",
    "sample_pc = actual_df_user.query('platform == \"PC\"')['user_score']\n",
    "\n",
    "alpha = 0.05 \n",
    "\n",
    "results = st.ttest_ind(sample_xone, sample_pc)\n",
    "\n",
    "print('p-значение:', results.pvalue)\n",
    "\n",
    "if results.pvalue < alpha:\n",
    "    print('Отвергаем нулевую гипотезу')\n",
    "else:\n",
    "    print('Не получилось отвергнуть нулевую гипотезу') "
   ]
  },
  {
   "cell_type": "markdown",
   "metadata": {},
   "source": [
    "По результатам теста есть основания считать, что средние пользовательские рейтинги платформ 'Xbox One' и 'PC' одинаковые."
   ]
  },
  {
   "cell_type": "markdown",
   "metadata": {},
   "source": [
    "### Средние пользовательские рейтинги жанров Action (англ. «действие», экшен-игры) и Sports (англ. «спортивные соревнования») разные:"
   ]
  },
  {
   "cell_type": "markdown",
   "metadata": {},
   "source": [
    "H0 - Средние пользовательские рейтинги жанров Action и жанров Sports одинаковые  \n",
    "H1 - Средние пользовательские рейтинги жанров Action и жанров Sports не одинаковые"
   ]
  },
  {
   "cell_type": "code",
   "execution_count": 67,
   "metadata": {},
   "outputs": [
    {
     "name": "stdout",
     "output_type": "stream",
     "text": [
      "p-значение: 1.0517832389140023e-27\n",
      "Отвергаем нулевую гипотезу\n"
     ]
    }
   ],
   "source": [
    "sample_action = actual_df_user.query('genre == \"Action\"')['user_score']\n",
    "\n",
    "sample_sports = actual_df_user.query('genre == \"Sports\"')['user_score']\n",
    "\n",
    "alpha = 0.05 \n",
    "\n",
    "results = st.ttest_ind(sample_action, sample_sports)\n",
    "\n",
    "print('p-значение:', results.pvalue)\n",
    "\n",
    "if results.pvalue < alpha:\n",
    "    print('Отвергаем нулевую гипотезу')\n",
    "else:\n",
    "    print('Не получилось отвергнуть нулевую гипотезу') "
   ]
  },
  {
   "cell_type": "markdown",
   "metadata": {},
   "source": [
    "По результатам теста есть основания считать, что средние пользовательские рейтинги жанров 'Action' и 'Sports' разные."
   ]
  },
  {
   "cell_type": "markdown",
   "metadata": {},
   "source": [
    "Так как требовалось проверить гипотезы о равенстве и неравенстве, следовательно нулевой гипотезой была гипотеза о равенстве, а альтернативной - о неравенстве.  "
   ]
  },
  {
   "cell_type": "markdown",
   "metadata": {},
   "source": [
    "## Шаг 6. Общий вывод"
   ]
  },
  {
   "cell_type": "markdown",
   "metadata": {},
   "source": [
    "Типы данных были заменены в столбцах year_of_release и user_score. \n",
    "В year_of_release тип данных float заменили на int, так как год выпуска это целое число.  \n",
    "В user_score тип данных заменили со строки на численный, так как оценка в данном случае численная.  \n",
    "  \n",
    "Строки с пропусками в столбцах name и year_of_release были удалены, так как их невозможно заполнить и они занимают 1.6% от объёма данных.  \n",
    "Пропуски в critic_score и user_score не стал заполнять, так как в дальнейшем оценка будет браться только за определённый период и сейчас все пропуски заполнять нет смысла. В rating также не стал заполнять пропуски.  \n",
    "  \n",
    "Я добавил в датафрейм столбец total_sales, в котором суммируются значения из столбцов na_sales, eu_sales, jp_sales и other_sales.  \n",
    "  \n",
    "До 2009 года количество выпущенных за год игр по большей части росло, после чего начало падать. Считаю важными данные с 2013 года.  \n",
    "  \n",
    "Исходя из суммарных продаж для всех платформ, выбрал те, которые посчитал успешными и удобными для построения распределения по годам.  \n",
    "  \n",
    "По графикам видно, что платформы исчезают примерно через 10 лет после появления, а новые появляются примерно каждые 5-6 лет.  \n",
    "  \n",
    "Я взял данные за актуальный период (с 2013 года). Заполнил пропуски в столбце rating строкой 'Nan'.  \n",
    "За выбранный период (с 2013 года) по продажам лидируют 3DS, PS3, PS4, Wii, X360.  \n",
    "Продажи всех платформ к 2016 году падают. Потенциально прибыльными в 2017 году можно назвать 3DS, XOne, PS4.   \n",
    "  \n",
    "Медианы глобальных продаж почти по всем платформам лежат между 20 и 40. Сильно выбивается PS4, медиана которой больше 80.  \n",
    "В общем, с увеличением оценки пользователей растёт и количество игр на PS4 с более высоким значением total_sales. \n",
    "В случае с оценками критиков зависимость более чёткая. Видно, что они не линейная, но всё-же, по большей части, чем выше оценка, тем выше сборы.  \n",
    "  \n",
    "Наибольшее значение медианы суммарных продаж игр имеет жанр 'Shooter'\n",
    "    \n",
    "Судя по коэффициенту корреляции от отзывов критиков total_sales зависит куда больше, чем от отзывов пользователей.  \n",
    "По остальным платформам ситуация примерно такая же. Только на продажи для '3DS' user_score влияет сильнее, чем для других платформ.  \n",
    "  \n",
    "Судя по сводным таблицам и круговым диаграммам в EU и NA популярны одни и те же платформы, разница в долях (в EU 'PS4' имеет куда большую долю, чем в NA). В JP популярны другие платформы.  \n",
    "  \n",
    "Для NA и EU топы отличаются только пятым жанром. Топ для JP похож на NA, с разницей в одном жанре и последовательности.  \n",
    "В столбце rating много пропусков. Но по тем строкам, где пропусков в данном столбце нет, можно сделать вывод, что от рейтинга ESRB продажи всё-таки зависят.  \n",
    "  \n",
    "По результатам теста есть основания считать, что средние пользовательские рейтинги платформ 'Xbox One' и 'PC' одинаковые.  \n",
    "По результатам теста есть основания считать, что средние пользовательские рейтинги жанров 'Action' и 'Sports' разные.  \n",
    "Так как требовалось проверить гипотезы о равенстве и неравенстве, следовательно нулевой гипотезой была гипотеза о равенстве, а альтернативной - о неравенстве.\n",
    "\n",
    "**Рекомендации:** \n",
    "1. В 2017 году потенциально наиболее успешные платформы - '3DS', 'PS4' и 'XOne\n",
    "2. На продажи игры больше влияет оценка критиков\n",
    "3. Наиболее прибыльные игры - игры в жанре 'Shooter' и 'Platform' \n",
    "4. \n",
    "- В NA наибольшую популярность имеют 'PS4' и 'XOne'\n",
    "- В EU - 'PS4'\n",
    "- В JP - '3DS'\n",
    "5. В JP наиболее популярны игры с рейтингом "
   ]
  }
 ],
 "metadata": {
  "ExecuteTimeLog": [
   {
    "duration": 1250,
    "start_time": "2023-07-21T18:13:56.733Z"
   },
   {
    "duration": 95,
    "start_time": "2023-07-21T18:16:49.029Z"
   },
   {
    "duration": 67,
    "start_time": "2023-07-21T18:17:03.646Z"
   },
   {
    "duration": 15,
    "start_time": "2023-07-21T18:18:02.090Z"
   },
   {
    "duration": 51,
    "start_time": "2023-07-21T23:53:28.345Z"
   },
   {
    "duration": 1432,
    "start_time": "2023-07-21T23:53:35.255Z"
   },
   {
    "duration": 199,
    "start_time": "2023-07-21T23:53:36.689Z"
   },
   {
    "duration": 18,
    "start_time": "2023-07-21T23:53:36.889Z"
   },
   {
    "duration": 72,
    "start_time": "2023-07-21T23:53:39.794Z"
   },
   {
    "duration": 3,
    "start_time": "2023-07-21T23:58:05.667Z"
   },
   {
    "duration": 15,
    "start_time": "2023-07-21T23:58:19.200Z"
   },
   {
    "duration": 13,
    "start_time": "2023-07-21T23:59:45.838Z"
   },
   {
    "duration": 24,
    "start_time": "2023-07-22T00:00:03.558Z"
   },
   {
    "duration": 20,
    "start_time": "2023-07-22T00:00:14.499Z"
   },
   {
    "duration": 6,
    "start_time": "2023-07-22T00:00:42.831Z"
   },
   {
    "duration": 13,
    "start_time": "2023-07-22T00:03:35.689Z"
   },
   {
    "duration": 18,
    "start_time": "2023-07-22T00:09:45.617Z"
   },
   {
    "duration": 19,
    "start_time": "2023-07-22T00:12:12.007Z"
   },
   {
    "duration": 10,
    "start_time": "2023-07-22T00:12:19.927Z"
   },
   {
    "duration": 9,
    "start_time": "2023-07-22T00:13:40.743Z"
   },
   {
    "duration": 4,
    "start_time": "2023-07-22T00:23:42.729Z"
   },
   {
    "duration": 13,
    "start_time": "2023-07-22T00:24:16.654Z"
   },
   {
    "duration": 13,
    "start_time": "2023-07-22T00:24:45.196Z"
   },
   {
    "duration": 16,
    "start_time": "2023-07-22T00:29:26.155Z"
   },
   {
    "duration": 15,
    "start_time": "2023-07-22T00:30:09.520Z"
   },
   {
    "duration": 8,
    "start_time": "2023-07-22T00:30:10.256Z"
   },
   {
    "duration": 15,
    "start_time": "2023-07-22T00:30:13.586Z"
   },
   {
    "duration": 14,
    "start_time": "2023-07-22T00:32:34.483Z"
   },
   {
    "duration": 14,
    "start_time": "2023-07-22T00:32:44.017Z"
   },
   {
    "duration": 4,
    "start_time": "2023-07-22T00:32:51.498Z"
   },
   {
    "duration": 5,
    "start_time": "2023-07-22T00:33:54.371Z"
   },
   {
    "duration": 7,
    "start_time": "2023-07-22T00:34:15.168Z"
   },
   {
    "duration": 12,
    "start_time": "2023-07-22T00:45:16.366Z"
   },
   {
    "duration": 114,
    "start_time": "2023-07-22T00:56:36.811Z"
   },
   {
    "duration": 4,
    "start_time": "2023-07-22T00:56:54.436Z"
   },
   {
    "duration": 15,
    "start_time": "2023-07-22T00:57:12.161Z"
   },
   {
    "duration": 4,
    "start_time": "2023-07-22T00:59:33.315Z"
   },
   {
    "duration": 3,
    "start_time": "2023-07-22T01:55:22.578Z"
   },
   {
    "duration": 72,
    "start_time": "2023-07-22T01:55:23.133Z"
   },
   {
    "duration": 14,
    "start_time": "2023-07-22T01:55:23.423Z"
   },
   {
    "duration": 14,
    "start_time": "2023-07-22T01:55:24.553Z"
   },
   {
    "duration": 13,
    "start_time": "2023-07-22T01:55:26.323Z"
   },
   {
    "duration": 8,
    "start_time": "2023-07-22T01:55:26.623Z"
   },
   {
    "duration": 14,
    "start_time": "2023-07-22T01:55:27.602Z"
   },
   {
    "duration": 9,
    "start_time": "2023-07-22T01:55:28.883Z"
   },
   {
    "duration": 13,
    "start_time": "2023-07-22T01:55:29.983Z"
   },
   {
    "duration": 1863,
    "start_time": "2023-07-22T02:07:00.028Z"
   },
   {
    "duration": 6,
    "start_time": "2023-07-22T02:07:07.643Z"
   },
   {
    "duration": 6,
    "start_time": "2023-07-22T02:07:46.663Z"
   },
   {
    "duration": 5,
    "start_time": "2023-07-22T02:08:04.338Z"
   },
   {
    "duration": 9,
    "start_time": "2023-07-22T02:08:34.402Z"
   },
   {
    "duration": 8,
    "start_time": "2023-07-22T02:08:39.252Z"
   },
   {
    "duration": 7,
    "start_time": "2023-07-22T02:08:50.903Z"
   },
   {
    "duration": 61,
    "start_time": "2023-07-22T02:09:10.522Z"
   },
   {
    "duration": 1850,
    "start_time": "2023-07-22T02:09:17.857Z"
   },
   {
    "duration": 11,
    "start_time": "2023-07-22T02:09:37.253Z"
   },
   {
    "duration": 62,
    "start_time": "2023-07-22T02:10:44.164Z"
   },
   {
    "duration": 14,
    "start_time": "2023-07-22T02:10:44.422Z"
   },
   {
    "duration": 15,
    "start_time": "2023-07-22T02:10:45.492Z"
   },
   {
    "duration": 14,
    "start_time": "2023-07-22T02:10:46.072Z"
   },
   {
    "duration": 8,
    "start_time": "2023-07-22T02:10:46.333Z"
   },
   {
    "duration": 14,
    "start_time": "2023-07-22T02:10:46.633Z"
   },
   {
    "duration": 9,
    "start_time": "2023-07-22T02:10:47.093Z"
   },
   {
    "duration": 13,
    "start_time": "2023-07-22T02:10:47.532Z"
   },
   {
    "duration": 7,
    "start_time": "2023-07-22T02:10:47.862Z"
   },
   {
    "duration": 5,
    "start_time": "2023-07-22T02:22:20.913Z"
   },
   {
    "duration": 5,
    "start_time": "2023-07-22T02:23:47.443Z"
   },
   {
    "duration": 6,
    "start_time": "2023-07-22T02:24:01.483Z"
   },
   {
    "duration": 144,
    "start_time": "2023-07-22T02:33:54.778Z"
   },
   {
    "duration": 6,
    "start_time": "2023-07-22T02:37:27.058Z"
   },
   {
    "duration": 5,
    "start_time": "2023-07-22T02:44:39.867Z"
   },
   {
    "duration": 16,
    "start_time": "2023-07-22T02:45:02.308Z"
   },
   {
    "duration": 14,
    "start_time": "2023-07-22T02:45:34.672Z"
   },
   {
    "duration": 10,
    "start_time": "2023-07-22T02:47:41.738Z"
   },
   {
    "duration": 6,
    "start_time": "2023-07-22T02:47:45.648Z"
   },
   {
    "duration": 6,
    "start_time": "2023-07-22T02:47:57.921Z"
   },
   {
    "duration": 4,
    "start_time": "2023-07-22T02:55:19.768Z"
   },
   {
    "duration": 12,
    "start_time": "2023-07-22T02:55:33.578Z"
   },
   {
    "duration": 4,
    "start_time": "2023-07-22T02:56:10.748Z"
   },
   {
    "duration": 11,
    "start_time": "2023-07-22T02:56:14.252Z"
   },
   {
    "duration": 4,
    "start_time": "2023-07-22T02:56:20.838Z"
   },
   {
    "duration": 4,
    "start_time": "2023-07-22T02:58:31.918Z"
   },
   {
    "duration": 4,
    "start_time": "2023-07-22T02:58:50.838Z"
   },
   {
    "duration": 6,
    "start_time": "2023-07-22T02:59:56.513Z"
   },
   {
    "duration": 10,
    "start_time": "2023-07-22T03:00:00.722Z"
   },
   {
    "duration": 10,
    "start_time": "2023-07-22T03:00:17.552Z"
   },
   {
    "duration": 14,
    "start_time": "2023-07-22T03:00:53.142Z"
   },
   {
    "duration": 10,
    "start_time": "2023-07-22T03:01:00.343Z"
   },
   {
    "duration": 9,
    "start_time": "2023-07-22T03:01:12.633Z"
   },
   {
    "duration": 12,
    "start_time": "2023-07-22T03:03:34.858Z"
   },
   {
    "duration": 12,
    "start_time": "2023-07-22T03:04:08.623Z"
   },
   {
    "duration": 122,
    "start_time": "2023-07-22T03:04:38.753Z"
   },
   {
    "duration": 12,
    "start_time": "2023-07-22T03:04:43.063Z"
   },
   {
    "duration": 12,
    "start_time": "2023-07-22T03:04:59.272Z"
   },
   {
    "duration": 50,
    "start_time": "2023-07-22T13:35:14.028Z"
   },
   {
    "duration": 1236,
    "start_time": "2023-07-22T13:35:19.953Z"
   },
   {
    "duration": 107,
    "start_time": "2023-07-22T13:35:21.191Z"
   },
   {
    "duration": 12,
    "start_time": "2023-07-22T13:35:21.300Z"
   },
   {
    "duration": 24,
    "start_time": "2023-07-22T13:35:21.314Z"
   },
   {
    "duration": 31,
    "start_time": "2023-07-22T13:35:21.340Z"
   },
   {
    "duration": 35,
    "start_time": "2023-07-22T13:35:21.372Z"
   },
   {
    "duration": 24,
    "start_time": "2023-07-22T13:35:21.409Z"
   },
   {
    "duration": 25,
    "start_time": "2023-07-22T13:35:21.434Z"
   },
   {
    "duration": 17,
    "start_time": "2023-07-22T13:35:21.461Z"
   },
   {
    "duration": 6,
    "start_time": "2023-07-22T13:35:21.549Z"
   },
   {
    "duration": 14,
    "start_time": "2023-07-22T13:35:23.106Z"
   },
   {
    "duration": 81,
    "start_time": "2023-07-22T13:35:23.138Z"
   },
   {
    "duration": 5,
    "start_time": "2023-07-22T13:35:24.600Z"
   },
   {
    "duration": 12,
    "start_time": "2023-07-22T13:35:26.091Z"
   },
   {
    "duration": 19,
    "start_time": "2023-07-22T13:35:31.241Z"
   },
   {
    "duration": 10,
    "start_time": "2023-07-22T13:38:45.175Z"
   },
   {
    "duration": 9,
    "start_time": "2023-07-22T13:38:51.848Z"
   },
   {
    "duration": 65,
    "start_time": "2023-07-22T13:40:00.920Z"
   },
   {
    "duration": 109,
    "start_time": "2023-07-22T13:42:58.496Z"
   },
   {
    "duration": 104,
    "start_time": "2023-07-22T13:43:33.652Z"
   },
   {
    "duration": 10,
    "start_time": "2023-07-22T13:43:39.155Z"
   },
   {
    "duration": 5,
    "start_time": "2023-07-22T13:48:17.549Z"
   },
   {
    "duration": 12,
    "start_time": "2023-07-22T13:48:29.074Z"
   },
   {
    "duration": 9,
    "start_time": "2023-07-22T13:48:36.950Z"
   },
   {
    "duration": 3,
    "start_time": "2023-07-22T14:06:37.408Z"
   },
   {
    "duration": 7,
    "start_time": "2023-07-22T14:06:42.765Z"
   },
   {
    "duration": 17,
    "start_time": "2023-07-22T14:07:45.572Z"
   },
   {
    "duration": 6,
    "start_time": "2023-07-22T14:11:07.099Z"
   },
   {
    "duration": 62,
    "start_time": "2023-07-22T14:11:21.783Z"
   },
   {
    "duration": 18,
    "start_time": "2023-07-22T14:11:22.834Z"
   },
   {
    "duration": 14,
    "start_time": "2023-07-22T14:11:23.448Z"
   },
   {
    "duration": 14,
    "start_time": "2023-07-22T14:11:23.513Z"
   },
   {
    "duration": 11,
    "start_time": "2023-07-22T14:11:23.548Z"
   },
   {
    "duration": 14,
    "start_time": "2023-07-22T14:11:23.582Z"
   },
   {
    "duration": 9,
    "start_time": "2023-07-22T14:11:23.616Z"
   },
   {
    "duration": 13,
    "start_time": "2023-07-22T14:11:23.649Z"
   },
   {
    "duration": 6,
    "start_time": "2023-07-22T14:11:26.405Z"
   },
   {
    "duration": 15,
    "start_time": "2023-07-22T14:11:28.612Z"
   },
   {
    "duration": 13,
    "start_time": "2023-07-22T14:11:29.392Z"
   },
   {
    "duration": 6,
    "start_time": "2023-07-22T14:11:33.682Z"
   },
   {
    "duration": 6,
    "start_time": "2023-07-22T14:12:01.417Z"
   },
   {
    "duration": 5,
    "start_time": "2023-07-22T14:12:09.294Z"
   },
   {
    "duration": 4,
    "start_time": "2023-07-22T14:12:49.217Z"
   },
   {
    "duration": 5,
    "start_time": "2023-07-22T14:13:59.287Z"
   },
   {
    "duration": 6,
    "start_time": "2023-07-22T14:14:36.257Z"
   },
   {
    "duration": 5,
    "start_time": "2023-07-22T14:14:59.891Z"
   },
   {
    "duration": 19,
    "start_time": "2023-07-22T14:15:29.543Z"
   },
   {
    "duration": 30,
    "start_time": "2023-07-22T14:15:41.210Z"
   },
   {
    "duration": 6,
    "start_time": "2023-07-22T14:16:14.183Z"
   },
   {
    "duration": 6,
    "start_time": "2023-07-22T14:16:29.809Z"
   },
   {
    "duration": 7,
    "start_time": "2023-07-22T14:16:38.704Z"
   },
   {
    "duration": 7,
    "start_time": "2023-07-22T14:16:49.786Z"
   },
   {
    "duration": 7,
    "start_time": "2023-07-22T14:16:55.385Z"
   },
   {
    "duration": 6,
    "start_time": "2023-07-22T14:17:11.774Z"
   },
   {
    "duration": 138,
    "start_time": "2023-07-22T14:19:04.553Z"
   },
   {
    "duration": 149,
    "start_time": "2023-07-22T14:20:03.368Z"
   },
   {
    "duration": 151,
    "start_time": "2023-07-22T14:20:08.462Z"
   },
   {
    "duration": 143,
    "start_time": "2023-07-22T14:22:49.963Z"
   },
   {
    "duration": 190,
    "start_time": "2023-07-22T14:23:09.712Z"
   },
   {
    "duration": 172,
    "start_time": "2023-07-22T14:24:31.338Z"
   },
   {
    "duration": 153,
    "start_time": "2023-07-22T14:25:02.681Z"
   },
   {
    "duration": 141,
    "start_time": "2023-07-22T14:25:30.668Z"
   },
   {
    "duration": 8,
    "start_time": "2023-07-22T14:31:50.121Z"
   },
   {
    "duration": 26,
    "start_time": "2023-07-22T14:32:01.211Z"
   },
   {
    "duration": 3,
    "start_time": "2023-07-22T14:32:27.488Z"
   },
   {
    "duration": 58,
    "start_time": "2023-07-22T14:32:28.040Z"
   },
   {
    "duration": 14,
    "start_time": "2023-07-22T14:32:28.099Z"
   },
   {
    "duration": 18,
    "start_time": "2023-07-22T14:32:28.212Z"
   },
   {
    "duration": 15,
    "start_time": "2023-07-22T14:32:28.264Z"
   },
   {
    "duration": 12,
    "start_time": "2023-07-22T14:32:28.716Z"
   },
   {
    "duration": 13,
    "start_time": "2023-07-22T14:32:29.234Z"
   },
   {
    "duration": 8,
    "start_time": "2023-07-22T14:32:29.263Z"
   },
   {
    "duration": 24,
    "start_time": "2023-07-22T14:32:29.909Z"
   },
   {
    "duration": 83,
    "start_time": "2023-07-22T14:32:34.157Z"
   },
   {
    "duration": 16,
    "start_time": "2023-07-22T14:32:35.850Z"
   },
   {
    "duration": 14,
    "start_time": "2023-07-22T14:32:38.479Z"
   },
   {
    "duration": 143,
    "start_time": "2023-07-22T14:32:41.894Z"
   },
   {
    "duration": 10,
    "start_time": "2023-07-22T14:32:43.695Z"
   },
   {
    "duration": 6,
    "start_time": "2023-07-22T14:32:45.496Z"
   },
   {
    "duration": 21,
    "start_time": "2023-07-22T14:32:49.230Z"
   },
   {
    "duration": 9,
    "start_time": "2023-07-22T14:33:37.578Z"
   },
   {
    "duration": 20,
    "start_time": "2023-07-22T14:33:41.877Z"
   },
   {
    "duration": 4,
    "start_time": "2023-07-22T14:33:50.646Z"
   },
   {
    "duration": 14,
    "start_time": "2023-07-22T14:33:51.131Z"
   },
   {
    "duration": 6,
    "start_time": "2023-07-22T14:33:56.075Z"
   },
   {
    "duration": 19,
    "start_time": "2023-07-22T14:33:57.520Z"
   },
   {
    "duration": 12,
    "start_time": "2023-07-22T14:33:58.390Z"
   },
   {
    "duration": 130,
    "start_time": "2023-07-22T14:34:00.452Z"
   },
   {
    "duration": 10,
    "start_time": "2023-07-22T14:34:02.005Z"
   },
   {
    "duration": 6,
    "start_time": "2023-07-22T14:34:03.033Z"
   },
   {
    "duration": 22,
    "start_time": "2023-07-22T14:34:03.364Z"
   },
   {
    "duration": 4,
    "start_time": "2023-07-22T14:34:22.909Z"
   },
   {
    "duration": 24,
    "start_time": "2023-07-22T14:34:26.813Z"
   },
   {
    "duration": 24,
    "start_time": "2023-07-22T14:34:32.538Z"
   },
   {
    "duration": 24,
    "start_time": "2023-07-22T14:35:21.934Z"
   },
   {
    "duration": 19,
    "start_time": "2023-07-22T14:36:44.777Z"
   },
   {
    "duration": 18,
    "start_time": "2023-07-22T14:38:15.936Z"
   },
   {
    "duration": 142,
    "start_time": "2023-07-22T14:38:57.061Z"
   },
   {
    "duration": 3,
    "start_time": "2023-07-22T14:44:46.615Z"
   },
   {
    "duration": 15,
    "start_time": "2023-07-22T14:45:00.246Z"
   },
   {
    "duration": 10,
    "start_time": "2023-07-22T14:45:04.739Z"
   },
   {
    "duration": 139,
    "start_time": "2023-07-22T14:45:11.048Z"
   },
   {
    "duration": 4,
    "start_time": "2023-07-22T15:44:46.138Z"
   },
   {
    "duration": 4,
    "start_time": "2023-07-22T15:44:53.234Z"
   },
   {
    "duration": 4,
    "start_time": "2023-07-22T15:46:03.840Z"
   },
   {
    "duration": 4,
    "start_time": "2023-07-22T15:46:07.251Z"
   },
   {
    "duration": 5,
    "start_time": "2023-07-22T15:46:16.797Z"
   },
   {
    "duration": 5,
    "start_time": "2023-07-22T15:46:57.235Z"
   },
   {
    "duration": 128,
    "start_time": "2023-07-22T15:51:44.371Z"
   },
   {
    "duration": 102,
    "start_time": "2023-07-22T15:52:32.775Z"
   },
   {
    "duration": 19,
    "start_time": "2023-07-22T15:53:10.739Z"
   },
   {
    "duration": 1286,
    "start_time": "2023-07-22T15:53:21.506Z"
   },
   {
    "duration": 110,
    "start_time": "2023-07-22T15:56:11.229Z"
   },
   {
    "duration": 1906,
    "start_time": "2023-07-22T15:58:13.469Z"
   },
   {
    "duration": 1669,
    "start_time": "2023-07-22T15:58:38.828Z"
   },
   {
    "duration": 1600,
    "start_time": "2023-07-22T15:58:57.740Z"
   },
   {
    "duration": 28,
    "start_time": "2023-07-22T15:59:17.032Z"
   },
   {
    "duration": 1787,
    "start_time": "2023-07-22T15:59:19.240Z"
   },
   {
    "duration": 1495,
    "start_time": "2023-07-22T16:00:45.334Z"
   },
   {
    "duration": 1867,
    "start_time": "2023-07-22T16:01:13.758Z"
   },
   {
    "duration": 118,
    "start_time": "2023-07-22T16:01:29.732Z"
   },
   {
    "duration": 120,
    "start_time": "2023-07-22T16:01:41.667Z"
   },
   {
    "duration": 1657,
    "start_time": "2023-07-22T16:02:07.248Z"
   },
   {
    "duration": 1643,
    "start_time": "2023-07-22T16:04:24.735Z"
   },
   {
    "duration": 2597,
    "start_time": "2023-07-22T16:05:05.440Z"
   },
   {
    "duration": 2474,
    "start_time": "2023-07-22T16:09:37.639Z"
   },
   {
    "duration": 1476,
    "start_time": "2023-07-22T16:09:59.033Z"
   },
   {
    "duration": 33,
    "start_time": "2023-07-22T16:22:26.033Z"
   },
   {
    "duration": 11,
    "start_time": "2023-07-22T16:23:45.087Z"
   },
   {
    "duration": 2,
    "start_time": "2023-07-22T16:24:10.643Z"
   },
   {
    "duration": 30,
    "start_time": "2023-07-22T16:25:21.371Z"
   },
   {
    "duration": 1419,
    "start_time": "2023-07-22T16:26:18.176Z"
   },
   {
    "duration": 13,
    "start_time": "2023-07-22T16:26:43.624Z"
   },
   {
    "duration": 9,
    "start_time": "2023-07-22T16:27:07.553Z"
   },
   {
    "duration": 19,
    "start_time": "2023-07-22T16:27:28.687Z"
   },
   {
    "duration": 34,
    "start_time": "2023-07-22T16:27:36.102Z"
   },
   {
    "duration": 1546,
    "start_time": "2023-07-22T16:28:40.982Z"
   },
   {
    "duration": 1518,
    "start_time": "2023-07-22T16:28:57.848Z"
   },
   {
    "duration": 24,
    "start_time": "2023-07-22T16:29:20.972Z"
   },
   {
    "duration": 32,
    "start_time": "2023-07-22T16:29:38.782Z"
   },
   {
    "duration": 45,
    "start_time": "2023-07-22T16:29:42.316Z"
   },
   {
    "duration": 38,
    "start_time": "2023-07-22T16:29:50.517Z"
   },
   {
    "duration": 268,
    "start_time": "2023-07-22T16:31:15.348Z"
   },
   {
    "duration": 5,
    "start_time": "2023-07-22T16:31:43.989Z"
   },
   {
    "duration": 27,
    "start_time": "2023-07-22T16:31:48.213Z"
   },
   {
    "duration": 2,
    "start_time": "2023-07-22T16:31:50.931Z"
   },
   {
    "duration": 26,
    "start_time": "2023-07-22T16:31:52.889Z"
   },
   {
    "duration": 175,
    "start_time": "2023-07-22T16:31:57.002Z"
   },
   {
    "duration": 4,
    "start_time": "2023-07-22T16:34:09.339Z"
   },
   {
    "duration": 31,
    "start_time": "2023-07-22T16:34:09.817Z"
   },
   {
    "duration": 2,
    "start_time": "2023-07-22T16:34:10.151Z"
   },
   {
    "duration": 23,
    "start_time": "2023-07-22T16:34:10.529Z"
   },
   {
    "duration": 186,
    "start_time": "2023-07-22T16:34:10.893Z"
   },
   {
    "duration": 13,
    "start_time": "2023-07-22T16:35:21.330Z"
   },
   {
    "duration": 47,
    "start_time": "2023-07-22T16:40:56.260Z"
   },
   {
    "duration": 262,
    "start_time": "2023-07-22T16:41:07.158Z"
   },
   {
    "duration": 253,
    "start_time": "2023-07-22T16:42:10.032Z"
   },
   {
    "duration": 234,
    "start_time": "2023-07-22T16:44:56.093Z"
   },
   {
    "duration": 223,
    "start_time": "2023-07-22T16:45:04.300Z"
   },
   {
    "duration": 253,
    "start_time": "2023-07-22T16:55:18.378Z"
   },
   {
    "duration": 216,
    "start_time": "2023-07-22T16:56:04.973Z"
   },
   {
    "duration": 5,
    "start_time": "2023-07-22T16:59:40.168Z"
   },
   {
    "duration": 25,
    "start_time": "2023-07-22T16:59:45.783Z"
   },
   {
    "duration": 25,
    "start_time": "2023-07-22T16:59:46.065Z"
   },
   {
    "duration": 231,
    "start_time": "2023-07-22T16:59:49.402Z"
   },
   {
    "duration": 210,
    "start_time": "2023-07-22T17:00:09.506Z"
   },
   {
    "duration": 247,
    "start_time": "2023-07-22T17:00:31.259Z"
   },
   {
    "duration": 229,
    "start_time": "2023-07-22T17:00:39.874Z"
   },
   {
    "duration": 225,
    "start_time": "2023-07-22T17:01:09.591Z"
   },
   {
    "duration": 5,
    "start_time": "2023-07-22T17:13:20.785Z"
   },
   {
    "duration": 22,
    "start_time": "2023-07-22T17:13:22.147Z"
   },
   {
    "duration": 25,
    "start_time": "2023-07-22T17:13:23.295Z"
   },
   {
    "duration": 21,
    "start_time": "2023-07-22T17:13:27.427Z"
   },
   {
    "duration": 360,
    "start_time": "2023-07-22T17:16:49.218Z"
   },
   {
    "duration": 172,
    "start_time": "2023-07-22T17:29:07.554Z"
   },
   {
    "duration": 203,
    "start_time": "2023-07-22T17:29:12.320Z"
   },
   {
    "duration": 208,
    "start_time": "2023-07-22T17:29:44.120Z"
   },
   {
    "duration": 182,
    "start_time": "2023-07-22T17:29:53.088Z"
   },
   {
    "duration": 166,
    "start_time": "2023-07-22T17:30:03.817Z"
   },
   {
    "duration": 162,
    "start_time": "2023-07-22T17:30:07.057Z"
   },
   {
    "duration": 168,
    "start_time": "2023-07-22T17:30:14.440Z"
   },
   {
    "duration": 163,
    "start_time": "2023-07-22T17:30:21.171Z"
   },
   {
    "duration": 188,
    "start_time": "2023-07-22T17:30:29.669Z"
   },
   {
    "duration": 100,
    "start_time": "2023-07-22T17:30:55.169Z"
   },
   {
    "duration": 145,
    "start_time": "2023-07-22T17:31:00.148Z"
   },
   {
    "duration": 138,
    "start_time": "2023-07-22T17:31:05.242Z"
   },
   {
    "duration": 163,
    "start_time": "2023-07-22T17:31:14.158Z"
   },
   {
    "duration": 133,
    "start_time": "2023-07-22T17:31:35.173Z"
   },
   {
    "duration": 306,
    "start_time": "2023-07-22T17:31:52.139Z"
   },
   {
    "duration": 132,
    "start_time": "2023-07-22T17:31:57.294Z"
   },
   {
    "duration": 154,
    "start_time": "2023-07-22T17:32:05.927Z"
   },
   {
    "duration": 176,
    "start_time": "2023-07-22T17:32:13.587Z"
   },
   {
    "duration": 149,
    "start_time": "2023-07-22T17:32:23.327Z"
   },
   {
    "duration": 158,
    "start_time": "2023-07-22T17:32:30.453Z"
   },
   {
    "duration": 229,
    "start_time": "2023-07-22T17:32:58.846Z"
   },
   {
    "duration": 263,
    "start_time": "2023-07-22T17:33:17.172Z"
   },
   {
    "duration": 44,
    "start_time": "2023-07-23T10:10:02.633Z"
   },
   {
    "duration": 2240,
    "start_time": "2023-07-23T10:10:10.370Z"
   },
   {
    "duration": 114,
    "start_time": "2023-07-23T10:10:12.612Z"
   },
   {
    "duration": 14,
    "start_time": "2023-07-23T10:10:12.728Z"
   },
   {
    "duration": 14,
    "start_time": "2023-07-23T10:10:12.744Z"
   },
   {
    "duration": 17,
    "start_time": "2023-07-23T10:10:12.759Z"
   },
   {
    "duration": 9,
    "start_time": "2023-07-23T10:10:12.778Z"
   },
   {
    "duration": 17,
    "start_time": "2023-07-23T10:10:12.789Z"
   },
   {
    "duration": 40,
    "start_time": "2023-07-23T10:10:12.807Z"
   },
   {
    "duration": 11,
    "start_time": "2023-07-23T10:10:12.849Z"
   },
   {
    "duration": 14,
    "start_time": "2023-07-23T10:10:12.863Z"
   },
   {
    "duration": 6,
    "start_time": "2023-07-23T10:10:12.879Z"
   },
   {
    "duration": 45,
    "start_time": "2023-07-23T10:10:12.887Z"
   },
   {
    "duration": 14,
    "start_time": "2023-07-23T10:10:12.933Z"
   },
   {
    "duration": 189,
    "start_time": "2023-07-23T10:10:12.948Z"
   },
   {
    "duration": 10,
    "start_time": "2023-07-23T10:10:13.139Z"
   },
   {
    "duration": 5,
    "start_time": "2023-07-23T10:10:13.150Z"
   },
   {
    "duration": 22,
    "start_time": "2023-07-23T10:10:13.157Z"
   },
   {
    "duration": 53,
    "start_time": "2023-07-23T10:10:13.181Z"
   },
   {
    "duration": 309,
    "start_time": "2023-07-23T10:10:13.235Z"
   },
   {
    "duration": 7,
    "start_time": "2023-07-23T10:10:13.546Z"
   },
   {
    "duration": 21,
    "start_time": "2023-07-23T10:10:25.101Z"
   },
   {
    "duration": 25,
    "start_time": "2023-07-23T10:10:50.785Z"
   },
   {
    "duration": 22,
    "start_time": "2023-07-23T10:48:19.158Z"
   },
   {
    "duration": 30,
    "start_time": "2023-07-23T10:49:27.632Z"
   },
   {
    "duration": 12,
    "start_time": "2023-07-23T10:51:08.502Z"
   },
   {
    "duration": 6,
    "start_time": "2023-07-23T10:52:50.363Z"
   },
   {
    "duration": 4,
    "start_time": "2023-07-23T10:52:53.472Z"
   },
   {
    "duration": 8,
    "start_time": "2023-07-23T10:52:56.461Z"
   },
   {
    "duration": 15,
    "start_time": "2023-07-23T11:00:39.755Z"
   },
   {
    "duration": 8,
    "start_time": "2023-07-23T11:00:51.789Z"
   },
   {
    "duration": 29,
    "start_time": "2023-07-23T11:02:26.980Z"
   },
   {
    "duration": 192,
    "start_time": "2023-07-23T11:04:48.061Z"
   },
   {
    "duration": 26,
    "start_time": "2023-07-23T11:04:55.316Z"
   },
   {
    "duration": 150,
    "start_time": "2023-07-23T11:06:39.958Z"
   },
   {
    "duration": 2370,
    "start_time": "2023-07-23T11:06:45.393Z"
   },
   {
    "duration": 22,
    "start_time": "2023-07-23T11:07:30.905Z"
   },
   {
    "duration": 27,
    "start_time": "2023-07-23T11:08:19.000Z"
   },
   {
    "duration": 317,
    "start_time": "2023-07-23T11:08:31.665Z"
   },
   {
    "duration": 47,
    "start_time": "2023-07-23T11:09:09.831Z"
   },
   {
    "duration": 12,
    "start_time": "2023-07-23T11:09:12.159Z"
   },
   {
    "duration": 5,
    "start_time": "2023-07-23T11:09:33.297Z"
   },
   {
    "duration": 291,
    "start_time": "2023-07-23T11:09:39.093Z"
   },
   {
    "duration": 188,
    "start_time": "2023-07-23T12:29:25.672Z"
   },
   {
    "duration": 186,
    "start_time": "2023-07-23T12:36:27.112Z"
   },
   {
    "duration": 110,
    "start_time": "2023-07-23T12:36:38.713Z"
   },
   {
    "duration": 116,
    "start_time": "2023-07-23T12:36:44.158Z"
   },
   {
    "duration": 204,
    "start_time": "2023-07-23T12:36:52.756Z"
   },
   {
    "duration": 186,
    "start_time": "2023-07-23T12:37:06.048Z"
   },
   {
    "duration": 7,
    "start_time": "2023-07-23T12:53:46.597Z"
   },
   {
    "duration": 11,
    "start_time": "2023-07-23T12:54:04.996Z"
   },
   {
    "duration": 1350,
    "start_time": "2023-07-24T05:00:56.299Z"
   },
   {
    "duration": 143,
    "start_time": "2023-07-24T05:01:00.178Z"
   },
   {
    "duration": 13,
    "start_time": "2023-07-24T05:01:03.285Z"
   },
   {
    "duration": 13,
    "start_time": "2023-07-24T05:01:08.463Z"
   },
   {
    "duration": 15,
    "start_time": "2023-07-24T05:01:12.419Z"
   },
   {
    "duration": 8,
    "start_time": "2023-07-24T05:01:17.449Z"
   },
   {
    "duration": 16,
    "start_time": "2023-07-24T05:01:18.221Z"
   },
   {
    "duration": 19,
    "start_time": "2023-07-24T05:01:19.175Z"
   },
   {
    "duration": 10,
    "start_time": "2023-07-24T05:01:36.173Z"
   },
   {
    "duration": 11,
    "start_time": "2023-07-24T05:01:36.581Z"
   },
   {
    "duration": 15,
    "start_time": "2023-07-24T05:02:05.152Z"
   },
   {
    "duration": 14,
    "start_time": "2023-07-24T05:02:14.376Z"
   },
   {
    "duration": 6,
    "start_time": "2023-07-24T05:02:26.636Z"
   },
   {
    "duration": 14,
    "start_time": "2023-07-24T05:02:59.673Z"
   },
   {
    "duration": 13,
    "start_time": "2023-07-24T05:03:00.445Z"
   },
   {
    "duration": 213,
    "start_time": "2023-07-24T05:03:05.232Z"
   },
   {
    "duration": 9,
    "start_time": "2023-07-24T05:03:06.960Z"
   },
   {
    "duration": 21,
    "start_time": "2023-07-24T05:03:07.696Z"
   },
   {
    "duration": 24,
    "start_time": "2023-07-24T05:03:08.324Z"
   },
   {
    "duration": 47,
    "start_time": "2023-07-24T05:03:09.098Z"
   },
   {
    "duration": 298,
    "start_time": "2023-07-24T05:03:09.756Z"
   },
   {
    "duration": 21,
    "start_time": "2023-07-24T05:03:14.760Z"
   },
   {
    "duration": 11,
    "start_time": "2023-07-24T05:03:39.557Z"
   },
   {
    "duration": 5,
    "start_time": "2023-07-24T05:03:41.122Z"
   },
   {
    "duration": 287,
    "start_time": "2023-07-24T05:03:45.335Z"
   },
   {
    "duration": 206,
    "start_time": "2023-07-24T05:03:53.961Z"
   },
   {
    "duration": 12,
    "start_time": "2023-07-24T05:09:22.832Z"
   },
   {
    "duration": 5,
    "start_time": "2023-07-24T05:09:27.071Z"
   },
   {
    "duration": 14,
    "start_time": "2023-07-24T05:09:29.061Z"
   },
   {
    "duration": 11,
    "start_time": "2023-07-24T05:09:29.540Z"
   },
   {
    "duration": 206,
    "start_time": "2023-07-24T05:09:31.127Z"
   },
   {
    "duration": 10,
    "start_time": "2023-07-24T05:09:32.749Z"
   },
   {
    "duration": 5,
    "start_time": "2023-07-24T05:09:33.743Z"
   },
   {
    "duration": 61,
    "start_time": "2023-07-24T05:09:35.473Z"
   },
   {
    "duration": 31,
    "start_time": "2023-07-24T05:09:36.766Z"
   },
   {
    "duration": 314,
    "start_time": "2023-07-24T05:09:38.026Z"
   },
   {
    "duration": 20,
    "start_time": "2023-07-24T05:09:42.742Z"
   },
   {
    "duration": 7,
    "start_time": "2023-07-24T05:09:48.150Z"
   },
   {
    "duration": 4,
    "start_time": "2023-07-24T05:09:49.145Z"
   },
   {
    "duration": 276,
    "start_time": "2023-07-24T05:09:51.174Z"
   },
   {
    "duration": 222,
    "start_time": "2023-07-24T05:09:53.944Z"
   },
   {
    "duration": 14,
    "start_time": "2023-07-24T05:09:56.073Z"
   },
   {
    "duration": 7,
    "start_time": "2023-07-24T05:09:58.131Z"
   },
   {
    "duration": 111,
    "start_time": "2023-07-24T05:32:59.195Z"
   },
   {
    "duration": 26,
    "start_time": "2023-07-24T05:33:34.192Z"
   },
   {
    "duration": 25,
    "start_time": "2023-07-24T05:34:09.808Z"
   },
   {
    "duration": 24,
    "start_time": "2023-07-24T05:34:34.747Z"
   },
   {
    "duration": 22,
    "start_time": "2023-07-24T05:35:16.994Z"
   },
   {
    "duration": 127,
    "start_time": "2023-07-24T05:35:24.254Z"
   },
   {
    "duration": 188,
    "start_time": "2023-07-24T05:35:30.991Z"
   },
   {
    "duration": 120,
    "start_time": "2023-07-24T05:36:44.962Z"
   },
   {
    "duration": 118,
    "start_time": "2023-07-24T05:38:19.805Z"
   },
   {
    "duration": 206,
    "start_time": "2023-07-24T05:39:26.553Z"
   },
   {
    "duration": 125,
    "start_time": "2023-07-24T05:40:01.733Z"
   },
   {
    "duration": 122,
    "start_time": "2023-07-24T05:47:20.870Z"
   },
   {
    "duration": 116,
    "start_time": "2023-07-24T05:47:38.943Z"
   },
   {
    "duration": 121,
    "start_time": "2023-07-24T05:47:50.209Z"
   },
   {
    "duration": 143,
    "start_time": "2023-07-24T05:48:03.950Z"
   },
   {
    "duration": 145,
    "start_time": "2023-07-24T05:48:27.292Z"
   },
   {
    "duration": 118,
    "start_time": "2023-07-24T05:52:24.455Z"
   },
   {
    "duration": 170,
    "start_time": "2023-07-24T05:52:49.959Z"
   },
   {
    "duration": 136,
    "start_time": "2023-07-24T05:55:45.305Z"
   },
   {
    "duration": 15,
    "start_time": "2023-07-24T05:56:31.497Z"
   },
   {
    "duration": 1393,
    "start_time": "2023-07-25T11:18:47.246Z"
   },
   {
    "duration": 226,
    "start_time": "2023-07-25T11:18:48.841Z"
   },
   {
    "duration": 24,
    "start_time": "2023-07-25T11:18:50.138Z"
   },
   {
    "duration": 21,
    "start_time": "2023-07-25T11:18:54.113Z"
   },
   {
    "duration": 17,
    "start_time": "2023-07-25T11:18:58.307Z"
   },
   {
    "duration": 14,
    "start_time": "2023-07-25T11:18:58.802Z"
   },
   {
    "duration": 19,
    "start_time": "2023-07-25T11:18:59.746Z"
   },
   {
    "duration": 39,
    "start_time": "2023-07-25T11:19:01.701Z"
   },
   {
    "duration": 24,
    "start_time": "2023-07-25T11:19:03.911Z"
   },
   {
    "duration": 12,
    "start_time": "2023-07-25T11:19:07.950Z"
   },
   {
    "duration": 29,
    "start_time": "2023-07-25T11:19:15.900Z"
   },
   {
    "duration": 7,
    "start_time": "2023-07-25T11:19:24.546Z"
   },
   {
    "duration": 22,
    "start_time": "2023-07-25T11:19:26.808Z"
   },
   {
    "duration": 17,
    "start_time": "2023-07-25T11:19:28.031Z"
   },
   {
    "duration": 233,
    "start_time": "2023-07-25T11:19:30.441Z"
   },
   {
    "duration": 14,
    "start_time": "2023-07-25T11:19:33.005Z"
   },
   {
    "duration": 6,
    "start_time": "2023-07-25T11:19:34.100Z"
   },
   {
    "duration": 33,
    "start_time": "2023-07-25T11:19:35.044Z"
   },
   {
    "duration": 30,
    "start_time": "2023-07-25T11:19:36.364Z"
   },
   {
    "duration": 328,
    "start_time": "2023-07-25T11:19:37.834Z"
   },
   {
    "duration": 30,
    "start_time": "2023-07-25T11:19:41.527Z"
   },
   {
    "duration": 9,
    "start_time": "2023-07-25T11:19:43.392Z"
   },
   {
    "duration": 7,
    "start_time": "2023-07-25T11:19:44.410Z"
   },
   {
    "duration": 299,
    "start_time": "2023-07-25T11:19:46.036Z"
   },
   {
    "duration": 313,
    "start_time": "2023-07-25T11:19:49.760Z"
   },
   {
    "duration": 149,
    "start_time": "2023-07-25T11:19:54.720Z"
   },
   {
    "duration": 110,
    "start_time": "2023-07-25T11:36:40.829Z"
   },
   {
    "duration": 7,
    "start_time": "2023-07-25T11:36:45.035Z"
   },
   {
    "duration": 9,
    "start_time": "2023-07-25T11:36:50.512Z"
   },
   {
    "duration": 147,
    "start_time": "2023-07-25T11:39:16.702Z"
   },
   {
    "duration": 1309,
    "start_time": "2023-07-25T11:39:28.595Z"
   },
   {
    "duration": 164,
    "start_time": "2023-07-25T11:39:43.306Z"
   },
   {
    "duration": 9,
    "start_time": "2023-07-25T11:40:19.860Z"
   },
   {
    "duration": 13,
    "start_time": "2023-07-25T11:40:48.912Z"
   },
   {
    "duration": 14,
    "start_time": "2023-07-25T11:42:49.845Z"
   },
   {
    "duration": 173,
    "start_time": "2023-07-25T11:42:59.647Z"
   },
   {
    "duration": 190,
    "start_time": "2023-07-25T11:43:09.810Z"
   },
   {
    "duration": 167,
    "start_time": "2023-07-25T11:43:22.110Z"
   },
   {
    "duration": 238,
    "start_time": "2023-07-25T11:43:31.352Z"
   },
   {
    "duration": 158,
    "start_time": "2023-07-25T11:43:38.314Z"
   },
   {
    "duration": 20,
    "start_time": "2023-07-25T11:44:01.395Z"
   },
   {
    "duration": 1818,
    "start_time": "2023-07-25T11:44:11.831Z"
   },
   {
    "duration": 157,
    "start_time": "2023-07-25T11:44:17.231Z"
   },
   {
    "duration": 194,
    "start_time": "2023-07-25T11:44:48.612Z"
   },
   {
    "duration": 209,
    "start_time": "2023-07-25T11:47:43.853Z"
   },
   {
    "duration": 14,
    "start_time": "2023-07-25T11:48:02.830Z"
   },
   {
    "duration": 9,
    "start_time": "2023-07-25T11:48:22.901Z"
   },
   {
    "duration": 17,
    "start_time": "2023-07-25T11:48:55.309Z"
   },
   {
    "duration": 15,
    "start_time": "2023-07-25T11:49:00.900Z"
   },
   {
    "duration": 191,
    "start_time": "2023-07-25T11:49:13.624Z"
   },
   {
    "duration": 207,
    "start_time": "2023-07-25T11:50:19.909Z"
   },
   {
    "duration": 196,
    "start_time": "2023-07-25T11:50:25.662Z"
   },
   {
    "duration": 190,
    "start_time": "2023-07-25T11:50:55.743Z"
   },
   {
    "duration": 215,
    "start_time": "2023-07-25T11:56:02.166Z"
   },
   {
    "duration": 175,
    "start_time": "2023-07-25T11:57:06.630Z"
   },
   {
    "duration": 182,
    "start_time": "2023-07-25T11:57:22.823Z"
   },
   {
    "duration": 179,
    "start_time": "2023-07-25T11:57:32.542Z"
   },
   {
    "duration": 201,
    "start_time": "2023-07-25T11:59:10.742Z"
   },
   {
    "duration": 303,
    "start_time": "2023-07-25T11:59:13.978Z"
   },
   {
    "duration": 17,
    "start_time": "2023-07-25T12:00:11.523Z"
   },
   {
    "duration": 180,
    "start_time": "2023-07-25T12:00:20.880Z"
   },
   {
    "duration": 1277,
    "start_time": "2023-07-25T21:29:54.155Z"
   },
   {
    "duration": 107,
    "start_time": "2023-07-25T21:29:55.434Z"
   },
   {
    "duration": 14,
    "start_time": "2023-07-25T21:29:55.593Z"
   },
   {
    "duration": 13,
    "start_time": "2023-07-25T21:29:55.721Z"
   },
   {
    "duration": 13,
    "start_time": "2023-07-25T21:29:56.553Z"
   },
   {
    "duration": 53,
    "start_time": "2023-07-25T21:29:56.568Z"
   },
   {
    "duration": 29,
    "start_time": "2023-07-25T21:29:56.625Z"
   },
   {
    "duration": 37,
    "start_time": "2023-07-25T21:29:56.657Z"
   },
   {
    "duration": 8,
    "start_time": "2023-07-25T21:29:57.033Z"
   },
   {
    "duration": 13,
    "start_time": "2023-07-25T21:29:58.097Z"
   },
   {
    "duration": 16,
    "start_time": "2023-07-25T21:30:04.497Z"
   },
   {
    "duration": 6,
    "start_time": "2023-07-25T21:30:07.769Z"
   },
   {
    "duration": 17,
    "start_time": "2023-07-25T21:30:09.145Z"
   },
   {
    "duration": 14,
    "start_time": "2023-07-25T21:30:09.761Z"
   },
   {
    "duration": 194,
    "start_time": "2023-07-25T21:30:12.801Z"
   },
   {
    "duration": 10,
    "start_time": "2023-07-25T21:30:15.437Z"
   },
   {
    "duration": 4,
    "start_time": "2023-07-25T21:30:17.251Z"
   },
   {
    "duration": 24,
    "start_time": "2023-07-25T21:30:17.733Z"
   },
   {
    "duration": 27,
    "start_time": "2023-07-25T21:30:18.333Z"
   },
   {
    "duration": 331,
    "start_time": "2023-07-25T21:30:21.353Z"
   },
   {
    "duration": 25,
    "start_time": "2023-07-25T21:30:25.405Z"
   },
   {
    "duration": 8,
    "start_time": "2023-07-25T21:30:28.625Z"
   },
   {
    "duration": 5,
    "start_time": "2023-07-25T21:30:30.705Z"
   },
   {
    "duration": 269,
    "start_time": "2023-07-25T21:30:32.009Z"
   },
   {
    "duration": 213,
    "start_time": "2023-07-25T21:30:36.586Z"
   },
   {
    "duration": 130,
    "start_time": "2023-07-25T21:30:39.139Z"
   },
   {
    "duration": 134,
    "start_time": "2023-07-25T21:30:41.336Z"
   },
   {
    "duration": 132,
    "start_time": "2023-07-25T21:30:43.538Z"
   },
   {
    "duration": 15,
    "start_time": "2023-07-25T21:30:45.293Z"
   },
   {
    "duration": 99,
    "start_time": "2023-07-25T21:30:47.917Z"
   },
   {
    "duration": 175,
    "start_time": "2023-07-25T21:30:54.102Z"
   },
   {
    "duration": 167,
    "start_time": "2023-07-25T21:30:56.025Z"
   },
   {
    "duration": 3,
    "start_time": "2023-07-25T21:31:22.753Z"
   },
   {
    "duration": 252,
    "start_time": "2023-07-25T21:32:37.906Z"
   },
   {
    "duration": 165,
    "start_time": "2023-07-25T21:32:39.554Z"
   },
   {
    "duration": 15,
    "start_time": "2023-07-25T22:07:18.037Z"
   },
   {
    "duration": 113,
    "start_time": "2023-07-25T22:07:33.822Z"
   },
   {
    "duration": 15,
    "start_time": "2023-07-25T22:07:43.759Z"
   },
   {
    "duration": 17,
    "start_time": "2023-07-25T22:07:59.297Z"
   },
   {
    "duration": 127,
    "start_time": "2023-07-25T22:08:15.801Z"
   },
   {
    "duration": 18,
    "start_time": "2023-07-25T22:08:30.221Z"
   },
   {
    "duration": 17,
    "start_time": "2023-07-25T22:08:37.233Z"
   },
   {
    "duration": 271,
    "start_time": "2023-07-25T22:08:45.141Z"
   },
   {
    "duration": 255,
    "start_time": "2023-07-25T22:11:04.110Z"
   },
   {
    "duration": 10,
    "start_time": "2023-07-25T22:11:30.888Z"
   },
   {
    "duration": 15,
    "start_time": "2023-07-25T22:11:41.052Z"
   },
   {
    "duration": 9,
    "start_time": "2023-07-25T22:13:34.651Z"
   },
   {
    "duration": 25,
    "start_time": "2023-07-25T22:13:58.763Z"
   },
   {
    "duration": 4,
    "start_time": "2023-07-25T22:14:10.533Z"
   },
   {
    "duration": 2,
    "start_time": "2023-07-25T22:14:32.946Z"
   },
   {
    "duration": 4,
    "start_time": "2023-07-25T22:14:45.347Z"
   },
   {
    "duration": 14,
    "start_time": "2023-07-25T22:15:28.060Z"
   },
   {
    "duration": 124,
    "start_time": "2023-07-25T22:16:17.205Z"
   },
   {
    "duration": 3,
    "start_time": "2023-07-25T22:16:36.750Z"
   },
   {
    "duration": 4,
    "start_time": "2023-07-25T22:16:45.714Z"
   },
   {
    "duration": 4,
    "start_time": "2023-07-25T22:18:31.206Z"
   },
   {
    "duration": 107,
    "start_time": "2023-07-25T22:18:40.741Z"
   },
   {
    "duration": 12,
    "start_time": "2023-07-25T22:19:34.293Z"
   },
   {
    "duration": 102,
    "start_time": "2023-07-25T22:21:17.425Z"
   },
   {
    "duration": 14,
    "start_time": "2023-07-25T22:22:15.502Z"
   },
   {
    "duration": 111,
    "start_time": "2023-07-25T22:22:23.334Z"
   },
   {
    "duration": 14,
    "start_time": "2023-07-25T22:22:28.553Z"
   },
   {
    "duration": 197,
    "start_time": "2023-07-25T22:22:31.347Z"
   },
   {
    "duration": 16,
    "start_time": "2023-07-25T22:22:49.762Z"
   },
   {
    "duration": 106,
    "start_time": "2023-07-25T22:22:51.215Z"
   },
   {
    "duration": 13,
    "start_time": "2023-07-25T22:23:32.893Z"
   },
   {
    "duration": 104,
    "start_time": "2023-07-25T22:24:11.425Z"
   },
   {
    "duration": 14,
    "start_time": "2023-07-25T22:27:50.245Z"
   },
   {
    "duration": 13,
    "start_time": "2023-07-25T22:28:50.197Z"
   },
   {
    "duration": 22,
    "start_time": "2023-07-25T22:29:22.593Z"
   },
   {
    "duration": 9,
    "start_time": "2023-07-25T22:34:19.705Z"
   },
   {
    "duration": 12,
    "start_time": "2023-07-25T22:34:25.853Z"
   },
   {
    "duration": 13,
    "start_time": "2023-07-25T22:35:11.337Z"
   },
   {
    "duration": 4,
    "start_time": "2023-07-25T22:37:11.521Z"
   },
   {
    "duration": 11,
    "start_time": "2023-07-25T22:38:17.165Z"
   },
   {
    "duration": 8,
    "start_time": "2023-07-25T22:39:23.993Z"
   },
   {
    "duration": 13,
    "start_time": "2023-07-25T22:39:37.861Z"
   },
   {
    "duration": 14,
    "start_time": "2023-07-25T22:39:49.893Z"
   },
   {
    "duration": 4,
    "start_time": "2023-07-25T22:40:19.704Z"
   },
   {
    "duration": 13,
    "start_time": "2023-07-25T22:40:29.661Z"
   },
   {
    "duration": 1616,
    "start_time": "2023-07-26T19:27:20.899Z"
   },
   {
    "duration": 347,
    "start_time": "2023-07-26T19:27:22.521Z"
   },
   {
    "duration": 28,
    "start_time": "2023-07-26T19:27:22.870Z"
   },
   {
    "duration": 25,
    "start_time": "2023-07-26T19:27:24.228Z"
   },
   {
    "duration": 43,
    "start_time": "2023-07-26T19:27:24.767Z"
   },
   {
    "duration": 12,
    "start_time": "2023-07-26T19:27:25.037Z"
   },
   {
    "duration": 27,
    "start_time": "2023-07-26T19:27:25.328Z"
   },
   {
    "duration": 46,
    "start_time": "2023-07-26T19:27:25.902Z"
   },
   {
    "duration": 18,
    "start_time": "2023-07-26T19:27:26.173Z"
   },
   {
    "duration": 16,
    "start_time": "2023-07-26T19:27:26.550Z"
   },
   {
    "duration": 14,
    "start_time": "2023-07-26T19:27:27.357Z"
   },
   {
    "duration": 14,
    "start_time": "2023-07-26T19:27:29.932Z"
   },
   {
    "duration": 36,
    "start_time": "2023-07-26T19:27:30.847Z"
   },
   {
    "duration": 23,
    "start_time": "2023-07-26T19:27:31.143Z"
   },
   {
    "duration": 265,
    "start_time": "2023-07-26T19:27:32.002Z"
   },
   {
    "duration": 16,
    "start_time": "2023-07-26T19:27:32.700Z"
   },
   {
    "duration": 7,
    "start_time": "2023-07-26T19:27:33.110Z"
   },
   {
    "duration": 42,
    "start_time": "2023-07-26T19:27:33.354Z"
   },
   {
    "duration": 43,
    "start_time": "2023-07-26T19:27:33.652Z"
   },
   {
    "duration": 472,
    "start_time": "2023-07-26T19:27:33.996Z"
   },
   {
    "duration": 38,
    "start_time": "2023-07-26T19:27:34.930Z"
   },
   {
    "duration": 16,
    "start_time": "2023-07-26T19:27:35.146Z"
   },
   {
    "duration": 4,
    "start_time": "2023-07-26T19:27:35.464Z"
   },
   {
    "duration": 23,
    "start_time": "2023-07-26T19:27:36.102Z"
   },
   {
    "duration": 4,
    "start_time": "2023-07-26T19:27:36.463Z"
   },
   {
    "duration": 387,
    "start_time": "2023-07-26T19:27:37.322Z"
   },
   {
    "duration": 260,
    "start_time": "2023-07-26T19:27:38.841Z"
   },
   {
    "duration": 188,
    "start_time": "2023-07-26T19:27:39.837Z"
   },
   {
    "duration": 204,
    "start_time": "2023-07-26T19:27:40.319Z"
   },
   {
    "duration": 147,
    "start_time": "2023-07-26T19:27:41.240Z"
   },
   {
    "duration": 44,
    "start_time": "2023-07-26T19:27:41.687Z"
   },
   {
    "duration": 5,
    "start_time": "2023-07-26T19:27:42.618Z"
   },
   {
    "duration": 270,
    "start_time": "2023-07-26T19:27:43.458Z"
   },
   {
    "duration": 266,
    "start_time": "2023-07-26T19:27:44.569Z"
   },
   {
    "duration": 19,
    "start_time": "2023-07-26T19:27:49.753Z"
   },
   {
    "duration": 274,
    "start_time": "2023-07-26T19:27:51.438Z"
   },
   {
    "duration": 34,
    "start_time": "2023-07-26T19:27:55.766Z"
   },
   {
    "duration": 152,
    "start_time": "2023-07-26T19:27:58.116Z"
   },
   {
    "duration": 40,
    "start_time": "2023-07-26T19:27:59.931Z"
   },
   {
    "duration": 30,
    "start_time": "2023-07-26T19:28:04.011Z"
   },
   {
    "duration": 13,
    "start_time": "2023-07-26T19:28:14.454Z"
   },
   {
    "duration": 23,
    "start_time": "2023-07-26T19:28:14.971Z"
   },
   {
    "duration": 160,
    "start_time": "2023-07-26T19:28:27.853Z"
   },
   {
    "duration": 159,
    "start_time": "2023-07-26T19:28:45.372Z"
   },
   {
    "duration": 29,
    "start_time": "2023-07-26T19:31:55.399Z"
   },
   {
    "duration": 15,
    "start_time": "2023-07-26T19:31:57.239Z"
   },
   {
    "duration": 12,
    "start_time": "2023-07-26T19:31:59.138Z"
   },
   {
    "duration": 24,
    "start_time": "2023-07-26T19:32:01.173Z"
   },
   {
    "duration": 19,
    "start_time": "2023-07-26T20:25:20.422Z"
   },
   {
    "duration": 188,
    "start_time": "2023-07-26T20:27:21.814Z"
   },
   {
    "duration": 198,
    "start_time": "2023-07-26T20:27:29.870Z"
   },
   {
    "duration": 170,
    "start_time": "2023-07-26T20:27:40.606Z"
   },
   {
    "duration": 11,
    "start_time": "2023-07-26T20:27:43.853Z"
   },
   {
    "duration": 34,
    "start_time": "2023-07-26T20:28:53.134Z"
   },
   {
    "duration": 9,
    "start_time": "2023-07-26T20:29:31.374Z"
   },
   {
    "duration": 13,
    "start_time": "2023-07-26T20:37:59.060Z"
   },
   {
    "duration": 9,
    "start_time": "2023-07-26T20:38:51.608Z"
   },
   {
    "duration": 14,
    "start_time": "2023-07-26T20:39:04.745Z"
   },
   {
    "duration": 16,
    "start_time": "2023-07-26T20:39:16.110Z"
   },
   {
    "duration": 11,
    "start_time": "2023-07-26T20:40:17.845Z"
   },
   {
    "duration": 16,
    "start_time": "2023-07-26T20:40:39.295Z"
   },
   {
    "duration": 13,
    "start_time": "2023-07-26T20:43:37.074Z"
   },
   {
    "duration": 9,
    "start_time": "2023-07-26T20:44:14.056Z"
   },
   {
    "duration": 8,
    "start_time": "2023-07-26T20:44:17.243Z"
   },
   {
    "duration": 9,
    "start_time": "2023-07-26T20:44:36.952Z"
   },
   {
    "duration": 1496,
    "start_time": "2023-07-26T22:41:52.495Z"
   },
   {
    "duration": 120,
    "start_time": "2023-07-26T22:41:53.995Z"
   },
   {
    "duration": 15,
    "start_time": "2023-07-26T22:41:54.116Z"
   },
   {
    "duration": 15,
    "start_time": "2023-07-26T22:41:54.133Z"
   },
   {
    "duration": 25,
    "start_time": "2023-07-26T22:41:54.149Z"
   },
   {
    "duration": 31,
    "start_time": "2023-07-26T22:41:54.176Z"
   },
   {
    "duration": 21,
    "start_time": "2023-07-26T22:41:54.210Z"
   },
   {
    "duration": 27,
    "start_time": "2023-07-26T22:41:54.233Z"
   },
   {
    "duration": 9,
    "start_time": "2023-07-26T22:41:54.261Z"
   },
   {
    "duration": 21,
    "start_time": "2023-07-26T22:41:54.295Z"
   },
   {
    "duration": 22,
    "start_time": "2023-07-26T22:41:54.318Z"
   },
   {
    "duration": 11,
    "start_time": "2023-07-26T22:41:54.504Z"
   },
   {
    "duration": 19,
    "start_time": "2023-07-26T22:41:54.603Z"
   },
   {
    "duration": 16,
    "start_time": "2023-07-26T22:41:54.632Z"
   },
   {
    "duration": 257,
    "start_time": "2023-07-26T22:41:54.775Z"
   },
   {
    "duration": 10,
    "start_time": "2023-07-26T22:41:55.034Z"
   },
   {
    "duration": 18,
    "start_time": "2023-07-26T22:41:55.045Z"
   },
   {
    "duration": 63,
    "start_time": "2023-07-26T22:41:55.065Z"
   },
   {
    "duration": 27,
    "start_time": "2023-07-26T22:41:55.130Z"
   },
   {
    "duration": 375,
    "start_time": "2023-07-26T22:41:55.159Z"
   },
   {
    "duration": 22,
    "start_time": "2023-07-26T22:41:55.537Z"
   },
   {
    "duration": 13,
    "start_time": "2023-07-26T22:41:55.561Z"
   },
   {
    "duration": 17,
    "start_time": "2023-07-26T22:41:55.575Z"
   },
   {
    "duration": 29,
    "start_time": "2023-07-26T22:41:55.594Z"
   },
   {
    "duration": 13,
    "start_time": "2023-07-26T22:41:55.625Z"
   },
   {
    "duration": 328,
    "start_time": "2023-07-26T22:41:55.639Z"
   },
   {
    "duration": 226,
    "start_time": "2023-07-26T22:41:55.969Z"
   },
   {
    "duration": 157,
    "start_time": "2023-07-26T22:41:56.197Z"
   },
   {
    "duration": 165,
    "start_time": "2023-07-26T22:41:56.357Z"
   },
   {
    "duration": 167,
    "start_time": "2023-07-26T22:41:56.524Z"
   },
   {
    "duration": 21,
    "start_time": "2023-07-26T22:41:56.694Z"
   },
   {
    "duration": 3,
    "start_time": "2023-07-26T22:41:56.717Z"
   },
   {
    "duration": 256,
    "start_time": "2023-07-26T22:41:56.722Z"
   },
   {
    "duration": 233,
    "start_time": "2023-07-26T22:41:56.980Z"
   },
   {
    "duration": 16,
    "start_time": "2023-07-26T22:41:57.214Z"
   },
   {
    "duration": 248,
    "start_time": "2023-07-26T22:41:57.231Z"
   },
   {
    "duration": 24,
    "start_time": "2023-07-26T22:41:57.481Z"
   },
   {
    "duration": 150,
    "start_time": "2023-07-26T22:41:57.507Z"
   },
   {
    "duration": 14,
    "start_time": "2023-07-26T22:41:57.659Z"
   },
   {
    "duration": 134,
    "start_time": "2023-07-26T22:41:57.675Z"
   },
   {
    "duration": 15,
    "start_time": "2023-07-26T22:41:57.811Z"
   },
   {
    "duration": 27,
    "start_time": "2023-07-26T22:41:57.828Z"
   },
   {
    "duration": 51,
    "start_time": "2023-07-26T22:41:57.856Z"
   },
   {
    "duration": 38,
    "start_time": "2023-07-26T22:41:57.909Z"
   },
   {
    "duration": 34,
    "start_time": "2023-07-26T22:41:57.950Z"
   },
   {
    "duration": 13,
    "start_time": "2023-07-26T22:41:57.986Z"
   },
   {
    "duration": 28,
    "start_time": "2023-07-26T22:41:58.002Z"
   },
   {
    "duration": 11,
    "start_time": "2023-07-26T22:41:58.032Z"
   },
   {
    "duration": 10,
    "start_time": "2023-07-26T22:44:14.531Z"
   },
   {
    "duration": 279,
    "start_time": "2023-07-26T23:09:52.873Z"
   },
   {
    "duration": 244,
    "start_time": "2023-07-26T23:12:14.115Z"
   },
   {
    "duration": 1491,
    "start_time": "2023-07-27T10:25:30.722Z"
   },
   {
    "duration": 235,
    "start_time": "2023-07-27T10:25:32.215Z"
   },
   {
    "duration": 23,
    "start_time": "2023-07-27T10:25:32.453Z"
   },
   {
    "duration": 20,
    "start_time": "2023-07-27T10:25:32.488Z"
   },
   {
    "duration": 32,
    "start_time": "2023-07-27T10:25:32.511Z"
   },
   {
    "duration": 18,
    "start_time": "2023-07-27T10:25:32.545Z"
   },
   {
    "duration": 30,
    "start_time": "2023-07-27T10:25:32.585Z"
   },
   {
    "duration": 32,
    "start_time": "2023-07-27T10:25:32.617Z"
   },
   {
    "duration": 16,
    "start_time": "2023-07-27T10:25:32.651Z"
   },
   {
    "duration": 18,
    "start_time": "2023-07-27T10:25:32.680Z"
   },
   {
    "duration": 18,
    "start_time": "2023-07-27T10:25:32.700Z"
   },
   {
    "duration": 10,
    "start_time": "2023-07-27T10:25:32.720Z"
   },
   {
    "duration": 54,
    "start_time": "2023-07-27T10:25:32.732Z"
   },
   {
    "duration": 19,
    "start_time": "2023-07-27T10:25:32.788Z"
   },
   {
    "duration": 250,
    "start_time": "2023-07-27T10:25:32.809Z"
   },
   {
    "duration": 19,
    "start_time": "2023-07-27T10:25:33.066Z"
   },
   {
    "duration": 7,
    "start_time": "2023-07-27T10:25:33.087Z"
   },
   {
    "duration": 39,
    "start_time": "2023-07-27T10:25:33.095Z"
   },
   {
    "duration": 52,
    "start_time": "2023-07-27T10:25:33.136Z"
   },
   {
    "duration": 359,
    "start_time": "2023-07-27T10:25:33.190Z"
   },
   {
    "duration": 29,
    "start_time": "2023-07-27T10:25:33.551Z"
   },
   {
    "duration": 12,
    "start_time": "2023-07-27T10:25:33.581Z"
   },
   {
    "duration": 4,
    "start_time": "2023-07-27T10:25:33.594Z"
   },
   {
    "duration": 16,
    "start_time": "2023-07-27T10:25:33.600Z"
   },
   {
    "duration": 11,
    "start_time": "2023-07-27T10:25:33.618Z"
   },
   {
    "duration": 336,
    "start_time": "2023-07-27T10:25:33.631Z"
   },
   {
    "duration": 269,
    "start_time": "2023-07-27T10:25:33.973Z"
   },
   {
    "duration": 160,
    "start_time": "2023-07-27T10:25:34.245Z"
   },
   {
    "duration": 169,
    "start_time": "2023-07-27T10:25:34.407Z"
   },
   {
    "duration": 153,
    "start_time": "2023-07-27T10:25:34.580Z"
   },
   {
    "duration": 17,
    "start_time": "2023-07-27T10:25:34.735Z"
   },
   {
    "duration": 49,
    "start_time": "2023-07-27T10:25:34.768Z"
   },
   {
    "duration": 209,
    "start_time": "2023-07-27T10:25:34.819Z"
   },
   {
    "duration": 210,
    "start_time": "2023-07-27T10:25:35.030Z"
   },
   {
    "duration": 15,
    "start_time": "2023-07-27T10:25:35.242Z"
   },
   {
    "duration": 250,
    "start_time": "2023-07-27T10:25:35.272Z"
   },
   {
    "duration": 16,
    "start_time": "2023-07-27T10:25:35.523Z"
   },
   {
    "duration": 145,
    "start_time": "2023-07-27T10:25:35.541Z"
   },
   {
    "duration": 16,
    "start_time": "2023-07-27T10:25:35.687Z"
   },
   {
    "duration": 150,
    "start_time": "2023-07-27T10:25:35.705Z"
   },
   {
    "duration": 23,
    "start_time": "2023-07-27T10:25:35.857Z"
   },
   {
    "duration": 29,
    "start_time": "2023-07-27T10:25:35.884Z"
   },
   {
    "duration": 66,
    "start_time": "2023-07-27T10:25:35.915Z"
   },
   {
    "duration": 109,
    "start_time": "2023-07-27T10:25:35.983Z"
   },
   {
    "duration": 42,
    "start_time": "2023-07-27T10:25:36.094Z"
   },
   {
    "duration": 41,
    "start_time": "2023-07-27T10:25:36.138Z"
   },
   {
    "duration": 25,
    "start_time": "2023-07-27T10:25:36.182Z"
   },
   {
    "duration": 36,
    "start_time": "2023-07-27T10:25:36.208Z"
   },
   {
    "duration": 39,
    "start_time": "2023-07-27T10:31:31.160Z"
   },
   {
    "duration": 22,
    "start_time": "2023-07-27T11:28:38.612Z"
   },
   {
    "duration": 19,
    "start_time": "2023-07-27T11:28:48.391Z"
   },
   {
    "duration": 149,
    "start_time": "2023-07-27T11:28:53.046Z"
   },
   {
    "duration": 16,
    "start_time": "2023-07-27T11:28:59.897Z"
   },
   {
    "duration": 16,
    "start_time": "2023-07-27T11:44:11.697Z"
   },
   {
    "duration": 18,
    "start_time": "2023-07-27T11:44:31.982Z"
   },
   {
    "duration": 15,
    "start_time": "2023-07-27T11:44:58.348Z"
   },
   {
    "duration": 20,
    "start_time": "2023-07-27T11:45:27.008Z"
   },
   {
    "duration": 190,
    "start_time": "2023-07-27T11:50:05.291Z"
   },
   {
    "duration": 209,
    "start_time": "2023-07-27T11:50:13.659Z"
   },
   {
    "duration": 4,
    "start_time": "2023-07-27T11:50:39.587Z"
   },
   {
    "duration": 67,
    "start_time": "2023-07-27T11:50:39.650Z"
   },
   {
    "duration": 15,
    "start_time": "2023-07-27T11:50:39.719Z"
   },
   {
    "duration": 19,
    "start_time": "2023-07-27T11:50:39.814Z"
   },
   {
    "duration": 17,
    "start_time": "2023-07-27T11:50:39.890Z"
   },
   {
    "duration": 10,
    "start_time": "2023-07-27T11:50:39.916Z"
   },
   {
    "duration": 18,
    "start_time": "2023-07-27T11:50:39.954Z"
   },
   {
    "duration": 24,
    "start_time": "2023-07-27T11:50:40.407Z"
   },
   {
    "duration": 11,
    "start_time": "2023-07-27T11:50:40.946Z"
   },
   {
    "duration": 17,
    "start_time": "2023-07-27T11:50:40.970Z"
   },
   {
    "duration": 18,
    "start_time": "2023-07-27T11:50:41.046Z"
   },
   {
    "duration": 9,
    "start_time": "2023-07-27T11:50:42.120Z"
   },
   {
    "duration": 18,
    "start_time": "2023-07-27T11:50:42.246Z"
   },
   {
    "duration": 18,
    "start_time": "2023-07-27T11:50:42.684Z"
   },
   {
    "duration": 208,
    "start_time": "2023-07-27T11:50:44.346Z"
   },
   {
    "duration": 16,
    "start_time": "2023-07-27T11:50:44.974Z"
   },
   {
    "duration": 7,
    "start_time": "2023-07-27T11:50:45.786Z"
   },
   {
    "duration": 37,
    "start_time": "2023-07-27T11:50:46.574Z"
   },
   {
    "duration": 32,
    "start_time": "2023-07-27T11:50:47.208Z"
   },
   {
    "duration": 324,
    "start_time": "2023-07-27T11:50:48.378Z"
   },
   {
    "duration": 28,
    "start_time": "2023-07-27T11:50:49.414Z"
   },
   {
    "duration": 14,
    "start_time": "2023-07-27T11:50:49.790Z"
   },
   {
    "duration": 4,
    "start_time": "2023-07-27T11:50:50.120Z"
   },
   {
    "duration": 15,
    "start_time": "2023-07-27T11:50:51.362Z"
   },
   {
    "duration": 6,
    "start_time": "2023-07-27T11:50:54.121Z"
   },
   {
    "duration": 319,
    "start_time": "2023-07-27T11:50:54.688Z"
   },
   {
    "duration": 231,
    "start_time": "2023-07-27T11:50:55.693Z"
   },
   {
    "duration": 137,
    "start_time": "2023-07-27T11:50:56.403Z"
   },
   {
    "duration": 129,
    "start_time": "2023-07-27T11:50:56.621Z"
   },
   {
    "duration": 260,
    "start_time": "2023-07-27T11:50:57.107Z"
   },
   {
    "duration": 18,
    "start_time": "2023-07-27T11:51:00.794Z"
   },
   {
    "duration": 18,
    "start_time": "2023-07-27T11:51:03.446Z"
   },
   {
    "duration": 20,
    "start_time": "2023-07-27T11:51:04.462Z"
   },
   {
    "duration": 16,
    "start_time": "2023-07-27T11:51:06.313Z"
   },
   {
    "duration": 18,
    "start_time": "2023-07-27T11:51:07.890Z"
   },
   {
    "duration": 208,
    "start_time": "2023-07-27T11:51:13.755Z"
   },
   {
    "duration": 20,
    "start_time": "2023-07-27T12:00:10.219Z"
   },
   {
    "duration": 136,
    "start_time": "2023-07-27T12:00:10.756Z"
   },
   {
    "duration": 17,
    "start_time": "2023-07-27T12:00:14.620Z"
   },
   {
    "duration": 145,
    "start_time": "2023-07-27T12:00:14.953Z"
   },
   {
    "duration": 16,
    "start_time": "2023-07-27T12:00:16.172Z"
   },
   {
    "duration": 125,
    "start_time": "2023-07-27T12:00:17.083Z"
   },
   {
    "duration": 117,
    "start_time": "2023-07-27T12:00:36.788Z"
   },
   {
    "duration": 102,
    "start_time": "2023-07-27T12:00:45.398Z"
   },
   {
    "duration": 114,
    "start_time": "2023-07-27T12:00:53.760Z"
   },
   {
    "duration": 103,
    "start_time": "2023-07-27T12:00:59.364Z"
   },
   {
    "duration": 18,
    "start_time": "2023-07-27T12:01:02.374Z"
   },
   {
    "duration": 99,
    "start_time": "2023-07-27T12:01:04.883Z"
   },
   {
    "duration": 101,
    "start_time": "2023-07-27T12:01:17.873Z"
   },
   {
    "duration": 92,
    "start_time": "2023-07-27T12:01:26.057Z"
   },
   {
    "duration": 16,
    "start_time": "2023-07-27T12:14:38.299Z"
   },
   {
    "duration": 16,
    "start_time": "2023-07-27T12:14:40.919Z"
   },
   {
    "duration": 7,
    "start_time": "2023-07-27T12:36:36.312Z"
   },
   {
    "duration": 187,
    "start_time": "2023-07-27T12:40:37.601Z"
   },
   {
    "duration": 11,
    "start_time": "2023-07-27T12:43:25.653Z"
   },
   {
    "duration": 176,
    "start_time": "2023-07-27T12:43:26.321Z"
   },
   {
    "duration": 1230,
    "start_time": "2023-07-27T16:17:48.848Z"
   },
   {
    "duration": 218,
    "start_time": "2023-07-27T16:17:50.089Z"
   },
   {
    "duration": 16,
    "start_time": "2023-07-27T16:17:50.309Z"
   },
   {
    "duration": 14,
    "start_time": "2023-07-27T16:17:50.327Z"
   },
   {
    "duration": 30,
    "start_time": "2023-07-27T16:17:50.344Z"
   },
   {
    "duration": 15,
    "start_time": "2023-07-27T16:17:50.378Z"
   },
   {
    "duration": 15,
    "start_time": "2023-07-27T16:17:50.395Z"
   },
   {
    "duration": 21,
    "start_time": "2023-07-27T16:17:50.412Z"
   },
   {
    "duration": 40,
    "start_time": "2023-07-27T16:17:50.434Z"
   },
   {
    "duration": 22,
    "start_time": "2023-07-27T16:17:50.476Z"
   },
   {
    "duration": 15,
    "start_time": "2023-07-27T16:17:50.500Z"
   },
   {
    "duration": 6,
    "start_time": "2023-07-27T16:17:50.517Z"
   },
   {
    "duration": 43,
    "start_time": "2023-07-27T16:17:50.525Z"
   },
   {
    "duration": 17,
    "start_time": "2023-07-27T16:17:50.582Z"
   },
   {
    "duration": 214,
    "start_time": "2023-07-27T16:17:50.600Z"
   },
   {
    "duration": 11,
    "start_time": "2023-07-27T16:17:50.815Z"
   },
   {
    "duration": 6,
    "start_time": "2023-07-27T16:17:50.828Z"
   },
   {
    "duration": 56,
    "start_time": "2023-07-27T16:17:50.836Z"
   },
   {
    "duration": 30,
    "start_time": "2023-07-27T16:17:50.893Z"
   },
   {
    "duration": 323,
    "start_time": "2023-07-27T16:17:50.925Z"
   },
   {
    "duration": 55,
    "start_time": "2023-07-27T16:17:51.250Z"
   },
   {
    "duration": 14,
    "start_time": "2023-07-27T16:17:51.307Z"
   },
   {
    "duration": 5,
    "start_time": "2023-07-27T16:17:51.322Z"
   },
   {
    "duration": 24,
    "start_time": "2023-07-27T16:17:51.329Z"
   },
   {
    "duration": 28,
    "start_time": "2023-07-27T16:17:51.354Z"
   },
   {
    "duration": 302,
    "start_time": "2023-07-27T16:17:51.384Z"
   },
   {
    "duration": 229,
    "start_time": "2023-07-27T16:17:51.689Z"
   },
   {
    "duration": 165,
    "start_time": "2023-07-27T16:17:51.920Z"
   },
   {
    "duration": 152,
    "start_time": "2023-07-27T16:17:52.087Z"
   },
   {
    "duration": 171,
    "start_time": "2023-07-27T16:17:52.241Z"
   },
   {
    "duration": 19,
    "start_time": "2023-07-27T16:17:52.414Z"
   },
   {
    "duration": 46,
    "start_time": "2023-07-27T16:17:52.435Z"
   },
   {
    "duration": 15,
    "start_time": "2023-07-27T16:17:52.483Z"
   },
   {
    "duration": 23,
    "start_time": "2023-07-27T16:17:52.500Z"
   },
   {
    "duration": 24,
    "start_time": "2023-07-27T16:17:52.525Z"
   },
   {
    "duration": 191,
    "start_time": "2023-07-27T16:17:52.551Z"
   },
   {
    "duration": 198,
    "start_time": "2023-07-27T16:17:52.744Z"
   },
   {
    "duration": 30,
    "start_time": "2023-07-27T16:17:52.944Z"
   },
   {
    "duration": 196,
    "start_time": "2023-07-27T16:17:52.979Z"
   },
   {
    "duration": 15,
    "start_time": "2023-07-27T16:17:53.185Z"
   },
   {
    "duration": 110,
    "start_time": "2023-07-27T16:17:53.206Z"
   },
   {
    "duration": 16,
    "start_time": "2023-07-27T16:17:53.317Z"
   },
   {
    "duration": 118,
    "start_time": "2023-07-27T16:17:53.335Z"
   },
   {
    "duration": 27,
    "start_time": "2023-07-27T16:17:53.460Z"
   },
   {
    "duration": 20,
    "start_time": "2023-07-27T16:17:53.490Z"
   },
   {
    "duration": 19,
    "start_time": "2023-07-27T16:17:53.512Z"
   },
   {
    "duration": 37,
    "start_time": "2023-07-27T16:17:53.533Z"
   },
   {
    "duration": 20,
    "start_time": "2023-07-27T16:17:53.572Z"
   },
   {
    "duration": 10,
    "start_time": "2023-07-27T16:17:53.595Z"
   },
   {
    "duration": 12,
    "start_time": "2023-07-27T16:17:53.607Z"
   },
   {
    "duration": 20,
    "start_time": "2023-07-27T16:17:53.621Z"
   },
   {
    "duration": 58,
    "start_time": "2023-07-27T20:33:28.753Z"
   },
   {
    "duration": 1210,
    "start_time": "2023-07-27T20:33:41.245Z"
   },
   {
    "duration": 122,
    "start_time": "2023-07-27T20:33:42.456Z"
   },
   {
    "duration": 14,
    "start_time": "2023-07-27T20:33:42.579Z"
   },
   {
    "duration": 24,
    "start_time": "2023-07-27T20:33:42.594Z"
   },
   {
    "duration": 11,
    "start_time": "2023-07-27T20:33:42.854Z"
   },
   {
    "duration": 8,
    "start_time": "2023-07-27T20:33:43.553Z"
   },
   {
    "duration": 14,
    "start_time": "2023-07-27T20:33:43.881Z"
   },
   {
    "duration": 24,
    "start_time": "2023-07-27T20:33:46.306Z"
   },
   {
    "duration": 9,
    "start_time": "2023-07-27T20:33:46.661Z"
   },
   {
    "duration": 13,
    "start_time": "2023-07-27T20:33:47.185Z"
   },
   {
    "duration": 21,
    "start_time": "2023-07-27T20:33:48.792Z"
   },
   {
    "duration": 7,
    "start_time": "2023-07-27T20:33:54.212Z"
   },
   {
    "duration": 9,
    "start_time": "2023-07-27T20:33:56.949Z"
   },
   {
    "duration": 9,
    "start_time": "2023-07-27T20:34:16.566Z"
   },
   {
    "duration": 6,
    "start_time": "2023-07-27T20:38:22.363Z"
   },
   {
    "duration": 19,
    "start_time": "2023-07-27T20:41:28.124Z"
   },
   {
    "duration": 18,
    "start_time": "2023-07-27T20:42:36.977Z"
   },
   {
    "duration": 15,
    "start_time": "2023-07-27T20:44:28.781Z"
   },
   {
    "duration": 2611,
    "start_time": "2023-07-27T20:44:46.511Z"
   },
   {
    "duration": 2615,
    "start_time": "2023-07-27T20:44:57.279Z"
   },
   {
    "duration": 3808,
    "start_time": "2023-07-27T20:45:07.311Z"
   },
   {
    "duration": 14,
    "start_time": "2023-07-27T20:45:12.124Z"
   },
   {
    "duration": 2133,
    "start_time": "2023-07-27T20:45:28.779Z"
   },
   {
    "duration": 0,
    "start_time": "2023-07-27T20:46:17.684Z"
   },
   {
    "duration": 15,
    "start_time": "2023-07-27T20:46:34.152Z"
   },
   {
    "duration": 16,
    "start_time": "2023-07-27T20:46:43.159Z"
   },
   {
    "duration": 1955,
    "start_time": "2023-07-27T20:46:51.611Z"
   },
   {
    "duration": 17,
    "start_time": "2023-07-27T20:47:02.125Z"
   },
   {
    "duration": 2094,
    "start_time": "2023-07-27T20:47:20.917Z"
   },
   {
    "duration": 16,
    "start_time": "2023-07-27T20:47:46.812Z"
   },
   {
    "duration": 16,
    "start_time": "2023-07-27T20:47:50.818Z"
   },
   {
    "duration": 10,
    "start_time": "2023-07-27T21:10:25.546Z"
   },
   {
    "duration": 14,
    "start_time": "2023-07-27T21:10:32.138Z"
   },
   {
    "duration": 9,
    "start_time": "2023-07-27T21:12:19.969Z"
   },
   {
    "duration": 9,
    "start_time": "2023-07-27T21:14:59.045Z"
   },
   {
    "duration": 14,
    "start_time": "2023-07-27T21:15:03.391Z"
   },
   {
    "duration": 8,
    "start_time": "2023-07-27T21:15:12.384Z"
   },
   {
    "duration": 11,
    "start_time": "2023-07-27T21:15:18.006Z"
   },
   {
    "duration": 5,
    "start_time": "2023-07-27T21:16:20.537Z"
   },
   {
    "duration": 22,
    "start_time": "2023-07-27T21:16:46.194Z"
   },
   {
    "duration": 15,
    "start_time": "2023-07-27T21:16:58.745Z"
   },
   {
    "duration": 13,
    "start_time": "2023-07-27T21:17:23.378Z"
   },
   {
    "duration": 15,
    "start_time": "2023-07-27T21:17:32.094Z"
   },
   {
    "duration": 2,
    "start_time": "2023-07-27T21:17:51.067Z"
   },
   {
    "duration": 71,
    "start_time": "2023-07-27T21:17:51.690Z"
   },
   {
    "duration": 13,
    "start_time": "2023-07-27T21:17:51.845Z"
   },
   {
    "duration": 12,
    "start_time": "2023-07-27T21:17:53.180Z"
   },
   {
    "duration": 12,
    "start_time": "2023-07-27T21:17:53.737Z"
   },
   {
    "duration": 8,
    "start_time": "2023-07-27T21:17:53.941Z"
   },
   {
    "duration": 16,
    "start_time": "2023-07-27T21:17:54.103Z"
   },
   {
    "duration": 18,
    "start_time": "2023-07-27T21:17:54.947Z"
   },
   {
    "duration": 11,
    "start_time": "2023-07-27T21:17:56.086Z"
   },
   {
    "duration": 11,
    "start_time": "2023-07-27T21:17:56.411Z"
   },
   {
    "duration": 12,
    "start_time": "2023-07-27T21:17:56.855Z"
   },
   {
    "duration": 7,
    "start_time": "2023-07-27T21:17:59.111Z"
   },
   {
    "duration": 16,
    "start_time": "2023-07-27T21:18:00.711Z"
   },
   {
    "duration": 8,
    "start_time": "2023-07-27T21:18:03.753Z"
   },
   {
    "duration": 21,
    "start_time": "2023-07-27T21:18:06.293Z"
   },
   {
    "duration": 14,
    "start_time": "2023-07-27T21:18:37.894Z"
   },
   {
    "duration": 3,
    "start_time": "2023-07-27T21:18:47.678Z"
   },
   {
    "duration": 70,
    "start_time": "2023-07-27T21:18:48.272Z"
   },
   {
    "duration": 11,
    "start_time": "2023-07-27T21:18:48.571Z"
   },
   {
    "duration": 12,
    "start_time": "2023-07-27T21:18:49.241Z"
   },
   {
    "duration": 12,
    "start_time": "2023-07-27T21:18:49.949Z"
   },
   {
    "duration": 8,
    "start_time": "2023-07-27T21:18:50.314Z"
   },
   {
    "duration": 21,
    "start_time": "2023-07-27T21:18:50.588Z"
   },
   {
    "duration": 30,
    "start_time": "2023-07-27T21:18:50.983Z"
   },
   {
    "duration": 8,
    "start_time": "2023-07-27T21:18:51.176Z"
   },
   {
    "duration": 20,
    "start_time": "2023-07-27T21:18:51.894Z"
   },
   {
    "duration": 14,
    "start_time": "2023-07-27T21:18:52.911Z"
   },
   {
    "duration": 5,
    "start_time": "2023-07-27T21:18:57.341Z"
   },
   {
    "duration": 15,
    "start_time": "2023-07-27T21:21:21.575Z"
   },
   {
    "duration": 8,
    "start_time": "2023-07-27T21:21:26.788Z"
   },
   {
    "duration": 13,
    "start_time": "2023-07-27T21:21:29.376Z"
   },
   {
    "duration": 10,
    "start_time": "2023-07-27T21:22:09.941Z"
   },
   {
    "duration": 12,
    "start_time": "2023-07-27T21:22:55.044Z"
   },
   {
    "duration": 11,
    "start_time": "2023-07-27T21:23:21.740Z"
   },
   {
    "duration": 13,
    "start_time": "2023-07-27T21:38:22.810Z"
   },
   {
    "duration": 12,
    "start_time": "2023-07-27T21:38:23.542Z"
   },
   {
    "duration": 174,
    "start_time": "2023-07-27T21:38:26.800Z"
   },
   {
    "duration": 8,
    "start_time": "2023-07-27T21:38:29.890Z"
   },
   {
    "duration": 5,
    "start_time": "2023-07-27T21:38:31.681Z"
   },
   {
    "duration": 21,
    "start_time": "2023-07-27T21:38:32.143Z"
   },
   {
    "duration": 25,
    "start_time": "2023-07-27T21:38:32.547Z"
   },
   {
    "duration": 271,
    "start_time": "2023-07-27T21:38:32.971Z"
   },
   {
    "duration": 156,
    "start_time": "2023-07-27T21:40:36.955Z"
   },
   {
    "duration": 152,
    "start_time": "2023-07-27T21:40:48.285Z"
   },
   {
    "duration": 345,
    "start_time": "2023-07-27T21:42:17.970Z"
   },
   {
    "duration": 336,
    "start_time": "2023-07-27T21:42:54.570Z"
   },
   {
    "duration": 467,
    "start_time": "2023-07-27T21:43:05.671Z"
   },
   {
    "duration": 340,
    "start_time": "2023-07-27T21:43:45.398Z"
   },
   {
    "duration": 97,
    "start_time": "2023-07-27T21:44:04.445Z"
   },
   {
    "duration": 331,
    "start_time": "2023-07-27T21:45:22.075Z"
   },
   {
    "duration": 271,
    "start_time": "2023-07-27T21:45:31.461Z"
   },
   {
    "duration": 293,
    "start_time": "2023-07-27T21:45:55.896Z"
   },
   {
    "duration": 259,
    "start_time": "2023-07-27T21:46:14.986Z"
   },
   {
    "duration": 269,
    "start_time": "2023-07-27T21:46:27.976Z"
   },
   {
    "duration": 278,
    "start_time": "2023-07-27T21:47:01.361Z"
   },
   {
    "duration": 311,
    "start_time": "2023-07-27T21:47:19.687Z"
   },
   {
    "duration": 20,
    "start_time": "2023-07-27T21:51:30.651Z"
   },
   {
    "duration": 10,
    "start_time": "2023-07-27T21:51:31.943Z"
   },
   {
    "duration": 3,
    "start_time": "2023-07-27T21:51:32.180Z"
   },
   {
    "duration": 9,
    "start_time": "2023-07-27T21:51:33.010Z"
   },
   {
    "duration": 4,
    "start_time": "2023-07-27T21:51:33.260Z"
   },
   {
    "duration": 238,
    "start_time": "2023-07-27T21:51:33.700Z"
   },
   {
    "duration": 177,
    "start_time": "2023-07-27T21:51:37.110Z"
   },
   {
    "duration": 12,
    "start_time": "2023-07-27T21:56:13.149Z"
   },
   {
    "duration": 3,
    "start_time": "2023-07-27T21:57:16.900Z"
   },
   {
    "duration": 58,
    "start_time": "2023-07-27T21:57:17.005Z"
   },
   {
    "duration": 11,
    "start_time": "2023-07-27T21:57:17.064Z"
   },
   {
    "duration": 12,
    "start_time": "2023-07-27T21:57:17.195Z"
   },
   {
    "duration": 11,
    "start_time": "2023-07-27T21:57:17.268Z"
   },
   {
    "duration": 7,
    "start_time": "2023-07-27T21:57:17.299Z"
   },
   {
    "duration": 12,
    "start_time": "2023-07-27T21:57:17.344Z"
   },
   {
    "duration": 18,
    "start_time": "2023-07-27T21:57:17.404Z"
   },
   {
    "duration": 8,
    "start_time": "2023-07-27T21:57:17.435Z"
   },
   {
    "duration": 10,
    "start_time": "2023-07-27T21:57:17.469Z"
   },
   {
    "duration": 12,
    "start_time": "2023-07-27T21:57:17.539Z"
   },
   {
    "duration": 6,
    "start_time": "2023-07-27T21:57:17.836Z"
   },
   {
    "duration": 15,
    "start_time": "2023-07-27T21:57:17.915Z"
   },
   {
    "duration": 8,
    "start_time": "2023-07-27T21:57:18.005Z"
   },
   {
    "duration": 16,
    "start_time": "2023-07-27T21:57:18.040Z"
   },
   {
    "duration": 10,
    "start_time": "2023-07-27T21:57:18.058Z"
   },
   {
    "duration": 13,
    "start_time": "2023-07-27T21:57:18.109Z"
   },
   {
    "duration": 14,
    "start_time": "2023-07-27T21:57:18.189Z"
   },
   {
    "duration": 11,
    "start_time": "2023-07-27T21:57:18.230Z"
   },
   {
    "duration": 154,
    "start_time": "2023-07-27T21:57:18.350Z"
   },
   {
    "duration": 10,
    "start_time": "2023-07-27T21:57:18.506Z"
   },
   {
    "duration": 4,
    "start_time": "2023-07-27T21:57:18.555Z"
   },
   {
    "duration": 22,
    "start_time": "2023-07-27T21:57:18.614Z"
   },
   {
    "duration": 26,
    "start_time": "2023-07-27T21:57:18.675Z"
   },
   {
    "duration": 272,
    "start_time": "2023-07-27T21:57:18.759Z"
   },
   {
    "duration": 22,
    "start_time": "2023-07-27T21:57:19.033Z"
   },
   {
    "duration": 11,
    "start_time": "2023-07-27T21:57:19.056Z"
   },
   {
    "duration": 11,
    "start_time": "2023-07-27T21:57:19.069Z"
   },
   {
    "duration": 8,
    "start_time": "2023-07-27T21:57:19.100Z"
   },
   {
    "duration": 4,
    "start_time": "2023-07-27T21:57:19.149Z"
   },
   {
    "duration": 242,
    "start_time": "2023-07-27T21:57:19.204Z"
   },
   {
    "duration": 11,
    "start_time": "2023-07-27T21:57:19.447Z"
   },
   {
    "duration": 0,
    "start_time": "2023-07-27T21:57:19.459Z"
   },
   {
    "duration": 134,
    "start_time": "2023-07-27T21:57:19.469Z"
   },
   {
    "duration": 131,
    "start_time": "2023-07-27T21:57:19.605Z"
   },
   {
    "duration": 14,
    "start_time": "2023-07-27T21:57:19.738Z"
   },
   {
    "duration": 13,
    "start_time": "2023-07-27T21:57:19.754Z"
   },
   {
    "duration": 36,
    "start_time": "2023-07-27T21:57:19.768Z"
   },
   {
    "duration": 13,
    "start_time": "2023-07-27T21:57:19.806Z"
   },
   {
    "duration": 13,
    "start_time": "2023-07-27T21:57:19.820Z"
   },
   {
    "duration": 200,
    "start_time": "2023-07-27T21:59:54.678Z"
   },
   {
    "duration": 491,
    "start_time": "2023-07-27T22:00:07.508Z"
   },
   {
    "duration": 13,
    "start_time": "2023-07-27T22:02:38.551Z"
   },
   {
    "duration": 10,
    "start_time": "2023-07-27T22:03:05.573Z"
   },
   {
    "duration": 188,
    "start_time": "2023-07-27T22:03:09.183Z"
   },
   {
    "duration": 13,
    "start_time": "2023-07-27T22:05:22.415Z"
   },
   {
    "duration": 8,
    "start_time": "2023-07-27T22:05:33.358Z"
   },
   {
    "duration": 13,
    "start_time": "2023-07-27T22:05:37.585Z"
   },
   {
    "duration": 99,
    "start_time": "2023-07-27T22:06:05.171Z"
   },
   {
    "duration": 14,
    "start_time": "2023-07-27T22:06:10.144Z"
   },
   {
    "duration": 237,
    "start_time": "2023-07-27T22:08:47.709Z"
   },
   {
    "duration": 13,
    "start_time": "2023-07-27T22:09:28.742Z"
   },
   {
    "duration": 15,
    "start_time": "2023-07-27T22:09:49.616Z"
   },
   {
    "duration": 219,
    "start_time": "2023-07-27T22:09:59.352Z"
   },
   {
    "duration": 19,
    "start_time": "2023-07-27T22:10:47.016Z"
   },
   {
    "duration": 183,
    "start_time": "2023-07-27T22:10:57.169Z"
   },
   {
    "duration": 120,
    "start_time": "2023-07-27T22:13:58.953Z"
   },
   {
    "duration": 109,
    "start_time": "2023-07-27T22:14:57.707Z"
   },
   {
    "duration": 111,
    "start_time": "2023-07-27T22:15:38.140Z"
   },
   {
    "duration": 124,
    "start_time": "2023-07-27T22:18:10.617Z"
   },
   {
    "duration": 159,
    "start_time": "2023-07-27T22:19:15.241Z"
   },
   {
    "duration": 240,
    "start_time": "2023-07-27T22:19:16.517Z"
   },
   {
    "duration": 139,
    "start_time": "2023-07-27T22:30:50.233Z"
   },
   {
    "duration": 149,
    "start_time": "2023-07-27T22:31:48.535Z"
   },
   {
    "duration": 139,
    "start_time": "2023-07-27T22:31:57.895Z"
   },
   {
    "duration": 14,
    "start_time": "2023-07-27T22:33:06.402Z"
   },
   {
    "duration": 195,
    "start_time": "2023-07-27T22:34:58.730Z"
   },
   {
    "duration": 3388,
    "start_time": "2023-07-27T22:35:38.447Z"
   },
   {
    "duration": 138,
    "start_time": "2023-07-27T22:35:51.706Z"
   },
   {
    "duration": 250,
    "start_time": "2023-07-27T22:39:09.252Z"
   },
   {
    "duration": 2036,
    "start_time": "2023-07-27T22:39:35.492Z"
   },
   {
    "duration": 3173,
    "start_time": "2023-07-27T22:41:16.642Z"
   },
   {
    "duration": 5,
    "start_time": "2023-07-27T22:41:22.702Z"
   },
   {
    "duration": 3,
    "start_time": "2023-07-27T22:41:33.663Z"
   },
   {
    "duration": 239,
    "start_time": "2023-07-27T22:41:56.554Z"
   },
   {
    "duration": 316,
    "start_time": "2023-07-27T22:42:13.142Z"
   },
   {
    "duration": 17,
    "start_time": "2023-07-27T22:42:43.631Z"
   },
   {
    "duration": 17,
    "start_time": "2023-07-27T22:42:57.632Z"
   },
   {
    "duration": 8,
    "start_time": "2023-07-27T22:45:22.573Z"
   },
   {
    "duration": 8,
    "start_time": "2023-07-27T22:45:34.237Z"
   },
   {
    "duration": 24,
    "start_time": "2023-07-27T22:45:47.860Z"
   },
   {
    "duration": 259,
    "start_time": "2023-07-27T22:46:23.052Z"
   },
   {
    "duration": 263,
    "start_time": "2023-07-27T22:47:41.011Z"
   },
   {
    "duration": 276,
    "start_time": "2023-07-27T22:48:06.039Z"
   },
   {
    "duration": 278,
    "start_time": "2023-07-27T22:49:34.088Z"
   },
   {
    "duration": 128,
    "start_time": "2023-07-27T22:49:39.388Z"
   },
   {
    "duration": 279,
    "start_time": "2023-07-27T22:49:43.178Z"
   },
   {
    "duration": 218,
    "start_time": "2023-07-27T22:50:45.983Z"
   },
   {
    "duration": 13,
    "start_time": "2023-07-27T22:50:54.372Z"
   },
   {
    "duration": 109,
    "start_time": "2023-07-27T22:51:16.518Z"
   },
   {
    "duration": 7,
    "start_time": "2023-07-27T22:51:34.918Z"
   },
   {
    "duration": 12,
    "start_time": "2023-07-27T22:51:39.288Z"
   },
   {
    "duration": 121,
    "start_time": "2023-07-27T22:51:39.798Z"
   },
   {
    "duration": 12,
    "start_time": "2023-07-27T22:51:42.155Z"
   },
   {
    "duration": 110,
    "start_time": "2023-07-27T22:51:52.466Z"
   },
   {
    "duration": 128,
    "start_time": "2023-07-27T22:51:55.855Z"
   },
   {
    "duration": 116,
    "start_time": "2023-07-27T22:52:00.645Z"
   },
   {
    "duration": 113,
    "start_time": "2023-07-27T22:52:05.495Z"
   },
   {
    "duration": 129,
    "start_time": "2023-07-27T22:52:15.931Z"
   },
   {
    "duration": 7,
    "start_time": "2023-07-27T22:52:51.883Z"
   },
   {
    "duration": 105,
    "start_time": "2023-07-27T22:53:14.633Z"
   },
   {
    "duration": 108,
    "start_time": "2023-07-27T22:53:20.293Z"
   },
   {
    "duration": 129,
    "start_time": "2023-07-27T22:53:40.991Z"
   },
   {
    "duration": 114,
    "start_time": "2023-07-27T22:54:07.838Z"
   },
   {
    "duration": 107,
    "start_time": "2023-07-27T22:54:13.097Z"
   },
   {
    "duration": 107,
    "start_time": "2023-07-27T22:54:31.132Z"
   },
   {
    "duration": 9,
    "start_time": "2023-07-27T22:55:29.162Z"
   },
   {
    "duration": 13,
    "start_time": "2023-07-27T22:55:33.777Z"
   },
   {
    "duration": 188,
    "start_time": "2023-07-27T22:55:34.298Z"
   },
   {
    "duration": 51,
    "start_time": "2023-07-31T12:01:56.656Z"
   },
   {
    "duration": 9,
    "start_time": "2023-07-31T12:02:02.250Z"
   },
   {
    "duration": 8,
    "start_time": "2023-07-31T12:02:02.358Z"
   },
   {
    "duration": 8,
    "start_time": "2023-07-31T12:02:02.399Z"
   },
   {
    "duration": 7,
    "start_time": "2023-07-31T12:02:02.458Z"
   },
   {
    "duration": 7,
    "start_time": "2023-07-31T12:02:02.548Z"
   },
   {
    "duration": 6,
    "start_time": "2023-07-31T12:02:02.643Z"
   },
   {
    "duration": 9,
    "start_time": "2023-07-31T12:02:02.663Z"
   },
   {
    "duration": 5,
    "start_time": "2023-07-31T12:02:02.691Z"
   },
   {
    "duration": 8,
    "start_time": "2023-07-31T12:02:02.747Z"
   },
   {
    "duration": 1329,
    "start_time": "2023-07-31T12:02:08.616Z"
   },
   {
    "duration": 123,
    "start_time": "2023-07-31T12:02:09.948Z"
   },
   {
    "duration": 16,
    "start_time": "2023-07-31T12:02:10.073Z"
   },
   {
    "duration": 27,
    "start_time": "2023-07-31T12:02:10.091Z"
   },
   {
    "duration": 35,
    "start_time": "2023-07-31T12:02:10.120Z"
   },
   {
    "duration": 12,
    "start_time": "2023-07-31T12:02:10.157Z"
   },
   {
    "duration": 19,
    "start_time": "2023-07-31T12:02:10.171Z"
   },
   {
    "duration": 26,
    "start_time": "2023-07-31T12:02:10.192Z"
   },
   {
    "duration": 9,
    "start_time": "2023-07-31T12:02:10.220Z"
   },
   {
    "duration": 14,
    "start_time": "2023-07-31T12:02:10.253Z"
   },
   {
    "duration": 16,
    "start_time": "2023-07-31T12:02:10.269Z"
   },
   {
    "duration": 13,
    "start_time": "2023-07-31T12:02:10.287Z"
   },
   {
    "duration": 30,
    "start_time": "2023-07-31T12:02:10.301Z"
   },
   {
    "duration": 27,
    "start_time": "2023-07-31T12:02:10.333Z"
   },
   {
    "duration": 20,
    "start_time": "2023-07-31T12:02:10.362Z"
   },
   {
    "duration": 14,
    "start_time": "2023-07-31T12:02:10.384Z"
   },
   {
    "duration": 21,
    "start_time": "2023-07-31T12:02:10.400Z"
   },
   {
    "duration": 47,
    "start_time": "2023-07-31T12:02:10.423Z"
   },
   {
    "duration": 19,
    "start_time": "2023-07-31T12:02:10.473Z"
   },
   {
    "duration": 269,
    "start_time": "2023-07-31T12:02:10.494Z"
   },
   {
    "duration": 11,
    "start_time": "2023-07-31T12:02:11.290Z"
   },
   {
    "duration": 6,
    "start_time": "2023-07-31T12:02:11.847Z"
   },
   {
    "duration": 28,
    "start_time": "2023-07-31T12:02:11.902Z"
   },
   {
    "duration": 32,
    "start_time": "2023-07-31T12:02:12.400Z"
   },
   {
    "duration": 344,
    "start_time": "2023-07-31T12:02:12.947Z"
   },
   {
    "duration": 26,
    "start_time": "2023-07-31T12:02:15.147Z"
   },
   {
    "duration": 13,
    "start_time": "2023-07-31T12:02:15.679Z"
   },
   {
    "duration": 4,
    "start_time": "2023-07-31T12:02:15.710Z"
   },
   {
    "duration": 10,
    "start_time": "2023-07-31T12:02:16.311Z"
   },
   {
    "duration": 5,
    "start_time": "2023-07-31T12:02:16.844Z"
   },
   {
    "duration": 325,
    "start_time": "2023-07-31T12:02:16.904Z"
   },
   {
    "duration": 227,
    "start_time": "2023-07-31T12:02:17.750Z"
   },
   {
    "duration": 315,
    "start_time": "2023-07-31T12:08:23.051Z"
   },
   {
    "duration": 253,
    "start_time": "2023-07-31T12:10:03.744Z"
   },
   {
    "duration": 247,
    "start_time": "2023-07-31T12:58:13.215Z"
   },
   {
    "duration": 249,
    "start_time": "2023-07-31T12:58:23.664Z"
   },
   {
    "duration": 234,
    "start_time": "2023-07-31T12:58:25.558Z"
   },
   {
    "duration": 163,
    "start_time": "2023-07-31T12:58:25.794Z"
   },
   {
    "duration": 152,
    "start_time": "2023-07-31T12:58:26.156Z"
   },
   {
    "duration": 17,
    "start_time": "2023-07-31T12:58:26.311Z"
   },
   {
    "duration": 33,
    "start_time": "2023-07-31T12:58:26.330Z"
   },
   {
    "duration": 146,
    "start_time": "2023-07-31T12:58:26.365Z"
   },
   {
    "duration": 17,
    "start_time": "2023-07-31T12:58:26.514Z"
   },
   {
    "duration": 144,
    "start_time": "2023-07-31T12:58:26.551Z"
   },
   {
    "duration": 17,
    "start_time": "2023-07-31T12:58:26.698Z"
   },
   {
    "duration": 148,
    "start_time": "2023-07-31T12:58:26.717Z"
   },
   {
    "duration": 17,
    "start_time": "2023-07-31T12:58:26.867Z"
   },
   {
    "duration": 175,
    "start_time": "2023-07-31T12:58:26.887Z"
   },
   {
    "duration": 211,
    "start_time": "2023-07-31T12:58:27.065Z"
   },
   {
    "duration": 212,
    "start_time": "2023-07-31T12:58:27.278Z"
   },
   {
    "duration": 190,
    "start_time": "2023-07-31T12:58:27.492Z"
   },
   {
    "duration": 434,
    "start_time": "2023-07-31T12:58:27.684Z"
   },
   {
    "duration": 408,
    "start_time": "2023-07-31T12:58:28.120Z"
   },
   {
    "duration": 22,
    "start_time": "2023-07-31T12:58:28.531Z"
   },
   {
    "duration": 105,
    "start_time": "2023-07-31T12:58:28.555Z"
   },
   {
    "duration": 15,
    "start_time": "2023-07-31T12:58:28.662Z"
   },
   {
    "duration": 104,
    "start_time": "2023-07-31T12:58:28.678Z"
   },
   {
    "duration": 15,
    "start_time": "2023-07-31T12:58:28.784Z"
   },
   {
    "duration": 105,
    "start_time": "2023-07-31T12:58:28.801Z"
   },
   {
    "duration": 16,
    "start_time": "2023-07-31T12:58:28.909Z"
   },
   {
    "duration": 165,
    "start_time": "2023-07-31T12:58:28.927Z"
   },
   {
    "duration": 16,
    "start_time": "2023-07-31T12:58:29.094Z"
   },
   {
    "duration": 152,
    "start_time": "2023-07-31T12:58:29.112Z"
   },
   {
    "duration": 16,
    "start_time": "2023-07-31T12:58:29.266Z"
   },
   {
    "duration": 160,
    "start_time": "2023-07-31T12:58:29.284Z"
   },
   {
    "duration": 22,
    "start_time": "2023-07-31T12:58:29.445Z"
   },
   {
    "duration": 140,
    "start_time": "2023-07-31T12:58:29.469Z"
   },
   {
    "duration": 7,
    "start_time": "2023-07-31T12:58:29.611Z"
   },
   {
    "duration": 14,
    "start_time": "2023-07-31T12:58:29.620Z"
   },
   {
    "duration": 21,
    "start_time": "2023-07-31T12:58:29.636Z"
   },
   {
    "duration": 16,
    "start_time": "2023-07-31T12:58:29.659Z"
   },
   {
    "duration": 145,
    "start_time": "2023-07-31T13:00:24.974Z"
   },
   {
    "duration": 146,
    "start_time": "2023-07-31T13:00:33.048Z"
   },
   {
    "duration": 251,
    "start_time": "2023-07-31T13:00:43.106Z"
   },
   {
    "duration": 155,
    "start_time": "2023-07-31T13:01:20.690Z"
   },
   {
    "duration": 171,
    "start_time": "2023-07-31T13:01:38.652Z"
   },
   {
    "duration": 153,
    "start_time": "2023-07-31T13:01:42.381Z"
   },
   {
    "duration": 146,
    "start_time": "2023-07-31T13:02:06.097Z"
   },
   {
    "duration": 150,
    "start_time": "2023-07-31T13:02:38.003Z"
   },
   {
    "duration": 16,
    "start_time": "2023-07-31T13:02:41.090Z"
   },
   {
    "duration": 130,
    "start_time": "2023-07-31T13:03:04.481Z"
   },
   {
    "duration": 144,
    "start_time": "2023-07-31T13:03:42.457Z"
   },
   {
    "duration": 226,
    "start_time": "2023-07-31T13:06:14.348Z"
   },
   {
    "duration": 215,
    "start_time": "2023-07-31T13:06:31.542Z"
   },
   {
    "duration": 211,
    "start_time": "2023-07-31T13:06:51.169Z"
   },
   {
    "duration": 211,
    "start_time": "2023-07-31T13:07:29.171Z"
   },
   {
    "duration": 217,
    "start_time": "2023-07-31T13:10:33.188Z"
   },
   {
    "duration": 489,
    "start_time": "2023-07-31T13:12:16.079Z"
   },
   {
    "duration": 390,
    "start_time": "2023-07-31T13:12:40.591Z"
   },
   {
    "duration": 1212,
    "start_time": "2023-07-31T16:10:16.957Z"
   },
   {
    "duration": 210,
    "start_time": "2023-07-31T16:10:18.174Z"
   },
   {
    "duration": 15,
    "start_time": "2023-07-31T16:10:18.386Z"
   },
   {
    "duration": 29,
    "start_time": "2023-07-31T16:10:18.403Z"
   },
   {
    "duration": 28,
    "start_time": "2023-07-31T16:10:18.433Z"
   },
   {
    "duration": 22,
    "start_time": "2023-07-31T16:10:18.463Z"
   },
   {
    "duration": 25,
    "start_time": "2023-07-31T16:10:18.487Z"
   },
   {
    "duration": 24,
    "start_time": "2023-07-31T16:10:18.514Z"
   },
   {
    "duration": 8,
    "start_time": "2023-07-31T16:10:18.540Z"
   },
   {
    "duration": 30,
    "start_time": "2023-07-31T16:10:18.550Z"
   },
   {
    "duration": 19,
    "start_time": "2023-07-31T16:10:18.582Z"
   },
   {
    "duration": 10,
    "start_time": "2023-07-31T16:10:18.603Z"
   },
   {
    "duration": 50,
    "start_time": "2023-07-31T16:10:18.614Z"
   },
   {
    "duration": 22,
    "start_time": "2023-07-31T16:10:18.666Z"
   },
   {
    "duration": 36,
    "start_time": "2023-07-31T16:10:18.690Z"
   },
   {
    "duration": 14,
    "start_time": "2023-07-31T16:10:18.728Z"
   },
   {
    "duration": 49,
    "start_time": "2023-07-31T16:10:18.744Z"
   },
   {
    "duration": 38,
    "start_time": "2023-07-31T16:10:18.795Z"
   },
   {
    "duration": 27,
    "start_time": "2023-07-31T16:10:18.834Z"
   },
   {
    "duration": 218,
    "start_time": "2023-07-31T16:10:18.864Z"
   },
   {
    "duration": 10,
    "start_time": "2023-07-31T16:10:19.084Z"
   },
   {
    "duration": 23,
    "start_time": "2023-07-31T16:10:19.095Z"
   },
   {
    "duration": 85,
    "start_time": "2023-07-31T16:10:19.120Z"
   },
   {
    "duration": 65,
    "start_time": "2023-07-31T16:10:19.207Z"
   },
   {
    "duration": 335,
    "start_time": "2023-07-31T16:10:19.275Z"
   },
   {
    "duration": 24,
    "start_time": "2023-07-31T16:10:19.611Z"
   },
   {
    "duration": 30,
    "start_time": "2023-07-31T16:10:19.637Z"
   },
   {
    "duration": 4,
    "start_time": "2023-07-31T16:10:19.673Z"
   },
   {
    "duration": 20,
    "start_time": "2023-07-31T16:10:19.679Z"
   },
   {
    "duration": 15,
    "start_time": "2023-07-31T16:10:19.701Z"
   },
   {
    "duration": 296,
    "start_time": "2023-07-31T16:10:19.717Z"
   },
   {
    "duration": 266,
    "start_time": "2023-07-31T16:10:20.015Z"
   },
   {
    "duration": 163,
    "start_time": "2023-07-31T16:10:20.283Z"
   },
   {
    "duration": 164,
    "start_time": "2023-07-31T16:10:20.448Z"
   },
   {
    "duration": 180,
    "start_time": "2023-07-31T16:10:20.614Z"
   },
   {
    "duration": 15,
    "start_time": "2023-07-31T16:10:20.796Z"
   },
   {
    "duration": 112,
    "start_time": "2023-07-31T16:10:20.812Z"
   },
   {
    "duration": 201,
    "start_time": "2023-07-31T16:10:20.926Z"
   },
   {
    "duration": 16,
    "start_time": "2023-07-31T16:10:21.129Z"
   },
   {
    "duration": 153,
    "start_time": "2023-07-31T16:10:21.159Z"
   },
   {
    "duration": 14,
    "start_time": "2023-07-31T16:10:21.314Z"
   },
   {
    "duration": 222,
    "start_time": "2023-07-31T16:10:21.330Z"
   },
   {
    "duration": 23,
    "start_time": "2023-07-31T16:10:21.554Z"
   },
   {
    "duration": 194,
    "start_time": "2023-07-31T16:10:21.579Z"
   },
   {
    "duration": 210,
    "start_time": "2023-07-31T16:10:21.776Z"
   },
   {
    "duration": 202,
    "start_time": "2023-07-31T16:10:21.987Z"
   },
   {
    "duration": 213,
    "start_time": "2023-07-31T16:10:22.190Z"
   },
   {
    "duration": 350,
    "start_time": "2023-07-31T16:10:22.405Z"
   },
   {
    "duration": 431,
    "start_time": "2023-07-31T16:10:22.757Z"
   },
   {
    "duration": 13,
    "start_time": "2023-07-31T16:10:23.190Z"
   },
   {
    "duration": 112,
    "start_time": "2023-07-31T16:10:23.205Z"
   },
   {
    "duration": 13,
    "start_time": "2023-07-31T16:10:23.319Z"
   },
   {
    "duration": 108,
    "start_time": "2023-07-31T16:10:23.333Z"
   },
   {
    "duration": 34,
    "start_time": "2023-07-31T16:10:23.443Z"
   },
   {
    "duration": 208,
    "start_time": "2023-07-31T16:10:23.480Z"
   },
   {
    "duration": 15,
    "start_time": "2023-07-31T16:10:23.690Z"
   },
   {
    "duration": 147,
    "start_time": "2023-07-31T16:10:23.706Z"
   },
   {
    "duration": 16,
    "start_time": "2023-07-31T16:10:23.855Z"
   },
   {
    "duration": 139,
    "start_time": "2023-07-31T16:10:23.873Z"
   },
   {
    "duration": 20,
    "start_time": "2023-07-31T16:10:24.014Z"
   },
   {
    "duration": 201,
    "start_time": "2023-07-31T16:10:24.038Z"
   },
   {
    "duration": 26,
    "start_time": "2023-07-31T16:10:24.241Z"
   },
   {
    "duration": 150,
    "start_time": "2023-07-31T16:10:24.269Z"
   },
   {
    "duration": 8,
    "start_time": "2023-07-31T16:10:24.420Z"
   },
   {
    "duration": 26,
    "start_time": "2023-07-31T16:10:24.429Z"
   },
   {
    "duration": 30,
    "start_time": "2023-07-31T16:10:24.457Z"
   },
   {
    "duration": 25,
    "start_time": "2023-07-31T16:10:24.489Z"
   }
  ],
  "kernelspec": {
   "display_name": "Python 3 (ipykernel)",
   "language": "python",
   "name": "python3"
  },
  "language_info": {
   "codemirror_mode": {
    "name": "ipython",
    "version": 3
   },
   "file_extension": ".py",
   "mimetype": "text/x-python",
   "name": "python",
   "nbconvert_exporter": "python",
   "pygments_lexer": "ipython3",
   "version": "3.9.13"
  },
  "toc": {
   "base_numbering": 1,
   "nav_menu": {},
   "number_sections": true,
   "sideBar": true,
   "skip_h1_title": true,
   "title_cell": "Table of Contents",
   "title_sidebar": "Contents",
   "toc_cell": false,
   "toc_position": {
    "height": "calc(100% - 180px)",
    "left": "10px",
    "top": "150px",
    "width": "558.188px"
   },
   "toc_section_display": true,
   "toc_window_display": true
  }
 },
 "nbformat": 4,
 "nbformat_minor": 2
}
